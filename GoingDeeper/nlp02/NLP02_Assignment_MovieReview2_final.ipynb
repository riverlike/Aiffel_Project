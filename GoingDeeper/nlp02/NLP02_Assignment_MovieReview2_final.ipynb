{
  "nbformat": 4,
  "nbformat_minor": 0,
  "metadata": {
    "colab": {
      "name": "NLP02_Assignment_MovieReview2_final.ipynb",
      "provenance": [],
      "collapsed_sections": [],
      "toc_visible": true
    },
    "kernelspec": {
      "name": "python3",
      "display_name": "Python 3"
    },
    "language_info": {
      "name": "python"
    },
    "accelerator": "GPU"
  },
  "cells": [
    {
      "cell_type": "markdown",
      "source": [
        "# SentencePiece를 활용한 영화리뷰 감정분석\n",
        "\n",
        "이번 프로젝트에서는 구글의 SentencePiece을 활용해 토크나이징을 진행해보고 이를 이전 Exploration6에서 진행했던 [네이버 영화리뷰 감정분석](https://github.com/riverlike/Aiffel_Project/blob/main/Exploration/Exp06/Exp06_Assignment_MovieReview.ipynb)에 적용해보겠다.\n",
        "\n"
      ],
      "metadata": {
        "id": "95Mb3ACQTaxk"
      }
    },
    {
      "cell_type": "code",
      "execution_count": null,
      "metadata": {
        "id": "ZWu8jJL7FWe-"
      },
      "outputs": [],
      "source": [
        "!pip install konlpy   "
      ]
    },
    {
      "cell_type": "code",
      "source": [
        "!bash <(curl -s https://raw.githubusercontent.com/konlpy/konlpy/master/scripts/mecab.sh)"
      ],
      "metadata": {
        "id": "vNQh_VrQFcMS"
      },
      "execution_count": null,
      "outputs": []
    },
    {
      "cell_type": "code",
      "source": [
        "!pip install sentencepiece"
      ],
      "metadata": {
        "id": "HsbaF3MFFgIF"
      },
      "execution_count": null,
      "outputs": []
    },
    {
      "cell_type": "code",
      "source": [
        "!tar -xzvf '/content/drive/MyDrive/Colab Notebooks/Aiffel/03_GoingDeeper/02/data/korean-english-park.train.tar.gz'"
      ],
      "metadata": {
        "colab": {
          "base_uri": "https://localhost:8080/"
        },
        "id": "o_dtCwVYFj0V",
        "outputId": "3ae7f70d-0dae-42f8-84ef-75770073a26e"
      },
      "execution_count": 4,
      "outputs": [
        {
          "output_type": "stream",
          "name": "stdout",
          "text": [
            "korean-english-park.train.en\n",
            "korean-english-park.train.ko\n"
          ]
        }
      ]
    },
    {
      "cell_type": "code",
      "source": [
        "import tensorflow as tf\n",
        "import numpy as np\n",
        "import konlpy\n",
        "import sentencepiece\n",
        "import matplotlib.pyplot as plt\n",
        "from tensorflow import keras\n",
        "from tensorflow.keras.preprocessing.sequence import pad_sequences\n",
        "\n",
        "print(tf.__version__)\n",
        "print(np.__version__)\n",
        "print(konlpy.__version__)"
      ],
      "metadata": {
        "colab": {
          "base_uri": "https://localhost:8080/"
        },
        "id": "1NAvXTI_Foc0",
        "outputId": "4533edf4-1b1a-49af-f9c3-292c0b2d156e"
      },
      "execution_count": 9,
      "outputs": [
        {
          "output_type": "stream",
          "name": "stdout",
          "text": [
            "2.8.0\n",
            "1.21.5\n",
            "0.6.0\n"
          ]
        }
      ]
    },
    {
      "cell_type": "markdown",
      "source": [
        "# SentencePiece의 활용\n",
        "---\n",
        "- 서브워드 토큰화를 위한 BPE(Byte Pair Encoding) 알고리즘과 Unigram Language Model Tokenizer를 구현한 오픈 라이브러리"
      ],
      "metadata": {
        "id": "vggXq6zLQFR5"
      }
    },
    {
      "cell_type": "markdown",
      "source": [
        "### corpus 구성\n",
        "LMS에서 정제했던 corpus를 사용하기위한 설정을 해주겠다."
      ],
      "metadata": {
        "id": "qgKCz2o8FunG"
      }
    },
    {
      "cell_type": "code",
      "source": [
        "def read_rawfile(path):\n",
        "    with open(path, \"r\") as f:\n",
        "        raw = f.read().splitlines()\n",
        "\n",
        "    print(\"Data Size - raw:\", len(raw))\n",
        "    return raw\n",
        "\n",
        "def set_corpus(raw, min_len, max_len):\n",
        "    cleaned_corpus = list(set(raw))  # set를 사용해서 중복을 제거합니다.\n",
        "    print(\"Data Size - cleaned_corpus:\", len(cleaned_corpus))\n",
        "\n",
        "    # 길이 조건에 맞는 문장만 선택합니다.\n",
        "    filtered_corpus = [s for s in cleaned_corpus if (len(s) < max_len) & (len(s) >= min_len)]\n",
        "    return filtered_corpus\n",
        "\n",
        "raw_file = '/content/korean-english-park.train.ko'\n",
        "raw = read_rawfile(raw_file)\n",
        "filtered_corpus = set_corpus(raw, 10, 150)"
      ],
      "metadata": {
        "colab": {
          "base_uri": "https://localhost:8080/"
        },
        "id": "x_AwN7reFwaU",
        "outputId": "93d15d49-5f57-4d3b-d198-8416a5815f6f"
      },
      "execution_count": 6,
      "outputs": [
        {
          "output_type": "stream",
          "name": "stdout",
          "text": [
            "Data Size - raw: 94123\n",
            "Data Size - cleaned_corpus: 77591\n"
          ]
        }
      ]
    },
    {
      "cell_type": "markdown",
      "source": [
        "korean-english-park.train.ko 의 문장 94123개중 중복을 제외하고 문장길이 10~150사이인 77,591개의 문장이 남았다. \n",
        "\n",
        "이전스텝에서 Mecab으로 진행했던 토큰화과정을 이번에는 SentencePiece를 적용해보자."
      ],
      "metadata": {
        "id": "kgr8S-CNHJBr"
      }
    },
    {
      "cell_type": "markdown",
      "source": [
        "### SentencePieceTrainer\n",
        "- train_corpus :  filtered_corpus 말뭉치를 학습하여 8000개의 단어에 고유한 정수를 부여하여 temp_file에 저장한다. \n",
        "- SentencePieceTrainer.Train\n",
        " - input : 학습시킬 파일\n",
        " - vocab_size : 단어 집합의 크기(Subword 갯수)\n",
        " - model_type : Tokeinze 방식 (unigram(default), bpe, char, word)\n",
        "- 훈련 후 생성되는 파일 \n",
        " - korean_spm.model : 단어 학습 모델\n",
        " - korean_spm.vocab : 학습된 서브워드 확인가능\n",
        " \n",
        "### SentencePieceTrainer model type\n",
        "1. Unigram : 확률기반으로 subword의 발생확률을 최대화하는 방식으로 분할\n",
        "2. BPE(Byte Pair Encoding) : 발생 빈도수를 이용해서 분할\n",
        "\n"
      ],
      "metadata": {
        "id": "5zBX_bMXHHPk"
      }
    },
    {
      "cell_type": "code",
      "source": [
        "import sentencepiece as spm\n",
        "\n",
        "def train_corpus(temp_file, filtered_corpus, prefix, vocab_size):\n",
        "    with open(temp_file, 'w') as f:\n",
        "        for row in filtered_corpus:   # 이전 스텝에서 정제했던 corpus를 활용합니다.\n",
        "            f.write(str(row) + '\\n')\n",
        "    \n",
        "    spm.SentencePieceTrainer.Train(\n",
        "        '--input={} --model_prefix={} --vocab_size={}'.format(temp_file, prefix, vocab_size)    \n",
        "    )\n",
        "\n",
        "vocab_size = 8000\n",
        "temp_file = '/content/korean-english-park.train.ko.temp'\n",
        "\n",
        "train_corpus(temp_file, filtered_corpus, 'korean_spm', vocab_size)\n"
      ],
      "metadata": {
        "id": "nfCG7xSyukuL"
      },
      "execution_count": 7,
      "outputs": []
    },
    {
      "cell_type": "markdown",
      "source": [
        "\n",
        "### korean_spm.model 모델 테스트\n",
        " - korean_spm.vocab 구성을 위해 학습했던 문장이 아닌 경우로 테스트를 진행해보자.\n",
        "\n",
        "### SentencePieceProcessor 클래스 주요함수\n",
        "- EncodeAsPieces : string으로 tokenize\n",
        "- EncodeAsIds : ids으로 tokenize\n",
        "- DecodeIds : 토큰화된 ids로 다시 문자화\n"
      ],
      "metadata": {
        "id": "i2aF68U3IHJ1"
      }
    },
    {
      "cell_type": "code",
      "source": [
        "def processorSentence(sp_model, str_sentence):        \n",
        "    # SentencePiece를 활용한 sentence -> encoding\n",
        "    tokensIDs = sp_model.EncodeAsIds(str_sentence)\n",
        "    print('tokensIDs:', tokensIDs)\n",
        "\n",
        "    # SentencePiece를 활용한 encoding -> sentence 복원\n",
        "    print('DecodeIds:', sp_model.DecodeIds(tokensIDs))\n",
        "\n",
        "    # SentencePiece를 활용한 sentence -> encoded pieces : subword\n",
        "    print('EncodeAsPieces:', sp_model.SampleEncodeAsPieces(str_sentence,1, 0.0))\n",
        "\n",
        "sp_model = spm.SentencePieceProcessor()\n",
        "sp_model.Load('korean_spm.model')\n",
        "\n",
        "processorSentence(sp_model, '아버지가방에들어가신다.')\n",
        "print('-'*80)\n",
        "processorSentence(sp_model, '엄마가죽을드신다.')\n"
      ],
      "metadata": {
        "colab": {
          "base_uri": "https://localhost:8080/"
        },
        "id": "0afpbNAXM_Ns",
        "outputId": "3aad9c78-7c7f-42d9-c519-2d363923913f"
      },
      "execution_count": 19,
      "outputs": [
        {
          "output_type": "stream",
          "name": "stdout",
          "text": [
            "tokensIDs: [1243, 11, 302, 7, 3608, 11, 287, 38, 3]\n",
            "DecodeIds: 아버지가방에들어가신다.\n",
            "EncodeAsPieces: ['▁아버지', '가', '방', '에', '들어', '가', '신', '다', '.']\n",
            "--------------------------------------------------------------------------------\n",
            "tokensIDs: [3356, 11, 6589, 5, 87, 287, 38, 3]\n",
            "DecodeIds: 엄마가죽을드신다.\n",
            "EncodeAsPieces: ['▁엄마', '가', '죽', '을', '드', '신', '다', '.']\n"
          ]
        }
      ]
    },
    {
      "cell_type": "markdown",
      "source": [
        "한국어 형태소(Mecab) 토크나이징 결과와 비교해보자."
      ],
      "metadata": {
        "id": "g6SyfP_oMIv3"
      }
    },
    {
      "cell_type": "code",
      "source": [
        "from konlpy.tag import Mecab\n",
        "tokenizer = Mecab()\n",
        "\n",
        "print(tokenizer.morphs('아버지가방에들어가신다.'))\n",
        "print('-'*80)\n",
        "print(tokenizer.morphs('엄마가죽을드신다.'))"
      ],
      "metadata": {
        "colab": {
          "base_uri": "https://localhost:8080/"
        },
        "id": "uPV0m21wMHpF",
        "outputId": "405f861e-6581-4af5-a54c-99e48ab0ef3c"
      },
      "execution_count": 11,
      "outputs": [
        {
          "output_type": "stream",
          "name": "stdout",
          "text": [
            "['아버지', '가', '방', '에', '들어가', '신다', '.']\n",
            "--------------------------------------------------------------------------------\n",
            "['엄마', '가죽', '을', '드신다', '.']\n"
          ]
        }
      ]
    },
    {
      "cell_type": "markdown",
      "source": [
        "SentencePiece는 띄워쓰기를 하지 않은 한국어 문장을 형태소분석을 한 것처럼 잘 나누고 있는 것을 알 수 있다. \n",
        " - Mecab의 경우 <가죽>을 제대로 분리하지 못한 반면 SentencePiece는 <가, 죽>으로 잘 분리하고 있다.\n",
        "\n",
        "![ㅇ](https://danzzac.com/data/mall/93/9/92379/c97fcac0681321282f787dee700f3887.jpg)\n",
        "\n",
        "\n"
      ],
      "metadata": {
        "id": "_QiFOsStMLq1"
      }
    },
    {
      "cell_type": "markdown",
      "source": [
        "## Tokenizer 함수\n",
        "- sp_tokenize 함수 \n",
        " - 말뭉치 문장에 대한 <토큰 id 리스트>를 설정 \n",
        " - vocab 사이즈가 8000이므로 index의 범위는 0~7999 이다.\n",
        "\n",
        "- set_word_index_list 함수\n",
        " - 단어사전 정의 : word_to_index, index_to_word\n"
      ],
      "metadata": {
        "id": "6sCYHvQKNV-o"
      }
    },
    {
      "cell_type": "code",
      "source": [
        "def sp_tokenize(sp_model, corpus):\n",
        "    tensor = []\n",
        "\n",
        "    for sentence in corpus:\n",
        "        tensor.append(sp_model.EncodeAsIds(sentence)) #문장별 <토큰 id 리스트> 추가\n",
        "\n",
        "    tensor = pad_sequences(tensor, padding='pre')\n",
        "    return tensor\n",
        "\n",
        "def set_word_index_list(vocab_file):   \n",
        "    with open(vocab_file, 'r') as f:\n",
        "        vocab = f.readlines()\n",
        "    \n",
        "    #해당 단어사전 딕셔너리\n",
        "    word_to_index = {}\n",
        "    index_to_word = {}\n",
        "\n",
        "    for idx, line in enumerate(vocab):\n",
        "        word = line.split('\\t')[0] \n",
        "\n",
        "        word_to_index.update({idx:word}) \n",
        "        index_to_word.update({word:idx})\n",
        "\n",
        "    return word_to_index, index_to_word\n"
      ],
      "metadata": {
        "id": "xC444eP7N4cs"
      },
      "execution_count": 34,
      "outputs": []
    },
    {
      "cell_type": "code",
      "source": [
        "# sp_tokenize : 문장을 나눈후 수치화 처리\n",
        "my_corpus = ['밥은 먹고다니냐?', '나는 밥을 먹었습니다.', '그러나 여전히 ㅠㅠ 배가 고픕니다...', ]\n",
        "tensor = sp_tokenize(sp_model, my_corpus)\n",
        "print(tensor)"
      ],
      "metadata": {
        "colab": {
          "base_uri": "https://localhost:8080/"
        },
        "id": "ofxC0amXOW7C",
        "outputId": "b052fa82-2e86-4d13-fe36-8b879120b0b3"
      },
      "execution_count": 35,
      "outputs": [
        {
          "output_type": "stream",
          "name": "stdout",
          "text": [
            "[[   0    0    0    0    0 5665   12    4 7975   14   38  145 2066  683]\n",
            " [   0    0    0    0    0    0    0 1956 5665    5    4 7975 1990    3]\n",
            " [ 107 1641  101    4    0  417   11    4   14    0 1976    3    3    3]]\n"
          ]
        }
      ]
    },
    {
      "cell_type": "code",
      "source": [
        "# 단어사전 딕셔너리\n",
        "word_to_index_sp, index_to_word_sp = set_word_index_list(\"./korean_spm.vocab\")\n",
        "len(word_to_index_sp), len(index_to_word_sp)"
      ],
      "metadata": {
        "colab": {
          "base_uri": "https://localhost:8080/"
        },
        "id": "0QlEN6Y0wzH-",
        "outputId": "891b7bd0-5289-4730-f05d-53b74ea01b9a"
      },
      "execution_count": 39,
      "outputs": [
        {
          "output_type": "execute_result",
          "data": {
            "text/plain": [
              "(8000, 8000)"
            ]
          },
          "metadata": {},
          "execution_count": 39
        }
      ]
    },
    {
      "cell_type": "markdown",
      "source": [
        "# 네이버 영화리뷰 감정 분석 문제에 SentencePiece 적용\n",
        "---\n",
        "\n",
        "1. KoNLPy 형태소 분석기(Mecab)로 네이버 영화리뷰 감정 분석 \n",
        "2. SentencePiece로 네이버 영화리뷰 감정 분석 \n",
        "3. Mecab, SentencePiece에 의한 감정 분석  결과 비교\n",
        "4. SentencePiece 모델의 model_type, vocab_size 등을 변경"
      ],
      "metadata": {
        "id": "cYDPd69lQLWL"
      }
    },
    {
      "cell_type": "markdown",
      "source": [
        "**파일 읽기 및 코퍼스 구성**\n",
        "\n",
        "- 네이버 영화리뷰 파일 읽기\n",
        " - ratings_train.txt: 150K reviews for training\n",
        " - ratings_test.txt: 50K reviews held out for testing"
      ],
      "metadata": {
        "id": "8RZYidgHRge4"
      }
    },
    {
      "cell_type": "code",
      "source": [
        "import pandas as pd\n",
        "\n",
        "def read_review_data():\n",
        "    train_data = pd.read_table('/content/drive/MyDrive/Colab Notebooks/Aiffel/03_GoingDeeper/02/data/ratings_train.txt')\n",
        "    test_data = pd.read_table('/content/drive/MyDrive/Colab Notebooks/Aiffel/03_GoingDeeper/02/data/ratings_test.txt')\n",
        "\n",
        "    print('train_data:', train_data.shape, 'test_data:', test_data.shape)\n",
        "    return train_data, test_data\n",
        "\n",
        "train_data, test_data = read_review_data()"
      ],
      "metadata": {
        "colab": {
          "base_uri": "https://localhost:8080/"
        },
        "id": "Ry7Ttx6qRsBv",
        "outputId": "bc02d4ce-bbe5-47fb-93d2-f4aa42269297"
      },
      "execution_count": 8,
      "outputs": [
        {
          "output_type": "stream",
          "name": "stdout",
          "text": [
            "train_data: (150000, 3) test_data: (50000, 3)\n"
          ]
        }
      ]
    },
    {
      "cell_type": "code",
      "source": [
        "train_data.head()"
      ],
      "metadata": {
        "colab": {
          "base_uri": "https://localhost:8080/",
          "height": 206
        },
        "id": "-cp_D2WASGzB",
        "outputId": "4cd17e78-0eaa-4251-c88f-483f390e7e0f"
      },
      "execution_count": 25,
      "outputs": [
        {
          "output_type": "execute_result",
          "data": {
            "text/plain": [
              "         id                                           document  label\n",
              "0   9976970                                아 더빙.. 진짜 짜증나네요 목소리      0\n",
              "1   3819312                  흠...포스터보고 초딩영화줄....오버연기조차 가볍지 않구나      1\n",
              "2  10265843                                  너무재밓었다그래서보는것을추천한다      0\n",
              "3   9045019                      교도소 이야기구먼 ..솔직히 재미는 없다..평점 조정      0\n",
              "4   6483659  사이몬페그의 익살스런 연기가 돋보였던 영화!스파이더맨에서 늙어보이기만 했던 커스틴 ...      1"
            ],
            "text/html": [
              "\n",
              "  <div id=\"df-8f0f0582-25f9-4a3d-80ff-970edc7026ae\">\n",
              "    <div class=\"colab-df-container\">\n",
              "      <div>\n",
              "<style scoped>\n",
              "    .dataframe tbody tr th:only-of-type {\n",
              "        vertical-align: middle;\n",
              "    }\n",
              "\n",
              "    .dataframe tbody tr th {\n",
              "        vertical-align: top;\n",
              "    }\n",
              "\n",
              "    .dataframe thead th {\n",
              "        text-align: right;\n",
              "    }\n",
              "</style>\n",
              "<table border=\"1\" class=\"dataframe\">\n",
              "  <thead>\n",
              "    <tr style=\"text-align: right;\">\n",
              "      <th></th>\n",
              "      <th>id</th>\n",
              "      <th>document</th>\n",
              "      <th>label</th>\n",
              "    </tr>\n",
              "  </thead>\n",
              "  <tbody>\n",
              "    <tr>\n",
              "      <th>0</th>\n",
              "      <td>9976970</td>\n",
              "      <td>아 더빙.. 진짜 짜증나네요 목소리</td>\n",
              "      <td>0</td>\n",
              "    </tr>\n",
              "    <tr>\n",
              "      <th>1</th>\n",
              "      <td>3819312</td>\n",
              "      <td>흠...포스터보고 초딩영화줄....오버연기조차 가볍지 않구나</td>\n",
              "      <td>1</td>\n",
              "    </tr>\n",
              "    <tr>\n",
              "      <th>2</th>\n",
              "      <td>10265843</td>\n",
              "      <td>너무재밓었다그래서보는것을추천한다</td>\n",
              "      <td>0</td>\n",
              "    </tr>\n",
              "    <tr>\n",
              "      <th>3</th>\n",
              "      <td>9045019</td>\n",
              "      <td>교도소 이야기구먼 ..솔직히 재미는 없다..평점 조정</td>\n",
              "      <td>0</td>\n",
              "    </tr>\n",
              "    <tr>\n",
              "      <th>4</th>\n",
              "      <td>6483659</td>\n",
              "      <td>사이몬페그의 익살스런 연기가 돋보였던 영화!스파이더맨에서 늙어보이기만 했던 커스틴 ...</td>\n",
              "      <td>1</td>\n",
              "    </tr>\n",
              "  </tbody>\n",
              "</table>\n",
              "</div>\n",
              "      <button class=\"colab-df-convert\" onclick=\"convertToInteractive('df-8f0f0582-25f9-4a3d-80ff-970edc7026ae')\"\n",
              "              title=\"Convert this dataframe to an interactive table.\"\n",
              "              style=\"display:none;\">\n",
              "        \n",
              "  <svg xmlns=\"http://www.w3.org/2000/svg\" height=\"24px\"viewBox=\"0 0 24 24\"\n",
              "       width=\"24px\">\n",
              "    <path d=\"M0 0h24v24H0V0z\" fill=\"none\"/>\n",
              "    <path d=\"M18.56 5.44l.94 2.06.94-2.06 2.06-.94-2.06-.94-.94-2.06-.94 2.06-2.06.94zm-11 1L8.5 8.5l.94-2.06 2.06-.94-2.06-.94L8.5 2.5l-.94 2.06-2.06.94zm10 10l.94 2.06.94-2.06 2.06-.94-2.06-.94-.94-2.06-.94 2.06-2.06.94z\"/><path d=\"M17.41 7.96l-1.37-1.37c-.4-.4-.92-.59-1.43-.59-.52 0-1.04.2-1.43.59L10.3 9.45l-7.72 7.72c-.78.78-.78 2.05 0 2.83L4 21.41c.39.39.9.59 1.41.59.51 0 1.02-.2 1.41-.59l7.78-7.78 2.81-2.81c.8-.78.8-2.07 0-2.86zM5.41 20L4 18.59l7.72-7.72 1.47 1.35L5.41 20z\"/>\n",
              "  </svg>\n",
              "      </button>\n",
              "      \n",
              "  <style>\n",
              "    .colab-df-container {\n",
              "      display:flex;\n",
              "      flex-wrap:wrap;\n",
              "      gap: 12px;\n",
              "    }\n",
              "\n",
              "    .colab-df-convert {\n",
              "      background-color: #E8F0FE;\n",
              "      border: none;\n",
              "      border-radius: 50%;\n",
              "      cursor: pointer;\n",
              "      display: none;\n",
              "      fill: #1967D2;\n",
              "      height: 32px;\n",
              "      padding: 0 0 0 0;\n",
              "      width: 32px;\n",
              "    }\n",
              "\n",
              "    .colab-df-convert:hover {\n",
              "      background-color: #E2EBFA;\n",
              "      box-shadow: 0px 1px 2px rgba(60, 64, 67, 0.3), 0px 1px 3px 1px rgba(60, 64, 67, 0.15);\n",
              "      fill: #174EA6;\n",
              "    }\n",
              "\n",
              "    [theme=dark] .colab-df-convert {\n",
              "      background-color: #3B4455;\n",
              "      fill: #D2E3FC;\n",
              "    }\n",
              "\n",
              "    [theme=dark] .colab-df-convert:hover {\n",
              "      background-color: #434B5C;\n",
              "      box-shadow: 0px 1px 3px 1px rgba(0, 0, 0, 0.15);\n",
              "      filter: drop-shadow(0px 1px 2px rgba(0, 0, 0, 0.3));\n",
              "      fill: #FFFFFF;\n",
              "    }\n",
              "  </style>\n",
              "\n",
              "      <script>\n",
              "        const buttonEl =\n",
              "          document.querySelector('#df-8f0f0582-25f9-4a3d-80ff-970edc7026ae button.colab-df-convert');\n",
              "        buttonEl.style.display =\n",
              "          google.colab.kernel.accessAllowed ? 'block' : 'none';\n",
              "\n",
              "        async function convertToInteractive(key) {\n",
              "          const element = document.querySelector('#df-8f0f0582-25f9-4a3d-80ff-970edc7026ae');\n",
              "          const dataTable =\n",
              "            await google.colab.kernel.invokeFunction('convertToInteractive',\n",
              "                                                     [key], {});\n",
              "          if (!dataTable) return;\n",
              "\n",
              "          const docLinkHtml = 'Like what you see? Visit the ' +\n",
              "            '<a target=\"_blank\" href=https://colab.research.google.com/notebooks/data_table.ipynb>data table notebook</a>'\n",
              "            + ' to learn more about interactive tables.';\n",
              "          element.innerHTML = '';\n",
              "          dataTable['output_type'] = 'display_data';\n",
              "          await google.colab.output.renderOutput(dataTable, element);\n",
              "          const docLink = document.createElement('div');\n",
              "          docLink.innerHTML = docLinkHtml;\n",
              "          element.appendChild(docLink);\n",
              "        }\n",
              "      </script>\n",
              "    </div>\n",
              "  </div>\n",
              "  "
            ]
          },
          "metadata": {},
          "execution_count": 25
        }
      ]
    },
    {
      "cell_type": "markdown",
      "source": [
        "## 1) KoNLPy 형태소 분석기(Mecab)로 네이버 영화리뷰 감정 분석\n",
        "\n",
        "- Exploration 6 - 네이버 영화리뷰 감성분석 요약\n",
        " - Mecab 라이브러리를 이용해 형태소 기반 토큰화를 진행\n",
        " - RNN계열의 모델(SimpleRNN, LSTM, Gru, Conv1D)들로 감정분류(긍정, 부정)를 예측하여 82%~ 85%의 정확도를 보였다."
      ],
      "metadata": {
        "id": "ezULYss5Q1nH"
      }
    },
    {
      "cell_type": "markdown",
      "source": [
        "### 데이터셋 구성및 전처리\n",
        "\n",
        "- load_data \n",
        " - 텍스트를 가공하여 숫자 인덱스로 변환된 텍스트와 word_to_index 딕셔너리 리턴\n",
        " - 한국어 토크나이저(Mecab)로 토큰화 진행\n",
        "- index_to_word 설정\n",
        " - 텍스트 분석시 사용\n",
        "- 전처리\n",
        " - 리뷰 데이터 최대길이 설정 : 60 \n",
        " - 패딩 : pre\n",
        "  "
      ],
      "metadata": {
        "id": "KDnUvA3jTToR"
      }
    },
    {
      "cell_type": "code",
      "source": [
        "from collections import Counter\n",
        "\n",
        "stopwords = ['의','가','이','은','들','는','좀','잘','걍','과','도','를','으로','자','에','와','한','하다'] #불용어\n",
        "mecab_tokenizer = Mecab()\n",
        "\n",
        "embedding_dim = 200\n",
        "vocab_size = 10000 # 어휘 사전의 크기입니다(10000개의 단어)\n",
        "max_len = 60    #문장최대길이\n",
        "\n",
        "\n",
        "def load_data(train_data, test_data, num_words):\n",
        "    # 데이터의 중복 제거\n",
        "    train_data.drop_duplicates(subset=['document'], inplace=True)\n",
        "    test_data.drop_duplicates(subset=['document'], inplace=True)\n",
        "    \n",
        "    # NaN 결측치 제거\n",
        "    train_data = train_data.dropna(how = 'any') \n",
        "    test_data = test_data.dropna(how = 'any')   \n",
        "\n",
        "    # 한국어 토크나이저로 토큰화 및 불용어(Stopwords) 제거\n",
        "    X_train = []\n",
        "    for sentence in train_data['document']:\n",
        "        temp_X = mecab_tokenizer.morphs(sentence) # 토큰화\n",
        "        temp_X = [word for word in temp_X if not word in stopwords] # 불용어 제거\n",
        "        X_train.append(temp_X)    \n",
        "    X_test = []\n",
        "    for sentence in test_data['document']:\n",
        "        temp_X = mecab_tokenizer.morphs(sentence) # 토큰화\n",
        "        temp_X = [word for word in temp_X if not word in stopwords] # 불용어 제거\n",
        "        X_test.append(temp_X)\n",
        "\n",
        "    # 사전 word_to_index 구성\n",
        "    words = np.concatenate(X_train).tolist()\n",
        "    counter = Counter(words)\n",
        "    counter = counter.most_common(num_words-4)  #사용빈도수가 높은 최상위 1만개단어 - 4개는 특수토큰\n",
        "    vocab = ['<PAD>', '<BOS>', '<EOS>', '<UNK>'] + [key for key, _ in counter] #특수토큰\n",
        "    word_to_index = {word:index for index, word in enumerate(vocab)}\n",
        "\n",
        "    # 텍스트 스트링(리뷰문장)을 word_to_index을 참고하여 인덱스 리스트로 구성\n",
        "    def wordlist_to_indexlist(wordlist):\n",
        "        return [word_to_index[word] if word in word_to_index else word_to_index['<UNK>'] for word in wordlist]\n",
        "        \n",
        "    X_train = list(map(wordlist_to_indexlist, X_train))\n",
        "    X_test = list(map(wordlist_to_indexlist, X_test))\n",
        "\n",
        "    # 전처리\n",
        "    X_train = pad_sequences(X_train, padding='pre', maxlen=max_len)\n",
        "    X_test = pad_sequences(X_test, padding='pre', maxlen=max_len)\n",
        "\n",
        "    return X_train, np.array(list(train_data['label'])), X_test, np.array(list(test_data['label'])), word_to_index\n",
        "    \n",
        "X_train, y_train, X_test, y_test, word_to_index_mc = load_data(train_data, test_data, vocab_size)\n"
      ],
      "metadata": {
        "id": "n7njStkmThrG"
      },
      "execution_count": 12,
      "outputs": []
    },
    {
      "cell_type": "markdown",
      "source": [
        "### 모델 구성 및 학습"
      ],
      "metadata": {
        "id": "FXmJiE9NVgQF"
      }
    },
    {
      "cell_type": "code",
      "source": [
        "def train(X_train, y_train):\n",
        "    model = keras.Sequential()\n",
        "    model.add(keras.layers.Embedding(vocab_size, embedding_dim))\n",
        "    model.add(keras.layers.LSTM(128))\n",
        "    model.add(keras.layers.Dense(8, activation='relu'))\n",
        "    model.add(keras.layers.Dense(1, activation='sigmoid'))\n",
        "\n",
        "    model.compile(optimizer='adam', loss='binary_crossentropy', metrics=['accuracy'])\n",
        "\n",
        "    lstm_history = model.fit(X_train, y_train, epochs=5,  validation_split=0.2)\n",
        "    return model, lstm_history\n",
        "\n",
        "model_bymecab, history_bymecab = train(X_train, y_train)"
      ],
      "metadata": {
        "colab": {
          "base_uri": "https://localhost:8080/"
        },
        "id": "Tv92tfPtVhW8",
        "outputId": "92b3279c-0095-4d22-ca72-79159ad393cb"
      },
      "execution_count": 13,
      "outputs": [
        {
          "output_type": "stream",
          "name": "stdout",
          "text": [
            "Epoch 1/5\n",
            "3655/3655 [==============================] - 44s 10ms/step - loss: 0.3651 - accuracy: 0.8381 - val_loss: 0.3191 - val_accuracy: 0.8634\n",
            "Epoch 2/5\n",
            "3655/3655 [==============================] - 36s 10ms/step - loss: 0.2810 - accuracy: 0.8801 - val_loss: 0.3310 - val_accuracy: 0.8591\n",
            "Epoch 3/5\n",
            "3655/3655 [==============================] - 33s 9ms/step - loss: 0.2341 - accuracy: 0.9029 - val_loss: 0.3274 - val_accuracy: 0.8673\n",
            "Epoch 4/5\n",
            "3655/3655 [==============================] - 36s 10ms/step - loss: 0.1894 - accuracy: 0.9228 - val_loss: 0.3510 - val_accuracy: 0.8664\n",
            "Epoch 5/5\n",
            "3655/3655 [==============================] - 41s 11ms/step - loss: 0.1496 - accuracy: 0.9408 - val_loss: 0.4052 - val_accuracy: 0.8588\n"
          ]
        }
      ]
    },
    {
      "cell_type": "markdown",
      "source": [
        "### 모델 테스트"
      ],
      "metadata": {
        "id": "Do9voi9BXx-5"
      }
    },
    {
      "cell_type": "code",
      "source": [
        "results_mecap = model_bymecab.evaluate(X_test,  y_test, verbose=2)\n",
        "print(results_mecap)"
      ],
      "metadata": {
        "colab": {
          "base_uri": "https://localhost:8080/"
        },
        "id": "M17nxbYmkNbZ",
        "outputId": "57eaaa03-064d-4bf1-c34f-977065908ec7"
      },
      "execution_count": 14,
      "outputs": [
        {
          "output_type": "stream",
          "name": "stdout",
          "text": [
            "1537/1537 - 6s - loss: 0.4014 - accuracy: 0.8596 - 6s/epoch - 4ms/step\n",
            "[0.40137678384780884, 0.8595927357673645]\n"
          ]
        }
      ]
    },
    {
      "cell_type": "markdown",
      "source": [
        "## 2) SentencePiece로 네이버 영화리뷰 감정 분석\n",
        "\n",
        "train_corpus 함수\n",
        " - 주어진 말뭉치 데이터를 학습후 토큰화하여 vocab_size 만큼 단어사전 구축\n",
        " - model_type : 토큰화 방식을 파라미터로 설정.\n",
        "  - unigram, bpe 두가지에 대해 테스트 진행해보겠다."
      ],
      "metadata": {
        "id": "RlSVnszHQ_j3"
      }
    },
    {
      "cell_type": "code",
      "source": [
        "import sentencepiece as spm\n",
        "\n",
        "def train_corpus(temp_file, filtered_corpus, prefix, vocab_size, model_type):\n",
        "    with open(temp_file, 'w') as f:\n",
        "        for row in filtered_corpus:   # 이전 스텝에서 정제했던 corpus를 활용합니다.\n",
        "            f.write(str(row) + '\\n')\n",
        "\n",
        "    # 특수토큰 미리 지정 ['<PAD>', '<BOS>', '<EOS>', '<UNK>'] \n",
        "    # model_type ='unigram' # Choose from unigram (default), bpe, char, or word\n",
        "    templates = '--input={} --model_prefix={} --vocab_size={}  --pad_id=0 --bos_id=1 --eos_id=2 --unk_id=3 --model_type={}'    \n",
        "    cmd = templates.format(temp_file, prefix, vocab_size, model_type)\n",
        "    spm.SentencePieceTrainer.Train(cmd)\n",
        "\n",
        "def sp_tokenize(sp_model, corpus):\n",
        "    tensor = []\n",
        "\n",
        "    for sentence in corpus:\n",
        "        tensor.append(sp_model.EncodeAsIds(sentence)) \n",
        "\n",
        "    tensor = pad_sequences(tensor, padding='pre', maxlen=max_len)\n",
        "    return tensor\n"
      ],
      "metadata": {
        "id": "gB_CtVbsFIOP"
      },
      "execution_count": 15,
      "outputs": []
    },
    {
      "cell_type": "code",
      "source": [
        "def load_data(train_data, test_data, num_words, model_type):\n",
        "    # 데이터의 중복 제거\n",
        "    train_data.drop_duplicates(subset=['document'], inplace=True)\n",
        "    test_data.drop_duplicates(subset=['document'], inplace=True)\n",
        "    \n",
        "    # NaN 결측치 제거\n",
        "    train_data = train_data.dropna(how = 'any') \n",
        "    test_data = test_data.dropna(how = 'any')     \n",
        "\n",
        "    # SentencePiece train\n",
        "    temp_file = '/content/movie_review.temp'    \n",
        "    train_corpus(temp_file, train_data['document'], 'movie_review', vocab_size, model_type ) # 학습이후 movie_review.model 파일과 movie_review.vocab vocabulary 파일이 생성\n",
        "    \n",
        "    sp_model = spm.SentencePieceProcessor()\n",
        "    sp_model.Load('movie_review.model')\n",
        "     \n",
        "    X_train = sp_tokenize(sp_model, train_data['document']) \n",
        "    X_test = sp_tokenize(sp_model, test_data['document'])\n",
        "\n",
        "    return X_train, np.array(list(train_data['label'])), X_test, np.array(list(test_data['label']))\n",
        "\n",
        "train_data, test_data = read_review_data()\n",
        "X_train, y_train, X_test, y_test = load_data(train_data, test_data, vocab_size, 'unigram')"
      ],
      "metadata": {
        "colab": {
          "base_uri": "https://localhost:8080/"
        },
        "id": "ysph5ga1s9py",
        "outputId": "6dad2380-afa1-4316-8c6e-bd0b46625863"
      },
      "execution_count": 16,
      "outputs": [
        {
          "output_type": "stream",
          "name": "stdout",
          "text": [
            "train_data: (150000, 3) test_data: (50000, 3)\n"
          ]
        }
      ]
    },
    {
      "cell_type": "markdown",
      "source": [
        "### 학습및 테스트"
      ],
      "metadata": {
        "id": "nuLOedxELCvQ"
      }
    },
    {
      "cell_type": "code",
      "source": [
        "model_bysp, history_bysp = train(X_train, y_train)"
      ],
      "metadata": {
        "colab": {
          "base_uri": "https://localhost:8080/"
        },
        "id": "adQeqOpDkzsO",
        "outputId": "f31a044d-3a96-4b8c-b32d-e0f625abf072"
      },
      "execution_count": 17,
      "outputs": [
        {
          "output_type": "stream",
          "name": "stdout",
          "text": [
            "Epoch 1/5\n",
            "3655/3655 [==============================] - 37s 10ms/step - loss: 0.3765 - accuracy: 0.8288 - val_loss: 0.3234 - val_accuracy: 0.8589\n",
            "Epoch 2/5\n",
            "3655/3655 [==============================] - 41s 11ms/step - loss: 0.2814 - accuracy: 0.8780 - val_loss: 0.3169 - val_accuracy: 0.8625\n",
            "Epoch 3/5\n",
            "3655/3655 [==============================] - 34s 9ms/step - loss: 0.2301 - accuracy: 0.9029 - val_loss: 0.3322 - val_accuracy: 0.8635\n",
            "Epoch 4/5\n",
            "3655/3655 [==============================] - 40s 11ms/step - loss: 0.1767 - accuracy: 0.9280 - val_loss: 0.3840 - val_accuracy: 0.8580\n",
            "Epoch 5/5\n",
            "3655/3655 [==============================] - 39s 11ms/step - loss: 0.1215 - accuracy: 0.9520 - val_loss: 0.4783 - val_accuracy: 0.8440\n"
          ]
        }
      ]
    },
    {
      "cell_type": "code",
      "source": [
        "results_sp = model_bysp.evaluate(X_test,  y_test, verbose=2)\n",
        "print(results_sp)"
      ],
      "metadata": {
        "colab": {
          "base_uri": "https://localhost:8080/"
        },
        "id": "t1kZMnAnmLQS",
        "outputId": "0d54249d-f842-42a9-9ef4-75c4ac36d28e"
      },
      "execution_count": 18,
      "outputs": [
        {
          "output_type": "stream",
          "name": "stdout",
          "text": [
            "1537/1537 - 6s - loss: 0.4832 - accuracy: 0.8396 - 6s/epoch - 4ms/step\n",
            "[0.4832207262516022, 0.8396159410476685]\n"
          ]
        }
      ]
    },
    {
      "cell_type": "markdown",
      "source": [
        "## 3) Mecab, SentencePiece에 의한 감정 분석 결과 비교\n"
      ],
      "metadata": {
        "id": "LiDtlwPFQ_X_"
      }
    },
    {
      "cell_type": "code",
      "source": [
        "def show_history(history):\n",
        "    plt.figure(1, figsize=(10,4))\n",
        "    plt.subplots_adjust(wspace=0.5)\n",
        "    \n",
        "    #loss 그래프\n",
        "    plt.subplot(1,2,1)\n",
        "    plt.plot(history.history['loss'])\n",
        "    plt.plot(history.history['val_loss'])\n",
        "    plt.xlabel('epoch')\n",
        "    plt.ylabel('loss')\n",
        "    plt.legend(['train', 'val'])\n",
        "    \n",
        "    #accuracy 그래프\n",
        "    plt.subplot(1,2,2)\n",
        "    plt.plot(history.history['accuracy'])\n",
        "    plt.plot(history.history['val_accuracy'])\n",
        "    plt.xlabel('epoch')\n",
        "    plt.ylabel('accuracy')\n",
        "    plt.legend(['train', 'val'])\n",
        "\n",
        "    plt.show()"
      ],
      "metadata": {
        "id": "Pc-O1suMP4ld"
      },
      "execution_count": 19,
      "outputs": []
    },
    {
      "cell_type": "code",
      "source": [
        "# Mecab 적용시 history\n",
        "show_history(history_bymecab)"
      ],
      "metadata": {
        "colab": {
          "base_uri": "https://localhost:8080/",
          "height": 278
        },
        "id": "1eLKy6QzlDrS",
        "outputId": "83e0813c-d0cd-4a79-9e69-749989836150"
      },
      "execution_count": 20,
      "outputs": [
        {
          "output_type": "display_data",
          "data": {
            "text/plain": [
              "<Figure size 720x288 with 2 Axes>"
            ],
            "image/png": "[encoded data removed]"
          },
          "metadata": {
            "needs_background": "light"
          }
        }
      ]
    },
    {
      "cell_type": "code",
      "source": [
        "# SeptencePiece 적용 history\n",
        "show_history(history_bysp)"
      ],
      "metadata": {
        "colab": {
          "base_uri": "https://localhost:8080/",
          "height": 278
        },
        "id": "2KVQ1Gj5L7Tw",
        "outputId": "e5ebce6d-9684-406d-aef2-b793f889764e"
      },
      "execution_count": 21,
      "outputs": [
        {
          "output_type": "display_data",
          "data": {
            "text/plain": [
              "<Figure size 720x288 with 2 Axes>"
            ],
            "image/png": "[encoded data removed]"
          },
          "metadata": {
            "needs_background": "light"
          }
        }
      ]
    },
    {
      "cell_type": "code",
      "source": [
        "print('Test Result (Mecab 적용) :', results_mecap)\n",
        "print('Test Result (SeptencePiece 적용) :', results_sp)"
      ],
      "metadata": {
        "colab": {
          "base_uri": "https://localhost:8080/"
        },
        "id": "XE_nOSEFMCCQ",
        "outputId": "299a3b94-bd2a-457f-f6e2-9932edee1966"
      },
      "execution_count": 22,
      "outputs": [
        {
          "output_type": "stream",
          "name": "stdout",
          "text": [
            "Test Result (Mecab 적용) : [0.40137678384780884, 0.8595927357673645]\n",
            "Test Result (SeptencePiece 적용) : [0.4832207262516022, 0.8396159410476685]\n"
          ]
        }
      ]
    },
    {
      "cell_type": "markdown",
      "source": [
        "**Mecab 과 SentencePiece를 적용해 구축한 말뭉치로 학습한 결과가 비슷하게 나왔다.** \n",
        "- 학습시와 정확도는 Mecab 모델은 85%, SentencePiece 모델은 84%정도로 근소하게  Mecab 모델 높았으며 테스트시에도 약간 성능이 좋게 나왔다. 하지만 다국어에 쓰이는 SentencePiece 모델로 이런 성능이 나왔다는것이 놀랍다.\n",
        "\n",
        "- SentencePiece의 경우 따로 불용어 처리를 해줄 필요가 없고, word_to_index, index_to_word 사전을 설정하기위한 코드도 추가하지 않고 함수호출로 참고가 가능하여 편리했다.\n",
        "\n",
        "---\n",
        "실제 영화 리뷰 문장을 넣어 감정분석이 잘되는지 테스트해보자."
      ],
      "metadata": {
        "id": "2u3rJisXXJch"
      }
    },
    {
      "cell_type": "code",
      "source": [
        "def review_predict_bymecab(review_sentence):\n",
        "    review_list = []\n",
        "\n",
        "    # Mecab를 활용한 sentence -> encoding\n",
        "    # 텍스트 스트링(리뷰문장)을 word_to_index을 참고하여 인덱스 리스트로 구성\n",
        "    def wordlist_to_indexlist(wordlist):\n",
        "        return [word_to_index_mc[word] if word in word_to_index_mc else word_to_index_mc['<UNK>'] for word in wordlist]\n",
        "\n",
        "    index_review = list(map(wordlist_to_indexlist, review_sentence))\n",
        "    review_list.append(index_review)\n",
        "    pad_new = pad_sequences(review_list, padding='pre', maxlen = max_len) # 패딩\n",
        "\n",
        "    score = float(model_bymecab.predict(pad_new)) # 예측\n",
        "    if(score > 0.5):\n",
        "        print(\"{:.2f}% 확률로 긍정 리뷰입니다.\\n\".format(score * 100))\n",
        "    else:\n",
        "        print(\"{:.2f}% 확률로 부정 리뷰입니다.\\n\".format((1 - score) * 100))"
      ],
      "metadata": {
        "id": "GPwBsYsZcRy1"
      },
      "execution_count": 23,
      "outputs": []
    },
    {
      "cell_type": "code",
      "source": [
        "def review_predict_bysp(review_sentence):\n",
        "    review_list = []\n",
        "\n",
        "    s = spm.SentencePieceProcessor()\n",
        "    s.Load('movie_review.model')\n",
        "\n",
        "    # SentencePiece를 활용한 sentence -> encoding\n",
        "    tokensIDs = s.EncodeAsIds(review_sentence)\n",
        "    review_list.append(tokensIDs)\n",
        "    pad_new = pad_sequences(review_list, padding='pre', maxlen = max_len) # 패딩\n",
        "\n",
        "    score = float(model_bysp.predict(pad_new)) # 예측\n",
        "    if(score > 0.5):\n",
        "        print(\"{:.2f}% 확률로 긍정 리뷰입니다.\\n\".format(score * 100))\n",
        "    else:\n",
        "        print(\"{:.2f}% 확률로 부정 리뷰입니다.\\n\".format((1 - score) * 100))"
      ],
      "metadata": {
        "id": "DYNTCPc2MneV"
      },
      "execution_count": 24,
      "outputs": []
    },
    {
      "cell_type": "code",
      "source": [
        "review_predict_bymecab('너무 기다렸던 영화라 완전 기대하고 봤는데... 별로')"
      ],
      "metadata": {
        "colab": {
          "base_uri": "https://localhost:8080/"
        },
        "id": "xCJRZDJkaAd2",
        "outputId": "5101b3c7-f5f0-4273-f0fa-ae315f2241ef"
      },
      "execution_count": 34,
      "outputs": [
        {
          "output_type": "stream",
          "name": "stdout",
          "text": [
            "96.02% 확률로 부정 리뷰입니다.\n",
            "\n"
          ]
        }
      ]
    },
    {
      "cell_type": "code",
      "source": [
        "review_predict_bysp('너무 기다렸던 영화라 완전 기대하고 봤는데... 별로')"
      ],
      "metadata": {
        "colab": {
          "base_uri": "https://localhost:8080/"
        },
        "id": "K9wpe_bccfWM",
        "outputId": "00b483d8-7805-4269-f813-5558534898e8"
      },
      "execution_count": 33,
      "outputs": [
        {
          "output_type": "stream",
          "name": "stdout",
          "text": [
            "99.93% 확률로 부정 리뷰입니다.\n",
            "\n"
          ]
        }
      ]
    },
    {
      "cell_type": "code",
      "source": [
        "review_predict_bymecab('티니핑들이 캐치될때 표정이 특히 웃긴다!!') #막내 feat"
      ],
      "metadata": {
        "colab": {
          "base_uri": "https://localhost:8080/"
        },
        "id": "47OhsweLakCu",
        "outputId": "d3dbcd2a-0ed1-4890-b742-b98113cf342e"
      },
      "execution_count": 27,
      "outputs": [
        {
          "output_type": "stream",
          "name": "stdout",
          "text": [
            "50.14% 확률로 부정 리뷰입니다.\n",
            "\n"
          ]
        }
      ]
    },
    {
      "cell_type": "code",
      "source": [
        "review_predict_bysp('티니핑들이 캐치될때 표정이 특히 웃긴다!!') #막내 feat"
      ],
      "metadata": {
        "colab": {
          "base_uri": "https://localhost:8080/"
        },
        "id": "mahNgV8Vd8Ua",
        "outputId": "d61f9687-8771-44da-b1ad-198570f36776"
      },
      "execution_count": 28,
      "outputs": [
        {
          "output_type": "stream",
          "name": "stdout",
          "text": [
            "97.41% 확률로 긍정 리뷰입니다.\n",
            "\n"
          ]
        }
      ]
    },
    {
      "cell_type": "code",
      "source": [
        "review_predict_bymecab('인생역전, 예측이 안되는 반전!') "
      ],
      "metadata": {
        "colab": {
          "base_uri": "https://localhost:8080/"
        },
        "id": "gBBnH1KZeGbc",
        "outputId": "cefd7a81-92ab-4415-8705-9de3cc681725"
      },
      "execution_count": 29,
      "outputs": [
        {
          "output_type": "stream",
          "name": "stdout",
          "text": [
            "84.30% 확률로 긍정 리뷰입니다.\n",
            "\n"
          ]
        }
      ]
    },
    {
      "cell_type": "code",
      "source": [
        "review_predict_bysp('인생역전, 예측이 안되는 반전!') "
      ],
      "metadata": {
        "colab": {
          "base_uri": "https://localhost:8080/"
        },
        "id": "RRMijpLgMqi4",
        "outputId": "a84fe4ba-a2b4-4e64-b3c4-5a034af3b265"
      },
      "execution_count": 30,
      "outputs": [
        {
          "output_type": "stream",
          "name": "stdout",
          "text": [
            "92.27% 확률로 긍정 리뷰입니다.\n",
            "\n"
          ]
        }
      ]
    },
    {
      "cell_type": "markdown",
      "source": [
        "실제 영화문장을 넣었을때 분류 성능은 SentencePiece가 좋아보인다. \n",
        "- 1번문장의 경우 긍정의 말이 많은 문장에 마지막에 <별로> 라는 단어가 들어가 있는데 두 모델 모두 부정으로 잘맞추었지만 부정리뷰의 확률이 SentencePiece쪽이 아주 높게 나왔다.\n",
        "- 2번문장의 경우 최근 나온 새로운 단어들(막내가 시청하는 TV캐릭터)를 넣어봤는데 긍정리뷰임에도 Mecab은 잘못된 판단을 내리고있고 SentencePiece 높은 확률로 긍정으로 분석했다. 계속적으로 변화는 자연어의 특성상 이런 새로운 단어들이 계속 생기는데 SentencePiece 모델은 이런부분을 유연하게 잘처리하고 있다.\n",
        "- 3번 문장의 경우 긍정리뷰의 확률이 SentencePiece쪽이 높게 나왔다."
      ],
      "metadata": {
        "id": "VHSvN1XMnU_R"
      }
    },
    {
      "cell_type": "markdown",
      "source": [
        "## 4) SentencePiece 모델의 model_type, vocab_size 등을 변경\n",
        "\n",
        "마지막으로 model_type을 변경하여 성능을 비교해보겠다.\n",
        "- model_type : unigram -> bpe\n"
      ],
      "metadata": {
        "id": "70k7q4I2M_Ud"
      }
    },
    {
      "cell_type": "code",
      "source": [
        "train_data, test_data = read_review_data()\n",
        "X_train, y_train, X_test, y_test = load_data(train_data, test_data, vocab_size, 'bpe')\n",
        "\n",
        "model_bysp2, history_bysp2 = train(X_train, y_train)"
      ],
      "metadata": {
        "colab": {
          "base_uri": "https://localhost:8080/"
        },
        "id": "ZosuUBdHlrQa",
        "outputId": "264701b0-8322-43a8-9d11-59dd4089b0e0"
      },
      "execution_count": 35,
      "outputs": [
        {
          "output_type": "stream",
          "name": "stdout",
          "text": [
            "train_data: (150000, 3) test_data: (50000, 3)\n",
            "Epoch 1/5\n",
            "3655/3655 [==============================] - 37s 10ms/step - loss: 0.3765 - accuracy: 0.8289 - val_loss: 0.3245 - val_accuracy: 0.8599\n",
            "Epoch 2/5\n",
            "3655/3655 [==============================] - 33s 9ms/step - loss: 0.2805 - accuracy: 0.8794 - val_loss: 0.3156 - val_accuracy: 0.8666\n",
            "Epoch 3/5\n",
            "3655/3655 [==============================] - 33s 9ms/step - loss: 0.2292 - accuracy: 0.9037 - val_loss: 0.3294 - val_accuracy: 0.8651\n",
            "Epoch 4/5\n",
            "3655/3655 [==============================] - 33s 9ms/step - loss: 0.1746 - accuracy: 0.9280 - val_loss: 0.3653 - val_accuracy: 0.8568\n",
            "Epoch 5/5\n",
            "3655/3655 [==============================] - 41s 11ms/step - loss: 0.1227 - accuracy: 0.9523 - val_loss: 0.4460 - val_accuracy: 0.8526\n"
          ]
        }
      ]
    },
    {
      "cell_type": "code",
      "source": [
        "results_sp2 = model_bysp2.evaluate(X_test,  y_test, verbose=2)\n",
        "print(results_sp2)\n"
      ],
      "metadata": {
        "colab": {
          "base_uri": "https://localhost:8080/"
        },
        "id": "pTnaGEMql4gW",
        "outputId": "30a53f11-8afe-4c6a-86ea-d7fe0c901649"
      },
      "execution_count": 36,
      "outputs": [
        {
          "output_type": "stream",
          "name": "stdout",
          "text": [
            "1537/1537 - 5s - loss: 0.4577 - accuracy: 0.8486 - 5s/epoch - 3ms/step\n",
            "[0.45766517519950867, 0.848587155342102]\n"
          ]
        }
      ]
    },
    {
      "cell_type": "code",
      "source": [
        "print(results_sp) #unigram"
      ],
      "metadata": {
        "colab": {
          "base_uri": "https://localhost:8080/"
        },
        "id": "Nf5NbyPTp6MN",
        "outputId": "234b07ea-de60-4e35-ffab-bcd2895fe14e"
      },
      "execution_count": 38,
      "outputs": [
        {
          "output_type": "stream",
          "name": "stdout",
          "text": [
            "[0.4832207262516022, 0.8396159410476685]\n"
          ]
        }
      ]
    },
    {
      "cell_type": "markdown",
      "source": [
        "model type이 bpe인 경우 unigram일때보다 1%가량 정확도가 상승하였다."
      ],
      "metadata": {
        "id": "8e1dhnOqqMWr"
      }
    },
    {
      "cell_type": "markdown",
      "source": [
        "- vocab_size : 10000 -> 15000"
      ],
      "metadata": {
        "id": "BbDnR_-8pmfs"
      }
    },
    {
      "cell_type": "code",
      "source": [
        "vocab_size = 15000\n",
        "train_data, test_data = read_review_data()\n",
        "X_train, y_train, X_test, y_test = load_data(train_data, test_data, vocab_size,  'bpe')\n",
        "\n",
        "model_bysp3, history_bysp3 = train(X_train, y_train)"
      ],
      "metadata": {
        "colab": {
          "base_uri": "https://localhost:8080/"
        },
        "id": "DRQ3ohCEpj4c",
        "outputId": "21b66b68-3259-4031-dde5-8e3ae6726d70"
      },
      "execution_count": 39,
      "outputs": [
        {
          "output_type": "stream",
          "name": "stdout",
          "text": [
            "train_data: (150000, 3) test_data: (50000, 3)\n",
            "Epoch 1/5\n",
            "3655/3655 [==============================] - 36s 10ms/step - loss: 0.3760 - accuracy: 0.8301 - val_loss: 0.3181 - val_accuracy: 0.8633\n",
            "Epoch 2/5\n",
            "3655/3655 [==============================] - 36s 10ms/step - loss: 0.2641 - accuracy: 0.8880 - val_loss: 0.3139 - val_accuracy: 0.8671\n",
            "Epoch 3/5\n",
            "3655/3655 [==============================] - 35s 9ms/step - loss: 0.2022 - accuracy: 0.9165 - val_loss: 0.3459 - val_accuracy: 0.8640\n",
            "Epoch 4/5\n",
            "3655/3655 [==============================] - 35s 10ms/step - loss: 0.1376 - accuracy: 0.9457 - val_loss: 0.4339 - val_accuracy: 0.8594\n",
            "Epoch 5/5\n",
            "3655/3655 [==============================] - 37s 10ms/step - loss: 0.0811 - accuracy: 0.9700 - val_loss: 0.5311 - val_accuracy: 0.8514\n"
          ]
        }
      ]
    },
    {
      "cell_type": "code",
      "source": [
        "results_sp3 = model_bysp3.evaluate(X_test,  y_test, verbose=2)\n",
        "print(results_sp3)"
      ],
      "metadata": {
        "colab": {
          "base_uri": "https://localhost:8080/"
        },
        "id": "CksDLob_pjp1",
        "outputId": "b351e23c-89ec-4911-94e1-b3fc5d3bf9a1"
      },
      "execution_count": 40,
      "outputs": [
        {
          "output_type": "stream",
          "name": "stdout",
          "text": [
            "1537/1537 - 5s - loss: 0.5439 - accuracy: 0.8468 - 5s/epoch - 3ms/step\n",
            "[0.5439363121986389, 0.8468376994132996]\n"
          ]
        }
      ]
    },
    {
      "cell_type": "markdown",
      "source": [
        "vocab_size를 1만개에서 1만5000개로 늘려보았는데 성능이 변화가 없었다. 추후에 실험을 통해 좋은 성능 나오는 vocab_size를 구해보는 것도 좋을 것같다."
      ],
      "metadata": {
        "id": "0AwcO2IDqzFO"
      }
    },
    {
      "cell_type": "markdown",
      "source": [
        "Reference\n",
        "--- \n",
        "- [bpe-sentencepiece](http://tensorboy.com/bpe-sentencepiece)\n",
        "- [Sentencepiece python module example](https://colab.research.google.com/github/google/sentencepiece/blob/master/python/sentencepiece_python_module_example.ipynb)"
      ],
      "metadata": {
        "id": "XosxVR73W3tz"
      }
    }
  ]
}