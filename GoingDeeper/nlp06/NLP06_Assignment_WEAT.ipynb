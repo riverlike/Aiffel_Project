{
  "nbformat": 4,
  "nbformat_minor": 0,
  "metadata": {
    "colab": {
      "name": "NLP06_Assignment_WEAT.ipynb",
      "provenance": [],
      "collapsed_sections": []
    },
    "kernelspec": {
      "name": "python3",
      "display_name": "Python 3"
    },
    "language_info": {
      "name": "python"
    }
  },
  "cells": [
    {
      "cell_type": "markdown",
      "source": [
        "# 모든 장르 간 편향성 측정해 보기\n",
        "\n",
        "이번 프로젝트에서는 KOBIS에서 제공하는 시놉시스 데이터로 부터 워드임베딩을 구성하고, 해당 임베딩 모델이 데이터간 편향성을 가지는지 확인해보겠다.\n",
        "\n",
        "- 영화 시놉시스 데이터 : synopsis.zip\n",
        " - 2001년부터 2019년 8월까지 제작된 영화들의 시놉시스 정보\n",
        " - 출처 : KOBIS (영화관입장권통합전산망:Korean Box Office Information System)\n"
      ],
      "metadata": {
        "id": "dJKPk7Vwjals"
      }
    },
    {
      "cell_type": "code",
      "source": [
        "  #나눔폰트 설치 : 아래 셀 실행후 런타임 재시작\n",
        "  !sudo apt-get install -y fonts-nanum\n",
        "  !sudo fc-cache -fv\n",
        "  !rm ~/.cache/matplotlib -rf"
      ],
      "metadata": {
        "id": "o5-iYua2tcug"
      },
      "execution_count": null,
      "outputs": []
    },
    {
      "cell_type": "code",
      "source": [
        "!pip install konlpy"
      ],
      "metadata": {
        "colab": {
          "base_uri": "https://localhost:8080/"
        },
        "id": "yFzyM3mbtj4u",
        "outputId": "c8c43cbf-f220-4cd5-e9ee-387d526bec05"
      },
      "execution_count": null,
      "outputs": [
        {
          "output_type": "stream",
          "name": "stdout",
          "text": [
            "Collecting konlpy\n",
            "  Downloading konlpy-0.6.0-py2.py3-none-any.whl (19.4 MB)\n",
            "\u001b[K     |████████████████████████████████| 19.4 MB 64.4 MB/s \n",
            "\u001b[?25hRequirement already satisfied: lxml>=4.1.0 in /usr/local/lib/python3.7/dist-packages (from konlpy) (4.2.6)\n",
            "Collecting JPype1>=0.7.0\n",
            "  Downloading JPype1-1.3.0-cp37-cp37m-manylinux_2_5_x86_64.manylinux1_x86_64.whl (448 kB)\n",
            "\u001b[K     |████████████████████████████████| 448 kB 45.6 MB/s \n",
            "\u001b[?25hRequirement already satisfied: numpy>=1.6 in /usr/local/lib/python3.7/dist-packages (from konlpy) (1.21.5)\n",
            "Requirement already satisfied: typing-extensions in /usr/local/lib/python3.7/dist-packages (from JPype1>=0.7.0->konlpy) (3.10.0.2)\n",
            "Installing collected packages: JPype1, konlpy\n",
            "Successfully installed JPype1-1.3.0 konlpy-0.6.0\n"
          ]
        }
      ]
    },
    {
      "cell_type": "code",
      "source": [
        "!unzip -qq '/content/drive/MyDrive/Colab Notebooks/Aiffel/03_GoingDeeper/06/data/synopsis.zip' -d './synopsis'"
      ],
      "metadata": {
        "id": "DrMVlRqp6CjZ"
      },
      "execution_count": null,
      "outputs": []
    },
    {
      "cell_type": "code",
      "execution_count": 1,
      "metadata": {
        "colab": {
          "base_uri": "https://localhost:8080/"
        },
        "id": "aQZ0svbKbkHS",
        "outputId": "39bec367-dd48-49c1-e7ed-f0a5f8197e78"
      },
      "outputs": [
        {
          "output_type": "stream",
          "name": "stdout",
          "text": [
            "0.6.0\n",
            "3.6.0\n",
            "1.0.2\n",
            "0.11.2\n"
          ]
        }
      ],
      "source": [
        "import konlpy\n",
        "import gensim\n",
        "import sklearn\n",
        "import seaborn\n",
        "import matplotlib.pyplot as plt\n",
        "plt.rc('font', family='NanumGothic')\n",
        "\n",
        "print(konlpy.__version__)\n",
        "print(gensim.__version__)   #3.6\n",
        "print(sklearn.__version__)\n",
        "print(seaborn.__version__)"
      ]
    },
    {
      "cell_type": "markdown",
      "source": [
        "### 단어 추출\n",
        "시놉시스 데이터중 명사에 해당하는 단어만 추출한다."
      ],
      "metadata": {
        "id": "hcU6CyH36RAa"
      }
    },
    {
      "cell_type": "code",
      "source": [
        "from konlpy.tag import Okt\n",
        "okt = Okt()\n",
        "tokenized = []\n",
        "with open('/content/synopsis/synopsis.txt', 'r') as file:\n",
        "    while True:\n",
        "        line = file.readline()\n",
        "        if not line: break\n",
        "        words = okt.pos(line, stem=True, norm=True)\n",
        "        res = []\n",
        "        for w in words:\n",
        "            if w[1] in [\"Noun\"]:    # \"Adjective\", \"Verb\" 등을 포함할 수도 있습니다.\n",
        "                res.append(w[0])    # 명사일 때만 tokenized 에 저장하게 됩니다. \n",
        "        tokenized.append(res)\n"
      ],
      "metadata": {
        "id": "Lyi5xX5u9uWh"
      },
      "execution_count": 3,
      "outputs": []
    },
    {
      "cell_type": "code",
      "source": [
        "print(len(tokenized)) "
      ],
      "metadata": {
        "id": "Ky85-ycp987x",
        "colab": {
          "base_uri": "https://localhost:8080/"
        },
        "outputId": "ea25fa00-a37a-4ab8-8709-c9eace98e8ed"
      },
      "execution_count": 4,
      "outputs": [
        {
          "output_type": "stream",
          "name": "stdout",
          "text": [
            "71156\n"
          ]
        }
      ]
    },
    {
      "cell_type": "markdown",
      "source": [
        "synopsis.txt에서 71,156개의 명사를 추출하였다. 추출한 단어로 100차원의 임베딩 모델를 만들어보자."
      ],
      "metadata": {
        "id": "hqYpaMoB9-bh"
      }
    },
    {
      "cell_type": "markdown",
      "source": [
        "### 워드 임베딩 모델 구현\n",
        "Word2Vec 파라미터\n",
        "- sentences : 토큰화된 단어 집합\n",
        "- size : 벡터의 차원수 (단어의 분포차원, 실제 unique vocab 수보다 작아야함.)\n",
        "- window : 컨텍스트 윈도우 크기. 훈련시 앞 뒤로 고려하는 단어의 개수\n",
        "- min_count : 최소 빈도수, 해당 빈도수보다 작게 등장한 단어의 경우 모델 학습에서 배제\n",
        "- sg : 1일 경우 skip-gram, 0일 경우 CBOW\n",
        " - skip-gram : 해당 단어를 통해 주변단어를 예측\n",
        " - CBOW : 주변 단어를 통해 해당 단어를 예측"
      ],
      "metadata": {
        "id": "nyw9sFLe4A_U"
      }
    },
    {
      "cell_type": "code",
      "source": [
        "from gensim.models import Word2Vec\n",
        "\n",
        "model = Word2Vec(tokenized, size=100, window=5, min_count=3, sg=0)  # Gensim 3.X 에서 임베딩 모델 생성"
      ],
      "metadata": {
        "id": "RFAO7Tb06NxS"
      },
      "execution_count": 5,
      "outputs": []
    },
    {
      "cell_type": "markdown",
      "source": [
        "### 유사도 테스트\n",
        "시놉시스 데이터로 만들어진 임베딩 모델에서 비슷한 유사도의 단어들을 확인해보겠다."
      ],
      "metadata": {
        "id": "e_PdCckYALdf"
      }
    },
    {
      "cell_type": "code",
      "source": [
        "model.most_similar(positive=['영화'])"
      ],
      "metadata": {
        "colab": {
          "base_uri": "https://localhost:8080/"
        },
        "id": "cPvrQvs-b42F",
        "outputId": "8a8da78d-80f2-49cb-a1f8-771e01bc75eb"
      },
      "execution_count": null,
      "outputs": [
        {
          "output_type": "stream",
          "name": "stderr",
          "text": [
            "/usr/local/lib/python3.7/dist-packages/ipykernel_launcher.py:1: DeprecationWarning: Call to deprecated `most_similar` (Method will be removed in 4.0.0, use self.wv.most_similar() instead).\n",
            "  \"\"\"Entry point for launching an IPython kernel.\n"
          ]
        },
        {
          "output_type": "execute_result",
          "data": {
            "text/plain": [
              "[('작품', 0.8924439549446106),\n",
              " ('다큐멘터리', 0.8483200073242188),\n",
              " ('드라마', 0.8224549293518066),\n",
              " ('영화로', 0.797136664390564),\n",
              " ('코미디', 0.7903211116790771),\n",
              " ('형식', 0.7858985662460327),\n",
              " ('실화', 0.7794060707092285),\n",
              " ('주제', 0.7774088382720947),\n",
              " ('소재', 0.7747283577919006),\n",
              " ('감동', 0.7693641185760498)]"
            ]
          },
          "metadata": {},
          "execution_count": 7
        }
      ]
    },
    {
      "cell_type": "code",
      "source": [
        "model.wv.most_similar(positive=['송강호'])"
      ],
      "metadata": {
        "colab": {
          "base_uri": "https://localhost:8080/"
        },
        "id": "Itz86yS9fFys",
        "outputId": "e3f32297-8c24-4309-f7b4-716f3306ef1e"
      },
      "execution_count": null,
      "outputs": [
        {
          "output_type": "execute_result",
          "data": {
            "text/plain": [
              "[('마동석', 0.9869505763053894),\n",
              " ('홉킨스', 0.9862228035926819),\n",
              " ('회심', 0.9860907196998596),\n",
              " ('에르나니', 0.9857815504074097),\n",
              " ('이성재', 0.9856706857681274),\n",
              " ('도널드', 0.985228419303894),\n",
              " ('프레스턴', 0.9850459098815918),\n",
              " ('대인', 0.984865665435791),\n",
              " ('뮤', 0.9841469526290894),\n",
              " ('백윤식', 0.9839400053024292)]"
            ]
          },
          "metadata": {},
          "execution_count": 10
        }
      ]
    },
    {
      "cell_type": "code",
      "source": [
        "model.wv.most_similar(positive=['봉준호'])"
      ],
      "metadata": {
        "colab": {
          "base_uri": "https://localhost:8080/"
        },
        "id": "Qwt008GifKqL",
        "outputId": "18024a0f-c38c-4423-a063-18ce28ef47af"
      },
      "execution_count": null,
      "outputs": [
        {
          "output_type": "execute_result",
          "data": {
            "text/plain": [
              "[('미완성', 0.966411828994751),\n",
              " ('샌포드', 0.9659848213195801),\n",
              " ('박찬욱', 0.9657885432243347),\n",
              " ('남아공', 0.9638287425041199),\n",
              " ('정지영', 0.9633204340934753),\n",
              " ('일견', 0.9631582498550415),\n",
              " ('압바스', 0.9628732204437256),\n",
              " ('리베', 0.9625997543334961),\n",
              " ('필름스타', 0.9618345499038696),\n",
              " ('기리', 0.9601733684539795)]"
            ]
          },
          "metadata": {},
          "execution_count": 15
        }
      ]
    },
    {
      "cell_type": "markdown",
      "source": [
        "영화배우 송강호를 넣었을때는 배우이름들이, 영화감독 봉준호를 넣으니 감독이름이나 관련 단어들이 나타나고 있다."
      ],
      "metadata": {
        "id": "FSWDyAWuLHdx"
      }
    },
    {
      "cell_type": "code",
      "source": [
        "model.wv.most_similar(positive=['공포'])"
      ],
      "metadata": {
        "colab": {
          "base_uri": "https://localhost:8080/"
        },
        "id": "UGfVbgTJfxSB",
        "outputId": "6d78e6df-3337-48bc-ffee-08a02333f4d5"
      },
      "execution_count": null,
      "outputs": [
        {
          "output_type": "execute_result",
          "data": {
            "text/plain": [
              "[('현상', 0.8994206786155701),\n",
              " ('미스터리', 0.8737364411354065),\n",
              " ('혼란', 0.8560728430747986),\n",
              " ('소용돌이', 0.8444286584854126),\n",
              " ('혼돈', 0.8251901268959045),\n",
              " ('엄습', 0.8246563673019409),\n",
              " ('의식', 0.8210121393203735),\n",
              " ('실체', 0.8205640912055969),\n",
              " ('극도', 0.8196173906326294),\n",
              " ('결말', 0.81907057762146)]"
            ]
          },
          "metadata": {},
          "execution_count": 16
        }
      ]
    },
    {
      "cell_type": "code",
      "source": [
        "model.wv.most_similar(positive=['가족'])"
      ],
      "metadata": {
        "colab": {
          "base_uri": "https://localhost:8080/"
        },
        "id": "c6LbKn1uLrKL",
        "outputId": "3908ad4f-4c0e-44a2-84a2-618306bd8b94"
      },
      "execution_count": null,
      "outputs": [
        {
          "output_type": "execute_result",
          "data": {
            "text/plain": [
              "[('어머니', 0.7145949602127075),\n",
              " ('분배', 0.7143767476081848),\n",
              " ('부모', 0.7082630395889282),\n",
              " ('쇼카', 0.6843188405036926),\n",
              " ('할레', 0.6730148196220398),\n",
              " ('자식', 0.6585677862167358),\n",
              " ('화해', 0.6563226580619812),\n",
              " ('팡떵', 0.6514015793800354),\n",
              " ('여로', 0.6511754989624023),\n",
              " ('증조', 0.6498194336891174)]"
            ]
          },
          "metadata": {},
          "execution_count": 17
        }
      ]
    },
    {
      "cell_type": "markdown",
      "source": [
        "## 대표 단어 셋 만들기\n",
        "이제 시놉시스 텍스트 파일을 읽고, 해당 장르를 대표하는 단어를 구성하여 예술영화, 상업영화에 대한 편향성을 확인해보겠다. \n",
        "\n",
        "그렇다면 데이터를 대표할 수 있는 단어의 기준은 무엇일까? 이전 LMS에서는 빈도수를 기준으로한 TF-IDF방식을 사용하여 대표 단어를 선정하였다. TF-IDF방식은 특정 문서에 자주나타나는 단어에 가중치를 주는 방식이였는데 상업영화, 예술영화 모두 비슷한 카테고리의 문서이므로 중요도가 높은 단어들이 중복되어 나타났다. 실제 텍스트 파일에서 상업영화임에도 영화제 시상식에서 상을 수상한 영화의 시놉시스들이 다수 포함되어 상업영화라고 예술성이 떨어지지 않아 중복이 많을 수 밖에 없었던것 같다.\n",
        "\n",
        "attribute_A, attribute_B 단어셋은 개념축이 되는 단어이므로 아래 그래프처럼 대조가 잘 되도록 구성할 필요가 있다. \n",
        "\n",
        "![ㅇ](https://img1.daumcdn.net/thumb/R1280x0/?scode=mtistory2&fname=https%3A%2F%2Fblog.kakaocdn.net%2Fdn%2FNsusk%2FbtrxJrrKmo4%2FiZTHrqcobkcYmZAdJAlxWK%2Fimg.png)\n",
        "\n",
        "출처 : https://arxiv.org/pdf/2111.07864.pdf\n",
        "\n",
        "\n",
        "상업영화, 예술영화를 잘 대표하면서도 서로 대조가되는 단어들로 구성하기 위해 본 프로젝트에서는 LDA(잠재 디리클레 할당 : Latent Dirichlet Allocation) 방식을 적용해보겠다. 토픽별 단어셋을 출력해보고 대조가 쉽게되는 토픽의 단어셋을 대표 단어셋으로 설정할 것이다. \n",
        "\n",
        "Sets of attribute words에 해당하는 단어셋은 기존의 TF-IDF방식을 그대로 적용하겠다.\n",
        "\n",
        "- Sets of target words : targets_X, targets_Y\n",
        " - 영화 구분\n",
        " - targets_X : 예술영화(synopsis_art.txt)\n",
        " - targets_Y : 상업영화(synopsis_gen.txt)\n",
        "\n",
        "-  Sets of attribute words : attribute_A, attribute_B\n",
        " - 전체 영화 장르\n",
        "\n",
        " >\n",
        "  ``` \n",
        "synopsis_SF.txt: SF\n",
        "synopsis_가족.txt: 가족\n",
        "synopsis_공연.txt: 공연\n",
        "synopsis_공포(호러).txt: 공포(호러)\n",
        "synopsis_기타.txt: 기타\n",
        "synopsis_다큐멘터리.txt: 다큐멘터리\n",
        "synopsis_드라마.txt: 드라마\n",
        "synopsis_멜로로맨스.txt: 멜로로맨스\n",
        "synopsis_뮤지컬.txt: 뮤지컬\n",
        "synopsis_미스터리.txt: 미스터리\n",
        "synopsis_범죄.txt: 범죄\n",
        "synopsis_사극.txt: 사극\n",
        "synopsis_서부극(웨스턴).txt: 서부극(웨스턴)\n",
        "synopsis_성인물(에로).txt: 성인물(에로)\n",
        "synopsis_스릴러.txt: 스릴러\n",
        "synopsis_애니메이션.txt: 애니메이션\n",
        "synopsis_액션.txt: 액션\n",
        "synopsis_어드벤처.txt: 어드벤처\n",
        "synopsis_전쟁.txt: 전쟁\n",
        "synopsis_코미디.txt: 코미디\n",
        "synopsis_판타지.txt: 판타지\n",
        "```"
      ],
      "metadata": {
        "id": "TPC9rhne4Qk6"
      }
    },
    {
      "cell_type": "code",
      "source": [
        "import os\n",
        "from sklearn.feature_extraction.text import TfidfVectorizer\n",
        "import numpy as np\n",
        "from konlpy.tag import Okt\n",
        "\n",
        "art_txt = 'synopsis_art.txt'\n",
        "gen_txt = 'synopsis_gen.txt'\n",
        "\n",
        "def read_token(file_name):\n",
        "    okt = Okt()\n",
        "    result = []    \n",
        "    with open('/content/synopsis/'+file_name, 'r') as fread: \n",
        "        print(file_name, '파일을 읽고 있습니다.')\n",
        "        while True:\n",
        "            line = fread.readline() \n",
        "            if not line: break \n",
        "            tokenlist = okt.pos(line, stem=True, norm=True) \n",
        "            for word in tokenlist:\n",
        "                if word[1] in [\"Noun\"]:#, \"Adjective\", \"Verb\"]:\n",
        "                    result.append((word[0])) \n",
        "    return ' '.join(result)\n",
        "\n",
        "art = read_token(art_txt)\n",
        "gen = read_token(gen_txt)"
      ],
      "metadata": {
        "id": "1YZ3sLzmuiwJ",
        "colab": {
          "base_uri": "https://localhost:8080/"
        },
        "outputId": "b10d1ce6-30c4-47f4-b318-b080e082c1c0"
      },
      "execution_count": 6,
      "outputs": [
        {
          "output_type": "stream",
          "name": "stdout",
          "text": [
            "synopsis_art.txt 파일을 읽고 있습니다.\n",
            "synopsis_gen.txt 파일을 읽고 있습니다.\n"
          ]
        }
      ]
    },
    {
      "cell_type": "code",
      "source": [
        "len(art), len(gen)"
      ],
      "metadata": {
        "colab": {
          "base_uri": "https://localhost:8080/"
        },
        "id": "5BNl7DGjPpXm",
        "outputId": "6ddf6240-a05c-4089-a449-041d2eeff732"
      },
      "execution_count": 7,
      "outputs": [
        {
          "output_type": "execute_result",
          "data": {
            "text/plain": [
              "(620208, 3014815)"
            ]
          },
          "metadata": {},
          "execution_count": 7
        }
      ]
    },
    {
      "cell_type": "code",
      "source": [
        "print(art[0:100])\n",
        "print(gen[0:100])"
      ],
      "metadata": {
        "colab": {
          "base_uri": "https://localhost:8080/"
        },
        "id": "aSMPvxI2z87r",
        "outputId": "357eb5e1-6ef3-49fc-85d7-fdfd03c18f54"
      },
      "execution_count": 8,
      "outputs": [
        {
          "output_type": "stream",
          "name": "stdout",
          "text": [
            "사운드 엔지니어 상우 유지태 분 치매 할머니 백성희 분 시절 상처 아버지 박인환 분 고모 신신애 분 살 겨울 그 지방 방송국 라디오 은수 이영애 분 를 자연 소리 채집 라디오 프로\n",
            "유사 연령 성별 빈부 차이 정치 입장 불문 국민 통합 온 애국심 성역 일침 다큐멘터리 재작년 전국 민족 민주 유가족 협의 회의 장기 농성 인상 다큐멘터리 민들레 를 독립영화 집단 \n"
          ]
        }
      ]
    },
    {
      "cell_type": "markdown",
      "source": [
        "텍스트 파일에서 명사만 추출하여 문서를 구성하였다. \n",
        "- 명사가 아닌경우('를'과 같은 조사, 동사등)도 가끔 포함된것이 보인다."
      ],
      "metadata": {
        "id": "ngc-k18UNlln"
      }
    },
    {
      "cell_type": "markdown",
      "source": [
        "LDA에 사용할 TF-IDF 단어는 상위 300개로 한정하였다. \n",
        " - 너무 많은 단어를 포함하면 대표성이 없는 토픽들도 추출될수 있기 때문이다.\n",
        "```\n",
        "TfidfVectorizer(max_features=300) \n",
        "```"
      ],
      "metadata": {
        "id": "JJrehiNE2WVK"
      }
    },
    {
      "cell_type": "code",
      "source": [
        "from sklearn.decomposition import LatentDirichletAllocation\n",
        "\n",
        "def get_topics(components, feature_names, n=15):\n",
        "    dt_topics ={}    \n",
        "    for idx, topic in enumerate(components):\n",
        "        print(\"Topic %d:\" % (idx+1), [(feature_names[i], topic[i].round(4)) for i in topic.argsort()[:-n - 1:-1]])\n",
        "\n",
        "        list_topic_names = []\n",
        "        for i in topic.argsort()[:-n-1:-1]:\n",
        "            list_topic_names.append(feature_names[i])\n",
        "        \n",
        "        dt_topics[idx] = list_topic_names\n",
        "    return dt_topics"
      ],
      "metadata": {
        "id": "LwQMutY150Fd"
      },
      "execution_count": 68,
      "outputs": []
    },
    {
      "cell_type": "code",
      "source": [
        "# 예술영화 토픽별 단어 추출\n",
        "vectorizer_art = TfidfVectorizer(max_features=500)\n",
        "tf_idf_art = vectorizer_art.fit_transform([art])\n",
        "\n",
        "lda_model = LatentDirichletAllocation(n_components=10, learning_method='online', random_state=2000, max_iter=2)\n",
        "lda_model.fit_transform(tf_idf_art)\n",
        "terms_art = vectorizer_art.get_feature_names() # 단어 집합\n",
        "dt_topics_art = get_topics(lda_model.components_, terms_art)"
      ],
      "metadata": {
        "colab": {
          "base_uri": "https://localhost:8080/"
        },
        "id": "sVLqX85X677e",
        "outputId": "4c87801e-fbe2-4aa8-ea89-166435103c5a"
      },
      "execution_count": 105,
      "outputs": [
        {
          "output_type": "stream",
          "name": "stdout",
          "text": [
            "Topic 1: [('탈출', 0.9283), ('직원', 0.9246), ('반대', 0.9119), ('공격', 0.8909), ('도쿄', 0.8886), ('결정', 0.8833), ('목숨', 0.8827), ('여행', 0.8806), ('경찰', 0.8748), ('생존', 0.8678), ('준비', 0.8657), ('오빠', 0.8656), ('배우', 0.8608), ('그날', 0.856), ('작업', 0.8415)]\n",
            "Topic 2: [('겨울', 0.8979), ('아픔', 0.882), ('한번', 0.8701), ('존재', 0.8682), ('관객', 0.8666), ('자살', 0.8635), ('홀로', 0.8606), ('사회', 0.8592), ('노인', 0.8579), ('살해', 0.8536), ('맞이', 0.8499), ('청춘', 0.8472), ('단편', 0.8457), ('이해', 0.8422), ('형사', 0.8395)]\n",
            "Topic 3: [('거리', 0.9502), ('부인', 0.9484), ('남자', 0.8668), ('외모', 0.866), ('최악', 0.8615), ('갈등', 0.8477), ('작가', 0.845), ('진실', 0.8434), ('직접', 0.8356), ('아무', 0.8347), ('세계', 0.8347), ('여성', 0.8346), ('안고', 0.8295), ('대상', 0.8288), ('프로젝트', 0.827)]\n",
            "Topic 4: [('미국', 0.9079), ('임무', 0.8738), ('처음', 0.8619), ('공포', 0.8616), ('이후', 0.8569), ('의심', 0.8535), ('개월', 0.8421), ('로서', 0.8417), ('영화제', 0.8376), ('이유', 0.8366), ('작전', 0.8359), ('오늘', 0.8351), ('목숨', 0.8333), ('머리', 0.8327), ('비밀', 0.8323)]\n",
            "Topic 5: [('감옥', 0.8989), ('요구', 0.889), ('작전', 0.889), ('다시', 0.8849), ('모든', 0.8831), ('수상한', 0.8828), ('납치', 0.8826), ('생존', 0.8821), ('조직', 0.8794), ('이혼', 0.8788), ('소녀', 0.8728), ('장면', 0.8694), ('인도', 0.8598), ('인기', 0.8596), ('반복', 0.8546)]\n",
            "Topic 6: [('소녀', 0.9035), ('그날', 0.8859), ('마지막', 0.8631), ('사람', 0.8628), ('한번', 0.8566), ('린다', 0.8507), ('상처', 0.85), ('범죄', 0.8485), ('직장', 0.8483), ('마주', 0.8462), ('배달', 0.8452), ('전투', 0.8384), ('독립', 0.8322), ('동안', 0.8279), ('지금', 0.8275)]\n",
            "Topic 7: [('죽음', 0.9146), ('처음', 0.9049), ('도착', 0.9007), ('이상', 0.8807), ('영화제', 0.8733), ('생존', 0.8682), ('고백', 0.8675), ('소개', 0.8622), ('다음', 0.8615), ('게임', 0.8601), ('마치', 0.853), ('여자', 0.8523), ('남녀', 0.8505), ('점차', 0.8457), ('작전', 0.8449)]\n",
            "Topic 8: [('하나', 0.9054), ('주인공', 0.9045), ('경찰', 0.8965), ('사람', 0.8945), ('보고', 0.875), ('일본', 0.873), ('작업', 0.8675), ('어머니', 0.8629), ('자기', 0.8609), ('유령', 0.86), ('동생', 0.857), ('과거', 0.8549), ('대신', 0.8519), ('전투', 0.8486), ('스스로', 0.848)]\n",
            "Topic 9: [('생명', 0.8879), ('성공', 0.8866), ('발견', 0.8738), ('중국', 0.8715), ('실수', 0.8648), ('탄생', 0.8642), ('바로', 0.8632), ('존재', 0.863), ('하루하루', 0.862), ('그녀', 0.86), ('또한', 0.8595), ('우연', 0.8564), ('무기', 0.8499), ('관심', 0.8443), ('전투', 0.8431)]\n",
            "Topic 10: [('아이', 0.9311), ('납치', 0.8809), ('그녀', 0.869), ('조사', 0.8675), ('다시', 0.8669), ('첫사랑', 0.8631), ('마지막', 0.8618), ('아침', 0.8618), ('배우', 0.8557), ('의사', 0.8322), ('자신', 0.8321), ('행동', 0.8303), ('사라', 0.829), ('최초', 0.829), ('아픔', 0.8246)]\n"
          ]
        },
        {
          "output_type": "stream",
          "name": "stderr",
          "text": [
            "/usr/local/lib/python3.7/dist-packages/sklearn/utils/deprecation.py:87: FutureWarning: Function get_feature_names is deprecated; get_feature_names is deprecated in 1.0 and will be removed in 1.2. Please use get_feature_names_out instead.\n",
            "  warnings.warn(msg, category=FutureWarning)\n"
          ]
        }
      ]
    },
    {
      "cell_type": "code",
      "source": [
        "# 상업영화 토픽별 단어 추출\n",
        "vectorizer_gen = TfidfVectorizer(max_features=500)\n",
        "tf_idf_gen = vectorizer_gen.fit_transform([gen])\n",
        "\n",
        "lda_model.fit_transform(tf_idf_gen)\n",
        "terms_gen = vectorizer_gen.get_feature_names() # 단어 집합\n",
        "dt_topics_gen = get_topics(lda_model.components_, terms_gen)"
      ],
      "metadata": {
        "colab": {
          "base_uri": "https://localhost:8080/"
        },
        "id": "ZwIzppEe694z",
        "outputId": "f777f452-10de-4c90-f7ff-7f9549a9b1b1"
      },
      "execution_count": 103,
      "outputs": [
        {
          "output_type": "stream",
          "name": "stdout",
          "text": [
            "Topic 1: [('출장', 1.0627), ('여자', 1.0498), ('불구', 1.043), ('여성', 1.041), ('노래', 1.0328), ('마지막', 1.0287), ('아무', 1.0286), ('선생님', 1.0282), ('점차', 1.0166), ('사진', 1.0164), ('만남', 1.0142), ('마치', 1.0116), ('지금', 1.0115), ('표현', 1.0018), ('가운데', 1.0014)]\n",
            "Topic 2: [('범죄', 1.1148), ('외모', 1.1072), ('사랑', 1.0682), ('위기', 1.0631), ('납치', 1.0509), ('알렉스', 1.0273), ('진행', 1.0214), ('활동', 1.0135), ('여성', 1.0111), ('밴드', 1.0111), ('만난', 1.0081), ('부천', 1.0062), ('감정', 1.0061), ('경험', 1.0051), ('바로', 1.0037)]\n",
            "Topic 3: [('대화', 1.0668), ('레이', 1.0459), ('갑자기', 1.0421), ('순간', 1.0352), ('남성', 1.031), ('의사', 1.0223), ('집안', 1.0212), ('고향', 1.0183), ('얘기', 1.0174), ('도시', 1.0106), ('몰래', 1.0084), ('살해', 1.0075), ('성적', 1.002), ('무엇', 0.9901), ('프로젝트', 0.9888)]\n",
            "Topic 4: [('가게', 1.1409), ('간다', 1.1172), ('부산', 1.1028), ('마침내', 1.0958), ('누군가', 1.0731), ('범인', 1.0535), ('문제', 1.0391), ('사장', 1.0365), ('조직', 1.0335), ('진실', 1.0237), ('린다', 1.0147), ('현실', 1.014), ('인터뷰', 1.0129), ('작품', 1.0103), ('미래', 1.0063)]\n",
            "Topic 5: [('목소리', 1.0786), ('사회', 1.0616), ('지구', 1.0242), ('인물', 1.0171), ('만남', 1.0164), ('사진', 1.0108), ('대화', 1.0082), ('생각', 1.0074), ('공장', 1.0068), ('직장', 1.003), ('병원', 0.9961), ('직원', 0.9942), ('주변', 0.99), ('비디오', 0.9887), ('커플', 0.9884)]\n",
            "Topic 6: [('인류', 1.1059), ('선배', 1.0892), ('학교', 1.088), ('직접', 1.0745), ('욕망', 1.0732), ('사이', 1.0543), ('아무', 1.0455), ('마사지', 1.0446), ('어디', 1.0424), ('풍경', 1.0412), ('영상', 1.041), ('마리', 1.0372), ('자리', 1.0368), ('과거', 1.0332), ('무엇', 1.0202)]\n",
            "Topic 7: [('발견', 1.2162), ('사람', 1.0701), ('나라', 1.064), ('상태', 1.0515), ('마지막', 1.0457), ('남편', 1.0204), ('중심', 1.0178), ('린다', 1.0177), ('진짜', 1.0157), ('다음', 1.0114), ('의사', 1.009), ('과거', 1.0081), ('노래', 1.008), ('여러', 1.0035), ('자기', 1.0033)]\n",
            "Topic 8: [('더욱', 1.0981), ('시도', 1.0915), ('여기', 1.0898), ('부문', 1.0678), ('인생', 1.0502), ('단편', 1.0478), ('부모', 1.0403), ('아버지', 1.0049), ('보스', 1.0023), ('문제', 1.0), ('국제', 0.9947), ('세계', 0.9928), ('배달', 0.9866), ('통해', 0.9833), ('정체', 0.98)]\n",
            "Topic 9: [('표현', 1.0749), ('공간', 1.0364), ('실종', 1.0354), ('유지', 1.0259), ('과거', 1.0248), ('생일', 1.0201), ('레이', 1.0172), ('질문', 1.011), ('형사', 1.0087), ('물건', 1.0073), ('열정', 0.9931), ('연락', 0.993), ('독일', 0.9915), ('동시', 0.9901), ('위해', 0.9898)]\n",
            "Topic 10: [('반복', 1.058), ('사람', 1.0375), ('행동', 1.037), ('사망', 1.0356), ('조직', 1.0343), ('고통', 1.0187), ('바람', 1.0108), ('혼란', 1.0066), ('남자친구', 1.0003), ('전혀', 0.9991), ('예술', 0.9973), ('드라마', 0.9936), ('보지', 0.9924), ('사이', 0.9921), ('매일', 0.9855)]\n"
          ]
        },
        {
          "output_type": "stream",
          "name": "stderr",
          "text": [
            "/usr/local/lib/python3.7/dist-packages/sklearn/utils/deprecation.py:87: FutureWarning: Function get_feature_names is deprecated; get_feature_names is deprecated in 1.0 and will be removed in 1.2. Please use get_feature_names_out instead.\n",
            "  warnings.warn(msg, category=FutureWarning)\n"
          ]
        }
      ]
    },
    {
      "cell_type": "markdown",
      "source": [
        "예술영화와 상업영화에 대해 10가지 토픽을 뽑아 보았다. \n",
        "\n",
        "상업영화의 경우 관객들의 흥미 유발을 위해 자극적이며 스릴 있는 스토리를 나타내는 단어, 예술영화는 작가가 말하고자하는 가치관이나 예술성을 위한 연출과 스토리를 나타내는 단어를 포함하는 토픽을 대표 단어셋으로 하겠다.\n"
      ],
      "metadata": {
        "id": "5PVJs7PRlLrm"
      }
    },
    {
      "cell_type": "code",
      "source": [
        "print(dt_topics_art[8])\n",
        "print(dt_topics_gen[1])"
      ],
      "metadata": {
        "colab": {
          "base_uri": "https://localhost:8080/"
        },
        "id": "3Z6rIxJejO-X",
        "outputId": "6a697c2f-494c-4876-97b2-c869645b4bc4"
      },
      "execution_count": 107,
      "outputs": [
        {
          "output_type": "stream",
          "name": "stdout",
          "text": [
            "['생명', '성공', '발견', '중국', '실수', '탄생', '바로', '존재', '하루하루', '그녀', '또한', '우연', '무기', '관심', '전투']\n",
            "['범죄', '외모', '사랑', '위기', '납치', '알렉스', '진행', '활동', '여성', '밴드', '만난', '부천', '감정', '경험', '바로']\n"
          ]
        }
      ]
    },
    {
      "cell_type": "code",
      "source": [
        "genre_txt = ['synopsis_SF.txt', 'synopsis_family.txt', 'synopsis_show.txt', 'synopsis_horror.txt', 'synopsis_etc.txt', \n",
        "             'synopsis_documentary.txt', 'synopsis_drama.txt', 'synopsis_romance.txt', 'synopsis_musical.txt', \n",
        "             'synopsis_mystery.txt', 'synopsis_crime.txt', 'synopsis_historical.txt', 'synopsis_western.txt', \n",
        "             'synopsis_adult.txt', 'synopsis_thriller.txt', 'synopsis_animation.txt', 'synopsis_action.txt', \n",
        "             'synopsis_adventure.txt', 'synopsis_war.txt', 'synopsis_comedy.txt', 'synopsis_fantasy.txt']\n",
        "genre_name = ['SF', '가족', '공연', '공포(호러)', '기타', '다큐멘터리', '드라마', '멜로로맨스', '뮤지컬', '미스터리', '범죄', '사극', '서부극(웨스턴)',\n",
        "         '성인물(에로)', '스릴러', '애니메이션', '액션', '어드벤처', '전쟁', '코미디', '판타지']"
      ],
      "metadata": {
        "id": "TYuqK7LVQBhO"
      },
      "execution_count": 71,
      "outputs": []
    },
    {
      "cell_type": "code",
      "source": [
        "genre = []\n",
        "for file_name in genre_txt:\n",
        "    genre.append(read_token(file_name))"
      ],
      "metadata": {
        "colab": {
          "base_uri": "https://localhost:8080/"
        },
        "id": "tpDPCyN2TJED",
        "outputId": "c08f66c2-b457-477a-d43c-eea2957fb392"
      },
      "execution_count": 72,
      "outputs": [
        {
          "output_type": "stream",
          "name": "stdout",
          "text": [
            "synopsis_SF.txt 파일을 읽고 있습니다.\n",
            "synopsis_family.txt 파일을 읽고 있습니다.\n",
            "synopsis_show.txt 파일을 읽고 있습니다.\n",
            "synopsis_horror.txt 파일을 읽고 있습니다.\n",
            "synopsis_etc.txt 파일을 읽고 있습니다.\n",
            "synopsis_documentary.txt 파일을 읽고 있습니다.\n",
            "synopsis_drama.txt 파일을 읽고 있습니다.\n",
            "synopsis_romance.txt 파일을 읽고 있습니다.\n",
            "synopsis_musical.txt 파일을 읽고 있습니다.\n",
            "synopsis_mystery.txt 파일을 읽고 있습니다.\n",
            "synopsis_crime.txt 파일을 읽고 있습니다.\n",
            "synopsis_historical.txt 파일을 읽고 있습니다.\n",
            "synopsis_western.txt 파일을 읽고 있습니다.\n",
            "synopsis_adult.txt 파일을 읽고 있습니다.\n",
            "synopsis_thriller.txt 파일을 읽고 있습니다.\n",
            "synopsis_animation.txt 파일을 읽고 있습니다.\n",
            "synopsis_action.txt 파일을 읽고 있습니다.\n",
            "synopsis_adventure.txt 파일을 읽고 있습니다.\n",
            "synopsis_war.txt 파일을 읽고 있습니다.\n",
            "synopsis_comedy.txt 파일을 읽고 있습니다.\n",
            "synopsis_fantasy.txt 파일을 읽고 있습니다.\n"
          ]
        }
      ]
    },
    {
      "cell_type": "code",
      "source": [
        "vectorizer = TfidfVectorizer()\n",
        "X = vectorizer.fit_transform(genre)\n",
        "\n",
        "print(X.shape) #전체 장르(21개)에 대한 tf-idf"
      ],
      "metadata": {
        "colab": {
          "base_uri": "https://localhost:8080/"
        },
        "id": "J_ZaskL-TQhZ",
        "outputId": "d9eb5a30-4bff-4160-ae89-c2ff82a2af45"
      },
      "execution_count": 88,
      "outputs": [
        {
          "output_type": "stream",
          "name": "stdout",
          "text": [
            "(21, 42191)\n"
          ]
        }
      ]
    },
    {
      "cell_type": "code",
      "source": [
        "m = [X[i].tocoo() for i in range(X.shape[0])]\n",
        "w = [[[i, j] for i, j in zip(mm.col, mm.data)] for mm in m]\n",
        "\n",
        "for i in range(len(w)):\n",
        "    w[i].sort(key=lambda x: x[1], reverse=True)\n",
        "attributes = []\n",
        "for i in range(len(w)):\n",
        "    print(genre_name[i], end=': ')\n",
        "    attr = []\n",
        "    j = 0\n",
        "    while (len(attr) < 100):\n",
        "        if vectorizer.get_feature_names()[w[i][j][0]] in model.wv:\n",
        "            attr.append(vectorizer.get_feature_names()[w[i][j][0]])\n",
        "            print(vectorizer.get_feature_names()[w[i][j][0]], end=', ')\n",
        "        j += 1\n",
        "    attributes.append(attr)\n",
        "    print()"
      ],
      "metadata": {
        "colab": {
          "base_uri": "https://localhost:8080/"
        },
        "id": "GJhz5yrKTTz6",
        "outputId": "4d0ad48a-1e0b-44f5-9cb3-e8962ffd9fac"
      },
      "execution_count": 75,
      "outputs": [
        {
          "output_type": "stream",
          "name": "stdout",
          "text": [
            "SF: 위해, "
          ]
        },
        {
          "output_type": "stream",
          "name": "stderr",
          "text": [
            "/usr/local/lib/python3.7/dist-packages/sklearn/utils/deprecation.py:87: FutureWarning: Function get_feature_names is deprecated; get_feature_names is deprecated in 1.0 and will be removed in 1.2. Please use get_feature_names_out instead.\n",
            "  warnings.warn(msg, category=FutureWarning)\n"
          ]
        },
        {
          "output_type": "stream",
          "name": "stdout",
          "text": [
            "자신, 지구, 시작, 사람, 인류, 인간, 미래, 우주, 그녀, 로봇, 세계, 모든, 박사, 우주선, 외계, 존재, 세상, 발견, 행성, 정체, 친구, 비밀, 사실, 기억, 전쟁, 사건, 시간, 공격, 영화, 한편, 실험, 능력, 시스템, 위협, 생명체, 정부, 아들, 사고, 스타크, 리플리, 과학자, 음모, 파괴, 아버지, 켈빈, 컨트, 모두, 수퍼맨, 임무, 발생, 가족, 요원, 죽음, 다시, 위기, 과거, 외계인, 도시, 이제, 갑자기, 상황, 운명, 분파, 불명, 연구, 개발, 때문, 탈출, 명의, 의문, 남자, 아이, 현실, 바이러스, 상어, 물체, 진화, 목숨, 최후, 통해, 프로젝트, 수트, 생존, 과연, 사랑, 히노키, 섹터, 미국, 여행, 대원, 멸망, 조직, 바로, 위험, 사이, 세력, 감염, 괴물, 거대, \n",
            "가족: 엄마, 아빠, 가족, 영화제, 자신, 위해, 친구, 아주르, 아버지, 시작, 그녀, 아들, 마을, 국제, 낙타, 할머니, 씨제이, 동구, 사랑, 아이, 사람, 학교, 세상, 소년, 슈이트, 이야기, 가장, 어머니, 마갈, 소녀, 미아, 대한, 펠리칸, 모두, 혼자, 서울, 벤트, 케이시, 마음, 사건, 할아버지, 엠마, 고양이, 크리스마스, 아내, 사이, 최호, 요정, 모험, 혜지, 유나, 테리, 위기, 다시, 번개, 손녀, 그레고리, 과연, 결심, 시골, 파코, 작품, 영화, 스튜어트, 해나, 인형, 단편, 기억, 발견, 서로, 하나, 한편, 부산, 아스, 장난감, 도시, 크누드, 누키, 제노, 아기, 때문, 이자, 펠릭스, 노동자, 회사, 생각, 사실, 마르, 주니, 강아지, 간다, 다른, 소식, 시간, 신차, 잉그릿, 제페토, 규완, 우산, 도움, \n",
            "공연: 오페라, 사랑, 토스카, 실황, 올레, 자신, 카바, 그녀, 공연, 오텔로, 리골레토, 백작, 프레, 베르디, 위해, 카르피, 비바, 왕자, 콘서트, 백작부인, 반니, 아리아, 미노, 차이코프스키, 라다, 무대, 도시, 공작, 리코, 시작, 파우스트, 메스, 결혼, 만토바, 코락스, 엘비, 사람, 로돌포, 음악, 레오, 안젤로, 파리, 연인, 총독, 피아, 비극, 공주, 여인, 사실, 세계, 톨로, 투란도트, 아이, 이집트, 아내, 헤르, 사이, 에티오피아, 여왕, 프로스페, 뱅쿠오, 레나토, 카시오, 돈나, 이야기, 맥베스, 데모, 벨라, 친구, 볼쇼, 피가로, 영화, 여자, 남작, 로미오, 부관, 스트로, 극장, 질다, 마술피리, 발레, 이탈리아, 스카, 다른, 아버지, 페란도, 탄호이저, 보데몽, 공국, 루나, 마음, 기사, 바실, 정치범, 프레데릭, 알폰소, 미나, 모습, 그린, 체코, \n",
            "공포(호러): 시작, 위해, 사람, 자신, 친구, 그녀, 사건, 공포, 발견, 죽음, 마을, 가족, 악령, 남자, 좀비, 영화, 사실, 소녀, 하나, 살인, 이야기, 비밀, 아이, 정체, 저주, 살해, 영화제, 여자, 모든, 의문, 점점, 사고, 명의, 시간, 다시, 이후, 엄마, 일행, 시체, 모두, 계속, 다른, 악몽, 아버지, 병원, 대한, 파티, 공격, 모습, 존재, 유령, 실종, 발생, 과연, 아들, 게임, 한편, 귀신, 악마, 저택, 충격, 여행, 아내, 사랑, 바이러스, 이사, 부부, 간다, 소리, 현상, 탈출, 사라, 괴물, 학교, 영혼, 인간, 과거, 생각, 로부터, 살인마, 국제, 도시, 사이, 상황, 학생, 실험, 판타스틱, 부천, 인형, 순간, 위협, 동생, 목숨, 자살, 기운, 이제, 통해, 도착, 무엇, 갑자기, \n",
            "기타: 영화제, 국제, 서울, 단편, 영화, 자신, 사람, 이야기, 그녀, 남자, 위해, 시작, 사랑, 뉴미디어, 페스티벌, 여자, 대한, 독립, 친구, 작품, 엄마, 통해, 아시아나, 다른, 우리, 연출, 소녀, 모습, 아이, 시간, 이미지, 부산, 소년, 모든, 기억, 가족, 상영작, 지하철, 청소년, 도시, 감독, 발견, 아버지, 다시, 생각, 현실, 서로, 관계, 유럽, 부천, 사이, 노인, 의도, 판타스틱, 마을, 여성, 공간, 하나, 여행, 아들, 사회, 포럼, 때문, 메트로, 단편영화, 주인공, 세상, 마음, 무엇, 간다, 세계, 풍경, 사진, 상황, 남편, 순간, 일상, 사건, 촬영, 영상, 소리, 하루, 한국, 부문, 가지, 실험영화, 혼자, 애니메이션, 아내, 대화, 배우, 준비, 대해, 거리, 학교, 명의, 그린, 과정, 동안, 음악, \n",
            "다큐멘터리: 영화제, 영화, 다큐, 국제, 다큐멘터리, 사람, 이야기, 대한, 자신, 감독, 위해, 서울, 우리, 시작, 세계, 통해, 그녀, 여성, 가족, 한국, 작품, 환경, 사회, 모습, 아이, 마을, 노동자, 세상, 가장, 기록, 역사, 음악, 미국, 시간, 다른, 명의, 카메라, 동안, 사랑, 기억, 대해, 과정, 도시, 지역, 투쟁, 인디다큐페스티발, 일상, 전쟁, 생각, 모든, 문제, 지금, 북한, 현재, 일본, 문화, 무엇, 건축, 인터뷰, 아버지, 이자, 중국, 하나, 다시, 촬영, 여행, 변화, 인간, 영상, 친구, 현실, 학교, 엄마, 이후, 사건, 운동, 사이, 할머니, 풍경, 때문, 자연, 모두, 이제, 생활, 질문, 주민, 공연, 관객, 지난, 순간, 희망, 독립, 당시, 과거, 여정, 서로, 목소리, 정부, 마음, 존재, \n",
            "드라마: 자신, 영화제, 그녀, 사람, 사랑, 영화, 위해, 시작, 국제, 남자, 친구, 이야기, 엄마, 여자, 아버지, 가족, 단편, 서울, 대한, 아들, 마음, 아이, 남편, 서로, 시간, 소녀, 세상, 감독, 다른, 모든, 다시, 사건, 관계, 생각, 아내, 마을, 사이, 소년, 작품, 사실, 모습, 통해, 때문, 부문, 연출, 어머니, 하나, 학교, 생활, 우리, 결혼, 독립, 인생, 간다, 점점, 기억, 발견, 순간, 부산, 여행, 여성, 현실, 일상, 의도, 죽음, 상황, 세계, 할머니, 감정, 모두, 가장, 한국, 경쟁, 아빠, 하루, 음악, 마지막, 과연, 과거, 사고, 가지, 한편, 전쟁, 이제, 상처, 동안, 미국, 대해, 사회, 결심, 주인공, 이자, 혼자, 동생, 도시, 처음, 비밀, 배우, 시절, 문제, \n",
            "멜로로맨스: 그녀, 사랑, 자신, 시작, 남편, 남자, 여자, 사람, 친구, 섹스, 위해, 마음, 결혼, 서로, 아내, 관계, 부부, 엄마, 아버지, 사실, 영화, 점점, 다시, 회사, 시간, 사이, 생활, 유혹, 다른, 아들, 연애, 애인, 이야기, 생각, 모습, 때문, 새엄마, 대한, 모든, 불륜, 남자친구, 유부녀, 감정, 정사, 출장, 선배, 과연, 여자친구, 커플, 한편, 만난, 고백, 여행, 동거, 몰래, 이혼, 매력, 시아버지, 순간, 제안, 만남, 처음, 기억, 욕구, 보고, 영화제, 가족, 마사지, 성욕, 은밀, 상처, 하루, 비밀, 동생, 하나, 첫사랑, 연인, 발견, 직장, 언니, 운명, 아이, 혼자, 이자, 형부, 매일, 세상, 자위, 대학, 형수, 계속, 현우, 과거, 욕망, 바로, 이사, 사고, 이제, 고민, 간다, \n",
            "뮤지컬: 뮤지컬, 사랑, 에스메랄다, 그녀, 음악, 충무로, 모차르트, 영화, 토스카, 자신, 니웨, 카바, 영화제, 바흐, 페뷔스, 프롤, 모도, 카르피, 시작, 제루샤, 샤오캉, 위해, 데이비, 팬텀, 최고, 크리스틴, 애니, 노트르담, 라훌, 공연, 사람, 캬바레, 오페라, 이야기, 도시, 안젤로, 노래, 대한, 무대, 파두, 서영은, 프롤로, 살리에리, 뮤지컬영화, 성당, 아버지, 세계, 집시, 파리, 소녀, 연화, 지엔, 베이커, 오강, 경민이, 솔리스트, 위그, 베니, 스페인, 엄마, 배우, 순간, 포르노, 이지아, 라프, 피아, 발레, 파티, 열정, 주교, 수박, 관계, 미국, 마음, 결혼, 사실, 통해, 세상, 모든, 과연, 다른, 아들, 발견, 하우스, 막걸리, 갈증, 묘사, 연기, 여자, 몰래, 천재, 트립, 후원자, 수화, 브로드웨이, 초연, 무당, 음악가, 예수, 다시, \n",
            "미스터리: 사건, 그녀, 시작, 자신, 위해, 사람, 발견, 사고, 진실, 죽음, 기억, 살인, 친구, 아내, 남자, 아이, 민혁, 사실, 의문, 미스터리, 형사, 하나, 비밀, 영화, 마을, 이야기, 모든, 경찰, 현우, 발생, 여자, 정체, 방독면, 다른, 과연, 범인, 사랑, 살해, 남편, 모두, 충격, 대한, 가족, 엄마, 소설, 용의자, 공포, 점점, 여인, 아버지, 시간, 추적, 게임, 의심, 수사, 사진, 조사, 소녀, 영화제, 이후, 랭던, 시체, 실종, 아빠, 다시, 몰카, 자살, 혼란, 지목, 무엇, 병원, 누군가, 아들, 불명, 거미숲, 납치, 세상, 모습, 작가, 사이먼, 명의, 마지막, 누구, 생각, 소리, 계속, 전화, 주변, 단서, 박사, 의사, 상황, 이자, 존재, 통해, 수연, 홈즈, 종섭, 한나, 연쇄살인범, \n",
            "범죄: 사건, 위해, 자신, 경찰, 시작, 그녀, 범죄, 조직, 살인, 사람, 마약, 형사, 남자, 모든, 살해, 수사, 발견, 한길수, 범인, 계획, 은행, 작전, 여자, 아버지, 사실, 동료, 영화, 다시, 보스, 친구, 한편, 미국, 상황, 마피아, 점점, 용의자, 복수, 제안, 다른, 대한, 마을, 아내, 아들, 이자, 시체, 가족, 사랑, 요원, 추적, 과연, 세상, 마지막, 하나, 이야기, 프랭크, 조사, 감옥, 세계, 시간, 비밀, 납치, 현장, 대해, 충격, 파푸아, 의문, 금고, 목숨, 모두, 소년, 가장, 바로, 최고, 생각, 명의, 죽음, 교도소, 테러범, 서로, 강도, 발생, 마샨, 계속, 영화제, 사고, 거래, 달러, 진실, 단서, 순간, 통해, 실종, 위협, 인생, 테러, 이제, 아이, 의심, 기억, 검사, \n",
            "사극: 조선, 위해, 시작, 신기전, 사랑, 자신, 아가멤논, 황제, 그녀, 루안, 최고, 운명, 사람, 하선, 전쟁, 윤서, 트로이, 세자, 허균, 노준, 채선, 신재효, 히파티아, 권력, 아킬레스, 양반, 정조, 광해군, 브리튼, 독립군, 사건, 임숭재, 윤복, 광헌, 대호, 백성, 청나라, 김민, 역사, 흥부, 팔도, 조혁, 영조, 관상, 공진, 마음, 이야기, 모든, 소리, 포수, 가장, 채경, 김정호, 만덕, 아더, 그리스, 일본군, 조항리, 설주, 홍리, 바토리, 명탐정, 한양, 방자, 몽룡, 영정, 기생, 아들, 사이, 한편, 오동, 볼린, 대군, 무예, 목숨, 생각, 세상, 소율, 시진, 황자, 총통, 윤우, 세종, 승려, 자객, 대역, 동생, 마지막, 아버지, 이자, 죽음, 시대, 오전, 대륙, 왕비, 천둥, 음란, 노래, 견자단, 장안, \n",
            "서부극(웨스턴): 서부, 보안관, 위해, 벌린, 카우보이, 그레이프바인, 헨리, 마을, 자신, 개릿, 아이, 시작, 무법자, 프린트, 마적, 태구, 현상금, 분노, 버질, 랜던, 스탠리, 가족, 제임스, 복수, 아내, 사람, 교수형, 장고, 만도, 듀발, 마리아, 사냥, 니아, 총잡이, 아르, 찰리, 카운티, 아버지, 아들, 사랑, 열차, 멕시코, 알프스, 링컨, 릴리, 교도소, 사냥꾼, 엠마, 부하, 정의, 패거리, 누가, 목장, 숙명, 마차, 대결, 개척, 미국, 형제, 가득, 생활, 싸움, 동료, 도착, 매춘부, 대륙, 동생, 제안, 서로, 한편, 더치, 바운티, 도브, 악당, 난무, 말레피센트, 추적자, 하몬, 쉐리, 조성하, 독고, 거가, 리터, 교회, 은행, 보스, 기차, 수호, 범죄자, 전투, 혼전, 잔악, 베닝, 혈혈, 방목, 설리반, 무법천지, 마이클, 고독, 자연, \n",
            "성인물(에로): 그녀, 남편, 마사지, 자신, 섹스, 관계, 영화, 정사, 남자, 위해, 시작, 여자, 유부녀, 마음, 사랑, 에피소드, 그린, 아내, 다시, 자위, 이야기, 회사, 친구, 불륜, 사실, 결혼, 욕구, 때문, 유이, 모습, 부부, 유혹, 서로, 사람, 욕구불만, 손님, 유우, 성적, 성관계, 유코, 한편, 유미, 행각, 유키, 사이, 여성, 생활, 생각, 카즈야, 아버지, 요구, 출장, 카나, 요코, 역시, 애무, 스케, 시간, 새엄마, 타케시, 혼자, 하루, 아오이, 히토미, 몰래, 성욕, 다른, 아들, 보고, 미키, 레이, 잠자리, 타츠야, 미사, 토오루, 직원, 가게, 아키, 육체, 누나, 이치, 동생, 아이, 히로시, 손길, 사유리, 시오리, 대한, 유리, 미카, 파친코, 쿄코, 이쿠, 카오리, 타루, 사장, 엄마, 운영, 모든, 대로, \n",
            "스릴러: 자신, 그녀, 사건, 시작, 위해, 사람, 살인, 남자, 발견, 아내, 경찰, 친구, 모든, 사실, 살해, 가족, 형사, 점점, 비밀, 사랑, 여자, 사고, 범인, 아들, 남편, 마을, 죽음, 진실, 충격, 다른, 시간, 하나, 기억, 수사, 영화, 상황, 소녀, 이야기, 시체, 게임, 정체, 용의자, 모두, 의문, 발생, 다시, 계속, 영화제, 아버지, 대한, 아이, 생활, 사이, 관계, 명의, 서로, 목숨, 통해, 현장, 과거, 순간, 생각, 이제, 납치, 한편, 요원, 실종, 계획, 의심, 존재, 복수, 과연, 모습, 동생, 회사, 위협, 목격, 공포, 전화, 조직, 엄마, 부부, 무엇, 흔적, 단서, 추적, 여인, 매력, 도움, 행동, 갑자기, 아파트, 세상, 여행, 이자, 조사, 마지막, 마음, 동료, 주변, \n",
            "애니메이션: 애니메이션, 국제, 영화제, 친구, 인디애니페스트, 위해, 자신, 시작, 사람, 페스티벌, 서울, 이야기, 아이, 마을, 소녀, 세계, 세상, 애니, 단편, 남자, 그녀, 소년, 부문, 과연, 작품, 만화, 사랑, 인간, 도롱, 부천, 우리, 동물, 대한, 다른, 모든, 엄마, 최강, 모험, 할아버지, 도시, 다시, 발견, 주인공, 지구, 시간, 가족, 생각, 마법, 경쟁, 모습, 마음, 영화, 우주, 통해, 아빠, 모두, 하나, 고양이, 여행, 퍼니퍼, 여자, 사건, 고고, 아버지, 위기, 왕국, 기억, 때문, 사이, 비밀, 괴물, 학생, 악당, 공룡, 펭귄, 꼬마, 가지, 로봇, 사실, 서로, 표현, 나무, 바다, 할머니, 아기, 연출, 간다, 코리아, 의도, 임팩트, 가장, 환경, 강아지, 존재, 그림, 곰퉁, 순간, 타고, 갑자기, 하늘, \n",
            "액션: 위해, 자신, 시작, 조직, 사건, 사람, 그녀, 경찰, 전쟁, 모든, 목숨, 사실, 친구, 가족, 요원, 임무, 범죄, 세계, 살인, 한편, 아버지, 복수, 죽음, 아들, 마약, 비밀, 납치, 남자, 다시, 보스, 마을, 위협, 영화, 상황, 사랑, 세상, 살해, 최고, 테러, 미국, 형사, 모두, 동료, 정체, 과연, 공격, 인간, 음모, 지구, 작전, 계획, 발견, 아내, 다른, 마지막, 이제, 명의, 이자, 위기, 수사, 탈출, 킬러, 발생, 인류, 과거, 하나, 시간, 무기, 암살, 범인, 부대, 사고, 운명, 때문, 갱단, 무술, 전투, 뱀파이어, 위험, 의문, 도움, 도시, 서로, 사이, 액션, 점점, 싸움, 현장, 감옥, 게임, 전사, 가장, 러시아, 수행, 대한, 여자, 마피아, 순간, 정보, 대결, \n",
            "어드벤처: 위해, 자신, 시작, 친구, 마을, 아버지, 영화, 아이, 사람, 여행, 세계, 앤트, 세상, 가족, 모험, 비밀, 대한, 이야기, 모든, 소년, 여정, 모두, 인간, 발견, 영화제, 한편, 옥자, 남자, 그녀, 도시, 원주민, 전쟁, 보물, 과연, 사랑, 사실, 동물, 지구, 위기, 아들, 국제, 윈치, 탈출, 펠레, 위협, 계획, 다른, 마법, 크루소, 엄마, 가장, 요정, 이름, 지역, 양말, 루카스, 아내, 죽음, 부족, 결혼, 소원, 히어로, 할아버지, 썰매개, 학교, 위험, 미션, 어둠, 바다, 상황, 간다, 점점, 비행기, 부모님, 미래, 전설, 순간, 생활, 다시, 소녀, 루거, 프리몬트, 파비, 윈치그룹, 하니프, 알라딘, 왕자, 여자, 시대, 아프리카, 결심, 서로, 시간, 앵거스, 공룡, 우주선, 바로, 찾기, 모습, 우스, \n",
            "전쟁: 전쟁, 독일군, 전투, 위해, 작전, 시작, 부대, 윈터스, 독일, 연합군, 미군, 임무, 자신, 사람, 나치, 병사, 공격, 이지중대, 혁리, 대원, 중위, 세계대전, 군인, 동막골, 대위, 프랑스, 영국, 미국, 목숨, 장군, 전장, 상황, 나폴레옹, 명령, 일본군, 소련군, 지역, 러시아군, 고구려, 그녀, 갈리폴리, 라핀, 모두, 점령, 투입, 전투기, 사수, 마지막, 아군, 상륙작전, 폴란드, 지휘, 진격, 전방, 포로, 수행, 대령, 저항, 히틀러, 공중전, 중령, 지원, 구출, 소말리아, 중대장, 북한, 영국군, 다른, 가장, 올로, 평양성, 포렐, 중대, 탱크, 영화, 탈출, 일본, 노르망디, 전우, 소대, 파일럿, 사이, 폭격, 최후, 동료, 인천, 사살, 마을, 명의, 사랑, 총공격, 레닌그라드, 모가디슈, 다이크, 버넷, 승리, 학살, 특수, 역사, 적진, \n",
            "코미디: 그녀, 자신, 시작, 위해, 사랑, 사람, 친구, 영화, 남자, 여자, 영화제, 가족, 과연, 마을, 사건, 이야기, 인생, 아이, 아버지, 마음, 모든, 생각, 결혼, 엄마, 서로, 생활, 다른, 코미디, 사실, 대한, 감독, 국제, 아들, 때문, 다시, 모두, 세상, 바로, 시간, 아내, 최고, 사고, 학교, 섹스, 여행, 사이, 이제, 하나, 명의, 위기, 회사, 여자친구, 상황, 한편, 작품, 파티, 남편, 마지막, 연애, 모습, 계획, 아빠, 배우, 주인공, 점점, 이자, 관계, 가장, 매력, 단편, 형사, 하루, 밴드, 제안, 결심, 우리, 경찰, 발견, 문제, 순간, 소년, 동안, 가지, 준비, 세계, 간다, 삼순, 결혼식, 비밀, 클럽, 만난, 현실, 대학, 게다가, 서울, 통해, 계속, 로부터, 여성, 스타, \n",
            "판타지: 자신, 그녀, 시작, 위해, 사람, 사랑, 요괴, 영화제, 이야기, 영화, 소녀, 남자, 인간, 세상, 마을, 세계, 국제, 마법, 알렉스, 존재, 사건, 순영, 판타스틱, 친구, 아이, 모습, 여자, 모든, 부천, 서로, 시간, 기억, 유령, 현실, 비밀, 다른, 과거, 발견, 왕자, 사실, 순간, 하나, 공주, 공격, 죽음, 남보라, 다시, 엄마, 과연, 한편, 뱀파이어, 아버지, 운명, 통해, 차사, 괴물, 니모, 전설, 주인공, 왕국, 원풍, 작품, 왕비, 편지, 꼬마, 악마, 정체, 우주, 마음, 소년, 공간, 마지막, 덤블도어, 저승, 생각, 도움, 마법사, 탈출, 전쟁, 에드워드, 노인, 해리, 수현, 신들, 대인, 점점, 가장, 대한, 이자, 바버라, 얌마, 나서스, 단편, 에바, 목숨, 모두, 능력, 거인, 벨라, 미래, \n"
          ]
        }
      ]
    },
    {
      "cell_type": "markdown",
      "source": [
        "각장르를 대표하는 단어 상위 100개씩을 출력해보았다. "
      ],
      "metadata": {
        "id": "Qv2niQPtVDWu"
      }
    },
    {
      "cell_type": "markdown",
      "source": [
        "## WEAT 함수\n",
        "LMS에서 보았던 WEAT score를 구하는 함수를 미리 정의해두겠다.\n",
        "\n",
        "![d](https://img1.daumcdn.net/thumb/R1280x0/?scode=mtistory2&fname=https%3A%2F%2Fblog.kakaocdn.net%2Fdn%2FlIdzl%2FbtrxziHrxij%2FJ80Fvy4Cat00YKzynksfb0%2Fimg.png)"
      ],
      "metadata": {
        "id": "qFcvvALj2hOV"
      }
    },
    {
      "cell_type": "code",
      "source": [
        "import numpy as np\n",
        "from numpy import dot\n",
        "from numpy.linalg import norm\n",
        "\n",
        "def cos_sim(i, j):\n",
        "    return dot(i, j.T)/(norm(i)*norm(j))\n",
        "\n",
        "def s(w, A, B):\n",
        "    c_a = cos_sim(w, A)\n",
        "    c_b = cos_sim(w, B)\n",
        "    mean_A = np.mean(c_a, axis=-1)\n",
        "    mean_B = np.mean(c_b, axis=-1)\n",
        "    return mean_A - mean_B #, c_a, c_b\n",
        "\n",
        "def weat_score(X, Y, A, B):\n",
        "    \n",
        "    s_X = s(X, A, B)\n",
        "    s_Y = s(Y, A, B)\n",
        "\n",
        "    mean_X = np.mean(s_X)\n",
        "    mean_Y = np.mean(s_Y)\n",
        "    \n",
        "    std_dev = np.std(np.concatenate([s_X, s_Y], axis=0))\n",
        "    \n",
        "    return  (mean_X-mean_Y)/std_dev"
      ],
      "metadata": {
        "id": "LcfrnTRt2ut7"
      },
      "execution_count": 80,
      "outputs": []
    },
    {
      "cell_type": "markdown",
      "source": [
        "target_X 는 art(예술영화 - dt_topics_art[9]), target_Y 는 gen(상업영화 - dt_topics_gen[0])으로 고정하고 attribute_A, attribute_B를 영화 장르 바꿔가면서 WEAT score를 구해보겠다.  "
      ],
      "metadata": {
        "id": "5WcJqRZFxAOH"
      }
    },
    {
      "cell_type": "code",
      "source": [
        "matrix = [[0 for _ in range(len(genre_name))] for _ in range(len(genre_name))]\n",
        "\n",
        "X = np.array([model[word] for word in dt_topics_art[8]]) \n",
        "Y = np.array([model[word] for word in dt_topics_gen[1]])\n",
        "\n",
        "for i in range(len(genre_name)-1):\n",
        "    for j in range(i+1, len(genre_name)):\n",
        "        A = np.array([model[word] for word in attributes[i]])\n",
        "        B = np.array([model[word] for word in attributes[j]])\n",
        "        matrix[i][j] = weat_score(X, Y, A, B)"
      ],
      "metadata": {
        "id": "G6JEjp1XTYR6",
        "colab": {
          "base_uri": "https://localhost:8080/"
        },
        "outputId": "54908147-c0e5-4e1e-e104-063e22c94e0f"
      },
      "execution_count": 108,
      "outputs": [
        {
          "output_type": "stream",
          "name": "stderr",
          "text": [
            "/usr/local/lib/python3.7/dist-packages/ipykernel_launcher.py:3: DeprecationWarning: Call to deprecated `__getitem__` (Method will be removed in 4.0.0, use self.wv.__getitem__() instead).\n",
            "  This is separate from the ipykernel package so we can avoid doing imports until\n",
            "/usr/local/lib/python3.7/dist-packages/ipykernel_launcher.py:4: DeprecationWarning: Call to deprecated `__getitem__` (Method will be removed in 4.0.0, use self.wv.__getitem__() instead).\n",
            "  after removing the cwd from sys.path.\n",
            "/usr/local/lib/python3.7/dist-packages/ipykernel_launcher.py:8: DeprecationWarning: Call to deprecated `__getitem__` (Method will be removed in 4.0.0, use self.wv.__getitem__() instead).\n",
            "  \n",
            "/usr/local/lib/python3.7/dist-packages/ipykernel_launcher.py:9: DeprecationWarning: Call to deprecated `__getitem__` (Method will be removed in 4.0.0, use self.wv.__getitem__() instead).\n",
            "  if __name__ == '__main__':\n"
          ]
        }
      ]
    },
    {
      "cell_type": "code",
      "source": [
        "for i in range(len(genre_name)-1):\n",
        "    for j in range(i+1, len(genre_name)):\n",
        "        print(genre_name[i], genre_name[j],matrix[i][j])"
      ],
      "metadata": {
        "colab": {
          "base_uri": "https://localhost:8080/"
        },
        "id": "3ZAu5J-sTekr",
        "outputId": "75cce4dd-1d47-48dd-925c-2921490b7e01"
      },
      "execution_count": 109,
      "outputs": [
        {
          "output_type": "stream",
          "name": "stdout",
          "text": [
            "SF 가족 0.37366888\n",
            "SF 공연 0.6314071\n",
            "SF 공포(호러) 0.1162023\n",
            "SF 기타 0.3819581\n",
            "SF 다큐멘터리 0.26611438\n",
            "SF 드라마 0.33473614\n",
            "SF 멜로로맨스 0.3304492\n",
            "SF 뮤지컬 0.58650905\n",
            "SF 미스터리 0.20474899\n",
            "SF 범죄 0.48965794\n",
            "SF 사극 0.6219441\n",
            "SF 서부극(웨스턴) 0.64099693\n",
            "SF 성인물(에로) 0.37474144\n",
            "SF 스릴러 0.25632006\n",
            "SF 애니메이션 0.26527587\n",
            "SF 액션 0.6257428\n",
            "SF 어드벤처 0.26029122\n",
            "SF 전쟁 0.6587029\n",
            "SF 코미디 0.48794702\n",
            "SF 판타지 0.27789143\n",
            "가족 공연 0.8076109\n",
            "가족 공포(호러) -0.5284255\n",
            "가족 기타 0.1658264\n",
            "가족 다큐멘터리 -0.08879883\n",
            "가족 드라마 0.022357618\n",
            "가족 멜로로맨스 0.2175146\n",
            "가족 뮤지컬 0.56457174\n",
            "가족 미스터리 -0.3281212\n",
            "가족 범죄 -0.14236927\n",
            "가족 사극 0.16488492\n",
            "가족 서부극(웨스턴) 0.077255376\n",
            "가족 성인물(에로) 0.3158068\n",
            "가족 스릴러 -0.25364822\n",
            "가족 애니메이션 -0.3686079\n",
            "가족 액션 -0.16140126\n",
            "가족 어드벤처 -0.5283677\n",
            "가족 전쟁 0.09027791\n",
            "가족 코미디 0.63927376\n",
            "가족 판타지 -0.4462954\n",
            "공연 공포(호러) -0.7341388\n",
            "공연 기타 -0.4287723\n",
            "공연 다큐멘터리 -0.5288567\n",
            "공연 드라마 -0.69721013\n",
            "공연 멜로로맨스 -0.13234925\n",
            "공연 뮤지컬 -0.26514012\n",
            "공연 미스터리 -0.59553903\n",
            "공연 범죄 -0.45719635\n",
            "공연 사극 -0.6206052\n",
            "공연 서부극(웨스턴) -0.43284845\n",
            "공연 성인물(에로) -0.00811668\n",
            "공연 스릴러 -0.545512\n",
            "공연 애니메이션 -0.9360412\n",
            "공연 액션 -0.43526226\n",
            "공연 어드벤처 -0.9054695\n",
            "공연 전쟁 -0.1731012\n",
            "공연 코미디 -0.49567375\n",
            "공연 판타지 -0.90312856\n",
            "공포(호러) 기타 0.39964324\n",
            "공포(호러) 다큐멘터리 0.20026046\n",
            "공포(호러) 드라마 0.39768815\n",
            "공포(호러) 멜로로맨스 0.4476438\n",
            "공포(호러) 뮤지컬 0.62564456\n",
            "공포(호러) 미스터리 0.4607848\n",
            "공포(호러) 범죄 0.380246\n",
            "공포(호러) 사극 0.56521964\n",
            "공포(호러) 서부극(웨스턴) 0.5777531\n",
            "공포(호러) 성인물(에로) 0.50247985\n",
            "공포(호러) 스릴러 0.5858125\n",
            "공포(호러) 애니메이션 0.22787054\n",
            "공포(호러) 액션 0.17665161\n",
            "공포(호러) 어드벤처 0.19798882\n",
            "공포(호러) 전쟁 0.32921594\n",
            "공포(호러) 코미디 0.68301415\n",
            "공포(호러) 판타지 0.26906183\n",
            "기타 다큐멘터리 -0.42991328\n",
            "기타 드라마 -0.26039526\n",
            "기타 멜로로맨스 0.07472833\n",
            "기타 뮤지컬 0.42252773\n",
            "기타 미스터리 -0.29387054\n",
            "기타 범죄 -0.18185467\n",
            "기타 사극 -0.037677165\n",
            "기타 서부극(웨스턴) -0.055885773\n",
            "기타 성인물(에로) 0.16456532\n",
            "기타 스릴러 -0.24349792\n",
            "기타 애니메이션 -0.5254297\n",
            "기타 액션 -0.19604243\n",
            "기타 어드벤처 -0.40961635\n",
            "기타 전쟁 0.010326855\n",
            "기타 코미디 0.102669336\n",
            "기타 판타지 -0.43857044\n",
            "다큐멘터리 드라마 0.13646895\n",
            "다큐멘터리 멜로로맨스 0.17741883\n",
            "다큐멘터리 뮤지컬 0.56584114\n",
            "다큐멘터리 미스터리 -0.11043633\n",
            "다큐멘터리 범죄 -0.034628525\n",
            "다큐멘터리 사극 0.20581551\n",
            "다큐멘터리 서부극(웨스턴) 0.11200731\n",
            "다큐멘터리 성인물(에로) 0.23726262\n",
            "다큐멘터리 스릴러 -0.07154876\n",
            "다큐멘터리 애니메이션 -0.12052722\n",
            "다큐멘터리 액션 -0.069974646\n",
            "다큐멘터리 어드벤처 -0.16598012\n",
            "다큐멘터리 전쟁 0.15199171\n",
            "다큐멘터리 코미디 0.2833205\n",
            "다큐멘터리 판타지 -0.13578142\n",
            "드라마 멜로로맨스 0.20356424\n",
            "드라마 뮤지컬 0.589789\n",
            "드라마 미스터리 -0.26497605\n",
            "드라마 범죄 -0.12140467\n",
            "드라마 사극 0.1146459\n",
            "드라마 서부극(웨스턴) 0.043283634\n",
            "드라마 성인물(에로) 0.29133952\n",
            "드라마 스릴러 -0.20620485\n",
            "드라마 애니메이션 -0.37300134\n",
            "드라마 액션 -0.1422389\n",
            "드라마 어드벤처 -0.38153705\n",
            "드라마 전쟁 0.0752503\n",
            "드라마 코미디 0.4867626\n",
            "드라마 판타지 -0.39911398\n",
            "멜로로맨스 뮤지컬 0.07732925\n",
            "멜로로맨스 미스터리 -0.38564494\n",
            "멜로로맨스 범죄 -0.21843928\n",
            "멜로로맨스 사극 -0.09167876\n",
            "멜로로맨스 서부극(웨스턴) -0.11158546\n",
            "멜로로맨스 성인물(에로) 0.4848691\n",
            "멜로로맨스 스릴러 -0.3493388\n",
            "멜로로맨스 애니메이션 -0.28865662\n",
            "멜로로맨스 액션 -0.21274917\n",
            "멜로로맨스 어드벤처 -0.34625885\n",
            "멜로로맨스 전쟁 -0.034697857\n",
            "멜로로맨스 코미디 -0.0360165\n",
            "멜로로맨스 판타지 -0.32939103\n",
            "뮤지컬 미스터리 -0.4975659\n",
            "뮤지컬 범죄 -0.38398254\n",
            "뮤지컬 사극 -0.48282632\n",
            "뮤지컬 서부극(웨스턴) -0.31636924\n",
            "뮤지컬 성인물(에로) 0.031046674\n",
            "뮤지컬 스릴러 -0.44628057\n",
            "뮤지컬 애니메이션 -0.909227\n",
            "뮤지컬 액션 -0.3793807\n",
            "뮤지컬 어드벤처 -0.7735067\n",
            "뮤지컬 전쟁 -0.13627529\n",
            "뮤지컬 코미디 -0.27230337\n",
            "뮤지컬 판타지 -0.79899436\n",
            "미스터리 범죄 0.17889258\n",
            "미스터리 사극 0.37734434\n",
            "미스터리 서부극(웨스턴) 0.37277788\n",
            "미스터리 성인물(에로) 0.4563943\n",
            "미스터리 스릴러 0.37871584\n",
            "미스터리 애니메이션 0.07673067\n",
            "미스터리 액션 0.04676423\n",
            "미스터리 어드벤처 -0.010331084\n",
            "미스터리 전쟁 0.23895097\n",
            "미스터리 코미디 0.53001755\n",
            "미스터리 판타지 0.05890185\n",
            "범죄 사극 0.28882316\n",
            "범죄 서부극(웨스턴) 0.34349933\n",
            "범죄 성인물(에로) 0.28802168\n",
            "범죄 스릴러 -0.09406553\n",
            "범죄 애니메이션 -0.030980641\n",
            "범죄 액션 -0.14560081\n",
            "범죄 어드벤처 -0.15040185\n",
            "범죄 전쟁 0.2468037\n",
            "범죄 코미디 0.31126687\n",
            "범죄 판타지 -0.07545582\n",
            "사극 서부극(웨스턴) -0.08014512\n",
            "사극 성인물(에로) 0.17687824\n",
            "사극 스릴러 -0.32121104\n",
            "사극 애니메이션 -0.5158526\n",
            "사극 액션 -0.31666896\n",
            "사극 어드벤처 -0.8385438\n",
            "사극 전쟁 0.04525773\n",
            "사극 코미디 0.17430003\n",
            "사극 판타지 -0.6442969\n",
            "서부극(웨스턴) 성인물(에로) 0.19636492\n",
            "서부극(웨스턴) 스릴러 -0.32381117\n",
            "서부극(웨스턴) 애니메이션 -0.2749112\n",
            "서부극(웨스턴) 액션 -0.37554857\n",
            "서부극(웨스턴) 어드벤처 -0.57250375\n",
            "서부극(웨스턴) 전쟁 0.08406443\n",
            "서부극(웨스턴) 코미디 0.17090851\n",
            "서부극(웨스턴) 판타지 -0.36808273\n",
            "성인물(에로) 스릴러 -0.4244487\n",
            "성인물(에로) 애니메이션 -0.35251468\n",
            "성인물(에로) 액션 -0.27068672\n",
            "성인물(에로) 어드벤처 -0.4026602\n",
            "성인물(에로) 전쟁 -0.09134562\n",
            "성인물(에로) 코미디 -0.16939732\n",
            "성인물(에로) 판타지 -0.38855904\n",
            "스릴러 애니메이션 0.02021486\n",
            "스릴러 액션 -0.007743399\n",
            "스릴러 어드벤처 -0.08485979\n",
            "스릴러 전쟁 0.2074299\n",
            "스릴러 코미디 0.46853104\n",
            "스릴러 판타지 -0.0153900385\n",
            "애니메이션 액션 -0.021777526\n",
            "애니메이션 어드벤처 -0.18020543\n",
            "애니메이션 전쟁 0.22449647\n",
            "애니메이션 코미디 0.620639\n",
            "애니메이션 판타지 -0.100908175\n",
            "액션 어드벤처 -0.058182742\n",
            "액션 전쟁 0.37376317\n",
            "액션 코미디 0.29526365\n",
            "액션 판타지 -0.0038175555\n",
            "어드벤처 전쟁 0.31121132\n",
            "어드벤처 코미디 0.71530145\n",
            "어드벤처 판타지 0.18605004\n",
            "전쟁 코미디 0.032571513\n",
            "전쟁 판타지 -0.24998172\n",
            "코미디 판타지 -0.72325367\n"
          ]
        }
      ]
    },
    {
      "cell_type": "code",
      "source": [
        "import numpy as np; \n",
        "import seaborn as sns; \n",
        "\n",
        "np.random.seed(0)\n",
        "sns.set(font='NanumGothic') # 한글 지원 폰트\n",
        "\n",
        "plt.figure(figsize=(14,14))\n",
        "plt.rcParams['axes.unicode_minus'] = False\n",
        "\n",
        "ax = sns.heatmap(matrix, xticklabels=genre_name, yticklabels=genre_name, annot=True,  cmap='RdYlGn_r')\n",
        "ax"
      ],
      "metadata": {
        "colab": {
          "base_uri": "https://localhost:8080/",
          "height": 891
        },
        "id": "A6fpkRir8Mg8",
        "outputId": "5ab3aa10-1a18-454f-cb17-5a328db0a764"
      },
      "execution_count": 112,
      "outputs": [
        {
          "output_type": "execute_result",
          "data": {
            "text/plain": [
              "<matplotlib.axes._subplots.AxesSubplot at 0x7f142b5b3e90>"
            ]
          },
          "metadata": {},
          "execution_count": 112
        },
        {
          "output_type": "display_data",
          "data": {
            "text/plain": [
              "<Figure size 1008x1008 with 2 Axes>"
            ],
            "image/png": "[encoded data removed]"
          },
          "metadata": {}
        }
      ]
    },
    {
      "cell_type": "markdown",
      "source": [
        "## WEAT Score 분석\n",
        "\n",
        "- 히트맵에 나타나는 수치는 편향성을 뜻한다. \n",
        " - 0에 가까우면 두 장르간 편향성이 없다고 볼수 있다. (노란색)\n",
        "\n",
        "- 히트맵에 나타나는 색의 강도는 편향성이 존재함을 나타낸다.\n",
        " - 붉은색이 진할수록 y축의 장르는 Target A(예술영화)에 편향되어으며 x축의 장르는 TargetB(상업영화)에 편향되었다고 볼 수있다. \n",
        " - 초록색이 진할 경우는 반대로 y축의 장르는 TargetB(상업영화)에 편향되어으며 x축의 장르는 Target A(예술영화)에 편향되었다고 볼 수있다. \n",
        "\n",
        "---\n",
        "편향성이 나타난 0.7(붉은색), -0.7(초록색) 이상의 점수로 나타난 몇가지 경우를 분석해보자.\n",
        "\n",
        "1. 가족, 공연 : 0.81\n",
        " - 가족영화 장르는 예술영화에, 공연영화장르는 상업영화에 편향되어있다.\n",
        "2. 어드벤처, 코미디 : 0.72\n",
        " - 어드벤처영화 장르는 예술영화에, 코미디영화장르는 상업영화에 편향되어있다.\n",
        "3. 공연, 애니메이션 : -0.94\n",
        " - 공연영화 장르는 상업영화에 애니메이션장르는 예술영화에 편향되어있다.\n",
        "4. 사극, 어드벤처 : -0.94\n",
        " - 사극 장르는 상업영화에 어드벤처장르는 예술영화에 편향되어있다.\n",
        "\n",
        "\n",
        "히트맵을 전반적으로 볼때 상업영화에 편향된 장르(붉은색)는 SF, 공포, 코미디,  성인물, 전쟁 영화등이였고  예술영화에 편향된 장르(초록색)는 공연, 뮤지컬, 판타지, 애니메이션 장르로 나타났다. 그외의 장르는 상업영화와 예술영화에 편향이 크게 존재하지 않는다고 분석할수 있겠다."
      ],
      "metadata": {
        "id": "byibu9f2w1rY"
      }
    },
    {
      "cell_type": "markdown",
      "source": [
        "## Reference\n",
        "- [Evaluating Metrics for Bias in Word Embeddings](https://arxiv.org/pdf/2111.07864.pdf)"
      ],
      "metadata": {
        "id": "cLVHrnf5tXV6"
      }
    }
  ]
}