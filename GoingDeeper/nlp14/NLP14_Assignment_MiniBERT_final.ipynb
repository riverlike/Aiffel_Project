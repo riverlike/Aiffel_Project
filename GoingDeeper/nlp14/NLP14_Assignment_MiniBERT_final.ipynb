{
  "cells": [
    {
      "cell_type": "markdown",
      "metadata": {
        "id": "6dCkncUhUV2q"
      },
      "source": [
        "# mini BERT 만들기\n",
        "\n",
        "- BERT pretrained model\n",
        " - vocab size : 8000\n",
        " - 전체 파라미터 사이즈 : 1M \n",
        " - 학습횟수 : 10 Epoch\n"
      ]
    },
    {
      "cell_type": "code",
      "execution_count": 1,
      "metadata": {
        "colab": {
          "base_uri": "https://localhost:8080/"
        },
        "id": "W7Qd3JXSgIo0",
        "outputId": "2b444b38-967a-4230-ec95-e1ec6fc08098"
      },
      "outputs": [
        {
          "output_type": "stream",
          "name": "stdout",
          "text": [
            "2.8.0\n",
            "1.21.6\n",
            "1.3.5\n",
            "3.2.2\n",
            "2.0.9\n",
            "2.2.1\n"
          ]
        }
      ],
      "source": [
        "import tensorflow\n",
        "import numpy\n",
        "import pandas\n",
        "import matplotlib\n",
        "import json\n",
        "import re\n",
        "\n",
        "print(tensorflow.__version__)\n",
        "print(numpy.__version__)\n",
        "print(pandas.__version__)\n",
        "print(matplotlib.__version__)\n",
        "print(json.__version__)\n",
        "print(re.__version__)"
      ]
    },
    {
      "cell_type": "code",
      "execution_count": 2,
      "metadata": {
        "id": "Q-BeW1Rz-swF"
      },
      "outputs": [],
      "source": [
        "!mkdir 'models'\n",
        "!mkdir 'data'\n",
        "!unzip -qq '/content/drive/MyDrive/Colab Notebooks/Aiffel/03_GoingDeeper/14/data_234M/kowiki.txt.zip' -d './data'"
      ]
    },
    {
      "cell_type": "code",
      "execution_count": 3,
      "metadata": {
        "colab": {
          "base_uri": "https://localhost:8080/"
        },
        "id": "sCmjicgq-u5V",
        "outputId": "e2db3f50-f740-4db8-c964-75f39503d54a"
      },
      "outputs": [
        {
          "output_type": "stream",
          "name": "stdout",
          "text": [
            "Collecting sentencepiece\n",
            "  Downloading sentencepiece-0.1.96-cp37-cp37m-manylinux_2_17_x86_64.manylinux2014_x86_64.whl (1.2 MB)\n",
            "\u001b[K     |████████████████████████████████| 1.2 MB 12.7 MB/s \n",
            "\u001b[?25hInstalling collected packages: sentencepiece\n",
            "Successfully installed sentencepiece-0.1.96\n"
          ]
        }
      ],
      "source": [
        "!pip install sentencepiece"
      ]
    },
    {
      "cell_type": "markdown",
      "metadata": {
        "id": "TTzsXEEvUVW7"
      },
      "source": [
        "# 1. Tokenizer 준비\n",
        "- BERT의 MLM 학습용 데이터 \n",
        " - 한글 나무 위키 코퍼스로부터 8000의 vocab_size를 갖는 sentencepiece 모델\n",
        " - BERT에 사용되는 주요 특수문자가 vocab에 포함됨 : [SEP],[CLS],[MASK]\n",
        "\n",
        "\n",
        "\n",
        "\n",
        "\n",
        "\n",
        "\n"
      ]
    },
    {
      "cell_type": "code",
      "execution_count": 4,
      "metadata": {
        "id": "aBbOvhX--sYI"
      },
      "outputs": [],
      "source": [
        "import sentencepiece as spm\n",
        "import os\n",
        "corpus_file = '/content/data/kowiki.txt'\n",
        "prefix = 'ko_8000'\n",
        "vocab_size = 8000\n",
        "\n",
        "spm.SentencePieceTrainer.train(\n",
        "    f\"--input={corpus_file} --model_prefix={prefix} --vocab_size={vocab_size + 7}\" +  # 7 : 특수토큰 + 사용자정의토큰\n",
        "    \" --model_type=bpe\" +\n",
        "    \" --max_sentence_length=999999\" + # 문장 최대 길이\n",
        "    \" --pad_id=0 --pad_piece=[PAD]\" + # pad (0)\n",
        "    \" --unk_id=1 --unk_piece=[UNK]\" + # unknown (1)\n",
        "    \" --bos_id=2 --bos_piece=[BOS]\" + # begin of sequence (2)\n",
        "    \" --eos_id=3 --eos_piece=[EOS]\" + # end of sequence (3)\n",
        "    \" --user_defined_symbols=[SEP],[CLS],[MASK]\") # 사용자 정의 토큰\n"
      ]
    },
    {
      "cell_type": "code",
      "execution_count": 5,
      "metadata": {
        "colab": {
          "base_uri": "https://localhost:8080/"
        },
        "id": "jpbtR4pg_DDt",
        "outputId": "7d842ef2-480f-40f4-87d5-55ec0732fb84"
      },
      "outputs": [
        {
          "output_type": "execute_result",
          "data": {
            "text/plain": [
              "True"
            ]
          },
          "metadata": {},
          "execution_count": 5
        }
      ],
      "source": [
        "data_dir = '/content/data'\n",
        "model_dir = '/content/models'\n",
        "\n",
        "# vocab loading\n",
        "vocab = spm.SentencePieceProcessor()\n",
        "vocab.load(f\"ko_8000.model\")"
      ]
    },
    {
      "cell_type": "markdown",
      "metadata": {
        "id": "Yr479rOO_PK1"
      },
      "source": [
        "토크나이징 결과 확인"
      ]
    },
    {
      "cell_type": "code",
      "execution_count": 6,
      "metadata": {
        "colab": {
          "base_uri": "https://localhost:8080/"
        },
        "id": "L7r0JFik_SCk",
        "outputId": "167958fe-4114-4eb1-e0c9-8456a8548bdd"
      },
      "outputs": [
        {
          "output_type": "stream",
          "name": "stdout",
          "text": [
            "vocab size: 8000\n"
          ]
        }
      ],
      "source": [
        "# 특수 token 7개를 제외한 나머지 tokens 들\n",
        "vocab_list = []\n",
        "for id in range(7, len(vocab)):\n",
        "    if not vocab.is_unknown(id):\n",
        "        vocab_list.append(vocab.id_to_piece(id))\n",
        "\n",
        "print('vocab size:', len(vocab_list))"
      ]
    },
    {
      "cell_type": "code",
      "execution_count": 7,
      "metadata": {
        "colab": {
          "base_uri": "https://localhost:8080/"
        },
        "id": "ncOvXC-7_Sxs",
        "outputId": "23d7c6c0-0da9-436c-a4dd-348f7abd38a0"
      },
      "outputs": [
        {
          "output_type": "execute_result",
          "data": {
            "text/plain": [
              "['▁1', '▁이', '으로', '에서', '▁있', '▁2', '▁그', '▁대', '▁사', '이다']"
            ]
          },
          "metadata": {},
          "execution_count": 7
        }
      ],
      "source": [
        "vocab_list[:10]"
      ]
    },
    {
      "cell_type": "markdown",
      "metadata": {
        "id": "1gBJUQM0gSMd"
      },
      "source": [
        "# 2. 데이터 전처리 (1) MASK 생성\n",
        "BERT의 MLM(Masked LM)에 필요한 빈칸(mask) 학습 데이터 \n",
        "- mask_prob : 전체 토큰의 15% 정도\n",
        "- 15% 학습데이터 구성\n",
        " - [MASK] 토큰 : 80% (전체의 12%)\n",
        " - 랜덤한 토큰 : 10% (전체의 1.5%)\n",
        " - 원래의 토큰 : 10% (전체의 1.5%)\n",
        "\n",
        "- 띄어쓰기 단위로 한꺼번에 마스킹 : subword 로 나누어져있는 토큰을 단어단위로 모으는 작업\n",
        " - [ _ ]: u\"\\u2581\" : 단어의 시작에 대한 특수 문자\n",
        " "
      ]
    },
    {
      "cell_type": "code",
      "execution_count": 8,
      "metadata": {
        "colab": {
          "base_uri": "https://localhost:8080/"
        },
        "id": "Yfh6N1wQAC76",
        "outputId": "96250d92-11ef-45df-fce5-aa5532668a3e"
      },
      "outputs": [
        {
          "output_type": "stream",
          "name": "stdout",
          "text": [
            "['[CLS]', '▁추', '적', '추', '적', '▁비', '가', '▁내', '리는', '▁날', '이었', '어', '▁그', '날', '은', '▁', '왠', '지', '▁손', '님', '이', '▁많', '아', '▁첫', '▁번', '에', '▁삼', '십', '▁전', '▁둘', '째', '번', '▁오', '십', '▁전', '▁오', '랜', '만에', '▁받아', '보', '는', '▁십', '▁전', '짜', '리', '▁백', '통', '화', '▁서', '푼', '에', '[SEP]', '▁손', '바', '닥', '▁위', '엔', '▁기', '쁨', '의', '▁눈', '물이', '▁흘', '러', '▁컬', '컬', '한', '▁목', '에', '▁모', '주', '▁한', '잔', '을', '▁적', '셔', '▁몇', '▁달', '▁포', '▁전', '부터', '▁콜', '록', '거', '리는', '▁아내', '▁생각', '에', '▁그', '토', '록', '▁먹', '고', '▁싶', '다', '던', '[SEP]']\n"
          ]
        },
        {
          "output_type": "execute_result",
          "data": {
            "text/plain": [
              "('total token:', 97, 'mask token:', 14)"
            ]
          },
          "metadata": {},
          "execution_count": 8
        }
      ],
      "source": [
        "# [CLS], tokens a, [SEP], tokens b, [SEP] 형태의 token 생성\n",
        "string_a = \"추적추적 비가 내리는 날이었어 그날은 왠지 손님이 많아 첫 번에 삼십 전 둘째번 오십 전 오랜만에 받아보는 십 전짜리 백통화 서푼에\"\n",
        "string_b = \"손바닥 위엔 기쁨의 눈물이 흘러 컬컬한 목에 모주 한잔을 적셔 몇 달 포 전부터 콜록거리는 아내 생각에 그토록 먹고 싶다던\"\n",
        "tokens_org = [\"[CLS]\"] + vocab.encode_as_pieces(string_a) + [\"[SEP]\"] + vocab.encode_as_pieces(string_b) + [\"[SEP]\"]\n",
        "print(tokens_org)\n",
        "\n",
        "# 전체 token의 15% mask\n",
        "mask_cnt = int((len(tokens_org) - 3) * 0.15)\n",
        "'total token:', len(tokens_org), 'mask token:' , mask_cnt"
      ]
    },
    {
      "cell_type": "code",
      "execution_count": 9,
      "metadata": {
        "colab": {
          "base_uri": "https://localhost:8080/"
        },
        "id": "EiEpKPTrAKai",
        "outputId": "d75038f6-8545-4705-d092-ee52edd0130b"
      },
      "outputs": [
        {
          "output_type": "stream",
          "name": "stdout",
          "text": [
            "[1, 2, 3, 4] ['▁추', '적', '추', '적']\n",
            "[5, 6] ['▁비', '가']\n",
            "[7, 8] ['▁내', '리는']\n",
            "[9, 10, 11] ['▁날', '이었', '어']\n",
            "[12, 13, 14] ['▁그', '날', '은']\n",
            "[15, 16, 17] ['▁', '왠', '지']\n",
            "[18, 19, 20] ['▁손', '님', '이']\n",
            "[21, 22] ['▁많', '아']\n",
            "[23] ['▁첫']\n",
            "[24, 25] ['▁번', '에']\n",
            "[26, 27] ['▁삼', '십']\n",
            "[28] ['▁전']\n",
            "[29, 30, 31] ['▁둘', '째', '번']\n",
            "[32, 33] ['▁오', '십']\n",
            "[34] ['▁전']\n",
            "[35, 36, 37] ['▁오', '랜', '만에']\n",
            "[38, 39, 40] ['▁받아', '보', '는']\n",
            "[41] ['▁십']\n",
            "[42, 43, 44] ['▁전', '짜', '리']\n",
            "[45, 46, 47] ['▁백', '통', '화']\n",
            "[48, 49, 50] ['▁서', '푼', '에']\n",
            "[52, 53, 54] ['▁손', '바', '닥']\n",
            "[55, 56] ['▁위', '엔']\n",
            "[57, 58, 59] ['▁기', '쁨', '의']\n",
            "[60, 61] ['▁눈', '물이']\n",
            "[62, 63] ['▁흘', '러']\n",
            "[64, 65, 66] ['▁컬', '컬', '한']\n",
            "[67, 68] ['▁목', '에']\n",
            "[69, 70] ['▁모', '주']\n",
            "[71, 72, 73] ['▁한', '잔', '을']\n",
            "[74, 75] ['▁적', '셔']\n",
            "[76] ['▁몇']\n",
            "[77] ['▁달']\n",
            "[78] ['▁포']\n",
            "[79, 80] ['▁전', '부터']\n",
            "[81, 82, 83, 84] ['▁콜', '록', '거', '리는']\n",
            "[85] ['▁아내']\n",
            "[86, 87] ['▁생각', '에']\n",
            "[88, 89, 90] ['▁그', '토', '록']\n",
            "[91, 92] ['▁먹', '고']\n",
            "[93, 94, 95] ['▁싶', '다', '던']\n"
          ]
        }
      ],
      "source": [
        "# 띄어쓰기 단위로 mask하기 위해서 index 분할\n",
        "cand_idx = []  # word 단위의 index array\n",
        "for (i, token) in enumerate(tokens_org):\n",
        "    if token == \"[CLS]\" or token == \"[SEP]\":\n",
        "        continue\n",
        "    if 0 < len(cand_idx) and not token.startswith(u\"\\u2581\"):  # u\"\\u2581\"는 단어의 시작을 의미하는 값\n",
        "        cand_idx[-1].append(i)\n",
        "    else:\n",
        "        cand_idx.append([i])\n",
        "\n",
        "# 결과확인\n",
        "for cand in cand_idx:\n",
        "    print(cand, [tokens_org[i] for i in cand])"
      ]
    },
    {
      "cell_type": "code",
      "execution_count": 10,
      "metadata": {
        "colab": {
          "base_uri": "https://localhost:8080/"
        },
        "id": "MUfhSBHrBi1J",
        "outputId": "53f6944b-1491-4648-e9eb-466e7ee96c2c"
      },
      "outputs": [
        {
          "output_type": "stream",
          "name": "stdout",
          "text": [
            "tokens_org\n",
            "['[CLS]', '▁추', '적', '추', '적', '▁비', '가', '▁내', '리는', '▁날', '이었', '어', '▁그', '날', '은', '▁', '왠', '지', '▁손', '님', '이', '▁많', '아', '▁첫', '▁번', '에', '▁삼', '십', '▁전', '▁둘', '째', '번', '▁오', '십', '▁전', '▁오', '랜', '만에', '▁받아', '보', '는', '▁십', '▁전', '짜', '리', '▁백', '통', '화', '▁서', '푼', '에', '[SEP]', '▁손', '바', '닥', '▁위', '엔', '▁기', '쁨', '의', '▁눈', '물이', '▁흘', '러', '▁컬', '컬', '한', '▁목', '에', '▁모', '주', '▁한', '잔', '을', '▁적', '셔', '▁몇', '▁달', '▁포', '▁전', '부터', '▁콜', '록', '거', '리는', '▁아내', '▁생각', '에', '▁그', '토', '록', '▁먹', '고', '▁싶', '다', '던', '[SEP]'] \n",
            "\n",
            "tokens\n",
            "['[CLS]', '▁추', '적', '추', '적', '▁비', '가', '▁내', '리는', '[MASK]', '[MASK]', '[MASK]', '▁그', '날', '은', '[MASK]', '[MASK]', '[MASK]', '[MASK]', '[MASK]', '[MASK]', '▁많', '아', '▁첫', '▁번', '에', '▁삼', '십', '▁전', '▁둘', '째', '번', '▁오', '십', '▁전', '▁오', '랜', '만에', '▁받아', '보', '는', '▁십', '▁전', '짜', '리', '▁백', '통', '화', '▁서', '푼', '에', '[SEP]', '▁손', '바', '닥', '▁위', '엔', '▁기', '쁨', '의', '▁눈', '물이', '▁흘', '러', '▁컬', '컬', '한', '▁목', '에', '[MASK]', '[MASK]', '▁한', '잔', '을', '▁적', '셔', '▁몇', '[MASK]', '▁포', '▁전', '부터', '▁콜', '록', '거', '리는', '▁아내', '▁생각', '에', '▁그', '토', '록', '▁먹', '고', '▁싶', '다', '던', '[SEP]']\n"
          ]
        }
      ],
      "source": [
        "import random\n",
        "import copy\n",
        "\n",
        "# random mask를 위해서 index 순서를 섞음\n",
        "random.shuffle(cand_idx)\n",
        "\n",
        "# tokens가 mask되므로 재 실행을 위해서 넣어줌 (테스트용)\n",
        "tokens = copy.deepcopy(tokens_org)\n",
        "\n",
        "mask_lms = []  # mask 된 값\n",
        "for index_set in cand_idx:\n",
        "    if len(mask_lms) >= mask_cnt:  # 핸재 mask된 개수가 15%를 넘으면 중지\n",
        "          break\n",
        "    if len(mask_lms) + len(index_set) > mask_cnt:  # 이번에 mask할 개수를 포함해 15%를 넘으면 skip\n",
        "          continue\n",
        "    dice = random.random()  # 0과 1 사이의 확률 값\n",
        "\n",
        "    for index in index_set:\n",
        "        masked_token = None\n",
        "        if dice < 0.8:  # 80% replace with [MASK]\n",
        "            masked_token = \"[MASK]\"\n",
        "        elif dice < 0.9: # 10% keep original\n",
        "            masked_token = tokens[index]\n",
        "        else:  # 10% random word\n",
        "            masked_token = random.choice(vocab_list)\n",
        "        mask_lms.append({\"index\": index, \"label\": tokens[index]})\n",
        "        tokens[index] = masked_token\n",
        "\n",
        "print(\"tokens_org\")\n",
        "print(tokens_org, \"\\n\")\n",
        "print(\"tokens\")\n",
        "print(tokens)"
      ]
    },
    {
      "cell_type": "markdown",
      "metadata": {
        "id": "Jxwb5z8EB3O4"
      },
      "source": [
        "### Masked LM의 라벨 데이터 생성"
      ]
    },
    {
      "cell_type": "code",
      "execution_count": 11,
      "metadata": {
        "colab": {
          "base_uri": "https://localhost:8080/"
        },
        "id": "hf7Mf8SpB4tA",
        "outputId": "d4aaca66-55b4-4ef4-e834-6481d7f4c7de"
      },
      "outputs": [
        {
          "output_type": "stream",
          "name": "stdout",
          "text": [
            "mask_idx   : [5, 6, 9, 10, 11, 15, 16, 17, 18, 19, 20, 69, 70, 77]\n",
            "mask_label : ['▁비', '가', '▁날', '이었', '어', '▁', '왠', '지', '▁손', '님', '이', '▁모', '주', '▁달']\n"
          ]
        }
      ],
      "source": [
        "# 순서 정렬 및 mask_idx, mask_label 생성\n",
        "mask_lms = sorted(mask_lms, key=lambda x: x[\"index\"])\n",
        "mask_idx = [p[\"index\"] for p in mask_lms]\n",
        "mask_label = [p[\"label\"] for p in mask_lms]\n",
        "\n",
        "print(\"mask_idx   :\", mask_idx) # 15%에 해당하는 mask토큰\n",
        "print(\"mask_label :\", mask_label)\n",
        "\n",
        "def create_pretrain_mask(tokens, mask_cnt, vocab_list):\n",
        "    \"\"\"\n",
        "    마스크 생성\n",
        "    :param tokens: tokens\n",
        "    :param mask_cnt: mask 개수 (전체 tokens의 15%)\n",
        "    :param vocab_list: vocab list (random token 용)\n",
        "    :return tokens: mask된 tokens\n",
        "    :return mask_idx: mask된 token의 index\n",
        "    :return mask_label: mask된 token의 원래 값\n",
        "    \"\"\"\n",
        "    # 단어 단위로 mask 하기 위해서 index 분할\n",
        "    cand_idx = []  # word 단위의 index array\n",
        "    for (i, token) in enumerate(tokens):\n",
        "        if token == \"[CLS]\" or token == \"[SEP]\":\n",
        "            continue\n",
        "        if 0 < len(cand_idx) and not token.startswith(u\"\\u2581\"):\n",
        "            cand_idx[-1].append(i)\n",
        "        else:\n",
        "            cand_idx.append([i])\n",
        "    # random mask를 위해서 순서를 섞음\n",
        "    random.shuffle(cand_idx)\n",
        "\n",
        "    mask_lms = []  # mask 된 값\n",
        "    for index_set in cand_idx:\n",
        "        if len(mask_lms) >= mask_cnt:  # 핸재 mask된 개수가 15%를 넘으면 중지\n",
        "            break\n",
        "        if len(mask_lms) + len(index_set) > mask_cnt:  # 이번에 mask할 개수를 포함해 15%를 넘으면 skip\n",
        "            continue\n",
        "        dice = random.random()  # 0..1 사이의 확률 값\n",
        "        for index in index_set:\n",
        "            masked_token = None\n",
        "            if dice < 0.8:  # 80% replace with [MASK]\n",
        "                masked_token = \"[MASK]\"\n",
        "            elif dice < 0.9: # 10% keep original\n",
        "                masked_token = tokens[index]\n",
        "            else:  # 10% random word\n",
        "                masked_token = random.choice(vocab_list)\n",
        "            mask_lms.append({\"index\": index, \"label\": tokens[index]})\n",
        "            tokens[index] = masked_token\n",
        "    # mask_lms 정렬 후 mask_idx, mask_label 추출\n",
        "    mask_lms = sorted(mask_lms, key=lambda x: x[\"index\"])\n",
        "    mask_idx = [p[\"index\"] for p in mask_lms]  # mask된 token의 index\n",
        "    mask_label = [p[\"label\"] for p in mask_lms]  # mask된 token의 원래 값\n",
        "\n",
        "    return tokens, mask_idx, mask_label"
      ]
    },
    {
      "cell_type": "markdown",
      "metadata": {
        "id": "by8UhpB0B_GI"
      },
      "source": [
        "수행결과 확인해보자."
      ]
    },
    {
      "cell_type": "code",
      "execution_count": 12,
      "metadata": {
        "colab": {
          "base_uri": "https://localhost:8080/"
        },
        "id": "zfttvILVCCQp",
        "outputId": "f448c61e-61a1-48ca-9fa4-9eb4271c7a19"
      },
      "outputs": [
        {
          "output_type": "stream",
          "name": "stdout",
          "text": [
            "tokens_org\n",
            "['[CLS]', '▁추', '적', '추', '적', '▁비', '가', '▁내', '리는', '▁날', '이었', '어', '▁그', '날', '은', '▁', '왠', '지', '▁손', '님', '이', '▁많', '아', '▁첫', '▁번', '에', '▁삼', '십', '▁전', '▁둘', '째', '번', '▁오', '십', '▁전', '▁오', '랜', '만에', '▁받아', '보', '는', '▁십', '▁전', '짜', '리', '▁백', '통', '화', '▁서', '푼', '에', '[SEP]', '▁손', '바', '닥', '▁위', '엔', '▁기', '쁨', '의', '▁눈', '물이', '▁흘', '러', '▁컬', '컬', '한', '▁목', '에', '▁모', '주', '▁한', '잔', '을', '▁적', '셔', '▁몇', '▁달', '▁포', '▁전', '부터', '▁콜', '록', '거', '리는', '▁아내', '▁생각', '에', '▁그', '토', '록', '▁먹', '고', '▁싶', '다', '던', '[SEP]'] \n",
            "\n",
            "tokens\n",
            "['[CLS]', '▁추', '적', '추', '적', '▁비', '가', '▁내', '리는', '[MASK]', '[MASK]', '[MASK]', '▁그', '날', '은', '▁', '왠', '지', '▁손', '님', '이', '▁많', '아', '▁첫', '▁번', '에', '[MASK]', '[MASK]', '▁전', '▁둘', '째', '번', '▁오', '십', '▁전', '▁오', '랜', '만에', '▁받아', '보', '는', '[MASK]', '▁전', '짜', '리', '▁백', '통', '화', '▁서', '푼', '에', '[SEP]', '▁손', '바', '닥', '▁위', '엔', '▁기', '쁨', '의', '[MASK]', '[MASK]', '▁흘', '러', '▁컬', '컬', '한', '▁목', '에', '▁모', '주', '▁한', '잔', '을', '▁들어가', '▁후손', '▁몇', '▁달', '▁포', '▁전', '부터', '[MASK]', '[MASK]', '[MASK]', '[MASK]', '▁아내', '▁생각', '에', '▁그', '토', '록', '▁먹', '고', '▁싶', '다', '던', '[SEP]'] \n",
            "\n",
            "mask_idx   : [9, 10, 11, 26, 27, 41, 60, 61, 74, 75, 81, 82, 83, 84]\n",
            "mask_label : ['▁날', '이었', '어', '▁삼', '십', '▁십', '▁눈', '물이', '▁적', '셔', '▁콜', '록', '거', '리는']\n"
          ]
        }
      ],
      "source": [
        "# tokens가 mask되므로 재 실행을 위해서 넣어줌 (테스트용)\n",
        "tokens = copy.deepcopy(tokens_org)\n",
        "\n",
        "tokens, mask_idx, mask_label = create_pretrain_mask(tokens, mask_cnt, vocab_list)\n",
        "\n",
        "print(\"tokens_org\")\n",
        "print(tokens_org, \"\\n\")\n",
        "print(\"tokens\")\n",
        "print(tokens, \"\\n\")\n",
        "\n",
        "print(\"mask_idx   :\", mask_idx)\n",
        "print(\"mask_label :\", mask_label)"
      ]
    },
    {
      "cell_type": "markdown",
      "metadata": {
        "id": "PLS8us_rgR8r"
      },
      "source": [
        "\n",
        "# 3. 데이터 전처리 (2) NSP pair 생성\n",
        "NSP 데이터 구성\n",
        "- 두 문장이 연속하는지 확인하기 위해 2개의 문장을 짝지어 50%의 확률로 TRUE와 FALSE를 설정\n",
        "\n"
      ]
    },
    {
      "cell_type": "code",
      "execution_count": 13,
      "metadata": {
        "colab": {
          "base_uri": "https://localhost:8080/"
        },
        "id": "MV6zOPW6CaJx",
        "outputId": "612e07fc-5601-4f26-974d-0fe313af8b5c"
      },
      "outputs": [
        {
          "output_type": "execute_result",
          "data": {
            "text/plain": [
              "[['▁추', '적', '추', '적', '▁비', '가', '▁내', '리는', '▁날', '이었', '어'],\n",
              " ['▁그', '날', '은', '▁', '왠', '지', '▁손', '님', '이', '▁많', '아'],\n",
              " ['▁첫', '▁번', '에', '▁삼', '십', '▁전', '▁둘', '째', '▁번', '▁오', '십', '▁전']]"
            ]
          },
          "metadata": {},
          "execution_count": 13
        }
      ],
      "source": [
        "string = \"\"\"추적추적 비가 내리는 날이었어\n",
        "그날은 왠지 손님이 많아\n",
        "첫 번에 삼십 전 둘째 번 오십 전\n",
        "오랜만에 받아보는 십 전짜리 백통화 서푼에\n",
        "손바닥 위엔 기쁨의 눈물이 흘러\n",
        "컬컬한 목에 모주 한잔을 적셔\n",
        "몇 달 포 전부터 콜록거리는 아내\n",
        "생각에 그토록 먹고 싶다던\n",
        "설렁탕 한 그릇을 이제는 살 수 있어\n",
        "집으로 돌아가는 길 난 문득 떠올라\n",
        "아내의 목소리가 거칠어만 가는 희박한 숨소리가\n",
        "오늘은 왠지 나가지 말라던 내 옆에 있어 달라던\n",
        "그리도 나가고 싶으면 일찍이라도 들어와 달라던\n",
        "아내의 간절한 목소리가 들려와\n",
        "나를 원망하듯 비는 점점 거세져\n",
        "싸늘히 식어가는 아내가 떠올라 걱정은 더해져\n",
        "난 몰라 오늘은 운수 좋은 날\n",
        "난 맨날 이렇게 살 수 있으면 얼마나 좋을까\"\"\"\n",
        "\n",
        "# 줄 단위로 tokenize\n",
        "doc = [vocab.encode_as_pieces(line) for line in string.split(\"\\n\")]\n",
        "doc[:3]"
      ]
    },
    {
      "cell_type": "code",
      "execution_count": 14,
      "metadata": {
        "colab": {
          "base_uri": "https://localhost:8080/"
        },
        "id": "_ZLxN4EFCckr",
        "outputId": "68911d0a-b63a-4929-83fb-06cfcf057845"
      },
      "outputs": [
        {
          "output_type": "stream",
          "name": "stdout",
          "text": [
            "current_chunk: 5 62 [['▁추', '적', '추', '적', '▁비', '가', '▁내', '리는', '▁날', '이었', '어'], ['▁그', '날', '은', '▁', '왠', '지', '▁손', '님', '이', '▁많', '아'], ['▁첫', '▁번', '에', '▁삼', '십', '▁전', '▁둘', '째', '▁번', '▁오', '십', '▁전'], ['▁오', '랜', '만에', '▁받아', '보', '는', '▁십', '▁전', '짜', '리', '▁백', '통', '화', '▁서', '푼', '에'], ['▁손', '바', '닥', '▁위', '엔', '▁기', '쁨', '의', '▁눈', '물이', '▁흘', '러']]\n",
            "tokens_a: 22 ['▁추', '적', '추', '적', '▁비', '가', '▁내', '리는', '▁날', '이었', '어', '▁그', '날', '은', '▁', '왠', '지', '▁손', '님', '이', '▁많', '아']\n",
            "tokens_b: 40 ['▁첫', '▁번', '에', '▁삼', '십', '▁전', '▁둘', '째', '▁번', '▁오', '십', '▁전', '▁오', '랜', '만에', '▁받아', '보', '는', '▁십', '▁전', '짜', '리', '▁백', '통', '화', '▁서', '푼', '에', '▁손', '바', '닥', '▁위', '엔', '▁기', '쁨', '의', '▁눈', '물이', '▁흘', '러']\n",
            "\n",
            "current_chunk: 6 71 [['▁컬', '컬', '한', '▁목', '에', '▁모', '주', '▁한', '잔', '을', '▁적', '셔'], ['▁몇', '▁달', '▁포', '▁전', '부터', '▁콜', '록', '거', '리는', '▁아내'], ['▁생각', '에', '▁그', '토', '록', '▁먹', '고', '▁싶', '다', '던'], ['▁설', '렁', '탕', '▁한', '▁그', '릇', '을', '▁이', '제는', '▁살', '▁수', '▁있어'], ['▁집', '으로', '▁돌아', '가는', '▁길', '▁난', '▁문', '득', '▁떠', '올', '라'], ['▁아내', '의', '▁목', '소', '리가', '▁거', '칠', '어', '만', '▁가는', '▁희', '박', '한', '▁숨', '소', '리가']]\n",
            "tokens_a: 32 ['▁컬', '컬', '한', '▁목', '에', '▁모', '주', '▁한', '잔', '을', '▁적', '셔', '▁몇', '▁달', '▁포', '▁전', '부터', '▁콜', '록', '거', '리는', '▁아내', '▁생각', '에', '▁그', '토', '록', '▁먹', '고', '▁싶', '다', '던']\n",
            "tokens_b: 39 ['▁설', '렁', '탕', '▁한', '▁그', '릇', '을', '▁이', '제는', '▁살', '▁수', '▁있어', '▁집', '으로', '▁돌아', '가는', '▁길', '▁난', '▁문', '득', '▁떠', '올', '라', '▁아내', '의', '▁목', '소', '리가', '▁거', '칠', '어', '만', '▁가는', '▁희', '박', '한', '▁숨', '소', '리가']\n",
            "\n",
            "current_chunk: 5 73 [['▁오늘', '은', '▁', '왠', '지', '▁나', '가지', '▁말', '라', '던', '▁내', '▁옆', '에', '▁있어', '▁달', '라', '던'], ['▁그리', '도', '▁나가', '고', '▁싶', '으면', '▁일', '찍', '이라', '도', '▁들어', '와', '▁달', '라', '던'], ['▁아내', '의', '▁간', '절', '한', '▁목', '소', '리가', '▁들', '려', '와'], ['▁나', '를', '▁원', '망', '하', '듯', '▁비', '는', '▁점', '점', '▁거', '세', '져'], ['▁싸', '늘', '히', '▁식', '어', '가는', '▁아내', '가', '▁떠', '올', '라', '▁', '걱', '정은', '▁더', '해', '져']]\n",
            "tokens_a: 17 ['▁오늘', '은', '▁', '왠', '지', '▁나', '가지', '▁말', '라', '던', '▁내', '▁옆', '에', '▁있어', '▁달', '라', '던']\n",
            "tokens_b: 56 ['▁그리', '도', '▁나가', '고', '▁싶', '으면', '▁일', '찍', '이라', '도', '▁들어', '와', '▁달', '라', '던', '▁아내', '의', '▁간', '절', '한', '▁목', '소', '리가', '▁들', '려', '와', '▁나', '를', '▁원', '망', '하', '듯', '▁비', '는', '▁점', '점', '▁거', '세', '져', '▁싸', '늘', '히', '▁식', '어', '가는', '▁아내', '가', '▁떠', '올', '라', '▁', '걱', '정은', '▁더', '해', '져']\n",
            "\n",
            "current_chunk: 2 22 [['▁난', '▁몰', '라', '▁오늘', '은', '▁운', '수', '▁좋은', '▁날'], ['▁난', '▁맨', '날', '▁이렇게', '▁살', '▁수', '▁있', '으면', '▁얼마', '나', '▁좋', '을', '까']]\n",
            "tokens_a: 9 ['▁난', '▁몰', '라', '▁오늘', '은', '▁운', '수', '▁좋은', '▁날']\n",
            "tokens_b: 13 ['▁난', '▁맨', '날', '▁이렇게', '▁살', '▁수', '▁있', '으면', '▁얼마', '나', '▁좋', '을', '까']\n",
            "\n"
          ]
        }
      ],
      "source": [
        "# 최대 길이\n",
        "n_test_seq = 64\n",
        "# 최소 길이\n",
        "min_seq = 8\n",
        "# [CLS], tokens_a, [SEB], tokens_b, [SEP]\n",
        "max_seq = n_test_seq - 3\n",
        "\n",
        "current_chunk = []  # line 단위 tokens\n",
        "current_length = 0\n",
        "for i in range(len(doc)):  # doc 전체를 loop\n",
        "    current_chunk.append(doc[i])  # line 단위로 추가\n",
        "    current_length += len(doc[i])  # current_chunk의 token 수\n",
        "    if 1 < len(current_chunk) and (i == len(doc) - 1 or current_length >= max_seq):  # 마지막 줄 이거나 길이가 max_seq 이상 인 경우, 학습 데이터를 만듭니다. \n",
        "        print(\"current_chunk:\", len(current_chunk), current_length, current_chunk)\n",
        "\n",
        "        #######################################\n",
        "        # token a\n",
        "        a_end = 1\n",
        "        if 1 < len(current_chunk):\n",
        "            a_end = random.randrange(1, len(current_chunk))\n",
        "        tokens_a = []\n",
        "        for j in range(a_end):\n",
        "            tokens_a.extend(current_chunk[j])\n",
        "        # token b\n",
        "        tokens_b = []\n",
        "        for j in range(a_end, len(current_chunk)):\n",
        "            tokens_b.extend(current_chunk[j])\n",
        "          \n",
        "        print(\"tokens_a:\", len(tokens_a), tokens_a)\n",
        "        print(\"tokens_b:\", len(tokens_b), tokens_b)\n",
        "        #######################################\n",
        "        print()\n",
        "\n",
        "        current_chunk = []\n",
        "        current_length = 0"
      ]
    },
    {
      "cell_type": "markdown",
      "metadata": {
        "id": "b4xzwbwhCo9h"
      },
      "source": [
        "### 문장 길이 조정\n",
        " - 문장A,B가 이어져있을때 두문장의 길이가 max_seq보다 길경우 : 두문장이 이어지는것이 유지되도록 A문장은 앞쪽을 trim, B문장은 뒤쪽을 trim처리한다."
      ]
    },
    {
      "cell_type": "code",
      "execution_count": 15,
      "metadata": {
        "colab": {
          "base_uri": "https://localhost:8080/"
        },
        "id": "kQ9cMOKYF1h3",
        "outputId": "451100d7-db4c-4120-fe09-05b81b8b3190"
      },
      "outputs": [
        {
          "output_type": "stream",
          "name": "stdout",
          "text": [
            "current_chunk: 5 62 [['▁추', '적', '추', '적', '▁비', '가', '▁내', '리는', '▁날', '이었', '어'], ['▁그', '날', '은', '▁', '왠', '지', '▁손', '님', '이', '▁많', '아'], ['▁첫', '▁번', '에', '▁삼', '십', '▁전', '▁둘', '째', '▁번', '▁오', '십', '▁전'], ['▁오', '랜', '만에', '▁받아', '보', '는', '▁십', '▁전', '짜', '리', '▁백', '통', '화', '▁서', '푼', '에'], ['▁손', '바', '닥', '▁위', '엔', '▁기', '쁨', '의', '▁눈', '물이', '▁흘', '러']]\n",
            "is_next: 0\n",
            "tokens_a: 39 ['▁번', '에', '▁삼', '십', '▁전', '▁둘', '째', '▁번', '▁오', '십', '▁전', '▁오', '랜', '만에', '▁받아', '보', '는', '▁십', '▁전', '짜', '리', '▁백', '통', '화', '▁서', '푼', '에', '▁손', '바', '닥', '▁위', '엔', '▁기', '쁨', '의', '▁눈', '물이', '▁흘', '러']\n",
            "tokens_b: 22 ['▁추', '적', '추', '적', '▁비', '가', '▁내', '리는', '▁날', '이었', '어', '▁그', '날', '은', '▁', '왠', '지', '▁손', '님', '이', '▁많', '아']\n",
            "\n",
            "current_chunk: 6 71 [['▁컬', '컬', '한', '▁목', '에', '▁모', '주', '▁한', '잔', '을', '▁적', '셔'], ['▁몇', '▁달', '▁포', '▁전', '부터', '▁콜', '록', '거', '리는', '▁아내'], ['▁생각', '에', '▁그', '토', '록', '▁먹', '고', '▁싶', '다', '던'], ['▁설', '렁', '탕', '▁한', '▁그', '릇', '을', '▁이', '제는', '▁살', '▁수', '▁있어'], ['▁집', '으로', '▁돌아', '가는', '▁길', '▁난', '▁문', '득', '▁떠', '올', '라'], ['▁아내', '의', '▁목', '소', '리가', '▁거', '칠', '어', '만', '▁가는', '▁희', '박', '한', '▁숨', '소', '리가']]\n",
            "is_next: 1\n",
            "tokens_a: 12 ['▁컬', '컬', '한', '▁목', '에', '▁모', '주', '▁한', '잔', '을', '▁적', '셔']\n",
            "tokens_b: 49 ['▁몇', '▁달', '▁포', '▁전', '부터', '▁콜', '록', '거', '리는', '▁아내', '▁생각', '에', '▁그', '토', '록', '▁먹', '고', '▁싶', '다', '던', '▁설', '렁', '탕', '▁한', '▁그', '릇', '을', '▁이', '제는', '▁살', '▁수', '▁있어', '▁집', '으로', '▁돌아', '가는', '▁길', '▁난', '▁문', '득', '▁떠', '올', '라', '▁아내', '의', '▁목', '소', '리가', '▁거']\n",
            "\n",
            "current_chunk: 5 73 [['▁오늘', '은', '▁', '왠', '지', '▁나', '가지', '▁말', '라', '던', '▁내', '▁옆', '에', '▁있어', '▁달', '라', '던'], ['▁그리', '도', '▁나가', '고', '▁싶', '으면', '▁일', '찍', '이라', '도', '▁들어', '와', '▁달', '라', '던'], ['▁아내', '의', '▁간', '절', '한', '▁목', '소', '리가', '▁들', '려', '와'], ['▁나', '를', '▁원', '망', '하', '듯', '▁비', '는', '▁점', '점', '▁거', '세', '져'], ['▁싸', '늘', '히', '▁식', '어', '가는', '▁아내', '가', '▁떠', '올', '라', '▁', '걱', '정은', '▁더', '해', '져']]\n",
            "is_next: 0\n",
            "tokens_a: 44 ['▁달', '라', '던', '▁아내', '의', '▁간', '절', '한', '▁목', '소', '리가', '▁들', '려', '와', '▁나', '를', '▁원', '망', '하', '듯', '▁비', '는', '▁점', '점', '▁거', '세', '져', '▁싸', '늘', '히', '▁식', '어', '가는', '▁아내', '가', '▁떠', '올', '라', '▁', '걱', '정은', '▁더', '해', '져']\n",
            "tokens_b: 17 ['▁오늘', '은', '▁', '왠', '지', '▁나', '가지', '▁말', '라', '던', '▁내', '▁옆', '에', '▁있어', '▁달', '라', '던']\n",
            "\n",
            "current_chunk: 2 22 [['▁난', '▁몰', '라', '▁오늘', '은', '▁운', '수', '▁좋은', '▁날'], ['▁난', '▁맨', '날', '▁이렇게', '▁살', '▁수', '▁있', '으면', '▁얼마', '나', '▁좋', '을', '까']]\n",
            "is_next: 1\n",
            "tokens_a: 9 ['▁난', '▁몰', '라', '▁오늘', '은', '▁운', '수', '▁좋은', '▁날']\n",
            "tokens_b: 13 ['▁난', '▁맨', '날', '▁이렇게', '▁살', '▁수', '▁있', '으면', '▁얼마', '나', '▁좋', '을', '까']\n",
            "\n"
          ]
        }
      ],
      "source": [
        "def trim_tokens(tokens_a, tokens_b, max_seq):\n",
        "    \"\"\"\n",
        "    tokens_a, tokens_b의 길이를 줄임 최대 길이: max_seq\n",
        "    :param tokens_a: tokens A\n",
        "    :param tokens_b: tokens B\n",
        "    :param max_seq: 두 tokens 길이의 최대 값\n",
        "    \"\"\"\n",
        "    while True:\n",
        "        total_length = len(tokens_a) + len(tokens_b)\n",
        "        if total_length <= max_seq:\n",
        "            break\n",
        "\n",
        "        if len(tokens_a) > len(tokens_b):\n",
        "            del tokens_a[0]\n",
        "        else:\n",
        "            tokens_b.pop()\n",
        "\n",
        "current_chunk = []  # line 단위 tokens\n",
        "current_length = 0\n",
        "for i in range(len(doc)):  # doc 전체를 loop\n",
        "    current_chunk.append(doc[i])  # line 단위로 추가\n",
        "    current_length += len(doc[i])  # current_chunk의 token 수\n",
        "    if 1 < len(current_chunk) and (i == len(doc) - 1 or current_length >= max_seq):  # 마지막 줄 이거나 길이가 max_seq 이상 인 경우\n",
        "        print(\"current_chunk:\", len(current_chunk), current_length, current_chunk)\n",
        "\n",
        "        # token a\n",
        "        a_end = 1\n",
        "        if 1 < len(current_chunk):\n",
        "            a_end = random.randrange(1, len(current_chunk))\n",
        "        tokens_a = []\n",
        "        for j in range(a_end):\n",
        "            tokens_a.extend(current_chunk[j])\n",
        "        # token b\n",
        "        tokens_b = []\n",
        "        for j in range(a_end, len(current_chunk)):\n",
        "            tokens_b.extend(current_chunk[j])\n",
        "\n",
        "        #######################################\n",
        "        if random.random() < 0.5:  # 50% 확률로 swap\n",
        "            is_next = 0     #False (뒤바뀐 문장)\n",
        "            tokens_t = tokens_a\n",
        "            tokens_a = tokens_b\n",
        "            tokens_b = tokens_t\n",
        "        else:\n",
        "            is_next = 1    #True (이어지는 문장)\n",
        "        # max_seq 보다 큰 경우 길이 조절\n",
        "        trim_tokens(tokens_a, tokens_b, max_seq)\n",
        "        assert 0 < len(tokens_a)\n",
        "        assert 0 < len(tokens_b)\n",
        "\n",
        "        print(\"is_next:\", is_next)\n",
        "        print(\"tokens_a:\", len(tokens_a), tokens_a)\n",
        "        print(\"tokens_b:\", len(tokens_b), tokens_b)\n",
        "        #######################################\n",
        "        print()\n",
        "\n",
        "        current_chunk = []\n",
        "        current_length = 0"
      ]
    },
    {
      "cell_type": "markdown",
      "metadata": {
        "id": "FU0gyNH2F7it"
      },
      "source": [
        "### segmentation\n",
        "- 두 문장 사이에 segment 설정\n",
        " - 첫 번째 문장 segment : 0\n",
        " - 두 번째 문장 segment : 1 \n",
        " - 두문장사이 구분자 : [SEP] 설정"
      ]
    },
    {
      "cell_type": "code",
      "execution_count": 16,
      "metadata": {
        "colab": {
          "base_uri": "https://localhost:8080/"
        },
        "id": "Xg4pC_MTGeSG",
        "outputId": "68316221-a86b-4f1d-e986-ac51b76b717b"
      },
      "outputs": [
        {
          "output_type": "stream",
          "name": "stdout",
          "text": [
            "current_chunk: 5 62 [['▁추', '적', '추', '적', '▁비', '가', '▁내', '리는', '▁날', '이었', '어'], ['▁그', '날', '은', '▁', '왠', '지', '▁손', '님', '이', '▁많', '아'], ['▁첫', '▁번', '에', '▁삼', '십', '▁전', '▁둘', '째', '▁번', '▁오', '십', '▁전'], ['▁오', '랜', '만에', '▁받아', '보', '는', '▁십', '▁전', '짜', '리', '▁백', '통', '화', '▁서', '푼', '에'], ['▁손', '바', '닥', '▁위', '엔', '▁기', '쁨', '의', '▁눈', '물이', '▁흘', '러']]\n",
            "is_next: 0\n",
            "tokens_a: 39 ['▁번', '에', '▁삼', '십', '▁전', '▁둘', '째', '▁번', '▁오', '십', '▁전', '▁오', '랜', '만에', '▁받아', '보', '는', '▁십', '▁전', '짜', '리', '▁백', '통', '화', '▁서', '푼', '에', '▁손', '바', '닥', '▁위', '엔', '▁기', '쁨', '의', '▁눈', '물이', '▁흘', '러']\n",
            "tokens_b: 22 ['▁추', '적', '추', '적', '▁비', '가', '▁내', '리는', '▁날', '이었', '어', '▁그', '날', '은', '▁', '왠', '지', '▁손', '님', '이', '▁많', '아']\n",
            "tokens: 64 ['[CLS]', '▁번', '에', '▁삼', '십', '▁전', '▁둘', '째', '▁번', '▁오', '십', '▁전', '▁오', '랜', '만에', '▁받아', '보', '는', '▁십', '▁전', '짜', '리', '▁백', '통', '화', '▁서', '푼', '에', '▁손', '바', '닥', '▁위', '엔', '▁기', '쁨', '의', '▁눈', '물이', '▁흘', '러', '[SEP]', '▁추', '적', '추', '적', '▁비', '가', '▁내', '리는', '▁날', '이었', '어', '▁그', '날', '은', '▁', '왠', '지', '▁손', '님', '이', '▁많', '아', '[SEP]']\n",
            "segment: 64 [0, 0, 0, 0, 0, 0, 0, 0, 0, 0, 0, 0, 0, 0, 0, 0, 0, 0, 0, 0, 0, 0, 0, 0, 0, 0, 0, 0, 0, 0, 0, 0, 0, 0, 0, 0, 0, 0, 0, 0, 0, 1, 1, 1, 1, 1, 1, 1, 1, 1, 1, 1, 1, 1, 1, 1, 1, 1, 1, 1, 1, 1, 1, 1]\n",
            "masked tokens: 64 ['[CLS]', '▁번', '에', '▁삼', '십', '▁전', '▁둘', '째', '[MASK]', '▁오', '십', '[MASK]', '▁오', '랜', '만에', '[MASK]', '[MASK]', '[MASK]', '▁십', '▁전', '짜', '리', '▁백', '통', '화', '▁서', '푼', '에', '▁손', '바', '닥', '▁위', '엔', '▁기', '쁨', '의', '▁눈', '물이', '[MASK]', '[MASK]', '[SEP]', '▁추', '적', '추', '적', '▁비', '가', '▁내', '리는', '▁날', '이었', '어', '▁그', '날', '은', '▁', '왠', '지', '▁손', '님', '이', '▁많', '아', '[SEP]']\n",
            "masked index: 9 [8, 11, 15, 16, 17, 31, 32, 38, 39]\n",
            "masked label: 9 ['▁번', '▁전', '▁받아', '보', '는', '▁위', '엔', '▁흘', '러']\n",
            "\n",
            "current_chunk: 6 71 [['▁컬', '컬', '한', '▁목', '에', '▁모', '주', '▁한', '잔', '을', '▁적', '셔'], ['▁몇', '▁달', '▁포', '▁전', '부터', '▁콜', '록', '거', '리는', '▁아내'], ['▁생각', '에', '▁그', '토', '록', '▁먹', '고', '▁싶', '다', '던'], ['▁설', '렁', '탕', '▁한', '▁그', '릇', '을', '▁이', '제는', '▁살', '▁수', '▁있어'], ['▁집', '으로', '▁돌아', '가는', '▁길', '▁난', '▁문', '득', '▁떠', '올', '라'], ['▁아내', '의', '▁목', '소', '리가', '▁거', '칠', '어', '만', '▁가는', '▁희', '박', '한', '▁숨', '소', '리가']]\n",
            "is_next: 1\n",
            "tokens_a: 45 ['▁적', '셔', '▁몇', '▁달', '▁포', '▁전', '부터', '▁콜', '록', '거', '리는', '▁아내', '▁생각', '에', '▁그', '토', '록', '▁먹', '고', '▁싶', '다', '던', '▁설', '렁', '탕', '▁한', '▁그', '릇', '을', '▁이', '제는', '▁살', '▁수', '▁있어', '▁집', '으로', '▁돌아', '가는', '▁길', '▁난', '▁문', '득', '▁떠', '올', '라']\n",
            "tokens_b: 16 ['▁아내', '의', '▁목', '소', '리가', '▁거', '칠', '어', '만', '▁가는', '▁희', '박', '한', '▁숨', '소', '리가']\n",
            "tokens: 64 ['[CLS]', '▁적', '셔', '▁몇', '▁달', '▁포', '▁전', '부터', '▁콜', '록', '거', '리는', '▁아내', '▁생각', '에', '▁그', '토', '록', '▁먹', '고', '▁싶', '다', '던', '▁설', '렁', '탕', '▁한', '▁그', '릇', '을', '▁이', '제는', '▁살', '▁수', '▁있어', '▁집', '으로', '▁돌아', '가는', '▁길', '▁난', '▁문', '득', '▁떠', '올', '라', '[SEP]', '▁아내', '의', '▁목', '소', '리가', '▁거', '칠', '어', '만', '▁가는', '▁희', '박', '한', '▁숨', '소', '리가', '[SEP]']\n",
            "segment: 64 [0, 0, 0, 0, 0, 0, 0, 0, 0, 0, 0, 0, 0, 0, 0, 0, 0, 0, 0, 0, 0, 0, 0, 0, 0, 0, 0, 0, 0, 0, 0, 0, 0, 0, 0, 0, 0, 0, 0, 0, 0, 0, 0, 0, 0, 0, 0, 1, 1, 1, 1, 1, 1, 1, 1, 1, 1, 1, 1, 1, 1, 1, 1, 1]\n",
            "masked tokens: 64 ['[CLS]', '▁적', '셔', '[MASK]', '▁달', '▁포', '▁전', '부터', '▁콜', '록', '거', '리는', '▁아내', '▁생각', '에', '▁그', '토', '록', '▁먹', '고', '▁싶', '다', '던', '▁설', '렁', '탕', '▁한', '▁그', '릇', '을', '[MASK]', '[MASK]', '▁살', '▁수', '▁있어', '[MASK]', '[MASK]', '[MASK]', '[MASK]', '▁길', '▁난', '▁문', '득', '▁떠', '올', '라', '[SEP]', '▁아내', '의', '▁목', '소', '리가', '▁거', '칠', '어', '만', '▁가는', '▁희', '박', '한', '▁숨', '소', '리가', '[SEP]']\n",
            "masked index: 9 [1, 2, 3, 30, 31, 35, 36, 37, 38]\n",
            "masked label: 9 ['▁적', '셔', '▁몇', '▁이', '제는', '▁집', '으로', '▁돌아', '가는']\n",
            "\n",
            "current_chunk: 5 73 [['▁오늘', '은', '▁', '왠', '지', '▁나', '가지', '▁말', '라', '던', '▁내', '▁옆', '에', '▁있어', '▁달', '라', '던'], ['▁그리', '도', '▁나가', '고', '▁싶', '으면', '▁일', '찍', '이라', '도', '▁들어', '와', '▁달', '라', '던'], ['▁아내', '의', '▁간', '절', '한', '▁목', '소', '리가', '▁들', '려', '와'], ['▁나', '를', '▁원', '망', '하', '듯', '▁비', '는', '▁점', '점', '▁거', '세', '져'], ['▁싸', '늘', '히', '▁식', '어', '가는', '▁아내', '가', '▁떠', '올', '라', '▁', '걱', '정은', '▁더', '해', '져']]\n",
            "is_next: 0\n",
            "tokens_a: 31 ['와', '▁나', '를', '▁원', '망', '하', '듯', '▁비', '는', '▁점', '점', '▁거', '세', '져', '▁싸', '늘', '히', '▁식', '어', '가는', '▁아내', '가', '▁떠', '올', '라', '▁', '걱', '정은', '▁더', '해', '져']\n",
            "tokens_b: 30 ['▁오늘', '은', '▁', '왠', '지', '▁나', '가지', '▁말', '라', '던', '▁내', '▁옆', '에', '▁있어', '▁달', '라', '던', '▁그리', '도', '▁나가', '고', '▁싶', '으면', '▁일', '찍', '이라', '도', '▁들어', '와', '▁달']\n",
            "tokens: 64 ['[CLS]', '와', '▁나', '를', '▁원', '망', '하', '듯', '▁비', '는', '▁점', '점', '▁거', '세', '져', '▁싸', '늘', '히', '▁식', '어', '가는', '▁아내', '가', '▁떠', '올', '라', '▁', '걱', '정은', '▁더', '해', '져', '[SEP]', '▁오늘', '은', '▁', '왠', '지', '▁나', '가지', '▁말', '라', '던', '▁내', '▁옆', '에', '▁있어', '▁달', '라', '던', '▁그리', '도', '▁나가', '고', '▁싶', '으면', '▁일', '찍', '이라', '도', '▁들어', '와', '▁달', '[SEP]']\n",
            "segment: 64 [0, 0, 0, 0, 0, 0, 0, 0, 0, 0, 0, 0, 0, 0, 0, 0, 0, 0, 0, 0, 0, 0, 0, 0, 0, 0, 0, 0, 0, 0, 0, 0, 0, 1, 1, 1, 1, 1, 1, 1, 1, 1, 1, 1, 1, 1, 1, 1, 1, 1, 1, 1, 1, 1, 1, 1, 1, 1, 1, 1, 1, 1, 1, 1]\n",
            "masked tokens: 64 ['[CLS]', '[MASK]', '▁나', '를', '▁원', '망', '하', '듯', '▁비', '는', '▁점', '점', '▁거', '세', '져', '▁싸', '늘', '히', '▁식', '어', '가는', '▁아내', '가', '▁떠', '올', '라', '[MASK]', '[MASK]', '[MASK]', '▁더', '해', '져', '[SEP]', '▁오늘', '은', '▁', '왠', '지', '▁나', '가지', '▁말', '라', '던', '[MASK]', '▁옆', '에', '[MASK]', '[MASK]', '[MASK]', '[MASK]', '▁그리', '도', '▁나가', '고', '▁싶', '으면', '▁일', '찍', '이라', '도', '▁들어', '와', '▁달', '[SEP]']\n",
            "masked index: 9 [1, 26, 27, 28, 43, 46, 47, 48, 49]\n",
            "masked label: 9 ['와', '▁', '걱', '정은', '▁내', '▁있어', '▁달', '라', '던']\n",
            "\n",
            "current_chunk: 2 22 [['▁난', '▁몰', '라', '▁오늘', '은', '▁운', '수', '▁좋은', '▁날'], ['▁난', '▁맨', '날', '▁이렇게', '▁살', '▁수', '▁있', '으면', '▁얼마', '나', '▁좋', '을', '까']]\n",
            "is_next: 0\n",
            "tokens_a: 13 ['▁난', '▁맨', '날', '▁이렇게', '▁살', '▁수', '▁있', '으면', '▁얼마', '나', '▁좋', '을', '까']\n",
            "tokens_b: 9 ['▁난', '▁몰', '라', '▁오늘', '은', '▁운', '수', '▁좋은', '▁날']\n",
            "tokens: 25 ['[CLS]', '▁난', '▁맨', '날', '▁이렇게', '▁살', '▁수', '▁있', '으면', '▁얼마', '나', '▁좋', '을', '까', '[SEP]', '▁난', '▁몰', '라', '▁오늘', '은', '▁운', '수', '▁좋은', '▁날', '[SEP]']\n",
            "segment: 25 [0, 0, 0, 0, 0, 0, 0, 0, 0, 0, 0, 0, 0, 0, 0, 1, 1, 1, 1, 1, 1, 1, 1, 1, 1]\n",
            "masked tokens: 25 ['[CLS]', '▁난', '▁맨', '날', '▁이렇게', '▁살', '▁수', '▁있', '으면', '▁얼마', '나', '[MASK]', '[MASK]', '[MASK]', '[SEP]', '▁난', '▁몰', '라', '▁오늘', '은', '▁운', '수', '▁좋은', '▁날', '[SEP]']\n",
            "masked index: 3 [11, 12, 13]\n",
            "masked label: 3 ['▁좋', '을', '까']\n",
            "\n"
          ]
        }
      ],
      "source": [
        "instances = []\n",
        "current_chunk = []  # line 단위 tokens\n",
        "current_length = 0\n",
        "for i in range(len(doc)):  # doc 전체를 loop\n",
        "    current_chunk.append(doc[i])  # line 단위로 추가\n",
        "    current_length += len(doc[i])  # current_chunk의 token 수\n",
        "    if 1 < len(current_chunk) and (i == len(doc) - 1 or current_length >= max_seq):  # 마지막 줄 이거나 길이가 max_seq 이상 인 경우\n",
        "        print(\"current_chunk:\", len(current_chunk), current_length, current_chunk)\n",
        "\n",
        "        # token a\n",
        "        a_end = 1\n",
        "        if 1 < len(current_chunk):\n",
        "            a_end = random.randrange(1, len(current_chunk))\n",
        "        tokens_a = []\n",
        "        for j in range(a_end):\n",
        "            tokens_a.extend(current_chunk[j])\n",
        "        # token b\n",
        "        tokens_b = []\n",
        "        for j in range(a_end, len(current_chunk)):\n",
        "            tokens_b.extend(current_chunk[j])\n",
        "\n",
        "        if random.random() < 0.5:  # 50% 확률로 swap\n",
        "            is_next = 0    # False\n",
        "            tokens_t = tokens_a\n",
        "            tokens_a = tokens_b\n",
        "            tokens_b = tokens_t\n",
        "        else:\n",
        "            is_next = 1   # True\n",
        "        # max_seq 보다 큰 경우 길이 조절\n",
        "        trim_tokens(tokens_a, tokens_b, max_seq)\n",
        "        assert 0 < len(tokens_a)\n",
        "        assert 0 < len(tokens_b)\n",
        "\n",
        "        print(\"is_next:\", is_next)\n",
        "        print(\"tokens_a:\", len(tokens_a), tokens_a)\n",
        "        print(\"tokens_b:\", len(tokens_b), tokens_b)\n",
        "        #######################################\n",
        "\n",
        "        # tokens & segment 생성\n",
        "        tokens = [\"[CLS]\"] + tokens_a + [\"[SEP]\"] + tokens_b + [\"[SEP]\"]\n",
        "        segment = [0] * (len(tokens_a) + 2) + [1] * (len(tokens_b) + 1)\n",
        "        print(\"tokens:\", len(tokens), tokens)\n",
        "        print(\"segment:\", len(segment), segment)\n",
        "        \n",
        "        # mask\n",
        "        tokens, mask_idx, mask_label = create_pretrain_mask(tokens, int((len(tokens) - 3) * 0.15), vocab_list)\n",
        "        print(\"masked tokens:\", len(tokens), tokens)\n",
        "        print(\"masked index:\", len(mask_idx), mask_idx)\n",
        "        print(\"masked label:\", len(mask_label), mask_label)\n",
        "\n",
        "        instance = {\n",
        "            \"tokens\": tokens,\n",
        "            \"segment\": segment,\n",
        "            \"is_next\": is_next,\n",
        "            \"mask_idx\": mask_idx,\n",
        "            \"mask_label\": mask_label\n",
        "        }\n",
        "        instances.append(instance)\n",
        "        #######################################\n",
        "        print()\n",
        "\n",
        "        current_chunk = []\n",
        "        current_length = 0"
      ]
    },
    {
      "cell_type": "code",
      "execution_count": 17,
      "metadata": {
        "colab": {
          "base_uri": "https://localhost:8080/"
        },
        "id": "BnWZ7PhIGf6C",
        "outputId": "1d7049d4-4a0c-4991-ed48-0edfdb3e966b"
      },
      "outputs": [
        {
          "output_type": "stream",
          "name": "stdout",
          "text": [
            "{'tokens': ['[CLS]', '▁번', '에', '▁삼', '십', '▁전', '▁둘', '째', '[MASK]', '▁오', '십', '[MASK]', '▁오', '랜', '만에', '[MASK]', '[MASK]', '[MASK]', '▁십', '▁전', '짜', '리', '▁백', '통', '화', '▁서', '푼', '에', '▁손', '바', '닥', '▁위', '엔', '▁기', '쁨', '의', '▁눈', '물이', '[MASK]', '[MASK]', '[SEP]', '▁추', '적', '추', '적', '▁비', '가', '▁내', '리는', '▁날', '이었', '어', '▁그', '날', '은', '▁', '왠', '지', '▁손', '님', '이', '▁많', '아', '[SEP]'], 'segment': [0, 0, 0, 0, 0, 0, 0, 0, 0, 0, 0, 0, 0, 0, 0, 0, 0, 0, 0, 0, 0, 0, 0, 0, 0, 0, 0, 0, 0, 0, 0, 0, 0, 0, 0, 0, 0, 0, 0, 0, 0, 1, 1, 1, 1, 1, 1, 1, 1, 1, 1, 1, 1, 1, 1, 1, 1, 1, 1, 1, 1, 1, 1, 1], 'is_next': 0, 'mask_idx': [8, 11, 15, 16, 17, 31, 32, 38, 39], 'mask_label': ['▁번', '▁전', '▁받아', '보', '는', '▁위', '엔', '▁흘', '러']}\n",
            "{'tokens': ['[CLS]', '▁적', '셔', '[MASK]', '▁달', '▁포', '▁전', '부터', '▁콜', '록', '거', '리는', '▁아내', '▁생각', '에', '▁그', '토', '록', '▁먹', '고', '▁싶', '다', '던', '▁설', '렁', '탕', '▁한', '▁그', '릇', '을', '[MASK]', '[MASK]', '▁살', '▁수', '▁있어', '[MASK]', '[MASK]', '[MASK]', '[MASK]', '▁길', '▁난', '▁문', '득', '▁떠', '올', '라', '[SEP]', '▁아내', '의', '▁목', '소', '리가', '▁거', '칠', '어', '만', '▁가는', '▁희', '박', '한', '▁숨', '소', '리가', '[SEP]'], 'segment': [0, 0, 0, 0, 0, 0, 0, 0, 0, 0, 0, 0, 0, 0, 0, 0, 0, 0, 0, 0, 0, 0, 0, 0, 0, 0, 0, 0, 0, 0, 0, 0, 0, 0, 0, 0, 0, 0, 0, 0, 0, 0, 0, 0, 0, 0, 0, 1, 1, 1, 1, 1, 1, 1, 1, 1, 1, 1, 1, 1, 1, 1, 1, 1], 'is_next': 1, 'mask_idx': [1, 2, 3, 30, 31, 35, 36, 37, 38], 'mask_label': ['▁적', '셔', '▁몇', '▁이', '제는', '▁집', '으로', '▁돌아', '가는']}\n",
            "{'tokens': ['[CLS]', '[MASK]', '▁나', '를', '▁원', '망', '하', '듯', '▁비', '는', '▁점', '점', '▁거', '세', '져', '▁싸', '늘', '히', '▁식', '어', '가는', '▁아내', '가', '▁떠', '올', '라', '[MASK]', '[MASK]', '[MASK]', '▁더', '해', '져', '[SEP]', '▁오늘', '은', '▁', '왠', '지', '▁나', '가지', '▁말', '라', '던', '[MASK]', '▁옆', '에', '[MASK]', '[MASK]', '[MASK]', '[MASK]', '▁그리', '도', '▁나가', '고', '▁싶', '으면', '▁일', '찍', '이라', '도', '▁들어', '와', '▁달', '[SEP]'], 'segment': [0, 0, 0, 0, 0, 0, 0, 0, 0, 0, 0, 0, 0, 0, 0, 0, 0, 0, 0, 0, 0, 0, 0, 0, 0, 0, 0, 0, 0, 0, 0, 0, 0, 1, 1, 1, 1, 1, 1, 1, 1, 1, 1, 1, 1, 1, 1, 1, 1, 1, 1, 1, 1, 1, 1, 1, 1, 1, 1, 1, 1, 1, 1, 1], 'is_next': 0, 'mask_idx': [1, 26, 27, 28, 43, 46, 47, 48, 49], 'mask_label': ['와', '▁', '걱', '정은', '▁내', '▁있어', '▁달', '라', '던']}\n",
            "{'tokens': ['[CLS]', '▁난', '▁맨', '날', '▁이렇게', '▁살', '▁수', '▁있', '으면', '▁얼마', '나', '[MASK]', '[MASK]', '[MASK]', '[SEP]', '▁난', '▁몰', '라', '▁오늘', '은', '▁운', '수', '▁좋은', '▁날', '[SEP]'], 'segment': [0, 0, 0, 0, 0, 0, 0, 0, 0, 0, 0, 0, 0, 0, 0, 1, 1, 1, 1, 1, 1, 1, 1, 1, 1], 'is_next': 0, 'mask_idx': [11, 12, 13], 'mask_label': ['▁좋', '을', '까']}\n"
          ]
        }
      ],
      "source": [
        "# 최종 데이터셋 결과 확인\n",
        "for instance in instances:\n",
        "    print(instance)"
      ]
    },
    {
      "cell_type": "markdown",
      "metadata": {
        "id": "Q-snKGRxGn2U"
      },
      "source": [
        "### 코퍼스 생성 메소드\n"
      ]
    },
    {
      "cell_type": "code",
      "execution_count": 18,
      "metadata": {
        "colab": {
          "base_uri": "https://localhost:8080/"
        },
        "id": "qJGiftA9GqzF",
        "outputId": "e6257e7a-ae7d-4231-901a-e63c212e4eff"
      },
      "outputs": [
        {
          "output_type": "stream",
          "name": "stdout",
          "text": [
            "{'tokens': ['[CLS]', '▁오', '랜', '만에', '▁받아', '보', '는', '[MASK]', '▁전', '짜', '리', '▁백', '통', '화', '▁서', '푼', '에', '▁손', '바', '닥', '▁위', '엔', '▁기', '쁨', '의', '▁눈', '물이', '▁흘', '러', '[SEP]', '▁추', '적', '추', '적', '▁계속', '떡', '▁내', '리는', '▁날', '이었', '어', '[MASK]', '[MASK]', '[MASK]', '▁', '왠', '지', '▁손', '님', '이', '▁많', '아', '▁첫', '[MASK]', '[MASK]', '▁삼', '십', '▁전', '▁둘', '째', '[MASK]', '▁오', '십', '[SEP]'], 'segment': [0, 0, 0, 0, 0, 0, 0, 0, 0, 0, 0, 0, 0, 0, 0, 0, 0, 0, 0, 0, 0, 0, 0, 0, 0, 0, 0, 0, 0, 0, 1, 1, 1, 1, 1, 1, 1, 1, 1, 1, 1, 1, 1, 1, 1, 1, 1, 1, 1, 1, 1, 1, 1, 1, 1, 1, 1, 1, 1, 1, 1, 1, 1, 1], 'is_next': 0, 'mask_idx': [7, 34, 35, 41, 42, 43, 53, 54, 60], 'mask_label': ['▁십', '▁비', '가', '▁그', '날', '은', '▁번', '에', '▁번']}\n",
            "{'tokens': ['[CLS]', '▁아내', '의', '▁목', '소', '리가', '▁거', '칠', '어', '만', '▁가는', '▁희', '박', '한', '▁숨', '소', '리가', '[SEP]', '▁컬', '컬', '한', '▁목', '에', '▁모', '주', '[MASK]', '[MASK]', '[MASK]', '▁적', '셔', '▁몇', '[MASK]', '▁포', '▁전', '부터', '▁콜', '록', '거', '리는', '[MASK]', '▁생각', '에', '▁그', '토', '록', '▁먹', '고', '▁싶', '다', '던', '▁설', '렁', '탕', '▁한', '▁그', '릇', '을', '▁이', '제는', '▁살', '▁수', '▁있어', '▁집', '[SEP]'], 'segment': [0, 0, 0, 0, 0, 0, 0, 0, 0, 0, 0, 0, 0, 0, 0, 0, 0, 0, 1, 1, 1, 1, 1, 1, 1, 1, 1, 1, 1, 1, 1, 1, 1, 1, 1, 1, 1, 1, 1, 1, 1, 1, 1, 1, 1, 1, 1, 1, 1, 1, 1, 1, 1, 1, 1, 1, 1, 1, 1, 1, 1, 1, 1, 1], 'is_next': 0, 'mask_idx': [23, 24, 25, 26, 27, 31, 39, 40, 41], 'mask_label': ['▁모', '주', '▁한', '잔', '을', '▁달', '▁아내', '▁생각', '에']}\n",
            "{'tokens': ['[CLS]', '▁달', '라', '던', '▁아내', '의', '▁간', '절', '한', '▁목', '소', '리가', '[MASK]', '[MASK]', '[MASK]', '▁나', '를', '▁원', '망', '하', '듯', '▁비', '는', '▁점', '점', '▁거', '세', '져', '▁싸', '늘', '히', '▁식', '어', '가는', '▁아내', '가', '▁떠', '올', '라', '▁', '걱', '정은', '▁더', '해', '져', '[SEP]', '[MASK]', '[MASK]', '[MASK]', '[MASK]', '[MASK]', '▁나', '가지', '▁말', '라', '던', '[MASK]', '▁옆', '에', '▁있어', '▁달', '라', '던', '[SEP]'], 'segment': [0, 0, 0, 0, 0, 0, 0, 0, 0, 0, 0, 0, 0, 0, 0, 0, 0, 0, 0, 0, 0, 0, 0, 0, 0, 0, 0, 0, 0, 0, 0, 0, 0, 0, 0, 0, 0, 0, 0, 0, 0, 0, 0, 0, 0, 0, 1, 1, 1, 1, 1, 1, 1, 1, 1, 1, 1, 1, 1, 1, 1, 1, 1, 1], 'is_next': 0, 'mask_idx': [12, 13, 14, 46, 47, 48, 49, 50, 56], 'mask_label': ['▁들', '려', '와', '▁오늘', '은', '▁', '왠', '지', '▁내']}\n",
            "{'tokens': ['[CLS]', '▁난', '▁몰', '라', '▁오늘', '은', '▁운', '수', '▁좋은', '▁날', '[SEP]', '▁난', '▁맨', '날', '▁이렇게', '▁살', '▁수', '▁있', '으면', '▁얼마', '나', '[MASK]', '[MASK]', '[MASK]', '[SEP]'], 'segment': [0, 0, 0, 0, 0, 0, 0, 0, 0, 0, 0, 1, 1, 1, 1, 1, 1, 1, 1, 1, 1, 1, 1, 1, 1], 'is_next': 1, 'mask_idx': [21, 22, 23], 'mask_label': ['▁좋', '을', '까']}\n"
          ]
        }
      ],
      "source": [
        "def create_pretrain_instances(vocab, doc, n_seq, mask_prob, vocab_list):\n",
        "    \"\"\"\n",
        "    doc별 pretrain 데이터 생성\n",
        "    \"\"\"\n",
        "    # for CLS], [SEP], [SEP]\n",
        "    max_seq = n_seq - 3\n",
        "\n",
        "    instances = []\n",
        "    current_chunk = []\n",
        "    current_length = 0\n",
        "    for i in range(len(doc)):\n",
        "        current_chunk.append(doc[i])  # line\n",
        "        current_length += len(doc[i])\n",
        "        if 1 < len(current_chunk) and (i == len(doc) - 1 or current_length >= max_seq):\n",
        "            # token a\n",
        "            a_end = 1\n",
        "            if 1 < len(current_chunk):\n",
        "                a_end = random.randrange(1, len(current_chunk))\n",
        "            tokens_a = []\n",
        "            for j in range(a_end):\n",
        "                tokens_a.extend(current_chunk[j])\n",
        "            # token b\n",
        "            tokens_b = []\n",
        "            for j in range(a_end, len(current_chunk)):\n",
        "                tokens_b.extend(current_chunk[j])\n",
        "\n",
        "            if random.random() < 0.5:  # 50% 확률로 swap\n",
        "                is_next = 0\n",
        "                tokens_t = tokens_a\n",
        "                tokens_a = tokens_b\n",
        "                tokens_b = tokens_t\n",
        "            else:\n",
        "                is_next = 1\n",
        "            # max_seq 보다 큰 경우 길이 조절\n",
        "            trim_tokens(tokens_a, tokens_b, max_seq)\n",
        "            assert 0 < len(tokens_a)\n",
        "            assert 0 < len(tokens_b)\n",
        "            # tokens & aegment 생성\n",
        "            tokens = [\"[CLS]\"] + tokens_a + [\"[SEP]\"] + tokens_b + [\"[SEP]\"]\n",
        "            segment = [0] * (len(tokens_a) + 2) + [1] * (len(tokens_b) + 1)\n",
        "            # mask\n",
        "            tokens, mask_idx, mask_label = create_pretrain_mask(tokens, int((len(tokens) - 3) * mask_prob), vocab_list)\n",
        "\n",
        "            instance = {\n",
        "                \"tokens\": tokens,\n",
        "                \"segment\": segment,\n",
        "                \"is_next\": is_next,\n",
        "                \"mask_idx\": mask_idx,\n",
        "                \"mask_label\": mask_label\n",
        "            }\n",
        "            instances.append(instance)\n",
        "\n",
        "            current_chunk = []\n",
        "            current_length = 0\n",
        "    return instances\n",
        "\n",
        "instances = create_pretrain_instances(vocab, doc, n_test_seq, 0.15, vocab_list)\n",
        "\n",
        "# 최종 데이터셋 결과 확인\n",
        "for instance in instances:\n",
        "    print(instance)"
      ]
    },
    {
      "cell_type": "markdown",
      "metadata": {
        "id": "7KvtEXGFgR00"
      },
      "source": [
        "# 4. 데이터 전처리 (3) 데이터셋 완성\n",
        "- make_pretrain_data 함수\n",
        " - BERT pretrain 데이터셋을 생성 \n",
        " - json 포맷으로 저장(bert_pre_train.json)\n",
        "\n",
        "- load_pre_train_data 함수\n",
        " - 학습에 필요한 데이터를 로딩하는 함수\n",
        " - np.memmap을 사용해 메모리 사용량을 최소화하여 로딩\n"
      ]
    },
    {
      "cell_type": "code",
      "execution_count": 19,
      "metadata": {
        "colab": {
          "base_uri": "https://localhost:8080/",
          "height": 49,
          "referenced_widgets": [
            "4d9345947e7d47a68154ced90d089b48",
            "06ebef6046364f938cd7fe0b73c8dbf9",
            "66933ab0ae944089b1eff7e673da98a1",
            "44344f5b40b6417183a28ec9e02b2e28",
            "e059f23e452d4dc9944bade075c5ab0e",
            "7a4858e9f2364914a02f57e7c88b6066",
            "7dbb8877da2245bd8d805e4d91d202c2",
            "0a408dd8bf7b4475ba8d6bf55faee49e",
            "f510eee3ec1f4ce7b9b16b5f587525fd",
            "9e263766cee549429cd29b83716b8798",
            "68553c948b6e453bad8305d3bb99c313"
          ]
        },
        "id": "hHHH11xwHEId",
        "outputId": "d8b71e83-e370-4ae1-850d-2fbd3a63dfa8"
      },
      "outputs": [
        {
          "output_type": "display_data",
          "data": {
            "text/plain": [
              "  0%|          | 0/3957761 [00:00<?, ?it/s]"
            ],
            "application/vnd.jupyter.widget-view+json": {
              "version_major": 2,
              "version_minor": 0,
              "model_id": "4d9345947e7d47a68154ced90d089b48"
            }
          },
          "metadata": {}
        }
      ],
      "source": [
        "from tqdm.notebook import tqdm\n",
        "import numpy as np\n",
        "\n",
        "corpus_file = '/content/data/kowiki.txt'\n",
        "\n",
        "def make_pretrain_data(vocab, in_file, out_file, n_seq, mask_prob=0.15):\n",
        "    \"\"\" pretrain 데이터 생성 \"\"\"\n",
        "    def save_pretrain_instances(out_f, doc):\n",
        "        instances = create_pretrain_instances(vocab, doc, n_seq, mask_prob, vocab_list)\n",
        "        for instance in instances:\n",
        "            out_f.write(json.dumps(instance, ensure_ascii=False))\n",
        "            out_f.write(\"\\n\")\n",
        "\n",
        "    # 특수문자 7개를 제외한 vocab_list 생성\n",
        "    vocab_list = []\n",
        "    for id in range(7, len(vocab)):\n",
        "        if not vocab.is_unknown(id):        # 생성되는 단어 목록이 unknown인 경우는 제거합니다. \n",
        "            vocab_list.append(vocab.id_to_piece(id))\n",
        "\n",
        "    # line count 확인\n",
        "    line_cnt = 0\n",
        "    with open(in_file, \"r\") as in_f:\n",
        "        for line in in_f:\n",
        "            line_cnt += 1\n",
        "\n",
        "    with open(in_file, \"r\") as in_f:\n",
        "        with open(out_file, \"w\") as out_f:\n",
        "            doc = []\n",
        "            for line in tqdm(in_f, total=line_cnt):\n",
        "                line = line.strip()\n",
        "                if line == \"\":  # line이 빈줄 일 경우 (새로운 단락)\n",
        "                    if 0 < len(doc):\n",
        "                        save_pretrain_instances(out_f, doc)\n",
        "                        doc = []\n",
        "                else:  # line이 빈줄이 아닐 경우 tokenize 해서 doc에 저장\n",
        "                    pieces = vocab.encode_as_pieces(line)\n",
        "                    if 0 < len(pieces):\n",
        "                        doc.append(pieces)\n",
        "            if 0 < len(doc):  # 마지막에 처리되지 않은 doc가 있는 경우\n",
        "                save_pretrain_instances(out_f, doc)\n",
        "                doc = []\n",
        "\n",
        "pretrain_json_path = 'data/bert_pre_train.json'\n",
        "\n",
        "make_pretrain_data(vocab, corpus_file, pretrain_json_path, 128)"
      ]
    },
    {
      "cell_type": "code",
      "execution_count": 20,
      "metadata": {
        "id": "PO-xy25zHiT7"
      },
      "outputs": [],
      "source": [
        "def load_pre_train_data(vocab, filename, n_seq, count=None):\n",
        "    \"\"\"\n",
        "    학습에 필요한 데이터를 로드\n",
        "    :param vocab: vocab\n",
        "    :param filename: 전처리된 json 파일\n",
        "    :param n_seq: 시퀀스 길이 (number of sequence)\n",
        "    :param count: 데이터 수 제한 (None이면 전체)\n",
        "    :return enc_tokens: encoder inputs\n",
        "    :return segments: segment inputs\n",
        "    :return labels_nsp: nsp labels\n",
        "    :return labels_mlm: mlm labels\n",
        "    \"\"\"\n",
        "    total = 0\n",
        "    with open(filename, \"r\") as f:\n",
        "        for line in f:\n",
        "            total += 1\n",
        "            # 데이터 수 제한\n",
        "            if count is not None and count <= total:\n",
        "                break\n",
        "    \n",
        "    # np.memmap을 사용하면 메모리를 적은 메모리에서도 대용량 데이터 처리가 가능 함\n",
        "    enc_tokens = np.memmap(filename='enc_tokens.memmap', mode='w+', dtype=np.int32, shape=(total, n_seq))\n",
        "    segments = np.memmap(filename='segments.memmap', mode='w+', dtype=np.int32, shape=(total, n_seq))\n",
        "    labels_nsp = np.memmap(filename='labels_nsp.memmap', mode='w+', dtype=np.int32, shape=(total,))\n",
        "    labels_mlm = np.memmap(filename='labels_mlm.memmap', mode='w+', dtype=np.int32, shape=(total, n_seq))\n",
        "\n",
        "    with open(filename, \"r\") as f:\n",
        "        for i, line in enumerate(tqdm(f, total=total)):\n",
        "            if total <= i:\n",
        "                print(\"data load early stop\", total, i)\n",
        "                break\n",
        "            data = json.loads(line)\n",
        "            # encoder token\n",
        "            enc_token = [vocab.piece_to_id(p) for p in data[\"tokens\"]]\n",
        "            enc_token += [0] * (n_seq - len(enc_token))\n",
        "            # segment\n",
        "            segment = data[\"segment\"]\n",
        "            segment += [0] * (n_seq - len(segment))\n",
        "            # nsp label\n",
        "            label_nsp = data[\"is_next\"]\n",
        "            # mlm label\n",
        "            mask_idx = np.array(data[\"mask_idx\"], dtype=np.int)\n",
        "            mask_label = np.array([vocab.piece_to_id(p) for p in data[\"mask_label\"]], dtype=np.int)\n",
        "            label_mlm = np.full(n_seq, dtype=np.int, fill_value=0)\n",
        "            label_mlm[mask_idx] = mask_label\n",
        "\n",
        "            assert len(enc_token) == len(segment) == len(label_mlm) == n_seq\n",
        "\n",
        "            enc_tokens[i] = enc_token\n",
        "            segments[i] = segment\n",
        "            labels_nsp[i] = label_nsp\n",
        "            labels_mlm[i] = label_mlm\n",
        "\n",
        "    return (enc_tokens, segments), (labels_nsp, labels_mlm)"
      ]
    },
    {
      "cell_type": "code",
      "execution_count": 21,
      "metadata": {
        "colab": {
          "base_uri": "https://localhost:8080/",
          "height": 1000,
          "referenced_widgets": [
            "3d6649b5c0db468bba812b345e9392b6",
            "61e8b89cd17c40fd9580f699b4f7516d",
            "0065be9c4eb24d0ea21538e3b68aac8b",
            "8be85c05b4d341ac8ed7d80e3ffd9e22",
            "2d898d5906ec418ba8c85191e613b6bb",
            "27f4b52342db4e96b73df37fcfd2bba9",
            "90838039a99848cd81b4d6bee69b2d3d",
            "806058aa898f4eb2be1a07f9a20efaf5",
            "6f94d898541b45818924d6aaf2c25573",
            "4298fb6112b54e5ca6f567491d51c207",
            "339fad0a69224a55bc71e8106f28514c"
          ]
        },
        "id": "03fIf2FyIzTU",
        "outputId": "3025d61b-b618-4f8b-d15f-a8e36f52c6b5"
      },
      "outputs": [
        {
          "output_type": "display_data",
          "data": {
            "text/plain": [
              "  0%|          | 0/128000 [00:00<?, ?it/s]"
            ],
            "application/vnd.jupyter.widget-view+json": {
              "version_major": 2,
              "version_minor": 0,
              "model_id": "3d6649b5c0db468bba812b345e9392b6"
            }
          },
          "metadata": {}
        },
        {
          "output_type": "stream",
          "name": "stderr",
          "text": [
            "/usr/local/lib/python3.7/dist-packages/ipykernel_launcher.py:42: DeprecationWarning: `np.int` is a deprecated alias for the builtin `int`. To silence this warning, use `int` by itself. Doing this will not modify any behavior and is safe. When replacing `np.int`, you may wish to use e.g. `np.int64` or `np.int32` to specify the precision. If you wish to review your current use, check the release note link for additional information.\n",
            "Deprecated in NumPy 1.20; for more details and guidance: https://numpy.org/devdocs/release/1.20.0-notes.html#deprecations\n",
            "/usr/local/lib/python3.7/dist-packages/ipykernel_launcher.py:43: DeprecationWarning: `np.int` is a deprecated alias for the builtin `int`. To silence this warning, use `int` by itself. Doing this will not modify any behavior and is safe. When replacing `np.int`, you may wish to use e.g. `np.int64` or `np.int32` to specify the precision. If you wish to review your current use, check the release note link for additional information.\n",
            "Deprecated in NumPy 1.20; for more details and guidance: https://numpy.org/devdocs/release/1.20.0-notes.html#deprecations\n",
            "/usr/local/lib/python3.7/dist-packages/ipykernel_launcher.py:44: DeprecationWarning: `np.int` is a deprecated alias for the builtin `int`. To silence this warning, use `int` by itself. Doing this will not modify any behavior and is safe. When replacing `np.int`, you may wish to use e.g. `np.int64` or `np.int32` to specify the precision. If you wish to review your current use, check the release note link for additional information.\n",
            "Deprecated in NumPy 1.20; for more details and guidance: https://numpy.org/devdocs/release/1.20.0-notes.html#deprecations\n"
          ]
        },
        {
          "output_type": "stream",
          "name": "stdout",
          "text": [
            "data load early stop 128000 128000\n"
          ]
        },
        {
          "output_type": "execute_result",
          "data": {
            "text/plain": [
              "(memmap([   5,    6, 1605, 3599, 1755, 3630,   41, 3644,  830, 3624,    6,\n",
              "            6,    6,   13,   81,   87, 1501,    6,   25, 3779, 3873, 3667,\n",
              "         3631, 3813, 3873, 4196, 3636, 3779, 3601,  249, 3725, 1232,   33,\n",
              "           52, 3599,  479, 3652, 3625,  243, 2780,   14, 1509,    6,    6,\n",
              "            6,  165, 1697, 4290, 3873, 3703, 3683,    6,   21, 5007,    6,\n",
              "         1927, 3607,  813,   17, 3599, 3746,  587,  931,  103, 4313, 4290,\n",
              "          613, 3638, 3718,   98, 3878, 3656,  256, 2543,  309,  337, 3735,\n",
              "          181, 3616, 3603,    6,    6,    6,    4,   18, 3686,  207, 3714,\n",
              "         3324, 1042,  103, 3610, 3686, 3718,  207, 3714,   37, 3418,  416,\n",
              "          810, 3666, 3625,  131, 3662,    7, 3629,  203,  241, 3602, 1114,\n",
              "         3724,  788,    6,   49, 3632,  796,  663, 1647, 3682, 3682, 3625,\n",
              "          203, 3008, 3625, 3616,   16, 3599,    4], dtype=int32),\n",
              " memmap([   5,   13,   81, 3604,    6,    6, 6313, 3562, 4500,    6,  316,\n",
              "         1425,  173,  305, 3620, 1395,  149, 3607,   19,    6, 3596, 4904,\n",
              "         3750, 3603, 4065,  115, 3617, 3756, 3596, 4639, 1364, 3627,  991,\n",
              "         3616, 3600,    7, 3614, 3746,    9, 2972,  173, 1345, 3604,  848,\n",
              "         3784, 3833,    8, 3637, 2263,   12, 3614, 3746,  836, 3596, 4904,\n",
              "         3750, 3603, 4065,  115, 3600, 2972,  173,  351, 3599,    4,  848,\n",
              "         3784, 3833,    8, 3637, 3676,  848, 3784, 1931,   58, 3676,  416,\n",
              "         2316, 3619, 3625, 3617, 3744, 4335,   12, 3625, 3616,  175, 3662,\n",
              "            7, 3629,  203,  578, 3652, 3625, 3617, 4148, 3665,  143, 3625,\n",
              "         3616,  131, 3662,  342, 3629, 3616, 3602,    6,    6,    6, 1115,\n",
              "         3665, 1381, 4148, 3451, 1633,  375,  671, 1644, 3608,  547, 3423,\n",
              "            6,    6,    6,  752, 3608, 3604,    4], dtype=int32),\n",
              " memmap([0, 0, 0, 0, 0, 0, 0, 0, 0, 0, 0, 0, 0, 0, 0, 0, 0, 0, 0, 0, 0, 0,\n",
              "         0, 0, 0, 0, 0, 0, 0, 0, 0, 0, 0, 0, 0, 0, 0, 0, 0, 0, 0, 0, 0, 0,\n",
              "         0, 0, 0, 0, 0, 0, 0, 0, 0, 0, 0, 0, 0, 0, 0, 0, 0, 0, 0, 0, 0, 0,\n",
              "         0, 0, 0, 0, 0, 0, 0, 0, 0, 0, 0, 0, 0, 0, 0, 0, 0, 0, 1, 1, 1, 1,\n",
              "         1, 1, 1, 1, 1, 1, 1, 1, 1, 1, 1, 1, 1, 1, 1, 1, 1, 1, 1, 1, 1, 1,\n",
              "         1, 1, 1, 1, 1, 1, 1, 1, 1, 1, 1, 1, 1, 1, 1, 1, 1, 1], dtype=int32),\n",
              " memmap([0, 0, 0, 0, 0, 0, 0, 0, 0, 0, 0, 0, 0, 0, 0, 0, 0, 0, 0, 0, 0, 0,\n",
              "         0, 0, 0, 0, 0, 0, 0, 0, 0, 0, 0, 0, 0, 0, 0, 0, 0, 0, 0, 0, 0, 0,\n",
              "         0, 0, 0, 0, 0, 0, 0, 0, 0, 0, 0, 0, 0, 0, 0, 0, 0, 0, 0, 0, 0, 1,\n",
              "         1, 1, 1, 1, 1, 1, 1, 1, 1, 1, 1, 1, 1, 1, 1, 1, 1, 1, 1, 1, 1, 1,\n",
              "         1, 1, 1, 1, 1, 1, 1, 1, 1, 1, 1, 1, 1, 1, 1, 1, 1, 1, 1, 1, 1, 1,\n",
              "         1, 1, 1, 1, 1, 1, 1, 1, 1, 1, 1, 1, 1, 1, 1, 1, 1, 1], dtype=int32),\n",
              " 0,\n",
              " 0,\n",
              " memmap([   0,   10,    0,    0,    0,    0,    0,    0,    0,    0, 1135,\n",
              "           52, 3599,    0,    0,    0,    0, 2247,    0,    0,    0,    0,\n",
              "            0,    0,    0,    0,    0,    0,    0,    0,    0,    0,    0,\n",
              "            0,    0,    0,    0,    0,    0,    0,    0,    0,  168, 3877,\n",
              "          414,    0,    0,    0,    0,    0,    0,  593,    0,    0,  399,\n",
              "            0,    0,    0,    0,    0,  307,    0,    0,    0,    0,    0,\n",
              "            0,    0,    0,    0,    0,    0,    0,    0,    0,    0,    0,\n",
              "            0,    0,    0,  489,  376, 3599,    0,    0,    0,    0,    0,\n",
              "            0,    0,    0,    0,    0,    0,    0,    0,   37, 3418,  416,\n",
              "            0,    0,    0,    0,    0,    0,    0,    0,    0,    0,    0,\n",
              "            0,    0,  243,    0,    0,    0,    0,    0,    0,    0,    0,\n",
              "            0,    0,    0,    0,    0,    0,    0], dtype=int32),\n",
              " memmap([   0,    0,    0,    0,   15, 3784,   68, 3238, 3602,   13,    0,\n",
              "         1425,  173,    0,    0,    0,    0,    0,    0,  805,    0,    0,\n",
              "            0,    0,    0,    0,    0,    0,    0,    0,    0,    0,    0,\n",
              "            0,    0,    0,    0,    0,    0,    0,    0,    0,    0,    0,\n",
              "            0,    0,    0,    0,    0,    0,    0,    0,    0,    0,    0,\n",
              "            0,    0,    0,    0,    0,    0,    0,    0,    0,    0,    0,\n",
              "            0,    0,    0,    0,    0,    0,    0,    0,   58, 3676,  416,\n",
              "            0,    0,    0,    0,    0,    0,    0,    0,    0,    0,    0,\n",
              "            0,    0,    0,    0,    0,    0,    0,    0,    0,    0,    0,\n",
              "            0,    0,    0,    0,    0,    0,    0,  176,  334,  829,    0,\n",
              "            0,    0,    0,    0,    0,    0,    0,    0,    0,    0,    0,\n",
              "          765,  815, 3604,    0,    0,    0,    0], dtype=int32))"
            ]
          },
          "metadata": {},
          "execution_count": 21
        }
      ],
      "source": [
        "# 128000건만 메모리에 로딩\n",
        "pre_train_inputs, pre_train_labels = load_pre_train_data(vocab, pretrain_json_path, 128, count=128000)\n",
        "\n",
        "# 처음과 마지막 확인\n",
        "pre_train_inputs[0][0], pre_train_inputs[0][-1], pre_train_inputs[1][0], pre_train_inputs[1][-1], pre_train_labels[0][0], pre_train_labels[0][-1], pre_train_labels[1][0], pre_train_labels[1][-1]"
      ]
    },
    {
      "cell_type": "markdown",
      "metadata": {
        "id": "XeKJGjQKgRs0"
      },
      "source": [
        "# 5. BERT 모델 구현\n",
        "\n",
        "\n",
        "Embedding 레이어, Transformer encoder 레이어, BERT 레이어를 구성한 후, pretraine용 BERT 모델을 만들어 봅시다.\n"
      ]
    },
    {
      "cell_type": "markdown",
      "metadata": {
        "id": "VLCPm6VrKI5Y"
      },
      "source": [
        "### 유틸리티 함수\n",
        "- pad mask 함수\n",
        "- ahead mask 함수\n",
        "- gelu activation 함수\n",
        "- parameter initializer 생성 함수, \n",
        "- json을 config 형태설정 함수"
      ]
    },
    {
      "cell_type": "code",
      "execution_count": 22,
      "metadata": {
        "id": "55wfF5QYKKQH"
      },
      "outputs": [],
      "source": [
        "import tensorflow as tf\n",
        "import tensorflow.keras.backend as K\n",
        "\n",
        "def get_pad_mask(tokens, i_pad=0):\n",
        "    \"\"\"\n",
        "    pad mask 계산하는 함수\n",
        "    :param tokens: tokens (bs, n_seq)\n",
        "    :param i_pad: id of pad\n",
        "    :return mask: pad mask (pad: 1, other: 0)\n",
        "    \"\"\"\n",
        "    mask = tf.cast(tf.math.equal(tokens, i_pad), tf.float32)\n",
        "    mask = tf.expand_dims(mask, axis=1)\n",
        "    return mask\n",
        "\n",
        "\n",
        "def get_ahead_mask(tokens, i_pad=0):\n",
        "    \"\"\"\n",
        "    ahead mask 계산하는 함수\n",
        "    :param tokens: tokens (bs, n_seq)\n",
        "    :param i_pad: id of pad\n",
        "    :return mask: ahead and pad mask (ahead or pad: 1, other: 0)\n",
        "    \"\"\"\n",
        "    n_seq = tf.shape(tokens)[1]\n",
        "    ahead_mask = 1 - tf.linalg.band_part(tf.ones((n_seq, n_seq)), -1, 0)\n",
        "    ahead_mask = tf.expand_dims(ahead_mask, axis=0)\n",
        "    pad_mask = get_pad_mask(tokens, i_pad)\n",
        "    mask = tf.maximum(ahead_mask, pad_mask)\n",
        "    return mask\n",
        "\n",
        "\n",
        "@tf.function(experimental_relax_shapes=True)\n",
        "def gelu(x):\n",
        "    \"\"\"\n",
        "    gelu activation 함수\n",
        "    :param x: 입력 값\n",
        "    :return: gelu activation result\n",
        "    \"\"\"\n",
        "    return 0.5*x*(1+tf.tanh(np.sqrt(2/np.pi)*(x+0.044715*tf.pow(x, 3))))\n",
        "\n",
        "def kernel_initializer(stddev=0.02):\n",
        "    \"\"\"\n",
        "    parameter initializer 생성\n",
        "    :param stddev: 생성할 랜덤 변수의 표준편차\n",
        "    \"\"\"\n",
        "    return tf.keras.initializers.TruncatedNormal(stddev=stddev)\n",
        "\n",
        "\n",
        "def bias_initializer():\n",
        "    \"\"\"\n",
        "    bias initializer 생성\n",
        "    \"\"\"\n",
        "    return tf.zeros_initializer\n",
        "\n",
        "\n",
        "class Config(dict):\n",
        "    \"\"\"\n",
        "    json을 config 형태로 사용하기 위한 Class\n",
        "    :param dict: config dictionary\n",
        "    \"\"\"\n",
        "    __getattr__ = dict.__getitem__\n",
        "    __setattr__ = dict.__setitem__\n",
        "\n",
        "    @classmethod\n",
        "    def load(cls, file):\n",
        "        \"\"\"\n",
        "        file에서 Config를 생성 함\n",
        "        :param file: filename\n",
        "        \"\"\"\n",
        "        with open(file, 'r') as f:\n",
        "            config = json.loads(f.read())\n",
        "            return Config(config)"
      ]
    },
    {
      "cell_type": "markdown",
      "metadata": {
        "id": "QCo0Nx_xKKIr"
      },
      "source": [
        "### embedding 레이어\n",
        "- Token Embedding\n",
        "- Segment Embedding\n",
        "- Position Embedding : 별도의 레이어를 구현하지 않고 BERT 클래스에서 간단히 포함"
      ]
    },
    {
      "cell_type": "code",
      "execution_count": 23,
      "metadata": {
        "colab": {
          "base_uri": "https://localhost:8080/"
        },
        "id": "1if-sUheKKBA",
        "outputId": "57282184-3cdb-4032-96a9-b50f7dfb3964"
      },
      "outputs": [
        {
          "output_type": "stream",
          "name": "stdout",
          "text": [
            "슝=3\n"
          ]
        }
      ],
      "source": [
        "class SharedEmbedding(tf.keras.layers.Layer):\n",
        "    \"\"\"\n",
        "    Weighed Shaed Embedding Class\n",
        "    \"\"\"\n",
        "    def __init__(self, config, name=\"weight_shared_embedding\"):\n",
        "        \"\"\"\n",
        "        생성자\n",
        "        :param config: Config 객체\n",
        "        :param name: layer name\n",
        "        \"\"\"\n",
        "        super().__init__(name=name)\n",
        "\n",
        "        self.n_vocab = config.n_vocab\n",
        "        self.d_model = config.d_model\n",
        "    \n",
        "    def build(self, input_shape):\n",
        "        \"\"\"\n",
        "        shared weight 생성\n",
        "        :param input_shape: Tensor Shape (not used)\n",
        "        \"\"\"\n",
        "        with tf.name_scope(\"shared_embedding_weight\"):\n",
        "            self.shared_weights = self.add_weight(\n",
        "                \"weights\",\n",
        "                shape=[self.n_vocab, self.d_model],\n",
        "                initializer=kernel_initializer()\n",
        "            )\n",
        "\n",
        "    def call(self, inputs, mode=\"embedding\"):\n",
        "        \"\"\"\n",
        "        layer 실행\n",
        "        :param inputs: 입력\n",
        "        :param mode: 실행 모드\n",
        "        :return: embedding or linear 실행 결과\n",
        "        \"\"\"\n",
        "        # mode가 embedding일 경우 embedding lookup 실행\n",
        "        if mode == \"embedding\":\n",
        "            return self._embedding(inputs)\n",
        "        # mode가 linear일 경우 linear 실행\n",
        "        elif mode == \"linear\":\n",
        "            return self._linear(inputs)\n",
        "        # mode가 기타일 경우 오류 발생\n",
        "        else:\n",
        "            raise ValueError(f\"mode {mode} is not valid.\")\n",
        "    \n",
        "    def _embedding(self, inputs):\n",
        "        \"\"\"\n",
        "        embedding lookup\n",
        "        :param inputs: 입력\n",
        "        \"\"\"\n",
        "        embed = tf.gather(self.shared_weights, tf.cast(inputs, tf.int32))\n",
        "        return embed\n",
        "\n",
        "    def _linear(self, inputs):  # (bs, n_seq, d_model)\n",
        "        \"\"\"\n",
        "        linear 실행\n",
        "        :param inputs: 입력\n",
        "        \"\"\"\n",
        "        n_batch = tf.shape(inputs)[0]\n",
        "        n_seq = tf.shape(inputs)[1]\n",
        "        inputs = tf.reshape(inputs, [-1, self.d_model])  # (bs * n_seq, d_model)\n",
        "        outputs = tf.matmul(inputs, self.shared_weights, transpose_b=True)\n",
        "        outputs = tf.reshape(outputs, [n_batch, n_seq, self.n_vocab])  # (bs, n_seq, n_vocab)\n",
        "        return outputs\n",
        "\n",
        "\n",
        "class PositionEmbedding(tf.keras.layers.Layer):\n",
        "    \"\"\"\n",
        "    Position Embedding Class\n",
        "    \"\"\"\n",
        "    def __init__(self, config, name=\"position_embedding\"):\n",
        "        \"\"\"\n",
        "        생성자\n",
        "        :param config: Config 객체\n",
        "        :param name: layer name\n",
        "        \"\"\"\n",
        "        super().__init__(name=name)\n",
        "        \n",
        "        self.embedding = tf.keras.layers.Embedding(config.n_seq, config.d_model, embeddings_initializer=kernel_initializer())\n",
        "\n",
        "    def call(self, inputs):\n",
        "        \"\"\"\n",
        "        layer 실행\n",
        "        :param inputs: 입력\n",
        "        :return embed: position embedding lookup 결과\n",
        "        \"\"\"\n",
        "        position = tf.cast(tf.math.cumsum(tf.ones_like(inputs), axis=1, exclusive=True), tf.int32)\n",
        "        embed = self.embedding(position)\n",
        "        return embed\n",
        "print(\"슝=3\")"
      ]
    },
    {
      "cell_type": "markdown",
      "metadata": {
        "id": "xMx7zbpzKJ3Q"
      },
      "source": [
        "### Attention\n",
        " - ScaleDotProductAttention\n",
        " - MultiHeadAttention"
      ]
    },
    {
      "cell_type": "code",
      "execution_count": 24,
      "metadata": {
        "id": "pW2dK_ZaKJbx"
      },
      "outputs": [],
      "source": [
        "class ScaleDotProductAttention(tf.keras.layers.Layer):\n",
        "    \"\"\"\n",
        "    Scale Dot Product Attention Class\n",
        "    \"\"\"\n",
        "    def __init__(self, name=\"scale_dot_product_attention\"):\n",
        "        \"\"\"\n",
        "        생성자\n",
        "        :param name: layer name\n",
        "        \"\"\"\n",
        "        super().__init__(name=name)\n",
        "\n",
        "    def call(self, Q, K, V, attn_mask):\n",
        "        \"\"\"\n",
        "        layer 실행\n",
        "        :param Q: Q value\n",
        "        :param K: K value\n",
        "        :param V: V value\n",
        "        :param attn_mask: 실행 모드\n",
        "        :return attn_out: attention 실행 결과\n",
        "        \"\"\"\n",
        "        attn_score = tf.matmul(Q, K, transpose_b=True)\n",
        "        scale = tf.math.sqrt(tf.cast(tf.shape(K)[-1], tf.float32))\n",
        "        attn_scale = tf.math.divide(attn_score, scale)\n",
        "        attn_scale -= 1.e9 * attn_mask\n",
        "        attn_prob = tf.nn.softmax(attn_scale, axis=-1)\n",
        "        attn_out = tf.matmul(attn_prob, V)\n",
        "        return attn_out\n",
        "\n",
        "class MultiHeadAttention(tf.keras.layers.Layer):\n",
        "    \"\"\"\n",
        "    Multi Head Attention Class\n",
        "    \"\"\"\n",
        "    def __init__(self, config, name=\"multi_head_attention\"):\n",
        "        \"\"\"\n",
        "        생성자\n",
        "        :param config: Config 객체\n",
        "        :param name: layer name\n",
        "        \"\"\"\n",
        "        super().__init__(name=name)\n",
        "\n",
        "        self.d_model = config.d_model\n",
        "        self.n_head = config.n_head\n",
        "        self.d_head = config.d_head\n",
        "\n",
        "        # Q, K, V input dense layer\n",
        "        self.W_Q = tf.keras.layers.Dense(config.n_head * config.d_head, kernel_initializer=kernel_initializer(), bias_initializer=bias_initializer())\n",
        "        self.W_K = tf.keras.layers.Dense(config.n_head * config.d_head, kernel_initializer=kernel_initializer(), bias_initializer=bias_initializer())\n",
        "        self.W_V = tf.keras.layers.Dense(config.n_head * config.d_head, kernel_initializer=kernel_initializer(), bias_initializer=bias_initializer())\n",
        "        # Scale Dot Product Attention class\n",
        "        self.attention = ScaleDotProductAttention(name=\"self_attention\")\n",
        "        # output dense layer\n",
        "        self.W_O = tf.keras.layers.Dense(config.d_model, kernel_initializer=kernel_initializer(), bias_initializer=bias_initializer())\n",
        "\n",
        "    def call(self, Q, K, V, attn_mask):\n",
        "        \"\"\"\n",
        "        layer 실행\n",
        "        :param Q: Q value\n",
        "        :param K: K value\n",
        "        :param V: V value\n",
        "        :param attn_mask: 실행 모드\n",
        "        :return attn_out: attention 실행 결과\n",
        "        \"\"\"\n",
        "        # reshape Q, K, V, attn_mask\n",
        "        batch_size = tf.shape(Q)[0]\n",
        "        Q_m = tf.transpose(tf.reshape(self.W_Q(Q), [batch_size, -1, self.n_head, self.d_head]), [0, 2, 1, 3])  # (bs, n_head, Q_len, d_head)\n",
        "        K_m = tf.transpose(tf.reshape(self.W_K(K), [batch_size, -1, self.n_head, self.d_head]), [0, 2, 1, 3])  # (bs, n_head, K_len, d_head)\n",
        "        V_m = tf.transpose(tf.reshape(self.W_V(V), [batch_size, -1, self.n_head, self.d_head]), [0, 2, 1, 3])  # (bs, n_head, K_len, d_head)\n",
        "        attn_mask_m = tf.expand_dims(attn_mask, axis=1)\n",
        "        # Scale Dot Product Attention with multi head Q, K, V, attn_mask\n",
        "        attn_out = self.attention(Q_m, K_m, V_m, attn_mask_m)  # (bs, n_head, Q_len, d_head)\n",
        "        # transpose and liner\n",
        "        attn_out_m = tf.transpose(attn_out, perm=[0, 2, 1, 3])  # (bs, Q_len, n_head, d_head)\n",
        "        attn_out = tf.reshape(attn_out_m, [batch_size, -1, config.n_head * config.d_head])  # (bs, Q_len, d_model)\n",
        "        attn_out = self.W_O(attn_out) # (bs, Q_len, d_model)\n",
        "\n",
        "        return attn_out\n"
      ]
    },
    {
      "cell_type": "markdown",
      "metadata": {
        "id": "_KEiyxG9LdoI"
      },
      "source": [
        "- FeedForward 레이어\n",
        "- transformer encoder 레이어\n",
        "- BERT 레이어"
      ]
    },
    {
      "cell_type": "code",
      "execution_count": 25,
      "metadata": {
        "id": "camswm1PLuh3"
      },
      "outputs": [],
      "source": [
        "class PositionWiseFeedForward(tf.keras.layers.Layer):\n",
        "    \"\"\"\n",
        "    Position Wise Feed Forward Class\n",
        "    \"\"\"\n",
        "    def __init__(self, config, name=\"feed_forward\"):\n",
        "        \"\"\"\n",
        "        생성자\n",
        "        :param config: Config 객체\n",
        "        :param name: layer name\n",
        "        \"\"\"\n",
        "        super().__init__(name=name)\n",
        "\n",
        "        self.W_1 = tf.keras.layers.Dense(config.d_ff, activation=gelu, kernel_initializer=kernel_initializer(), bias_initializer=bias_initializer())\n",
        "        self.W_2 = tf.keras.layers.Dense(config.d_model, kernel_initializer=kernel_initializer(), bias_initializer=bias_initializer())\n",
        "\n",
        "    def call(self, inputs):\n",
        "        \"\"\"\n",
        "        layer 실행\n",
        "        :param inputs: inputs\n",
        "        :return ff_val: feed forward 실행 결과\n",
        "        \"\"\"\n",
        "        ff_val = self.W_2(self.W_1(inputs))\n",
        "        return ff_val\n",
        "\n",
        "class EncoderLayer(tf.keras.layers.Layer):\n",
        "    \"\"\"\n",
        "    Encoder Layer Class\n",
        "    \"\"\"\n",
        "    def __init__(self, config, name=\"encoder_layer\"):\n",
        "        \"\"\"\n",
        "        생성자\n",
        "        :param config: Config 객체\n",
        "        :param name: layer name\n",
        "        \"\"\"\n",
        "        super().__init__(name=name)\n",
        "\n",
        "        self.self_attention = MultiHeadAttention(config)\n",
        "        self.norm1 = tf.keras.layers.LayerNormalization(epsilon=config.layernorm_epsilon)\n",
        "\n",
        "        self.ffn = PositionWiseFeedForward(config)\n",
        "        self.norm2 = tf.keras.layers.LayerNormalization(epsilon=config.layernorm_epsilon)\n",
        "\n",
        "        self.dropout = tf.keras.layers.Dropout(config.dropout)\n",
        " \n",
        "    def call(self, enc_embed, self_mask):\n",
        "        \"\"\"\n",
        "        layer 실행\n",
        "        :param enc_embed: enc_embed 또는 이전 EncoderLayer의 출력\n",
        "        :param self_mask: enc_tokens의 pad mask\n",
        "        :return enc_out: EncoderLayer 실행 결과\n",
        "        \"\"\"\n",
        "        self_attn_val = self.self_attention(enc_embed, enc_embed, enc_embed, self_mask)\n",
        "        norm1_val = self.norm1(enc_embed + self.dropout(self_attn_val))\n",
        "\n",
        "        ffn_val = self.ffn(norm1_val)\n",
        "        enc_out = self.norm2(norm1_val + self.dropout(ffn_val))\n",
        "\n",
        "        return enc_out\n",
        "\n",
        "\n",
        "class BERT(tf.keras.layers.Layer):\n",
        "    \"\"\"\n",
        "    BERT Class\n",
        "    \"\"\"\n",
        "    def __init__(self, config, name=\"bert\"):\n",
        "        \"\"\"\n",
        "        생성자\n",
        "        :param config: Config 객체\n",
        "        :param name: layer name\n",
        "        \"\"\"\n",
        "        super().__init__(name=name)\n",
        "\n",
        "        self.i_pad = config.i_pad\n",
        "        self.embedding = SharedEmbedding(config)\n",
        "        self.position = PositionEmbedding(config)\n",
        "        self.segment = tf.keras.layers.Embedding(2, config.d_model, embeddings_initializer=kernel_initializer())\n",
        "        self.norm = tf.keras.layers.LayerNormalization(epsilon=config.layernorm_epsilon)\n",
        "        \n",
        "        self.encoder_layers = [EncoderLayer(config, name=f\"encoder_layer_{i}\") for i in range(config.n_layer)]\n",
        "\n",
        "        self.dropout = tf.keras.layers.Dropout(config.dropout)\n",
        "\n",
        "    def call(self, inputs):\n",
        "        \"\"\"\n",
        "        layer 실행\n",
        "        :param inputs: (enc_tokens, segments)\n",
        "        :return logits: dec_tokens에 대한 다음 토큰 예측 결과 logits\n",
        "        \"\"\"\n",
        "        enc_tokens, segments = inputs\n",
        "\n",
        "        enc_self_mask = tf.keras.layers.Lambda(get_pad_mask, output_shape=(1, None), name='enc_self_mask')(enc_tokens, self.i_pad)\n",
        "\n",
        "        enc_embed = self.get_embedding(enc_tokens, segments)\n",
        "\n",
        "        enc_out = self.dropout(enc_embed)\n",
        "        for encoder_layer in self.encoder_layers:\n",
        "            enc_out = encoder_layer(enc_out, enc_self_mask)\n",
        "\n",
        "        logits_cls = enc_out[:,0]\n",
        "        logits_lm = self.embedding(enc_out, mode=\"linear\")\n",
        "        return logits_cls, logits_lm\n",
        "    \n",
        "    def get_embedding(self, tokens, segments):\n",
        "        \"\"\"\n",
        "        token embedding, position embedding lookup\n",
        "        :param tokens: 입력 tokens\n",
        "        :param segments: 입력 segments\n",
        "        :return embed: embedding 결과\n",
        "        \"\"\"\n",
        "        embed = self.embedding(tokens) + self.position(tokens) + self.segment(segments)\n",
        "        embed = self.norm(embed)\n",
        "        return embed\n"
      ]
    },
    {
      "cell_type": "markdown",
      "metadata": {
        "id": "m-yQy_GOMfnS"
      },
      "source": [
        "아주 작은 pretrain용 BERT 모델(test_model)을 생성하여 동작을 미리 확인해보겠다."
      ]
    },
    {
      "cell_type": "code",
      "execution_count": 26,
      "metadata": {
        "id": "DO91-JKzL12t"
      },
      "outputs": [],
      "source": [
        "# Encoder Layer class 정의\n",
        "class PooledOutput(tf.keras.layers.Layer):\n",
        "    def __init__(self, config, n_output, name=\"pooled_output\"):\n",
        "        super().__init__(name=name)\n",
        "\n",
        "        self.dense1 = tf.keras.layers.Dense(config.d_model, activation=tf.nn.tanh, kernel_initializer=kernel_initializer(), bias_initializer=bias_initializer())\n",
        "        self.dense2 = tf.keras.layers.Dense(n_output, use_bias=False, activation=tf.nn.softmax, name=\"nsp\", kernel_initializer=kernel_initializer(), bias_initializer=bias_initializer())\n",
        " \n",
        "    def call(self, inputs):\n",
        "        outputs = self.dense1(inputs)\n",
        "        outputs = self.dense2(outputs)\n",
        "        return outputs\n",
        "\n",
        "\n",
        "def build_model_pre_train(config):\n",
        "    enc_tokens = tf.keras.layers.Input((None,), name=\"enc_tokens\")\n",
        "    segments = tf.keras.layers.Input((None,), name=\"segments\")\n",
        "\n",
        "    bert = BERT(config)\n",
        "    logits_cls, logits_lm = bert((enc_tokens, segments))\n",
        "\n",
        "    logits_cls = PooledOutput(config, 2, name=\"pooled_nsp\")(logits_cls)\n",
        "    outputs_nsp = tf.keras.layers.Softmax(name=\"nsp\")(logits_cls)\n",
        "\n",
        "    outputs_mlm = tf.keras.layers.Softmax(name=\"mlm\")(logits_lm)\n",
        "\n",
        "    model = tf.keras.Model(inputs=(enc_tokens, segments), outputs=(outputs_nsp, outputs_mlm))\n",
        "    return model\n"
      ]
    },
    {
      "cell_type": "markdown",
      "metadata": {
        "id": "uyFTwKY-gRjG"
      },
      "source": [
        "# 6. pretrain 진행\n",
        "\n"
      ]
    },
    {
      "cell_type": "markdown",
      "metadata": {
        "id": "qAohZ1mSTHDk"
      },
      "source": [
        "### loss, accuracy 함수"
      ]
    },
    {
      "cell_type": "code",
      "execution_count": 29,
      "metadata": {
        "id": "X2T0eJquMi4-"
      },
      "outputs": [],
      "source": [
        "def lm_loss(y_true, y_pred):\n",
        "    \"\"\"\n",
        "    loss 계산 함수\n",
        "    :param y_true: 정답 (bs, n_seq)\n",
        "    :param y_pred: 예측 값 (bs, n_seq, n_vocab)\n",
        "    \"\"\"\n",
        "    # loss 계산\n",
        "    loss = tf.keras.losses.SparseCategoricalCrossentropy(reduction=tf.keras.losses.Reduction.NONE)(y_true, y_pred)\n",
        "    # pad(0) 인 부분 mask\n",
        "    mask = tf.cast(tf.math.not_equal(y_true, 0), dtype=loss.dtype)\n",
        "    loss *= mask\n",
        "    return loss * 20  # mlm을 더 잘 학습하도록 20배 증가 시킴\n",
        "\n",
        "def lm_acc(y_true, y_pred):\n",
        "    \"\"\"\n",
        "    acc 계산 함수\n",
        "    :param y_true: 정답 (bs, n_seq)\n",
        "    :param y_pred: 예측 값 (bs, n_seq, n_vocab)\n",
        "    \"\"\"\n",
        "    # 정답 여부 확인\n",
        "    y_pred_class = tf.cast(K.argmax(y_pred, axis=-1), tf.float32)\n",
        "    matches = tf.cast(K.equal(y_true, y_pred_class), tf.float32)\n",
        "    # pad(0) 인 부분 mask\n",
        "    mask = tf.cast(tf.math.not_equal(y_true, 0), dtype=matches.dtype)\n",
        "    matches *= mask\n",
        "    # 정확도 계산\n",
        "    accuracy = K.sum(matches) / K.maximum(K.sum(mask), 1)\n",
        "    return accuracy\n"
      ]
    },
    {
      "cell_type": "markdown",
      "metadata": {
        "id": "1wZGdDykTMfH"
      },
      "source": [
        "### Learning Rate 스케줄링\n",
        "- WarmUp 이후 consine 형태로 감소하는 스케줄"
      ]
    },
    {
      "cell_type": "code",
      "execution_count": 30,
      "metadata": {
        "colab": {
          "base_uri": "https://localhost:8080/",
          "height": 279
        },
        "id": "v6d7XQveTRfg",
        "outputId": "399a77f1-f7e2-41d2-b8f1-bff3d037da44"
      },
      "outputs": [
        {
          "output_type": "display_data",
          "data": {
            "text/plain": [
              "<Figure size 432x288 with 1 Axes>"
            ],
            "image/png": "[encoded data removed]"
          },
          "metadata": {
            "needs_background": "light"
          }
        }
      ],
      "source": [
        "import math\n",
        "import matplotlib.pyplot as plt\n",
        "\n",
        "class CosineSchedule(tf.keras.optimizers.schedules.LearningRateSchedule):\n",
        "    \"\"\"\n",
        "    CosineSchedule Class\n",
        "    \"\"\"\n",
        "    def __init__(self, train_steps=4000, warmup_steps=2000, max_lr=2.5e-4):\n",
        "        \"\"\"\n",
        "        생성자\n",
        "        :param train_steps: 학습 step 총 합\n",
        "        :param warmup_steps: warmup steps\n",
        "        :param max_lr: 최대 learning rate\n",
        "        \"\"\"\n",
        "        super().__init__()\n",
        "\n",
        "        assert 0 < warmup_steps < train_steps\n",
        "        self.warmup_steps = warmup_steps\n",
        "        self.train_steps = train_steps\n",
        "        self.max_lr = max_lr\n",
        "\n",
        "    def __call__(self, step_num):\n",
        "        \"\"\"\n",
        "        learning rate 계산\n",
        "        :param step_num: 현재 step number\n",
        "        :retrun: 계산된 learning rate\n",
        "        \"\"\"\n",
        "        state = tf.cast(step_num <= self.warmup_steps, tf.float32)\n",
        "        lr1 = tf.cast(step_num, tf.float32) / self.warmup_steps\n",
        "        progress = tf.cast(step_num - self.warmup_steps, tf.float32) / max(1, self.train_steps - self.warmup_steps)\n",
        "        lr2 = 0.5 * (1.0 + tf.math.cos(math.pi * progress))\n",
        "        return (state * lr1 + (1 - state) * lr2) * self.max_lr\n",
        "\n",
        "# compute lr \n",
        "test_schedule = CosineSchedule(train_steps=4000, warmup_steps=500)\n",
        "lrs = []\n",
        "for step_num in range(4000):\n",
        "    lrs.append(test_schedule(float(step_num)).numpy())\n",
        "\n",
        "# draw\n",
        "plt.plot(lrs, 'r-', label='learning_rate')\n",
        "plt.xlabel('Step')\n",
        "plt.show()"
      ]
    },
    {
      "cell_type": "markdown",
      "metadata": {
        "id": "BRz6klIaTcAS"
      },
      "source": [
        "### 모델 생성\n"
      ]
    },
    {
      "cell_type": "markdown",
      "metadata": {
        "id": "CHg2IZvSdIGP"
      },
      "source": [
        "파라미터 사이즈 : 약 1M (1,025,080)개\n",
        "\n",
        "- batch_size : 32"
      ]
    },
    {
      "cell_type": "code",
      "source": [
        "config = Config({\"d_model\": 100, \"n_head\": 4, \"d_head\": 32, \"dropout\": 0.1, \"d_ff\": 256, \n",
        "                 \"layernorm_epsilon\": 0.001, \"n_layer\": 2, \"n_seq\": 64, \"n_vocab\": 0, \"i_pad\": 0})\n",
        "\n",
        "config.n_vocab = len(vocab)\n",
        "config.i_pad = vocab.pad_id()\n",
        "\n",
        "pre_train_model = build_model_pre_train(config)\n",
        "pre_train_model.summary()"
      ],
      "metadata": {
        "colab": {
          "base_uri": "https://localhost:8080/"
        },
        "id": "_VUaGl5DdtO3",
        "outputId": "5df24b1d-ea39-40ba-9ea0-8967ba3e9a17"
      },
      "execution_count": 59,
      "outputs": [
        {
          "output_type": "stream",
          "name": "stdout",
          "text": [
            "Model: \"model_13\"\n",
            "__________________________________________________________________________________________________\n",
            " Layer (type)                   Output Shape         Param #     Connected to                     \n",
            "==================================================================================================\n",
            " enc_tokens (InputLayer)        [(None, None)]       0           []                               \n",
            "                                                                                                  \n",
            " segments (InputLayer)          [(None, None)]       0           []                               \n",
            "                                                                                                  \n",
            " bert (BERT)                    ((None, 100),        1014780     ['enc_tokens[0][0]',             \n",
            "                                 (None, None, 8007)               'segments[0][0]']               \n",
            "                                )                                                                 \n",
            "                                                                                                  \n",
            " pooled_nsp (PooledOutput)      (None, 2)            10300       ['bert[0][0]']                   \n",
            "                                                                                                  \n",
            " nsp (Softmax)                  (None, 2)            0           ['pooled_nsp[0][0]']             \n",
            "                                                                                                  \n",
            " mlm (Softmax)                  (None, None, 8007)   0           ['bert[0][1]']                   \n",
            "                                                                                                  \n",
            "==================================================================================================\n",
            "Total params: 1,025,080\n",
            "Trainable params: 1,025,080\n",
            "Non-trainable params: 0\n",
            "__________________________________________________________________________________________________\n"
          ]
        }
      ]
    },
    {
      "cell_type": "code",
      "source": [
        "epochs = 10\n",
        "batch_size = 32 \n",
        "\n",
        "# optimizer\n",
        "train_steps = math.ceil(len(pre_train_inputs[0]) / batch_size) * epochs\n",
        "print(\"train_steps:\", train_steps)\n",
        "learning_rate = CosineSchedule(train_steps=train_steps, warmup_steps=max(100, train_steps // 10))\n",
        "optimizer = tf.keras.optimizers.Adam(learning_rate, beta_1=0.9, beta_2=0.98, epsilon=1e-9)\n",
        "\n",
        "# compile\n",
        "pre_train_model.compile(loss=(tf.keras.losses.sparse_categorical_crossentropy, lm_loss), optimizer=optimizer, metrics={\"nsp\": \"acc\", \"mlm\": lm_acc})"
      ],
      "metadata": {
        "colab": {
          "base_uri": "https://localhost:8080/"
        },
        "id": "hXTv2FyidvYP",
        "outputId": "607a2b0b-08e4-43ca-dfd6-b0647c4b8513"
      },
      "execution_count": 60,
      "outputs": [
        {
          "output_type": "stream",
          "name": "stdout",
          "text": [
            "train_steps: 40000\n"
          ]
        }
      ]
    },
    {
      "cell_type": "code",
      "source": [
        "# save weights callback\n",
        "save_weights = tf.keras.callbacks.ModelCheckpoint(f\"{model_dir}/bert_pre_train.hdf5\", monitor=\"mlm_lm_acc\", verbose=1, save_best_only=True, mode=\"max\", save_freq=\"epoch\", save_weights_only=True)\n",
        "# train\n",
        "history = pre_train_model.fit(pre_train_inputs, pre_train_labels, epochs=epochs, batch_size=batch_size, callbacks=[save_weights])"
      ],
      "metadata": {
        "colab": {
          "base_uri": "https://localhost:8080/"
        },
        "id": "4fMl9FUBJY--",
        "outputId": "1d1b7602-ea56-45a2-e095-74596a59e455"
      },
      "execution_count": 56,
      "outputs": [
        {
          "output_type": "stream",
          "name": "stdout",
          "text": [
            "Epoch 1/10\n",
            "3999/4000 [============================>.] - ETA: 0s - loss: 16.9385 - nsp_loss: 0.6007 - mlm_loss: 16.3378 - nsp_acc: 0.6648 - mlm_lm_acc: 0.1326\n",
            "Epoch 1: mlm_lm_acc improved from -inf to 0.13260, saving model to /content/models/bert_pre_train.hdf5\n",
            "4000/4000 [==============================] - 146s 36ms/step - loss: 16.9382 - nsp_loss: 0.6007 - mlm_loss: 16.3376 - nsp_acc: 0.6648 - mlm_lm_acc: 0.1326\n",
            "Epoch 2/10\n",
            "3999/4000 [============================>.] - ETA: 0s - loss: 16.8944 - nsp_loss: 0.6067 - mlm_loss: 16.2877 - nsp_acc: 0.6540 - mlm_lm_acc: 0.1333\n",
            "Epoch 2: mlm_lm_acc improved from 0.13260 to 0.13333, saving model to /content/models/bert_pre_train.hdf5\n",
            "4000/4000 [==============================] - 144s 36ms/step - loss: 16.8944 - nsp_loss: 0.6067 - mlm_loss: 16.2877 - nsp_acc: 0.6540 - mlm_lm_acc: 0.1333\n",
            "Epoch 3/10\n",
            "3999/4000 [============================>.] - ETA: 0s - loss: 16.6938 - nsp_loss: 0.6060 - mlm_loss: 16.0877 - nsp_acc: 0.6556 - mlm_lm_acc: 0.1357\n",
            "Epoch 3: mlm_lm_acc improved from 0.13333 to 0.13573, saving model to /content/models/bert_pre_train.hdf5\n",
            "4000/4000 [==============================] - 144s 36ms/step - loss: 16.6934 - nsp_loss: 0.6060 - mlm_loss: 16.0874 - nsp_acc: 0.6556 - mlm_lm_acc: 0.1357\n",
            "Epoch 4/10\n",
            "3999/4000 [============================>.] - ETA: 0s - loss: 16.4178 - nsp_loss: 0.6043 - mlm_loss: 15.8134 - nsp_acc: 0.6583 - mlm_lm_acc: 0.1405\n",
            "Epoch 4: mlm_lm_acc improved from 0.13573 to 0.14048, saving model to /content/models/bert_pre_train.hdf5\n",
            "4000/4000 [==============================] - 145s 36ms/step - loss: 16.4174 - nsp_loss: 0.6043 - mlm_loss: 15.8131 - nsp_acc: 0.6583 - mlm_lm_acc: 0.1405\n",
            "Epoch 5/10\n",
            "4000/4000 [==============================] - ETA: 0s - loss: 15.9835 - nsp_loss: 0.6034 - mlm_loss: 15.3801 - nsp_acc: 0.6607 - mlm_lm_acc: 0.1472\n",
            "Epoch 5: mlm_lm_acc improved from 0.14048 to 0.14717, saving model to /content/models/bert_pre_train.hdf5\n",
            "4000/4000 [==============================] - 144s 36ms/step - loss: 15.9835 - nsp_loss: 0.6034 - mlm_loss: 15.3801 - nsp_acc: 0.6607 - mlm_lm_acc: 0.1472\n",
            "Epoch 6/10\n",
            "3999/4000 [============================>.] - ETA: 0s - loss: 15.7300 - nsp_loss: 0.6000 - mlm_loss: 15.1299 - nsp_acc: 0.6679 - mlm_lm_acc: 0.1516\n",
            "Epoch 6: mlm_lm_acc improved from 0.14717 to 0.15159, saving model to /content/models/bert_pre_train.hdf5\n",
            "4000/4000 [==============================] - 144s 36ms/step - loss: 15.7300 - nsp_loss: 0.6001 - mlm_loss: 15.1300 - nsp_acc: 0.6679 - mlm_lm_acc: 0.1516\n",
            "Epoch 7/10\n",
            "3999/4000 [============================>.] - ETA: 0s - loss: 15.5901 - nsp_loss: 0.5967 - mlm_loss: 14.9935 - nsp_acc: 0.6729 - mlm_lm_acc: 0.1546\n",
            "Epoch 7: mlm_lm_acc improved from 0.15159 to 0.15462, saving model to /content/models/bert_pre_train.hdf5\n",
            "4000/4000 [==============================] - 144s 36ms/step - loss: 15.5900 - nsp_loss: 0.5967 - mlm_loss: 14.9933 - nsp_acc: 0.6729 - mlm_lm_acc: 0.1546\n",
            "Epoch 8/10\n",
            "4000/4000 [==============================] - ETA: 0s - loss: 15.5015 - nsp_loss: 0.5930 - mlm_loss: 14.9085 - nsp_acc: 0.6786 - mlm_lm_acc: 0.1563\n",
            "Epoch 8: mlm_lm_acc improved from 0.15462 to 0.15632, saving model to /content/models/bert_pre_train.hdf5\n",
            "4000/4000 [==============================] - 146s 36ms/step - loss: 15.5015 - nsp_loss: 0.5930 - mlm_loss: 14.9085 - nsp_acc: 0.6786 - mlm_lm_acc: 0.1563\n",
            "Epoch 9/10\n",
            "3999/4000 [============================>.] - ETA: 0s - loss: 15.4475 - nsp_loss: 0.5900 - mlm_loss: 14.8575 - nsp_acc: 0.6850 - mlm_lm_acc: 0.1575\n",
            "Epoch 9: mlm_lm_acc improved from 0.15632 to 0.15754, saving model to /content/models/bert_pre_train.hdf5\n",
            "4000/4000 [==============================] - 149s 37ms/step - loss: 15.4476 - nsp_loss: 0.5900 - mlm_loss: 14.8577 - nsp_acc: 0.6850 - mlm_lm_acc: 0.1575\n",
            "Epoch 10/10\n",
            "3999/4000 [============================>.] - ETA: 0s - loss: 15.4214 - nsp_loss: 0.5887 - mlm_loss: 14.8327 - nsp_acc: 0.6866 - mlm_lm_acc: 0.1578\n",
            "Epoch 10: mlm_lm_acc improved from 0.15754 to 0.15779, saving model to /content/models/bert_pre_train.hdf5\n",
            "4000/4000 [==============================] - 145s 36ms/step - loss: 15.4217 - nsp_loss: 0.5887 - mlm_loss: 14.8330 - nsp_acc: 0.6866 - mlm_lm_acc: 0.1578\n"
          ]
        }
      ]
    },
    {
      "cell_type": "code",
      "source": [
        "# training result\n",
        "plt.figure(figsize=(12, 4))\n",
        "\n",
        "plt.subplot(1, 2, 1)\n",
        "plt.plot(history.history['nsp_loss'], 'b-', label='nsp_loss')\n",
        "plt.plot(history.history['mlm_loss'], 'r--', label='mlm_loss')\n",
        "plt.xlabel('Epoch')\n",
        "plt.legend()\n",
        "\n",
        "plt.subplot(1, 2, 2)\n",
        "plt.plot(history.history['nsp_acc'], 'g-', label='nsp_acc')\n",
        "plt.plot(history.history['mlm_lm_acc'], 'k--', label='mlm_acc')\n",
        "plt.xlabel('Epoch')\n",
        "plt.legend()\n",
        "\n",
        "plt.show()"
      ],
      "metadata": {
        "colab": {
          "base_uri": "https://localhost:8080/",
          "height": 279
        },
        "id": "rmyhUaJBd8oV",
        "outputId": "1a37dd08-8de9-4779-f959-2e2986333e40"
      },
      "execution_count": 58,
      "outputs": [
        {
          "output_type": "display_data",
          "data": {
            "text/plain": [
              "<Figure size 864x288 with 2 Axes>"
            ],
            "image/png": "[encoded data removed]"
          },
          "metadata": {
            "needs_background": "light"
          }
        }
      ]
    },
    {
      "cell_type": "markdown",
      "source": [
        "---\n",
        "## 정리.\n",
        "\n",
        "\n",
        "**mini Bert 모델 성능 비교**\n",
        "\n",
        "| 학습시 설정 사항 |10M 모델\t| 1M 모델(v4_최종)| 1M 모델(v1)| \n",
        "|---|---|---| ---|\n",
        "|에폭 | 10회  | 10회 |10회 |\n",
        "| 모델 파라미터| 약 천만개( 10,695,936) | **약 백만개(1,025,080)** |약 125만개(1,249,536) |\n",
        "| 배치사이즈| 64 |**32**  |64|\n",
        "| n_vocab| 32007| 8007|8007|\n",
        "|d_ff | 1024|256|1024|\n",
        "| d_head| 64|32|64|\n",
        "| d_model|256 |**100**|64|\n",
        "| n_head| 4|4|4|\n",
        "| n_layer| 3|2|3|\n",
        "| n_seq|256 |64|256|\n",
        "|---|---|---|---|\n",
        "|loss | 13.76|15.43|16.94|\n",
        "|nsp_loss | 0.44|0.58|0.60|\n",
        "|mlm_loss | 13.32|14.84|16.34|\n",
        "| nsp_acc|0.87 |0.68|0.66|\n",
        "| mlm_lm_acc|0.24 |0.16|0.13|\n",
        "\n",
        "\n",
        "- 이전 LMS 노드에서 만들었던 10M Bert모델의 경우 파라미터 튜닝없이  설정된 대로 학습을 진행한 결과이다.\n",
        "-  학습 파라미터가 5M개 정도일때 기존 성능보다 loss가 12이하로 줄기도 하지만 본 프로젝트에서는 1M로 모델 파라미터를 줄인 bert모델로 성능을 확인해보았다. config의 파라미터를 튜닝해 로스와 정확도를 비슷한 수준으로 만들기위해 파라미터 튜닝을 진행하였다.\n",
        " - 파라미터를 10배로 줄여서인지 로스를 크게 줄이긴 어려웠지만 파라미터 튜닝으로 loss및 정확도에서 유의미한 성능 향상을 가져올수 있었다.\n",
        " "
      ],
      "metadata": {
        "id": "UXu6-Xsa65F7"
      }
    }
  ],
  "metadata": {
    "accelerator": "GPU",
    "colab": {
      "name": "NLP14_Assignment_MiniBERT_final.ipynb",
      "provenance": [],
      "collapsed_sections": []
    },
    "kernelspec": {
      "display_name": "Python 3",
      "name": "python3"
    },
    "language_info": {
      "name": "python"
    },
    "widgets": {
      "application/vnd.jupyter.widget-state+json": {
        "4d9345947e7d47a68154ced90d089b48": {
          "model_module": "@jupyter-widgets/controls",
          "model_name": "HBoxModel",
          "model_module_version": "1.5.0",
          "state": {
            "_dom_classes": [],
            "_model_module": "@jupyter-widgets/controls",
            "_model_module_version": "1.5.0",
            "_model_name": "HBoxModel",
            "_view_count": null,
            "_view_module": "@jupyter-widgets/controls",
            "_view_module_version": "1.5.0",
            "_view_name": "HBoxView",
            "box_style": "",
            "children": [
              "IPY_MODEL_06ebef6046364f938cd7fe0b73c8dbf9",
              "IPY_MODEL_66933ab0ae944089b1eff7e673da98a1",
              "IPY_MODEL_44344f5b40b6417183a28ec9e02b2e28"
            ],
            "layout": "IPY_MODEL_e059f23e452d4dc9944bade075c5ab0e"
          }
        },
        "06ebef6046364f938cd7fe0b73c8dbf9": {
          "model_module": "@jupyter-widgets/controls",
          "model_name": "HTMLModel",
          "model_module_version": "1.5.0",
          "state": {
            "_dom_classes": [],
            "_model_module": "@jupyter-widgets/controls",
            "_model_module_version": "1.5.0",
            "_model_name": "HTMLModel",
            "_view_count": null,
            "_view_module": "@jupyter-widgets/controls",
            "_view_module_version": "1.5.0",
            "_view_name": "HTMLView",
            "description": "",
            "description_tooltip": null,
            "layout": "IPY_MODEL_7a4858e9f2364914a02f57e7c88b6066",
            "placeholder": "​",
            "style": "IPY_MODEL_7dbb8877da2245bd8d805e4d91d202c2",
            "value": "100%"
          }
        },
        "66933ab0ae944089b1eff7e673da98a1": {
          "model_module": "@jupyter-widgets/controls",
          "model_name": "FloatProgressModel",
          "model_module_version": "1.5.0",
          "state": {
            "_dom_classes": [],
            "_model_module": "@jupyter-widgets/controls",
            "_model_module_version": "1.5.0",
            "_model_name": "FloatProgressModel",
            "_view_count": null,
            "_view_module": "@jupyter-widgets/controls",
            "_view_module_version": "1.5.0",
            "_view_name": "ProgressView",
            "bar_style": "success",
            "description": "",
            "description_tooltip": null,
            "layout": "IPY_MODEL_0a408dd8bf7b4475ba8d6bf55faee49e",
            "max": 3957761,
            "min": 0,
            "orientation": "horizontal",
            "style": "IPY_MODEL_f510eee3ec1f4ce7b9b16b5f587525fd",
            "value": 3957761
          }
        },
        "44344f5b40b6417183a28ec9e02b2e28": {
          "model_module": "@jupyter-widgets/controls",
          "model_name": "HTMLModel",
          "model_module_version": "1.5.0",
          "state": {
            "_dom_classes": [],
            "_model_module": "@jupyter-widgets/controls",
            "_model_module_version": "1.5.0",
            "_model_name": "HTMLModel",
            "_view_count": null,
            "_view_module": "@jupyter-widgets/controls",
            "_view_module_version": "1.5.0",
            "_view_name": "HTMLView",
            "description": "",
            "description_tooltip": null,
            "layout": "IPY_MODEL_9e263766cee549429cd29b83716b8798",
            "placeholder": "​",
            "style": "IPY_MODEL_68553c948b6e453bad8305d3bb99c313",
            "value": " 3957761/3957761 [05:54&lt;00:00, 15501.00it/s]"
          }
        },
        "e059f23e452d4dc9944bade075c5ab0e": {
          "model_module": "@jupyter-widgets/base",
          "model_name": "LayoutModel",
          "model_module_version": "1.2.0",
          "state": {
            "_model_module": "@jupyter-widgets/base",
            "_model_module_version": "1.2.0",
            "_model_name": "LayoutModel",
            "_view_count": null,
            "_view_module": "@jupyter-widgets/base",
            "_view_module_version": "1.2.0",
            "_view_name": "LayoutView",
            "align_content": null,
            "align_items": null,
            "align_self": null,
            "border": null,
            "bottom": null,
            "display": null,
            "flex": null,
            "flex_flow": null,
            "grid_area": null,
            "grid_auto_columns": null,
            "grid_auto_flow": null,
            "grid_auto_rows": null,
            "grid_column": null,
            "grid_gap": null,
            "grid_row": null,
            "grid_template_areas": null,
            "grid_template_columns": null,
            "grid_template_rows": null,
            "height": null,
            "justify_content": null,
            "justify_items": null,
            "left": null,
            "margin": null,
            "max_height": null,
            "max_width": null,
            "min_height": null,
            "min_width": null,
            "object_fit": null,
            "object_position": null,
            "order": null,
            "overflow": null,
            "overflow_x": null,
            "overflow_y": null,
            "padding": null,
            "right": null,
            "top": null,
            "visibility": null,
            "width": null
          }
        },
        "7a4858e9f2364914a02f57e7c88b6066": {
          "model_module": "@jupyter-widgets/base",
          "model_name": "LayoutModel",
          "model_module_version": "1.2.0",
          "state": {
            "_model_module": "@jupyter-widgets/base",
            "_model_module_version": "1.2.0",
            "_model_name": "LayoutModel",
            "_view_count": null,
            "_view_module": "@jupyter-widgets/base",
            "_view_module_version": "1.2.0",
            "_view_name": "LayoutView",
            "align_content": null,
            "align_items": null,
            "align_self": null,
            "border": null,
            "bottom": null,
            "display": null,
            "flex": null,
            "flex_flow": null,
            "grid_area": null,
            "grid_auto_columns": null,
            "grid_auto_flow": null,
            "grid_auto_rows": null,
            "grid_column": null,
            "grid_gap": null,
            "grid_row": null,
            "grid_template_areas": null,
            "grid_template_columns": null,
            "grid_template_rows": null,
            "height": null,
            "justify_content": null,
            "justify_items": null,
            "left": null,
            "margin": null,
            "max_height": null,
            "max_width": null,
            "min_height": null,
            "min_width": null,
            "object_fit": null,
            "object_position": null,
            "order": null,
            "overflow": null,
            "overflow_x": null,
            "overflow_y": null,
            "padding": null,
            "right": null,
            "top": null,
            "visibility": null,
            "width": null
          }
        },
        "7dbb8877da2245bd8d805e4d91d202c2": {
          "model_module": "@jupyter-widgets/controls",
          "model_name": "DescriptionStyleModel",
          "model_module_version": "1.5.0",
          "state": {
            "_model_module": "@jupyter-widgets/controls",
            "_model_module_version": "1.5.0",
            "_model_name": "DescriptionStyleModel",
            "_view_count": null,
            "_view_module": "@jupyter-widgets/base",
            "_view_module_version": "1.2.0",
            "_view_name": "StyleView",
            "description_width": ""
          }
        },
        "0a408dd8bf7b4475ba8d6bf55faee49e": {
          "model_module": "@jupyter-widgets/base",
          "model_name": "LayoutModel",
          "model_module_version": "1.2.0",
          "state": {
            "_model_module": "@jupyter-widgets/base",
            "_model_module_version": "1.2.0",
            "_model_name": "LayoutModel",
            "_view_count": null,
            "_view_module": "@jupyter-widgets/base",
            "_view_module_version": "1.2.0",
            "_view_name": "LayoutView",
            "align_content": null,
            "align_items": null,
            "align_self": null,
            "border": null,
            "bottom": null,
            "display": null,
            "flex": null,
            "flex_flow": null,
            "grid_area": null,
            "grid_auto_columns": null,
            "grid_auto_flow": null,
            "grid_auto_rows": null,
            "grid_column": null,
            "grid_gap": null,
            "grid_row": null,
            "grid_template_areas": null,
            "grid_template_columns": null,
            "grid_template_rows": null,
            "height": null,
            "justify_content": null,
            "justify_items": null,
            "left": null,
            "margin": null,
            "max_height": null,
            "max_width": null,
            "min_height": null,
            "min_width": null,
            "object_fit": null,
            "object_position": null,
            "order": null,
            "overflow": null,
            "overflow_x": null,
            "overflow_y": null,
            "padding": null,
            "right": null,
            "top": null,
            "visibility": null,
            "width": null
          }
        },
        "f510eee3ec1f4ce7b9b16b5f587525fd": {
          "model_module": "@jupyter-widgets/controls",
          "model_name": "ProgressStyleModel",
          "model_module_version": "1.5.0",
          "state": {
            "_model_module": "@jupyter-widgets/controls",
            "_model_module_version": "1.5.0",
            "_model_name": "ProgressStyleModel",
            "_view_count": null,
            "_view_module": "@jupyter-widgets/base",
            "_view_module_version": "1.2.0",
            "_view_name": "StyleView",
            "bar_color": null,
            "description_width": ""
          }
        },
        "9e263766cee549429cd29b83716b8798": {
          "model_module": "@jupyter-widgets/base",
          "model_name": "LayoutModel",
          "model_module_version": "1.2.0",
          "state": {
            "_model_module": "@jupyter-widgets/base",
            "_model_module_version": "1.2.0",
            "_model_name": "LayoutModel",
            "_view_count": null,
            "_view_module": "@jupyter-widgets/base",
            "_view_module_version": "1.2.0",
            "_view_name": "LayoutView",
            "align_content": null,
            "align_items": null,
            "align_self": null,
            "border": null,
            "bottom": null,
            "display": null,
            "flex": null,
            "flex_flow": null,
            "grid_area": null,
            "grid_auto_columns": null,
            "grid_auto_flow": null,
            "grid_auto_rows": null,
            "grid_column": null,
            "grid_gap": null,
            "grid_row": null,
            "grid_template_areas": null,
            "grid_template_columns": null,
            "grid_template_rows": null,
            "height": null,
            "justify_content": null,
            "justify_items": null,
            "left": null,
            "margin": null,
            "max_height": null,
            "max_width": null,
            "min_height": null,
            "min_width": null,
            "object_fit": null,
            "object_position": null,
            "order": null,
            "overflow": null,
            "overflow_x": null,
            "overflow_y": null,
            "padding": null,
            "right": null,
            "top": null,
            "visibility": null,
            "width": null
          }
        },
        "68553c948b6e453bad8305d3bb99c313": {
          "model_module": "@jupyter-widgets/controls",
          "model_name": "DescriptionStyleModel",
          "model_module_version": "1.5.0",
          "state": {
            "_model_module": "@jupyter-widgets/controls",
            "_model_module_version": "1.5.0",
            "_model_name": "DescriptionStyleModel",
            "_view_count": null,
            "_view_module": "@jupyter-widgets/base",
            "_view_module_version": "1.2.0",
            "_view_name": "StyleView",
            "description_width": ""
          }
        },
        "3d6649b5c0db468bba812b345e9392b6": {
          "model_module": "@jupyter-widgets/controls",
          "model_name": "HBoxModel",
          "model_module_version": "1.5.0",
          "state": {
            "_dom_classes": [],
            "_model_module": "@jupyter-widgets/controls",
            "_model_module_version": "1.5.0",
            "_model_name": "HBoxModel",
            "_view_count": null,
            "_view_module": "@jupyter-widgets/controls",
            "_view_module_version": "1.5.0",
            "_view_name": "HBoxView",
            "box_style": "",
            "children": [
              "IPY_MODEL_61e8b89cd17c40fd9580f699b4f7516d",
              "IPY_MODEL_0065be9c4eb24d0ea21538e3b68aac8b",
              "IPY_MODEL_8be85c05b4d341ac8ed7d80e3ffd9e22"
            ],
            "layout": "IPY_MODEL_2d898d5906ec418ba8c85191e613b6bb"
          }
        },
        "61e8b89cd17c40fd9580f699b4f7516d": {
          "model_module": "@jupyter-widgets/controls",
          "model_name": "HTMLModel",
          "model_module_version": "1.5.0",
          "state": {
            "_dom_classes": [],
            "_model_module": "@jupyter-widgets/controls",
            "_model_module_version": "1.5.0",
            "_model_name": "HTMLModel",
            "_view_count": null,
            "_view_module": "@jupyter-widgets/controls",
            "_view_module_version": "1.5.0",
            "_view_name": "HTMLView",
            "description": "",
            "description_tooltip": null,
            "layout": "IPY_MODEL_27f4b52342db4e96b73df37fcfd2bba9",
            "placeholder": "​",
            "style": "IPY_MODEL_90838039a99848cd81b4d6bee69b2d3d",
            "value": "100%"
          }
        },
        "0065be9c4eb24d0ea21538e3b68aac8b": {
          "model_module": "@jupyter-widgets/controls",
          "model_name": "FloatProgressModel",
          "model_module_version": "1.5.0",
          "state": {
            "_dom_classes": [],
            "_model_module": "@jupyter-widgets/controls",
            "_model_module_version": "1.5.0",
            "_model_name": "FloatProgressModel",
            "_view_count": null,
            "_view_module": "@jupyter-widgets/controls",
            "_view_module_version": "1.5.0",
            "_view_name": "ProgressView",
            "bar_style": "danger",
            "description": "",
            "description_tooltip": null,
            "layout": "IPY_MODEL_806058aa898f4eb2be1a07f9a20efaf5",
            "max": 128000,
            "min": 0,
            "orientation": "horizontal",
            "style": "IPY_MODEL_6f94d898541b45818924d6aaf2c25573",
            "value": 128000
          }
        },
        "8be85c05b4d341ac8ed7d80e3ffd9e22": {
          "model_module": "@jupyter-widgets/controls",
          "model_name": "HTMLModel",
          "model_module_version": "1.5.0",
          "state": {
            "_dom_classes": [],
            "_model_module": "@jupyter-widgets/controls",
            "_model_module_version": "1.5.0",
            "_model_name": "HTMLModel",
            "_view_count": null,
            "_view_module": "@jupyter-widgets/controls",
            "_view_module_version": "1.5.0",
            "_view_name": "HTMLView",
            "description": "",
            "description_tooltip": null,
            "layout": "IPY_MODEL_4298fb6112b54e5ca6f567491d51c207",
            "placeholder": "​",
            "style": "IPY_MODEL_339fad0a69224a55bc71e8106f28514c",
            "value": " 128000/128000 [00:40&lt;00:00, 4497.50it/s]"
          }
        },
        "2d898d5906ec418ba8c85191e613b6bb": {
          "model_module": "@jupyter-widgets/base",
          "model_name": "LayoutModel",
          "model_module_version": "1.2.0",
          "state": {
            "_model_module": "@jupyter-widgets/base",
            "_model_module_version": "1.2.0",
            "_model_name": "LayoutModel",
            "_view_count": null,
            "_view_module": "@jupyter-widgets/base",
            "_view_module_version": "1.2.0",
            "_view_name": "LayoutView",
            "align_content": null,
            "align_items": null,
            "align_self": null,
            "border": null,
            "bottom": null,
            "display": null,
            "flex": null,
            "flex_flow": null,
            "grid_area": null,
            "grid_auto_columns": null,
            "grid_auto_flow": null,
            "grid_auto_rows": null,
            "grid_column": null,
            "grid_gap": null,
            "grid_row": null,
            "grid_template_areas": null,
            "grid_template_columns": null,
            "grid_template_rows": null,
            "height": null,
            "justify_content": null,
            "justify_items": null,
            "left": null,
            "margin": null,
            "max_height": null,
            "max_width": null,
            "min_height": null,
            "min_width": null,
            "object_fit": null,
            "object_position": null,
            "order": null,
            "overflow": null,
            "overflow_x": null,
            "overflow_y": null,
            "padding": null,
            "right": null,
            "top": null,
            "visibility": null,
            "width": null
          }
        },
        "27f4b52342db4e96b73df37fcfd2bba9": {
          "model_module": "@jupyter-widgets/base",
          "model_name": "LayoutModel",
          "model_module_version": "1.2.0",
          "state": {
            "_model_module": "@jupyter-widgets/base",
            "_model_module_version": "1.2.0",
            "_model_name": "LayoutModel",
            "_view_count": null,
            "_view_module": "@jupyter-widgets/base",
            "_view_module_version": "1.2.0",
            "_view_name": "LayoutView",
            "align_content": null,
            "align_items": null,
            "align_self": null,
            "border": null,
            "bottom": null,
            "display": null,
            "flex": null,
            "flex_flow": null,
            "grid_area": null,
            "grid_auto_columns": null,
            "grid_auto_flow": null,
            "grid_auto_rows": null,
            "grid_column": null,
            "grid_gap": null,
            "grid_row": null,
            "grid_template_areas": null,
            "grid_template_columns": null,
            "grid_template_rows": null,
            "height": null,
            "justify_content": null,
            "justify_items": null,
            "left": null,
            "margin": null,
            "max_height": null,
            "max_width": null,
            "min_height": null,
            "min_width": null,
            "object_fit": null,
            "object_position": null,
            "order": null,
            "overflow": null,
            "overflow_x": null,
            "overflow_y": null,
            "padding": null,
            "right": null,
            "top": null,
            "visibility": null,
            "width": null
          }
        },
        "90838039a99848cd81b4d6bee69b2d3d": {
          "model_module": "@jupyter-widgets/controls",
          "model_name": "DescriptionStyleModel",
          "model_module_version": "1.5.0",
          "state": {
            "_model_module": "@jupyter-widgets/controls",
            "_model_module_version": "1.5.0",
            "_model_name": "DescriptionStyleModel",
            "_view_count": null,
            "_view_module": "@jupyter-widgets/base",
            "_view_module_version": "1.2.0",
            "_view_name": "StyleView",
            "description_width": ""
          }
        },
        "806058aa898f4eb2be1a07f9a20efaf5": {
          "model_module": "@jupyter-widgets/base",
          "model_name": "LayoutModel",
          "model_module_version": "1.2.0",
          "state": {
            "_model_module": "@jupyter-widgets/base",
            "_model_module_version": "1.2.0",
            "_model_name": "LayoutModel",
            "_view_count": null,
            "_view_module": "@jupyter-widgets/base",
            "_view_module_version": "1.2.0",
            "_view_name": "LayoutView",
            "align_content": null,
            "align_items": null,
            "align_self": null,
            "border": null,
            "bottom": null,
            "display": null,
            "flex": null,
            "flex_flow": null,
            "grid_area": null,
            "grid_auto_columns": null,
            "grid_auto_flow": null,
            "grid_auto_rows": null,
            "grid_column": null,
            "grid_gap": null,
            "grid_row": null,
            "grid_template_areas": null,
            "grid_template_columns": null,
            "grid_template_rows": null,
            "height": null,
            "justify_content": null,
            "justify_items": null,
            "left": null,
            "margin": null,
            "max_height": null,
            "max_width": null,
            "min_height": null,
            "min_width": null,
            "object_fit": null,
            "object_position": null,
            "order": null,
            "overflow": null,
            "overflow_x": null,
            "overflow_y": null,
            "padding": null,
            "right": null,
            "top": null,
            "visibility": null,
            "width": null
          }
        },
        "6f94d898541b45818924d6aaf2c25573": {
          "model_module": "@jupyter-widgets/controls",
          "model_name": "ProgressStyleModel",
          "model_module_version": "1.5.0",
          "state": {
            "_model_module": "@jupyter-widgets/controls",
            "_model_module_version": "1.5.0",
            "_model_name": "ProgressStyleModel",
            "_view_count": null,
            "_view_module": "@jupyter-widgets/base",
            "_view_module_version": "1.2.0",
            "_view_name": "StyleView",
            "bar_color": null,
            "description_width": ""
          }
        },
        "4298fb6112b54e5ca6f567491d51c207": {
          "model_module": "@jupyter-widgets/base",
          "model_name": "LayoutModel",
          "model_module_version": "1.2.0",
          "state": {
            "_model_module": "@jupyter-widgets/base",
            "_model_module_version": "1.2.0",
            "_model_name": "LayoutModel",
            "_view_count": null,
            "_view_module": "@jupyter-widgets/base",
            "_view_module_version": "1.2.0",
            "_view_name": "LayoutView",
            "align_content": null,
            "align_items": null,
            "align_self": null,
            "border": null,
            "bottom": null,
            "display": null,
            "flex": null,
            "flex_flow": null,
            "grid_area": null,
            "grid_auto_columns": null,
            "grid_auto_flow": null,
            "grid_auto_rows": null,
            "grid_column": null,
            "grid_gap": null,
            "grid_row": null,
            "grid_template_areas": null,
            "grid_template_columns": null,
            "grid_template_rows": null,
            "height": null,
            "justify_content": null,
            "justify_items": null,
            "left": null,
            "margin": null,
            "max_height": null,
            "max_width": null,
            "min_height": null,
            "min_width": null,
            "object_fit": null,
            "object_position": null,
            "order": null,
            "overflow": null,
            "overflow_x": null,
            "overflow_y": null,
            "padding": null,
            "right": null,
            "top": null,
            "visibility": null,
            "width": null
          }
        },
        "339fad0a69224a55bc71e8106f28514c": {
          "model_module": "@jupyter-widgets/controls",
          "model_name": "DescriptionStyleModel",
          "model_module_version": "1.5.0",
          "state": {
            "_model_module": "@jupyter-widgets/controls",
            "_model_module_version": "1.5.0",
            "_model_name": "DescriptionStyleModel",
            "_view_count": null,
            "_view_module": "@jupyter-widgets/base",
            "_view_module_version": "1.2.0",
            "_view_name": "StyleView",
            "description_width": ""
          }
        }
      }
    }
  },
  "nbformat": 4,
  "nbformat_minor": 0
}