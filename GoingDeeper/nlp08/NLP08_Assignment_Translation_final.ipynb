{
  "nbformat": 4,
  "nbformat_minor": 0,
  "metadata": {
    "colab": {
      "name": "NLP08_Assignment_Translation_final.ipynb",
      "provenance": [],
      "collapsed_sections": [],
      "machine_shape": "hm"
    },
    "kernelspec": {
      "name": "python3",
      "display_name": "Python 3"
    },
    "language_info": {
      "name": "python"
    },
    "accelerator": "GPU"
  },
  "cells": [
    {
      "cell_type": "markdown",
      "source": [
        "# 한영 번역기 만들기"
      ],
      "metadata": {
        "id": "t7D6IBns-ezJ"
      }
    },
    {
      "cell_type": "code",
      "source": [
        "!sudo apt-get install -y fonts-nanum\n",
        "!sudo fc-cache -fv\n",
        "!rm ~/.cache/matplotlib -rf"
      ],
      "metadata": {
        "id": "WvCwI0K_UObu"
      },
      "execution_count": null,
      "outputs": []
    },
    {
      "cell_type": "code",
      "execution_count": null,
      "metadata": {
        "id": "t5gaZKAW-Yua"
      },
      "outputs": [],
      "source": [
        "import pandas\n",
        "import tensorflow as tf\n",
        "import numpy as np\n",
        "\n",
        "from sklearn.model_selection import train_test_split\n",
        "import matplotlib as mpl\n",
        "import matplotlib.pyplot as plt\n",
        "import matplotlib.ticker as ticker\n",
        "\n",
        "import time\n",
        "import re\n",
        "import os\n",
        "import io\n",
        "\n",
        "#나눔폰트 관련 \n",
        "%config InlineBackend.figure_format = 'retina'\n",
        " \n",
        "import matplotlib.font_manager as fm\n",
        "plt.rc('font', family='NanumGothic')"
      ]
    },
    {
      "cell_type": "markdown",
      "source": [
        "## 데이터 다운로드"
      ],
      "metadata": {
        "id": "C9LLUSXLAEmR"
      }
    },
    {
      "cell_type": "markdown",
      "source": [
        "한글을 영문으로 번역하기위한 데이터를 다운받겠다.\n",
        "- 한영 병렬 데이터 출처 : [링크](https://github.com/jungyeul/korean-parallel-corpora/tree/master/korean-english-news-v1)\n",
        "- Korean-English parallel corpus (v1b): 96,982 sentence-aligned corpus sentence (cleaned from v1) from the newswire articles collected from the Web (mostly from Yahoo! Korea and Joins CNN during 2010 and 2011).\n",
        "- 데이터 상세 : https://sites.google.com/site/koreanparalleldata/\n",
        "\n",
        "\n"
      ],
      "metadata": {
        "id": "24V5uycqasTw"
      }
    },
    {
      "cell_type": "code",
      "source": [
        "path_to_zip = tf.keras.utils.get_file(\n",
        "    'korean-english-park.train.tar.gz',\n",
        "    origin='https://github.com/jungyeul/korean-parallel-corpora/raw/master/korean-english-news-v1/korean-english-park.train.tar.gz',\n",
        "    extract=True)\n",
        "\n",
        "print(path_to_zip)"
      ],
      "metadata": {
        "colab": {
          "base_uri": "https://localhost:8080/"
        },
        "id": "VYk4XqrOZ1hJ",
        "outputId": "d1e5f98b-f2a1-4731-f6cb-0bb07ea106d6"
      },
      "execution_count": null,
      "outputs": [
        {
          "output_type": "stream",
          "name": "stdout",
          "text": [
            "Downloading data from https://github.com/jungyeul/korean-parallel-corpora/raw/master/korean-english-news-v1/korean-english-park.train.tar.gz\n",
            "8724480/8718893 [==============================] - 0s 0us/step\n",
            "8732672/8718893 [==============================] - 0s 0us/step\n",
            "/root/.keras/datasets/korean-english-park.train.tar.gz\n"
          ]
        }
      ]
    },
    {
      "cell_type": "code",
      "source": [
        "#다운로드 파일및 압축해제파일 확인\n",
        "!ls /root/.keras/datasets/"
      ],
      "metadata": {
        "colab": {
          "base_uri": "https://localhost:8080/"
        },
        "id": "g7NBD5Hw_qnr",
        "outputId": "d03d4c59-0c7e-4b9d-bbf4-b51e1a7ff822"
      },
      "execution_count": null,
      "outputs": [
        {
          "output_type": "stream",
          "name": "stdout",
          "text": [
            "korean-english-park.train.en  korean-english-park.train.tar.gz\n",
            "korean-english-park.train.ko\n"
          ]
        }
      ]
    },
    {
      "cell_type": "code",
      "source": [
        "path_to_file = os.path.dirname(path_to_zip)+\"/korean-english-park.train.ko\"\n",
        "with open(path_to_file, \"r\") as f:\n",
        "    raw_kor = f.read().splitlines()\n",
        "\n",
        "print(\"Korean Data Size:\", len(raw_kor))\n",
        "print(\"Example:\")\n",
        "\n",
        "for sen in raw_kor[0:100][::20]: print(\">>\", sen)"
      ],
      "metadata": {
        "colab": {
          "base_uri": "https://localhost:8080/"
        },
        "id": "OUKHnWTA_NOz",
        "outputId": "6d6c535b-277b-44ab-fcc9-49f64580e0f4"
      },
      "execution_count": null,
      "outputs": [
        {
          "output_type": "stream",
          "name": "stdout",
          "text": [
            "Korean Data Size: 94123\n",
            "Example:\n",
            ">> 개인용 컴퓨터 사용의 상당 부분은 \"이것보다 뛰어날 수 있느냐?\"\n",
            ">> 북한의 핵무기 계획을 포기하도록 하려는 압력이 거세지고 있는 가운데, 일본과 북한의 외교관들이 외교 관계를 정상화하려는 회담을 재개했다.\n",
            ">> \"경호 로보트가 침입자나 화재를 탐지하기 위해서 개인적으로, 그리고 전문적으로 사용되고 있습니다.\"\n",
            ">> 수자원부 당국은 논란이 되고 있고, 막대한 비용이 드는 이 사업에 대해 내년에 건설을 시작할 계획이다.\n",
            ">> 또한 근력 운동은 활발하게 걷는 것이나 최소한 20분 동안 뛰는 것과 같은 유산소 활동에서 얻는 운동 효과를 심장과 폐에 주지 않기 때문에, 연구학자들은 근력 운동이 심장에 큰 영향을 미치는지 여부에 대해 논쟁을 해왔다.\n"
          ]
        }
      ]
    },
    {
      "cell_type": "code",
      "source": [
        "path_to_file = os.path.dirname(path_to_zip)+\"/korean-english-park.train.en\"\n",
        "with open(path_to_file, \"r\") as f:\n",
        "    raw_eng = f.read().splitlines()\n",
        "\n",
        "print(\"English Data Size:\", len(raw_eng))\n",
        "print(\"Example:\")\n",
        "\n",
        "for sen in raw_eng[0:100][::20]: print(\">>\", sen)"
      ],
      "metadata": {
        "colab": {
          "base_uri": "https://localhost:8080/"
        },
        "id": "GZqBBH6eATVv",
        "outputId": "0983667d-881e-48b1-a3bc-d9611935ccff"
      },
      "execution_count": null,
      "outputs": [
        {
          "output_type": "stream",
          "name": "stdout",
          "text": [
            "English Data Size: 94123\n",
            "Example:\n",
            ">> Much of personal computing is about \"can you top this?\"\n",
            ">> Amid mounting pressure on North Korea to abandon its nuclear weapons program Japanese and North Korean diplomats have resumed talks on normalizing diplomatic relations.\n",
            ">> “Guard robots are used privately and professionally to detect intruders or fire,” Karlsson said.\n",
            ">> Authorities from the Water Resources Ministry plan to begin construction next year on the controversial and hugely expensive project.\n",
            ">> Researchers also have debated whether weight-training has a big impact on the heart, since it does not give the heart and lungs the kind of workout they get from aerobic activities such as brisk walking or running for at least 20 minutes.\n"
          ]
        }
      ]
    },
    {
      "cell_type": "markdown",
      "source": [
        "LMS에서 한파일에 한영병렬데이터가 함께 들어 있던것과 다르게 각각 다른파일에 데이터가 들어가있으며, 번역 매칭은 줄단위로 구성되어있다.\n",
        "\n",
        "각각의 파일에 94,123개의 문장이 존재한다."
      ],
      "metadata": {
        "id": "ugskt8hlAfSP"
      }
    },
    {
      "cell_type": "code",
      "source": [
        "num_examples = len(raw_kor)\n",
        "num_examples"
      ],
      "metadata": {
        "id": "gsmez5-DKz_V",
        "colab": {
          "base_uri": "https://localhost:8080/"
        },
        "outputId": "18e01793-44ca-4114-bcf7-985d41c1e4fb"
      },
      "execution_count": null,
      "outputs": [
        {
          "output_type": "execute_result",
          "data": {
            "text/plain": [
              "94123"
            ]
          },
          "metadata": {},
          "execution_count": 9
        }
      ]
    },
    {
      "cell_type": "markdown",
      "source": [
        "## 데이터 전처리\n",
        "\n",
        "(1) 중복데이터 제거\n",
        " - 한글, 영문 문자 merge ->set로 중복제거\n",
        "\n",
        "(2) 데이터 정제 - 정규식 적용\n",
        "\n",
        "(3) 영문데이터에 <start>, <end> 토큰 추가\n",
        "\n",
        "(4) 최대 문장 길이 설정, 최대 문장길이보다 큰 뉴스는 corpus에 포함시키지 않음\n"
      ],
      "metadata": {
        "id": "tbas5KIcAyre"
      }
    },
    {
      "cell_type": "code",
      "source": [
        "# (1) 중복데이터 제거\n",
        "raw_data = []\n",
        "for kor, eng in zip(raw_kor, raw_eng):\n",
        "    raw_data.append(kor + '\\t' + eng) #tap키로 한영 데이터 구분\n",
        "\n",
        "raw = set(raw_data)  #집합 set으로 변환 - 중복제거\n",
        "raw_list = list(raw) #list로 변환"
      ],
      "metadata": {
        "id": "mxetA_eZQgj9"
      },
      "execution_count": null,
      "outputs": []
    },
    {
      "cell_type": "code",
      "source": [
        "dup_examples = num_examples - len(raw_list)\n",
        "num_examples -= dup_examples\n",
        "print(dup_examples, num_examples)"
      ],
      "metadata": {
        "id": "hKnfarR0R7-l",
        "colab": {
          "base_uri": "https://localhost:8080/"
        },
        "outputId": "1d2472d0-458c-4ab1-e3f7-af365a780b86"
      },
      "execution_count": null,
      "outputs": [
        {
          "output_type": "stream",
          "name": "stdout",
          "text": [
            "15155 78968\n"
          ]
        }
      ]
    },
    {
      "cell_type": "code",
      "source": [
        "num_examples = 30000"
      ],
      "metadata": {
        "id": "K27s0aWwzL9Z"
      },
      "execution_count": null,
      "outputs": []
    },
    {
      "cell_type": "markdown",
      "source": [
        "중복데이터로 15,155건이 삭제되었으며, 79000여건이 남았다. \n",
        "\n",
        "원활한 학습을 위해 상위 3만개의 데이터를 사용하겠다."
      ],
      "metadata": {
        "id": "5iiVJlwwSYYL"
      }
    },
    {
      "cell_type": "code",
      "source": [
        "# (2) 데이터 정제 - 정규식 적용\n",
        "def preprocess_sentence_kor(sentence):\n",
        "    sentence = re.sub(r\"([?.!,])\", r\" \\1 \", sentence)       #단어와 붙어있는 기호를 띄워줌.\n",
        "    sentence = re.sub(r'[\" \"]+', \" \", sentence)\n",
        "    sentence = re.sub(r\"[^가-힣?.!,]+\", \" \", sentence)   # 한글과 [?.!,] 외 문자(특수문자 등) 공백으로 변환\n",
        "\n",
        "    sentence = sentence.strip()\n",
        "\n",
        "    return sentence"
      ],
      "metadata": {
        "id": "8d9NMIKvI3BF"
      },
      "execution_count": null,
      "outputs": []
    },
    {
      "cell_type": "code",
      "source": [
        "def preprocess_sentence_eng(sentence):\n",
        "    sentence = sentence.lower().strip()\n",
        "\n",
        "    sentence = re.sub(r\"([?.!,])\", r\" \\1\", sentence)       #단어와 붙어있는 기호를 띄워줌.\n",
        "    sentence = re.sub(r'[\" \"]+', \" \", sentence)\n",
        "    sentence = re.sub(r\"[^a-zA-Z?.!,]+\", \" \", sentence) # 영어와 [?.!,] 외 문자(특수문자 등) 공백으로 변환\n",
        "\n",
        "    sentence = sentence.strip()\n",
        "    \n",
        "    #<start>, <end> 토큰 추가    \n",
        "    sentence = '<start> ' + sentence\n",
        "    sentence += ' <end>'\n",
        "    \n",
        "    return sentence\n"
      ],
      "metadata": {
        "id": "SHe0C0k2EM6q"
      },
      "execution_count": null,
      "outputs": []
    },
    {
      "cell_type": "markdown",
      "source": [
        "문장의 길이분포를 살펴보고 최대문장 길이를 설정하여 너무 긴문장은 제외하여 corpus를 구성하도록하겠다. "
      ],
      "metadata": {
        "id": "9NdasOmFWRhj"
      }
    },
    {
      "cell_type": "code",
      "source": [
        "plt.hist([len(sen) for sen in raw_kor], bins=50)\n",
        "plt.xlabel('한글 뉴스 length of samples')\n",
        "plt.ylabel('number of samples')\n",
        "plt.show()"
      ],
      "metadata": {
        "colab": {
          "base_uri": "https://localhost:8080/",
          "height": 278
        },
        "id": "YAauQDRWVYO-",
        "outputId": "bee62a16-000f-4260-82ad-52cb7ab77754"
      },
      "execution_count": null,
      "outputs": [
        {
          "output_type": "display_data",
          "data": {
            "text/plain": [
              "<Figure size 432x288 with 1 Axes>"
            ],
            "image/png": "[encoded data removed]"
          },
          "metadata": {
            "image/png": {
              "width": 400,
              "height": 262
            },
            "needs_background": "light"
          }
        }
      ]
    },
    {
      "cell_type": "code",
      "source": [
        "plt.hist([len(sen) for sen in raw_eng], bins=50)\n",
        "plt.xlabel('영문 뉴스 length of samples')\n",
        "plt.ylabel('number of samples')\n",
        "plt.show()"
      ],
      "metadata": {
        "colab": {
          "base_uri": "https://localhost:8080/",
          "height": 278
        },
        "id": "-aJHmlRpV0_X",
        "outputId": "6d3ccc35-67c6-4881-a034-2f81f66768a4"
      },
      "execution_count": null,
      "outputs": [
        {
          "output_type": "display_data",
          "data": {
            "text/plain": [
              "<Figure size 432x288 with 1 Axes>"
            ],
            "image/png": "[encoded data removed]"
          },
          "metadata": {
            "image/png": {
              "width": 393,
              "height": 262
            },
            "needs_background": "light"
          }
        }
      ]
    },
    {
      "cell_type": "markdown",
      "source": [
        "- 긴문장 처리\n",
        " - 분포상 한글뉴스의 경우 100 이상, 영문뉴스의 경우200 이상인 경우를 전처리를 진행하여 corpus를 구성하도록 하겠다.\n",
        " - 학습시 문장이 너무 길경우 loss값이 높아 한글의 경우 50, 영문의 경우 100이상의 문장은 제외하였다."
      ],
      "metadata": {
        "id": "Wmc5Vmi0WnUr"
      }
    },
    {
      "cell_type": "code",
      "source": [
        "enc_corpus = []\n",
        "dec_corpus = []\n",
        "\n",
        "for pair in raw_data[:num_examples]:\n",
        "    kor, eng = pair.split(\"\\t\")\n",
        "    \n",
        "    #문장의 길이가 긴경우 제외 \n",
        "    if len(kor) > 50 or len(eng)> 100:\n",
        "        continue\n",
        "\n",
        "    enc_corpus.append(preprocess_sentence_kor(kor))\n",
        "    dec_corpus.append(preprocess_sentence_eng(eng))\n",
        "\n",
        "print(\"Korean:\", enc_corpus[100])   # go away !\n",
        "print(\"English:\", dec_corpus[100])   # <start> salga de aqu ! <end>\n",
        "len(enc_corpus), len(dec_corpus)"
      ],
      "metadata": {
        "id": "1pPoh9eZESi0",
        "colab": {
          "base_uri": "https://localhost:8080/"
        },
        "outputId": "b514bee1-72d7-4bf3-859a-edfaa732e264"
      },
      "execution_count": null,
      "outputs": [
        {
          "output_type": "stream",
          "name": "stdout",
          "text": [
            "Korean: 우주 비행사들의 증언이나 사진 상의 증거도 역시 충분하지 않았다 .\n",
            "English: <start> neither was testimony from astronauts or even photographic evidence . <end>\n"
          ]
        },
        {
          "output_type": "execute_result",
          "data": {
            "text/plain": [
              "(6765, 6765)"
            ]
          },
          "metadata": {},
          "execution_count": 38
        }
      ]
    },
    {
      "cell_type": "markdown",
      "source": [
        "## 데이터 토큰화\n",
        "전처리후 6,765 건의 데이터가 남았다. 이 데이터에 대하여 keras 토크나이저를 통해 토큰화를 진행하겠다. "
      ],
      "metadata": {
        "id": "3aohmV7hA1Gu"
      }
    },
    {
      "cell_type": "code",
      "source": [
        "def tokenize(corpus, max_len):\n",
        "    tokenizer = tf.keras.preprocessing.text.Tokenizer(filters='')\n",
        "    tokenizer.fit_on_texts(corpus)\n",
        "\n",
        "    tensor = tokenizer.texts_to_sequences(corpus)\n",
        "\n",
        "    tensor = tf.keras.preprocessing.sequence.pad_sequences(tensor, padding='pre', maxlen=max_len)\n",
        "\n",
        "    return tensor, tokenizer"
      ],
      "metadata": {
        "id": "zWniMAzdoqGD"
      },
      "execution_count": null,
      "outputs": []
    },
    {
      "cell_type": "code",
      "source": [
        "# 토큰화하기\n",
        "enc_tensor, enc_tokenizer = tokenize(enc_corpus, 40)\n",
        "dec_tensor, dec_tokenizer = tokenize(dec_corpus, 60)\n",
        "\n",
        "# 훈련 데이터와 검증 데이터로 분리하기\n",
        "enc_train, enc_val, dec_train, dec_val = \\\n",
        "train_test_split(enc_tensor, dec_tensor, test_size=0.2)\n",
        "\n",
        "print(\"Korean Vocab Size:\", len(enc_tokenizer.index_word))\n",
        "print(\"English Vocab Size:\", len(dec_tokenizer.index_word))"
      ],
      "metadata": {
        "colab": {
          "base_uri": "https://localhost:8080/"
        },
        "id": "eefATIuXoyPD",
        "outputId": "003d9664-3c52-464b-9de5-2fe305749409"
      },
      "execution_count": null,
      "outputs": [
        {
          "output_type": "stream",
          "name": "stdout",
          "text": [
            "Korean Vocab Size: 23869\n",
            "English Vocab Size: 10786\n"
          ]
        }
      ]
    },
    {
      "cell_type": "code",
      "source": [
        "print('훈련 데이터 : ', enc_train.shape, dec_train.shape)\n",
        "print('검증 데이터 : ', enc_val.shape, dec_val.shape)"
      ],
      "metadata": {
        "colab": {
          "base_uri": "https://localhost:8080/"
        },
        "id": "Z1ipXegoXvWR",
        "outputId": "9b9c0e04-6845-4fce-9625-260a8df7c7c3"
      },
      "execution_count": null,
      "outputs": [
        {
          "output_type": "stream",
          "name": "stdout",
          "text": [
            "훈련 데이터 :  (5412, 40) (5412, 60)\n",
            "검증 데이터 :  (1353, 40) (1353, 60)\n"
          ]
        }
      ]
    },
    {
      "cell_type": "markdown",
      "source": [
        "## 모델 설계\n",
        "**BahdanauAttention**\n",
        "\n",
        "- 디코더가 현재 시점 i에서 보기에 인코더의 어느 부분 j가 중요한지 가중치로 계산하여 반영\n",
        "\n",
        "![ㅇ](https://img1.daumcdn.net/thumb/R1280x0/?scode=mtistory2&fname=https%3A%2F%2Fblog.kakaocdn.net%2Fdn%2FwHsKw%2FbtrxUPTgWKb%2FxDLAJVDVc8JZ6EFPZzVy70%2Fimg.png)\n",
        "\n",
        "\n",
        "**Encoder**\n",
        "- Embedding Layer : 시퀀스 \n",
        "- Gru Layer\n",
        " - enc_units : 히든 유닛수\n",
        " - return_sequences=True : 각 time step별 hidden state를 모두 출력\n",
        "- cf. return_sequences=False : 1개의 벡터만 출력\n",
        "\n",
        "**Decoder**\n",
        "- t=1 일 때의 Hidden State : Encoder의 Final State를 Hidden State를 사용\n",
        "- Gru Layer\n",
        " - return_state=True : 마지막 time step에서의 hidden state와 cell state가 출력\n",
        "- Dense Layer :  히든 유닛수 vocab_size로 설정\n",
        "- BahdanauAttention"
      ],
      "metadata": {
        "id": "hAxc3F9aA4rv"
      }
    },
    {
      "cell_type": "code",
      "source": [
        "class BahdanauAttention(tf.keras.layers.Layer):\n",
        "    def __init__(self, units):\n",
        "        super(BahdanauAttention, self).__init__()\n",
        "        self.w_dec = tf.keras.layers.Dense(units)\n",
        "        self.w_enc = tf.keras.layers.Dense(units)\n",
        "        self.w_com = tf.keras.layers.Dense(1)\n",
        "    \n",
        "    def call(self, h_enc, h_dec):\n",
        "        # h_enc shape: [batch x length x units]\n",
        "        # h_dec shape: [batch x units]\n",
        "\n",
        "        h_enc = self.w_enc(h_enc)\n",
        "        h_dec = tf.expand_dims(h_dec, 1)\n",
        "        h_dec = self.w_dec(h_dec)\n",
        "\n",
        "        score = self.w_com(tf.nn.tanh(h_dec + h_enc))\n",
        "        \n",
        "        attn = tf.nn.softmax(score, axis=1)\n",
        "\n",
        "        context_vec = attn * h_enc\n",
        "        context_vec = tf.reduce_sum(context_vec, axis=1)\n",
        "\n",
        "        return context_vec, attn\n"
      ],
      "metadata": {
        "id": "SNIAfntBO-kp"
      },
      "execution_count": null,
      "outputs": []
    },
    {
      "cell_type": "code",
      "source": [
        "class Encoder(tf.keras.Model):\n",
        "    def __init__(self, vocab_size, embedding_dim, enc_units):\n",
        "        super(Encoder, self).__init__()\n",
        "        \n",
        "        self.embedding = tf.keras.layers.Embedding(vocab_size, embedding_dim)\n",
        "        self.gru = tf.keras.layers.GRU(enc_units, return_sequences=True)\n",
        "\t\t\n",
        "    def call(self, x):\n",
        "        out = self.embedding(x)\n",
        "        out = self.gru(out)\n",
        "\n",
        "        return out"
      ],
      "metadata": {
        "id": "XVl5l60jOzvZ"
      },
      "execution_count": null,
      "outputs": []
    },
    {
      "cell_type": "code",
      "source": [
        "class Decoder(tf.keras.Model):\n",
        "    def __init__(self, vocab_size, embedding_dim, dec_units):\n",
        "        super(Decoder, self).__init__()\n",
        "        \n",
        "        self.embedding = tf.keras.layers.Embedding(vocab_size, embedding_dim)\n",
        "        self.gru = tf.keras.layers.GRU(dec_units,\n",
        "                                       return_sequences=True,\n",
        "                                       return_state=True)\n",
        "        self.fc = tf.keras.layers.Dense(vocab_size)        \n",
        "        self.attention = BahdanauAttention(dec_units)   # Attention 필수 사용!\n",
        "\n",
        "    def call(self, x, h_dec, enc_out):\n",
        "        context_vec, attn = self.attention(enc_out, h_dec)\n",
        "\n",
        "        out = self.embedding(x)\n",
        "        #print('Decoder:', len(out), len(context_vec))\n",
        "        out = tf.concat([tf.expand_dims(context_vec, 1), out], axis=-1)\n",
        "\n",
        "        out, h_dec = self.gru(out)\n",
        "        out = tf.reshape(out, (-1, out.shape[2]))\n",
        "        out = self.fc(out)\n",
        "\n",
        "        return out, h_dec, attn"
      ],
      "metadata": {
        "id": "OS_nUY47O5JM"
      },
      "execution_count": null,
      "outputs": []
    },
    {
      "cell_type": "code",
      "source": [
        "BATCH_SIZE     = 64\n",
        "SRC_VOCAB_SIZE = len(enc_tokenizer.index_word) + 1 #1 for pad\n",
        "TGT_VOCAB_SIZE = len(dec_tokenizer.index_word) + 1 #1 for pad\n",
        "print ('SRC_VOCAB_SIZE :', SRC_VOCAB_SIZE)\n",
        "print ('TGT_VOCAB_SIZE :', TGT_VOCAB_SIZE)\n",
        "\n",
        "units         = 1024\n",
        "embedding_dim = 512\n",
        "\n",
        "encoder = Encoder(SRC_VOCAB_SIZE, embedding_dim, units)\n",
        "decoder = Decoder(TGT_VOCAB_SIZE, embedding_dim, units)\n",
        "\n",
        "# sample input\n",
        "sequence_len = 30\n",
        "\n",
        "sample_enc = tf.random.uniform((BATCH_SIZE, sequence_len))\n",
        "sample_output = encoder(sample_enc)\n",
        "print ('Encoder Output:', sample_output.shape)\n",
        "\n",
        "sample_state = tf.random.uniform((BATCH_SIZE, units))\n",
        "\n",
        "sample_logits, h_dec, attn = decoder(tf.random.uniform((BATCH_SIZE, 1)),\n",
        "                                     sample_state, sample_output)\n",
        "\n",
        "print ('Decoder Output:', sample_logits.shape)\n",
        "print ('Decoder Hidden State:', h_dec.shape)\n",
        "print ('Attention:', attn.shape)"
      ],
      "metadata": {
        "id": "Mt710BRtAaao",
        "colab": {
          "base_uri": "https://localhost:8080/"
        },
        "outputId": "90b9a64d-0654-4b9b-b65e-ff2e0aa05508"
      },
      "execution_count": null,
      "outputs": [
        {
          "output_type": "stream",
          "name": "stdout",
          "text": [
            "SRC_VOCAB_SIZE : 23870\n",
            "TGT_VOCAB_SIZE : 10787\n",
            "Encoder Output: (64, 30, 1024)\n",
            "Decoder Output: (64, 10787)\n",
            "Decoder Hidden State: (64, 1024)\n",
            "Attention: (64, 30, 1)\n"
          ]
        }
      ]
    },
    {
      "cell_type": "markdown",
      "source": [
        "## 모델 훈련하기"
      ],
      "metadata": {
        "id": "1y4SYpsEIH6Q"
      }
    },
    {
      "cell_type": "markdown",
      "source": [
        "(1) Optimizer & Loss\n",
        "- optimizer : Adam 옵티마이터 사용\n",
        "- loss\n",
        " - 손실 함수 : SparseCategoricalCrossentropy 사용\n",
        " - mask 설정 : 모델에게 \\<PAD> 토큰이 패딩을 위한 토큰이라고 알려주기위한 처리"
      ],
      "metadata": {
        "id": "7JyeVGZtIM_h"
      }
    },
    {
      "cell_type": "code",
      "source": [
        "optimizer = tf.keras.optimizers.Adam()\n",
        "loss_object = tf.keras.losses.SparseCategoricalCrossentropy(\n",
        "    from_logits=True, reduction='none')\n",
        "\n",
        "def loss_function(real, pred):\n",
        "    mask = tf.math.logical_not(tf.math.equal(real, 0))\n",
        "    loss = loss_object(real, pred)\n",
        "    \n",
        "    mask = tf.cast(mask, dtype=loss.dtype)\n",
        "    loss *= mask\n",
        "    \n",
        "    return tf.reduce_mean(loss)"
      ],
      "metadata": {
        "id": "2AAlmslgIRdG"
      },
      "execution_count": null,
      "outputs": []
    },
    {
      "cell_type": "markdown",
      "source": [
        "(2) train_step \n",
        "- 주요 파라미터\n",
        " - src : 한글 시퀀스\n",
        " - tgt : 영문 시퀀스\n",
        " - dec_tok : 영문 토크나이저\n",
        " \n",
        "- GradientTape 구성\n",
        " - 인코더, 디코더를 통해 학습을 진행후 loss를 최종 계산후 반환"
      ],
      "metadata": {
        "id": "5DxwL4EFISEP"
      }
    },
    {
      "cell_type": "code",
      "source": [
        "@tf.function\n",
        "def train_step(src, tgt, encoder, decoder, optimizer, dec_tok):\n",
        "    bsz = src.shape[0]\n",
        "    loss = 0\n",
        "    step = 1\n",
        "\n",
        "    with tf.GradientTape() as tape:        \n",
        "        enc_out = encoder(src)  #한글 시퀀스 인코딩\n",
        "        h_dec = enc_out[:, -1]  # 컨텍스트 벡터 : 인코더 마지막 히든스테이트\n",
        "        \n",
        "        dec_src = tf.expand_dims([dec_tok.word_index['<start>']] * bsz, 1) # 영문시퀀스 - 첫번째 : start 토큰        \n",
        "        for t in range(1, tgt.shape[1]):\n",
        "            pred, h_dec, _ = decoder(dec_src, h_dec, enc_out) # 영문시퀀스, 이전 히든스테이트(처음엔 :컨텍스트 벡터), enc_out\n",
        "\n",
        "            loss += loss_function(tgt[:, t], pred)\n",
        "            dec_src = tf.expand_dims(tgt[:, t], 1) # 다음 영문시퀀스\n",
        "        \n",
        "    batch_loss = (loss / int(tgt.shape[1]))\n",
        "    #print(step, '--> batch_loss:', batch_loss)\n",
        "    #step += 1\n",
        "\n",
        "    variables = encoder.trainable_variables + decoder.trainable_variables\n",
        "    gradients = tape.gradient(loss, variables)\n",
        "    optimizer.apply_gradients(zip(gradients, variables))\n",
        "    \n",
        "    return batch_loss"
      ],
      "metadata": {
        "id": "O-ncoOFqXsMT"
      },
      "execution_count": null,
      "outputs": []
    },
    {
      "cell_type": "markdown",
      "source": [
        "(3) 훈련 시작하기\n",
        "- 훈련데이터에 대하여 미니배치로 train_step() 함수에서 학습\n",
        " - 인덱스 리스트중 랜덤으로 데이터 선택하여 훈련"
      ],
      "metadata": {
        "id": "7sDMQsNWKKpO"
      }
    },
    {
      "cell_type": "code",
      "source": [
        "from tqdm import tqdm    # tqdm\n",
        "import random\n",
        "\n",
        "EPOCHS = 10\n",
        "\n",
        "for epoch in range(EPOCHS):\n",
        "    total_loss = 0\n",
        "    \n",
        "    idx_list = list(range(0, enc_train.shape[0], BATCH_SIZE))\n",
        "    random.shuffle(idx_list)\n",
        "    t = tqdm(idx_list)    # tqdm\n",
        "\n",
        "    for (batch, idx) in enumerate(t):\n",
        "        batch_loss = train_step(enc_train[idx:idx+BATCH_SIZE],\n",
        "                                dec_train[idx:idx+BATCH_SIZE],\n",
        "                                encoder,\n",
        "                                decoder,\n",
        "                                optimizer,\n",
        "                                dec_tokenizer)\n",
        "    \n",
        "        total_loss += batch_loss    #loss 합산\n",
        "        \n",
        "        t.set_description_str('Epoch %2d' % (epoch + 1))    # tqdm\n",
        "        t.set_postfix_str('Loss %.4f' % (total_loss.numpy() / (batch + 1)))    # tqdm"
      ],
      "metadata": {
        "colab": {
          "base_uri": "https://localhost:8080/"
        },
        "id": "9oLVfxSDXnSr",
        "outputId": "ddb0183d-97ca-4221-ec8a-a47ce4adb31d"
      },
      "execution_count": null,
      "outputs": [
        {
          "output_type": "stream",
          "name": "stderr",
          "text": [
            "Epoch  1: 100%|██████████| 85/85 [02:46<00:00,  1.95s/it, Loss 1.7055]\n",
            "Epoch  2: 100%|██████████| 85/85 [00:54<00:00,  1.55it/s, Loss 1.5855]\n",
            "Epoch  3: 100%|██████████| 85/85 [00:55<00:00,  1.54it/s, Loss 1.5813]\n",
            "Epoch  4: 100%|██████████| 85/85 [00:54<00:00,  1.55it/s, Loss 1.5829]\n",
            "Epoch  5: 100%|██████████| 85/85 [00:55<00:00,  1.55it/s, Loss 1.5833]\n",
            "Epoch  6: 100%|██████████| 85/85 [00:54<00:00,  1.55it/s, Loss 1.5835]\n",
            "Epoch  7: 100%|██████████| 85/85 [00:54<00:00,  1.55it/s, Loss 1.5823]\n",
            "Epoch  8: 100%|██████████| 85/85 [00:54<00:00,  1.55it/s, Loss 1.5841]\n",
            "Epoch  9: 100%|██████████| 85/85 [00:54<00:00,  1.55it/s, Loss 1.5815]\n",
            "Epoch 10: 100%|██████████| 85/85 [00:54<00:00,  1.55it/s, Loss 1.5834]\n"
          ]
        }
      ]
    },
    {
      "cell_type": "markdown",
      "source": [
        "## 실습하기\n",
        "\n",
        "Validation Set을 사용하는 eval_step() 함수를 정의하도록 하겠다.  train_step() 을 마친 후, 곧이어 eval_step() 실행하여 훈련과 검증을 진행하였다. \n"
      ],
      "metadata": {
        "id": "PWOdzQon8Cu6"
      }
    },
    {
      "cell_type": "code",
      "source": [
        "# Define eval_step - 학습이 진행되지 않도록 가중치 갱신하는 부분 제외\n",
        "@tf.function\n",
        "def eval_step(src, tgt, encoder, decoder, dec_tok):\n",
        "    bsz = src.shape[0]\n",
        "    loss = 0\n",
        "\n",
        "    enc_out = encoder(src)\n",
        "\n",
        "    h_dec = enc_out[:, -1]\n",
        "\n",
        "    dec_src = tf.expand_dims([dec_tok.word_index['<start>']] * bsz, 1)\n",
        "\n",
        "    for t in range(1, tgt.shape[1]):\n",
        "        pred, h_dec, _ = decoder(dec_src, h_dec, enc_out)\n",
        "\n",
        "        loss += loss_function(tgt[:, t], pred)\n",
        "        dec_src = tf.expand_dims(tgt[:, t], 1)\n",
        "\n",
        "    batch_loss = (loss / int(tgt.shape[1]))\n",
        "\n",
        "    return batch_loss\n",
        "\n"
      ],
      "metadata": {
        "id": "5di-t3RdMXHt"
      },
      "execution_count": null,
      "outputs": []
    },
    {
      "cell_type": "code",
      "source": [
        "# Training Process\n",
        "from tqdm import tqdm\n",
        "\n",
        "EPOCHS = 10\n",
        "\n",
        "for epoch in range(EPOCHS):\n",
        "    total_loss = 0\n",
        "\n",
        "    idx_list = list(range(0, enc_train.shape[0], BATCH_SIZE))\n",
        "    random.shuffle(idx_list)\n",
        "    t = tqdm(idx_list)\n",
        "\n",
        "    for (batch, idx) in enumerate(t):\n",
        "        batch_loss = train_step(enc_train[idx:idx+BATCH_SIZE],\n",
        "                                dec_train[idx:idx+BATCH_SIZE],\n",
        "                                encoder,\n",
        "                                decoder,\n",
        "                                optimizer,\n",
        "                                dec_tokenizer)\n",
        "\n",
        "        total_loss += batch_loss\n",
        "\n",
        "        t.set_description_str('Epoch %2d' % (epoch + 1))\n",
        "        t.set_postfix_str('Loss %.4f' % (total_loss.numpy() / (batch + 1)))\n",
        "\n",
        "    test_loss = 0\n",
        "\n",
        "    idx_list = list(range(0, enc_val.shape[0], BATCH_SIZE))\n",
        "    random.shuffle(idx_list)\n",
        "    t = tqdm(idx_list)\n",
        "\n",
        "    for (test_batch, idx) in enumerate(t):\n",
        "        test_batch_loss = eval_step(enc_val[idx:idx+BATCH_SIZE],\n",
        "                                    dec_val[idx:idx+BATCH_SIZE],\n",
        "                                    encoder,\n",
        "                                    decoder,\n",
        "                                    dec_tokenizer)\n",
        "\n",
        "        test_loss += test_batch_loss\n",
        "\n",
        "        t.set_description_str('Test Epoch %2d' % (epoch + 1))\n",
        "        t.set_postfix_str('Test Loss %.4f' % (test_loss.numpy() / (test_batch + 1)))"
      ],
      "metadata": {
        "colab": {
          "base_uri": "https://localhost:8080/"
        },
        "id": "mNaWDAJq8pCJ",
        "outputId": "c9d32563-2ef3-4f75-fb57-491213dd881f"
      },
      "execution_count": null,
      "outputs": [
        {
          "output_type": "stream",
          "name": "stderr",
          "text": [
            "Epoch  1: 100%|██████████| 85/85 [00:55<00:00,  1.53it/s, Loss 1.5840]\n",
            "Test Epoch  1: 100%|██████████| 22/22 [00:46<00:00,  2.10s/it, Test Loss 1.6685]\n",
            "Epoch  2: 100%|██████████| 85/85 [00:55<00:00,  1.53it/s, Loss 1.5823]\n",
            "Test Epoch  2: 100%|██████████| 22/22 [00:05<00:00,  4.20it/s, Test Loss 1.6731]\n",
            "Epoch  3: 100%|██████████| 85/85 [00:54<00:00,  1.55it/s, Loss 1.5811]\n",
            "Test Epoch  3: 100%|██████████| 22/22 [00:05<00:00,  4.14it/s, Test Loss 1.6603]\n",
            "Epoch  4: 100%|██████████| 85/85 [00:56<00:00,  1.51it/s, Loss 1.5124]\n",
            "Test Epoch  4: 100%|██████████| 22/22 [00:05<00:00,  4.16it/s, Test Loss 1.4617]\n",
            "Epoch  5: 100%|██████████| 85/85 [00:57<00:00,  1.48it/s, Loss 1.3531]\n",
            "Test Epoch  5: 100%|██████████| 22/22 [00:05<00:00,  4.13it/s, Test Loss 1.4005]\n",
            "Epoch  6: 100%|██████████| 85/85 [00:57<00:00,  1.47it/s, Loss 1.2585]\n",
            "Test Epoch  6: 100%|██████████| 22/22 [00:05<00:00,  4.12it/s, Test Loss 1.3908]\n",
            "Epoch  7: 100%|██████████| 85/85 [00:58<00:00,  1.46it/s, Loss 1.1779]\n",
            "Test Epoch  7: 100%|██████████| 22/22 [00:05<00:00,  4.13it/s, Test Loss 1.3859]\n",
            "Epoch  8: 100%|██████████| 85/85 [00:57<00:00,  1.47it/s, Loss 1.1046]\n",
            "Test Epoch  8: 100%|██████████| 22/22 [00:05<00:00,  4.13it/s, Test Loss 1.3997]\n",
            "Epoch  9: 100%|██████████| 85/85 [00:57<00:00,  1.47it/s, Loss 1.0378]\n",
            "Test Epoch  9: 100%|██████████| 22/22 [00:05<00:00,  4.12it/s, Test Loss 1.4214]\n",
            "Epoch 10: 100%|██████████| 85/85 [00:58<00:00,  1.46it/s, Loss 0.9780]\n",
            "Test Epoch 10: 100%|██████████| 22/22 [00:05<00:00,  4.11it/s, Test Loss 1.4464]\n"
          ]
        }
      ]
    },
    {
      "cell_type": "markdown",
      "source": [
        "## 성능 평가"
      ],
      "metadata": {
        "id": "e051h7rE85O5"
      }
    },
    {
      "cell_type": "code",
      "source": [
        "def evaluate(sentence, encoder, decoder):\n",
        "    attention = np.zeros((dec_train.shape[-1], enc_train.shape[-1]))\n",
        "    \n",
        "    print(sentence, 'len:', enc_train.shape[-1])\n",
        "    sentence = preprocess_sentence_kor(sentence)\n",
        "    inputs = enc_tokenizer.texts_to_sequences([sentence])\n",
        "    inputs = tf.keras.preprocessing.sequence.pad_sequences(inputs, maxlen=enc_train.shape[-1], padding='pre')\n",
        "\n",
        "    result = ''\n",
        "\n",
        "    enc_out = encoder(inputs)\n",
        "\n",
        "    dec_hidden = enc_out[:, -1]\n",
        "    dec_input = tf.expand_dims([dec_tokenizer.word_index['<start>']], 0)\n",
        "    print(enc_out)\n",
        "    print(dec_hidden)\n",
        "    print(dec_input)\n",
        "\n",
        "    for t in range(dec_train.shape[-1]):\n",
        "        predictions, dec_hidden, attention_weights = decoder(dec_input, dec_hidden, enc_out)\n",
        "\n",
        "        attention_weights = tf.reshape(attention_weights, (-1, ))\n",
        "        attention[t] = attention_weights.numpy()\n",
        "\n",
        "        predicted_id = tf.argmax(tf.math.softmax(predictions, axis=-1)[0]).numpy()\n",
        "        print(predicted_id, end='/ ')\n",
        "        result += dec_tokenizer.index_word[predicted_id] + ' '\n",
        "\n",
        "        if dec_tokenizer.index_word[predicted_id] == '<end>':\n",
        "            print('evaluate 1:', result)\n",
        "            return result, sentence, attention\n",
        "\n",
        "        dec_input = tf.expand_dims([predicted_id], 0)\n",
        "\n",
        "    print('evaluate 2:', result)\n",
        "\n",
        "    return result, sentence, attention\n",
        "\n",
        "\n",
        "def plot_attention(attention, sentence, predicted_sentence):\n",
        "    fig = plt.figure(figsize=(10,10))\n",
        "    ax = fig.add_subplot(1, 1, 1)\n",
        "    ax.matshow(attention, cmap='viridis')\n",
        "\n",
        "    fontdict = {'fontsize': 14}\n",
        "\n",
        "    ax.set_xticklabels([''] + sentence, fontdict=fontdict, rotation=90)\n",
        "    ax.set_yticklabels([''] + predicted_sentence, fontdict=fontdict)\n",
        "\n",
        "    ax.xaxis.set_major_locator(ticker.MultipleLocator(1))\n",
        "    ax.yaxis.set_major_locator(ticker.MultipleLocator(1))\n",
        "\n",
        "    plt.show()\n",
        "\n",
        "\n",
        "def translate(sentence, encoder, decoder):\n",
        "    result, sentence, attention = evaluate(sentence, encoder, decoder)\n",
        "\n",
        "    print('Input: %s' % (sentence))\n",
        "    print('Predicted translation: {}'.format(result))\n",
        "    \n",
        "    attention = attention[:len(result.split()), :len(sentence.split())]\n",
        "    plot_attention(attention, sentence.split(), result.split(' '))\n"
      ],
      "metadata": {
        "id": "tpt5beEs86-i"
      },
      "execution_count": null,
      "outputs": []
    },
    {
      "cell_type": "markdown",
      "source": [
        "---\n",
        "프로젝트 과제에 제시되었던 예문으로 번역을 해보자."
      ],
      "metadata": {
        "id": "s1FB-94U905I"
      }
    },
    {
      "cell_type": "code",
      "source": [
        "translate(\"시민들은 도시 속에 산다.\", encoder, decoder)"
      ],
      "metadata": {
        "colab": {
          "base_uri": "https://localhost:8080/",
          "height": 1000
        },
        "id": "D3ebK5Pe-DvR",
        "outputId": "196dd734-2535-4062-e0c2-e118f786f89b"
      },
      "execution_count": null,
      "outputs": [
        {
          "output_type": "stream",
          "name": "stdout",
          "text": [
            "시민들은 도시 속에 산다. len: 40\n",
            "tf.Tensor(\n",
            "[[[-1.3440872e-03  2.9736985e-03  1.3920106e-03 ... -3.0511240e-03\n",
            "    4.4574909e-04 -9.0871016e-03]\n",
            "  [-6.9560185e-03  2.6341486e-03 -2.2108534e-03 ...  3.1466137e-03\n",
            "    1.0400856e-02  2.1928687e-02]\n",
            "  [-2.7872523e-02 -3.1915063e-03 -1.2181106e-02 ...  1.2396603e-02\n",
            "    2.1713898e-02  1.3890977e-02]\n",
            "  ...\n",
            "  [-9.9993593e-01  3.5368036e-02 -9.9980628e-01 ...  9.9988049e-01\n",
            "    9.9993217e-01  9.2983681e-01]\n",
            "  [-9.9993724e-01 -4.7439057e-03 -9.9979609e-01 ...  9.9987292e-01\n",
            "    9.9992961e-01  9.3193728e-01]\n",
            "  [-9.9993849e-01  1.4534271e-02 -9.9981159e-01 ...  9.9987936e-01\n",
            "    9.9993098e-01  9.3404776e-01]]], shape=(1, 40, 1024), dtype=float32)\n",
            "tf.Tensor(\n",
            "[[-0.9999385   0.01453427 -0.9998116  ...  0.99987936  0.999931\n",
            "   0.93404776]], shape=(1, 1024), dtype=float32)\n",
            "tf.Tensor([[1]], shape=(1, 1), dtype=int32)\n",
            "4/ 132/ 123/ 3/ 2/ evaluate 1: the united states . <end> \n",
            "Input: 시민들은 도시 속에 산다 .\n",
            "Predicted translation: the united states . <end> \n"
          ]
        },
        {
          "output_type": "display_data",
          "data": {
            "text/plain": [
              "<Figure size 720x720 with 1 Axes>"
            ],
            "image/png": "[encoded data removed]"
          },
          "metadata": {
            "image/png": {
              "width": 606,
              "height": 621
            },
            "needs_background": "light"
          }
        }
      ]
    },
    {
      "cell_type": "markdown",
      "source": [
        "---\n",
        "\n",
        "## 정리.\n",
        "\n",
        "- 결과적으로 원하는 성능의 모델이 만들어지지않았다. 로스값을 어느정도(3점대에서 1.6이하) 떨어뜨리기는 했지만 원하는 결과가 나오지않았다. LMS에서 진행했던 영어-스페인어 번역의 Loss(0.8이하)와 비교해도 학습이 잘진행되었다고 볼수없을 것 같다. \n",
        "\n",
        "- 개발 이슈\n",
        " - row data의 전체(94000여건)을 모두 학습시켰을때 OOM(Out of memory) 에러가발생하였다. 학습 건수를 30000건으로 줄였다.\n",
        " - 문장의 길이를 제한하지않은 경우 Loss가 nan(무한대)로 나왔다. 문장 길이가 너무 긴경우 학습이 제대로 진행되지않아 문장의 분포를 보고 조절하였지만 적절한 길이를 찾는 과정을 계속 반복했다. \n",
        " - 드랍아웃이나 하이퍼 파라미터 조정으로도 크게 성능이 개선되지않았다. 인코더, 디코더 모델을 개선하는 방향이 좀더 유의미할것 같아 보인다.\n",
        " \n"
      ],
      "metadata": {
        "id": "bH-7apvuofhP"
      }
    }
  ]
}
