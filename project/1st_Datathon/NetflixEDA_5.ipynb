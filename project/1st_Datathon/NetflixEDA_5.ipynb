{
 "cells": [
  {
   "cell_type": "markdown",
   "id": "665abca7",
   "metadata": {},
   "source": [
    "# Netflix 연도별 컨텐츠 분석\n"
   ]
  },
  {
   "cell_type": "markdown",
   "id": "1ff624a0",
   "metadata": {},
   "source": [
    "### load library"
   ]
  },
  {
   "cell_type": "code",
   "execution_count": 1,
   "id": "a86500d1",
   "metadata": {},
   "outputs": [
    {
     "name": "stdout",
     "output_type": "stream",
     "text": [
      "Requirement already satisfied: plotly in /opt/conda/lib/python3.9/site-packages (5.6.0)\n",
      "Requirement already satisfied: tenacity>=6.2.0 in /opt/conda/lib/python3.9/site-packages (from plotly) (8.0.1)\n",
      "Requirement already satisfied: six in /opt/conda/lib/python3.9/site-packages (from plotly) (1.16.0)\n",
      "\u001b[33mWARNING: Running pip as the 'root' user can result in broken permissions and conflicting behaviour with the system package manager. It is recommended to use a virtual environment instead: https://pip.pypa.io/warnings/venv\u001b[0m\n"
     ]
    }
   ],
   "source": [
    "!pip install plotly\n",
    "\n",
    "import warnings\n",
    "import numpy as np\n",
    "import pandas as pd\n",
    "import seaborn as sns\n",
    "import matplotlib.pyplot as plt\n",
    "import plotly.graph_objects as go\n",
    "warnings.filterwarnings(action='ignore')"
   ]
  },
  {
   "cell_type": "markdown",
   "id": "797ee507",
   "metadata": {},
   "source": [
    "### load dataset\n",
    " - [Netflix dataset](https://www.kaggle.com/shivamb/netflix-shows)\n",
    " - IMDB dataset\n",
    "  - [ratings](https://datasets.imdbws.com/title.ratings.tsv.gz)\n",
    "  - [basics](https://datasets.imdbws.com/title.basics.tsv.gz)"
   ]
  },
  {
   "cell_type": "code",
   "execution_count": 2,
   "id": "918a5f36",
   "metadata": {},
   "outputs": [
    {
     "data": {
      "text/html": [
       "<div>\n",
       "<style scoped>\n",
       "    .dataframe tbody tr th:only-of-type {\n",
       "        vertical-align: middle;\n",
       "    }\n",
       "\n",
       "    .dataframe tbody tr th {\n",
       "        vertical-align: top;\n",
       "    }\n",
       "\n",
       "    .dataframe thead th {\n",
       "        text-align: right;\n",
       "    }\n",
       "</style>\n",
       "<table border=\"1\" class=\"dataframe\">\n",
       "  <thead>\n",
       "    <tr style=\"text-align: right;\">\n",
       "      <th></th>\n",
       "      <th>show_id</th>\n",
       "      <th>type</th>\n",
       "      <th>title</th>\n",
       "      <th>director</th>\n",
       "      <th>cast</th>\n",
       "      <th>country</th>\n",
       "      <th>date_added</th>\n",
       "      <th>release_year</th>\n",
       "      <th>rating</th>\n",
       "      <th>duration</th>\n",
       "      <th>listed_in</th>\n",
       "      <th>description</th>\n",
       "    </tr>\n",
       "  </thead>\n",
       "  <tbody>\n",
       "    <tr>\n",
       "      <th>0</th>\n",
       "      <td>s1</td>\n",
       "      <td>Movie</td>\n",
       "      <td>Dick Johnson Is Dead</td>\n",
       "      <td>Kirsten Johnson</td>\n",
       "      <td>NaN</td>\n",
       "      <td>United States</td>\n",
       "      <td>September 25, 2021</td>\n",
       "      <td>2020</td>\n",
       "      <td>PG-13</td>\n",
       "      <td>90 min</td>\n",
       "      <td>Documentaries</td>\n",
       "      <td>As her father nears the end of his life, filmm...</td>\n",
       "    </tr>\n",
       "    <tr>\n",
       "      <th>1</th>\n",
       "      <td>s2</td>\n",
       "      <td>TV Show</td>\n",
       "      <td>Blood &amp; Water</td>\n",
       "      <td>NaN</td>\n",
       "      <td>Ama Qamata, Khosi Ngema, Gail Mabalane, Thaban...</td>\n",
       "      <td>South Africa</td>\n",
       "      <td>September 24, 2021</td>\n",
       "      <td>2021</td>\n",
       "      <td>TV-MA</td>\n",
       "      <td>2 Seasons</td>\n",
       "      <td>International TV Shows, TV Dramas, TV Mysteries</td>\n",
       "      <td>After crossing paths at a party, a Cape Town t...</td>\n",
       "    </tr>\n",
       "    <tr>\n",
       "      <th>2</th>\n",
       "      <td>s3</td>\n",
       "      <td>TV Show</td>\n",
       "      <td>Ganglands</td>\n",
       "      <td>Julien Leclercq</td>\n",
       "      <td>Sami Bouajila, Tracy Gotoas, Samuel Jouy, Nabi...</td>\n",
       "      <td>NaN</td>\n",
       "      <td>September 24, 2021</td>\n",
       "      <td>2021</td>\n",
       "      <td>TV-MA</td>\n",
       "      <td>1 Season</td>\n",
       "      <td>Crime TV Shows, International TV Shows, TV Act...</td>\n",
       "      <td>To protect his family from a powerful drug lor...</td>\n",
       "    </tr>\n",
       "    <tr>\n",
       "      <th>3</th>\n",
       "      <td>s4</td>\n",
       "      <td>TV Show</td>\n",
       "      <td>Jailbirds New Orleans</td>\n",
       "      <td>NaN</td>\n",
       "      <td>NaN</td>\n",
       "      <td>NaN</td>\n",
       "      <td>September 24, 2021</td>\n",
       "      <td>2021</td>\n",
       "      <td>TV-MA</td>\n",
       "      <td>1 Season</td>\n",
       "      <td>Docuseries, Reality TV</td>\n",
       "      <td>Feuds, flirtations and toilet talk go down amo...</td>\n",
       "    </tr>\n",
       "    <tr>\n",
       "      <th>4</th>\n",
       "      <td>s5</td>\n",
       "      <td>TV Show</td>\n",
       "      <td>Kota Factory</td>\n",
       "      <td>NaN</td>\n",
       "      <td>Mayur More, Jitendra Kumar, Ranjan Raj, Alam K...</td>\n",
       "      <td>India</td>\n",
       "      <td>September 24, 2021</td>\n",
       "      <td>2021</td>\n",
       "      <td>TV-MA</td>\n",
       "      <td>2 Seasons</td>\n",
       "      <td>International TV Shows, Romantic TV Shows, TV ...</td>\n",
       "      <td>In a city of coaching centers known to train I...</td>\n",
       "    </tr>\n",
       "  </tbody>\n",
       "</table>\n",
       "</div>"
      ],
      "text/plain": [
       "  show_id     type                  title         director  \\\n",
       "0      s1    Movie   Dick Johnson Is Dead  Kirsten Johnson   \n",
       "1      s2  TV Show          Blood & Water              NaN   \n",
       "2      s3  TV Show              Ganglands  Julien Leclercq   \n",
       "3      s4  TV Show  Jailbirds New Orleans              NaN   \n",
       "4      s5  TV Show           Kota Factory              NaN   \n",
       "\n",
       "                                                cast        country  \\\n",
       "0                                                NaN  United States   \n",
       "1  Ama Qamata, Khosi Ngema, Gail Mabalane, Thaban...   South Africa   \n",
       "2  Sami Bouajila, Tracy Gotoas, Samuel Jouy, Nabi...            NaN   \n",
       "3                                                NaN            NaN   \n",
       "4  Mayur More, Jitendra Kumar, Ranjan Raj, Alam K...          India   \n",
       "\n",
       "           date_added  release_year rating   duration  \\\n",
       "0  September 25, 2021          2020  PG-13     90 min   \n",
       "1  September 24, 2021          2021  TV-MA  2 Seasons   \n",
       "2  September 24, 2021          2021  TV-MA   1 Season   \n",
       "3  September 24, 2021          2021  TV-MA   1 Season   \n",
       "4  September 24, 2021          2021  TV-MA  2 Seasons   \n",
       "\n",
       "                                           listed_in  \\\n",
       "0                                      Documentaries   \n",
       "1    International TV Shows, TV Dramas, TV Mysteries   \n",
       "2  Crime TV Shows, International TV Shows, TV Act...   \n",
       "3                             Docuseries, Reality TV   \n",
       "4  International TV Shows, Romantic TV Shows, TV ...   \n",
       "\n",
       "                                         description  \n",
       "0  As her father nears the end of his life, filmm...  \n",
       "1  After crossing paths at a party, a Cape Town t...  \n",
       "2  To protect his family from a powerful drug lor...  \n",
       "3  Feuds, flirtations and toilet talk go down amo...  \n",
       "4  In a city of coaching centers known to train I...  "
      ]
     },
     "execution_count": 2,
     "metadata": {},
     "output_type": "execute_result"
    }
   ],
   "source": [
    "netflix_origin = pd.read_csv('./data/netflix_titles.csv')\n",
    "netflix_origin.head()"
   ]
  },
  {
   "cell_type": "code",
   "execution_count": 3,
   "id": "e43ce31d",
   "metadata": {},
   "outputs": [
    {
     "data": {
      "text/plain": [
       "show_id            0\n",
       "type               0\n",
       "title              0\n",
       "director        2634\n",
       "cast             825\n",
       "country          831\n",
       "date_added        10\n",
       "release_year       0\n",
       "rating             4\n",
       "duration           3\n",
       "listed_in          0\n",
       "description        0\n",
       "dtype: int64"
      ]
     },
     "execution_count": 3,
     "metadata": {},
     "output_type": "execute_result"
    }
   ],
   "source": [
    "netflix_origin.isnull().sum()"
   ]
  },
  {
   "cell_type": "markdown",
   "id": "298efbb6",
   "metadata": {},
   "source": [
    "date_added 결측치 \n",
    "- 10개 drop"
   ]
  },
  {
   "cell_type": "code",
   "execution_count": 4,
   "id": "dea77482",
   "metadata": {},
   "outputs": [],
   "source": [
    "netflix_origin = netflix_origin.loc[netflix_origin['date_added'].isnull() == False]\n",
    "\n",
    "netflix_origin[\"date_added\"] = pd.to_datetime(netflix_origin['date_added'])\n",
    "netflix_origin['year_added'] = netflix_origin['date_added'].dt.year\n",
    "netflix_origin['month_added'] = netflix_origin['date_added'].dt.month\n",
    "\n",
    "#실수형을 정수로변환\n",
    "netflix_origin[\"year_added\"] = netflix_origin[\"year_added\"].astype(np.int64)\n",
    "netflix_origin[\"month_added\"] = netflix_origin[\"month_added\"].astype(np.int64)"
   ]
  },
  {
   "cell_type": "code",
   "execution_count": 5,
   "id": "fbd6ad24",
   "metadata": {},
   "outputs": [
    {
     "data": {
      "text/html": [
       "<div>\n",
       "<style scoped>\n",
       "    .dataframe tbody tr th:only-of-type {\n",
       "        vertical-align: middle;\n",
       "    }\n",
       "\n",
       "    .dataframe tbody tr th {\n",
       "        vertical-align: top;\n",
       "    }\n",
       "\n",
       "    .dataframe thead th {\n",
       "        text-align: right;\n",
       "    }\n",
       "</style>\n",
       "<table border=\"1\" class=\"dataframe\">\n",
       "  <thead>\n",
       "    <tr style=\"text-align: right;\">\n",
       "      <th></th>\n",
       "      <th>tconst</th>\n",
       "      <th>averageRating</th>\n",
       "      <th>numVotes</th>\n",
       "    </tr>\n",
       "  </thead>\n",
       "  <tbody>\n",
       "    <tr>\n",
       "      <th>0</th>\n",
       "      <td>tt0000001</td>\n",
       "      <td>5.7</td>\n",
       "      <td>1864</td>\n",
       "    </tr>\n",
       "    <tr>\n",
       "      <th>1</th>\n",
       "      <td>tt0000002</td>\n",
       "      <td>6.0</td>\n",
       "      <td>244</td>\n",
       "    </tr>\n",
       "    <tr>\n",
       "      <th>2</th>\n",
       "      <td>tt0000003</td>\n",
       "      <td>6.5</td>\n",
       "      <td>1632</td>\n",
       "    </tr>\n",
       "    <tr>\n",
       "      <th>3</th>\n",
       "      <td>tt0000004</td>\n",
       "      <td>5.8</td>\n",
       "      <td>158</td>\n",
       "    </tr>\n",
       "    <tr>\n",
       "      <th>4</th>\n",
       "      <td>tt0000005</td>\n",
       "      <td>6.2</td>\n",
       "      <td>2459</td>\n",
       "    </tr>\n",
       "  </tbody>\n",
       "</table>\n",
       "</div>"
      ],
      "text/plain": [
       "      tconst  averageRating  numVotes\n",
       "0  tt0000001            5.7      1864\n",
       "1  tt0000002            6.0       244\n",
       "2  tt0000003            6.5      1632\n",
       "3  tt0000004            5.8       158\n",
       "4  tt0000005            6.2      2459"
      ]
     },
     "execution_count": 5,
     "metadata": {},
     "output_type": "execute_result"
    }
   ],
   "source": [
    "imdb_ratings = pd.read_csv('./data/data.tsv', sep='\\t')\n",
    "imdb_ratings.head()"
   ]
  },
  {
   "cell_type": "code",
   "execution_count": 6,
   "id": "87077f3e",
   "metadata": {},
   "outputs": [
    {
     "data": {
      "text/html": [
       "<div>\n",
       "<style scoped>\n",
       "    .dataframe tbody tr th:only-of-type {\n",
       "        vertical-align: middle;\n",
       "    }\n",
       "\n",
       "    .dataframe tbody tr th {\n",
       "        vertical-align: top;\n",
       "    }\n",
       "\n",
       "    .dataframe thead th {\n",
       "        text-align: right;\n",
       "    }\n",
       "</style>\n",
       "<table border=\"1\" class=\"dataframe\">\n",
       "  <thead>\n",
       "    <tr style=\"text-align: right;\">\n",
       "      <th></th>\n",
       "      <th>tconst</th>\n",
       "      <th>titleType</th>\n",
       "      <th>primaryTitle</th>\n",
       "      <th>originalTitle</th>\n",
       "      <th>isAdult</th>\n",
       "      <th>startYear</th>\n",
       "      <th>endYear</th>\n",
       "      <th>runtimeMinutes</th>\n",
       "      <th>genres</th>\n",
       "    </tr>\n",
       "  </thead>\n",
       "  <tbody>\n",
       "    <tr>\n",
       "      <th>0</th>\n",
       "      <td>tt0000001</td>\n",
       "      <td>short</td>\n",
       "      <td>Carmencita</td>\n",
       "      <td>Carmencita</td>\n",
       "      <td>0</td>\n",
       "      <td>1894</td>\n",
       "      <td>\\N</td>\n",
       "      <td>1</td>\n",
       "      <td>Documentary,Short</td>\n",
       "    </tr>\n",
       "    <tr>\n",
       "      <th>1</th>\n",
       "      <td>tt0000002</td>\n",
       "      <td>short</td>\n",
       "      <td>Le clown et ses chiens</td>\n",
       "      <td>Le clown et ses chiens</td>\n",
       "      <td>0</td>\n",
       "      <td>1892</td>\n",
       "      <td>\\N</td>\n",
       "      <td>5</td>\n",
       "      <td>Animation,Short</td>\n",
       "    </tr>\n",
       "    <tr>\n",
       "      <th>2</th>\n",
       "      <td>tt0000003</td>\n",
       "      <td>short</td>\n",
       "      <td>Pauvre Pierrot</td>\n",
       "      <td>Pauvre Pierrot</td>\n",
       "      <td>0</td>\n",
       "      <td>1892</td>\n",
       "      <td>\\N</td>\n",
       "      <td>4</td>\n",
       "      <td>Animation,Comedy,Romance</td>\n",
       "    </tr>\n",
       "    <tr>\n",
       "      <th>3</th>\n",
       "      <td>tt0000004</td>\n",
       "      <td>short</td>\n",
       "      <td>Un bon bock</td>\n",
       "      <td>Un bon bock</td>\n",
       "      <td>0</td>\n",
       "      <td>1892</td>\n",
       "      <td>\\N</td>\n",
       "      <td>12</td>\n",
       "      <td>Animation,Short</td>\n",
       "    </tr>\n",
       "    <tr>\n",
       "      <th>4</th>\n",
       "      <td>tt0000005</td>\n",
       "      <td>short</td>\n",
       "      <td>Blacksmith Scene</td>\n",
       "      <td>Blacksmith Scene</td>\n",
       "      <td>0</td>\n",
       "      <td>1893</td>\n",
       "      <td>\\N</td>\n",
       "      <td>1</td>\n",
       "      <td>Comedy,Short</td>\n",
       "    </tr>\n",
       "  </tbody>\n",
       "</table>\n",
       "</div>"
      ],
      "text/plain": [
       "      tconst titleType            primaryTitle           originalTitle  \\\n",
       "0  tt0000001     short              Carmencita              Carmencita   \n",
       "1  tt0000002     short  Le clown et ses chiens  Le clown et ses chiens   \n",
       "2  tt0000003     short          Pauvre Pierrot          Pauvre Pierrot   \n",
       "3  tt0000004     short             Un bon bock             Un bon bock   \n",
       "4  tt0000005     short        Blacksmith Scene        Blacksmith Scene   \n",
       "\n",
       "  isAdult startYear endYear runtimeMinutes                    genres  \n",
       "0       0      1894      \\N              1         Documentary,Short  \n",
       "1       0      1892      \\N              5           Animation,Short  \n",
       "2       0      1892      \\N              4  Animation,Comedy,Romance  \n",
       "3       0      1892      \\N             12           Animation,Short  \n",
       "4       0      1893      \\N              1              Comedy,Short  "
      ]
     },
     "execution_count": 6,
     "metadata": {},
     "output_type": "execute_result"
    }
   ],
   "source": [
    "imdb_basics = pd.read_csv('./data/basics_data.tsv', sep='\\t')\n",
    "imdb_basics.head()"
   ]
  },
  {
   "cell_type": "code",
   "execution_count": 7,
   "id": "ef92ca60",
   "metadata": {},
   "outputs": [
    {
     "data": {
      "text/plain": [
       "1221334"
      ]
     },
     "execution_count": 7,
     "metadata": {},
     "output_type": "execute_result"
    }
   ],
   "source": [
    "len(set(imdb_basics.tconst)) # 8749012 모두 고유한 영화 index\n",
    "len(set(imdb_ratings.tconst)) # 1221334 모두 고유한 영화 index"
   ]
  },
  {
   "cell_type": "code",
   "execution_count": 8,
   "id": "dcd8f1f8",
   "metadata": {},
   "outputs": [
    {
     "data": {
      "text/plain": [
       "array(['short', 'movie', 'tvEpisode', 'tvSeries', 'tvShort', 'tvMovie',\n",
       "       'tvMiniSeries', 'tvSpecial', 'video', 'videoGame', 'tvPilot'],\n",
       "      dtype=object)"
      ]
     },
     "execution_count": 8,
     "metadata": {},
     "output_type": "execute_result"
    }
   ],
   "source": [
    "#컨텐츠 타입 \n",
    "imdb_basics.titleType.unique() "
   ]
  },
  {
   "cell_type": "markdown",
   "id": "878c936d",
   "metadata": {},
   "source": [
    "### Dataset join"
   ]
  },
  {
   "cell_type": "code",
   "execution_count": 9,
   "id": "61f193ec",
   "metadata": {},
   "outputs": [],
   "source": [
    "#컨텐츠 타입중 movie와 tvSeries만 사용\n",
    "imdb_basics=imdb_basics[ (imdb_basics.titleType=='movie') | (imdb_basics.titleType=='tvSeries') ] \n",
    "imdb_basics=imdb_basics[imdb_basics.startYear.apply(lambda x: str(x).isnumeric())] #startYear join시 사용\n",
    "imdb=pd.merge(imdb_ratings.set_index('tconst'), imdb_basics.set_index('tconst'), left_index=True, right_index=True, how='inner')"
   ]
  },
  {
   "cell_type": "code",
   "execution_count": 10,
   "id": "3e2dc0d3",
   "metadata": {},
   "outputs": [
    {
     "name": "stdout",
     "output_type": "stream",
     "text": [
      "(356045, 10)\n"
     ]
    },
    {
     "data": {
      "text/html": [
       "<div>\n",
       "<style scoped>\n",
       "    .dataframe tbody tr th:only-of-type {\n",
       "        vertical-align: middle;\n",
       "    }\n",
       "\n",
       "    .dataframe tbody tr th {\n",
       "        vertical-align: top;\n",
       "    }\n",
       "\n",
       "    .dataframe thead th {\n",
       "        text-align: right;\n",
       "    }\n",
       "</style>\n",
       "<table border=\"1\" class=\"dataframe\">\n",
       "  <thead>\n",
       "    <tr style=\"text-align: right;\">\n",
       "      <th></th>\n",
       "      <th>averageRating</th>\n",
       "      <th>numVotes</th>\n",
       "      <th>titleType</th>\n",
       "      <th>primaryTitle</th>\n",
       "      <th>originalTitle</th>\n",
       "      <th>isAdult</th>\n",
       "      <th>startYear</th>\n",
       "      <th>endYear</th>\n",
       "      <th>runtimeMinutes</th>\n",
       "      <th>genres</th>\n",
       "    </tr>\n",
       "    <tr>\n",
       "      <th>tconst</th>\n",
       "      <th></th>\n",
       "      <th></th>\n",
       "      <th></th>\n",
       "      <th></th>\n",
       "      <th></th>\n",
       "      <th></th>\n",
       "      <th></th>\n",
       "      <th></th>\n",
       "      <th></th>\n",
       "      <th></th>\n",
       "    </tr>\n",
       "  </thead>\n",
       "  <tbody>\n",
       "    <tr>\n",
       "      <th>tt0000502</th>\n",
       "      <td>4.5</td>\n",
       "      <td>14</td>\n",
       "      <td>movie</td>\n",
       "      <td>Bohemios</td>\n",
       "      <td>Bohemios</td>\n",
       "      <td>0</td>\n",
       "      <td>1905</td>\n",
       "      <td>\\N</td>\n",
       "      <td>100</td>\n",
       "      <td>\\N</td>\n",
       "    </tr>\n",
       "    <tr>\n",
       "      <th>tt0000574</th>\n",
       "      <td>6.0</td>\n",
       "      <td>755</td>\n",
       "      <td>movie</td>\n",
       "      <td>The Story of the Kelly Gang</td>\n",
       "      <td>The Story of the Kelly Gang</td>\n",
       "      <td>0</td>\n",
       "      <td>1906</td>\n",
       "      <td>\\N</td>\n",
       "      <td>70</td>\n",
       "      <td>Action,Adventure,Biography</td>\n",
       "    </tr>\n",
       "    <tr>\n",
       "      <th>tt0000591</th>\n",
       "      <td>4.6</td>\n",
       "      <td>17</td>\n",
       "      <td>movie</td>\n",
       "      <td>The Prodigal Son</td>\n",
       "      <td>L'enfant prodigue</td>\n",
       "      <td>0</td>\n",
       "      <td>1907</td>\n",
       "      <td>\\N</td>\n",
       "      <td>90</td>\n",
       "      <td>Drama</td>\n",
       "    </tr>\n",
       "    <tr>\n",
       "      <th>tt0000615</th>\n",
       "      <td>4.5</td>\n",
       "      <td>23</td>\n",
       "      <td>movie</td>\n",
       "      <td>Robbery Under Arms</td>\n",
       "      <td>Robbery Under Arms</td>\n",
       "      <td>0</td>\n",
       "      <td>1907</td>\n",
       "      <td>\\N</td>\n",
       "      <td>\\N</td>\n",
       "      <td>Drama</td>\n",
       "    </tr>\n",
       "    <tr>\n",
       "      <th>tt0000630</th>\n",
       "      <td>3.8</td>\n",
       "      <td>24</td>\n",
       "      <td>movie</td>\n",
       "      <td>Hamlet</td>\n",
       "      <td>Amleto</td>\n",
       "      <td>0</td>\n",
       "      <td>1908</td>\n",
       "      <td>\\N</td>\n",
       "      <td>\\N</td>\n",
       "      <td>Drama</td>\n",
       "    </tr>\n",
       "  </tbody>\n",
       "</table>\n",
       "</div>"
      ],
      "text/plain": [
       "           averageRating  numVotes titleType                 primaryTitle  \\\n",
       "tconst                                                                      \n",
       "tt0000502            4.5        14     movie                     Bohemios   \n",
       "tt0000574            6.0       755     movie  The Story of the Kelly Gang   \n",
       "tt0000591            4.6        17     movie             The Prodigal Son   \n",
       "tt0000615            4.5        23     movie           Robbery Under Arms   \n",
       "tt0000630            3.8        24     movie                       Hamlet   \n",
       "\n",
       "                         originalTitle isAdult startYear endYear  \\\n",
       "tconst                                                             \n",
       "tt0000502                     Bohemios       0      1905      \\N   \n",
       "tt0000574  The Story of the Kelly Gang       0      1906      \\N   \n",
       "tt0000591            L'enfant prodigue       0      1907      \\N   \n",
       "tt0000615           Robbery Under Arms       0      1907      \\N   \n",
       "tt0000630                       Amleto       0      1908      \\N   \n",
       "\n",
       "          runtimeMinutes                      genres  \n",
       "tconst                                                \n",
       "tt0000502            100                          \\N  \n",
       "tt0000574             70  Action,Adventure,Biography  \n",
       "tt0000591             90                       Drama  \n",
       "tt0000615             \\N                       Drama  \n",
       "tt0000630             \\N                       Drama  "
      ]
     },
     "execution_count": 10,
     "metadata": {},
     "output_type": "execute_result"
    }
   ],
   "source": [
    "print(imdb.shape)\n",
    "imdb.head()"
   ]
  },
  {
   "cell_type": "code",
   "execution_count": 11,
   "id": "a19b2f19",
   "metadata": {},
   "outputs": [
    {
     "data": {
      "text/plain": [
       "array([1905, 1906, 1907, ..., '2019', '2019', '2017'], dtype=object)"
      ]
     },
     "execution_count": 11,
     "metadata": {},
     "output_type": "execute_result"
    }
   ],
   "source": [
    "imdb.startYear.values"
   ]
  },
  {
   "cell_type": "code",
   "execution_count": 12,
   "id": "9d8c252d",
   "metadata": {},
   "outputs": [
    {
     "data": {
      "text/html": [
       "<div>\n",
       "<style scoped>\n",
       "    .dataframe tbody tr th:only-of-type {\n",
       "        vertical-align: middle;\n",
       "    }\n",
       "\n",
       "    .dataframe tbody tr th {\n",
       "        vertical-align: top;\n",
       "    }\n",
       "\n",
       "    .dataframe thead th {\n",
       "        text-align: right;\n",
       "    }\n",
       "</style>\n",
       "<table border=\"1\" class=\"dataframe\">\n",
       "  <thead>\n",
       "    <tr style=\"text-align: right;\">\n",
       "      <th></th>\n",
       "      <th>show_id</th>\n",
       "      <th>type</th>\n",
       "      <th>title</th>\n",
       "      <th>director</th>\n",
       "      <th>cast</th>\n",
       "      <th>country</th>\n",
       "      <th>date_added</th>\n",
       "      <th>release_year</th>\n",
       "      <th>rating</th>\n",
       "      <th>duration</th>\n",
       "      <th>...</th>\n",
       "      <th>averageRating</th>\n",
       "      <th>numVotes</th>\n",
       "      <th>titleType</th>\n",
       "      <th>primaryTitle</th>\n",
       "      <th>originalTitle</th>\n",
       "      <th>isAdult</th>\n",
       "      <th>startYear</th>\n",
       "      <th>endYear</th>\n",
       "      <th>runtimeMinutes</th>\n",
       "      <th>genres</th>\n",
       "    </tr>\n",
       "  </thead>\n",
       "  <tbody>\n",
       "    <tr>\n",
       "      <th>0</th>\n",
       "      <td>s1</td>\n",
       "      <td>Movie</td>\n",
       "      <td>dick johnson is dead</td>\n",
       "      <td>Kirsten Johnson</td>\n",
       "      <td>NaN</td>\n",
       "      <td>United States</td>\n",
       "      <td>2021-09-25</td>\n",
       "      <td>2020</td>\n",
       "      <td>PG-13</td>\n",
       "      <td>90 min</td>\n",
       "      <td>...</td>\n",
       "      <td>7.4</td>\n",
       "      <td>6233</td>\n",
       "      <td>movie</td>\n",
       "      <td>dick johnson is dead</td>\n",
       "      <td>Dick Johnson Is Dead</td>\n",
       "      <td>0</td>\n",
       "      <td>2020</td>\n",
       "      <td>\\N</td>\n",
       "      <td>89</td>\n",
       "      <td>Biography,Documentary,Drama</td>\n",
       "    </tr>\n",
       "    <tr>\n",
       "      <th>1</th>\n",
       "      <td>s3</td>\n",
       "      <td>TV Show</td>\n",
       "      <td>ganglands</td>\n",
       "      <td>Julien Leclercq</td>\n",
       "      <td>Sami Bouajila, Tracy Gotoas, Samuel Jouy, Nabi...</td>\n",
       "      <td>NaN</td>\n",
       "      <td>2021-09-24</td>\n",
       "      <td>2021</td>\n",
       "      <td>TV-MA</td>\n",
       "      <td>1 Season</td>\n",
       "      <td>...</td>\n",
       "      <td>7.0</td>\n",
       "      <td>2342</td>\n",
       "      <td>tvSeries</td>\n",
       "      <td>ganglands</td>\n",
       "      <td>Braqueurs</td>\n",
       "      <td>0</td>\n",
       "      <td>2021</td>\n",
       "      <td>\\N</td>\n",
       "      <td>44</td>\n",
       "      <td>Action,Crime,Drama</td>\n",
       "    </tr>\n",
       "    <tr>\n",
       "      <th>2</th>\n",
       "      <td>s4</td>\n",
       "      <td>TV Show</td>\n",
       "      <td>jailbirds new orleans</td>\n",
       "      <td>NaN</td>\n",
       "      <td>NaN</td>\n",
       "      <td>NaN</td>\n",
       "      <td>2021-09-24</td>\n",
       "      <td>2021</td>\n",
       "      <td>TV-MA</td>\n",
       "      <td>1 Season</td>\n",
       "      <td>...</td>\n",
       "      <td>6.7</td>\n",
       "      <td>194</td>\n",
       "      <td>tvSeries</td>\n",
       "      <td>jailbirds new orleans</td>\n",
       "      <td>Jailbirds New Orleans</td>\n",
       "      <td>0</td>\n",
       "      <td>2021</td>\n",
       "      <td>\\N</td>\n",
       "      <td>\\N</td>\n",
       "      <td>Documentary,Reality-TV</td>\n",
       "    </tr>\n",
       "    <tr>\n",
       "      <th>3</th>\n",
       "      <td>s7</td>\n",
       "      <td>Movie</td>\n",
       "      <td>my little pony: a new generation</td>\n",
       "      <td>Robert Cullen, José Luis Ucha</td>\n",
       "      <td>Vanessa Hudgens, Kimiko Glenn, James Marsden, ...</td>\n",
       "      <td>NaN</td>\n",
       "      <td>2021-09-24</td>\n",
       "      <td>2021</td>\n",
       "      <td>PG</td>\n",
       "      <td>91 min</td>\n",
       "      <td>...</td>\n",
       "      <td>6.9</td>\n",
       "      <td>3261</td>\n",
       "      <td>movie</td>\n",
       "      <td>my little pony: a new generation</td>\n",
       "      <td>My Little Pony: A New Generation</td>\n",
       "      <td>0</td>\n",
       "      <td>2021</td>\n",
       "      <td>\\N</td>\n",
       "      <td>90</td>\n",
       "      <td>Adventure,Animation,Comedy</td>\n",
       "    </tr>\n",
       "    <tr>\n",
       "      <th>4</th>\n",
       "      <td>s8</td>\n",
       "      <td>Movie</td>\n",
       "      <td>sankofa</td>\n",
       "      <td>Haile Gerima</td>\n",
       "      <td>Kofi Ghanaba, Oyafunmike Ogunlano, Alexandra D...</td>\n",
       "      <td>United States, Ghana, Burkina Faso, United Kin...</td>\n",
       "      <td>2021-09-24</td>\n",
       "      <td>1993</td>\n",
       "      <td>TV-MA</td>\n",
       "      <td>125 min</td>\n",
       "      <td>...</td>\n",
       "      <td>7.0</td>\n",
       "      <td>662</td>\n",
       "      <td>movie</td>\n",
       "      <td>sankofa</td>\n",
       "      <td>Sankofa</td>\n",
       "      <td>0</td>\n",
       "      <td>1993</td>\n",
       "      <td>\\N</td>\n",
       "      <td>125</td>\n",
       "      <td>Drama</td>\n",
       "    </tr>\n",
       "  </tbody>\n",
       "</table>\n",
       "<p>5 rows × 24 columns</p>\n",
       "</div>"
      ],
      "text/plain": [
       "  show_id     type                             title  \\\n",
       "0      s1    Movie              dick johnson is dead   \n",
       "1      s3  TV Show                         ganglands   \n",
       "2      s4  TV Show             jailbirds new orleans   \n",
       "3      s7    Movie  my little pony: a new generation   \n",
       "4      s8    Movie                           sankofa   \n",
       "\n",
       "                        director  \\\n",
       "0                Kirsten Johnson   \n",
       "1                Julien Leclercq   \n",
       "2                            NaN   \n",
       "3  Robert Cullen, José Luis Ucha   \n",
       "4                   Haile Gerima   \n",
       "\n",
       "                                                cast  \\\n",
       "0                                                NaN   \n",
       "1  Sami Bouajila, Tracy Gotoas, Samuel Jouy, Nabi...   \n",
       "2                                                NaN   \n",
       "3  Vanessa Hudgens, Kimiko Glenn, James Marsden, ...   \n",
       "4  Kofi Ghanaba, Oyafunmike Ogunlano, Alexandra D...   \n",
       "\n",
       "                                             country date_added  release_year  \\\n",
       "0                                      United States 2021-09-25          2020   \n",
       "1                                                NaN 2021-09-24          2021   \n",
       "2                                                NaN 2021-09-24          2021   \n",
       "3                                                NaN 2021-09-24          2021   \n",
       "4  United States, Ghana, Burkina Faso, United Kin... 2021-09-24          1993   \n",
       "\n",
       "  rating  duration  ... averageRating numVotes  titleType  \\\n",
       "0  PG-13    90 min  ...           7.4     6233      movie   \n",
       "1  TV-MA  1 Season  ...           7.0     2342   tvSeries   \n",
       "2  TV-MA  1 Season  ...           6.7      194   tvSeries   \n",
       "3     PG    91 min  ...           6.9     3261      movie   \n",
       "4  TV-MA   125 min  ...           7.0      662      movie   \n",
       "\n",
       "                       primaryTitle                     originalTitle  \\\n",
       "0              dick johnson is dead              Dick Johnson Is Dead   \n",
       "1                         ganglands                         Braqueurs   \n",
       "2             jailbirds new orleans             Jailbirds New Orleans   \n",
       "3  my little pony: a new generation  My Little Pony: A New Generation   \n",
       "4                           sankofa                           Sankofa   \n",
       "\n",
       "   isAdult startYear endYear runtimeMinutes                       genres  \n",
       "0        0      2020      \\N             89  Biography,Documentary,Drama  \n",
       "1        0      2021      \\N             44           Action,Crime,Drama  \n",
       "2        0      2021      \\N             \\N       Documentary,Reality-TV  \n",
       "3        0      2021      \\N             90   Adventure,Animation,Comedy  \n",
       "4        0      1993      \\N            125                        Drama  \n",
       "\n",
       "[5 rows x 24 columns]"
      ]
     },
     "execution_count": 12,
     "metadata": {},
     "output_type": "execute_result"
    }
   ],
   "source": [
    "imdb.startYear = imdb.startYear.astype(np.int64)\n",
    "netflix_origin['title']=netflix_origin['title'].str.lower()\n",
    "imdb['primaryTitle']=imdb['primaryTitle'].str.lower()\n",
    "\n",
    "netfilx_imdb=pd.merge(netflix_origin, imdb, left_on=['title', 'release_year'], right_on=['primaryTitle', 'startYear'], how='inner')\n",
    "netfilx_imdb.head()"
   ]
  },
  {
   "cell_type": "code",
   "execution_count": 13,
   "id": "08650734",
   "metadata": {},
   "outputs": [],
   "source": [
    "df_netfilx = netfilx_imdb[['type', 'title', 'director', 'cast', 'country', 'date_added',\n",
    "       'release_year',  'description', 'year_added', 'month_added', 'averageRating', 'numVotes', \n",
    "       'primaryTitle', 'originalTitle', 'rating', 'isAdult', 'startYear', 'endYear',\n",
    "        'duration', 'runtimeMinutes', 'genres']]\n",
    "\n",
    "# Movie \n",
    "df_movie = df_netfilx[df_netfilx.type =='Movie'].reset_index(drop=True)\n",
    "# TvShow \n",
    "df_tvshow = df_netfilx[df_netfilx.type =='TV Show'].reset_index(drop=True)"
   ]
  },
  {
   "cell_type": "markdown",
   "id": "031a972c",
   "metadata": {},
   "source": [
    "---\n",
    "### EDA"
   ]
  },
  {
   "cell_type": "code",
   "execution_count": 14,
   "id": "fb9c010c",
   "metadata": {},
   "outputs": [
    {
     "name": "stdout",
     "output_type": "stream",
     "text": [
      "7 [2015, 2016, 2017, 2018, 2019, 2020, 2021]\n"
     ]
    }
   ],
   "source": [
    "list_added_year= list(set(df_tvshow.year_added))\n",
    "list_added_year = sorted(list_added_year)\n",
    "print(len(list_added_year), list_added_year)"
   ]
  },
  {
   "cell_type": "code",
   "execution_count": 15,
   "id": "ffd50774",
   "metadata": {
    "scrolled": true
   },
   "outputs": [
    {
     "data": {
      "text/plain": [
       "Text(0.5, 1.0, 'Contents over the years')"
      ]
     },
     "execution_count": 15,
     "metadata": {},
     "output_type": "execute_result"
    },
    {
     "data": {
      "image/png": "[encoded data removed]",
      "text/plain": [
       "<Figure size 720x504 with 1 Axes>"
      ]
     },
     "metadata": {
      "needs_background": "light"
     },
     "output_type": "display_data"
    }
   ],
   "source": [
    "# 연도별 컨텐츠 개수\n",
    "plt.figure(figsize=(10,7))\n",
    "sns.set_style('whitegrid')\n",
    "sns.countplot(data=df_netfilx, x='year_added' , hue='type', order=list_added_year)\n",
    "plt.title('Contents over the years')"
   ]
  },
  {
   "cell_type": "markdown",
   "id": "9b5796be",
   "metadata": {},
   "source": [
    "- 연도별 컨텐츠 등록 데이터 분석\n",
    " - 2015년부터 Movie, TvShow 대해 모두 넷플릭스에 등록되는 컨텐츠가 많아지고 있습니다. \n",
    " - TV Show의 등록수가 Movie에 비해 적은 수치이지만 이는 Tv show의 경우 시즌 1개가 하나의 카운트로 잡혔기 때문으로 넷플릭스가 Movie에 대해서만 많이 투자하는 것은 아닙니다.\n",
    "\n",
    "- 두분야에 대해 상세하게 알아보면 아래의 그래프처럼 연도별에 따라 비슷한 흐름으로 컨텐츠가 등록되고 있는것을 알 수 있습니다."
   ]
  },
  {
   "cell_type": "code",
   "execution_count": 60,
   "id": "8d49298d",
   "metadata": {
    "scrolled": true
   },
   "outputs": [
    {
     "data": {
      "text/plain": [
       "Text(0.5, 1.0, 'Contents over the years on a TV show')"
      ]
     },
     "execution_count": 60,
     "metadata": {},
     "output_type": "execute_result"
    },
    {
     "data": {
      "image/png": "[encoded data removed]",
      "text/plain": [
       "<Figure size 720x504 with 1 Axes>"
      ]
     },
     "metadata": {},
     "output_type": "display_data"
    },
    {
     "data": {
      "image/png": "[encoded data removed]",
      "text/plain": [
       "<Figure size 720x504 with 1 Axes>"
      ]
     },
     "metadata": {},
     "output_type": "display_data"
    }
   ],
   "source": [
    "# 연도별 Movie 컨텐츠 개수\n",
    "plt.figure(figsize=(10,7))\n",
    "plt.subplot(211)\n",
    "sns.countplot(data=df_movie, x='year_added', order=list_added_year)\n",
    "plt.title('Contents over the years on Movie')\n",
    "\n",
    "# 연도별 TvShow 컨텐츠 개수\n",
    "plt.figure(figsize=(10,7))\n",
    "plt.subplot(212)\n",
    "sns.countplot(data=df_tvshow, x='year_added', order=list_added_year)\n",
    "plt.title('Contents over the years on a TV show')"
   ]
  },
  {
   "cell_type": "markdown",
   "id": "9bf4bc25",
   "metadata": {},
   "source": [
    "- 연도별 컨텐츠 등록 데이터 분석2\n",
    " - 2019년에 갑자기 등록되는 컨텐츠가 늘어납니다. 코로나의 영향으로 집에서 영화를 보는 사람이 늘어나서일까요?\n",
    " - 2018년과 2019년 월별 데이터를 분석해보겠습니다. \n",
    " \n",
    "\n",
    "- 2016년??"
   ]
  },
  {
   "cell_type": "code",
   "execution_count": 20,
   "id": "e617a000",
   "metadata": {
    "scrolled": false
   },
   "outputs": [
    {
     "data": {
      "image/png": "[encoded data removed]",
      "text/plain": [
       "<Figure size 1080x360 with 1 Axes>"
      ]
     },
     "metadata": {},
     "output_type": "display_data"
    }
   ],
   "source": [
    "df_movie['month_added'] = df_movie['month_added'].apply(lambda x: \"{:0>2d}\".format(x))\n",
    "df_movie['months'] = df_movie.year_added.map(str) + \"-\" + df_movie.month_added\n",
    "df_monthmv = df_movie[(df_movie.year_added==2019 )|(df_movie.year_added==2020 )].sort_values('months')\n",
    "\n",
    "\n",
    "# 월별 Movie 컨텐츠수\n",
    "plt.figure(figsize=(15,5))\n",
    "plt.subplot(211)\n",
    "g = sns.countplot(data=df_monthmv, x='months')\n",
    "g.set_xticklabels(g.get_xticklabels(), rotation=45)\n",
    "plt.title('Contents over the years on Movie')\n",
    "plt.show()"
   ]
  },
  {
   "cell_type": "markdown",
   "id": "88925628",
   "metadata": {},
   "source": [
    "### 2019~ 2020년 월별 컨텐츠 등록수 \n",
    "- 디즈니 플러스, 애플TV 서비스 런칭의 영향\n",
    " - 코로나19는 2019년 12월 중국 우한시에서 처음 확인되었고 이후 2020년 3월에 펜데믹 즉 세계적 범유행했는데 단지 코로나의 영향으로 컨텐츠가 2019년에 늘어난것은 아닌 것으로 보입니다. 이는 2019년 11월 1일 디즈니 플러스와 애플 티비 플러스 서비스가 미국에서 동시에 런칭되었기 때문입니다.경쟁자들과의 대결이 본격화되는 시기에 이루어진 투자로 보는것이 맞겠습니다.\n",
    "  \n",
    "- 코로나의 영향\n",
    " - 2020년과 2021년 계속적으로 많은 컨텐츠가 등록되고 있는것은 코로나의 여파로 인 것 같습니다.\n"
   ]
  },
  {
   "cell_type": "markdown",
   "id": "dfcac82a",
   "metadata": {},
   "source": [
    "---\n",
    "### 연도별 작품 평가수\n",
    "- 한 작품당 평가하는 수가 얼마나 늘고 있는지를 알아보겠습니다. 이를 통해 연도별로 컨텐츠 사용자가 컨텐츠에 대해 얼마나 소비하고 있는지 살펴볼수 있습니다.\n",
    " "
   ]
  },
  {
   "cell_type": "code",
   "execution_count": 42,
   "id": "4eb0bc04",
   "metadata": {},
   "outputs": [],
   "source": [
    "df_counts = df_netfilx.groupby(['year_added']).sum()\n",
    "df_counts['sizes'] = df_netfilx.groupby(['year_added']).size()\n",
    "df_counts['meanVotes'] = (df_counts.numVotes / df_counts.sizes).astype(np.int64)"
   ]
  },
  {
   "cell_type": "code",
   "execution_count": 58,
   "id": "eb409748",
   "metadata": {
    "scrolled": false
   },
   "outputs": [
    {
     "data": {
      "text/plain": [
       "Text(0.5, 1.0, 'Number of votes over the years')"
      ]
     },
     "execution_count": 58,
     "metadata": {},
     "output_type": "execute_result"
    },
    {
     "data": {
      "image/png": "[encoded data removed]",
      "text/plain": [
       "<Figure size 864x360 with 2 Axes>"
      ]
     },
     "metadata": {},
     "output_type": "display_data"
    }
   ],
   "source": [
    "plt.figure(figsize=(12,5))\n",
    "plt.subplot(121)\n",
    "plt.plot(df_counts.index, df_counts.sizes)\n",
    "plt.title('Number of contents over the years')\n",
    "\n",
    "#sns.lineplot(data=df_counts, x='sizes') #contents size\n",
    "\n",
    "plt.subplot(122)\n",
    "plt.plot(df_counts.index, df_counts.meanVotes)\n",
    "plt.title('Mean of votes over the years')"
   ]
  },
  {
   "cell_type": "markdown",
   "id": "ba277afd",
   "metadata": {},
   "source": [
    "작품수가 증가함에따라 평가가 늘어나는 것은 당연하지만 한 컨텐츠당 평균적으로 평가하는 수 또한 늘고 있습니다. 이는 컨텐츠를 보는 사용자(구독자)수가 컨텐츠가 늘어남에 따라 늘어난 결과입니다. 또한 사용자는 작품에 대해 평가를 남겨 컨텐츠에 대해 좀더 능동적으로 소비하는 경향을 보이고 있습니다."
   ]
  },
  {
   "cell_type": "markdown",
   "id": "f0bfb497",
   "metadata": {},
   "source": [
    "---\n",
    "### 인기 컨텐츠 및 평점이 높은 컨텐츠 분석\n"
   ]
  },
  {
   "cell_type": "code",
   "execution_count": 42,
   "id": "161d3d1d",
   "metadata": {},
   "outputs": [
    {
     "data": {
      "text/plain": [
       "count    4224.000000\n",
       "mean        6.198580\n",
       "std         1.160051\n",
       "min         1.500000\n",
       "25%         5.500000\n",
       "50%         6.300000\n",
       "75%         7.000000\n",
       "max         9.100000\n",
       "Name: averageRating, dtype: float64"
      ]
     },
     "execution_count": 42,
     "metadata": {},
     "output_type": "execute_result"
    }
   ],
   "source": [
    "df_movie['averageRating'].describe()"
   ]
  },
  {
   "cell_type": "code",
   "execution_count": 43,
   "id": "1278b70c",
   "metadata": {},
   "outputs": [
    {
     "data": {
      "text/plain": [
       "<AxesSubplot:xlabel='averageRating', ylabel='Density'>"
      ]
     },
     "execution_count": 43,
     "metadata": {},
     "output_type": "execute_result"
    },
    {
     "data": {
      "image/png": "[encoded data removed]",
      "text/plain": [
       "<Figure size 1440x432 with 1 Axes>"
      ]
     },
     "metadata": {},
     "output_type": "display_data"
    }
   ],
   "source": [
    "plt.figure(figsize=(20, 6))\n",
    "sns.distplot(df_movie['averageRating'])"
   ]
  },
  {
   "cell_type": "markdown",
   "id": "c4474fc9",
   "metadata": {},
   "source": [
    "- 넷플릭스 전체 컨텐츠에 대한 평점은 평균은 약 6.2점입니다.\n",
    "- 사분위 범위(Interquartile range)의 평점으로 5.5~ 7.0 사이값이 주로 나타나고 있습니다. 평점이 7.0이상이면 평가가 높은 컨텐츠로 볼수 있겠습니다.\n",
    "\n",
    "연도별로 평점이 높거나 인기가 많은(votes수기준) 컨텐츠를 알아보겠습니다."
   ]
  },
  {
   "cell_type": "markdown",
   "id": "45cf5680",
   "metadata": {},
   "source": [
    "---\n",
    "여기부터 추가된 내용이에요~~~ "
   ]
  },
  {
   "cell_type": "markdown",
   "id": "7e915d94",
   "metadata": {},
   "source": [
    "## 연도별 인기 상위 컨텐츠\n",
    "- 인기 컨텐츠는 평점과 관계없이 사용자가 평가를 많이 남긴 것을 기준으로 했습니다. 평점이 저조해도 평점이 많이 남았다면 이슈가 되는 컨텐츠라고 생각할 수 있겠습니다.\n"
   ]
  },
  {
   "cell_type": "code",
   "execution_count": 165,
   "id": "976a22d8",
   "metadata": {},
   "outputs": [],
   "source": [
    "def get_topvote_mv(year, n_top=5 ):\n",
    "    topvote_mv = df_movie.sort_values(['year_added','numVotes'], ascending=[True, False]).groupby('year_added').head(n_top)\n",
    "    topvote_mv =topvote_mv[['year_added','title','country', 'averageRating', 'numVotes', 'release_year']]\n",
    "    \n",
    "    return topvote_mv[topvote_mv.year_added==year]\n",
    "    \n",
    "def get_topvote_tv(year, n_top=5):    \n",
    "    topvote_tv = df_tvshow.sort_values(['year_added','numVotes'], ascending=[True, False]).groupby('year_added').head(n_top)\n",
    "    topvote_tv = topvote_tv[['year_added','title','country', 'averageRating', 'numVotes','release_year']]\n",
    "    \n",
    "    return topvote_tv[topvote_tv.year_added==year]"
   ]
  },
  {
   "cell_type": "markdown",
   "id": "e9443e16",
   "metadata": {},
   "source": [
    "### 2021년 인기 Movie Top5"
   ]
  },
  {
   "cell_type": "code",
   "execution_count": 164,
   "id": "05aef49a",
   "metadata": {},
   "outputs": [
    {
     "data": {
      "text/html": [
       "<div>\n",
       "<style scoped>\n",
       "    .dataframe tbody tr th:only-of-type {\n",
       "        vertical-align: middle;\n",
       "    }\n",
       "\n",
       "    .dataframe tbody tr th {\n",
       "        vertical-align: top;\n",
       "    }\n",
       "\n",
       "    .dataframe thead th {\n",
       "        text-align: right;\n",
       "    }\n",
       "</style>\n",
       "<table border=\"1\" class=\"dataframe\">\n",
       "  <thead>\n",
       "    <tr style=\"text-align: right;\">\n",
       "      <th></th>\n",
       "      <th>year_added</th>\n",
       "      <th>title</th>\n",
       "      <th>country</th>\n",
       "      <th>averageRating</th>\n",
       "      <th>numVotes</th>\n",
       "      <th>release_year</th>\n",
       "    </tr>\n",
       "  </thead>\n",
       "  <tbody>\n",
       "    <tr>\n",
       "      <th>157</th>\n",
       "      <td>2021</td>\n",
       "      <td>inception</td>\n",
       "      <td>United States, United Kingdom</td>\n",
       "      <td>8.8</td>\n",
       "      <td>2242516</td>\n",
       "      <td>2010</td>\n",
       "    </tr>\n",
       "    <tr>\n",
       "      <th>189</th>\n",
       "      <td>2021</td>\n",
       "      <td>django unchained</td>\n",
       "      <td>United States</td>\n",
       "      <td>8.5</td>\n",
       "      <td>1475971</td>\n",
       "      <td>2012</td>\n",
       "    </tr>\n",
       "    <tr>\n",
       "      <th>3889</th>\n",
       "      <td>2021</td>\n",
       "      <td>the departed</td>\n",
       "      <td>United States, Hong Kong</td>\n",
       "      <td>8.5</td>\n",
       "      <td>1273378</td>\n",
       "      <td>2006</td>\n",
       "    </tr>\n",
       "    <tr>\n",
       "      <th>593</th>\n",
       "      <td>2021</td>\n",
       "      <td>shutter island</td>\n",
       "      <td>United States</td>\n",
       "      <td>8.2</td>\n",
       "      <td>1241140</td>\n",
       "      <td>2010</td>\n",
       "    </tr>\n",
       "    <tr>\n",
       "      <th>3077</th>\n",
       "      <td>2021</td>\n",
       "      <td>goodfellas</td>\n",
       "      <td>United States</td>\n",
       "      <td>8.7</td>\n",
       "      <td>1103292</td>\n",
       "      <td>1990</td>\n",
       "    </tr>\n",
       "  </tbody>\n",
       "</table>\n",
       "</div>"
      ],
      "text/plain": [
       "      year_added             title                        country  \\\n",
       "157         2021         inception  United States, United Kingdom   \n",
       "189         2021  django unchained                  United States   \n",
       "3889        2021      the departed       United States, Hong Kong   \n",
       "593         2021    shutter island                  United States   \n",
       "3077        2021        goodfellas                  United States   \n",
       "\n",
       "      averageRating  numVotes  release_year  \n",
       "157             8.8   2242516          2010  \n",
       "189             8.5   1475971          2012  \n",
       "3889            8.5   1273378          2006  \n",
       "593             8.2   1241140          2010  \n",
       "3077            8.7   1103292          1990  "
      ]
     },
     "execution_count": 164,
     "metadata": {},
     "output_type": "execute_result"
    }
   ],
   "source": [
    "get_topvote_mv(2021, 5)"
   ]
  },
  {
   "cell_type": "markdown",
   "id": "b2d0cf1a",
   "metadata": {},
   "source": [
    "### 2020년 인기 Movie Top5"
   ]
  },
  {
   "cell_type": "code",
   "execution_count": 166,
   "id": "b6281d1d",
   "metadata": {
    "scrolled": false
   },
   "outputs": [
    {
     "data": {
      "text/html": [
       "<div>\n",
       "<style scoped>\n",
       "    .dataframe tbody tr th:only-of-type {\n",
       "        vertical-align: middle;\n",
       "    }\n",
       "\n",
       "    .dataframe tbody tr th {\n",
       "        vertical-align: top;\n",
       "    }\n",
       "\n",
       "    .dataframe thead th {\n",
       "        text-align: right;\n",
       "    }\n",
       "</style>\n",
       "<table border=\"1\" class=\"dataframe\">\n",
       "  <thead>\n",
       "    <tr style=\"text-align: right;\">\n",
       "      <th></th>\n",
       "      <th>year_added</th>\n",
       "      <th>title</th>\n",
       "      <th>country</th>\n",
       "      <th>averageRating</th>\n",
       "      <th>numVotes</th>\n",
       "      <th>release_year</th>\n",
       "    </tr>\n",
       "  </thead>\n",
       "  <tbody>\n",
       "    <tr>\n",
       "      <th>3978</th>\n",
       "      <td>2020</td>\n",
       "      <td>the lord of the rings: the return of the king</td>\n",
       "      <td>New Zealand, United States</td>\n",
       "      <td>9.0</td>\n",
       "      <td>1759627</td>\n",
       "      <td>2003</td>\n",
       "    </tr>\n",
       "    <tr>\n",
       "      <th>3979</th>\n",
       "      <td>2020</td>\n",
       "      <td>the lord of the rings: the two towers</td>\n",
       "      <td>New Zealand, United States</td>\n",
       "      <td>8.8</td>\n",
       "      <td>1589815</td>\n",
       "      <td>2002</td>\n",
       "    </tr>\n",
       "    <tr>\n",
       "      <th>2657</th>\n",
       "      <td>2020</td>\n",
       "      <td>american beauty</td>\n",
       "      <td>United States</td>\n",
       "      <td>8.4</td>\n",
       "      <td>1124420</td>\n",
       "      <td>1999</td>\n",
       "    </tr>\n",
       "    <tr>\n",
       "      <th>3275</th>\n",
       "      <td>2020</td>\n",
       "      <td>kill bill: vol. 1</td>\n",
       "      <td>United States, Japan</td>\n",
       "      <td>8.2</td>\n",
       "      <td>1073577</td>\n",
       "      <td>2003</td>\n",
       "    </tr>\n",
       "    <tr>\n",
       "      <th>2589</th>\n",
       "      <td>2020</td>\n",
       "      <td>a clockwork orange</td>\n",
       "      <td>United Kingdom, United States</td>\n",
       "      <td>8.3</td>\n",
       "      <td>803120</td>\n",
       "      <td>1971</td>\n",
       "    </tr>\n",
       "  </tbody>\n",
       "</table>\n",
       "</div>"
      ],
      "text/plain": [
       "      year_added                                          title  \\\n",
       "3978        2020  the lord of the rings: the return of the king   \n",
       "3979        2020          the lord of the rings: the two towers   \n",
       "2657        2020                                american beauty   \n",
       "3275        2020                              kill bill: vol. 1   \n",
       "2589        2020                             a clockwork orange   \n",
       "\n",
       "                            country  averageRating  numVotes  release_year  \n",
       "3978     New Zealand, United States            9.0   1759627          2003  \n",
       "3979     New Zealand, United States            8.8   1589815          2002  \n",
       "2657                  United States            8.4   1124420          1999  \n",
       "3275           United States, Japan            8.2   1073577          2003  \n",
       "2589  United Kingdom, United States            8.3    803120          1971  "
      ]
     },
     "execution_count": 166,
     "metadata": {},
     "output_type": "execute_result"
    }
   ],
   "source": [
    "get_topvote_mv(2020, 5)"
   ]
  },
  {
   "cell_type": "markdown",
   "id": "a19081c4",
   "metadata": {},
   "source": [
    "- 실제 영화가 출시된지 오래된 영화들이 인기 영화로 나타나는 모습입니다. 이는 넷플릭스의 추천 시스템에 의해 사용자들이 최신작이 아니어도 취향에 따라 컨텐츠를 선택하는 것 때문으로 볼수 있겠습니다. 새로운 컨텐츠를 제공하는것 만큼이나 이미 재미나 가치가 검증된 컨텐츠를 사용자가 이용할 수 있도록 하는 것이 중요한데, 넥플릭스는 추천 시스템으로 이를 잘활용하고 있는것 같습니다.\n",
    "\n",
    "- 또한 평가를 많이 받은 컨텐츠는 평점이 8점대 이상으로 좋게 나타나고 있습니다. 평가수와 평점간에 상관관계가 있다고 보입니다."
   ]
  },
  {
   "cell_type": "markdown",
   "id": "629d4d91",
   "metadata": {},
   "source": [
    "### 2021년 인기 Tv show Top5"
   ]
  },
  {
   "cell_type": "code",
   "execution_count": 167,
   "id": "570e8c92",
   "metadata": {},
   "outputs": [
    {
     "data": {
      "text/html": [
       "<div>\n",
       "<style scoped>\n",
       "    .dataframe tbody tr th:only-of-type {\n",
       "        vertical-align: middle;\n",
       "    }\n",
       "\n",
       "    .dataframe tbody tr th {\n",
       "        vertical-align: top;\n",
       "    }\n",
       "\n",
       "    .dataframe thead th {\n",
       "        text-align: right;\n",
       "    }\n",
       "</style>\n",
       "<table border=\"1\" class=\"dataframe\">\n",
       "  <thead>\n",
       "    <tr style=\"text-align: right;\">\n",
       "      <th></th>\n",
       "      <th>year_added</th>\n",
       "      <th>title</th>\n",
       "      <th>country</th>\n",
       "      <th>averageRating</th>\n",
       "      <th>numVotes</th>\n",
       "      <th>release_year</th>\n",
       "    </tr>\n",
       "  </thead>\n",
       "  <tbody>\n",
       "    <tr>\n",
       "      <th>6</th>\n",
       "      <td>2021</td>\n",
       "      <td>squid game</td>\n",
       "      <td>NaN</td>\n",
       "      <td>8.1</td>\n",
       "      <td>405251</td>\n",
       "      <td>2021</td>\n",
       "    </tr>\n",
       "    <tr>\n",
       "      <th>114</th>\n",
       "      <td>2021</td>\n",
       "      <td>attack on titan</td>\n",
       "      <td>Japan</td>\n",
       "      <td>9.1</td>\n",
       "      <td>329266</td>\n",
       "      <td>2013</td>\n",
       "    </tr>\n",
       "    <tr>\n",
       "      <th>108</th>\n",
       "      <td>2021</td>\n",
       "      <td>lupin</td>\n",
       "      <td>France, United States</td>\n",
       "      <td>7.5</td>\n",
       "      <td>98522</td>\n",
       "      <td>2021</td>\n",
       "    </tr>\n",
       "    <tr>\n",
       "      <th>195</th>\n",
       "      <td>2021</td>\n",
       "      <td>demon slayer: kimetsu no yaiba</td>\n",
       "      <td>Japan</td>\n",
       "      <td>8.8</td>\n",
       "      <td>81899</td>\n",
       "      <td>2019</td>\n",
       "    </tr>\n",
       "    <tr>\n",
       "      <th>137</th>\n",
       "      <td>2021</td>\n",
       "      <td>shadow and bone</td>\n",
       "      <td>United States</td>\n",
       "      <td>7.7</td>\n",
       "      <td>75882</td>\n",
       "      <td>2021</td>\n",
       "    </tr>\n",
       "  </tbody>\n",
       "</table>\n",
       "</div>"
      ],
      "text/plain": [
       "     year_added                           title                country  \\\n",
       "6          2021                      squid game                    NaN   \n",
       "114        2021                 attack on titan                  Japan   \n",
       "108        2021                           lupin  France, United States   \n",
       "195        2021  demon slayer: kimetsu no yaiba                  Japan   \n",
       "137        2021                 shadow and bone          United States   \n",
       "\n",
       "     averageRating  numVotes  release_year  \n",
       "6              8.1    405251          2021  \n",
       "114            9.1    329266          2013  \n",
       "108            7.5     98522          2021  \n",
       "195            8.8     81899          2019  \n",
       "137            7.7     75882          2021  "
      ]
     },
     "execution_count": 167,
     "metadata": {},
     "output_type": "execute_result"
    }
   ],
   "source": [
    "get_topvote_tv(2021)"
   ]
  },
  {
   "cell_type": "markdown",
   "id": "9a4b95e5",
   "metadata": {},
   "source": [
    "### 2020년 인기 Tv show Top5"
   ]
  },
  {
   "cell_type": "code",
   "execution_count": 168,
   "id": "d5346bb1",
   "metadata": {
    "scrolled": true
   },
   "outputs": [
    {
     "data": {
      "text/html": [
       "<div>\n",
       "<style scoped>\n",
       "    .dataframe tbody tr th:only-of-type {\n",
       "        vertical-align: middle;\n",
       "    }\n",
       "\n",
       "    .dataframe tbody tr th {\n",
       "        vertical-align: top;\n",
       "    }\n",
       "\n",
       "    .dataframe thead th {\n",
       "        text-align: right;\n",
       "    }\n",
       "</style>\n",
       "<table border=\"1\" class=\"dataframe\">\n",
       "  <thead>\n",
       "    <tr style=\"text-align: right;\">\n",
       "      <th></th>\n",
       "      <th>year_added</th>\n",
       "      <th>title</th>\n",
       "      <th>country</th>\n",
       "      <th>averageRating</th>\n",
       "      <th>numVotes</th>\n",
       "      <th>release_year</th>\n",
       "    </tr>\n",
       "  </thead>\n",
       "  <tbody>\n",
       "    <tr>\n",
       "      <th>210</th>\n",
       "      <td>2020</td>\n",
       "      <td>bridgerton</td>\n",
       "      <td>United States</td>\n",
       "      <td>7.3</td>\n",
       "      <td>99234</td>\n",
       "      <td>2020</td>\n",
       "    </tr>\n",
       "    <tr>\n",
       "      <th>276</th>\n",
       "      <td>2020</td>\n",
       "      <td>emily in paris</td>\n",
       "      <td>United States</td>\n",
       "      <td>7.0</td>\n",
       "      <td>81536</td>\n",
       "      <td>2020</td>\n",
       "    </tr>\n",
       "    <tr>\n",
       "      <th>424</th>\n",
       "      <td>2020</td>\n",
       "      <td>locke &amp; key</td>\n",
       "      <td>Canada, United States</td>\n",
       "      <td>7.5</td>\n",
       "      <td>72408</td>\n",
       "      <td>2020</td>\n",
       "    </tr>\n",
       "    <tr>\n",
       "      <th>254</th>\n",
       "      <td>2020</td>\n",
       "      <td>paranormal</td>\n",
       "      <td>Egypt</td>\n",
       "      <td>8.6</td>\n",
       "      <td>71146</td>\n",
       "      <td>2020</td>\n",
       "    </tr>\n",
       "    <tr>\n",
       "      <th>367</th>\n",
       "      <td>2020</td>\n",
       "      <td>space force</td>\n",
       "      <td>United States</td>\n",
       "      <td>6.7</td>\n",
       "      <td>58004</td>\n",
       "      <td>2020</td>\n",
       "    </tr>\n",
       "  </tbody>\n",
       "</table>\n",
       "</div>"
      ],
      "text/plain": [
       "     year_added           title                country  averageRating  \\\n",
       "210        2020      bridgerton          United States            7.3   \n",
       "276        2020  emily in paris          United States            7.0   \n",
       "424        2020     locke & key  Canada, United States            7.5   \n",
       "254        2020      paranormal                  Egypt            8.6   \n",
       "367        2020     space force          United States            6.7   \n",
       "\n",
       "     numVotes  release_year  \n",
       "210     99234          2020  \n",
       "276     81536          2020  \n",
       "424     72408          2020  \n",
       "254     71146          2020  \n",
       "367     58004          2020  "
      ]
     },
     "execution_count": 168,
     "metadata": {},
     "output_type": "execute_result"
    }
   ],
   "source": [
    "get_topvote_tv(2020)"
   ]
  },
  {
   "cell_type": "markdown",
   "id": "c5f9dbe1",
   "metadata": {},
   "source": [
    "- TV show의 경우는 영화와 다르게 최근에 제작된 컨텐츠의 인기도가 높습니다. 작년 이슈가 되었던 컨텐츠인 오징어 게임이 2021년 1위로 랭크된것도 확인할수 있습니다.\n",
    "- tv show 부분에서는 넷플릭스 오리지널 컨텐츠 전략이, movie부분에서는 추천 시스템 전략이 많이 통하는 모습입니다. \n"
   ]
  },
  {
   "cell_type": "markdown",
   "id": "4943fe24",
   "metadata": {},
   "source": [
    "## 연도별 평점 상위 컨텐츠\n",
    "- 평점시스템에서 평가자가 적은 상태에서 나온 점수는 신빙성이 떨어질수 있습니다. 연도별로 평균 평가자수(meanVotes) 이상이 평가한 컨텐츠를 대상으로 평점을 산출해보겠습니다."
   ]
  },
  {
   "cell_type": "markdown",
   "id": "c91aec13",
   "metadata": {},
   "source": [
    "### 2021년 평점 상위 Movie Top5"
   ]
  },
  {
   "cell_type": "code",
   "execution_count": null,
   "id": "5bd84f78",
   "metadata": {},
   "outputs": [],
   "source": []
  },
  {
   "cell_type": "markdown",
   "id": "66a113be",
   "metadata": {},
   "source": [
    "### 2021년 평점 상위 Tv show Top5"
   ]
  },
  {
   "cell_type": "code",
   "execution_count": null,
   "id": "e3099a4c",
   "metadata": {},
   "outputs": [],
   "source": []
  },
  {
   "cell_type": "code",
   "execution_count": null,
   "id": "aba00b84",
   "metadata": {},
   "outputs": [],
   "source": []
  },
  {
   "cell_type": "code",
   "execution_count": null,
   "id": "91e89ef6",
   "metadata": {},
   "outputs": [],
   "source": []
  }
 ],
 "metadata": {
  "kernelspec": {
   "display_name": "Python 3 (ipykernel)",
   "language": "python",
   "name": "python3"
  },
  "language_info": {
   "codemirror_mode": {
    "name": "ipython",
    "version": 3
   },
   "file_extension": ".py",
   "mimetype": "text/x-python",
   "name": "python",
   "nbconvert_exporter": "python",
   "pygments_lexer": "ipython3",
   "version": "3.9.7"
  }
 },
 "nbformat": 4,
 "nbformat_minor": 5
}
