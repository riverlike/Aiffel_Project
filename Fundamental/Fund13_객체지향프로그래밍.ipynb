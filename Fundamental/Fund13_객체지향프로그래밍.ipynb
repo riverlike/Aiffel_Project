{
  "nbformat": 4,
  "nbformat_minor": 0,
  "metadata": {
    "colab": {
      "name": "Fund13_객체지향프로그래밍.ipynb",
      "provenance": []
    },
    "kernelspec": {
      "name": "python3",
      "display_name": "Python 3"
    },
    "language_info": {
      "name": "python"
    }
  },
  "cells": [
    {
      "cell_type": "markdown",
      "source": [
        "## 1. 객체 지향 프로그래밍 : [참고](https://linux.die.net/diveintopython/html/getting_to_know_python/everything_is_an_object.html)\n",
        "- 객체 : 파이썬에서는 부울(bool), 정수, 실수, 문자열, 배열, 딕셔너리, 함수, 모듈, 프로그램 등 모든 것이 객체이다. 그리고 객체는 속성과 메소드를 가질수 있다.\n",
        "즉 모듈이나 함수또는 객체로써 함수의 인자로 들어갈 수 있다는 말이다\n"
      ],
      "metadata": {
        "id": "ZGCW6xaIkG5E"
      }
    },
    {
      "cell_type": "code",
      "source": [
        "# 모델 객체 속성 확인\n",
        "import sys\n",
        "print('address:', hex(id(sys)))\n",
        "print('type:', type(sys))\n",
        "print('name:', sys.__name__) "
      ],
      "metadata": {
        "colab": {
          "base_uri": "https://localhost:8080/"
        },
        "id": "7Rxwn_KfrbYw",
        "outputId": "17672159-09a9-4604-8054-d003cd907825"
      },
      "execution_count": null,
      "outputs": [
        {
          "output_type": "stream",
          "name": "stdout",
          "text": [
            "address: 0x7fd9bb809d70\n",
            "type: <class 'module'>\n",
            "name: sys\n"
          ]
        }
      ]
    },
    {
      "cell_type": "markdown",
      "source": [
        "### 정수형 객체 : immutable 객체\n",
        "- 객체를 생성한 후 값을 수정할 수 없다.\n",
        "- 객체는 해당 값을 가진 다른 객체를 가르킨다.\n",
        "- int, float, complex, bool, string, tuple, frozen *set*"
      ],
      "metadata": {
        "id": "1wHVupN2lyXj"
      }
    },
    {
      "cell_type": "code",
      "execution_count": null,
      "metadata": {
        "colab": {
          "base_uri": "https://localhost:8080/"
        },
        "id": "u4gpvGAafT45",
        "outputId": "70025966-559b-4ea5-830d-fe8b225cd908"
      },
      "outputs": [
        {
          "output_type": "stream",
          "name": "stdout",
          "text": [
            "5 5\n",
            "94392288922240 94392288922240\n",
            "True\n",
            "True\n"
          ]
        }
      ],
      "source": [
        "a = 5\n",
        "b = a\n",
        "print(a,b)\n",
        "print(id(a), id(b))\n",
        "print( a is b)\n",
        "print( a == b)"
      ]
    },
    {
      "cell_type": "markdown",
      "source": [
        "위 코드에서 변수 a에 5라는 값이 대입되어 있지만 변수는 자신을 위한 메모리를 가지는것이 아닌 '5'는 값을 가진 객체를 가리키도록 되어있다. 즉 변수 a,b를 위한 메모리가 따로 할당되는 것은 아니고 정수 5의 객체 주소를 참조만 하는 것이다.\n",
        "\n"
      ],
      "metadata": {
        "id": "9N2JRFN8oLrc"
      }
    },
    {
      "cell_type": "markdown",
      "source": [
        "### 리스트형 객체 - mutable 객체\n",
        "- 객체를 생성한 후 값을 수정할 수 있다.\n",
        "- 변수는 수정된 같은 객체를 가르킨다.\n",
        "- list, set, dict, 사용자가 만든 클래스 객체"
      ],
      "metadata": {
        "id": "S3jTKIplcbqH"
      }
    },
    {
      "cell_type": "code",
      "source": [
        "# 같은 리스트 객체를 참고하는 경우\n",
        "a = [1,2,3,4]\n",
        "b = a\n",
        "print(id(a))\n",
        "a.append(5)\n",
        "print(id(a)) #수정된후 리스트 객체가 할당된 메모리 주소, 같은 주소를 가리킴\n",
        "\n",
        "print(b)     #a 값이 바뀌었지만 참조하는 메모리가 같으므로 b의 값도 같다\n",
        "print(id(b)) #새로운 변수 b도 a메모리값 참조\n",
        "\n",
        "print(a is b)\n",
        "print(a == b)\n"
      ],
      "metadata": {
        "colab": {
          "base_uri": "https://localhost:8080/"
        },
        "id": "SVFU7EJdfegR",
        "outputId": "d5ca7a88-db6e-4789-e2f5-18ee05d4e1b7"
      },
      "execution_count": null,
      "outputs": [
        {
          "output_type": "stream",
          "name": "stdout",
          "text": [
            "140572425133424\n",
            "140572425133424\n",
            "[1, 2, 3, 4, 5]\n",
            "140572425133424\n",
            "True\n",
            "True\n"
          ]
        }
      ]
    },
    {
      "cell_type": "markdown",
      "source": [
        "# 2. 클래스 기본 문법"
      ],
      "metadata": {
        "id": "4Ks9WZe-kQdQ"
      }
    },
    {
      "cell_type": "markdown",
      "source": [
        "## 1) 클래스 선언 및 인스턴스화"
      ],
      "metadata": {
        "id": "_OCEJQnJyETA"
      }
    },
    {
      "cell_type": "code",
      "source": [
        "class Car:\n",
        "    pass\n",
        "\n",
        "class Car():\n",
        "    pass\n",
        "\n",
        "#id(Car)는 여러번 호출해도 같은 값이 얻어집니다. \n",
        "print(id(Car)) \n",
        "print(id(Car))\n",
        "\n",
        "#id(Car())는 Car()가 호출될 때마다 다른 값이 얻어집니다. \n",
        "print(id(Car())) \n",
        "print(id(Car()))\n",
        "\n",
        "# 두 객체의 type을 살펴봅니다. \n",
        "print(type(Car)) #Car라는 클래스 자체 - id값 동일\n",
        "print(type(Car())) # 새로운 Car 타입의 객체가 생성 - id값 다름"
      ],
      "metadata": {
        "colab": {
          "base_uri": "https://localhost:8080/"
        },
        "id": "LV3MasGIyFgA",
        "outputId": "71c39d60-81a2-4f07-bda3-2839730f163f"
      },
      "execution_count": null,
      "outputs": [
        {
          "output_type": "stream",
          "name": "stdout",
          "text": [
            "94392348070624\n",
            "94392348070624\n",
            "140572425420176\n",
            "140572425420496\n",
            "<class 'type'>\n",
            "<class '__main__.Car'>\n"
          ]
        }
      ]
    },
    {
      "cell_type": "markdown",
      "source": [
        "클래스 사용 - 객체 인스턴스화 \n",
        "\n",
        "- 클래스를 이용하려면 클래스로 객체를 만들어주는 작업\n",
        "- 선언한 클래스 이름에 괄호를 적어준후 변수에 할당"
      ],
      "metadata": {
        "id": "Dkh_DsmKyut0"
      }
    },
    {
      "cell_type": "code",
      "source": [
        "mycar = Car()\n",
        "mycar2 = Car()\n",
        "print(id(mycar))\n",
        "print(id(mycar2))"
      ],
      "metadata": {
        "colab": {
          "base_uri": "https://localhost:8080/"
        },
        "id": "joc8lA6yyqus",
        "outputId": "8913ea46-20df-4958-f8a2-dd70236e7110"
      },
      "execution_count": null,
      "outputs": [
        {
          "output_type": "stream",
          "name": "stdout",
          "text": [
            "140572425641616\n",
            "140572425640592\n"
          ]
        }
      ]
    },
    {
      "cell_type": "markdown",
      "source": [
        "클래스명 표기법: 카멜 케이스\n",
        "\n",
        "- 카멜 케이스: 각 단어의 앞 글자를 대문자로 쓸 것.\n",
        "- 예시: mycar —> MyCar\n",
        "- 명사형으로 명명\n",
        "\n",
        "함수명 표기법: 스네이크 케이스\n",
        "\n",
        "- 스네이크 케이스: 단어는 소문자로 쓰고 각 단어의 연결은 언더바(_)를 사용할 것\n",
        "- 예시: car wash —> car_wash\n",
        "- 동사형으로 명명"
      ],
      "metadata": {
        "id": "evwurUtvzGwA"
      }
    },
    {
      "cell_type": "markdown",
      "source": [
        "## 2) 클래스 속성과 메서드\n",
        "클래스의 속성\n",
        "- 상태(state)를 표현. 속성은 변수로 나타냄\n",
        "\n",
        "클래스의 메서드\n",
        "- 동작(behavior)을 표현하며 메서드는 def 키워드로 나타낸다\n",
        "- 메서드는 첫 번째 인자는 self 값을 적어주어야함\n",
        "- self라는 단어는 클래스를 인스턴스화 한 인스턴스 객체로 이 함수를 호출할때 따로 설정하지 않아도됨(실행시 인터프리터내부에서 자신의 값을 설정함)"
      ],
      "metadata": {
        "id": "XRmRF66MyCoh"
      }
    },
    {
      "cell_type": "code",
      "source": [
        "class Car:\n",
        "    color = 'red'  #클래스 속성 (cf. 인스턴스의 속성)\n",
        "    category = 'sports car'\n",
        "\n",
        "    def car_info(self):\n",
        "        print('color:', Car.color)\n",
        "        print('category:', Car.category)\n",
        "\n",
        "    def drive(self):      \n",
        "        print(\"I'm driving\")   \n",
        "\n",
        "    def accel(self, speed_up, current_speed=10):\n",
        "        self.speed_up = speed_up  #인스턴스의 속성 ( 클래스가 아닌 인스턴스화된 객체 자신의 속성)\n",
        "        self.current_speed = current_speed + speed_up\n",
        "        print(\"speed up\", self.speed_up, \"driving at\", self.current_speed)"
      ],
      "metadata": {
        "id": "HbA1KMduz0qb"
      },
      "execution_count": null,
      "outputs": []
    },
    {
      "cell_type": "code",
      "source": [
        "#클래스의 사용\n",
        "mycar = Car()\n",
        "mycar.car_info()\n",
        "mycar.drive()"
      ],
      "metadata": {
        "colab": {
          "base_uri": "https://localhost:8080/"
        },
        "id": "fit59Hnu2PK8",
        "outputId": "1cc9fcaf-ee62-4bc3-d95c-6d469c728ac4"
      },
      "execution_count": null,
      "outputs": [
        {
          "output_type": "stream",
          "name": "stdout",
          "text": [
            "color: red\n",
            "category: sports car\n",
            "I'm driving\n"
          ]
        }
      ]
    },
    {
      "cell_type": "markdown",
      "source": [
        "## 3) 생성자(constructor)\n",
        "- 인스턴스 객체의 값을 초기화하는 방법으로 \n",
        "- _ _ init _ _ 함수를 사용\n",
        "- 함수인자에 특정값으로 지정하여 인스턴스를 만들수 있다.\n",
        "- init 함수처럼 언더바(_)가 두 개씩 있는 메서드를 매직 메서드라고 함 : [참고](https://rszalski.github.io/magicmethods/)"
      ],
      "metadata": {
        "id": "2cjkaWtL4MBm"
      }
    },
    {
      "cell_type": "code",
      "source": [
        "class Car2:\n",
        "    def __init__(self, color, category):\n",
        "        self.color = color\n",
        "        self.category = category\n",
        "    '''\n",
        "    키워드 인자를 지정하는 경우\n",
        "    def __init__(self, color='red', category='sprots car'):\n",
        "        self.color = color\n",
        "        self.category = category\n",
        "    '''\n",
        "\n",
        "    def car_info(self):\n",
        "        print('color:', Car.color)\n",
        "        print('category:', Car.category)\n",
        "\n",
        "    def drive(self):      \n",
        "        print(\"I'm driving\")   \n",
        "\n",
        "    def accel(self, speed_up, current_speed=10):\n",
        "        self.speed_up = speed_up  #인스턴스의 속성 ( 클래스가 아닌 인스턴스화된 객체 자신의 속성)\n",
        "        self.current_speed = current_speed + speed_up\n",
        "        print(\"speed up\", self.speed_up, \"driving at\", self.current_speed)"
      ],
      "metadata": {
        "id": "xb4Rarxt44tB"
      },
      "execution_count": null,
      "outputs": []
    },
    {
      "cell_type": "code",
      "source": [
        "#인스턴스 객체 선언\n",
        "car1 = Car()  #생성자가 없는 클래스\n",
        "car2 = Car2('yellow', 'sedan')\n",
        "\n",
        "print(car1.color)\n",
        "print(car2.color)"
      ],
      "metadata": {
        "colab": {
          "base_uri": "https://localhost:8080/"
        },
        "id": "9c17K94F5Lsf",
        "outputId": "b5eb8c5d-2769-4e1f-be31-baa91eab3ce6"
      },
      "execution_count": null,
      "outputs": [
        {
          "output_type": "stream",
          "name": "stdout",
          "text": [
            "red\n",
            "yellow\n"
          ]
        }
      ]
    },
    {
      "cell_type": "markdown",
      "source": [
        "## 4) 클래스 변수와 인스턴스 변수\n",
        "클래스 변수\n",
        "- Car 클래스의 color 처럼 보통 변수와 동일하게 변수명을쓰고 값을 설정\n",
        "- 클래스에 의해 생성된 모든 객체가 값은 값을 참고 할 수 있다.\n",
        "인스턴스 변수\n",
        "- Car2클래스의 init 함수안에서 self.color 로 선언한후 설정\n",
        "- 인스턴스별로 고유한 값을 따로 관리하고 싶을때 사용한다."
      ],
      "metadata": {
        "id": "BsNZ06fq4OJe"
      }
    },
    {
      "cell_type": "markdown",
      "source": [
        "# 상속\n",
        "- 기존의 클래스와 거의 같은 클래스인데, 몇가지 속성이나 메서드를 추가하고 싶을때 사용하는 방법\n",
        "- 부모 클래스(기반 클래스) : 상속을 할 상위 클래스\n",
        "- 자식 클래스(파생 클래스) : 부모클래스를 상속하는 클래스로 소괄호 안에 상속받을 클래스 이름을 명시\n",
        " - class NewCar(Car):"
      ],
      "metadata": {
        "id": "Js-KLoSM7Al_"
      }
    },
    {
      "cell_type": "markdown",
      "source": [
        "# 클래스 활용해보기 -  n면체 주사위 만들기"
      ],
      "metadata": {
        "id": "9O_h-I_27O3V"
      }
    },
    {
      "cell_type": "markdown",
      "source": [
        "## 1) 기획\n",
        "- 클래스명 : FunnyDice\n",
        "- 클래스 변수\n",
        "- 인스턴스 변수 \n",
        " - n: 주사위 면의 갯수 \n",
        "- 메소드 \n",
        " - set_side_cnt : 면의 갯수 설정 \n",
        " - throw :주사위를 던질때 1~n 랜덤으로 값 출력 \n",
        " - getval : 던져진 주사위 값 확인   \n"
      ],
      "metadata": {
        "id": "lx6NnvLv-8TR"
      }
    },
    {
      "cell_type": "markdown",
      "source": [
        "## 2) 주 프로그램 - main 함수\n",
        "\n",
        "- 클래스를 만들기 전에 전체적인 흐름을 main함수를 통해 정리하면 필요한 변수 및 메서드에 대한 윤곽을 만드는데 도움이 된다.\n"
      ],
      "metadata": {
        "id": "UiMbZhI2-_ZJ"
      }
    },
    {
      "cell_type": "code",
      "source": [
        "def main():\n",
        "    n = get_inputs() # 주사위 면의 수 입력\n",
        "    mydice = FunnyDice(n) # 객체 초기화\n",
        "    mydice.throw()\n",
        "    print('행운의 숫자는{}'.format(mydice.getval()))"
      ],
      "metadata": {
        "id": "dF4IAei-ERqz"
      },
      "execution_count": null,
      "outputs": []
    },
    {
      "cell_type": "markdown",
      "source": [
        "## 3) FunnyDice 클래스"
      ],
      "metadata": {
        "id": "QghexswO-_WQ"
      }
    },
    {
      "cell_type": "code",
      "source": [
        "from random import randrange\n",
        "class FunnyDice:\n",
        "    def __init__(self, n=6):\n",
        "        #인스턴스 변수\n",
        "        self.n = n  # 주사위의 면수\n",
        "        self.numbers = list(range(1, n+1))  #각 주사위눈의 숫자\n",
        "        self.index = randrange(0, self.n)   #주사위던지기전 미리 눈의 수를 초기화하기위해 인덱스를 랜덤으로 설정\n",
        "        self.val = self.numbers[self.index] #던져서 나온 주사위 눈의수\n",
        "    \n",
        "    def throw(self):\n",
        "        self.index = randrange(0, self.n)   #랜덤 인덱스 설정\n",
        "        self.val = self.numbers[self.index] #던져서 나온 주사위 눈의수\n",
        "    \n",
        "    def setval(self, val):\n",
        "        if val <= self.n:   \n",
        "            self.val = val\n",
        "        else: #주사위 면수보다 큰값이 들어올때 예외처리\n",
        "            msg = \"주사위에 없는 숫자입니다. 주사위는 1 ~ {0}까지 있습니다. \".format(self.n)\n",
        "            raise ValueError(msg)\n",
        "            \n",
        "\n",
        "    def getval(self):\n",
        "        return self.val\n"
      ],
      "metadata": {
        "id": "QGnTfOjnFDkn"
      },
      "execution_count": null,
      "outputs": []
    },
    {
      "cell_type": "markdown",
      "source": [
        "## 4) FunnyDice 클래스 테스트, get_input 함수"
      ],
      "metadata": {
        "id": "sTdHH5QX-_S1"
      }
    },
    {
      "cell_type": "code",
      "source": [
        "def get_inputs():\n",
        "    n = int(input(\"주사위 면의 개수를 입력하세요: \"))\n",
        "    return n"
      ],
      "metadata": {
        "id": "6VeUr2HyH_Ty"
      },
      "execution_count": null,
      "outputs": []
    },
    {
      "cell_type": "markdown",
      "source": [
        "## 5) 완성 코드"
      ],
      "metadata": {
        "id": "HaghjJ35-_M4"
      }
    },
    {
      "cell_type": "code",
      "source": [
        "# funnydice.py\n",
        "\n",
        "from random import randrange\n",
        "\n",
        "class FunnyDice:\n",
        "    def __init__(self, n=6):\n",
        "        self.n = n\n",
        "        self.options = list(range(1, n+1))\n",
        "        self.index = randrange(0, self.n)\n",
        "        self.val = self.options[self.index]\n",
        "    \n",
        "    def throw(self):\n",
        "        self.index = randrange(0, self.n)\n",
        "        self.val = self.options[self.index]\n",
        "    \n",
        "    def getval(self):\n",
        "        return self.val\n",
        "    \n",
        "    def setval(self, val):\n",
        "        if val <= self.n:\n",
        "            self.val = val\n",
        "        else:\n",
        "            msg = \"주사위에 없는 숫자입니다. 주사위는 1 ~ {0}까지 있습니다. \".format(self.n)\n",
        "            raise ValueError(msg)\n",
        "\n",
        "def get_inputs():\n",
        "    n = int(input(\"주사위 면의 개수를 입력하세요: \"))\n",
        "    return n\n",
        "\n",
        "def main():\n",
        "    n = get_inputs()\n",
        "    mydice = FunnyDice(n)\n",
        "    mydice.throw()\n",
        "    print(\"행운의 숫자는? {0}\".format(mydice.getval()))\n",
        "\n",
        "if __name__ == '__main__':\n",
        "    main()"
      ],
      "metadata": {
        "colab": {
          "base_uri": "https://localhost:8080/"
        },
        "id": "jd78f9mrHsYa",
        "outputId": "42a491d1-1e00-4701-e91c-4792500b6381"
      },
      "execution_count": null,
      "outputs": [
        {
          "output_type": "stream",
          "name": "stdout",
          "text": [
            "주사위 면의 개수를 입력하세요: 15\n",
            "행운의 숫자는? 4\n"
          ]
        }
      ]
    },
    {
      "cell_type": "markdown",
      "source": [
        "# Reference\n",
        "\n",
        "- [객체지향프로그래밍](https://ahracho.github.io/posts/python/2017-05-01-everything-in-python-is-object-integer/)"
      ],
      "metadata": {
        "id": "pn4c2E5IlxXu"
      }
    }
  ]
}