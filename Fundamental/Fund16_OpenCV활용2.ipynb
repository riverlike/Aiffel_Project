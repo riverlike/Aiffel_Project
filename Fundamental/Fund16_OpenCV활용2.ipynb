{
 "cells": [
  {
   "cell_type": "markdown",
   "id": "18125e29",
   "metadata": {},
   "source": [
    "# 실습 : 비슷한 이미지 찾기\n",
    "openCV기능중 색상히스토그램을 추출해 서로 비교하는 기능을 사용해보려고 한다. \n",
    "히스토그램이란 이미지에서 픽셀별 색상값의 분포라고 할수 있다.\n",
    "\n",
    "![이](https://docs.opencv.org/4.x/histogram_sample.jpg)\n",
    "\n",
    "\n",
    "위의 예시는 이미지를 흑백으로 변환했을 때 밝기에 따른 히스토그램이지만, 여기에서는 RGB 각 채널별 분포를 사용하여 비교해볼 것이다.\n",
    "계산량을 감안하여  4개 구간(0\\~63, 64\\~127, 128\\~191, 192\\~255)로 나누어 픽셀 수를 나타내보자\n"
   ]
  },
  {
   "cell_type": "markdown",
   "id": "c2aceb30",
   "metadata": {},
   "source": [
    "# STEP 1. 아이디어 개요\n",
    "\n",
    "사용자 입력 \n",
    "- 이미지 경로\n",
    "모델의 기능\n",
    "- 검색대상들중 비슷한 이미지를 골라 화면에 표시해줌(5개)\n",
    "- 비슷한 이미지에 대하여...\n",
    " - cv2.compareHist() : 히스토그램의 유사성을 계산해주는 함수 활용"
   ]
  },
  {
   "cell_type": "markdown",
   "id": "0e75b92f",
   "metadata": {},
   "source": [
    "# STEP 2. 아이디어 구체화\n",
    "유사항 이미지를 선택하는 알고리즘\n",
    "- 검색대상 이미지를 로드\n",
    "- 입력이미지와 비교한 유사도를 저장하여 정렬한다.\n",
    "- 유사도 상위 5개를 고른다"
   ]
  },
  {
   "cell_type": "markdown",
   "id": "e8f1f64d",
   "metadata": {},
   "source": [
    "# STEP 3. 핵심 알고리즘 - 유사도 계산 방법\n",
    "\n",
    "입력 이미지와 비교하여 유사도를 기준으로 순서화하는 방식\n",
    "- 입력이미지와 검색이미지를 하나씩 히스토그램으로 만듬\n",
    "- OpenCV의 compareHist() 함수를 사용하여 입력 이미지와 검색 대상 이미지 하나하나의 히스토그램 간 유사도를 계산\n",
    "- 계산된 유사도를 기준으로 정렬하여 순서화"
   ]
  },
  {
   "cell_type": "markdown",
   "id": "a4f9dcea",
   "metadata": {},
   "source": [
    "# STEP 4. 기능의 모듈화\n",
    "프로그램의 흐름\n",
    "\n",
    "- 프로그램이 실행된다.\n",
    "- 입력된 경로의 이미지 파일을 불러온다.\n",
    "- 검색 대상 이미지들을 불러온다.\n",
    "- 입력 이미지를 히스토그램으로 만든다.\n",
    "- 검색 대상 이미지들을 하나하나 히스토그램으로 만든다.\n",
    "- OpenCV의 compareHist() 함수를 사용하여 입력 이미지와 검색 대상 이미지 하나하나의 히스토그램 간 유사도를 계산한다.\n",
    "- 계산된 유사도를 기준으로 정렬하여 순서를 매긴다.\n",
    "- 유사도 순서상으로 상위 5개 이미지를 고른다.\n",
    "- 고른 이미지들을 표시한다.\n",
    "- 프로그램이 종료된다.\n",
    "\n",
    "함수화시킬 기능\n",
    "- build_histogram_db()\n",
    " - 검색 대상 이미지들을 불러온다.( CIFAR-100 이미지로 제한)\n",
    " - 검색 대상 이미지들을 하나하나 히스토그램으로 만든다.\n",
    "- search()\n",
    " - OpenCV의 compareHist() 함수를 사용하여 입력 이미지와 검색 대상 이미지 하나하나의 히스토그램 간 유사도를 계산한다.\n",
    " - 계산된 유사도를 기준으로 정렬하여 순서를 매긴다.\n",
    " - 유사도 순서상으로 상위 5개 이미지를 고른다."
   ]
  },
  {
   "cell_type": "markdown",
   "id": "77cd332b",
   "metadata": {},
   "source": [
    "# STEP 5. 설계 과정 완성\n",
    "\n",
    "- 프로그램이 실행된다.\n",
    "- build_histogram_db()\n",
    " - CIFAR-100 이미지들을 불러온다.\n",
    " - CIFAR-100 이미지들을 하나하나 히스토그램으로 만든다.\n",
    " - 이미지 이름을 키로 하고, 히스토그램을 값으로 하는 딕셔너리 histogram_db를 반환한다.\n",
    "- CIFAR-100 히스토그램 중 입력된 이미지 이름에 해당하는 히스토그램을 입력 이미지로 선택하여 target_histogram이라는 변수명으로 지정한다.\n",
    "- search()\n",
    " - 입력 이미지 히스토그램 target_histogram와 전체 검색 대상 이미지들의 히스토그램을 가진 딕셔너리 histogram_db를 입력으로 받는다.\n",
    " - OpenCV의 compareHist() 함수를 사용하여 입력 이미지와 검색 대상 이미지 하나하나의 히스토그램 간 유사도를 계산한다. 결과는 result라는 이름의 딕셔너리로, 키는 이미지 이름, 값은 유사도로 한다.\n",
    " - 계산된 유사도를 기준으로 정렬하여 순서를 매긴다.\n",
    " - 유사도 순서상으로 상위 5개 이미지만 골라서 result에 남긴다.\n",
    "- 고른 이미지들을 표시한다.\n",
    "- 프로그램이 종료된다."
   ]
  },
  {
   "cell_type": "markdown",
   "id": "fb1140a6",
   "metadata": {},
   "source": [
    "# STEP 6. 코드로 구현\n",
    "\n",
    "함수부터 하나씩 구현해보도록하자\n",
    "\n",
    "### build_histogram_db()\n",
    " - CIFAR-100 이미지들을 불러온다.\n",
    " - CIFAR-100 이미지들을 하나하나 히스토그램으로 만든다.\n",
    " - 이미지 이름을 키로 하고, 히스토그램을 값으로 하는 딕셔너리 histogram_db를 반환한다.\n",
    " - 히스토그램을 만드는 구간은  4개 구간(0\\~63, 64\\~127, 128\\~191, 192\\~255)으로 한정한다"
   ]
  },
  {
   "cell_type": "code",
   "execution_count": 13,
   "id": "82c5fe0a",
   "metadata": {},
   "outputs": [],
   "source": [
    "import os\n",
    "import pickle\n",
    "import cv2\n",
    "import numpy as np\n",
    "from matplotlib import pyplot as plt\n",
    "from tqdm import tqdm"
   ]
  },
  {
   "cell_type": "code",
   "execution_count": 6,
   "id": "bd060e8a",
   "metadata": {},
   "outputs": [],
   "source": [
    "def get_histogram(image):\n",
    "    histogram = []\n",
    "    # Create histograms per channels, in 4 bins each.\n",
    "    for i in range(3): #(0:blue, 1:green, 2:red)\n",
    "        ch_histogram = cv2.calcHist([image], [i], None, [4], [0,256]) #네번째는 X 축 요소(BIN)의 개수\n",
    "        histogram.append(ch_histogram)\n",
    "    \n",
    "    histogram = np.concatenate(histogram)\n",
    "    histogram = cv2.normalize(histogram, histogram)\n",
    "    \n",
    "    return histogram\n",
    "    "
   ]
  },
  {
   "cell_type": "code",
   "execution_count": 12,
   "id": "f486ca31",
   "metadata": {},
   "outputs": [
    {
     "data": {
      "text/plain": [
       "array([[0.3126804 ],\n",
       "       [0.4080744 ],\n",
       "       [0.14521089],\n",
       "       [0.21940625],\n",
       "       [0.18654831],\n",
       "       [0.23742512],\n",
       "       [0.30208108],\n",
       "       [0.35931748],\n",
       "       [0.06465594],\n",
       "       [0.35825753],\n",
       "       [0.36991683],\n",
       "       [0.29254165]], dtype=float32)"
      ]
     },
     "execution_count": 12,
     "metadata": {},
     "output_type": "execute_result"
    }
   ],
   "source": [
    "# get_histogram() 확인용 코드\n",
    "filename = train[b'filenames'][0].decode()\n",
    "file_path = os.path.join(images_dir_path, filename)\n",
    "image = cv2.imread(file_path)\n",
    "histogram = get_histogram(image)\n",
    "histogram #첫번째 파일의 histogram (4개구간의 RGB값 총 12개 원소의 배열출력)"
   ]
  },
  {
   "cell_type": "code",
   "execution_count": 14,
   "id": "ff63d8cf",
   "metadata": {},
   "outputs": [],
   "source": [
    "def build_histogram_db():\n",
    "    histogram_db = {}\n",
    "    \n",
    "    #디렉토리에 모아 둔 이미지 파일들을 전부 리스트업합니다. \n",
    "    path = image_dir_path\n",
    "    file_list = os.listdir(path)\n",
    "    \n",
    "    #이미지 이름을 키로 하고, 히스토그램을 값으로 하는 딕셔너리 histogram_db 설정\n",
    "    for filename in file_list:\n",
    "        file_path = os.path.join(images_dir_path, filename)\n",
    "        image = cv2.imread(file_path)\n",
    "        histogram = get_histogram(image) \n",
    "        histogram_db[filename] = histogram\n",
    "        \n",
    "    return histogram_db"
   ]
  },
  {
   "cell_type": "code",
   "execution_count": null,
   "id": "d8d2b14e",
   "metadata": {},
   "outputs": [],
   "source": [
    "histogram_db = build_histogram_db()\n",
    "histogram_db['adriatic_s_001807.png']"
   ]
  },
  {
   "cell_type": "markdown",
   "id": "2624c620",
   "metadata": {},
   "source": [
    "전체 이미지에 대해 검색하기위해 시간이 걸림, 이제 histogram_db가 완성되었다. \n",
    "target_histogram에 입력받은 이미지의 히스토그램을 저장하는 함수를 만들어 보도록하자\n"
   ]
  },
  {
   "cell_type": "code",
   "execution_count": null,
   "id": "06c08313",
   "metadata": {},
   "outputs": [],
   "source": [
    "def get_target_histogram():\n",
    "    filename = input(\"이미지 파일명을 입력하세요: \")\n",
    "    if filename not in histogram_db:\n",
    "        print('유효하지 않은 이미지 파일명입니다.')\n",
    "        return None\n",
    "    return histogram_db[filename]"
   ]
  },
  {
   "cell_type": "code",
   "execution_count": null,
   "id": "a5d49ba6",
   "metadata": {},
   "outputs": [],
   "source": [
    "target_histogram = get_target_histogram()\n",
    "target_histogram"
   ]
  },
  {
   "cell_type": "code",
   "execution_count": null,
   "id": "973b9e68",
   "metadata": {},
   "outputs": [],
   "source": []
  },
  {
   "cell_type": "markdown",
   "id": "0dd0d55f",
   "metadata": {},
   "source": [
    "### search()\n",
    " - 입력 이미지 히스토그램 target_histogram와 전체 검색 대상 이미지들의 히스토그램을 가진 딕셔너리 histogram_db를 입력으로 받는다.\n",
    " - OpenCV의 compareHist() 함수를 사용하여 입력 이미지와 검색 대상 이미지 하나하나의 히스토그램 간 유사도를 계산한다. 결과는 result라는 이름의 딕셔너리로, 키는 이미지 이름, 값은 유사도로 한다.\n",
    " - 계산된 유사도를 기준으로 정렬하여 순서를 매긴다.\n",
    " - 유사도 순서상으로 상위 5개 이미지만 골라서 result에 남긴다."
   ]
  },
  {
   "cell_type": "code",
   "execution_count": 15,
   "id": "0597f627",
   "metadata": {},
   "outputs": [],
   "source": [
    "def search(histogram_db, target_histogram, top_k=5):\n",
    "    results = {}\n",
    "\n",
    "    # Calculate similarity distance by comparing histograms.\n",
    "    for file_name, histogram in tqdm(histogram_db.items()):\n",
    "        distance = cv2.compareHist(H1=target_histogram,\n",
    "                                   H2=histogram,\n",
    "                                   method=cv2.HISTCMP_CHISQR)\n",
    "\n",
    "        results[file_name] = distance\n",
    "\n",
    "    results = dict(sorted(results.items(), key=lambda item: item[1])[:top_k])\n",
    "\n",
    "    return results"
   ]
  },
  {
   "cell_type": "code",
   "execution_count": null,
   "id": "f47161ad",
   "metadata": {},
   "outputs": [],
   "source": [
    "result = search(histogram_db, target_histogram)\n",
    "result"
   ]
  },
  {
   "cell_type": "markdown",
   "id": "05fc194d",
   "metadata": {},
   "source": [
    "입력받은 이미지 파일과 가장 유사한 상위 5개의 이미지가 아주 빠르게 검색되어 나왔다. 1번째는 당연히 입력받은 이미지 그 자신이다. 그럼 5개의 이미지가 얼마나 실제로 유사한지 시각화를 해서 알아보자"
   ]
  },
  {
   "cell_type": "code",
   "execution_count": null,
   "id": "3a89440d",
   "metadata": {},
   "outputs": [],
   "source": [
    "def show_result(res):\n",
    "    f = plt.figure(figsize=(10,3))\n",
    "    for idx, filename in enumerate(result.keys()):\n",
    "        img_path = os.path.join(images_dir_path, filename)\n",
    "        im = f.add_subplot(1,len(result),idx+1)\n",
    "        img = Image.open(img_path)\n",
    "        im.imshow(img)\n",
    "        \n",
    "    "
   ]
  },
  {
   "cell_type": "code",
   "execution_count": null,
   "id": "57b5bbc2",
   "metadata": {},
   "outputs": [],
   "source": [
    "show_result(result)"
   ]
  },
  {
   "cell_type": "code",
   "execution_count": null,
   "id": "52c4c4ad",
   "metadata": {},
   "outputs": [],
   "source": [
    "target_histogram = get_target_histogram()\n",
    "result = search(histogram_db, target_histogram)\n",
    "show_result(result)"
   ]
  },
  {
   "cell_type": "markdown",
   "id": "303f7221",
   "metadata": {},
   "source": [
    "---\n",
    "\n",
    "Reference\n",
    "\n",
    "[Basic Image Manipulations in Python and OpenCV: Resizing (scaling), Rotating, and Cropping - PyImageSearch](https://www.pyimagesearch.com/2014/01/20/basic-image-manipulations-in-python-and-opencv-resizing-scaling-rotating-and-cropping/)\n",
    "\n",
    "[Clever Girl: A Guide to Utilizing Color Histograms for Computer Vision and Image Search Engines - PyImageSearch](https://www.pyimagesearch.com/2014/01/22/clever-girl-a-guide-to-utilizing-color-histograms-for-computer-vision-and-image-search-engines/)\n",
    "\n",
    "[Hobbits and Histograms - A How-To Guide to Building Your First Image Search Engine in Python - PyImageSearch](https://www.pyimagesearch.com/2014/01/27/hobbits-and-histograms-a-how-to-guide-to-building-your-first-image-search-engine-in-python/)"
   ]
  },
  {
   "cell_type": "code",
   "execution_count": null,
   "id": "8fc84cca",
   "metadata": {},
   "outputs": [],
   "source": []
  }
 ],
 "metadata": {
  "kernelspec": {
   "display_name": "Python 3 (ipykernel)",
   "language": "python",
   "name": "python3"
  },
  "language_info": {
   "codemirror_mode": {
    "name": "ipython",
    "version": 3
   },
   "file_extension": ".py",
   "mimetype": "text/x-python",
   "name": "python",
   "nbconvert_exporter": "python",
   "pygments_lexer": "ipython3",
   "version": "3.9.7"
  }
 },
 "nbformat": 4,
 "nbformat_minor": 5
}
