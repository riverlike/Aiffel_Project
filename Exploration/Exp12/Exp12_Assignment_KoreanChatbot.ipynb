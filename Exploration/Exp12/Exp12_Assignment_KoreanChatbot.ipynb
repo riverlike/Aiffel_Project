{
  "nbformat": 4,
  "nbformat_minor": 0,
  "metadata": {
    "colab": {
      "name": "Exp12_Assignment_KoreanChatbot.ipynb",
      "provenance": [],
      "collapsed_sections": []
    },
    "kernelspec": {
      "name": "python3",
      "display_name": "Python 3"
    },
    "language_info": {
      "name": "python"
    },
    "accelerator": "GPU"
  },
  "cells": [
    {
      "cell_type": "markdown",
      "source": [
        "## 챗봇 만들기\n",
        "\n",
        "이번프로젝트에서는 한국어데이터로  챗본을 구현해보겠다. 한국어 챗봇 데이터는 송영숙님이 공개한 [데이터](https://github.com/songys/Chatbot_data)를 사용했다.\n",
        "\n",
        "\n",
        " - [ChatBotData.csv](https://raw.githubusercontent.com/songys/Chatbot_data/master/ChatbotData.csv) : 챗봇 트레이닝용 문답 페어 11,876개\n",
        " -  다음카페 \"사랑보다 아름다운 실연( http://cafe116.daum.net/_c21_/home?grpid=1bld )\"에서 자주 나오는 이야기들을 참고하여 제작하였다고함.\n",
        " - 연애나 일상이야기위주로 데이터셋이 구성된것을 확인할 수 있다.  \n",
        "  - 일상다반사 0, 이별(부정) 1, 사랑(긍정) 2로 레이블링\n",
        " \n",
        "---\n",
        "관련 라이브러리를 로드하고 데이터셋부터 설정해보겠다.\n"
      ],
      "metadata": {
        "id": "5L1PYoIABy6g"
      }
    },
    {
      "cell_type": "code",
      "source": [
        "import tensorflow as tf\n",
        "import tensorflow_datasets as tfds\n",
        "import os\n",
        "import re\n",
        "import numpy as np\n",
        "import matplotlib.pyplot as plt\n",
        "import urllib.request\n",
        "import pandas as pd\n"
      ],
      "metadata": {
        "id": "cUraayzDM_BS"
      },
      "execution_count": null,
      "outputs": []
    },
    {
      "cell_type": "markdown",
      "source": [
        "## 챗봇의 병렬 데이터 받아오기\n",
        "\n",
        "\n"
      ],
      "metadata": {
        "id": "KDRSFm-SEUfv"
      }
    },
    {
      "cell_type": "markdown",
      "source": [
        "### 데이터 로드"
      ],
      "metadata": {
        "id": "cc8LuQe4Qh-G"
      }
    },
    {
      "cell_type": "code",
      "source": [
        "urllib.request.urlretrieve(\"https://raw.githubusercontent.com/songys/Chatbot_data/master/ChatbotData.csv\", filename=\"ChatBotData.csv\")\n",
        "train_data = pd.read_csv('ChatBotData.csv')\n",
        "\n",
        "train_data.head()"
      ],
      "metadata": {
        "colab": {
          "base_uri": "https://localhost:8080/",
          "height": 206
        },
        "id": "xHVx9SKWNPwJ",
        "outputId": "628e4688-d7cd-40a0-be4b-ed0cba30a3c0"
      },
      "execution_count": null,
      "outputs": [
        {
          "output_type": "execute_result",
          "data": {
            "text/html": [
              "\n",
              "  <div id=\"df-55899589-6d54-4aee-9023-6aac79c4ba87\">\n",
              "    <div class=\"colab-df-container\">\n",
              "      <div>\n",
              "<style scoped>\n",
              "    .dataframe tbody tr th:only-of-type {\n",
              "        vertical-align: middle;\n",
              "    }\n",
              "\n",
              "    .dataframe tbody tr th {\n",
              "        vertical-align: top;\n",
              "    }\n",
              "\n",
              "    .dataframe thead th {\n",
              "        text-align: right;\n",
              "    }\n",
              "</style>\n",
              "<table border=\"1\" class=\"dataframe\">\n",
              "  <thead>\n",
              "    <tr style=\"text-align: right;\">\n",
              "      <th></th>\n",
              "      <th>Q</th>\n",
              "      <th>A</th>\n",
              "      <th>label</th>\n",
              "    </tr>\n",
              "  </thead>\n",
              "  <tbody>\n",
              "    <tr>\n",
              "      <th>0</th>\n",
              "      <td>12시 땡!</td>\n",
              "      <td>하루가 또 가네요.</td>\n",
              "      <td>0</td>\n",
              "    </tr>\n",
              "    <tr>\n",
              "      <th>1</th>\n",
              "      <td>1지망 학교 떨어졌어</td>\n",
              "      <td>위로해 드립니다.</td>\n",
              "      <td>0</td>\n",
              "    </tr>\n",
              "    <tr>\n",
              "      <th>2</th>\n",
              "      <td>3박4일 놀러가고 싶다</td>\n",
              "      <td>여행은 언제나 좋죠.</td>\n",
              "      <td>0</td>\n",
              "    </tr>\n",
              "    <tr>\n",
              "      <th>3</th>\n",
              "      <td>3박4일 정도 놀러가고 싶다</td>\n",
              "      <td>여행은 언제나 좋죠.</td>\n",
              "      <td>0</td>\n",
              "    </tr>\n",
              "    <tr>\n",
              "      <th>4</th>\n",
              "      <td>PPL 심하네</td>\n",
              "      <td>눈살이 찌푸려지죠.</td>\n",
              "      <td>0</td>\n",
              "    </tr>\n",
              "  </tbody>\n",
              "</table>\n",
              "</div>\n",
              "      <button class=\"colab-df-convert\" onclick=\"convertToInteractive('df-55899589-6d54-4aee-9023-6aac79c4ba87')\"\n",
              "              title=\"Convert this dataframe to an interactive table.\"\n",
              "              style=\"display:none;\">\n",
              "        \n",
              "  <svg xmlns=\"http://www.w3.org/2000/svg\" height=\"24px\"viewBox=\"0 0 24 24\"\n",
              "       width=\"24px\">\n",
              "    <path d=\"M0 0h24v24H0V0z\" fill=\"none\"/>\n",
              "    <path d=\"M18.56 5.44l.94 2.06.94-2.06 2.06-.94-2.06-.94-.94-2.06-.94 2.06-2.06.94zm-11 1L8.5 8.5l.94-2.06 2.06-.94-2.06-.94L8.5 2.5l-.94 2.06-2.06.94zm10 10l.94 2.06.94-2.06 2.06-.94-2.06-.94-.94-2.06-.94 2.06-2.06.94z\"/><path d=\"M17.41 7.96l-1.37-1.37c-.4-.4-.92-.59-1.43-.59-.52 0-1.04.2-1.43.59L10.3 9.45l-7.72 7.72c-.78.78-.78 2.05 0 2.83L4 21.41c.39.39.9.59 1.41.59.51 0 1.02-.2 1.41-.59l7.78-7.78 2.81-2.81c.8-.78.8-2.07 0-2.86zM5.41 20L4 18.59l7.72-7.72 1.47 1.35L5.41 20z\"/>\n",
              "  </svg>\n",
              "      </button>\n",
              "      \n",
              "  <style>\n",
              "    .colab-df-container {\n",
              "      display:flex;\n",
              "      flex-wrap:wrap;\n",
              "      gap: 12px;\n",
              "    }\n",
              "\n",
              "    .colab-df-convert {\n",
              "      background-color: #E8F0FE;\n",
              "      border: none;\n",
              "      border-radius: 50%;\n",
              "      cursor: pointer;\n",
              "      display: none;\n",
              "      fill: #1967D2;\n",
              "      height: 32px;\n",
              "      padding: 0 0 0 0;\n",
              "      width: 32px;\n",
              "    }\n",
              "\n",
              "    .colab-df-convert:hover {\n",
              "      background-color: #E2EBFA;\n",
              "      box-shadow: 0px 1px 2px rgba(60, 64, 67, 0.3), 0px 1px 3px 1px rgba(60, 64, 67, 0.15);\n",
              "      fill: #174EA6;\n",
              "    }\n",
              "\n",
              "    [theme=dark] .colab-df-convert {\n",
              "      background-color: #3B4455;\n",
              "      fill: #D2E3FC;\n",
              "    }\n",
              "\n",
              "    [theme=dark] .colab-df-convert:hover {\n",
              "      background-color: #434B5C;\n",
              "      box-shadow: 0px 1px 3px 1px rgba(0, 0, 0, 0.15);\n",
              "      filter: drop-shadow(0px 1px 2px rgba(0, 0, 0, 0.3));\n",
              "      fill: #FFFFFF;\n",
              "    }\n",
              "  </style>\n",
              "\n",
              "      <script>\n",
              "        const buttonEl =\n",
              "          document.querySelector('#df-55899589-6d54-4aee-9023-6aac79c4ba87 button.colab-df-convert');\n",
              "        buttonEl.style.display =\n",
              "          google.colab.kernel.accessAllowed ? 'block' : 'none';\n",
              "\n",
              "        async function convertToInteractive(key) {\n",
              "          const element = document.querySelector('#df-55899589-6d54-4aee-9023-6aac79c4ba87');\n",
              "          const dataTable =\n",
              "            await google.colab.kernel.invokeFunction('convertToInteractive',\n",
              "                                                     [key], {});\n",
              "          if (!dataTable) return;\n",
              "\n",
              "          const docLinkHtml = 'Like what you see? Visit the ' +\n",
              "            '<a target=\"_blank\" href=https://colab.research.google.com/notebooks/data_table.ipynb>data table notebook</a>'\n",
              "            + ' to learn more about interactive tables.';\n",
              "          element.innerHTML = '';\n",
              "          dataTable['output_type'] = 'display_data';\n",
              "          await google.colab.output.renderOutput(dataTable, element);\n",
              "          const docLink = document.createElement('div');\n",
              "          docLink.innerHTML = docLinkHtml;\n",
              "          element.appendChild(docLink);\n",
              "        }\n",
              "      </script>\n",
              "    </div>\n",
              "  </div>\n",
              "  "
            ],
            "text/plain": [
              "                 Q            A  label\n",
              "0           12시 땡!   하루가 또 가네요.      0\n",
              "1      1지망 학교 떨어졌어    위로해 드립니다.      0\n",
              "2     3박4일 놀러가고 싶다  여행은 언제나 좋죠.      0\n",
              "3  3박4일 정도 놀러가고 싶다  여행은 언제나 좋죠.      0\n",
              "4          PPL 심하네   눈살이 찌푸려지죠.      0"
            ]
          },
          "metadata": {},
          "execution_count": 85
        }
      ]
    },
    {
      "cell_type": "markdown",
      "source": [
        "질문과 답변데이터로 깔끔하게 정리되어있는 데이터를 확인할 수 있다."
      ],
      "metadata": {
        "id": "qaAlwxM4OyHi"
      }
    },
    {
      "cell_type": "code",
      "source": [
        "print('챗봇 데이터 샘플의 개수 :', len(train_data))\n",
        "print('결측값이 있는 샘플값의 갯수:', train_data.isnull().sum())"
      ],
      "metadata": {
        "colab": {
          "base_uri": "https://localhost:8080/"
        },
        "id": "7g0D6b78Owvo",
        "outputId": "b8553cbc-b2a2-4cbb-cc3b-488d0fca485b"
      },
      "execution_count": null,
      "outputs": [
        {
          "output_type": "stream",
          "name": "stdout",
          "text": [
            "챗봇 데이터 샘플의 개수 : 11823\n",
            "결측값이 있는 샘플값의 갯수: Q        0\n",
            "A        0\n",
            "label    0\n",
            "dtype: int64\n"
          ]
        }
      ]
    },
    {
      "cell_type": "markdown",
      "source": [
        "한국어 챗봇의 샘플 문장은 1만 천여건이며 결측치도 확인되지 않아 이대로 각문장을 학습에 사용하면 되겠다. \n",
        "\n",
        "이전 LMS와 다른부분이 있다면 입력 데이터셋이 한국어라는 점인데 한국어문장에 대해서 보통의 경우 형태소분석을 통해 불용어를 제거해주는 과정이 들어가지만 이번프로젝트에서는 텐서플로우의 SubwordTextEncoder를 이용하여 전처리과정이 간소화되었다. 또한 DataFrame에 미리 정제된(특수기호등이 제거) 데이터들이 들어있어 전처리를 편하게 할수있었다.\n",
        "\n",
        "\n",
        "\n",
        "우선 데이터를 전처리하여 질문을 questions, 답변을 answers에 저장한다."
      ],
      "metadata": {
        "id": "5DprzykuNVVh"
      }
    },
    {
      "cell_type": "code",
      "source": [
        "# 전처리 함수\n",
        "def preprocess_sentence(sentence):\n",
        "    # 단어와 구두점(punctuation - 문장부호 4개) 사이의 거리를 만듭니다.\n",
        "    sentence = re.sub(r\"([?.!,])\", r\" \\1 \", sentence)\n",
        "    sentence = sentence.strip()\n",
        "    \n",
        "    return sentence\n",
        "\n",
        "questions = []\n",
        "answers = []\n",
        "\n",
        "for sentence in train_data['Q']:\n",
        "    questions.append(preprocess_sentence(sentence))\n",
        "for sentence in train_data['A']:\n",
        "    answers.append(preprocess_sentence(sentence))"
      ],
      "metadata": {
        "id": "N71fz4WyjjbN"
      },
      "execution_count": null,
      "outputs": []
    },
    {
      "cell_type": "markdown",
      "source": [
        "본 프로젝트에서 전처리시 특징이 있는데, 전처리후 문장부호(?.!,) 및 영문자가 남아 있다는 점이다.\n",
        "\n",
        " - 문장부호의 경우 하나의 토큰으로 취급된다는 점도 관심을 가져야하는데, 질문 문장안에 문장부호에 따라 답변이 바뀔 것이므로 전처리시 학습에 필요한 단어나 부호의 포함 여부가 중요할 것이다.\n",
        "\n",
        " - 한국어 표현에서 영어의 비율도 늘어나고 있는데 한국어 이외의 단어를 삭제할때 학습에 영향을 미치는 부분도 고려해야할 것 같다. 실제 네이버 리뷰에서 영문으로 리뷰를 남긴경우는 해당 샘플이 모두 공백처리되어 해당 데이터에 대한 긍정부정결과는 수긍하기 어려웠다. 따라서 영문자도 반영한 자연어 처리를 잘할수 있는 방법도 고민해가면 좋겠다. \n",
        "\n",
        "샘플문장을 전처리해보자"
      ],
      "metadata": {
        "id": "K8PnoXt9pheG"
      }
    },
    {
      "cell_type": "code",
      "source": [
        "preprocess_sentence('기분이 묘해,왜일까요?') # , ? 가 잘남아있다."
      ],
      "metadata": {
        "colab": {
          "base_uri": "https://localhost:8080/",
          "height": 35
        },
        "id": "9B1kxWOajmnE",
        "outputId": "adced51c-a0ca-423b-8a9e-8c8e244d77b4"
      },
      "execution_count": null,
      "outputs": [
        {
          "output_type": "execute_result",
          "data": {
            "application/vnd.google.colaboratory.intrinsic+json": {
              "type": "string"
            },
            "text/plain": [
              "'기분이 묘해 , 왜일까요 ?'"
            ]
          },
          "metadata": {},
          "execution_count": 8
        }
      ]
    },
    {
      "cell_type": "code",
      "source": [
        "preprocess_sentence('SNS 맞팔 왜 안하지ㅠㅠ') #sns 라는 영문자도 잘남아 있다. "
      ],
      "metadata": {
        "id": "DvR7mknwOwMw",
        "colab": {
          "base_uri": "https://localhost:8080/",
          "height": 35
        },
        "outputId": "40e796b8-584d-4603-8631-b76f375b164a"
      },
      "execution_count": null,
      "outputs": [
        {
          "output_type": "execute_result",
          "data": {
            "application/vnd.google.colaboratory.intrinsic+json": {
              "type": "string"
            },
            "text/plain": [
              "'SNS 맞팔 왜 안하지ㅠㅠ'"
            ]
          },
          "metadata": {},
          "execution_count": 9
        }
      ]
    },
    {
      "cell_type": "markdown",
      "source": [
        "이제 전처리된 질문과 답변에 있는 모든 문장에 대해 토크나이즈를 진행한다. \n",
        "이전 프로젝트와는 다르게 한국어 형태소 분석기를 통한 토크나이징이아닌 텐서플로우의 SubwordTextEncoder를 이용한다.\n",
        "\n",
        "\n",
        "### SubwordTextEncoder\n",
        "- 텐서플로우를 통해 사용할 수 있는 서브워드 토크나이저\n",
        "- 하나의 단어는 더 작은 단위의 의미있는 여러 서브워드들(Ex : birthplace = birth + place)의 조합으로 구성된 경우가 많기 때문에, 하나의 단어를 여러 서브워드로 분리하는 전처리 작업\n",
        " - 띄어쓰기 단위나 형태소 분석 단위로 분리되지 않고 의미있는 단위의 서브워드로 나뉘는점이 특징\n",
        "- 영어권 언어나 한국어는 서브워드 분리를 시도했을 때 어느정도 의미있는 단위로 나누는 것이 가능\n",
        "\n",
        "- build_from_corpus 함수\n",
        " - 토큰화 할 데이터 설정하면 서브워드로 이루어진 단어사전이 생성되고 각 단어에 고유한 정수가 부여된다.\n",
        " - 토크나이저 객체를 반환한다.\n",
        "- tokenizer.encode() : 단어 시퀀스를 정수 시퀀스로 변환\n",
        "- tokenizer.decode() : 정수 시퀀스를 단어 시퀀스로 변환\n"
      ],
      "metadata": {
        "id": "JOxO1ONGSj5q"
      }
    },
    {
      "cell_type": "code",
      "source": [
        "# 질문과 답변 데이터셋에 대해서 Vocabulary 생성. (Tensorflow 2.3.0 이상) (클라우드는 2.4 입니다)\n",
        "tokenizer = tfds.deprecated.text.SubwordTextEncoder.build_from_corpus(questions + answers, target_vocab_size=2**13)\n",
        "tokenizer.vocab_size"
      ],
      "metadata": {
        "colab": {
          "base_uri": "https://localhost:8080/"
        },
        "id": "hF9u2Ih6OZnx",
        "outputId": "8203db90-74f3-417b-82f1-6e9031e22193"
      },
      "execution_count": null,
      "outputs": [
        {
          "output_type": "execute_result",
          "data": {
            "text/plain": [
              "8178"
            ]
          },
          "metadata": {},
          "execution_count": 87
        }
      ]
    },
    {
      "cell_type": "markdown",
      "source": [
        "questions + answers 문장들에서 8178 개의 단어사전이 만들어졌다. build_from_corpus함수를 통해 문장들을 이루는 단어들은 수치화되었다. 여기에 시작토큰과 종료토큰을 추가하여 vocab_size를 설정해준다.\n"
      ],
      "metadata": {
        "id": "Gt-1LH_CKs5G"
      }
    },
    {
      "cell_type": "code",
      "source": [
        "# 시작 토큰과 종료 토큰에 고유한 정수를 부여합니다.\n",
        "START_TOKEN, END_TOKEN = [tokenizer.vocab_size], [tokenizer.vocab_size + 1]\n",
        "\n",
        "print('START_TOKEN의 번호 :' ,[tokenizer.vocab_size])\n",
        "print('END_TOKEN의 번호 :' ,[tokenizer.vocab_size + 1])\n",
        "\n",
        "# 시작 토큰과 종료 토큰을 고려하여 +2를 하여 단어장의 크기를 산정합니다.\n",
        "VOCAB_SIZE = tokenizer.vocab_size + 2\n",
        "print('단어사전 크기 : ',VOCAB_SIZE)"
      ],
      "metadata": {
        "colab": {
          "base_uri": "https://localhost:8080/"
        },
        "id": "Y1hPxw9lEH0D",
        "outputId": "33478c27-368d-4299-e205-90e5da729ba9"
      },
      "execution_count": null,
      "outputs": [
        {
          "output_type": "stream",
          "name": "stdout",
          "text": [
            "START_TOKEN의 번호 : [8178]\n",
            "END_TOKEN의 번호 : [8179]\n",
            "단어사전 크기 :  8180\n"
          ]
        }
      ]
    },
    {
      "cell_type": "code",
      "source": [
        "# 서브워드텍스트인코더 토크나이저의 .encode()를 사용하여 텍스트 시퀀스를 정수 시퀀스로 변환.\n",
        "print('Tokenized sample question: {}'.format(tokenizer.encode(questions[10])))"
      ],
      "metadata": {
        "colab": {
          "base_uri": "https://localhost:8080/"
        },
        "id": "JAWKnBLEEHdi",
        "outputId": "8f3176b5-9e3e-4a74-f65e-8452a093fc28"
      },
      "execution_count": null,
      "outputs": [
        {
          "output_type": "stream",
          "name": "stdout",
          "text": [
            "Tokenized sample question: [5779, 484, 194, 2984, 45, 3818]\n"
          ]
        }
      ]
    },
    {
      "cell_type": "markdown",
      "source": [
        "```\n",
        "SNS보면 나만 빼고 다 행복해보여\n",
        "```\n",
        "\"SNS\"와 \"보면\"이 따로 토큰으로 잘 나누어져 있다."
      ],
      "metadata": {
        "id": "Knn6az0UTPtq"
      }
    },
    {
      "cell_type": "code",
      "source": [
        "print('Tokenized data: {}'.format(tokenizer.decode([5779])))\n",
        "print('Tokenized data: {}'.format(tokenizer.decode([484])))"
      ],
      "metadata": {
        "colab": {
          "base_uri": "https://localhost:8080/"
        },
        "id": "5m2zN33DTC6b",
        "outputId": "3af65930-4c0a-47ed-b8ae-0ef55c36c79c"
      },
      "execution_count": null,
      "outputs": [
        {
          "output_type": "stream",
          "name": "stdout",
          "text": [
            "Tokenized data: SNS\n",
            "Tokenized data: 보면 \n"
          ]
        }
      ]
    },
    {
      "cell_type": "markdown",
      "source": [
        "추가로 토큰화 된 20개의 서브워드들도 출력해보자."
      ],
      "metadata": {
        "id": "iOG72VprTaCU"
      }
    },
    {
      "cell_type": "code",
      "source": [
        "print(tokenizer.subwords[:20])"
      ],
      "metadata": {
        "colab": {
          "base_uri": "https://localhost:8080/"
        },
        "id": "g8AVbq5gTKPl",
        "outputId": "db603d3d-f51d-4b0a-ffc2-08a10a27673c"
      },
      "execution_count": null,
      "outputs": [
        {
          "output_type": "stream",
          "name": "stdout",
          "text": [
            "[' .', ' ?', '거예요', '수_', '게_', '너무_', '더_', '거_', '좋아하는_', '는_', '이_', '을_', '잘_', '도_', ' .  ', '고_', '요', '것_', '많이_', '안_']\n"
          ]
        }
      ]
    },
    {
      "cell_type": "markdown",
      "source": [
        "이제 전체 질문, 답변 데이터에 대해 정수 인코딩및 pad_sequence를 진행하겠다. 문장의 최대길이는 40으로 두었고 패딩은 뒤쪽에 붙였다."
      ],
      "metadata": {
        "id": "vjHaV_kQIvJR"
      }
    },
    {
      "cell_type": "code",
      "source": [
        "# 샘플의 최대 허용 길이 또는 패딩 후의 최종 길이\n",
        "MAX_LENGTH = 40\n",
        "\n",
        "# 정수 인코딩, 최대 길이를 초과하는 샘플 제거, 패딩\n",
        "def tokenize_and_filter(inputs, outputs):\n",
        "  tokenized_inputs, tokenized_outputs = [], []\n",
        "  \n",
        "  for (sentence1, sentence2) in zip(inputs, outputs):\n",
        "    # 정수 인코딩 과정에서 시작 토큰과 종료 토큰을 추가\n",
        "    sentence1 = START_TOKEN + tokenizer.encode(sentence1) + END_TOKEN\n",
        "    sentence2 = START_TOKEN + tokenizer.encode(sentence2) + END_TOKEN\n",
        "\n",
        "    # 최대 길이 40 이하인 경우에만 데이터셋으로 허용\n",
        "    if len(sentence1) <= MAX_LENGTH and len(sentence2) <= MAX_LENGTH:\n",
        "      tokenized_inputs.append(sentence1)\n",
        "      tokenized_outputs.append(sentence2)\n",
        "  \n",
        "  # 최대 길이 40으로 모든 데이터셋을 패딩\n",
        "  tokenized_inputs = tf.keras.preprocessing.sequence.pad_sequences(\n",
        "      tokenized_inputs, maxlen=MAX_LENGTH, padding='post')\n",
        "  tokenized_outputs = tf.keras.preprocessing.sequence.pad_sequences(\n",
        "      tokenized_outputs, maxlen=MAX_LENGTH, padding='post')\n",
        "  \n",
        "  return tokenized_inputs, tokenized_outputs\n",
        "\n",
        "questions, answers = tokenize_and_filter(questions, answers)\n",
        "print('단어장의 크기 :',(VOCAB_SIZE))\n",
        "print('필터링 후의 질문 샘플 개수: {}'.format(len(questions)))\n",
        "print('필터링 후의 답변 샘플 개수: {}'.format(len(answers)))"
      ],
      "metadata": {
        "colab": {
          "base_uri": "https://localhost:8080/"
        },
        "id": "0kOMwgtrFJuw",
        "outputId": "7c8fc1e8-0486-4dd2-cdeb-5f9398df469f"
      },
      "execution_count": null,
      "outputs": [
        {
          "output_type": "stream",
          "name": "stdout",
          "text": [
            "단어장의 크기 : 8180\n",
            "필터링 후의 질문 샘플 개수: 11823\n",
            "필터링 후의 답변 샘플 개수: 11823\n"
          ]
        }
      ]
    },
    {
      "cell_type": "code",
      "source": [
        "# 10번째 샘플을 임의로 출력\n",
        "print(questions[10])\n",
        "print(answers[10])"
      ],
      "metadata": {
        "colab": {
          "base_uri": "https://localhost:8080/"
        },
        "id": "JfOVxjN-RkNs",
        "outputId": "007ab2f4-5251-4b04-81f9-7578080a6505"
      },
      "execution_count": null,
      "outputs": [
        {
          "output_type": "stream",
          "name": "stdout",
          "text": [
            "[8178 5779  484  194 2984   45 3818 8179    0    0    0    0    0    0\n",
            "    0    0    0    0    0    0    0    0    0    0    0    0    0    0\n",
            "    0    0    0    0    0    0    0    0    0    0    0    0]\n",
            "[8178 6346   48 1628  334    1 8179    0    0    0    0    0    0    0\n",
            "    0    0    0    0    0    0    0    0    0    0    0    0    0    0\n",
            "    0    0    0    0    0    0    0    0    0    0    0    0]\n"
          ]
        }
      ]
    },
    {
      "cell_type": "markdown",
      "source": [
        "10번째 문장에 시작토큰과, 종료토큰, 패딩이 적절히 들어간것이 확인된다."
      ],
      "metadata": {
        "id": "Ay-h-aQrT4l8"
      }
    },
    {
      "cell_type": "code",
      "source": [
        "print('단어 집합의 크기(Vocab size): {}'.format(VOCAB_SIZE))\n",
        "print('전체 샘플의 수(Number of samples): {}'.format(len(questions)))"
      ],
      "metadata": {
        "colab": {
          "base_uri": "https://localhost:8080/"
        },
        "id": "aMuctB2tRnpV",
        "outputId": "c9d72ab4-4ed2-45b7-cffd-a3373eb0250b"
      },
      "execution_count": null,
      "outputs": [
        {
          "output_type": "stream",
          "name": "stdout",
          "text": [
            "단어 집합의 크기(Vocab size): 8180\n",
            "전체 샘플의 수(Number of samples): 11823\n"
          ]
        }
      ]
    },
    {
      "cell_type": "markdown",
      "source": [
        "### 입력 파이프라인 구성\n",
        "디코더 데이터셋의 경우 Teacher Forcing 훈련기법에 따라 answers[:, :-1]를 디코더의 입력값, answers[:, 1:]를 디코더의 레이블로 사용한다.\n",
        "\n",
        "인코더  \n",
        " - 입력 : questions 질문 문장\n",
        "\n",
        "디코더\n",
        " - 입력 : answers 답변 문장 - 마지막 패딩토큰 제거하고 설정\n",
        " - 출력 : answers 답변 문장 - 맨처음 토큰을 제거하고 설정\n",
        "\n"
      ],
      "metadata": {
        "id": "V5a7Jg0KU0ay"
      }
    },
    {
      "cell_type": "code",
      "source": [
        "BATCH_SIZE = 64\n",
        "BUFFER_SIZE = 20000\n",
        "\n",
        "# 디코더는 이전의 target을 다음의 input으로 사용합니다.\n",
        "# 이에 따라 outputs에서는 START_TOKEN을 제거하겠습니다.\n",
        "dataset = tf.data.Dataset.from_tensor_slices((\n",
        "    {\n",
        "        'inputs': questions,\n",
        "        'dec_inputs': answers[:, :-1]\n",
        "    },\n",
        "    {\n",
        "        'outputs': answers[:, 1:]\n",
        "    },\n",
        "))\n",
        "\n",
        "dataset = dataset.cache()\n",
        "dataset = dataset.shuffle(BUFFER_SIZE)\n",
        "dataset = dataset.batch(BATCH_SIZE)\n",
        "dataset = dataset.prefetch(tf.data.experimental.AUTOTUNE)\n"
      ],
      "metadata": {
        "id": "dilFWxCRFNK1"
      },
      "execution_count": null,
      "outputs": []
    },
    {
      "cell_type": "markdown",
      "source": [
        "## 인코더 디코더 구현\n",
        "트랜스포머에 필요한 인코더 디코더의 흐름을 정리해보고 세부적인 구현에 들어가보자.\n",
        "\n",
        "![ㅇ](https://nlpinkorean.github.io/images/transformer/Transformer_decoder.png)\n",
        "\n",
        "### 인코더\n",
        "1. 임베딩 레이어 \n",
        " - 입력(질문) 데이터셋의 vocab_size(단어사전수), d_model(임베딩 차원수 설정)\n",
        "2. 포지셔널 인코딩 \n",
        " -  임베딩에 대한 위치정보 설정\n",
        "3. 인코더 레이어\n",
        " - num_layers 만큼 인코더 레이어를 쌓음(본프로젝트에서는 두개를 사용)\n",
        " - 단어 임베딩 정보와 padding_mask를 입력으로 받음\n",
        " - 내부적으로 두 개의 sub-layer로 구성 \n",
        "  1.  첫 번째 서브 레이어 : Multi-Head Attetion 층 (셀프 어텐션)\n",
        "  2.  두 번째 서브 레이어 : 2개의 완전연결층\n",
        " - sub-layer 통과후 Dropout과 LayerNormalization 처리\n",
        "4. 결과 \n",
        "\n",
        " \n",
        "### 디코더\n",
        "1. 임베딩 레이어 \n",
        " - 입력(답변) 데이터셋의 vocab_size(단어사전수), d_model(임베딩 차원수 설정)\n",
        "2. 포지셔널 인코딩 \n",
        " -  임베딩에 대한 위치정보 설정\n",
        "3. 디코더 레이어\n",
        " - num_layers 만큼 디코더 레이어를 쌓음(본프로젝트에서는 두개를 사용)\n",
        " - 단어 임베딩 정보와 padding_mask, 인코더 출력, look_ahead_mask 등 4가지 정보를 입력으로 받음.\n",
        " - 내부적으로 세 개의 sub-layer로 구성 \n",
        "  1.  첫 번째 서브 레이어 : Multi-Head Attetion 층 (셀프 어텐션)\n",
        "  2.  두 번째 서브 레이어 : 마스크드 Multi-Head Attetion 층 (인코더-디코더 어텐션)\n",
        "  3.  세 번째 서브 레이어 : 2개의 완전연결층\n",
        " - sub-layer 통과후 Dropout과 LayerNormalization 처리\n",
        "4. 결과 \n",
        "\n",
        " \n"
      ],
      "metadata": {
        "id": "GphyH6tzkmLI"
      }
    },
    {
      "cell_type": "markdown",
      "source": [
        "### Positional Encoding\n",
        "- 단어를 RNN처럼 순서대로 넣는 대신 문장을 한번에 뭉치로 보는 attention mechanism을 쓰기 때문에 이 단어의 순서에 대한 정보 추가적으로 설정해줌.\n",
        "- 단순하게 N 번째이다하고 숫자를 첨부하는 것이 아니라, sin, cos함수를 합성하여 나타낸 vector로 표현\n",
        " - 하나의 함수가 아닌 두개의 sin, cos을 씀으로써 특정 단어의 위치값이 동일해지는 것을 방지하고 주기함수의 특성상 위치가 커질때 위치값을 일정하게 증가, 감소하여 표현 할수있다.\n"
      ],
      "metadata": {
        "id": "MnjGMbN6kzSo"
      }
    },
    {
      "cell_type": "code",
      "source": [
        "# 포지셔널 인코딩 레이어\n",
        "class PositionalEncoding(tf.keras.layers.Layer):\n",
        "\n",
        "  def __init__(self, position, d_model):\n",
        "    super(PositionalEncoding, self).__init__()\n",
        "    self.pos_encoding = self.positional_encoding(position, d_model)\n",
        "\n",
        "  def get_angles(self, position, i, d_model):\n",
        "    angles = 1 / tf.pow(10000, (2 * (i // 2)) / tf.cast(d_model, tf.float32))\n",
        "    return position * angles\n",
        "\n",
        "  def positional_encoding(self, position, d_model):\n",
        "    # 각도 배열 생성\n",
        "    angle_rads = self.get_angles(\n",
        "        position=tf.range(position, dtype=tf.float32)[:, tf.newaxis],\n",
        "        i=tf.range(d_model, dtype=tf.float32)[tf.newaxis, :],\n",
        "        d_model=d_model)\n",
        "\n",
        "    # 배열의 짝수 인덱스에는 sin 함수 적용\n",
        "    sines = tf.math.sin(angle_rads[:, 0::2])\n",
        "    # 배열의 홀수 인덱스에는 cosine 함수 적용\n",
        "    cosines = tf.math.cos(angle_rads[:, 1::2])\n",
        "\n",
        "    # sin과 cosine이 교차되도록 재배열\n",
        "    pos_encoding = tf.stack([sines, cosines], axis=0)\n",
        "    pos_encoding = tf.transpose(pos_encoding,[1, 2, 0]) \n",
        "    pos_encoding = tf.reshape(pos_encoding, [position, d_model])\n",
        "\n",
        "    pos_encoding = pos_encoding[tf.newaxis, ...]\n",
        "    return tf.cast(pos_encoding, tf.float32)\n",
        "\n",
        "  def call(self, inputs):\n",
        "    return inputs + self.pos_encoding[:, :tf.shape(inputs)[1], :]\n"
      ],
      "metadata": {
        "id": "D0cCM0GKk1OR"
      },
      "execution_count": null,
      "outputs": []
    },
    {
      "cell_type": "markdown",
      "source": [
        "###  Scaled Dot-Product Attention\n",
        "![ㅇ](https://catsirup.github.io/assets/images/transformer/photo9.png)\n",
        "\n",
        "- 단어의 임베딩 벡터와 학습가능한 행렬(Weight행렬)을 곱하여  3개의 벡터(Query 벡터, Key 벡터, 그리고 Value 벡터)를 생성\n",
        "\n",
        "- query와 유사한 value일수록 더 높은 값을 가지게 되어 중요한 정보로 인식할수 있다.\n",
        "\n",
        "- 마스킹. 어텐션 스코어 행렬의 마스킹 할 위치에 매우 작은 음수값을 넣어 단어간 유사도를 구할때 \\<pad>토큰은 반영되지 않도록한다.\n"
      ],
      "metadata": {
        "id": "gfGSe121k433"
      }
    },
    {
      "cell_type": "code",
      "source": [
        "# 스케일드 닷 프로덕트 어텐션 함수\n",
        "def scaled_dot_product_attention(query, key, value, mask):\n",
        "  # query 크기 : (batch_size, num_heads, query의 문장 길이, d_model/num_heads)\n",
        "  # key 크기 : (batch_size, num_heads, key의 문장 길이, d_model/num_heads)\n",
        "  # value 크기 : (batch_size, num_heads, value의 문장 길이, d_model/num_heads)\n",
        "  # padding_mask : (batch_size, 1, 1, key의 문장 길이)\n",
        "  \n",
        "  # 어텐션 가중치는 Q와 K의 닷 프로덕트\n",
        "  matmul_qk = tf.matmul(query, key, transpose_b=True)\n",
        "\n",
        "  # 가중치를 정규화\n",
        "  depth = tf.cast(tf.shape(key)[-1], tf.float32)\n",
        "  logits = matmul_qk / tf.math.sqrt(depth)\n",
        "\n",
        "  # 패딩에 마스크 추가 \n",
        "  if mask is not None:\n",
        "    logits += (mask * -1e9) # 패드부분에 매우작은 음수값을 설정\n",
        "\n",
        "  # softmax적용\n",
        "  attention_weights = tf.nn.softmax(logits, axis=-1)\n",
        "\n",
        "  # 최종 어텐션은 가중치와 V의 닷 프로덕트\n",
        "  output = tf.matmul(attention_weights, value)\n",
        "  return output\n"
      ],
      "metadata": {
        "id": "PDYJ7xm1k5eH"
      },
      "execution_count": null,
      "outputs": []
    },
    {
      "cell_type": "markdown",
      "source": [
        "### MultiHeadAttention\n",
        "\n",
        "- 셀프어텐션은 쿼리에 대해 모든 Key와의 유사도를 구하여 각각의 Value에 반영하여 이값을 가중합하여 반환한다.\n",
        "- d_model의 차원(임베딩 사이즈)을 num_heads개로 나누어 d(model)/num_heads의 차원을 가지는 Q,K,V에 대해서 num_heads개의 병렬 어텐션을 수행\n",
        "- 병렬 어텐션을 모두 수행하였다면, 모든 어텐션 헤드를 연결(concatenate)한다\n",
        "\n",
        "### 트랜스포머모델에서 어텐션의 적용\n",
        "- 인코더의 셀프 어텐션\n",
        " - 이전레이어의 output에서 전달된 K,V,Q 행렬의 모든 위치에 대해 어텐션을 가질수 있다.\n",
        "\n",
        "- 디코더의 첫번째 서브층인 마스크드 셀프 어텐션\n",
        " - 디코더의 현재 타입스텝의 포지션까지 포함하여 모든 위치에 대해 어텐션을 가질수 있다.\n",
        "\n",
        "- 디코더의 두번째 서브층인 인코더-디코더 어텐션\n",
        " - Query는 이전의 디코더 레이어에서 오고, Key와 Value는 인코더의 output으로부터 온다. 디코더의 모든 position을 참조할 수 있고, 인코더의 output의 모든 position에 attention을 줄 수 있다.\n",
        "\n",
        "\n",
        "\n"
      ],
      "metadata": {
        "id": "GwyGjXGQT4Zj"
      }
    },
    {
      "cell_type": "code",
      "source": [
        "class MultiHeadAttention(tf.keras.layers.Layer):\n",
        "\n",
        "  def __init__(self, d_model, num_heads, name=\"multi_head_attention\"):\n",
        "    super(MultiHeadAttention, self).__init__(name=name)\n",
        "    self.num_heads = num_heads\n",
        "    self.d_model = d_model\n",
        "\n",
        "    assert d_model % self.num_heads == 0\n",
        "\n",
        "    self.depth = d_model // self.num_heads\n",
        "\n",
        "    self.query_dense = tf.keras.layers.Dense(units=d_model)\n",
        "    self.key_dense = tf.keras.layers.Dense(units=d_model)\n",
        "    self.value_dense = tf.keras.layers.Dense(units=d_model)\n",
        "\n",
        "    self.dense = tf.keras.layers.Dense(units=d_model)\n",
        "\n",
        "  def split_heads(self, inputs, batch_size):\n",
        "    inputs = tf.reshape(\n",
        "        inputs, shape=(batch_size, -1, self.num_heads, self.depth))\n",
        "    return tf.transpose(inputs, perm=[0, 2, 1, 3])\n",
        "\n",
        "  def call(self, inputs):\n",
        "    query, key, value, mask = inputs['query'], inputs['key'], inputs[\n",
        "        'value'], inputs['mask']\n",
        "    batch_size = tf.shape(query)[0]\n",
        "\n",
        "    # Q, K, V에 각각 Dense를 적용합니다\n",
        "    query = self.query_dense(query)\n",
        "    key = self.key_dense(key)\n",
        "    value = self.value_dense(value)\n",
        "\n",
        "    # 병렬 연산을 위한 머리를 여러 개 만듭니다\n",
        "    query = self.split_heads(query, batch_size)\n",
        "    key = self.split_heads(key, batch_size)\n",
        "    value = self.split_heads(value, batch_size)\n",
        "\n",
        "    # 스케일드 닷 프로덕트 어텐션 함수\n",
        "    scaled_attention = scaled_dot_product_attention(query, key, value, mask)\n",
        "\n",
        "    scaled_attention = tf.transpose(scaled_attention, perm=[0, 2, 1, 3])\n",
        "\n",
        "    # 어텐션 연산 후에 각 결과를 다시 연결(concatenate)합니다\n",
        "    concat_attention = tf.reshape(scaled_attention,\n",
        "                                  (batch_size, -1, self.d_model))\n",
        "\n",
        "    # 최종 결과에도 Dense를 한 번 더 적용합니다\n",
        "    outputs = self.dense(concat_attention)\n",
        "\n",
        "    return outputs\n"
      ],
      "metadata": {
        "id": "0UeEQp9Jk856"
      },
      "execution_count": null,
      "outputs": []
    },
    {
      "cell_type": "markdown",
      "source": [
        "## 마스킹 관련 함수\n",
        "\n",
        "### 마스크 종류\n",
        "- padding mask \n",
        " - 입력 문장에 \\<pad>토큰이 있을때 어텐션에서 제외시키기위한 연산, 즉 어텐션에서 제외하기위해 값을 가린다는 의미이다.\n",
        "\n",
        "- look ahead mask\n",
        " - self-attention layer에서 현재 스탭 이전의 위치에 참고하도록 현재 스탭이후에 대해서는 가려주는 역할\n",
        "\n",
        "### 트랜스포머모델에서 마스크가 쓰이는 어텐션\n",
        "\n",
        "- 인코더의 셀프 어텐션: 패딩마스크 전달\n",
        "\n",
        "- 디코더의 첫번째 서브층인 마스크드 셀프 어텐션: 룩어헤드 마스크를 전달\n",
        "\n",
        "- 디코더의 두번째 서브층인 인코더-디코더 어텐션: 패딩 마스크를 전달\n",
        "\n",
        "이때, 룩어헤드 마스크를 한다고 해서 패딩 마스크가 불필요한 것이 아니므로 룩어헤드 마스크는 패딩 마스크를 포함한다.\n"
      ],
      "metadata": {
        "id": "EbLYG9fIlBiS"
      }
    },
    {
      "cell_type": "code",
      "source": [
        "def create_padding_mask(x):\n",
        "  mask = tf.cast(tf.math.equal(x, 0), tf.float32)\n",
        "  # (batch_size, 1, 1, sequence length)\n",
        "  return mask[:, tf.newaxis, tf.newaxis, :]\n",
        "\n",
        "# 디코더의 첫번째 서브층(sublayer)에서 미래 토큰을 Mask하는 함수\n",
        "def create_look_ahead_mask(x):\n",
        "  seq_len = tf.shape(x)[1]\n",
        "  look_ahead_mask = 1 - tf.linalg.band_part(tf.ones((seq_len, seq_len)), -1, 0)\n",
        "  padding_mask = create_padding_mask(x)\n",
        "  return tf.maximum(look_ahead_mask, padding_mask)\n"
      ],
      "metadata": {
        "id": "b5GoXraRlDq7"
      },
      "execution_count": null,
      "outputs": []
    },
    {
      "cell_type": "markdown",
      "source": [
        "## 인코더"
      ],
      "metadata": {
        "id": "NofHaaUwlF9t"
      }
    },
    {
      "cell_type": "code",
      "source": [
        "#------------------------------------------------------------\n",
        "# 인코더 레이어\n",
        "#------------------------------------------------------------\n",
        "def encoder_layer(units, d_model, num_heads, dropout, name=\"encoder_layer\"):\n",
        "  inputs = tf.keras.Input(shape=(None, d_model), name=\"inputs\")\n",
        "\n",
        "  # 패딩 마스크 사용\n",
        "  padding_mask = tf.keras.Input(shape=(1, 1, None), name=\"padding_mask\")\n",
        "\n",
        "  # 첫 번째 서브 레이어 : 멀티 헤드 어텐션 수행 (셀프 어텐션)\n",
        "  attention = MultiHeadAttention(\n",
        "      d_model, num_heads, name=\"attention\")({\n",
        "          'query': inputs,\n",
        "          'key': inputs,\n",
        "          'value': inputs,\n",
        "          'mask': padding_mask\n",
        "      })\n",
        "\n",
        "  # 어텐션의 결과는 Dropout과 Layer Normalization이라는 훈련을 돕는 테크닉을 수행\n",
        "  attention = tf.keras.layers.Dropout(rate=dropout)(attention)\n",
        "  attention = tf.keras.layers.LayerNormalization(\n",
        "      epsilon=1e-6)(inputs + attention)\n",
        "\n",
        "  # 두 번째 서브 레이어 : 2개의 완전연결층\n",
        "  outputs = tf.keras.layers.Dense(units=units, activation='relu')(attention)\n",
        "  outputs = tf.keras.layers.Dense(units=d_model)(outputs)\n",
        "\n",
        "  # 완전연결층의 결과는 Dropout과 LayerNormalization이라는 훈련을 돕는 테크닉을 수행\n",
        "  outputs = tf.keras.layers.Dropout(rate=dropout)(outputs)\n",
        "  outputs = tf.keras.layers.LayerNormalization(\n",
        "      epsilon=1e-6)(attention + outputs)\n",
        "\n",
        "  return tf.keras.Model(\n",
        "      inputs=[inputs, padding_mask], outputs=outputs, name=name)\n",
        "\n",
        "#------------------------------------------------------------\n",
        "# 인코더\n",
        "#------------------------------------------------------------\n",
        "def encoder(vocab_size,\n",
        "            num_layers,\n",
        "            units,\n",
        "            d_model,\n",
        "            num_heads,\n",
        "            dropout,\n",
        "            name=\"encoder\"):\n",
        "  inputs = tf.keras.Input(shape=(None,), name=\"inputs\")\n",
        "\n",
        "  # 패딩 마스크 사용\n",
        "  padding_mask = tf.keras.Input(shape=(1, 1, None), name=\"padding_mask\")\n",
        "\n",
        "  # 임베딩 레이어\n",
        "  embeddings = tf.keras.layers.Embedding(vocab_size, d_model)(inputs)\n",
        "  embeddings *= tf.math.sqrt(tf.cast(d_model, tf.float32))\n",
        "\n",
        "  # 포지셔널 인코딩\n",
        "  embeddings = PositionalEncoding(vocab_size, d_model)(embeddings)\n",
        "\n",
        "  outputs = tf.keras.layers.Dropout(rate=dropout)(embeddings)\n",
        "\n",
        "  # num_layers만큼 쌓아올린 인코더의 층.\n",
        "  for i in range(num_layers):\n",
        "    outputs = encoder_layer(\n",
        "        units=units,\n",
        "        d_model=d_model,\n",
        "        num_heads=num_heads,\n",
        "        dropout=dropout,\n",
        "        name=\"encoder_layer_{}\".format(i),\n",
        "    )([outputs, padding_mask])\n",
        "\n",
        "  return tf.keras.Model(\n",
        "      inputs=[inputs, padding_mask], outputs=outputs, name=name)\n"
      ],
      "metadata": {
        "id": "NTxeyqa2lGuz"
      },
      "execution_count": null,
      "outputs": []
    },
    {
      "cell_type": "markdown",
      "source": [
        "## 디코더"
      ],
      "metadata": {
        "id": "bLbVhYzflJqq"
      }
    },
    {
      "cell_type": "code",
      "source": [
        "#------------------------------------------------------------\n",
        "# 디코더 레이어\n",
        "#------------------------------------------------------------\n",
        "def decoder_layer(units, d_model, num_heads, dropout, name=\"decoder_layer\"):\n",
        "  inputs = tf.keras.Input(shape=(None, d_model), name=\"inputs\")\n",
        "  enc_outputs = tf.keras.Input(shape=(None, d_model), name=\"encoder_outputs\")\n",
        "  look_ahead_mask = tf.keras.Input(\n",
        "      shape=(1, None, None), name=\"look_ahead_mask\")\n",
        "  padding_mask = tf.keras.Input(shape=(1, 1, None), name='padding_mask')\n",
        "\n",
        "  # 첫 번째 서브 레이어 : 멀티 헤드 어텐션 수행 (셀프 어텐션)\n",
        "  attention1 = MultiHeadAttention(\n",
        "      d_model, num_heads, name=\"attention_1\")(inputs={\n",
        "          'query': inputs,\n",
        "          'key': inputs,\n",
        "          'value': inputs,\n",
        "          'mask': look_ahead_mask\n",
        "      })\n",
        "\n",
        "  # 멀티 헤드 어텐션의 결과는 LayerNormalization이라는 훈련을 돕는 테크닉을 수행\n",
        "  attention1 = tf.keras.layers.LayerNormalization(\n",
        "      epsilon=1e-6)(attention1 + inputs)\n",
        "\n",
        "  # 두 번째 서브 레이어 : 마스크드 멀티 헤드 어텐션 수행 (인코더-디코더 어텐션)\n",
        "  attention2 = MultiHeadAttention(\n",
        "      d_model, num_heads, name=\"attention_2\")(inputs={\n",
        "          'query': attention1,\n",
        "          'key': enc_outputs,\n",
        "          'value': enc_outputs,\n",
        "          'mask': padding_mask\n",
        "      })\n",
        "\n",
        "  # 마스크드 멀티 헤드 어텐션의 결과는\n",
        "  # Dropout과 LayerNormalization이라는 훈련을 돕는 테크닉을 수행\n",
        "  attention2 = tf.keras.layers.Dropout(rate=dropout)(attention2)\n",
        "  attention2 = tf.keras.layers.LayerNormalization(\n",
        "      epsilon=1e-6)(attention2 + attention1)\n",
        "\n",
        "  # 세 번째 서브 레이어 : 2개의 완전연결층\n",
        "  outputs = tf.keras.layers.Dense(units=units, activation='relu')(attention2)\n",
        "  outputs = tf.keras.layers.Dense(units=d_model)(outputs)\n",
        "\n",
        "  # 완전연결층의 결과는 Dropout과 LayerNormalization 수행\n",
        "  outputs = tf.keras.layers.Dropout(rate=dropout)(outputs)\n",
        "  outputs = tf.keras.layers.LayerNormalization(\n",
        "      epsilon=1e-6)(outputs + attention2)\n",
        "\n",
        "  return tf.keras.Model(\n",
        "      inputs=[inputs, enc_outputs, look_ahead_mask, padding_mask],\n",
        "      outputs=outputs,\n",
        "      name=name)\n",
        "\n",
        "#------------------------------------------------------------\n",
        "# 디코더\n",
        "#------------------------------------------------------------\n",
        "def decoder(vocab_size,\n",
        "            num_layers,\n",
        "            units,\n",
        "            d_model,\n",
        "            num_heads,\n",
        "            dropout,\n",
        "            name='decoder'):\n",
        "  inputs = tf.keras.Input(shape=(None,), name='inputs')\n",
        "  enc_outputs = tf.keras.Input(shape=(None, d_model), name='encoder_outputs')\n",
        "  look_ahead_mask = tf.keras.Input(\n",
        "      shape=(1, None, None), name='look_ahead_mask')\n",
        "\n",
        "  # 패딩 마스크\n",
        "  padding_mask = tf.keras.Input(shape=(1, 1, None), name='padding_mask')\n",
        "  \n",
        "  # 임베딩 레이어\n",
        "  embeddings = tf.keras.layers.Embedding(vocab_size, d_model)(inputs)\n",
        "  embeddings *= tf.math.sqrt(tf.cast(d_model, tf.float32))\n",
        "\n",
        "  # 포지셔널 인코딩\n",
        "  embeddings = PositionalEncoding(vocab_size, d_model)(embeddings)\n",
        "\n",
        "  # Dropout이라는 훈련을 돕는 테크닉을 수행\n",
        "  outputs = tf.keras.layers.Dropout(rate=dropout)(embeddings)\n",
        "\n",
        "  for i in range(num_layers):\n",
        "    outputs = decoder_layer(\n",
        "        units=units,\n",
        "        d_model=d_model,\n",
        "        num_heads=num_heads,\n",
        "        dropout=dropout,\n",
        "        name='decoder_layer_{}'.format(i),\n",
        "    )(inputs=[outputs, enc_outputs, look_ahead_mask, padding_mask])\n",
        "\n",
        "  return tf.keras.Model(\n",
        "      inputs=[inputs, enc_outputs, look_ahead_mask, padding_mask],\n",
        "      outputs=outputs,\n",
        "      name=name)\n"
      ],
      "metadata": {
        "id": "TEi3BdnTlLFb"
      },
      "execution_count": null,
      "outputs": []
    },
    {
      "cell_type": "markdown",
      "source": [
        "## 트랜스포머 모델 \n",
        "\n",
        "위에서 정의한 인코더, 디코더 모델을 연결하여 트랜스포머 모델을 구현해보겠다. \n",
        "\n",
        "\n",
        "---\n",
        "\n",
        "\n",
        "인코더\n",
        "- 인코더 입력 : 질문 문장 dataset의 inputs\n",
        "- 인코더에서 패딩을 위한 마스크\n",
        "- 인코더 출력 : enc_outputs 출력값이 디코더에 전달된다.\n",
        "\n",
        "디코더\n",
        "- 디코더 입력 : answers 답변 문장 - 마지막 패딩토큰 제거하고 설정\n",
        "- 디코더 룩어헤드 마스크(첫번째 서브층)\n",
        " - 디코더에서 미래의 토큰을 마스크 하기 위해서 사용합니다.\n",
        " - 내부적으로 패딩 마스크도 포함되어져 있습니다.\n",
        "\n",
        "- 디코더 패딩 마스크(두번째 서브층)\n",
        " - 두 번째 어텐션 블록에서 인코더의 벡터들을 마스킹\n",
        " - 디코더에서 패딩을 위한 마스크\n",
        "- 디코더 출력 : dec_outputs. 출력층(Dense layer)으로 전달된다.\n",
        "- 마지막 출력층 : 다음 단어 예측\n"
      ],
      "metadata": {
        "id": "JCnf_hlOFPDV"
      }
    },
    {
      "cell_type": "code",
      "source": [
        "#------------------------------------------------------------\n",
        "# 트랜스포머 모델 정의\n",
        "#------------------------------------------------------------\n",
        "def transformer(vocab_size,\n",
        "                num_layers,\n",
        "                units,\n",
        "                d_model,\n",
        "                num_heads,\n",
        "                dropout,\n",
        "                name=\"transformer\"):\n",
        "  # 인코더의 입력 \n",
        "  inputs = tf.keras.Input(shape=(None,), name=\"inputs\")\n",
        "  # 디코더의 입력 \n",
        "  dec_inputs = tf.keras.Input(shape=(None,), name=\"dec_inputs\")\n",
        "\n",
        "  # 인코더에서 패딩을 위한 마스크\n",
        "  enc_padding_mask = tf.keras.layers.Lambda(\n",
        "      create_padding_mask, output_shape=(1, 1, None),\n",
        "      name='enc_padding_mask')(inputs)\n",
        "\n",
        "  # 디코더의 룩어헤드 마스크(첫번째 서브층)  \n",
        "  look_ahead_mask = tf.keras.layers.Lambda(\n",
        "      create_look_ahead_mask,\n",
        "      output_shape=(1, None, None),\n",
        "      name='look_ahead_mask')(dec_inputs)\n",
        "\n",
        "  # 디코더의 패딩 마스크(두번째 서브층)  \n",
        "  dec_padding_mask = tf.keras.layers.Lambda(\n",
        "      create_padding_mask, output_shape=(1, 1, None),\n",
        "      name='dec_padding_mask')(inputs)\n",
        "\n",
        "  # 인코더의 출력\n",
        "  enc_outputs = encoder(\n",
        "      vocab_size=vocab_size,\n",
        "      num_layers=num_layers,\n",
        "      units=units,\n",
        "      d_model=d_model,\n",
        "      num_heads=num_heads,\n",
        "      dropout=dropout,\n",
        "  )(inputs=[inputs, enc_padding_mask]) # 인코더의 입력은 입력 문장과 인코더 패딩 마스크\n",
        "\n",
        "  # 디코더의 출력\n",
        "  dec_outputs = decoder(\n",
        "      vocab_size=vocab_size,\n",
        "      num_layers=num_layers,\n",
        "      units=units,\n",
        "      d_model=d_model,\n",
        "      num_heads=num_heads,\n",
        "      dropout=dropout,\n",
        "  )(inputs=[dec_inputs, enc_outputs, look_ahead_mask, dec_padding_mask]) \n",
        "  # 디코더의 입력은 : 인코더의 출력 , 디코더 입력, 룩어헤드 마스크, 디코더 패딩 마스크\n",
        "\n",
        "  # 완전연결층 - 다음단어에 대한 예측값\n",
        "  outputs = tf.keras.layers.Dense(units=vocab_size, name=\"outputs\")(dec_outputs)\n",
        "\n",
        "  return tf.keras.Model(inputs=[inputs, dec_inputs], outputs=outputs, name=name)\n",
        "\n",
        "\n",
        "#------------------------------------------------------------\n",
        "# 하이퍼파라미터 설정및 트랜스포머 생성\n",
        "#------------------------------------------------------------\n",
        "tf.keras.backend.clear_session()\n",
        "\n",
        "# 하이퍼파라미터\n",
        "NUM_LAYERS = 2 # 인코더와 디코더의 층의 개수\n",
        "D_MODEL = 256 # 인코더와 디코더 내부의 입, 출력의 고정 차원\n",
        "NUM_HEADS = 8 # 멀티 헤드 어텐션에서의 헤드 수 \n",
        "UNITS = 512 # 피드 포워드 신경망의 은닉층의 크기\n",
        "DROPOUT = 0.1 # 드롭아웃의 비율\n",
        "\n",
        "model = transformer(\n",
        "    vocab_size=VOCAB_SIZE,\n",
        "    num_layers=NUM_LAYERS,\n",
        "    units=UNITS,\n",
        "    d_model=D_MODEL,\n",
        "    num_heads=NUM_HEADS,\n",
        "    dropout=DROPOUT)\n",
        "\n",
        "model.summary()"
      ],
      "metadata": {
        "colab": {
          "base_uri": "https://localhost:8080/"
        },
        "id": "HgcB1yrlFTcE",
        "outputId": "f08759f1-f014-492d-e27a-58781b18d2d2"
      },
      "execution_count": null,
      "outputs": [
        {
          "output_type": "stream",
          "name": "stdout",
          "text": [
            "Model: \"transformer\"\n",
            "__________________________________________________________________________________________________\n",
            " Layer (type)                   Output Shape         Param #     Connected to                     \n",
            "==================================================================================================\n",
            " inputs (InputLayer)            [(None, None)]       0           []                               \n",
            "                                                                                                  \n",
            " dec_inputs (InputLayer)        [(None, None)]       0           []                               \n",
            "                                                                                                  \n",
            " enc_padding_mask (Lambda)      (None, 1, 1, None)   0           ['inputs[0][0]']                 \n",
            "                                                                                                  \n",
            " encoder (Functional)           (None, None, 256)    3148288     ['inputs[0][0]',                 \n",
            "                                                                  'enc_padding_mask[0][0]']       \n",
            "                                                                                                  \n",
            " look_ahead_mask (Lambda)       (None, 1, None, Non  0           ['dec_inputs[0][0]']             \n",
            "                                e)                                                                \n",
            "                                                                                                  \n",
            " dec_padding_mask (Lambda)      (None, 1, 1, None)   0           ['inputs[0][0]']                 \n",
            "                                                                                                  \n",
            " decoder (Functional)           (None, None, 256)    3675648     ['dec_inputs[0][0]',             \n",
            "                                                                  'encoder[0][0]',                \n",
            "                                                                  'look_ahead_mask[0][0]',        \n",
            "                                                                  'dec_padding_mask[0][0]']       \n",
            "                                                                                                  \n",
            " outputs (Dense)                (None, None, 8180)   2102260     ['decoder[0][0]']                \n",
            "                                                                                                  \n",
            "==================================================================================================\n",
            "Total params: 8,926,196\n",
            "Trainable params: 8,926,196\n",
            "Non-trainable params: 0\n",
            "__________________________________________________________________________________________________\n"
          ]
        }
      ]
    },
    {
      "cell_type": "markdown",
      "source": [
        "plot_model함수로 트랜스포머 모델의 구성을 다시 시각화해서 확인해보자.\n",
        "\n",
        "인코더, 디코더의 입출력의 흐름을 한눈에 파악할수있다. 트랜스포머 모델을 통한 최종 출력은 8180 단어(vocab_size)중에 예측된 단어일 것이다."
      ],
      "metadata": {
        "id": "0X8Ys9gLrjXv"
      }
    },
    {
      "cell_type": "code",
      "source": [
        "tf.keras.utils.plot_model(model, show_shapes=True)"
      ],
      "metadata": {
        "colab": {
          "base_uri": "https://localhost:8080/",
          "height": 499
        },
        "id": "_zHP0dDEWy85",
        "outputId": "18138e26-efb3-48a2-bdf1-74700f0c5c3c"
      },
      "execution_count": null,
      "outputs": [
        {
          "output_type": "execute_result",
          "data": {
            "image/png": "[encoded data removed]",
            "text/plain": [
              "<IPython.core.display.Image object>"
            ]
          },
          "metadata": {},
          "execution_count": 97
        }
      ]
    },
    {
      "cell_type": "markdown",
      "source": [
        "---\n",
        "## 모델 학습"
      ],
      "metadata": {
        "id": "y7ser1RyH9xO"
      }
    },
    {
      "cell_type": "markdown",
      "source": [
        "이제 위 트랜스포머 모델에 손실함수, 정확도 함수를 설정한후 모델 학습을 진행하겠다.\n",
        "\n",
        "\n",
        "- 옵티마티저로 adam 을 사용했으며 $β_1=0.9, β_2\n",
        "=0.98, 그리고  ϵ=10^{−9}$를 사용했다.\n",
        "- 학습율은 학습시 가변적으로 변하도록 커스텀된 스캐줄을 적용하였다."
      ],
      "metadata": {
        "id": "kzT7TMTpsLmP"
      }
    },
    {
      "cell_type": "code",
      "source": [
        "def loss_function(y_true, y_pred):\n",
        "  y_true = tf.reshape(y_true, shape=(-1, MAX_LENGTH - 1))\n",
        "  \n",
        "  loss = tf.keras.losses.SparseCategoricalCrossentropy(\n",
        "      from_logits=True, reduction='none')(y_true, y_pred)\n",
        "\n",
        "  mask = tf.cast(tf.not_equal(y_true, 0), tf.float32)\n",
        "  loss = tf.multiply(loss, mask)\n",
        "\n",
        "  return tf.reduce_mean(loss)\n",
        "\n",
        "class CustomSchedule(tf.keras.optimizers.schedules.LearningRateSchedule):\n",
        "\n",
        "  def __init__(self, d_model, warmup_steps=4000):\n",
        "    super(CustomSchedule, self).__init__()\n",
        "\n",
        "    self.d_model = d_model\n",
        "    self.d_model = tf.cast(self.d_model, tf.float32)\n",
        "\n",
        "    self.warmup_steps = warmup_steps\n",
        "\n",
        "  def __call__(self, step):\n",
        "    arg1 = tf.math.rsqrt(step)\n",
        "    arg2 = step * (self.warmup_steps**-1.5)\n",
        "\n",
        "    return tf.math.rsqrt(self.d_model) * tf.math.minimum(arg1, arg2)\n",
        "\n",
        "\n",
        "def accuracy(y_true, y_pred):  \n",
        "  y_true = tf.reshape(y_true, shape=(-1, MAX_LENGTH - 1)) # 레이블의 크기는 (batch_size, MAX_LENGTH - 1)\n",
        "  return tf.keras.metrics.sparse_categorical_accuracy(y_true, y_pred)\n",
        "\n",
        "\n",
        "learning_rate = CustomSchedule(D_MODEL)\n",
        "\n",
        "optimizer = tf.keras.optimizers.Adam(\n",
        "    learning_rate, beta_1=0.9, beta_2=0.98, epsilon=1e-9)\n",
        "\n",
        "model.compile(optimizer=optimizer, loss=loss_function, metrics=[accuracy])"
      ],
      "metadata": {
        "id": "SQ-bsKWPZhWU"
      },
      "execution_count": null,
      "outputs": []
    },
    {
      "cell_type": "code",
      "source": [
        "EPOCHS = 50\n",
        "model.fit(dataset, epochs=EPOCHS, verbose=1)"
      ],
      "metadata": {
        "colab": {
          "base_uri": "https://localhost:8080/"
        },
        "id": "G_vZu--iZlv8",
        "outputId": "54a379c3-d5aa-4847-bd20-37059f77f46d"
      },
      "execution_count": null,
      "outputs": [
        {
          "output_type": "stream",
          "name": "stdout",
          "text": [
            "Epoch 1/50\n",
            "185/185 [==============================] - 38s 121ms/step - loss: 1.4610 - accuracy: 0.0237\n",
            "Epoch 2/50\n",
            "185/185 [==============================] - 22s 119ms/step - loss: 1.1873 - accuracy: 0.0495\n",
            "Epoch 3/50\n",
            "185/185 [==============================] - 22s 119ms/step - loss: 1.0044 - accuracy: 0.0507\n",
            "Epoch 4/50\n",
            "185/185 [==============================] - 22s 121ms/step - loss: 0.9278 - accuracy: 0.0544\n",
            "Epoch 5/50\n",
            "185/185 [==============================] - 23s 122ms/step - loss: 0.8712 - accuracy: 0.0574\n",
            "Epoch 6/50\n",
            "185/185 [==============================] - 22s 121ms/step - loss: 0.8131 - accuracy: 0.0614\n",
            "Epoch 7/50\n",
            "185/185 [==============================] - 22s 121ms/step - loss: 0.7484 - accuracy: 0.0669\n",
            "Epoch 8/50\n",
            "185/185 [==============================] - 22s 121ms/step - loss: 0.6752 - accuracy: 0.0747\n",
            "Epoch 9/50\n",
            "185/185 [==============================] - 22s 120ms/step - loss: 0.5959 - accuracy: 0.0834\n",
            "Epoch 10/50\n",
            "185/185 [==============================] - 22s 120ms/step - loss: 0.5129 - accuracy: 0.0927\n",
            "Epoch 11/50\n",
            "185/185 [==============================] - 22s 120ms/step - loss: 0.4301 - accuracy: 0.1034\n",
            "Epoch 12/50\n",
            "185/185 [==============================] - 22s 120ms/step - loss: 0.3490 - accuracy: 0.1141\n",
            "Epoch 13/50\n",
            "185/185 [==============================] - 22s 119ms/step - loss: 0.2739 - accuracy: 0.1253\n",
            "Epoch 14/50\n",
            "185/185 [==============================] - 22s 121ms/step - loss: 0.2088 - accuracy: 0.1355\n",
            "Epoch 15/50\n",
            "185/185 [==============================] - 22s 120ms/step - loss: 0.1532 - accuracy: 0.1450\n",
            "Epoch 16/50\n",
            "185/185 [==============================] - 22s 120ms/step - loss: 0.1101 - accuracy: 0.1530\n",
            "Epoch 17/50\n",
            "185/185 [==============================] - 22s 120ms/step - loss: 0.0800 - accuracy: 0.1586\n",
            "Epoch 18/50\n",
            "185/185 [==============================] - 22s 120ms/step - loss: 0.0609 - accuracy: 0.1619\n",
            "Epoch 19/50\n",
            "185/185 [==============================] - 22s 120ms/step - loss: 0.0510 - accuracy: 0.1638\n",
            "Epoch 20/50\n",
            "185/185 [==============================] - 22s 121ms/step - loss: 0.0457 - accuracy: 0.1644\n",
            "Epoch 21/50\n",
            "185/185 [==============================] - 22s 120ms/step - loss: 0.0427 - accuracy: 0.1649\n",
            "Epoch 22/50\n",
            "185/185 [==============================] - 22s 120ms/step - loss: 0.0401 - accuracy: 0.1653\n",
            "Epoch 23/50\n",
            "185/185 [==============================] - 22s 120ms/step - loss: 0.0369 - accuracy: 0.1659\n",
            "Epoch 24/50\n",
            "185/185 [==============================] - 22s 120ms/step - loss: 0.0314 - accuracy: 0.1673\n",
            "Epoch 25/50\n",
            "185/185 [==============================] - 22s 120ms/step - loss: 0.0275 - accuracy: 0.1681\n",
            "Epoch 26/50\n",
            "185/185 [==============================] - 22s 120ms/step - loss: 0.0247 - accuracy: 0.1689\n",
            "Epoch 27/50\n",
            "185/185 [==============================] - 22s 120ms/step - loss: 0.0210 - accuracy: 0.1699\n",
            "Epoch 28/50\n",
            "185/185 [==============================] - 22s 119ms/step - loss: 0.0201 - accuracy: 0.1701\n",
            "Epoch 29/50\n",
            "185/185 [==============================] - 22s 119ms/step - loss: 0.0177 - accuracy: 0.1707\n",
            "Epoch 30/50\n",
            "185/185 [==============================] - 22s 120ms/step - loss: 0.0174 - accuracy: 0.1708\n",
            "Epoch 31/50\n",
            "185/185 [==============================] - 22s 120ms/step - loss: 0.0153 - accuracy: 0.1712\n",
            "Epoch 32/50\n",
            "185/185 [==============================] - 22s 120ms/step - loss: 0.0138 - accuracy: 0.1716\n",
            "Epoch 33/50\n",
            "185/185 [==============================] - 22s 120ms/step - loss: 0.0127 - accuracy: 0.1720\n",
            "Epoch 34/50\n",
            "185/185 [==============================] - 22s 120ms/step - loss: 0.0126 - accuracy: 0.1719\n",
            "Epoch 35/50\n",
            "185/185 [==============================] - 22s 120ms/step - loss: 0.0114 - accuracy: 0.1723\n",
            "Epoch 36/50\n",
            "185/185 [==============================] - 22s 120ms/step - loss: 0.0108 - accuracy: 0.1725\n",
            "Epoch 37/50\n",
            "185/185 [==============================] - 22s 120ms/step - loss: 0.0101 - accuracy: 0.1726\n",
            "Epoch 38/50\n",
            "185/185 [==============================] - 22s 120ms/step - loss: 0.0099 - accuracy: 0.1727\n",
            "Epoch 39/50\n",
            "185/185 [==============================] - 22s 120ms/step - loss: 0.0093 - accuracy: 0.1728\n",
            "Epoch 40/50\n",
            "185/185 [==============================] - 22s 120ms/step - loss: 0.0087 - accuracy: 0.1730\n",
            "Epoch 41/50\n",
            "185/185 [==============================] - 22s 119ms/step - loss: 0.0080 - accuracy: 0.1732\n",
            "Epoch 42/50\n",
            "185/185 [==============================] - 22s 120ms/step - loss: 0.0080 - accuracy: 0.1732\n",
            "Epoch 43/50\n",
            "185/185 [==============================] - 22s 120ms/step - loss: 0.0072 - accuracy: 0.1733\n",
            "Epoch 44/50\n",
            "185/185 [==============================] - 22s 120ms/step - loss: 0.0069 - accuracy: 0.1734\n",
            "Epoch 45/50\n",
            "185/185 [==============================] - 22s 120ms/step - loss: 0.0072 - accuracy: 0.1733\n",
            "Epoch 46/50\n",
            "185/185 [==============================] - 22s 119ms/step - loss: 0.0065 - accuracy: 0.1735\n",
            "Epoch 47/50\n",
            "185/185 [==============================] - 22s 119ms/step - loss: 0.0059 - accuracy: 0.1737\n",
            "Epoch 48/50\n",
            "185/185 [==============================] - 22s 120ms/step - loss: 0.0065 - accuracy: 0.1735\n",
            "Epoch 49/50\n",
            "185/185 [==============================] - 22s 120ms/step - loss: 0.0056 - accuracy: 0.1738\n",
            "Epoch 50/50\n",
            "185/185 [==============================] - 22s 119ms/step - loss: 0.0058 - accuracy: 0.1737\n"
          ]
        },
        {
          "output_type": "execute_result",
          "data": {
            "text/plain": [
              "<keras.callbacks.History at 0x7fda1132bdd0>"
            ]
          },
          "metadata": {},
          "execution_count": 51
        }
      ]
    },
    {
      "cell_type": "markdown",
      "source": [
        "---\n",
        "## 챗봇 테스트\n",
        "\n",
        "\n",
        "본 프로젝트의 챗봇 데이터는 연애나 일상이야기위주로 구성되어 있으므로 관련 질문들로 테스트를 진행해보겠다.\n",
        "\n",
        "- decoder_inference\n",
        " - 입력문장을 전처리하여 정수시퀀스로 만듬.\n",
        " - 디코더를 통해 챗봇의 대답에 해당하는 단어를 순차적으로 예측.\n",
        " - 예측된 정수 시퀀스를 리턴\n",
        "\n",
        "- sentence_generation\n",
        " - decoder_inference에서 반환된 시퀀스를 디코딩하여 문자시퀀스로 출력"
      ],
      "metadata": {
        "id": "-YwutH7rFlvF"
      }
    },
    {
      "cell_type": "code",
      "source": [
        "def decoder_inference(sentence):\n",
        "  sentence = preprocess_sentence(sentence)\n",
        "\n",
        "  # 입력된 문장을 정수 인코딩 후, 시작 토큰과 종료 토큰을 앞뒤로 추가.\n",
        "  # ex) Where have you been? → [[8331   86   30    5 1059    7 8332]]\n",
        "  sentence = tf.expand_dims(\n",
        "      START_TOKEN + tokenizer.encode(sentence) + END_TOKEN, axis=0)\n",
        "\n",
        "  # 디코더의 현재까지의 예측한 출력 시퀀스가 지속적으로 저장되는 변수.\n",
        "  # 처음에는 예측한 내용이 없음으로 시작 토큰만 별도 저장. ex) 8331\n",
        "  output_sequence = tf.expand_dims(START_TOKEN, 0)\n",
        "\n",
        "  # 디코더의 예측시작\n",
        "  for i in range(MAX_LENGTH):\n",
        "    # 디코더는 최대 MAX_LENGTH의 길이만큼 다음 단어 예측을 반복합니다.\n",
        "    predictions = model(inputs=[sentence, output_sequence], training=False)\n",
        "    \n",
        "    # 현재(마지막) 시점의 예측 단어를 받아온다.\n",
        "    predictions = predictions[:, -1:, :]\n",
        "    # 예측한 단어의 정수\n",
        "    predicted_id = tf.cast(tf.argmax(predictions, axis=-1), tf.int32)\n",
        "\n",
        "    # 만약 현재 예측한 단어가 종료 토큰이라면 for문을 종료\n",
        "    if tf.equal(predicted_id, END_TOKEN[0]):\n",
        "      break\n",
        "\n",
        "    # 예측한 단어들은 지속적으로 output_sequence에 추가됩니다.\n",
        "    # 이 output_sequence는 다시 디코더의 입력이 됩니다.\n",
        "    output_sequence = tf.concat([output_sequence, predicted_id], axis=-1)\n",
        "\n",
        "  return tf.squeeze(output_sequence, axis=0)\n",
        "\n",
        "def sentence_generation(sentence):\n",
        "  # 입력 문장에 대해서 디코더를 동작 시켜 예측된 정수 시퀀스를 리턴받습니다.\n",
        "  prediction = decoder_inference(sentence)\n",
        "\n",
        "  # 정수 시퀀스를 다시 텍스트 시퀀스로 변환합니다.\n",
        "  predicted_sentence = tokenizer.decode(\n",
        "      [i for i in prediction if i < tokenizer.vocab_size])\n",
        "\n",
        "  print('입력 : {}'.format(sentence))\n",
        "  print('출력 : {}'.format(predicted_sentence))\n",
        "\n",
        "  return predicted_sentence\n"
      ],
      "metadata": {
        "id": "AUuoRBl8Fn09"
      },
      "execution_count": null,
      "outputs": []
    },
    {
      "cell_type": "code",
      "source": [
        "sentence_generation('오늘 너무 춥다.')\n",
        "print('-'*50)\n",
        "sentence_generation('코로나때문에 걱정이 많아.')\n",
        "print('-'*50)\n",
        "sentence_generation('새로 나온 영화 같이 보러 갈까?')\n",
        "print('-'*50)\n",
        "sentence_generation('지금 고백해도될까?')\n",
        "print('-'*50)\n",
        "sentence_generation('오늘 점심에 뭐먹을까?')\n",
        "print('-'*50)"
      ],
      "metadata": {
        "colab": {
          "base_uri": "https://localhost:8080/"
        },
        "id": "D82AIzFvgF6v",
        "outputId": "7446e4b0-6592-414c-ce79-1b0a549cefdc"
      },
      "execution_count": null,
      "outputs": [
        {
          "output_type": "stream",
          "name": "stdout",
          "text": [
            "입력 : 오늘 너무 춥다.\n",
            "출력 : 따뜻하게 입으세요 .\n",
            "--------------------------------------------------\n",
            "입력 : 코로나때문에 걱정이 많아.\n",
            "출력 : 동감입니다 .\n",
            "--------------------------------------------------\n",
            "입력 : 새로 나온 영화 같이 보러 갈까?\n",
            "출력 : 좋은 생각만 하세요 .\n",
            "--------------------------------------------------\n",
            "입력 : 지금 고백해도될까?\n",
            "출력 : 도전 정신 마음에 드네요 .\n",
            "--------------------------------------------------\n",
            "입력 : 오늘 점심에 뭐먹을까?\n",
            "출력 : 맛있는 거 드세요 .\n",
            "--------------------------------------------------\n"
          ]
        }
      ]
    },
    {
      "cell_type": "markdown",
      "source": [
        "입력문장에대해 적절한 문장을 출력하는경우도 있고 엉뚱한 문장이 나오기도 한다. "
      ],
      "metadata": {
        "id": "mMceXT-fistj"
      }
    },
    {
      "cell_type": "markdown",
      "source": [
        "챗봇이 새로운 말을 만들어 내는지 기존에 저장된 문장을 그대로 뱉어 내는지도  확인해보자. 만약 기존의 문장이 아닌 말을 적절히 만든다면 트랜스포머 모델이 문장 생성에 효과적이라고 할수 있겠다. "
      ],
      "metadata": {
        "id": "VvhblESdUe5a"
      }
    },
    {
      "cell_type": "code",
      "source": [
        "sentence_generation('12시 땡!') #원본 QA내용 --> 12시 땡!,하루가 또 가네요.,0"
      ],
      "metadata": {
        "colab": {
          "base_uri": "https://localhost:8080/",
          "height": 72
        },
        "id": "1vMkSTf5FrUE",
        "outputId": "2280b0da-087f-4d0c-8a7d-179b986c6050"
      },
      "execution_count": null,
      "outputs": [
        {
          "output_type": "stream",
          "name": "stdout",
          "text": [
            "입력 : 12시 땡!\n",
            "출력 : 하루가 또 가네요 .\n"
          ]
        },
        {
          "output_type": "execute_result",
          "data": {
            "application/vnd.google.colaboratory.intrinsic+json": {
              "type": "string"
            },
            "text/plain": [
              "'하루가 또 가네요 .'"
            ]
          },
          "metadata": {},
          "execution_count": 26
        }
      ]
    },
    {
      "cell_type": "markdown",
      "source": [
        "원본 내용에 대한 답변이 그대로 나온다. \"12시땡!\"과 같은 질문에 대한 답이 훈련데이터에 많지 않기 때문에 원본답변이 그대로 나온것 같다. 원본 질문데이터를 약간 바꾸어보자."
      ],
      "metadata": {
        "id": "PTBVY20EVnKo"
      }
    },
    {
      "cell_type": "code",
      "source": [
        "sentence_generation('6시 땡!')"
      ],
      "metadata": {
        "colab": {
          "base_uri": "https://localhost:8080/",
          "height": 72
        },
        "id": "zi2R6bueU3ej",
        "outputId": "95b6d13b-8776-49c5-b071-92e8dc6daab8"
      },
      "execution_count": null,
      "outputs": [
        {
          "output_type": "stream",
          "name": "stdout",
          "text": [
            "입력 : 6시 땡!\n",
            "출력 : 축하해요 !\n"
          ]
        },
        {
          "output_type": "execute_result",
          "data": {
            "application/vnd.google.colaboratory.intrinsic+json": {
              "type": "string"
            },
            "text/plain": [
              "'축하해요 !'"
            ]
          },
          "metadata": {},
          "execution_count": 27
        }
      ]
    },
    {
      "cell_type": "markdown",
      "source": [
        "6시땡이라는 질문은 없지만 \"축하해요!\"라는 말이 나왔다. 이것은 학습에 의한것인데 \"6시\"나 \"땡\"이라는 단어보다 \"!\"느낌표에 대한 학습한 결과로 \"축하해요!\"라는 답이 출력값으로 확율이 가장 높지 않았나 싶다."
      ],
      "metadata": {
        "id": "GVP-lOQ725_r"
      }
    },
    {
      "cell_type": "code",
      "source": [
        "sentence_generation('6시 땡! 칼퇴하자') "
      ],
      "metadata": {
        "colab": {
          "base_uri": "https://localhost:8080/",
          "height": 72
        },
        "id": "n-n0-0uoU63g",
        "outputId": "37a56129-3e63-4ae3-db34-2a1cd30c89c2"
      },
      "execution_count": null,
      "outputs": [
        {
          "output_type": "stream",
          "name": "stdout",
          "text": [
            "입력 : 6시 땡! 칼퇴하자\n",
            "출력 : 미련을 천천히 다가가보세요 .\n"
          ]
        },
        {
          "output_type": "execute_result",
          "data": {
            "application/vnd.google.colaboratory.intrinsic+json": {
              "type": "string"
            },
            "text/plain": [
              "'미련을 천천히 다가가보세요 .'"
            ]
          },
          "metadata": {},
          "execution_count": 28
        }
      ]
    },
    {
      "cell_type": "markdown",
      "source": [
        "\"6시 땡!\"뒤에 \"칼퇴하자\"라는 말은 붙여보았다. \"칼퇴하자\"라는 단어가 기존데이터셋에 없기때문에 자연스럽지 못한 문장이 나온것 같다. \n",
        "\n",
        "눈여겨 볼점은 단어들이 적절한 곳에 위치하고있다는 점이다. 목적어가 앞에 있고 동사가 뒤에 위치하는 것을 보면 학습을 통해 단어의 표시 순서나 품사의 활용법등을 익힌것으로 보인다."
      ],
      "metadata": {
        "id": "UFnKttsD9EHD"
      }
    },
    {
      "cell_type": "markdown",
      "source": [
        "마지막으로 단어사이의 유사도를 설명할때 나왔던 문장을 넣어보며 챗봇 테스트를 마치도록 하겠다."
      ],
      "metadata": {
        "id": "yeFs78-98DHG"
      }
    },
    {
      "cell_type": "code",
      "source": [
        "sentence_generation('그 동물은 길을 건너지 않았다. 왜냐하면 그것은 너무 피곤하였기 때문이다.') "
      ],
      "metadata": {
        "colab": {
          "base_uri": "https://localhost:8080/",
          "height": 72
        },
        "id": "KnozFpKxCbAU",
        "outputId": "2f80e9ff-8bb3-4f70-c0e8-2ba8096be788"
      },
      "execution_count": null,
      "outputs": [
        {
          "output_type": "stream",
          "name": "stdout",
          "text": [
            "입력 : 그 동물은 길을 건너지 않았다. 왜냐하면 그것은 너무 피곤하였기 때문이다.\n",
            "출력 : 좋아하는 만큼 감정 소모가 큰 건 없을 거예요 .\n"
          ]
        },
        {
          "output_type": "execute_result",
          "data": {
            "application/vnd.google.colaboratory.intrinsic+json": {
              "type": "string"
            },
            "text/plain": [
              "'좋아하는 만큼 감정 소모가 큰 건 없을 거예요 .'"
            ]
          },
          "metadata": {},
          "execution_count": 107
        }
      ]
    },
    {
      "cell_type": "markdown",
      "source": [
        "---\n",
        "# 정리.\n",
        "\n",
        "- 이번 프로젝트에서는 트랜스포머 모델을 이용해 챗봇을 만들어 보았다. 이전 뉴스요약에서 썼던 seq2seq 모델에서도 attention을 사용했는데, 그 때는 RNN 내부에서 인코더측 입력시퀀스의 정보를 보완하여 디코더와 연결하기위해 어텐션을 썼다면 이번 프로젝트에서는 RNN 계열의 레이어 없이 어텐션만으로 인코더와 디코더를 만든점이 특징이였다. 또한 RNN 계열의 레이어를 쓰지않기 때문에 순차적인 정보를 포지셔널 인코딩을 통해 처리했다.\n",
        "\n",
        "\n",
        "- 트랜스포머에서는 seq2seq 모델에서보았던 인코더, 디코더 구조가 점점 더 확장되는 모습이다. 어텐션 메커니즘과 관련하여 마스크, Q,K,V행렬의 계산, 스케일닷프로덕트 같은 부분은 이해하기 어려워 개략적인 차원에서 흐름만 파악하였다. 단어들에 의미를 부여하기위해 단어중 포함된 패딩을 마스크를 사용하여 의미를 줄이고, Q,K,V를 행렬을 통해 관심을 둘 단어의 수치를 계산하는 방식이 흥미로웠다. 멀티헤드어텐션을 통해 병렬처리를 지원하여 RNN, CNN보다 속도또한 빨라\n",
        "질뿐만아니라 어텐션의 효과 또한 좋다고하니 어텐션이 만능인듯하다. \n",
        "\n",
        "- **Attention is All I hove to know!** 어텐션에 대해 다시보았지만 아직 익숙해지려면 더 오랜기간이 걸릴것 같다. 앞으로 각 모듈들을 다른 모델에 연결하거나 재구조화 하는 과정이 있을것이므로 각 모듈의 쓰임을 잘알아두어야하겠다.  \n",
        "\n",
        "\n",
        "\n",
        "- 테스트 결과에 대한 고찰\n",
        " -  LMS노드에서 self-attention을 설명하기위해 들었던 예시에서 \"그것\"과 \"동물\"을 연결한다고 했는데 제대로 대명사가 지칭하는 명사에 집중하고 있는지 의문이 든다. \n",
        " \n",
        " - raw 데이터에 비슷한 질문이 있는 경우는 모델이 생성한 문장이 자연스러웠지만(그문장 그대로를 가져옴.) 그렇지 않은 질문에 대한 답은 의미가 통하지 않는 경우가 많았다.\n",
        " \n",
        " - 하지만 서브워드에 의해 나누어졌던 조사나 명사들이(수_', '게_', '너무_', '더_', '거_' 등) 적절한 위치에 정렬되었다.\n",
        "\n"
      ],
      "metadata": {
        "id": "xgEicTxfxmJQ"
      }
    },
    {
      "cell_type": "markdown",
      "source": [
        "---\n",
        "## Reference\n",
        "- [positional encoding이란 무엇인가](https://skyjwoo.tistory.com/entry/positional-encoding%EC%9D%B4%EB%9E%80-%EB%AC%B4%EC%97%87%EC%9D%B8%EA%B0%80)\n",
        "\n",
        "- [The Illustrated Transformer](https://nlpinkorean.github.io/illustrated-transformer/)\n",
        "\n",
        "- [논문 뽀개기-Attention is All You Need](https://catsirup.github.io/ai/2020/04/07/transformer.html)\n",
        "\n"
      ],
      "metadata": {
        "id": "eyXUzD2C5Jjk"
      }
    }
  ]
}