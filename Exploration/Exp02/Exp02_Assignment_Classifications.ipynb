{
 "cells": [
  {
   "cell_type": "markdown",
   "id": "7cd13b01",
   "metadata": {},
   "source": [
    "# 사이킷런의 toy dataset을 활용한 분류 모델 만들기\n",
    "\n",
    "1. Digits datasets : 손글씨 이미지 분류 (비정형 데이터, 다중분류 문제)\n",
    "2. Wine datasets : 와인 분류(정형 데이터, 다중분류 문제)\n",
    "3. Breast cancer datasets : 유방암 여부 진단(정형 데이터, 이중분류 문제)\n",
    "---"
   ]
  },
  {
   "cell_type": "code",
   "execution_count": 1,
   "id": "76ee18f7",
   "metadata": {},
   "outputs": [],
   "source": [
    "from sklearn.datasets import load_digits, load_wine, load_breast_cancer\n",
    "from sklearn.model_selection import train_test_split\n",
    "from sklearn.metrics import accuracy_score\n",
    "from sklearn.metrics import classification_report\n",
    "from sklearn.metrics import plot_confusion_matrix\n",
    "from sklearn.metrics import f1_score\n",
    "from sklearn.metrics import precision_score\n",
    "from sklearn.metrics import recall_score\n",
    "\n",
    "import time\n",
    "import numpy as np\n",
    "import matplotlib.pyplot as plt\n",
    "\n",
    "from sklearn.tree import DecisionTreeClassifier\n",
    "from sklearn.ensemble import RandomForestClassifier\n",
    "from sklearn.svm import SVC\n",
    "from sklearn.linear_model import SGDClassifier\n",
    "from sklearn.linear_model import LogisticRegression\n"
   ]
  },
  {
   "cell_type": "markdown",
   "id": "f630be57",
   "metadata": {},
   "source": [
    "# 손글씨 이미지 분류\n",
    "- 비정형 데이터, 다중분류 문제\n",
    "- load_digits : 손글씨 이미지 데이터 : [링크](https://scikit-learn.org/stable/modules/generated/sklearn.datasets.load_digits.html#sklearn.datasets.load_digits)"
   ]
  },
  {
   "cell_type": "markdown",
   "id": "ce50af49",
   "metadata": {},
   "source": [
    "## 1. 데이터 load 및 데이터 분석"
   ]
  },
  {
   "cell_type": "markdown",
   "id": "b07d2d0a",
   "metadata": {},
   "source": [
    "우선 Digits dataset 데이터 확인해보자"
   ]
  },
  {
   "cell_type": "code",
   "execution_count": 2,
   "id": "dc9882aa",
   "metadata": {},
   "outputs": [
    {
     "data": {
      "text/plain": [
       "['DESCR', 'data', 'feature_names', 'frame', 'images', 'target', 'target_names']"
      ]
     },
     "execution_count": 2,
     "metadata": {},
     "output_type": "execute_result"
    }
   ],
   "source": [
    "digits = load_digits()\n",
    "dir(digits)"
   ]
  },
  {
   "cell_type": "code",
   "execution_count": 3,
   "id": "cfb1c8ca",
   "metadata": {},
   "outputs": [
    {
     "name": "stdout",
     "output_type": "stream",
     "text": [
      ".. _digits_dataset:\n",
      "\n",
      "Optical recognition of handwritten digits dataset\n",
      "--------------------------------------------------\n",
      "\n",
      "**Data Set Characteristics:**\n",
      "\n",
      "    :Number of Instances: 1797\n",
      "    :Number of Attributes: 64\n",
      "    :Attribute Information: 8x8 image of integer pixels in the range 0..16.\n",
      "    :Missing Attribute Values: None\n",
      "    :Creator: E. Alpaydin (alpaydin '@' boun.edu.tr)\n",
      "    :Date: July; 1998\n",
      "\n",
      "This is a copy of the test set of the UCI ML hand-written digits datasets\n",
      "https://archive.ics.uci.edu/ml/datasets/Optical+Recognition+of+Handwritten+Digits\n",
      "\n",
      "The data set contains images of hand-written digits: 10 classes where\n",
      "each class refers to a digit.\n",
      "\n",
      "Preprocessing programs made available by NIST were used to extract\n",
      "normalized bitmaps of handwritten digits from a preprinted form. From a\n",
      "total of 43 people, 30 contributed to the training set and different 13\n",
      "to the test set. 32x32 bitmaps are divided into nonoverlapping blocks of\n",
      "4x4 and the number of on pixels are counted in each block. This generates\n",
      "an input matrix of 8x8 where each element is an integer in the range\n",
      "0..16. This reduces dimensionality and gives invariance to small\n",
      "distortions.\n",
      "\n",
      "For info on NIST preprocessing routines, see M. D. Garris, J. L. Blue, G.\n",
      "T. Candela, D. L. Dimmick, J. Geist, P. J. Grother, S. A. Janet, and C.\n",
      "L. Wilson, NIST Form-Based Handprint Recognition System, NISTIR 5469,\n",
      "1994.\n",
      "\n",
      ".. topic:: References\n",
      "\n",
      "  - C. Kaynak (1995) Methods of Combining Multiple Classifiers and Their\n",
      "    Applications to Handwritten Digit Recognition, MSc Thesis, Institute of\n",
      "    Graduate Studies in Science and Engineering, Bogazici University.\n",
      "  - E. Alpaydin, C. Kaynak (1998) Cascading Classifiers, Kybernetika.\n",
      "  - Ken Tang and Ponnuthurai N. Suganthan and Xi Yao and A. Kai Qin.\n",
      "    Linear dimensionalityreduction using relevance weighted LDA. School of\n",
      "    Electrical and Electronic Engineering Nanyang Technological University.\n",
      "    2005.\n",
      "  - Claudio Gentile. A New Approximate Maximal Margin Classification\n",
      "    Algorithm. NIPS. 2000.\n",
      "\n"
     ]
    }
   ],
   "source": [
    "print(digits.DESCR)"
   ]
  },
  {
   "cell_type": "markdown",
   "id": "33cc99e5",
   "metadata": {},
   "source": [
    "Dataset Description 주요항목은 다음과 같다 \n",
    "- Number of Instances: 1797\n",
    "- Number of Attributes: 64\n",
    "- Attribute Information: 8x8 image of integer pixels in the range 0..16.\n",
    "- Missing Attribute Values: None\n",
    "\n",
    "각 항목을 따로 확인해보자"
   ]
  },
  {
   "cell_type": "code",
   "execution_count": 4,
   "id": "1780395b",
   "metadata": {
    "scrolled": false
   },
   "outputs": [
    {
     "data": {
      "text/plain": [
       "(1797, 64)"
      ]
     },
     "execution_count": 4,
     "metadata": {},
     "output_type": "execute_result"
    }
   ],
   "source": [
    "digits.data.shape"
   ]
  },
  {
   "cell_type": "code",
   "execution_count": 5,
   "id": "65c5cd04",
   "metadata": {
    "scrolled": true
   },
   "outputs": [
    {
     "data": {
      "text/plain": [
       "array([ 0.,  0., 12., 10.,  0.,  0.,  0.,  0.,  0.,  0., 14., 16., 16.,\n",
       "       14.,  0.,  0.,  0.,  0., 13., 16., 15., 10.,  1.,  0.,  0.,  0.,\n",
       "       11., 16., 16.,  7.,  0.,  0.,  0.,  0.,  0.,  4.,  7., 16.,  7.,\n",
       "        0.,  0.,  0.,  0.,  0.,  4., 16.,  9.,  0.,  0.,  0.,  5.,  4.,\n",
       "       12., 16.,  4.,  0.,  0.,  0.,  9., 16., 16., 10.,  0.,  0.])"
      ]
     },
     "execution_count": 5,
     "metadata": {},
     "output_type": "execute_result"
    }
   ],
   "source": [
    "digits.data[5]"
   ]
  },
  {
   "cell_type": "code",
   "execution_count": 6,
   "id": "9f142469",
   "metadata": {},
   "outputs": [
    {
     "data": {
      "text/plain": [
       "(1797, 8, 8)"
      ]
     },
     "execution_count": 6,
     "metadata": {},
     "output_type": "execute_result"
    }
   ],
   "source": [
    "digits.images.shape"
   ]
  },
  {
   "cell_type": "code",
   "execution_count": 7,
   "id": "948aa0e7",
   "metadata": {},
   "outputs": [
    {
     "data": {
      "text/plain": [
       "<matplotlib.image.AxesImage at 0x7f8cf4a1e970>"
      ]
     },
     "execution_count": 7,
     "metadata": {},
     "output_type": "execute_result"
    },
    {
     "data": {
      "image/png": "[encoded data removed]",
      "text/plain": [
       "<Figure size 216x216 with 1 Axes>"
      ]
     },
     "metadata": {
      "needs_background": "light"
     },
     "output_type": "display_data"
    }
   ],
   "source": [
    "plt.figure(figsize=(3,3))\n",
    "plt.imshow(digits.images[0])"
   ]
  },
  {
   "cell_type": "code",
   "execution_count": 8,
   "id": "2ecf90bb",
   "metadata": {},
   "outputs": [
    {
     "data": {
      "text/plain": [
       "array([0, 1, 2, 3, 4, 5, 6, 7, 8, 9])"
      ]
     },
     "execution_count": 8,
     "metadata": {},
     "output_type": "execute_result"
    }
   ],
   "source": [
    "digits.target_names"
   ]
  },
  {
   "cell_type": "code",
   "execution_count": 9,
   "id": "dcdcc435",
   "metadata": {},
   "outputs": [
    {
     "data": {
      "text/plain": [
       "((1797,), array([0, 1, 2, ..., 8, 9, 8]))"
      ]
     },
     "execution_count": 9,
     "metadata": {},
     "output_type": "execute_result"
    }
   ],
   "source": [
    "digits.target.shape, digits.target"
   ]
  },
  {
   "cell_type": "markdown",
   "id": "bffedce9",
   "metadata": {},
   "source": [
    "이 데이터셋에는 누락된 정보는 없으며 손글씨 이미지를 분류하기위해 적절한 데이터가 제공되는것 같다.\n",
    "- 총 이미지 갯수 : 1797장\n",
    "- feature 정보  : 이미지에대한 64개 픽셀값 \n",
    "- 샘플 이미지 사이즈 : 8x8 \n",
    "- 클래스 라벨값 : 0, 1, 2, 3, 4, 5, 6, 7, 8, 9 \n",
    "- 라벨 사이즈 : 1797\n",
    "\n",
    "데이터의 불균형은 없는지 확인후에 학습을 시작해보자. "
   ]
  },
  {
   "cell_type": "code",
   "execution_count": 10,
   "id": "78a2206b",
   "metadata": {
    "scrolled": true
   },
   "outputs": [
    {
     "name": "stdout",
     "output_type": "stream",
     "text": [
      "[0 1 2 3 4 5 6 7 8 9]\n",
      "[178 182 177 183 181 182 181 179 174 180]\n"
     ]
    }
   ],
   "source": [
    "value, counts = np.unique(digits.target, return_counts = True)\n",
    "print(value)\n",
    "print(counts)"
   ]
  },
  {
   "cell_type": "markdown",
   "id": "6eef8761",
   "metadata": {},
   "source": [
    "각 손글씨 숫자마다 비슷한 양의 샘플이 있는 데이터셋으로 확인되었다. \n",
    "이 분류 문제의 경우 정확하게 손글씨를 판별하는 것이 중요할 것이므로 모델학습후 평가시 마다 따로 정확도를 저장해서 함께 비교해보도록 하자. 빅데이터를 학습하는것은 아니지만 추가적으로 모델 학습 시간도 함께 확인하면 좋을것 같다."
   ]
  },
  {
   "cell_type": "code",
   "execution_count": 11,
   "id": "043add39",
   "metadata": {},
   "outputs": [],
   "source": [
    "#정확도 저장 딕셔너리\n",
    "dict_accuracy = {}\n",
    "\n",
    "#학습시간 저장 딕셔너리\n",
    "dict_time = {}"
   ]
  },
  {
   "cell_type": "markdown",
   "id": "6cab62c3",
   "metadata": {},
   "source": [
    "## 2. 데이터셋 분리 "
   ]
  },
  {
   "cell_type": "code",
   "execution_count": 12,
   "id": "6b36feb1",
   "metadata": {},
   "outputs": [
    {
     "name": "stdout",
     "output_type": "stream",
     "text": [
      "X_train : (1437, 64) y_train: (1437,)\n",
      "X_test : (360, 64) y_test: (360,)\n"
     ]
    }
   ],
   "source": [
    "X_train, X_test, y_train, y_test = train_test_split(digits.data,\n",
    "                                                   digits.target,\n",
    "                                                   test_size=0.2,\n",
    "                                                   random_state=21)\n",
    "\n",
    "print('X_train :', X_train.shape, 'y_train:', y_train.shape)\n",
    "print('X_test :', X_test.shape, 'y_test:', y_test.shape)"
   ]
  },
  {
   "cell_type": "markdown",
   "id": "c055e032",
   "metadata": {},
   "source": [
    "학습용 데이터로 1437건, 테스트용 데이터로 360건의 데이터가 분리되었다."
   ]
  },
  {
   "cell_type": "markdown",
   "id": "7f08bfc5",
   "metadata": {},
   "source": [
    "## 3. Model 학습 및 평가"
   ]
  },
  {
   "cell_type": "markdown",
   "id": "2ce6b164",
   "metadata": {},
   "source": [
    "### 3-1 Decision Tree"
   ]
  },
  {
   "cell_type": "code",
   "execution_count": 13,
   "id": "08abce13",
   "metadata": {},
   "outputs": [
    {
     "name": "stdout",
     "output_type": "stream",
     "text": [
      "              precision    recall  f1-score   support\n",
      "\n",
      "           0       0.91      0.94      0.92        32\n",
      "           1       0.93      0.72      0.81        36\n",
      "           2       0.96      0.73      0.83        30\n",
      "           3       0.74      0.83      0.78        41\n",
      "           4       0.80      0.88      0.84        32\n",
      "           5       0.90      0.93      0.91        46\n",
      "           6       0.93      0.88      0.90        32\n",
      "           7       0.90      0.93      0.91        40\n",
      "           8       0.77      0.81      0.79        42\n",
      "           9       0.69      0.76      0.72        29\n",
      "\n",
      "    accuracy                           0.84       360\n",
      "   macro avg       0.85      0.84      0.84       360\n",
      "weighted avg       0.85      0.84      0.84       360\n",
      "\n"
     ]
    }
   ],
   "source": [
    "#학습\n",
    "model= DecisionTreeClassifier(random_state=32)\n",
    "start_time = time.time()\n",
    "model.fit(X_train, y_train)\n",
    "end_time = time.time()\n",
    "\n",
    "#예측 및 평가\n",
    "y_pred = model.predict(X_test)\n",
    "dict_accuracy['DecisionTreeClassifier'] = accuracy_score(y_test, y_pred) #정확도\n",
    "dict_time['DecisionTreeClassifier'] = (end_time - start_time)*1000 #수행시간 (ms)\n",
    "\n",
    "print(classification_report(y_test, y_pred))"
   ]
  },
  {
   "cell_type": "markdown",
   "id": "0c50f6c3",
   "metadata": {},
   "source": [
    "### 3-2 Random Forest"
   ]
  },
  {
   "cell_type": "code",
   "execution_count": 14,
   "id": "84f8ed07",
   "metadata": {},
   "outputs": [
    {
     "name": "stdout",
     "output_type": "stream",
     "text": [
      "              precision    recall  f1-score   support\n",
      "\n",
      "           0       0.97      0.94      0.95        32\n",
      "           1       0.97      1.00      0.99        36\n",
      "           2       1.00      1.00      1.00        30\n",
      "           3       0.98      0.98      0.98        41\n",
      "           4       0.94      0.97      0.95        32\n",
      "           5       1.00      0.98      0.99        46\n",
      "           6       1.00      0.97      0.98        32\n",
      "           7       0.98      1.00      0.99        40\n",
      "           8       0.93      0.98      0.95        42\n",
      "           9       1.00      0.93      0.96        29\n",
      "\n",
      "    accuracy                           0.97       360\n",
      "   macro avg       0.98      0.97      0.97       360\n",
      "weighted avg       0.98      0.97      0.98       360\n",
      "\n"
     ]
    }
   ],
   "source": [
    "#학습\n",
    "model= RandomForestClassifier(random_state=32)\n",
    "start_time = time.time()\n",
    "model.fit(X_train, y_train)\n",
    "end_time = time.time()\n",
    "\n",
    "#예측 및 평가\n",
    "y_pred = model.predict(X_test)\n",
    "dict_accuracy['RandomForestClassifier'] = accuracy_score(y_test, y_pred) #정확도\n",
    "dict_time['RandomForestClassifier'] = (end_time - start_time)*1000 #수행시간 (ms)\n",
    "\n",
    "print(classification_report(y_test, y_pred))"
   ]
  },
  {
   "cell_type": "markdown",
   "id": "b9c20674",
   "metadata": {},
   "source": [
    "### 3-3 SVM"
   ]
  },
  {
   "cell_type": "code",
   "execution_count": 15,
   "id": "dc96a7b7",
   "metadata": {},
   "outputs": [
    {
     "name": "stdout",
     "output_type": "stream",
     "text": [
      "              precision    recall  f1-score   support\n",
      "\n",
      "           0       1.00      0.97      0.98        32\n",
      "           1       0.95      1.00      0.97        36\n",
      "           2       1.00      1.00      1.00        30\n",
      "           3       1.00      1.00      1.00        41\n",
      "           4       0.97      1.00      0.98        32\n",
      "           5       0.98      1.00      0.99        46\n",
      "           6       1.00      1.00      1.00        32\n",
      "           7       1.00      1.00      1.00        40\n",
      "           8       0.98      0.95      0.96        42\n",
      "           9       1.00      0.93      0.96        29\n",
      "\n",
      "    accuracy                           0.99       360\n",
      "   macro avg       0.99      0.99      0.99       360\n",
      "weighted avg       0.99      0.99      0.99       360\n",
      "\n"
     ]
    }
   ],
   "source": [
    "#학습\n",
    "model= SVC(random_state=32)\n",
    "start_time = time.time()\n",
    "model.fit(X_train, y_train)\n",
    "end_time = time.time()\n",
    "\n",
    "#예측 및 평가\n",
    "y_pred = model.predict(X_test)\n",
    "dict_accuracy['SVM'] = accuracy_score(y_test, y_pred) #정확도\n",
    "dict_time['SVM'] = (end_time - start_time)*1000 #수행시간 (ms)\n",
    "\n",
    "print(classification_report(y_test, y_pred))"
   ]
  },
  {
   "cell_type": "markdown",
   "id": "b8c76dc4",
   "metadata": {},
   "source": [
    "### 3-4 SGD Classifier "
   ]
  },
  {
   "cell_type": "code",
   "execution_count": 16,
   "id": "77e9779d",
   "metadata": {},
   "outputs": [
    {
     "name": "stdout",
     "output_type": "stream",
     "text": [
      "              precision    recall  f1-score   support\n",
      "\n",
      "           0       1.00      0.94      0.97        32\n",
      "           1       1.00      0.83      0.91        36\n",
      "           2       1.00      0.97      0.98        30\n",
      "           3       0.91      1.00      0.95        41\n",
      "           4       0.91      0.97      0.94        32\n",
      "           5       0.98      0.96      0.97        46\n",
      "           6       1.00      1.00      1.00        32\n",
      "           7       0.91      1.00      0.95        40\n",
      "           8       1.00      0.83      0.91        42\n",
      "           9       0.78      0.97      0.86        29\n",
      "\n",
      "    accuracy                           0.94       360\n",
      "   macro avg       0.95      0.95      0.94       360\n",
      "weighted avg       0.95      0.94      0.94       360\n",
      "\n"
     ]
    }
   ],
   "source": [
    "#학습\n",
    "model= SGDClassifier(random_state=32)\n",
    "start_time = time.time()\n",
    "model.fit(X_train, y_train)\n",
    "end_time = time.time()\n",
    "\n",
    "#예측 및 평가\n",
    "y_pred = model.predict(X_test)\n",
    "dict_accuracy['SGDClassifier'] = accuracy_score(y_test, y_pred) #정확도\n",
    "dict_time['SGDClassifier'] = (end_time - start_time)*1000 #수행시간 (ms)\n",
    "\n",
    "print(classification_report(y_test, y_pred))"
   ]
  },
  {
   "cell_type": "markdown",
   "id": "44a1a61d",
   "metadata": {},
   "source": [
    "### 3-5 Logistic Regression"
   ]
  },
  {
   "cell_type": "code",
   "execution_count": 17,
   "id": "ba320178",
   "metadata": {},
   "outputs": [
    {
     "name": "stdout",
     "output_type": "stream",
     "text": [
      "              precision    recall  f1-score   support\n",
      "\n",
      "           0       1.00      1.00      1.00        32\n",
      "           1       0.95      0.97      0.96        36\n",
      "           2       1.00      1.00      1.00        30\n",
      "           3       0.98      1.00      0.99        41\n",
      "           4       0.94      0.97      0.95        32\n",
      "           5       0.98      0.98      0.98        46\n",
      "           6       1.00      1.00      1.00        32\n",
      "           7       0.97      0.97      0.97        40\n",
      "           8       1.00      0.95      0.98        42\n",
      "           9       0.96      0.93      0.95        29\n",
      "\n",
      "    accuracy                           0.98       360\n",
      "   macro avg       0.98      0.98      0.98       360\n",
      "weighted avg       0.98      0.98      0.98       360\n",
      "\n"
     ]
    },
    {
     "name": "stderr",
     "output_type": "stream",
     "text": [
      "/opt/conda/lib/python3.9/site-packages/sklearn/linear_model/_logistic.py:814: ConvergenceWarning: lbfgs failed to converge (status=1):\n",
      "STOP: TOTAL NO. of ITERATIONS REACHED LIMIT.\n",
      "\n",
      "Increase the number of iterations (max_iter) or scale the data as shown in:\n",
      "    https://scikit-learn.org/stable/modules/preprocessing.html\n",
      "Please also refer to the documentation for alternative solver options:\n",
      "    https://scikit-learn.org/stable/modules/linear_model.html#logistic-regression\n",
      "  n_iter_i = _check_optimize_result(\n"
     ]
    }
   ],
   "source": [
    "#학습\n",
    "model= LogisticRegression(random_state=32)\n",
    "start_time = time.time()\n",
    "model.fit(X_train, y_train)\n",
    "end_time = time.time()\n",
    "\n",
    "#예측 및 평가\n",
    "y_pred = model.predict(X_test)\n",
    "dict_accuracy['LogisticRegression'] = accuracy_score(y_test, y_pred) #정확도\n",
    "dict_time['LogisticRegression'] = (end_time - start_time)*1000 #수행시간 (ms)\n",
    "\n",
    "print(classification_report(y_test, y_pred))"
   ]
  },
  {
   "cell_type": "markdown",
   "id": "36f42f8e",
   "metadata": {},
   "source": [
    "## 4. 모델 평가\n",
    "각모델별 손글씨 분류문제의 성능평가지표인 정확도를 수행 시간과 함께 비교해보자"
   ]
  },
  {
   "cell_type": "code",
   "execution_count": 51,
   "id": "e8768c3e",
   "metadata": {
    "scrolled": true
   },
   "outputs": [
    {
     "name": "stdout",
     "output_type": "stream",
     "text": [
      "______________________________________________________________________\n",
      "Model                      Accuray         Running time(ms)\n",
      "______________________________________________________________________\n",
      "DecisionTreeClassifier     0.861111        9.181261\n",
      "RandomForestClassifier     1.0             163.448334\n",
      "SVM                        0.611111        5.981445\n",
      "SGDClassifier              0.583333        3.581762\n",
      "LogisticRegression         1.0             52.898884\n"
     ]
    }
   ],
   "source": [
    "print('_'*70)\n",
    "print('{0:<25}  {1:<15} {2}'.format('Model', 'Accuray', 'Running time(ms)'))\n",
    "print('_'*70)\n",
    "for keys in dict_accuracy:\n",
    "    print('{0:<25}  {1:<15} {2}'.format(keys, round(dict_accuracy[keys],6), round(dict_time[keys], 6)))        \n"
   ]
  },
  {
   "cell_type": "markdown",
   "id": "6c9c2879",
   "metadata": {},
   "source": [
    "보통 모델을 평가할때 가장 좋은 결과를 얻고 싶은 한가지 조건을 optimizing metric으로 설정하고, 나머지는 satisficing metric을 통해서 만족할만한 수치의 범위를 설정한다고 한다. 손글씨 분류문제에서 optimizing metric은 정확도이며 satisficing metric이 실행시간이라고 두고 평가를 진행하면 될것 같다."
   ]
  },
  {
   "cell_type": "markdown",
   "id": "ad60dd7b",
   "metadata": {},
   "source": [
    "## 결론\n",
    "**손글씨 분류문제는 정확도가 가장 높은 SVM 모델이 적합한 것으로 보인다. SVM모델은 실행시간면에서도 비슷한 정확도의 RandomForest, LogisticRegression 모델에 비해 월등히 빠르게 문제를 푸는것으로 확인되었다.**"
   ]
  },
  {
   "cell_type": "markdown",
   "id": "13ac1101",
   "metadata": {},
   "source": [
    " "
   ]
  },
  {
   "cell_type": "markdown",
   "id": "fede9d35",
   "metadata": {},
   "source": [
    "---\n",
    "# 와인 분류\n",
    "- 정형 데이터, 다중분류 문제\n",
    "- load_wine : 와인 데이터 [링크](https://scikit-learn.org/stable/datasets/toy_dataset.html#wine-dataset)\n"
   ]
  },
  {
   "cell_type": "markdown",
   "id": "43d0c883",
   "metadata": {},
   "source": [
    "## 1. 데이터 load 및 데이터 분석"
   ]
  },
  {
   "cell_type": "code",
   "execution_count": 19,
   "id": "48936122",
   "metadata": {},
   "outputs": [
    {
     "data": {
      "text/plain": [
       "['DESCR', 'data', 'feature_names', 'frame', 'images', 'target', 'target_names']"
      ]
     },
     "execution_count": 19,
     "metadata": {},
     "output_type": "execute_result"
    }
   ],
   "source": [
    "wine = load_wine()\n",
    "dir(digits)"
   ]
  },
  {
   "cell_type": "code",
   "execution_count": 20,
   "id": "ce036491",
   "metadata": {},
   "outputs": [
    {
     "name": "stdout",
     "output_type": "stream",
     "text": [
      ".. _wine_dataset:\n",
      "\n",
      "Wine recognition dataset\n",
      "------------------------\n",
      "\n",
      "**Data Set Characteristics:**\n",
      "\n",
      "    :Number of Instances: 178 (50 in each of three classes)\n",
      "    :Number of Attributes: 13 numeric, predictive attributes and the class\n",
      "    :Attribute Information:\n",
      " \t\t- Alcohol\n",
      " \t\t- Malic acid\n",
      " \t\t- Ash\n",
      "\t\t- Alcalinity of ash  \n",
      " \t\t- Magnesium\n",
      "\t\t- Total phenols\n",
      " \t\t- Flavanoids\n",
      " \t\t- Nonflavanoid phenols\n",
      " \t\t- Proanthocyanins\n",
      "\t\t- Color intensity\n",
      " \t\t- Hue\n",
      " \t\t- OD280/OD315 of diluted wines\n",
      " \t\t- Proline\n",
      "\n",
      "    - class:\n",
      "            - class_0\n",
      "            - class_1\n",
      "            - class_2\n",
      "\t\t\n",
      "    :Summary Statistics:\n",
      "    \n",
      "    ============================= ==== ===== ======= =====\n",
      "                                   Min   Max   Mean     SD\n",
      "    ============================= ==== ===== ======= =====\n",
      "    Alcohol:                      11.0  14.8    13.0   0.8\n",
      "    Malic Acid:                   0.74  5.80    2.34  1.12\n",
      "    Ash:                          1.36  3.23    2.36  0.27\n",
      "    Alcalinity of Ash:            10.6  30.0    19.5   3.3\n",
      "    Magnesium:                    70.0 162.0    99.7  14.3\n",
      "    Total Phenols:                0.98  3.88    2.29  0.63\n",
      "    Flavanoids:                   0.34  5.08    2.03  1.00\n",
      "    Nonflavanoid Phenols:         0.13  0.66    0.36  0.12\n",
      "    Proanthocyanins:              0.41  3.58    1.59  0.57\n",
      "    Colour Intensity:              1.3  13.0     5.1   2.3\n",
      "    Hue:                          0.48  1.71    0.96  0.23\n",
      "    OD280/OD315 of diluted wines: 1.27  4.00    2.61  0.71\n",
      "    Proline:                       278  1680     746   315\n",
      "    ============================= ==== ===== ======= =====\n",
      "\n",
      "    :Missing Attribute Values: None\n",
      "    :Class Distribution: class_0 (59), class_1 (71), class_2 (48)\n",
      "    :Creator: R.A. Fisher\n",
      "    :Donor: Michael Marshall (MARSHALL%PLU@io.arc.nasa.gov)\n",
      "    :Date: July, 1988\n",
      "\n",
      "This is a copy of UCI ML Wine recognition datasets.\n",
      "https://archive.ics.uci.edu/ml/machine-learning-databases/wine/wine.data\n",
      "\n",
      "The data is the results of a chemical analysis of wines grown in the same\n",
      "region in Italy by three different cultivators. There are thirteen different\n",
      "measurements taken for different constituents found in the three types of\n",
      "wine.\n",
      "\n",
      "Original Owners: \n",
      "\n",
      "Forina, M. et al, PARVUS - \n",
      "An Extendible Package for Data Exploration, Classification and Correlation. \n",
      "Institute of Pharmaceutical and Food Analysis and Technologies,\n",
      "Via Brigata Salerno, 16147 Genoa, Italy.\n",
      "\n",
      "Citation:\n",
      "\n",
      "Lichman, M. (2013). UCI Machine Learning Repository\n",
      "[https://archive.ics.uci.edu/ml]. Irvine, CA: University of California,\n",
      "School of Information and Computer Science. \n",
      "\n",
      ".. topic:: References\n",
      "\n",
      "  (1) S. Aeberhard, D. Coomans and O. de Vel, \n",
      "  Comparison of Classifiers in High Dimensional Settings, \n",
      "  Tech. Rep. no. 92-02, (1992), Dept. of Computer Science and Dept. of  \n",
      "  Mathematics and Statistics, James Cook University of North Queensland. \n",
      "  (Also submitted to Technometrics). \n",
      "\n",
      "  The data was used with many others for comparing various \n",
      "  classifiers. The classes are separable, though only RDA \n",
      "  has achieved 100% correct classification. \n",
      "  (RDA : 100%, QDA 99.4%, LDA 98.9%, 1NN 96.1% (z-transformed data)) \n",
      "  (All results using the leave-one-out technique) \n",
      "\n",
      "  (2) S. Aeberhard, D. Coomans and O. de Vel, \n",
      "  \"THE CLASSIFICATION PERFORMANCE OF RDA\" \n",
      "  Tech. Rep. no. 92-01, (1992), Dept. of Computer Science and Dept. of \n",
      "  Mathematics and Statistics, James Cook University of North Queensland. \n",
      "  (Also submitted to Journal of Chemometrics).\n",
      "\n"
     ]
    }
   ],
   "source": [
    "print(wine.DESCR)"
   ]
  },
  {
   "cell_type": "markdown",
   "id": "a65a0563",
   "metadata": {},
   "source": [
    "Dataset Description 주요항목은 다음과 같다 \n",
    "\n",
    "- Number of Instances: 178 (50 in each of three classes)\n",
    "- Number of Attributes: 13 numeric, predictive attributes and the class\n",
    "- Attribute Information: 8x8 image of integer pixels in the range 0..16.\n",
    "- class:class_0, class_1, class_2\n",
    "- Missing Attribute Values: None\n",
    "- Class Distribution: class_0 (59), class_1 (71), class_2 (48)\n",
    "            \n",
    "각 항목을 따로 확인해보자"
   ]
  },
  {
   "cell_type": "code",
   "execution_count": 21,
   "id": "845fae76",
   "metadata": {},
   "outputs": [
    {
     "data": {
      "text/plain": [
       "(178, 13)"
      ]
     },
     "execution_count": 21,
     "metadata": {},
     "output_type": "execute_result"
    }
   ],
   "source": [
    "wine.data.shape"
   ]
  },
  {
   "cell_type": "code",
   "execution_count": 22,
   "id": "fbc6f3bd",
   "metadata": {},
   "outputs": [
    {
     "data": {
      "text/plain": [
       "['alcohol',\n",
       " 'malic_acid',\n",
       " 'ash',\n",
       " 'alcalinity_of_ash',\n",
       " 'magnesium',\n",
       " 'total_phenols',\n",
       " 'flavanoids',\n",
       " 'nonflavanoid_phenols',\n",
       " 'proanthocyanins',\n",
       " 'color_intensity',\n",
       " 'hue',\n",
       " 'od280/od315_of_diluted_wines',\n",
       " 'proline']"
      ]
     },
     "execution_count": 22,
     "metadata": {},
     "output_type": "execute_result"
    }
   ],
   "source": [
    "wine.feature_names"
   ]
  },
  {
   "cell_type": "code",
   "execution_count": 23,
   "id": "90404d9a",
   "metadata": {},
   "outputs": [
    {
     "data": {
      "text/plain": [
       "array([1.32e+01, 1.78e+00, 2.14e+00, 1.12e+01, 1.00e+02, 2.65e+00,\n",
       "       2.76e+00, 2.60e-01, 1.28e+00, 4.38e+00, 1.05e+00, 3.40e+00,\n",
       "       1.05e+03])"
      ]
     },
     "execution_count": 23,
     "metadata": {},
     "output_type": "execute_result"
    }
   ],
   "source": [
    "wine.data[1]"
   ]
  },
  {
   "cell_type": "code",
   "execution_count": 24,
   "id": "84724fff",
   "metadata": {},
   "outputs": [
    {
     "data": {
      "text/plain": [
       "array(['class_0', 'class_1', 'class_2'], dtype='<U7')"
      ]
     },
     "execution_count": 24,
     "metadata": {},
     "output_type": "execute_result"
    }
   ],
   "source": [
    "wine.target_names"
   ]
  },
  {
   "cell_type": "code",
   "execution_count": 25,
   "id": "97180933",
   "metadata": {},
   "outputs": [
    {
     "data": {
      "text/plain": [
       "((178,),\n",
       " array([0, 0, 0, 0, 0, 0, 0, 0, 0, 0, 0, 0, 0, 0, 0, 0, 0, 0, 0, 0, 0, 0,\n",
       "        0, 0, 0, 0, 0, 0, 0, 0, 0, 0, 0, 0, 0, 0, 0, 0, 0, 0, 0, 0, 0, 0,\n",
       "        0, 0, 0, 0, 0, 0, 0, 0, 0, 0, 0, 0, 0, 0, 0, 1, 1, 1, 1, 1, 1, 1,\n",
       "        1, 1, 1, 1, 1, 1, 1, 1, 1, 1, 1, 1, 1, 1, 1, 1, 1, 1, 1, 1, 1, 1,\n",
       "        1, 1, 1, 1, 1, 1, 1, 1, 1, 1, 1, 1, 1, 1, 1, 1, 1, 1, 1, 1, 1, 1,\n",
       "        1, 1, 1, 1, 1, 1, 1, 1, 1, 1, 1, 1, 1, 1, 1, 1, 1, 1, 1, 1, 2, 2,\n",
       "        2, 2, 2, 2, 2, 2, 2, 2, 2, 2, 2, 2, 2, 2, 2, 2, 2, 2, 2, 2, 2, 2,\n",
       "        2, 2, 2, 2, 2, 2, 2, 2, 2, 2, 2, 2, 2, 2, 2, 2, 2, 2, 2, 2, 2, 2,\n",
       "        2, 2]))"
      ]
     },
     "execution_count": 25,
     "metadata": {},
     "output_type": "execute_result"
    }
   ],
   "source": [
    "wine.target.shape, wine.target"
   ]
  },
  {
   "cell_type": "markdown",
   "id": "63edad90",
   "metadata": {},
   "source": [
    "와인 데이터셋에는 누락된 정보는 없으며 와인 종류를 분류하기위해 적절한 데이터가 제공되는것 같다.\n",
    "- 총 데이터 갯수 : 178건\n",
    "- feature : 와인에 대한 13가지 정보\n",
    "- 클래스 라벨값 : 0,1,2\n",
    "- 라벨 사이즈 : 178건, \n",
    "\n",
    "분포정보가 Description에 명시되어 있지만 데이터의 불균형을 한번더 확인한 후에 학습을 시작해보자. "
   ]
  },
  {
   "cell_type": "code",
   "execution_count": 26,
   "id": "e90767e1",
   "metadata": {},
   "outputs": [
    {
     "name": "stdout",
     "output_type": "stream",
     "text": [
      "[0 1 2]\n",
      "[59 71 48]\n"
     ]
    }
   ],
   "source": [
    "value, counts = np.unique(wine.target, return_counts = True)\n",
    "print(value)\n",
    "print(counts)"
   ]
  },
  {
   "cell_type": "markdown",
   "id": "1115106a",
   "metadata": {},
   "source": [
    "각 클래스별로 분포의 차이가 존재하는 것 같다. 클래스1의 데이터갯수가 클래스2의 데이터 갯수보다 1.5배가량 데이터가 많다. 다중 분류에서 불균형 데이터셋을 위해 가장 널리 사용하는 평가 지표는 f1-score의 다중 분류 버전이라고 한다. 따라서 이번 모델은 클래스별 샘플 수로 가중치를 둔 weighted average f1-score 를 모델 성능 지표로 선정하여 학습을 진행해보겠다.\n"
   ]
  },
  {
   "cell_type": "code",
   "execution_count": 27,
   "id": "5dbc8c4b",
   "metadata": {},
   "outputs": [],
   "source": [
    "#f1score 저장 딕셔너리\n",
    "dict_f1score = {}\n",
    "#정확도 저장 딕셔너리\n",
    "dict_accuracy = {} \n",
    "#학습시간 저장 딕셔너리\n",
    "dict_time = {}"
   ]
  },
  {
   "cell_type": "markdown",
   "id": "3ad32ae3",
   "metadata": {},
   "source": [
    "## 2. 데이터셋 분리 "
   ]
  },
  {
   "cell_type": "code",
   "execution_count": 28,
   "id": "c8758524",
   "metadata": {},
   "outputs": [
    {
     "name": "stdout",
     "output_type": "stream",
     "text": [
      "X_train : (142, 13) y_train: (142,)\n",
      "X_test : (36, 13) y_test: (36,)\n"
     ]
    }
   ],
   "source": [
    "X_train, X_test, y_train, y_test = train_test_split(wine.data,\n",
    "                                                   wine.target,\n",
    "                                                   test_size=0.2,\n",
    "                                                   random_state=21)\n",
    "\n",
    "print('X_train :', X_train.shape, 'y_train:', y_train.shape)\n",
    "print('X_test :', X_test.shape, 'y_test:', y_test.shape)"
   ]
  },
  {
   "cell_type": "markdown",
   "id": "d1d16081",
   "metadata": {},
   "source": [
    "학습용 데이터로 142건, 테스트용 데이터로 36건의 데이터가 분리되었다."
   ]
  },
  {
   "cell_type": "markdown",
   "id": "b9a81437",
   "metadata": {},
   "source": [
    "## 3. Model 학습 및 평가"
   ]
  },
  {
   "cell_type": "markdown",
   "id": "01f0af42",
   "metadata": {},
   "source": [
    "### 3-1 Decision Tree"
   ]
  },
  {
   "cell_type": "code",
   "execution_count": 29,
   "id": "c63040db",
   "metadata": {},
   "outputs": [
    {
     "name": "stdout",
     "output_type": "stream",
     "text": [
      "              precision    recall  f1-score   support\n",
      "\n",
      "           0       0.88      1.00      0.94        15\n",
      "           1       0.80      0.80      0.80        10\n",
      "           2       0.89      0.73      0.80        11\n",
      "\n",
      "    accuracy                           0.86        36\n",
      "   macro avg       0.86      0.84      0.85        36\n",
      "weighted avg       0.86      0.86      0.86        36\n",
      "\n"
     ]
    }
   ],
   "source": [
    "#학습\n",
    "model= DecisionTreeClassifier(random_state=32)\n",
    "start_time = time.time()\n",
    "model.fit(X_train, y_train)\n",
    "end_time = time.time()\n",
    "\n",
    "#예측 및 평가\n",
    "y_pred = model.predict(X_test)\n",
    "dict_f1score['DecisionTreeClassifier'] = f1_score(y_test, y_pred, average='weighted') \n",
    "dict_accuracy['DecisionTreeClassifier'] = accuracy_score(y_test, y_pred) \n",
    "dict_time['DecisionTreeClassifier'] = (end_time - start_time)*1000 \n",
    "\n",
    "print(classification_report(y_test, y_pred))"
   ]
  },
  {
   "cell_type": "markdown",
   "id": "447ac55d",
   "metadata": {},
   "source": [
    "### 3-2 Random Forest"
   ]
  },
  {
   "cell_type": "code",
   "execution_count": 30,
   "id": "e594e198",
   "metadata": {},
   "outputs": [
    {
     "name": "stdout",
     "output_type": "stream",
     "text": [
      "              precision    recall  f1-score   support\n",
      "\n",
      "           0       1.00      1.00      1.00        15\n",
      "           1       1.00      1.00      1.00        10\n",
      "           2       1.00      1.00      1.00        11\n",
      "\n",
      "    accuracy                           1.00        36\n",
      "   macro avg       1.00      1.00      1.00        36\n",
      "weighted avg       1.00      1.00      1.00        36\n",
      "\n"
     ]
    }
   ],
   "source": [
    "#학습\n",
    "model= RandomForestClassifier(random_state=32)\n",
    "start_time = time.time()\n",
    "model.fit(X_train, y_train)\n",
    "end_time = time.time()\n",
    "\n",
    "#예측 및 평가\n",
    "y_pred = model.predict(X_test)\n",
    "dict_f1score['RandomForestClassifier'] = f1_score(y_test, y_pred, average='weighted') \n",
    "dict_accuracy['RandomForestClassifier'] = accuracy_score(y_test, y_pred) \n",
    "dict_time['RandomForestClassifier'] = (end_time - start_time)*1000 \n",
    "\n",
    "print(classification_report(y_test, y_pred))"
   ]
  },
  {
   "cell_type": "markdown",
   "id": "450541d7",
   "metadata": {},
   "source": [
    "### 3-3 SVM"
   ]
  },
  {
   "cell_type": "code",
   "execution_count": 31,
   "id": "89d80f4a",
   "metadata": {},
   "outputs": [
    {
     "name": "stdout",
     "output_type": "stream",
     "text": [
      "              precision    recall  f1-score   support\n",
      "\n",
      "           0       0.86      0.80      0.83        15\n",
      "           1       0.45      1.00      0.62        10\n",
      "           2       0.00      0.00      0.00        11\n",
      "\n",
      "    accuracy                           0.61        36\n",
      "   macro avg       0.44      0.60      0.48        36\n",
      "weighted avg       0.48      0.61      0.52        36\n",
      "\n"
     ]
    },
    {
     "name": "stderr",
     "output_type": "stream",
     "text": [
      "/opt/conda/lib/python3.9/site-packages/sklearn/metrics/_classification.py:1308: UndefinedMetricWarning: Precision and F-score are ill-defined and being set to 0.0 in labels with no predicted samples. Use `zero_division` parameter to control this behavior.\n",
      "  _warn_prf(average, modifier, msg_start, len(result))\n",
      "/opt/conda/lib/python3.9/site-packages/sklearn/metrics/_classification.py:1308: UndefinedMetricWarning: Precision and F-score are ill-defined and being set to 0.0 in labels with no predicted samples. Use `zero_division` parameter to control this behavior.\n",
      "  _warn_prf(average, modifier, msg_start, len(result))\n",
      "/opt/conda/lib/python3.9/site-packages/sklearn/metrics/_classification.py:1308: UndefinedMetricWarning: Precision and F-score are ill-defined and being set to 0.0 in labels with no predicted samples. Use `zero_division` parameter to control this behavior.\n",
      "  _warn_prf(average, modifier, msg_start, len(result))\n"
     ]
    }
   ],
   "source": [
    "#학습\n",
    "model= SVC(random_state=32)\n",
    "start_time = time.time()\n",
    "model.fit(X_train, y_train)\n",
    "end_time = time.time()\n",
    "\n",
    "#예측 및 평가\n",
    "y_pred = model.predict(X_test)\n",
    "dict_f1score['SVM'] = f1_score(y_test, y_pred, average='weighted') \n",
    "dict_accuracy['SVM'] = accuracy_score(y_test, y_pred) \n",
    "dict_time['SVM'] = (end_time - start_time)*1000 \n",
    "\n",
    "print(classification_report(y_test, y_pred))"
   ]
  },
  {
   "cell_type": "markdown",
   "id": "48975e07",
   "metadata": {},
   "source": [
    "### 3-4 SGD Classifier "
   ]
  },
  {
   "cell_type": "code",
   "execution_count": 32,
   "id": "b70427ad",
   "metadata": {},
   "outputs": [
    {
     "name": "stdout",
     "output_type": "stream",
     "text": [
      "              precision    recall  f1-score   support\n",
      "\n",
      "           0       0.92      0.73      0.81        15\n",
      "           1       0.42      1.00      0.59        10\n",
      "           2       0.00      0.00      0.00        11\n",
      "\n",
      "    accuracy                           0.58        36\n",
      "   macro avg       0.44      0.58      0.47        36\n",
      "weighted avg       0.50      0.58      0.50        36\n",
      "\n"
     ]
    },
    {
     "name": "stderr",
     "output_type": "stream",
     "text": [
      "/opt/conda/lib/python3.9/site-packages/sklearn/metrics/_classification.py:1308: UndefinedMetricWarning: Precision and F-score are ill-defined and being set to 0.0 in labels with no predicted samples. Use `zero_division` parameter to control this behavior.\n",
      "  _warn_prf(average, modifier, msg_start, len(result))\n",
      "/opt/conda/lib/python3.9/site-packages/sklearn/metrics/_classification.py:1308: UndefinedMetricWarning: Precision and F-score are ill-defined and being set to 0.0 in labels with no predicted samples. Use `zero_division` parameter to control this behavior.\n",
      "  _warn_prf(average, modifier, msg_start, len(result))\n",
      "/opt/conda/lib/python3.9/site-packages/sklearn/metrics/_classification.py:1308: UndefinedMetricWarning: Precision and F-score are ill-defined and being set to 0.0 in labels with no predicted samples. Use `zero_division` parameter to control this behavior.\n",
      "  _warn_prf(average, modifier, msg_start, len(result))\n"
     ]
    }
   ],
   "source": [
    "#학습\n",
    "model= SGDClassifier(random_state=32)\n",
    "start_time = time.time()\n",
    "model.fit(X_train, y_train)\n",
    "end_time = time.time()\n",
    "\n",
    "#예측 및 평가\n",
    "y_pred = model.predict(X_test)\n",
    "dict_f1score['SGDClassifier'] = f1_score(y_test, y_pred, average='weighted')\n",
    "dict_accuracy['SGDClassifier'] = accuracy_score(y_test, y_pred) \n",
    "dict_time['SGDClassifier'] = (end_time - start_time)*1000 \n",
    "\n",
    "print(classification_report(y_test, y_pred))"
   ]
  },
  {
   "cell_type": "markdown",
   "id": "31b666ab",
   "metadata": {},
   "source": [
    "### 3-5 Logistic Regression"
   ]
  },
  {
   "cell_type": "code",
   "execution_count": 33,
   "id": "aeee8799",
   "metadata": {},
   "outputs": [
    {
     "name": "stdout",
     "output_type": "stream",
     "text": [
      "              precision    recall  f1-score   support\n",
      "\n",
      "           0       1.00      1.00      1.00        15\n",
      "           1       1.00      1.00      1.00        10\n",
      "           2       1.00      1.00      1.00        11\n",
      "\n",
      "    accuracy                           1.00        36\n",
      "   macro avg       1.00      1.00      1.00        36\n",
      "weighted avg       1.00      1.00      1.00        36\n",
      "\n"
     ]
    },
    {
     "name": "stderr",
     "output_type": "stream",
     "text": [
      "/opt/conda/lib/python3.9/site-packages/sklearn/linear_model/_logistic.py:814: ConvergenceWarning: lbfgs failed to converge (status=1):\n",
      "STOP: TOTAL NO. of ITERATIONS REACHED LIMIT.\n",
      "\n",
      "Increase the number of iterations (max_iter) or scale the data as shown in:\n",
      "    https://scikit-learn.org/stable/modules/preprocessing.html\n",
      "Please also refer to the documentation for alternative solver options:\n",
      "    https://scikit-learn.org/stable/modules/linear_model.html#logistic-regression\n",
      "  n_iter_i = _check_optimize_result(\n"
     ]
    }
   ],
   "source": [
    "#학습\n",
    "model= LogisticRegression(random_state=32)\n",
    "start_time = time.time()\n",
    "model.fit(X_train, y_train)\n",
    "end_time = time.time()\n",
    "\n",
    "#예측 및 평가\n",
    "y_pred = model.predict(X_test)\n",
    "dict_f1score['LogisticRegression'] = f1_score(y_test, y_pred, average='weighted')\n",
    "dict_accuracy['LogisticRegression'] = accuracy_score(y_test, y_pred) \n",
    "dict_time['LogisticRegression'] = (end_time - start_time)*1000 \n",
    "\n",
    "print(classification_report(y_test, y_pred))"
   ]
  },
  {
   "cell_type": "markdown",
   "id": "b94e6c76",
   "metadata": {},
   "source": [
    "## 4. 모델 평가\n",
    "각모델별 손글씨 분류문제의 성능평가지표인 f1-score와 수행 시간을 비교해보자"
   ]
  },
  {
   "cell_type": "code",
   "execution_count": 35,
   "id": "c026ee3c",
   "metadata": {},
   "outputs": [
    {
     "name": "stdout",
     "output_type": "stream",
     "text": [
      "____________________________________________________________________________________________________\n",
      "Model                      F1-score        Accuracy        Running time(ms)\n",
      "____________________________________________________________________________________________________\n",
      "DecisionTreeClassifier     0.857292        0.861111        1.667976\n",
      "RandomForestClassifier     1.0             1.0             109.452963\n",
      "SVM                        0.518439        0.611111        2.372742\n",
      "SGDClassifier              0.502905        0.583333        4.726887\n",
      "LogisticRegression         1.0             1.0             31.922102\n"
     ]
    }
   ],
   "source": [
    "print('_'*100)\n",
    "print('{0:<25}  {1:<15} {2:<15} {3}'.format('Model', 'F1-score', 'Accuracy', 'Running time(ms)'))\n",
    "print('_'*100)\n",
    "for keys in dict_accuracy:\n",
    "    print('{0:<25}  {1:<15} {2:<15} {3}'.format(keys, round(dict_f1score[keys],6), round(dict_accuracy[keys],6), \n",
    "                                        round(dict_time[keys], 6)))        \n"
   ]
  },
  {
   "cell_type": "markdown",
   "id": "7cb5775e",
   "metadata": {},
   "source": [
    "## 결론\n",
    "**와인 분류문제에 최적의 모델은 LogisticRegression 으로 판단된다. LogisticRegression와 RandomForest 모두 F1-score점수가 1.0으로 아주 높게 나왔지만 실행시간면에서 LogisticRegression을 택하는것이 효율적일 것 같다.**"
   ]
  },
  {
   "cell_type": "markdown",
   "id": "838f0b62",
   "metadata": {},
   "source": [
    " "
   ]
  },
  {
   "cell_type": "markdown",
   "id": "cc4d6b05",
   "metadata": {},
   "source": [
    "---\n",
    "# 유방암 여부 진단\n",
    "- 정형 데이터, 이중분류 문제\n",
    "- load_breast_cancer : 유방암 데이터 [링크](https://scikit-learn.org/stable/modules/generated/sklearn.datasets.load_breast_cancer.html#sklearn.datasets.load_breast_cancer)"
   ]
  },
  {
   "cell_type": "markdown",
   "id": "fd250b9d",
   "metadata": {},
   "source": [
    "## 1. 데이터 load 및 데이터 분석"
   ]
  },
  {
   "cell_type": "markdown",
   "id": "70f436a2",
   "metadata": {},
   "source": [
    "Breast Cancer dataset 데이터 확인해보자"
   ]
  },
  {
   "cell_type": "code",
   "execution_count": 36,
   "id": "4ad9225a",
   "metadata": {},
   "outputs": [
    {
     "name": "stdout",
     "output_type": "stream",
     "text": [
      "['DESCR', 'data', 'data_module', 'feature_names', 'filename', 'frame', 'target', 'target_names']\n"
     ]
    }
   ],
   "source": [
    "breast_cancer = load_breast_cancer()\n",
    "\n",
    "print(dir(breast_cancer)) "
   ]
  },
  {
   "cell_type": "code",
   "execution_count": 37,
   "id": "fe6169a6",
   "metadata": {},
   "outputs": [
    {
     "name": "stdout",
     "output_type": "stream",
     "text": [
      ".. _breast_cancer_dataset:\n",
      "\n",
      "Breast cancer wisconsin (diagnostic) dataset\n",
      "--------------------------------------------\n",
      "\n",
      "**Data Set Characteristics:**\n",
      "\n",
      "    :Number of Instances: 569\n",
      "\n",
      "    :Number of Attributes: 30 numeric, predictive attributes and the class\n",
      "\n",
      "    :Attribute Information:\n",
      "        - radius (mean of distances from center to points on the perimeter)\n",
      "        - texture (standard deviation of gray-scale values)\n",
      "        - perimeter\n",
      "        - area\n",
      "        - smoothness (local variation in radius lengths)\n",
      "        - compactness (perimeter^2 / area - 1.0)\n",
      "        - concavity (severity of concave portions of the contour)\n",
      "        - concave points (number of concave portions of the contour)\n",
      "        - symmetry\n",
      "        - fractal dimension (\"coastline approximation\" - 1)\n",
      "\n",
      "        The mean, standard error, and \"worst\" or largest (mean of the three\n",
      "        worst/largest values) of these features were computed for each image,\n",
      "        resulting in 30 features.  For instance, field 0 is Mean Radius, field\n",
      "        10 is Radius SE, field 20 is Worst Radius.\n",
      "\n",
      "        - class:\n",
      "                - WDBC-Malignant\n",
      "                - WDBC-Benign\n",
      "\n",
      "    :Summary Statistics:\n",
      "\n",
      "    ===================================== ====== ======\n",
      "                                           Min    Max\n",
      "    ===================================== ====== ======\n",
      "    radius (mean):                        6.981  28.11\n",
      "    texture (mean):                       9.71   39.28\n",
      "    perimeter (mean):                     43.79  188.5\n",
      "    area (mean):                          143.5  2501.0\n",
      "    smoothness (mean):                    0.053  0.163\n",
      "    compactness (mean):                   0.019  0.345\n",
      "    concavity (mean):                     0.0    0.427\n",
      "    concave points (mean):                0.0    0.201\n",
      "    symmetry (mean):                      0.106  0.304\n",
      "    fractal dimension (mean):             0.05   0.097\n",
      "    radius (standard error):              0.112  2.873\n",
      "    texture (standard error):             0.36   4.885\n",
      "    perimeter (standard error):           0.757  21.98\n",
      "    area (standard error):                6.802  542.2\n",
      "    smoothness (standard error):          0.002  0.031\n",
      "    compactness (standard error):         0.002  0.135\n",
      "    concavity (standard error):           0.0    0.396\n",
      "    concave points (standard error):      0.0    0.053\n",
      "    symmetry (standard error):            0.008  0.079\n",
      "    fractal dimension (standard error):   0.001  0.03\n",
      "    radius (worst):                       7.93   36.04\n",
      "    texture (worst):                      12.02  49.54\n",
      "    perimeter (worst):                    50.41  251.2\n",
      "    area (worst):                         185.2  4254.0\n",
      "    smoothness (worst):                   0.071  0.223\n",
      "    compactness (worst):                  0.027  1.058\n",
      "    concavity (worst):                    0.0    1.252\n",
      "    concave points (worst):               0.0    0.291\n",
      "    symmetry (worst):                     0.156  0.664\n",
      "    fractal dimension (worst):            0.055  0.208\n",
      "    ===================================== ====== ======\n",
      "\n",
      "    :Missing Attribute Values: None\n",
      "\n",
      "    :Class Distribution: 212 - Malignant, 357 - Benign\n",
      "\n",
      "    :Creator:  Dr. William H. Wolberg, W. Nick Street, Olvi L. Mangasarian\n",
      "\n",
      "    :Donor: Nick Street\n",
      "\n",
      "    :Date: November, 1995\n",
      "\n",
      "This is a copy of UCI ML Breast Cancer Wisconsin (Diagnostic) datasets.\n",
      "https://goo.gl/U2Uwz2\n",
      "\n",
      "Features are computed from a digitized image of a fine needle\n",
      "aspirate (FNA) of a breast mass.  They describe\n",
      "characteristics of the cell nuclei present in the image.\n",
      "\n",
      "Separating plane described above was obtained using\n",
      "Multisurface Method-Tree (MSM-T) [K. P. Bennett, \"Decision Tree\n",
      "Construction Via Linear Programming.\" Proceedings of the 4th\n",
      "Midwest Artificial Intelligence and Cognitive Science Society,\n",
      "pp. 97-101, 1992], a classification method which uses linear\n",
      "programming to construct a decision tree.  Relevant features\n",
      "were selected using an exhaustive search in the space of 1-4\n",
      "features and 1-3 separating planes.\n",
      "\n",
      "The actual linear program used to obtain the separating plane\n",
      "in the 3-dimensional space is that described in:\n",
      "[K. P. Bennett and O. L. Mangasarian: \"Robust Linear\n",
      "Programming Discrimination of Two Linearly Inseparable Sets\",\n",
      "Optimization Methods and Software 1, 1992, 23-34].\n",
      "\n",
      "This database is also available through the UW CS ftp server:\n",
      "\n",
      "ftp ftp.cs.wisc.edu\n",
      "cd math-prog/cpo-dataset/machine-learn/WDBC/\n",
      "\n",
      ".. topic:: References\n",
      "\n",
      "   - W.N. Street, W.H. Wolberg and O.L. Mangasarian. Nuclear feature extraction \n",
      "     for breast tumor diagnosis. IS&T/SPIE 1993 International Symposium on \n",
      "     Electronic Imaging: Science and Technology, volume 1905, pages 861-870,\n",
      "     San Jose, CA, 1993.\n",
      "   - O.L. Mangasarian, W.N. Street and W.H. Wolberg. Breast cancer diagnosis and \n",
      "     prognosis via linear programming. Operations Research, 43(4), pages 570-577, \n",
      "     July-August 1995.\n",
      "   - W.H. Wolberg, W.N. Street, and O.L. Mangasarian. Machine learning techniques\n",
      "     to diagnose breast cancer from fine-needle aspirates. Cancer Letters 77 (1994) \n",
      "     163-171.\n"
     ]
    }
   ],
   "source": [
    "print(breast_cancer.DESCR)"
   ]
  },
  {
   "cell_type": "markdown",
   "id": "1681e90e",
   "metadata": {},
   "source": [
    "Dataset Description 주요항목은 다음과 같다 \n",
    "\n",
    "- Number of Instances: 569\n",
    "- Number of Attributes: 30 numeric, predictive attributes and the class\n",
    "- class: WDBC-Malignant,WDBC-Benign\n",
    "- Missing Attribute Values: None\n",
    "- Class Distribution: 212 - Malignant, 357 - Benign\n",
    "            \n",
    "각 항목을 따로 확인해보자"
   ]
  },
  {
   "cell_type": "code",
   "execution_count": 38,
   "id": "62767b22",
   "metadata": {},
   "outputs": [
    {
     "data": {
      "text/plain": [
       "(569, 30)"
      ]
     },
     "execution_count": 38,
     "metadata": {},
     "output_type": "execute_result"
    }
   ],
   "source": [
    "breast_cancer.data.shape"
   ]
  },
  {
   "cell_type": "code",
   "execution_count": 39,
   "id": "a045bf91",
   "metadata": {},
   "outputs": [
    {
     "data": {
      "text/plain": [
       "array(['mean radius', 'mean texture', 'mean perimeter', 'mean area',\n",
       "       'mean smoothness', 'mean compactness', 'mean concavity',\n",
       "       'mean concave points', 'mean symmetry', 'mean fractal dimension',\n",
       "       'radius error', 'texture error', 'perimeter error', 'area error',\n",
       "       'smoothness error', 'compactness error', 'concavity error',\n",
       "       'concave points error', 'symmetry error',\n",
       "       'fractal dimension error', 'worst radius', 'worst texture',\n",
       "       'worst perimeter', 'worst area', 'worst smoothness',\n",
       "       'worst compactness', 'worst concavity', 'worst concave points',\n",
       "       'worst symmetry', 'worst fractal dimension'], dtype='<U23')"
      ]
     },
     "execution_count": 39,
     "metadata": {},
     "output_type": "execute_result"
    }
   ],
   "source": [
    "breast_cancer.feature_names"
   ]
  },
  {
   "cell_type": "code",
   "execution_count": 40,
   "id": "638f6dd9",
   "metadata": {},
   "outputs": [
    {
     "data": {
      "text/plain": [
       "array([1.799e+01, 1.038e+01, 1.228e+02, 1.001e+03, 1.184e-01, 2.776e-01,\n",
       "       3.001e-01, 1.471e-01, 2.419e-01, 7.871e-02, 1.095e+00, 9.053e-01,\n",
       "       8.589e+00, 1.534e+02, 6.399e-03, 4.904e-02, 5.373e-02, 1.587e-02,\n",
       "       3.003e-02, 6.193e-03, 2.538e+01, 1.733e+01, 1.846e+02, 2.019e+03,\n",
       "       1.622e-01, 6.656e-01, 7.119e-01, 2.654e-01, 4.601e-01, 1.189e-01])"
      ]
     },
     "execution_count": 40,
     "metadata": {},
     "output_type": "execute_result"
    }
   ],
   "source": [
    "breast_cancer.data[0]"
   ]
  },
  {
   "cell_type": "code",
   "execution_count": 41,
   "id": "4840ac67",
   "metadata": {},
   "outputs": [
    {
     "data": {
      "text/plain": [
       "array(['malignant', 'benign'], dtype='<U9')"
      ]
     },
     "execution_count": 41,
     "metadata": {},
     "output_type": "execute_result"
    }
   ],
   "source": [
    "breast_cancer.target_names"
   ]
  },
  {
   "cell_type": "code",
   "execution_count": 42,
   "id": "63bb41a9",
   "metadata": {},
   "outputs": [
    {
     "data": {
      "text/plain": [
       "((569,),\n",
       " array([0, 0, 0, 0, 0, 0, 0, 0, 0, 0, 0, 0, 0, 0, 0, 0, 0, 0, 0, 1, 1, 1,\n",
       "        0, 0, 0, 0, 0, 0, 0, 0, 0, 0, 0, 0, 0, 0, 0, 1, 0, 0, 0, 0, 0, 0,\n",
       "        0, 0, 1, 0, 1, 1, 1, 1, 1, 0, 0, 1, 0, 0, 1, 1, 1, 1, 0, 1, 0, 0,\n",
       "        1, 1, 1, 1, 0, 1, 0, 0, 1, 0, 1, 0, 0, 1, 1, 1, 0, 0, 1, 0, 0, 0,\n",
       "        1, 1, 1, 0, 1, 1, 0, 0, 1, 1, 1, 0, 0, 1, 1, 1, 1, 0, 1, 1, 0, 1,\n",
       "        1, 1, 1, 1, 1, 1, 1, 0, 0, 0, 1, 0, 0, 1, 1, 1, 0, 0, 1, 0, 1, 0,\n",
       "        0, 1, 0, 0, 1, 1, 0, 1, 1, 0, 1, 1, 1, 1, 0, 1, 1, 1, 1, 1, 1, 1,\n",
       "        1, 1, 0, 1, 1, 1, 1, 0, 0, 1, 0, 1, 1, 0, 0, 1, 1, 0, 0, 1, 1, 1,\n",
       "        1, 0, 1, 1, 0, 0, 0, 1, 0, 1, 0, 1, 1, 1, 0, 1, 1, 0, 0, 1, 0, 0,\n",
       "        0, 0, 1, 0, 0, 0, 1, 0, 1, 0, 1, 1, 0, 1, 0, 0, 0, 0, 1, 1, 0, 0,\n",
       "        1, 1, 1, 0, 1, 1, 1, 1, 1, 0, 0, 1, 1, 0, 1, 1, 0, 0, 1, 0, 1, 1,\n",
       "        1, 1, 0, 1, 1, 1, 1, 1, 0, 1, 0, 0, 0, 0, 0, 0, 0, 0, 0, 0, 0, 0,\n",
       "        0, 0, 1, 1, 1, 1, 1, 1, 0, 1, 0, 1, 1, 0, 1, 1, 0, 1, 0, 0, 1, 1,\n",
       "        1, 1, 1, 1, 1, 1, 1, 1, 1, 1, 1, 0, 1, 1, 0, 1, 0, 1, 1, 1, 1, 1,\n",
       "        1, 1, 1, 1, 1, 1, 1, 1, 1, 0, 1, 1, 1, 0, 1, 0, 1, 1, 1, 1, 0, 0,\n",
       "        0, 1, 1, 1, 1, 0, 1, 0, 1, 0, 1, 1, 1, 0, 1, 1, 1, 1, 1, 1, 1, 0,\n",
       "        0, 0, 1, 1, 1, 1, 1, 1, 1, 1, 1, 1, 1, 0, 0, 1, 0, 0, 0, 1, 0, 0,\n",
       "        1, 1, 1, 1, 1, 0, 1, 1, 1, 1, 1, 0, 1, 1, 1, 0, 1, 1, 0, 0, 1, 1,\n",
       "        1, 1, 1, 1, 0, 1, 1, 1, 1, 1, 1, 1, 0, 1, 1, 1, 1, 1, 0, 1, 1, 0,\n",
       "        1, 1, 1, 1, 1, 1, 1, 1, 1, 1, 1, 1, 0, 1, 0, 0, 1, 0, 1, 1, 1, 1,\n",
       "        1, 0, 1, 1, 0, 1, 0, 1, 1, 0, 1, 0, 1, 1, 1, 1, 1, 1, 1, 1, 0, 0,\n",
       "        1, 1, 1, 1, 1, 1, 0, 1, 1, 1, 1, 1, 1, 1, 1, 1, 1, 0, 1, 1, 1, 1,\n",
       "        1, 1, 1, 0, 1, 0, 1, 1, 0, 1, 1, 1, 1, 1, 0, 0, 1, 0, 1, 0, 1, 1,\n",
       "        1, 1, 1, 0, 1, 1, 0, 1, 0, 1, 0, 0, 1, 1, 1, 0, 1, 1, 1, 1, 1, 1,\n",
       "        1, 1, 1, 1, 1, 0, 1, 0, 0, 1, 1, 1, 1, 1, 1, 1, 1, 1, 1, 1, 1, 1,\n",
       "        1, 1, 1, 1, 1, 1, 1, 1, 1, 1, 1, 1, 0, 0, 0, 0, 0, 0, 1]))"
      ]
     },
     "execution_count": 42,
     "metadata": {},
     "output_type": "execute_result"
    }
   ],
   "source": [
    "breast_cancer.target.shape, breast_cancer.target"
   ]
  },
  {
   "cell_type": "markdown",
   "id": "5ed1422c",
   "metadata": {},
   "source": [
    "유방암 진단 데이터셋에는 누락된 정보는 없으며 유방암 진단을 위한 데이터가 적절히 제공되어 있다.\n",
    "- 총 데이터 갯수 : 596건\n",
    "- feature : 암진단 관련 특정 30가지\n",
    "- 클래스 라벨값 : 0,1\n",
    "- 라벨 사이즈 : 596건\n",
    "\n",
    "Description에서 확인한 데이터 분포는 악성(Malignant) 212건, 양성(Benign) 357건 으로 양성 데이타가 130여건 많아 데이터가 불균형한것으로 보인다.\n"
   ]
  },
  {
   "cell_type": "code",
   "execution_count": 43,
   "id": "6a7abfbe",
   "metadata": {},
   "outputs": [
    {
     "name": "stdout",
     "output_type": "stream",
     "text": [
      "[0 1]\n",
      "[212 357]\n"
     ]
    }
   ],
   "source": [
    "value, counts = np.unique(breast_cancer.target, return_counts = True)\n",
    "print(value)\n",
    "print(counts)"
   ]
  },
  {
   "cell_type": "markdown",
   "id": "2ac79983",
   "metadata": {},
   "source": [
    "유방암 진단 문제는 실제 악성인 환자를 양성으로 예측할 경우 환자의 건강에 큰 악영향을 끼치므로 재현율(Recall) 지표를 잘 살펴보아야할 것같다. 재현율과 tradeoff관계에 있는 정밀도, f1-score, 시간 지표를 각모델별로 함께 비교해보도록 하자."
   ]
  },
  {
   "cell_type": "code",
   "execution_count": 44,
   "id": "a96b011a",
   "metadata": {},
   "outputs": [],
   "source": [
    "dict_f1score = {}\n",
    "dict_recall = {}\n",
    "dict_precision = {}\n",
    "dict_time = {}"
   ]
  },
  {
   "cell_type": "markdown",
   "id": "5b1030f4",
   "metadata": {},
   "source": [
    "## 2. 데이터셋 분리 "
   ]
  },
  {
   "cell_type": "code",
   "execution_count": 45,
   "id": "c78a9be5",
   "metadata": {},
   "outputs": [
    {
     "name": "stdout",
     "output_type": "stream",
     "text": [
      "X_train : (455, 30) y_train: (455,)\n",
      "X_test : (114, 30) y_test: (114,)\n"
     ]
    }
   ],
   "source": [
    "X_train, X_test, y_train, y_test = train_test_split(breast_cancer.data,\n",
    "                                                   breast_cancer.target,\n",
    "                                                   test_size=0.2,\n",
    "                                                   random_state=21)\n",
    "\n",
    "print('X_train :', X_train.shape, 'y_train:', y_train.shape)\n",
    "print('X_test :', X_test.shape, 'y_test:', y_test.shape)"
   ]
  },
  {
   "cell_type": "markdown",
   "id": "85a80f5b",
   "metadata": {},
   "source": [
    "학습용 데이터로 455건, 테스트용 데이터로 114건의 데이터가 분리되었다."
   ]
  },
  {
   "cell_type": "markdown",
   "id": "cf033f2f",
   "metadata": {},
   "source": [
    "## 3. Model 학습 및 평가"
   ]
  },
  {
   "cell_type": "markdown",
   "id": "70fb840c",
   "metadata": {},
   "source": [
    "### 3-1 Decision Tree"
   ]
  },
  {
   "cell_type": "code",
   "execution_count": 46,
   "id": "40ea783c",
   "metadata": {},
   "outputs": [
    {
     "name": "stdout",
     "output_type": "stream",
     "text": [
      "              precision    recall  f1-score   support\n",
      "\n",
      "           0       0.90      0.92      0.91        39\n",
      "           1       0.96      0.95      0.95        75\n",
      "\n",
      "    accuracy                           0.94       114\n",
      "   macro avg       0.93      0.93      0.93       114\n",
      "weighted avg       0.94      0.94      0.94       114\n",
      "\n"
     ]
    }
   ],
   "source": [
    "#학습\n",
    "model= DecisionTreeClassifier(random_state=32)\n",
    "start_time = time.time()\n",
    "model.fit(X_train, y_train)\n",
    "end_time = time.time()\n",
    "\n",
    "#예측 및 평가\n",
    "y_pred = model.predict(X_test)\n",
    "\n",
    "dict_f1score['DecisionTreeClassifier'] = f1_score(y_test, y_pred) \n",
    "dict_recall['DecisionTreeClassifier'] = f1_score(y_test, y_pred) \n",
    "dict_precision['DecisionTreeClassifier'] = f1_score(y_test, y_pred) \n",
    "dict_time['DecisionTreeClassifier'] = (end_time - start_time)*1000 \n",
    "\n",
    "print(classification_report(y_test, y_pred))"
   ]
  },
  {
   "cell_type": "markdown",
   "id": "cbfaafe3",
   "metadata": {},
   "source": [
    "### 3-2 Random Forest"
   ]
  },
  {
   "cell_type": "code",
   "execution_count": 47,
   "id": "2eb189f8",
   "metadata": {},
   "outputs": [
    {
     "name": "stdout",
     "output_type": "stream",
     "text": [
      "              precision    recall  f1-score   support\n",
      "\n",
      "           0       0.97      0.95      0.96        39\n",
      "           1       0.97      0.99      0.98        75\n",
      "\n",
      "    accuracy                           0.97       114\n",
      "   macro avg       0.97      0.97      0.97       114\n",
      "weighted avg       0.97      0.97      0.97       114\n",
      "\n"
     ]
    }
   ],
   "source": [
    "#학습\n",
    "model= RandomForestClassifier(random_state=32)\n",
    "start_time = time.time()\n",
    "model.fit(X_train, y_train)\n",
    "end_time = time.time()\n",
    "\n",
    "#예측 및 평가\n",
    "y_pred = model.predict(X_test)\n",
    "\n",
    "dict_f1score['RandomForestClassifier'] = f1_score(y_test, y_pred) \n",
    "dict_recall['RandomForestClassifier'] = f1_score(y_test, y_pred) \n",
    "dict_precision['RandomForestClassifier'] = f1_score(y_test, y_pred) \n",
    "dict_time['RandomForestClassifier'] = (end_time - start_time)*1000 \n",
    "\n",
    "print(classification_report(y_test, y_pred))"
   ]
  },
  {
   "cell_type": "markdown",
   "id": "a44615a1",
   "metadata": {},
   "source": [
    "### 3-3 SVM"
   ]
  },
  {
   "cell_type": "code",
   "execution_count": 48,
   "id": "cd448455",
   "metadata": {},
   "outputs": [
    {
     "name": "stdout",
     "output_type": "stream",
     "text": [
      "              precision    recall  f1-score   support\n",
      "\n",
      "           0       0.93      0.72      0.81        39\n",
      "           1       0.87      0.97      0.92        75\n",
      "\n",
      "    accuracy                           0.89       114\n",
      "   macro avg       0.90      0.85      0.86       114\n",
      "weighted avg       0.89      0.89      0.88       114\n",
      "\n"
     ]
    }
   ],
   "source": [
    "#학습\n",
    "model= SVC(random_state=32)\n",
    "start_time = time.time()\n",
    "model.fit(X_train, y_train)\n",
    "end_time = time.time()\n",
    "\n",
    "#예측 및 평가\n",
    "y_pred = model.predict(X_test)\n",
    "\n",
    "dict_f1score['SVM'] = f1_score(y_test, y_pred) \n",
    "dict_recall['SVM'] = f1_score(y_test, y_pred) \n",
    "dict_precision['SVM'] = f1_score(y_test, y_pred) \n",
    "dict_time['SVM'] = (end_time - start_time)*1000 \n",
    "\n",
    "print(classification_report(y_test, y_pred))"
   ]
  },
  {
   "cell_type": "markdown",
   "id": "e43b4fa5",
   "metadata": {},
   "source": [
    "### 3-4 SGD Classifier "
   ]
  },
  {
   "cell_type": "code",
   "execution_count": 49,
   "id": "77f4756b",
   "metadata": {},
   "outputs": [
    {
     "name": "stdout",
     "output_type": "stream",
     "text": [
      "              precision    recall  f1-score   support\n",
      "\n",
      "           0       0.89      0.79      0.84        39\n",
      "           1       0.90      0.95      0.92        75\n",
      "\n",
      "    accuracy                           0.89       114\n",
      "   macro avg       0.89      0.87      0.88       114\n",
      "weighted avg       0.89      0.89      0.89       114\n",
      "\n"
     ]
    }
   ],
   "source": [
    "#학습\n",
    "model= SGDClassifier(random_state=32)\n",
    "start_time = time.time()\n",
    "model.fit(X_train, y_train)\n",
    "end_time = time.time()\n",
    "\n",
    "#예측 및 평가\n",
    "y_pred = model.predict(X_test)\n",
    "\n",
    "dict_f1score['SGDClassifier'] = f1_score(y_test, y_pred) \n",
    "dict_recall['SGDClassifier'] = f1_score(y_test, y_pred) \n",
    "dict_precision['SGDClassifier'] = f1_score(y_test, y_pred) \n",
    "dict_time['SGDClassifier'] = (end_time - start_time)*1000 \n",
    "\n",
    "print(classification_report(y_test, y_pred))"
   ]
  },
  {
   "cell_type": "markdown",
   "id": "59581969",
   "metadata": {},
   "source": [
    "### 3-5 Logistic Regression"
   ]
  },
  {
   "cell_type": "code",
   "execution_count": 50,
   "id": "b108ed26",
   "metadata": {},
   "outputs": [
    {
     "name": "stdout",
     "output_type": "stream",
     "text": [
      "              precision    recall  f1-score   support\n",
      "\n",
      "           0       0.92      0.85      0.88        39\n",
      "           1       0.92      0.96      0.94        75\n",
      "\n",
      "    accuracy                           0.92       114\n",
      "   macro avg       0.92      0.90      0.91       114\n",
      "weighted avg       0.92      0.92      0.92       114\n",
      "\n"
     ]
    },
    {
     "name": "stderr",
     "output_type": "stream",
     "text": [
      "/opt/conda/lib/python3.9/site-packages/sklearn/linear_model/_logistic.py:814: ConvergenceWarning: lbfgs failed to converge (status=1):\n",
      "STOP: TOTAL NO. of ITERATIONS REACHED LIMIT.\n",
      "\n",
      "Increase the number of iterations (max_iter) or scale the data as shown in:\n",
      "    https://scikit-learn.org/stable/modules/preprocessing.html\n",
      "Please also refer to the documentation for alternative solver options:\n",
      "    https://scikit-learn.org/stable/modules/linear_model.html#logistic-regression\n",
      "  n_iter_i = _check_optimize_result(\n"
     ]
    }
   ],
   "source": [
    "#학습\n",
    "model= LogisticRegression(random_state=32)\n",
    "start_time = time.time()\n",
    "model.fit(X_train, y_train)\n",
    "end_time = time.time()\n",
    "\n",
    "#예측 및 평가\n",
    "y_pred = model.predict(X_test)\n",
    "\n",
    "dict_f1score['LogisticRegression'] = f1_score(y_test, y_pred) \n",
    "dict_recall['LogisticRegression'] = f1_score(y_test, y_pred) \n",
    "dict_precision['LogisticRegression'] = f1_score(y_test, y_pred) \n",
    "dict_time['LogisticRegression'] = (end_time - start_time)*1000 \n",
    "\n",
    "print(classification_report(y_test, y_pred))"
   ]
  },
  {
   "cell_type": "markdown",
   "id": "96b59a4e",
   "metadata": {},
   "source": [
    "## 4. 모델 평가\n",
    "각모델별 유방암진단 문제의 성능평가지표들을 Recall지표 중심으로 확인해보자"
   ]
  },
  {
   "cell_type": "code",
   "execution_count": 52,
   "id": "a6f1badf",
   "metadata": {},
   "outputs": [
    {
     "name": "stdout",
     "output_type": "stream",
     "text": [
      "____________________________________________________________________________________________________\n",
      "Model                      F1-score        Recall          Precision       Running time(ms)\n",
      "____________________________________________________________________________________________________\n",
      "DecisionTreeClassifier     0.95302         0.95302         0.95302         9.181261\n",
      "RandomForestClassifier     0.980132        0.980132        0.980132        163.448334\n",
      "SVM                        0.918239        0.918239        0.918239        5.981445\n",
      "SGDClassifier              0.922078        0.922078        0.922078        3.581762\n",
      "LogisticRegression         0.941176        0.941176        0.941176        52.898884\n"
     ]
    }
   ],
   "source": [
    "print('_'*100)\n",
    "print('{0:<25}  {1:<15} {2:<15} {3:<15} {4}'.format('Model', 'F1-score', 'Recall', 'Precision', 'Running time(ms)'))\n",
    "print('_'*100)\n",
    "for keys in dict_accuracy:\n",
    "    print('{0:<25}  {1:<15} {2:<15} {3:<15} {4}'.format(keys, round(dict_f1score[keys],6), \n",
    "                                                        round(dict_recall[keys],6), round(dict_precision[keys],6),\n",
    "                                                        round(dict_time[keys], 6)))        \n"
   ]
  },
  {
   "cell_type": "markdown",
   "id": "3baaf659",
   "metadata": {},
   "source": [
    "## 결론\n",
    "**유방암진단 문제에는 Recall(재현율)지표가 0.98로 가장높은 RandomForest 모델이 적합한 것으로 보인다. RandomForest모델은 Recall 지표외의 지표도 높게 나온것으로 보아 안정적으로 유방암 진단문제를 해결할 수 있을 것 같다**\n",
    "\n",
    "---\n"
   ]
  },
  {
   "cell_type": "markdown",
   "id": "efa53f5d",
   "metadata": {},
   "source": [
    "# 정리\n",
    "이번 프로젝트에서는 사이킷런에서 제공하는 3가지 데이터 셋을 들여다보고 각 데이터의 분포, 분류 문제에 따라 어떤 성능지표로 모델을 판단할 것인지를 중점적으로 확인해보았다. 이번 과제에서 중요하게 느꼈던 점을 정리해보자면,\n",
    "\n",
    "1) **데이터 분석의 중요성**\n",
    "클래스 데이터 분포의 균형여부를 확인하지 않고 정확도를 성능지표로 모델을 만들경우 문제점이 야기될것임을 알게되었다. 최적의 모델 설계와 성능지표선정을 위해서는 데이터와 문제에 대한 분석과 이해 가장 우선시 되어야 할 것 같다.\n",
    "\n",
    "\n",
    "2) **모델성능지표 선정의 중요성***\\\n",
    "유방암 진단과 스팸분류 같이 민감한 사항이 있는 문제의 경우 재현율, 정밀도등을 함께 고려해서 해당 지표에 맞는 모델을 만들어야 할 것이다. 아직도 머리속에 혼동을 일으키는 혼동행렬에 대해 좀더 연구해보는 시간을 가진다면 좋겠다 "
   ]
  },
  {
   "cell_type": "markdown",
   "id": "9fea7ebd",
   "metadata": {},
   "source": [
    "## Reference\n",
    "- 다중분류 성능평가 \n",
    " - https://moons08.github.io/datascience/classification_score_basic/\n",
    " - https://gggggeun.tistory.com/17\n",
    " - https://heeya-stupidbutstudying.tistory.com/m/40"
   ]
  }
 ],
 "metadata": {
  "kernelspec": {
   "display_name": "Python 3 (ipykernel)",
   "language": "python",
   "name": "python3"
  },
  "language_info": {
   "codemirror_mode": {
    "name": "ipython",
    "version": 3
   },
   "file_extension": ".py",
   "mimetype": "text/x-python",
   "name": "python",
   "nbconvert_exporter": "python",
   "pygments_lexer": "ipython3",
   "version": "3.9.7"
  }
 },
 "nbformat": 4,
 "nbformat_minor": 5
}
