{
 "cells": [
  {
   "cell_type": "markdown",
   "id": "1d183fa5",
   "metadata": {},
   "source": [
    "## 노년층을 위한 의료약품 문자인식\n",
    "\n",
    "\n",
    "의학기술의 발달로 노년인구가 늘어나고 있고, 노년층이 건강을 위해 복용하는 약의 종류또한 많아지고 있다. 하지만 시력이 약해진 분들은 자신이 먹는 약이 무엇인지 인지하기 어려워 잘못 약을 복용하는 경우도 있다. \n",
    "\n",
    "이번 프로젝트에서는 OCR기술을 이용해 캡쳐한 약에 대한 이미지를 큰 큰자로 표시하는 서비스 구현해보고자 한다. \n",
    "\n",
    "- 주요 기능\n",
    "    - 약병 전면부 라벨 문자 검출 및 인식\n",
    "    - 약병 후면부 성분 분석(Supplement Facts) 검출 및 인식\n",
    "\n",
    "<table>\n",
    "\t<tr>\n",
    "\t    <td><img src=\"https://i.pinimg.com/474x/31/d6/d3/31d6d364a835f41b0d603cd68dc4d3a3.jpg\" width=\"100\" height=\"100\"/></td>\n",
    "\t    <td><img src=\"https://i5.walmartimages.com/asr/6d9e850c-9950-453b-963c-416094d48243_1.0d5a85b6c35a5a4ceac4571c6214a20d.jpeg\" width=\"200\" height=\"200\"/></td>\n",
    "\t</tr>\n",
    "</table>\n",
    "\n"
   ]
  },
  {
   "cell_type": "markdown",
   "id": "a10e5800",
   "metadata": {},
   "source": [
    "# 1. Keras OCR \n",
    "- 텐서플로우의 케라스 API를 기반으로 이미지 속 문자를 읽는 End-to-End OCR\n",
    "- 검출 모델로는 CRAFT(Character Region Awareness for Text Detection)를 사용하고, 인식 모델로는 CRNN을 사용"
   ]
  },
  {
   "cell_type": "markdown",
   "id": "d903d158",
   "metadata": {},
   "source": [
    "# 2. Tesseract OCR\n",
    "- 2018년 4.0이 발표되면서 LSTM(Long Short-Term Memory) 기반 OCR 엔진 및 모델 추가\n",
    "- 다양한 언어를 지원\n",
    "- 이미지에 따른 다양한 옵션 지원 : OCR Engine modes , Page segmentation modes \n"
   ]
  },
  {
   "cell_type": "code",
   "execution_count": 7,
   "id": "55af254c",
   "metadata": {},
   "outputs": [],
   "source": [
    "import keras_ocr\n",
    "import pytesseract\n",
    "import cv2\n",
    "import numpy as np\n",
    "import requests"
   ]
  },
  {
   "cell_type": "code",
   "execution_count": 32,
   "id": "c1953031",
   "metadata": {},
   "outputs": [
    {
     "name": "stdout",
     "output_type": "stream",
     "text": [
      "Looking for /aiffel/.keras-ocr/craft_mlt_25k.h5\n",
      "Looking for /aiffel/.keras-ocr/crnn_kurapan.h5\n"
     ]
    }
   ],
   "source": [
    "# Keras OCR API를 이용해 글자를 검출하여 반환하는 함수\n",
    "pipeline = keras_ocr.pipeline.Pipeline()\n",
    "\n",
    "def getTextByKeras(img_url):\n",
    "    images = keras_ocr.tools.read(img_url) \n",
    "    prediction_groups = pipeline.recognize([img_url])\n",
    "    \n",
    "    words = ''\n",
    "    predictions = prediction_groups[0]\n",
    "\n",
    "    for word, box in predictions:\n",
    "        words = words + ' ' + word\n",
    "        \n",
    "    return words"
   ]
  },
  {
   "cell_type": "code",
   "execution_count": 45,
   "id": "fccf5709",
   "metadata": {},
   "outputs": [],
   "source": [
    "oem = 3 #default\n",
    "psm = 3 #default - Fully automatic page segmentation\n",
    "\n",
    "def url_to_image(url):\n",
    "    image_nparray = np.asarray(bytearray(requests.get(url).content), dtype=np.uint8)\n",
    "    image = cv2.imdecode(image_nparray, cv2.IMREAD_COLOR)\n",
    "    \n",
    "    return image\n",
    "\n",
    "def getTextByTesseract(img_url, oem, psm): \n",
    "    img = url_to_image(img_url)\n",
    "    words = pytesseract.image_to_string(image=img, lang='eng', config='--oem ' + str(oem) + ' --psm ' + str(psm))\n",
    "\n",
    "    return words"
   ]
  },
  {
   "cell_type": "markdown",
   "id": "27091bea",
   "metadata": {},
   "source": [
    "## 3. 검출 및 인식 테스트"
   ]
  },
  {
   "cell_type": "markdown",
   "id": "b0dc6c50",
   "metadata": {},
   "source": [
    "### 3.1 고해상도 이미지\n",
    "<table>\n",
    "\t<tr>\n",
    "\t    <td><img src=\"https://m.media-amazon.com/images/I/71ghvDiKXhL._AC_SL1500_.jpg\" width=\"200\" height=\"200\"/></td>\n",
    "\t    <td><img src=\"https://m.media-amazon.com/images/I/71IX5DhhyjL._AC_SL1500_.jpg\" width=\"200\" height=\"200\"/></td>\n",
    "\t</tr>\n",
    "</table>\n"
   ]
  },
  {
   "cell_type": "code",
   "execution_count": 72,
   "id": "d192b4c0",
   "metadata": {},
   "outputs": [
    {
     "name": "stdout",
     "output_type": "stream",
     "text": [
      " wwwpuritancom pride puritans vitamin e 450mg cloooiud antioxidant health supports 100 e rapid release softgels vitamin supplement\n"
     ]
    }
   ],
   "source": [
    "words = getTextByKeras('https://m.media-amazon.com/images/I/71ghvDiKXhL._AC_SL1500_.jpg')\n",
    "print(words)"
   ]
  },
  {
   "cell_type": "code",
   "execution_count": 77,
   "id": "3daec6d7",
   "metadata": {
    "scrolled": true
   },
   "outputs": [
    {
     "name": "stdout",
     "output_type": "stream",
     "text": [
      "(Puritans Pride.\n",
      "Vitamin\n",
      "\n",
      " \n",
      "\f",
      "\n"
     ]
    }
   ],
   "source": [
    "words = getTextByTesseract('https://m.media-amazon.com/images/I/71ghvDiKXhL._AC_SL1500_.jpg',3,3)\n",
    "print(words)"
   ]
  },
  {
   "cell_type": "code",
   "execution_count": 78,
   "id": "6cda1169",
   "metadata": {
    "scrolled": true
   },
   "outputs": [
    {
     "name": "stdout",
     "output_type": "stream",
     "text": [
      "_—— ))\n",
      ": i»\n",
      ". \\ WZ y A >\n",
      "a ‘ee. a cS)\n",
      "* WWW-PURITAN.COM —— j |\n",
      ": (Puritans Pride ©\n",
      "' Vitamin 4\n",
      "/ 450 IV.\n",
      "‘* mg (1000IU)\n",
      "‘Supports Antioxidant Health*\n",
      ". @e 100\n",
      ". Rapid Relea: e .\n",
      "Softgels\n",
      "VITAMIN SUPPLEMENT '\n",
      ": =\n",
      "| . = |\n",
      "\f",
      "\n"
     ]
    }
   ],
   "source": [
    "words = getTextByTesseract('https://m.media-amazon.com/images/I/71ghvDiKXhL._AC_SL1500_.jpg',3,6)\n",
    "print(words)"
   ]
  },
  {
   "cell_type": "markdown",
   "id": "1282f596",
   "metadata": {},
   "source": [
    "### 약품 전면부\n",
    "\n",
    "<img src=\"https://m.media-amazon.com/images/I/71ghvDiKXhL._AC_SL1500_.jpg\" width=\"150\" height=\"150\" align='left'/>\n",
    "\n",
    "```\n",
    "\n",
    "- Keras OCR \n",
    " - 대부분의 글자가 잘 추출되었고 소문자로 추출된다.\n",
    " - 450mg (1000IU) 의 경우 450mg cloooiud 으로 추출되었다. 숫자와 영문이 섞여있을때 숫자,1,0을 영문자 l,o과 혼동하였다.\n",
    " - 문장으로 추출되지않고 단어단위로 추출이 되고 사람이 보기에 순서가 없어 정보를 파악하기 어렵다. 제대로된 정보를 제공하기위해 후처리가 필요할것 같다.\n",
    " \n",
    "- Tesseract OCR\n",
    " - vitamin e의 경우 'E'가 화면상에 아주 잘보이는데 제대로 추출이되지 않았다. \n",
    " - 문자단위 인식보다 단어단위 인식이 잘되는것 같다. \n",
    " - psm 3 옵션의 경우 누락된정보가 많아 6으로 옵션을 설정할때 나머지 정보가 잘 추출된다.\n",
    "```\n",
    "\n",
    "---"
   ]
  },
  {
   "cell_type": "code",
   "execution_count": 84,
   "id": "04b68789",
   "metadata": {},
   "outputs": [
    {
     "name": "stdout",
     "output_type": "stream",
     "text": [
      " to reorder item 1781 h punitansn the fin directionsi for adults take softgel d one conbod daily preferably with meal a and paa nutniones i hally youp supplement facts warning serving size softgel t medians moeon serving odaily value amount per any diconing iu 33330 vitamin e 1000 reaciosi dlalpha tocopheryl acetatel las eine oon brokenone other ingredients gelatin vegetable glycerin tis sare ansen d soybean oil cued lee te e lo cacelt puritase artificial sweetener no color flavor or lraxce oakat y i preservatives sugar starch no no no no milk sigels o 02 gluten wheat yeast fish no lactose no no no no bsow s sodium free\n"
     ]
    }
   ],
   "source": [
    "words = getTextByKeras('https://m.media-amazon.com/images/I/71IX5DhhyjL._AC_SL1500_.jpg')\n",
    "print(words)"
   ]
  },
  {
   "cell_type": "code",
   "execution_count": 85,
   "id": "e9a03448",
   "metadata": {
    "scrolled": true
   },
   "outputs": [
    {
     "name": "stdout",
     "output_type": "stream",
     "text": [
      " \n",
      "\n",
      "DIRECTIONS: For adults, take one\n",
      "daily, preferably with a meal.\n",
      "\n",
      "Supplement Facts\n",
      "Serving Size 1 Softgel\n",
      "\n",
      "Amount Per Serving\n",
      "\n",
      "Vitamin E\n",
      "(as dl-Alpha Tocopheryl Acetate)\n",
      "\n",
      "Other Ingredients: Gelatin, Vegetable Glycerin,\n",
      "Soybean Oil.\n",
      "\n",
      "No Artificial Color, Flavor or Sw\n",
      "No Preservatives, No Sugar, No Starch, N\n",
      "\n",
      "No Lactose, No Gluten, No Wheat, No Yeast, No\n",
      "Sodium Free.\n",
      "\n",
      " \n",
      "\f",
      "\n"
     ]
    }
   ],
   "source": [
    "words = getTextByTesseract('https://m.media-amazon.com/images/I/71IX5DhhyjL._AC_SL1500_.jpg',3,3)\n",
    "print(words)"
   ]
  },
  {
   "cell_type": "markdown",
   "id": "47aa9303",
   "metadata": {},
   "source": [
    "### 약품 후면부(성분분석)\n",
    "\n",
    "<img src=\"https://m.media-amazon.com/images/I/71IX5DhhyjL._AC_SL1500_.jpg\" width=\"150\" height=\"150\" align='left'/>\n",
    "\n",
    "```\n",
    "\n",
    "- Keras OCR \n",
    " - 대부분의 글자가 잘 추출되었다. \n",
    " - 문장으로 추출 되지않고 단어단위로 추출이 되기때문에 keras drawAnnotations함수를 이용해서 보는것이 위치 정보와 함께 표현이 되어 편한것 같다. 하지만 문자만 따로 표시해줄때 문자 전후 위치에 대한 후가공작업이 많아 서비스로 이 API를 사용할때 고려할 점이 많을 것 같다.\n",
    " \n",
    "- Tesseract OCR\n",
    " - psm 3 옵션으로 추출하여 깔끔하게 문장별로 추출이 되었다.\n",
    " - vitamin e의 경우는 이번엔 잘추출이 되었는데 하얀바탕에 정돈된 이미지라서 잘된것 같다.\n",
    " - 문자단위 인식보다 단어단위 인식이 잘되는것 같다. \n",
    " - 줄사이 공간이 있는 경우도 줄바꿈이 들어가는 것을 보면 후면부의 경우 테서렉트 API를 사용하는것이 좋을 것 같다.\n",
    " \n",
    " - ' \\n\\nDIRECTIONS: For adults, take one\\ndaily, preferably with a meal.\\n\\nSupplement Facts\\nServing Size 1 Softgel\\n\\nAmount Per Serving\\n\\nVitamin E\\n(as dl-Alpha Tocopheryl Acetate)\\n\\nOther Ingredients: Gelatin, Vegetable Glycerin,\\nSoybean Oil.\\n\\nNo Artificial Color, Flavor or Sw\\nNo Preservatives, No Sugar, No Starch, N\\n\\nNo Lactose, No Gluten, No Wheat, No Yeast, No\\nSodium Free.\\n\\n \\n\\x0c'\n",
    " \n",
    "```\n",
    "\n"
   ]
  },
  {
   "cell_type": "markdown",
   "id": "31809cb4",
   "metadata": {},
   "source": [
    "### 3.2 고해상도 이미지2\n",
    "<table>\n",
    "\t<tr>\n",
    "\t    <td><img src=\"https://m.media-amazon.com/images/I/61vZlTOGC9L._AC_SL1500_.jpg\" width=\"200\" height=\"200\"/></td>\n",
    "\t    <td><img src=\"https://m.media-amazon.com/images/I/61ZiAL81smL._AC_SL1500_.jpg\" width=\"200\" height=\"200\"/></td>\n",
    "\t</tr>\n",
    "</table>\n"
   ]
  },
  {
   "cell_type": "code",
   "execution_count": 61,
   "id": "f7d52060",
   "metadata": {},
   "outputs": [
    {
     "name": "stdout",
     "output_type": "stream",
     "text": [
      " t larger size high potency d3 vitamin iu 5000 supporty structural helps bones maintain strong supports systemt immune nons softgels 240 gmo gelatn contains a supplement dietary\n"
     ]
    }
   ],
   "source": [
    "words = getTextByKeras('https://m.media-amazon.com/images/I/61vZlTOGC9L._AC_SL1500_.jpg')\n",
    "print(words)"
   ]
  },
  {
   "cell_type": "code",
   "execution_count": 68,
   "id": "1015760b",
   "metadata": {},
   "outputs": [
    {
     "name": "stdout",
     "output_type": "stream",
     "text": [
      " \n",
      "\n",
      " \n",
      "\n",
      "La) Potency\n",
      "\n",
      "Th re D-5 |\n",
      "\n",
      "3,000 IU !\n",
      "\n",
      ":\n",
      "tu op 7\n",
      "mg\n",
      "\n",
      "contains be\n",
      "\f",
      "\n"
     ]
    }
   ],
   "source": [
    "words = getTextByTesseract('https://m.media-amazon.com/images/I/61vZlTOGC9L._AC_SL1500_.jpg',3,4)\n",
    "print(words)"
   ]
  },
  {
   "cell_type": "code",
   "execution_count": 63,
   "id": "da8b7fde",
   "metadata": {},
   "outputs": [
    {
     "name": "stdout",
     "output_type": "stream",
     "text": [
      " vitamins 1968 family owned since supplement facts serving size sofgel 1 daily 00 amount value serving per 6250 vitamin iui dz 5000 125 mcg las cholecalciferoll lanolin from other gelatin ingredientst bovine capsule softgel water oil glycerin olive and extra virgin rd now ellyn foods glen 395 s bloomingdale com nowfoods usa il 60108 not manufactured gluten with wheat yeast soy ingredients corn milk shellfish fish egg or produced other in gmp processes facility that a ingredients containing allergens these natural product color this in variation occur may store in a opening cool gmp dry place after please recycle\n"
     ]
    }
   ],
   "source": [
    "words = getTextByKeras('https://m.media-amazon.com/images/I/61ZiAL81smL._AC_SL1500_.jpg')\n",
    "print(words)"
   ]
  },
  {
   "cell_type": "code",
   "execution_count": 87,
   "id": "e7c00e62",
   "metadata": {},
   "outputs": [
    {
     "name": "stdout",
     "output_type": "stream",
     "text": [
      " \n",
      "\n",
      " \n",
      "\n",
      " \n",
      "       \n",
      "      \n",
      "        \n",
      "\n",
      "Supplement Facts\n",
      "Serving Size 1 Softgel\n",
      "posenine\n",
      "\n",
      "Vitamin Dg 125 mcg (5,000 IU) 625%\n",
      "(as Cholecalciferol) (from Lanolin)\n",
      "\n",
      "  \n",
      "\n",
      " \n",
      "  \n",
      "\n",
      "  \n",
      "\n",
      "“at Ngredients: Softgel Capsule (bovine gelatin,\n",
      "Meter, glycerin) and Extra Virgin Olive Oil.\n",
      "\n",
      "NOW FOODS, 395 S. Glen Ellyn Rd:\n",
      "R Bloomingdale, IL 60108, USA nowfoods.com\n",
      "ES snufactured with yeast, wheat, gluten\n",
      "Pr orn, milk, egg, fish or shellfish ingredients\n",
      "ingre ‘ced in a GMP facility that processes 0N™\n",
      "N “ents containing these allergens:\n",
      "a color variation may occur in this product.\n",
      "Sore \"Na cool, dry place after opening:\n",
      "lease R\n",
      "\n",
      "€cycle.\n",
      "\f",
      "\n"
     ]
    }
   ],
   "source": [
    "words = getTextByTesseract('https://m.media-amazon.com/images/I/61ZiAL81smL._AC_SL1500_.jpg',3,3)\n",
    "print(words)"
   ]
  },
  {
   "cell_type": "markdown",
   "id": "a66e6577",
   "metadata": {},
   "source": [
    "### 3.3 고해상도 이미지3"
   ]
  },
  {
   "cell_type": "markdown",
   "id": "20712cdf",
   "metadata": {},
   "source": [
    "<table>\n",
    "\t<tr>\n",
    "\t    <td><img src=\"https://www.acuatlanta.net/images_small_info/douglas_labs_znp.jpg\" width=\"200\" height=\"200\"/></td>\n",
    "\t    <td><img src=\"https://www.acuatlanta.net/product_thumb.php?img=douglas_labs_znp_2.jpg\" width=\"250\" height=\"250\"/></td>\n",
    "\t</tr>\n",
    "</table>"
   ]
  },
  {
   "cell_type": "code",
   "execution_count": 36,
   "id": "afd7dc81",
   "metadata": {},
   "outputs": [
    {
     "name": "stdout",
     "output_type": "stream",
     "text": [
      " picolinate zinc dietary supplement a douglas laboratories 100 tablets eanta net a see\n"
     ]
    }
   ],
   "source": [
    "words = getTextByKeras('https://www.acuatlanta.net/images_small_info/douglas_labs_znp.jpg')\n",
    "print(words)"
   ]
  },
  {
   "cell_type": "code",
   "execution_count": 47,
   "id": "086e61f4",
   "metadata": {
    "scrolled": true
   },
   "outputs": [
    {
     "name": "stdout",
     "output_type": "stream",
     "text": [
      "Zinc Picolinate\n",
      "\n",
      "A Dietary Supplement\n",
      "\n",
      " \n",
      "\n",
      "DOUGLAS\n",
      "LABORATORIES:\n",
      "100 Tablets\n",
      "\n",
      "ale tal jal\n",
      "\f",
      "\n"
     ]
    }
   ],
   "source": [
    "words = getTextByTesseract('https://www.acuatlanta.net/images_small_info/douglas_labs_znp.jpg',3,3)\n",
    "print(words)"
   ]
  },
  {
   "cell_type": "code",
   "execution_count": 40,
   "id": "776a9cd3",
   "metadata": {},
   "outputs": [
    {
     "name": "stdout",
     "output_type": "stream",
     "text": [
      " supplement facts soring size tablet semings per contaliner 100 mount per soring zinc as 1388 zinc picolinatel 20 mg oune ingredlents stearne cellulose vegetable ragnesium phamacouica stearate and silica glae acuatanta net\n"
     ]
    }
   ],
   "source": [
    "words = getTextByKeras('https://www.acuatlanta.net/product_thumb.php?img=douglas_labs_znp_2.jpg')\n",
    "print(words)"
   ]
  },
  {
   "cell_type": "code",
   "execution_count": 60,
   "id": "a571ef0f",
   "metadata": {},
   "outputs": [
    {
     "name": "stdout",
     "output_type": "stream",
     "text": [
      "ae 1) |\n",
      "|\n",
      "\n",
      "Supplement Facts\n",
      "\n",
      "9 17a\n",
      "a [Reamer comainr 100\n",
      "\\-\n",
      "cere =\n",
      "\n",
      "elts200 icotnate).... 2070 133%\n",
      "\n",
      "Cher vegetable stare,\n",
      "\n",
      "Sere cee ted\n",
      "\f",
      "\n"
     ]
    }
   ],
   "source": [
    "words = getTextByTesseract('https://www.acuatlanta.net/product_thumb.php?img=douglas_labs_znp_2.jpg',3,6)\n",
    "print(words)"
   ]
  },
  {
   "cell_type": "markdown",
   "id": "f4fa6738",
   "metadata": {},
   "source": [
    "### 3.4 세로 정렬글자 이미지\n",
    "\n",
    "<table>\n",
    "\t<tr>\n",
    "\t    <td><img src=\"https://m.media-amazon.com/images/I/81YLNFYnMJL._AC_SL1500_.jpg\" width=\"200\" height=\"200\"/></td>\n",
    "\t    <td><img src=\"https://m.media-amazon.com/images/I/41q4Q751i5L._AC_.jpg\" width=\"200\" height=\"200\"/></td>\n",
    "\t</tr>\n",
    "</table>"
   ]
  },
  {
   "cell_type": "code",
   "execution_count": 88,
   "id": "3e5d61ee",
   "metadata": {},
   "outputs": [
    {
     "name": "stdout",
     "output_type": "stream",
     "text": [
      " swisse strength high c  1ooomg reduce severity helps 8 symptoms cold duration of premiun quality formula nonacidic based evidence on scientific ormula vitamin c lascorbic acid from 121 calcium ascorbate dihydrate 1g g immune health oneaday 150 tablets\n"
     ]
    }
   ],
   "source": [
    "words = getTextByKeras('https://m.media-amazon.com/images/I/81YLNFYnMJL._AC_SL1500_.jpg')\n",
    "print(words)"
   ]
  },
  {
   "cell_type": "code",
   "execution_count": 92,
   "id": "ce877936",
   "metadata": {},
   "outputs": [
    {
     "name": "stdout",
     "output_type": "stream",
     "text": [
      "SR\n",
      "\n",
      " \n",
      "\n",
      "HIGH STRENGTH C\n",
      "1,000mg\n",
      "\n",
      "HELPS REDUCE SEVERITY &\n",
      "DURATION OF COLD SYMPTOMS\n",
      "NON-ACIDIC FORMULA /\n",
      "CIENTIFIC. EVIDENCE,\n",
      "\n",
      "   \n",
      "\n",
      "&Q\n",
      "VITAMIN (ascorbic acid from calcium ascorbate dihydrate 1.21 g) 1 g . “OR\n",
      "\n",
      " \n",
      "\n",
      "150 TABLETS ONE-A-DAY\n",
      "\n",
      "—\n",
      "\f",
      "\n"
     ]
    }
   ],
   "source": [
    "words = getTextByTesseract('https://m.media-amazon.com/images/I/81YLNFYnMJL._AC_SL1500_.jpg',3,4)\n",
    "print(words)"
   ]
  },
  {
   "cell_type": "markdown",
   "id": "05ce23c5",
   "metadata": {},
   "source": [
    "- 디자인된 약품명 : \swisse\n",
    " - 케라스에서는 약품명이 추출이 잘되었고, 테서렉트 API의 경우 일반적인 폰트가 아닌 경우 추출이 안되는것을 알수 있다. "
   ]
  },
  {
   "cell_type": "code",
   "execution_count": 93,
   "id": "df2090cf",
   "metadata": {},
   "outputs": [
    {
     "name": "stdout",
     "output_type": "stream",
     "text": [
      "\n"
     ]
    }
   ],
   "source": [
    "words = getTextByKeras('https://m.media-amazon.com/images/I/41q4Q751i5L._AC_.jpg')\n",
    "print(words)"
   ]
  },
  {
   "cell_type": "code",
   "execution_count": 97,
   "id": "40a70b34",
   "metadata": {
    "scrolled": false
   },
   "outputs": [
    {
     "name": "stdout",
     "output_type": "stream",
     "text": [
      "   \n",
      "\n",
      "Ne\n",
      "Sy iidiatis Hau iy\n",
      "Daa\n",
      "\f",
      "\n"
     ]
    }
   ],
   "source": [
    "words = getTextByTesseract('https://m.media-amazon.com/images/I/41q4Q751i5L._AC_.jpg',3,4)\n",
    "print(words)"
   ]
  },
  {
   "cell_type": "markdown",
   "id": "07a22bfb",
   "metadata": {},
   "source": [
    "세로로 정렬된 텍스트는 케라스, 테서렉트 둘다 추출이 잘되지 않았다."
   ]
  },
  {
   "cell_type": "markdown",
   "id": "8958eef5",
   "metadata": {},
   "source": [
    "### 3.5 비스듬한 이미지\n",
    "\n",
    "<table>\n",
    "\t<tr>\t    \n",
    "\t    <td><img src=\"https://github.com/riverlike/Aiffel_Project/blob/main/Exploration/Exp15/image/03.png?raw=true\" width=\"200\" height=\"200\"/></td>\n",
    "        <td><img src=\"https://github.com/riverlike/Aiffel_Project/blob/main/Exploration/Exp15/image/04.png?raw=true\" width=\"200\" height=\"200\"/></td>\n",
    "        <td><img src=\"https://www.picclickimg.com/d/l400/pict/153369269407_/Natures-Bounty-Vitamin-E-450mg-1000-IU.jpg\" width=\"200\" height=\"200\"/></td>\n",
    "\t</tr>\n",
    "</table>"
   ]
  },
  {
   "cell_type": "code",
   "execution_count": 99,
   "id": "c88448cb",
   "metadata": {},
   "outputs": [
    {
     "name": "stdout",
     "output_type": "stream",
     "text": [
      " s s b health good of d3 maintenance calciumt not in meal blackmores helps a d3 with store supplement t daily about calcium kanakkanak once blackmores tablet years health 12 daripada l sunlight under take indication jauhi children direct adults children dosager for from recommended away ot reach mg aficlal place 600 of u dry 500 out pronoratines a g tablet in keep 15 30c carbonate per vo below dorlvativon ingredients 8 12 calcium cholecalciterol mik active grom oluton calcium noi d5 veast viamin aades ot eotee no\n"
     ]
    }
   ],
   "source": [
    "words = getTextByKeras('https://github.com/riverlike/Aiffel_Project/blob/main/Exploration/Exp15/image/03.png?raw=true')\n",
    "print(words)"
   ]
  },
  {
   "cell_type": "code",
   "execution_count": 104,
   "id": "96deada9",
   "metadata": {},
   "outputs": [
    {
     "name": "stdout",
     "output_type": "stream",
     "text": [
      "SS\n",
      "' \\ |\n",
      "E pout aici 40>\n",
      "gyackino\" eS calcu, +03 eins craintenene? of good neal\n",
      "{nsic aon peat yopienet\n",
      "pos2oe pauits- jake A xauiet once gall with? med! Not\n",
      "posse {or crits\" en yndet 42) yeas\n",
      "q ex? gut ea of ite yautit garinae® ona tn store\n",
      "S peo’ ayo\" any piace away or givect suri\n",
      "7 EE opal\n",
      "aN Soe Sa ete aaa ete\n",
      "al —_ wa ee gee 7 .\n",
      "\f",
      "\n"
     ]
    }
   ],
   "source": [
    "words = getTextByTesseract('https://github.com/riverlike/Aiffel_Project/blob/main/Exploration/Exp15/image/03.png?raw=true',3,6)\n",
    "print(words)"
   ]
  },
  {
   "cell_type": "code",
   "execution_count": 105,
   "id": "6b813345",
   "metadata": {},
   "outputs": [
    {
     "name": "stdout",
     "output_type": "stream",
     "text": [
      " nolr psyllium husk caps 700 intestinal mg with so helps health ing of maintain 180 apple adistay veg supple regularity pectin capsules mnene vegetarionegn\n"
     ]
    }
   ],
   "source": [
    "words = getTextByKeras('https://github.com/riverlike/Aiffel_Project/blob/main/Exploration/Exp15/image/04.png?raw=true')\n",
    "print(words)"
   ]
  },
  {
   "cell_type": "code",
   "execution_count": 106,
   "id": "96e64b3b",
   "metadata": {},
   "outputs": [
    {
     "name": "stdout",
     "output_type": "stream",
     "text": [
      "a” =)\n",
      ". .\n",
      "Ze sehen .\n",
      "on 2\n",
      "bs\n",
      "\f",
      "\n"
     ]
    }
   ],
   "source": [
    "words = getTextByTesseract('https://github.com/riverlike/Aiffel_Project/blob/main/Exploration/Exp15/image/04.png?raw=true',3,6)\n",
    "print(words)"
   ]
  },
  {
   "cell_type": "code",
   "execution_count": 107,
   "id": "7ebe752b",
   "metadata": {},
   "outputs": [
    {
     "name": "stdout",
     "output_type": "stream",
     "text": [
      " natures bounty c 450mg pure loooul dlalpha supports antioxidant borapidreleass health sofitels supplien\n"
     ]
    }
   ],
   "source": [
    "words = getTextByKeras('https://www.picclickimg.com/d/l400/pict/153369269407_/Natures-Bounty-Vitamin-E-450mg-1000-IU.jpg')\n",
    "print(words)"
   ]
  },
  {
   "cell_type": "code",
   "execution_count": 108,
   "id": "14a053bb",
   "metadata": {},
   "outputs": [
    {
     "name": "stdout",
     "output_type": "stream",
     "text": [
      "LRT fp\n",
      "a i.\n",
      "WIN ‘\n",
      "Os\n",
      "0, & j\n",
      "Pee? Ge\n",
      "Sap Oy\n",
      "“Meng, Pl 5\n",
      "a '\n",
      "\f",
      "\n"
     ]
    }
   ],
   "source": [
    "words = getTextByTesseract('https://www.picclickimg.com/d/l400/pict/153369269407_/Natures-Bounty-Vitamin-E-450mg-1000-IU.jpg',3,6)\n",
    "print(words)"
   ]
  },
  {
   "cell_type": "markdown",
   "id": "4234356d",
   "metadata": {},
   "source": [
    "비스듬한 이미지의 경우 테서렉트는 전반적으로 추출이 되지않는 모습이다.\n",
    "\n",
    "---"
   ]
  },
  {
   "cell_type": "markdown",
   "id": "662e4f1c",
   "metadata": {},
   "source": [
    "### 3.6 흐릿하거나, 흔들리는 이미지\n",
    "\n",
    "<table>\n",
    "\t<tr>\t    \n",
    "\t    <td><img src=\"https://github.com/riverlike/Aiffel_Project/blob/main/Exploration/Exp15/image/10.png?raw=true\" width=\"200\" height=\"200\"/></td>\n",
    "        <td><img src=\"https://github.com/riverlike/Aiffel_Project/blob/main/Exploration/Exp15/image/11.png?raw=true\" width=\"200\" height=\"200\"/></td>\n",
    "\t</tr>\n",
    "</table>"
   ]
  },
  {
   "cell_type": "code",
   "execution_count": 109,
   "id": "6a2223a2",
   "metadata": {},
   "outputs": [
    {
     "name": "stdout",
     "output_type": "stream",
     "text": [
      " cenavis echinacea 5000 lcd umies pupurea dry herb uloe aca sooong conn fhesh herb immunity sppors healty innune wen functon\n"
     ]
    }
   ],
   "source": [
    "words = getTextByKeras('https://github.com/riverlike/Aiffel_Project/blob/main/Exploration/Exp15/image/10.png?raw=true')\n",
    "print(words)"
   ]
  },
  {
   "cell_type": "code",
   "execution_count": 114,
   "id": "11d69078",
   "metadata": {},
   "outputs": [
    {
     "name": "stdout",
     "output_type": "stream",
     "text": [
      ": aL :\n",
      "oY\n",
      "ECHINACEA\n",
      "5000\n",
      "famed cdl al\n",
      "as\n",
      "a — od\n",
      "= =\n",
      "\f",
      "\n"
     ]
    }
   ],
   "source": [
    "words = getTextByTesseract('https://github.com/riverlike/Aiffel_Project/blob/main/Exploration/Exp15/image/10.png?raw=true',3,6)\n",
    "print(words)"
   ]
  },
  {
   "cell_type": "code",
   "execution_count": 115,
   "id": "7fcbe957",
   "metadata": {},
   "outputs": [
    {
     "name": "stdout",
     "output_type": "stream",
     "text": [
      " canenis better every day rooc eenets olnn soohesssene ca gornces mamrenan caten ere taecns taains uan saen amatetan roudng hee cashn teta we cae cn saons panos for use nte maon se s paa nraeles ze moterng rnetn woed se cs menaze snis e\n"
     ]
    }
   ],
   "source": [
    "words = getTextByKeras('https://github.com/riverlike/Aiffel_Project/blob/main/Exploration/Exp15/image/11.png?raw=true')\n",
    "print(words)"
   ]
  },
  {
   "cell_type": "code",
   "execution_count": 117,
   "id": "98594892",
   "metadata": {
    "scrolled": true
   },
   "outputs": [
    {
     "name": "stdout",
     "output_type": "stream",
     "text": [
      "—\n",
      "avec\n",
      "[+ arcane\n",
      "fo nl elaelacaalaml\n",
      "re es alma\n",
      "——\n",
      "\f",
      "\n"
     ]
    }
   ],
   "source": [
    "words = getTextByTesseract('https://github.com/riverlike/Aiffel_Project/blob/main/Exploration/Exp15/image/11.png?raw=true', 3,6)\n",
    "print(words)"
   ]
  },
  {
   "cell_type": "markdown",
   "id": "c20a3028",
   "metadata": {},
   "source": [
    "흐릿한 이미지의 경우 사람의 유관상 식별이 불가능한 글자들은 대부분 추출이 안되었다. 하지만 큰글자의 경우 케라스 API에서는 잘추출되는 모습이다."
   ]
  },
  {
   "cell_type": "markdown",
   "id": "180678b0",
   "metadata": {},
   "source": [
    "### 3.7 노이즈가 있는 이미지\n",
    "\n",
    "<table>\n",
    "\t<tr>\n",
    "        <td><img src=\"https://github.com/riverlike/Aiffel_Project/blob/main/Exploration/Exp15/image/09.png?raw=true\" width=\"200\" height=\"200\"/></td>\n",
    "        <td><img src=\"https://github.com/riverlike/Aiffel_Project/blob/main/Exploration/Exp15/image/12.png?raw=true\" width=\"200\" height=\"200\"/></td>\n",
    "        <td><img src=\"https://github.com/riverlike/Aiffel_Project/blob/main/Exploration/Exp15/image/05.png?raw=true\" width=\"200\" height=\"200\"/></td>\n",
    "        <td><img src=\"https://github.com/riverlike/Aiffel_Project/blob/main/Exploration/Exp15/image/13.png?raw=true\" width=\"200\" height=\"200\"/></td>\n",
    "\t</tr>\n",
    "</table>"
   ]
  },
  {
   "cell_type": "code",
   "execution_count": 118,
   "id": "ac65c379",
   "metadata": {},
   "outputs": [
    {
     "name": "stdout",
     "output_type": "stream",
     "text": [
      " ins amount bec scnns vamin as beta carotone sceatee ooo vaamin c  foo gas asconbic acio calchm ono macinamioe ascorates vatamin ds td as cholccaceron oo rte 2 ooo u s so vnamin e as d alpna meo o tocophend succinate dalpha locopheron s 67 thiamine srh ms vtamin boas mamine hco e 5 2s mo sesh rboravin  vitamin 82 as rbollavin ribonavin s 5 phosphatel so mo ash nlacin las nacinamide nacinamide ascorbated so ng iss s vitamin b6 las pyrdoxine hcn pyridoxal 5 phosphate 75 mze mg folate las s e l metytrahydrofolate calcium saln  soo ook mcg vinamin 812 las metyicobalaming 300 2sok mco biotn 300 looon mco pantothenic acio las calcium d pantothenatel 50 tooon ing s looine las potassium looidel s 150 toox mco magnesium las magnesium oxiden too zek mg zinc las zing citrates opizinc l zinc ls mehionine mono sultated s seleniom las sochun selente selenoexcen high selenium 200 yeast se mehy lselenocyslene ss manaanese las manaanese cinate auconate me cnromien cronne sa cnronan stabzed win capios 70d ucd sonna crae avie ood souae o chalaiol oo acid to\n"
     ]
    }
   ],
   "source": [
    "words = getTextByKeras('https://github.com/riverlike/Aiffel_Project/blob/main/Exploration/Exp15/image/09.png?raw=true')\n",
    "print(words)"
   ]
  },
  {
   "cell_type": "code",
   "execution_count": 123,
   "id": "928304b4",
   "metadata": {
    "scrolled": false
   },
   "outputs": [
    {
     "name": "stdout",
     "output_type": "stream",
     "text": [
      "= 7\n",
      "iv a\n",
      "& 5 | vaamin a (os beta-cs 7 COT re\n",
      "S22. a CS a Ta m are) “= = e\n",
      "Se ET\n",
      "Pee eho 81) (as thiamine HCl as\n",
      "zz aa\n",
      "F Se\n",
      "eg a ed\n",
      "Ss Seu ara eR Tate) Ena\n",
      "Pee et eT) Eas L\n",
      "ee ee) CT a\n",
      "“4 ce kee magnesium oxide) 100 mq 28% ’\n",
      "SS | Zinc tas zinc citrate, L-OptiZinc® zinc mono-L-methionine sulfate)\n",
      "ee st en foo ry\n",
      "B= | Se-metyit-setenocysteine|\n",
      "\f",
      "\n"
     ]
    }
   ],
   "source": [
    "words = getTextByTesseract('https://github.com/riverlike/Aiffel_Project/blob/main/Exploration/Exp15/image/09.png?raw=true',3,6)\n",
    "print(words)"
   ]
  },
  {
   "cell_type": "markdown",
   "id": "718c7e3b",
   "metadata": {},
   "source": [
    "흔들리는 이미지, 노이즈가 낀이미지의 경우 두API모두 추출이 안되는 모습이다.\n",
    "후면부 추출이 잘되었던 테서렉트이지만 흔들거리거나 어두운 뒷배경때문인지 제대로 추출이 안되었다."
   ]
  },
  {
   "cell_type": "code",
   "execution_count": 124,
   "id": "56b074c9",
   "metadata": {},
   "outputs": [
    {
     "name": "stdout",
     "output_type": "stream",
     "text": [
      " blackmores nutritional oil evening primrose oil onegas of source olenic igla od t seed tound culne oree carsules too\n"
     ]
    }
   ],
   "source": [
    "words = getTextByKeras('https://github.com/riverlike/Aiffel_Project/blob/main/Exploration/Exp15/image/12.png?raw=true')\n",
    "print(words)"
   ]
  },
  {
   "cell_type": "code",
   "execution_count": 126,
   "id": "0f9200cb",
   "metadata": {
    "scrolled": false
   },
   "outputs": [
    {
     "name": "stdout",
     "output_type": "stream",
     "text": [
      "es Lr\n",
      "3 “ 4\n",
      "BF, ACKMc RE\n",
      "‘ INE\n",
      ": Bt ose on\n",
      "cool\n",
      "aii re\n",
      "a\n",
      "\f",
      "\n"
     ]
    }
   ],
   "source": [
    "words = getTextByTesseract('https://github.com/riverlike/Aiffel_Project/blob/main/Exploration/Exp15/image/12.png?raw=true', 3,6)\n",
    "print(words)"
   ]
  },
  {
   "cell_type": "code",
   "execution_count": 129,
   "id": "dd31324d",
   "metadata": {},
   "outputs": [
    {
     "name": "stdout",
     "output_type": "stream",
     "text": [
      " nors science basced nutrition est high absorption coq10 bioperine ine sor cood deetede ao des 00 mg vege 160\n"
     ]
    }
   ],
   "source": [
    "words = getTextByKeras('https://github.com/riverlike/Aiffel_Project/blob/main/Exploration/Exp15/image/05.png?raw=true')\n",
    "print(words)"
   ]
  },
  {
   "cell_type": "code",
   "execution_count": 128,
   "id": "91328a51",
   "metadata": {
    "scrolled": false
   },
   "outputs": [
    {
     "name": "stdout",
     "output_type": "stream",
     "text": [
      "Rd Science sased\n",
      "[OT Nutrition\n",
      "| Hi\n",
      "abst Son\n",
      "CoQi0\n",
      "“th BIOPERIN\n",
      "ed\n",
      "te —_\n",
      "\f",
      "\n"
     ]
    }
   ],
   "source": [
    "words = getTextByTesseract('https://github.com/riverlike/Aiffel_Project/blob/main/Exploration/Exp15/image/05.png?raw=true',3,6)\n",
    "print(words)"
   ]
  },
  {
   "cell_type": "code",
   "execution_count": 131,
   "id": "c5137991",
   "metadata": {},
   "outputs": [
    {
     "name": "stdout",
     "output_type": "stream",
     "text": [
      " bi wores blackmores supplement health calciumtd v soo ds snsnt vitamin 00 mg se dad saaets\n"
     ]
    }
   ],
   "source": [
    "words = getTextByKeras('https://github.com/riverlike/Aiffel_Project/blob/main/Exploration/Exp15/image/13.png?raw=true')\n",
    "print(words)"
   ]
  },
  {
   "cell_type": "code",
   "execution_count": 130,
   "id": "6c04021c",
   "metadata": {},
   "outputs": [
    {
     "name": "stdout",
     "output_type": "stream",
     "text": [
      "sh\n",
      "\n",
      ">»\n",
      "\n",
      "A LACK E\n",
      "\n",
      "~ TH sUPES P\n",
      "Ree\n",
      "\f",
      "\n"
     ]
    }
   ],
   "source": [
    "words = getTextByTesseract('https://github.com/riverlike/Aiffel_Project/blob/main/Exploration/Exp15/image/13.png?raw=true',3,6)\n",
    "print(words)"
   ]
  },
  {
   "cell_type": "markdown",
   "id": "d4ba9c2a",
   "metadata": {},
   "source": [
    "흐릿한 이미지이지만 작은 글자를 제외하고 약품명처럼 큰 글자의 경우 케라스에서는 추출이 잘되고 있다. \n",
    "\n",
    "---"
   ]
  },
  {
   "cell_type": "markdown",
   "id": "d01572a8",
   "metadata": {},
   "source": [
    "## 정리. \n",
    "\n",
    "\n"
   ]
  },
  {
   "cell_type": "markdown",
   "id": "31bac936",
   "metadata": {},
   "source": [
    "### 약품 전면부(약품명) 에는 케라스 API적용\n",
    "- 케라스의 경우 저해상도 이거나 노이즈에 강한편이지만 작은 글자의 경우 추출이 안되는것은 맞찬가지였다. 노년층에게 작은 글자에 대한 정보를  정확하게 전달해야하는 서비스 특징상 좀더 고해상도의 이미지를 사용하거나 추출전 작은글자에 대해 추출이 잘되게 하는 전처리가 필요할 것 같다.\n",
    "\n",
    "\n",
    "<table>\n",
    "\t<tr>\n",
    "\t    <td><img src=\"https://m.media-amazon.com/images/I/61vZlTOGC9L._AC_SL1500_.jpg\" width=\"200\" height=\"200\"/></td>\n",
    "\t    <td><img src=\"https://github.com/riverlike/Aiffel_Project/blob/main/Exploration/Exp15/image/10.png?raw=true\" width=\"200\" height=\"200\"/>\n",
    "\t</tr>\n",
    "</table>\n",
    " "
   ]
  },
  {
   "cell_type": "code",
   "execution_count": 134,
   "id": "b0cd70d0",
   "metadata": {},
   "outputs": [
    {
     "name": "stdout",
     "output_type": "stream",
     "text": [
      " t larger size high potency d3 vitamin iu 5000 supporty structural helps bones maintain strong supports systemt immune nons softgels 240 gmo gelatn contains a supplement dietary\n"
     ]
    }
   ],
   "source": [
    "# 고해상도 이미지\n",
    "words = getTextByKeras('https://m.media-amazon.com/images/I/61vZlTOGC9L._AC_SL1500_.jpg')\n",
    "print(words)"
   ]
  },
  {
   "cell_type": "code",
   "execution_count": 136,
   "id": "bcf99883",
   "metadata": {},
   "outputs": [
    {
     "name": "stdout",
     "output_type": "stream",
     "text": [
      " cenavis echinacea 5000 lcd umies pupurea dry herb uloe aca sooong conn fhesh herb immunity sppors healty innune wen functon\n"
     ]
    }
   ],
   "source": [
    "#저해상도, 흐릿한 이미지\n",
    "words = getTextByKeras('https://github.com/riverlike/Aiffel_Project/blob/main/Exploration/Exp15/image/10.png?raw=true')\n",
    "print(words)"
   ]
  },
  {
   "cell_type": "markdown",
   "id": "62b614c7",
   "metadata": {},
   "source": [
    "### 약품 후면부(성분분석) 에는 테서렉트 API적용\n",
    "- 전처리나 후처리시 보완할 부분\n",
    " - 해상도가 높고 밝은 배경의 이미지에서 추출이 잘됨.\n",
    " - 노이즈에 약한 편이라 노이즈가 있는 이미지의 경우 전처리가 필요함.\n",
    " - 비스듬한 이미지에서 텍스트 추출이 안됨\n",
    "\n",
    "<table>\n",
    "\t<tr>\n",
    "\t    <td><img src=\"https://m.media-amazon.com/images/I/71IX5DhhyjL._AC_SL1500_.jpg\" width=\"200\" height=\"200\"/></td>\n",
    "\t    <td><img src=\"https://github.com/riverlike/Aiffel_Project/blob/main/Exploration/Exp15/image/06.png?raw=true\" width=\"200\" height=\"200\"/></td>\n",
    "\t</tr>\n",
    "</table>"
   ]
  },
  {
   "cell_type": "code",
   "execution_count": 133,
   "id": "54f9fd95",
   "metadata": {},
   "outputs": [
    {
     "name": "stdout",
     "output_type": "stream",
     "text": [
      " \n",
      "\n",
      "DIRECTIONS: For adults, take one\n",
      "daily, preferably with a meal.\n",
      "\n",
      "Supplement Facts\n",
      "Serving Size 1 Softgel\n",
      "\n",
      "Amount Per Serving\n",
      "\n",
      "Vitamin E\n",
      "(as dl-Alpha Tocopheryl Acetate)\n",
      "\n",
      "Other Ingredients: Gelatin, Vegetable Glycerin,\n",
      "Soybean Oil.\n",
      "\n",
      "No Artificial Color, Flavor or Sw\n",
      "No Preservatives, No Sugar, No Starch, N\n",
      "\n",
      "No Lactose, No Gluten, No Wheat, No Yeast, No\n",
      "Sodium Free.\n",
      "\n",
      " \n",
      "\f",
      "\n"
     ]
    }
   ],
   "source": [
    "# 고해상도 이미지\n",
    "words = getTextByTesseract('https://m.media-amazon.com/images/I/71IX5DhhyjL._AC_SL1500_.jpg',3,3)\n",
    "print(words)"
   ]
  },
  {
   "cell_type": "code",
   "execution_count": 132,
   "id": "3d49d13a",
   "metadata": {
    "scrolled": true
   },
   "outputs": [
    {
     "name": "stdout",
     "output_type": "stream",
     "text": [
      "Supplement Facts\n",
      "eter 1 vege Cpl\n",
      "ter song so\n",
      "(cerayme GTO quinone) 2009 1 _|\n",
      "et Pepe Bt Ppernpnaiaan Smt\n",
      "ter ingredients: Rice powder, modited\n",
      "(ellos vegetarian capsule siicon Goss\n",
      "Seed haut User Tale 1 cope\n",
      "{vt nal Fermented CoQ\n",
      "0 /Gtuten Free ‘Soy Free Vega\"\n",
      "3 for Doctors Beste\n",
      "(to) 777.2474\n",
      "wre ivtaminscom\n",
      "\f",
      "\n"
     ]
    }
   ],
   "source": [
    "#저해상도, 흐릿한 이미지\n",
    "words = getTextByTesseract('https://github.com/riverlike/Aiffel_Project/blob/main/Exploration/Exp15/image/06.png?raw=true',3,6)\n",
    "print(words)"
   ]
  }
 ],
 "metadata": {
  "kernelspec": {
   "display_name": "Python 3 (ipykernel)",
   "language": "python",
   "name": "python3"
  },
  "language_info": {
   "codemirror_mode": {
    "name": "ipython",
    "version": 3
   },
   "file_extension": ".py",
   "mimetype": "text/x-python",
   "name": "python",
   "nbconvert_exporter": "python",
   "pygments_lexer": "ipython3",
   "version": "3.9.7"
  }
 },
 "nbformat": 4,
 "nbformat_minor": 5
}
