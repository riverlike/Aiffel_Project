{
 "cells": [
  {
   "cell_type": "markdown",
   "id": "7e98536a",
   "metadata": {},
   "source": [
    "# 네이버 영화리뷰 감성분석 도전하기\n",
    "\n",
    "\n",
    "\n",
    "![img](https://github.com/riverlike/Aiffel_Project/blob/main/Exploration/Exp06/data/wordcloud.png?raw=true)\n",
    "\n",
    "\n",
    "이번프로젝트에서는  한국어 텍스트의 감정 분석을 진행해볼것이다.\n",
    "활용할 데이터셋은 네이버 영화의 댓글을 모아 구성된 [Naver sentiment movie corpus](https://github.com/e9t/nsmc) 이다.\n",
    "해당 파일의 심볼릭 링크를 연결해주었다. \n",
    "```\n",
    "ln -s ~/data/*.txt ~/aiffel/project/exp06_Movie_Review/data\n",
    "```"
   ]
  },
  {
   "cell_type": "markdown",
   "id": "05e3461b",
   "metadata": {},
   "source": [
    "# 1. 라이브러리"
   ]
  },
  {
   "cell_type": "code",
   "execution_count": 1,
   "id": "db19590a",
   "metadata": {},
   "outputs": [],
   "source": [
    "import pandas as pd\n",
    "import numpy as np\n",
    "import matplotlib.pyplot as plt"
   ]
  },
  {
   "cell_type": "markdown",
   "id": "f3eac3d2",
   "metadata": {},
   "source": [
    "# 2. 데이터 준비"
   ]
  },
  {
   "cell_type": "markdown",
   "id": "630dc177",
   "metadata": {},
   "source": [
    "### 2.1 네이버 영화리뷰 파일 읽기\n",
    "- ratings_train.txt: 150K reviews for training\n",
    "- ratings_test.txt: 50K reviews held out for testing"
   ]
  },
  {
   "cell_type": "code",
   "execution_count": 2,
   "id": "cf7f2cca",
   "metadata": {
    "scrolled": true
   },
   "outputs": [],
   "source": [
    "# 데이터를 읽어봅시다. \n",
    "train_data = pd.read_table('~/aiffel/project/exp06_Movie_Review/data/ratings_train.txt')\n",
    "test_data = pd.read_table('~/aiffel/project/exp06_Movie_Review/data/ratings_test.txt')\n"
   ]
  },
  {
   "cell_type": "code",
   "execution_count": 3,
   "id": "401939e0",
   "metadata": {},
   "outputs": [
    {
     "data": {
      "text/plain": [
       "((150000, 3), (50000, 3))"
      ]
     },
     "execution_count": 3,
     "metadata": {},
     "output_type": "execute_result"
    }
   ],
   "source": [
    "train_data.shape, test_data.shape"
   ]
  },
  {
   "cell_type": "markdown",
   "id": "e17cdcd0",
   "metadata": {},
   "source": [
    "훈련 데이터 15만건, 테스트 데이터 5만건이 확인된다. 데이터 내부를 좀 더 살펴보자."
   ]
  },
  {
   "cell_type": "code",
   "execution_count": 4,
   "id": "b861f1f0",
   "metadata": {},
   "outputs": [
    {
     "name": "stdout",
     "output_type": "stream",
     "text": [
      "<class 'pandas.core.frame.DataFrame'>\n",
      "RangeIndex: 150000 entries, 0 to 149999\n",
      "Data columns (total 3 columns):\n",
      " #   Column    Non-Null Count   Dtype \n",
      "---  ------    --------------   ----- \n",
      " 0   id        150000 non-null  int64 \n",
      " 1   document  149995 non-null  object\n",
      " 2   label     150000 non-null  int64 \n",
      "dtypes: int64(2), object(1)\n",
      "memory usage: 3.4+ MB\n"
     ]
    }
   ],
   "source": [
    "train_data.info() "
   ]
  },
  {
   "cell_type": "code",
   "execution_count": 5,
   "id": "636546ba",
   "metadata": {
    "scrolled": true
   },
   "outputs": [
    {
     "data": {
      "text/html": [
       "<div>\n",
       "<style scoped>\n",
       "    .dataframe tbody tr th:only-of-type {\n",
       "        vertical-align: middle;\n",
       "    }\n",
       "\n",
       "    .dataframe tbody tr th {\n",
       "        vertical-align: top;\n",
       "    }\n",
       "\n",
       "    .dataframe thead th {\n",
       "        text-align: right;\n",
       "    }\n",
       "</style>\n",
       "<table border=\"1\" class=\"dataframe\">\n",
       "  <thead>\n",
       "    <tr style=\"text-align: right;\">\n",
       "      <th></th>\n",
       "      <th>id</th>\n",
       "      <th>document</th>\n",
       "      <th>label</th>\n",
       "    </tr>\n",
       "  </thead>\n",
       "  <tbody>\n",
       "    <tr>\n",
       "      <th>0</th>\n",
       "      <td>9976970</td>\n",
       "      <td>아 더빙.. 진짜 짜증나네요 목소리</td>\n",
       "      <td>0</td>\n",
       "    </tr>\n",
       "    <tr>\n",
       "      <th>1</th>\n",
       "      <td>3819312</td>\n",
       "      <td>흠...포스터보고 초딩영화줄....오버연기조차 가볍지 않구나</td>\n",
       "      <td>1</td>\n",
       "    </tr>\n",
       "    <tr>\n",
       "      <th>2</th>\n",
       "      <td>10265843</td>\n",
       "      <td>너무재밓었다그래서보는것을추천한다</td>\n",
       "      <td>0</td>\n",
       "    </tr>\n",
       "  </tbody>\n",
       "</table>\n",
       "</div>"
      ],
      "text/plain": [
       "         id                           document  label\n",
       "0   9976970                아 더빙.. 진짜 짜증나네요 목소리      0\n",
       "1   3819312  흠...포스터보고 초딩영화줄....오버연기조차 가볍지 않구나      1\n",
       "2  10265843                  너무재밓었다그래서보는것을추천한다      0"
      ]
     },
     "execution_count": 5,
     "metadata": {},
     "output_type": "execute_result"
    }
   ],
   "source": [
    "train_data.head(3)"
   ]
  },
  {
   "cell_type": "markdown",
   "id": "ee233098",
   "metadata": {},
   "source": [
    "영화리뷰 분석을 위해 document 컬럼 데이터를 중심적으로 살펴보면될것 같다. 타킷 데이터는 label에 들어가있다.\n",
    "데이터 로더 함수 구현전에 train_data및 test_data에서 중복 데이터와 결측치가 없는지 확인해보겠다"
   ]
  },
  {
   "cell_type": "code",
   "execution_count": 6,
   "id": "49c535f5",
   "metadata": {},
   "outputs": [
    {
     "data": {
      "text/plain": [
       "(5, 3)"
      ]
     },
     "execution_count": 6,
     "metadata": {},
     "output_type": "execute_result"
    }
   ],
   "source": [
    "train_data.isna().sum().sum(), test_data.isna().sum().sum()"
   ]
  },
  {
   "cell_type": "code",
   "execution_count": 7,
   "id": "8510626f",
   "metadata": {},
   "outputs": [
    {
     "data": {
      "text/plain": [
       "(3817, 842)"
      ]
     },
     "execution_count": 7,
     "metadata": {},
     "output_type": "execute_result"
    }
   ],
   "source": [
    "train_data.shape[0] - len(train_data['document'].unique()), test_data.shape[0]  - len(test_data['document'].unique())"
   ]
  },
  {
   "cell_type": "markdown",
   "id": "67d3b0b7",
   "metadata": {},
   "source": [
    "결측치가 훈련 데이터 5건, 테스트 3건있으며, 중복데이터는 훈련 데이터 3817건, 테스트 842건 확인되었다. \n",
    "결측치와 중복데이터가 전체데이터에 비해 큰 비중이 아니므로 삭제해서 마지막 데이터셋을 구성해야하겠다.\n",
    "\n",
    "이제 라벨데이터 데이터의 분포를 확인해보겠다.\n"
   ]
  },
  {
   "cell_type": "code",
   "execution_count": 8,
   "id": "bdd23476",
   "metadata": {
    "scrolled": true
   },
   "outputs": [
    {
     "data": {
      "text/plain": [
       "<AxesSubplot:>"
      ]
     },
     "execution_count": 8,
     "metadata": {},
     "output_type": "execute_result"
    },
    {
     "data": {
      "image/png": "[encoded data removed]",
      "text/plain": [
       "<Figure size 432x288 with 1 Axes>"
      ]
     },
     "metadata": {
      "needs_background": "light"
     },
     "output_type": "display_data"
    }
   ],
   "source": [
    "train_data['label'].value_counts().plot(kind='bar')"
   ]
  },
  {
   "cell_type": "markdown",
   "id": "952bf996",
   "metadata": {},
   "source": [
    "긍정(1) 부정(0)의 비율이 균등하게 분포하는 것으로 보인다. 이제 위 데이터로 모델 학습을 위한 데이터셋을 구성하기위해 문장의 토큰화및 인코딩작업을 해보고 데이터 로더함수를 만들어보겠다."
   ]
  },
  {
   "cell_type": "markdown",
   "id": "4877e6d1",
   "metadata": {},
   "source": [
    "### 2.2 데이터 토큰화 및 단어사전(word_to_index) 만들기\n",
    "\n",
    "\n",
    "토큰화및 전처리와 관련해 필요한 라이브러리이다.\n",
    "\n",
    "라이브러리\n",
    "- konlpy : 파이썬 한국어 형태소 분석 패키지, Okt, Komoran, Kkma, Mecab 등 여러가지 형태소 분석기를 포함하고 있다.\n",
    " - Mecab : 일본어용 형태소 분석기를 한국어를 사용할 수 있도록 수정한 것. 속도및 분석성능이 좋다고함.\n",
    "- Counter : 데이터의 개수를 셀 때 유용한 파이썬의 collections 모듈의 클래스\n"
   ]
  },
  {
   "cell_type": "code",
   "execution_count": 9,
   "id": "3592bec2",
   "metadata": {},
   "outputs": [],
   "source": [
    "from konlpy.tag import Mecab\n",
    "from collections import Counter"
   ]
  },
  {
   "cell_type": "markdown",
   "id": "6b2bd840",
   "metadata": {},
   "source": [
    "임의로 아래 두문장에대해서 데이터 전처리 작업을 진행해보겠다."
   ]
  },
  {
   "cell_type": "code",
   "execution_count": 14,
   "id": "3cad2986",
   "metadata": {},
   "outputs": [],
   "source": [
    "sentence = \"괜찮은 음악영화가 또 나왔군요 따뜻한 겨울이 될 것 같아요\"\n",
    "sentence2 = \"아이들 영화로 최고인것 같다! 몬스터 주식회사 영화 3D로 재밌게 봤다 또 보고싶다\""
   ]
  },
  {
   "cell_type": "code",
   "execution_count": 15,
   "id": "a5777505",
   "metadata": {},
   "outputs": [
    {
     "name": "stdout",
     "output_type": "stream",
     "text": [
      "['괜찮', '은', '음악', '영화', '가', '또', '나왔', '군요', '따뜻', '한', '겨울', '이', '될', '것', '같', '아요']\n",
      "['아이', '들', '영화', '로', '최고', '인', '것', '같', '다', '!', '몬스터', '주식회사', '영화', '3', 'D', '로', '재밌', '게', '봤', '다', '또', '보', '고', '싶', '다']\n"
     ]
    }
   ],
   "source": [
    "# 한국어 토크나이저로 토큰화 \n",
    "tokenizer = Mecab()\n",
    "\n",
    "# 토큰화\n",
    "tokenized_sentence = tokenizer.morphs(sentence) \n",
    "tokenized_sentence2 = tokenizer.morphs(sentence2) \n",
    "print(tokenized_sentence)\n",
    "print(tokenized_sentence2)"
   ]
  },
  {
   "cell_type": "code",
   "execution_count": 17,
   "id": "4621afc3",
   "metadata": {},
   "outputs": [
    {
     "name": "stdout",
     "output_type": "stream",
     "text": [
      "['괜찮', '음악', '영화', '또', '나왔', '군요', '따뜻', '겨울', '될', '것', '같', '아요']\n",
      "['아이', '영화', '로', '최고', '인', '것', '같', '다', '!', '몬스터', '주식회사', '영화', '3', 'D', '로', '재밌', '게', '봤', '다', '또', '보', '고', '싶', '다']\n"
     ]
    }
   ],
   "source": [
    "#토큰화된 문장에서 불용어(Stopwords) 제거\n",
    "stopwords = ['의','가','이','은','들','는','좀','잘','걍','과','도','를','으로','자','에','와','한','하다']\n",
    "stopwords_removed_sentence = [word for word in tokenized_sentence if not word in stopwords] # 불용어 제거\n",
    "stopwords_removed_sentence2 = [word for word in tokenized_sentence2 if not word in stopwords] # 불용어 제거\n",
    "print(stopwords_removed_sentence)        \n",
    "print(stopwords_removed_sentence2)    "
   ]
  },
  {
   "cell_type": "markdown",
   "id": "b663904c",
   "metadata": {},
   "source": [
    "불용어가 제거되었는지 확인해보자"
   ]
  },
  {
   "cell_type": "code",
   "execution_count": 18,
   "id": "7ce22eae",
   "metadata": {},
   "outputs": [
    {
     "data": {
      "text/plain": [
       "['괜찮', '음악', '영화', '또', '나왔', '군요', '따뜻', '겨울', '될', '것', '같', '아요']"
      ]
     },
     "execution_count": 18,
     "metadata": {},
     "output_type": "execute_result"
    }
   ],
   "source": [
    "stopwords_removed_sentence"
   ]
  },
  {
   "cell_type": "markdown",
   "id": "84d3548a",
   "metadata": {},
   "source": [
    "토큰화된 단어들에서 은, 가, 들등의 불용어가 제거된 모습이다. 이 단어들중 사용 빈도수가 높은 단어로 word_to_index 를 구성하겠다."
   ]
  },
  {
   "cell_type": "code",
   "execution_count": 20,
   "id": "76ce52e5",
   "metadata": {},
   "outputs": [
    {
     "data": {
      "text/plain": [
       "36"
      ]
     },
     "execution_count": 20,
     "metadata": {},
     "output_type": "execute_result"
    }
   ],
   "source": [
    "#두개의 문장으로 단어별 사전인덱스를 만들것이다.\n",
    "review_list = [stopwords_removed_sentence, stopwords_removed_sentence2]\n",
    "#데이터셋의 모든 문장을 붙인후 단어를 추출\n",
    "words = np.concatenate(review_list).tolist()\n",
    "len(words)    "
   ]
  },
  {
   "cell_type": "code",
   "execution_count": 21,
   "id": "db829a32",
   "metadata": {
    "scrolled": true
   },
   "outputs": [
    {
     "data": {
      "text/plain": [
       "{'<PAD>': 0,\n",
       " '<BOS>': 1,\n",
       " '<EOS>': 2,\n",
       " '<UNK>': 3,\n",
       " '영화': 4,\n",
       " '다': 5,\n",
       " '또': 6,\n",
       " '것': 7,\n",
       " '같': 8,\n",
       " '로': 9,\n",
       " '괜찮': 10,\n",
       " '음악': 11,\n",
       " '나왔': 12,\n",
       " '군요': 13,\n",
       " '따뜻': 14,\n",
       " '겨울': 15,\n",
       " '될': 16,\n",
       " '아요': 17,\n",
       " '아이': 18,\n",
       " '최고': 19,\n",
       " '인': 20,\n",
       " '!': 21,\n",
       " '몬스터': 22,\n",
       " '주식회사': 23,\n",
       " '3': 24,\n",
       " 'D': 25,\n",
       " '재밌': 26,\n",
       " '게': 27,\n",
       " '봤': 28,\n",
       " '보': 29}"
      ]
     },
     "execution_count": 21,
     "metadata": {},
     "output_type": "execute_result"
    }
   ],
   "source": [
    "#36개의 단어들중 빈도수가 많은 단어만 뽑겠다. - 상위 26개\n",
    "counter = Counter(words)\n",
    "counter = counter.most_common(30-4) #4개 : 특수토큰이다. 4개를제외한 빈도수가 높은 단어 26개를 포함시킨다.\n",
    "vocab = ['<PAD>', '<BOS>', '<EOS>', '<UNK>'] + [key for key, _ in counter] #특수토큰\n",
    "\n",
    "#단어들에 인덱스를 부여\n",
    "word_to_index = {word:index for index, word in enumerate(vocab)}\n",
    "word_to_index"
   ]
  },
  {
   "cell_type": "markdown",
   "id": "9db8af06",
   "metadata": {},
   "source": [
    "상위 30개 단어가 숫자와 매칭된 단어사전(word_to_index)이 만들어졌다.\n",
    "리뷰 문장을 위에서 만든 사전의 단어와 매칭이되는 인덱스로 변경하겠다."
   ]
  },
  {
   "cell_type": "code",
   "execution_count": 23,
   "id": "3cbd87df",
   "metadata": {},
   "outputs": [
    {
     "data": {
      "text/plain": [
       "[10, 11, 4, 6, 12, 13, 14, 15, 16, 7, 8, 17]"
      ]
     },
     "execution_count": 23,
     "metadata": {},
     "output_type": "execute_result"
    }
   ],
   "source": [
    "# 인덱스 스트링으로 변환 : word_to_index에 없는 단어에는 <UNK> 토큰을 설정한다.\n",
    "def wordlist_to_indexlist(wordlist):\n",
    "    return [word_to_index[word] if word in word_to_index else word_to_index['<UNK>'] for word in wordlist]\n",
    "\n",
    "index_review = list(map(wordlist_to_indexlist, review_list))\n",
    "index_review[0]"
   ]
  },
  {
   "cell_type": "markdown",
   "id": "97f0101d",
   "metadata": {},
   "source": [
    "### 텍스트 분석을 위한 인코더, 디코더 함수\n",
    "인덱스 스트링(숫자 벡터로 encode된 문장)을 원래문장으로 decode해보자.\n",
    "아래는 인코딩, 디코딩 관련 함수들이다."
   ]
  },
  {
   "cell_type": "code",
   "execution_count": 10,
   "id": "d73d2d51",
   "metadata": {},
   "outputs": [],
   "source": [
    "# 문장 1개를 활용할 딕셔너리와 함께 주면, 단어 인덱스 리스트 벡터로 변환해 주는 함수입니다. \n",
    "# 단, 모든 문장은 <BOS>로 시작하는 것으로 합니다. \n",
    "def get_encoded_sentence(sentence, word_to_index):\n",
    "    return [word_to_index['<BOS>']]+[word_to_index[word] if word in word_to_index else word_to_index['<UNK>'] for word in sentence.split()]\n",
    "\n",
    "# 여러 개의 문장 리스트를 한꺼번에 단어 인덱스 리스트 벡터로 encode해 주는 함수입니다. \n",
    "def get_encoded_sentences(sentences, word_to_index):\n",
    "    return [get_encoded_sentence(sentence, word_to_index) for sentence in sentences]\n",
    "\n",
    "# 숫자 벡터로 encode된 문장을 원래대로 decode하는 함수입니다. \n",
    "def get_decoded_sentence(encoded_sentence, index_to_word):\n",
    "    return ' '.join(index_to_word[index] if index in index_to_word else '<UNK>' for index in encoded_sentence[1:])  #[1:]를 통해 <BOS>를 제외\n",
    "\n",
    "# 여러 개의 숫자 벡터로 encode된 문장을 한꺼번에 원래대로 decode하는 함수입니다. \n",
    "def get_decoded_sentences(encoded_sentences, index_to_word):\n",
    "    return [get_decoded_sentence(encoded_sentence, index_to_word) for encoded_sentence in encoded_sentences]"
   ]
  },
  {
   "cell_type": "code",
   "execution_count": 26,
   "id": "5968f7dd",
   "metadata": {},
   "outputs": [
    {
     "data": {
      "text/plain": [
       "'음악 영화 또 나왔 군요 따뜻 겨울 될 것 같 아요'"
      ]
     },
     "execution_count": 26,
     "metadata": {},
     "output_type": "execute_result"
    }
   ],
   "source": [
    "index_to_word = {index:word for word, index in word_to_index.items()}\n",
    "\n",
    "decoded_sentence = get_decoded_sentence([10, 11, 4, 6, 12, 13, 14, 15, 16, 7, 8, 17], index_to_word)\n",
    "decoded_sentence"
   ]
  },
  {
   "cell_type": "markdown",
   "id": "22c27e56",
   "metadata": {},
   "source": [
    "빈도수가 작은 단어나 불용어가 제거되었지만 문장복원이 잘되는 모습이다. 이제 위에서 진행된 사항을 반영해서 네이버 리뷰문장을 전처리해주어 데이터셋을 구성하는 함수를 만들어보겠다."
   ]
  },
  {
   "cell_type": "markdown",
   "id": "e7254a3f",
   "metadata": {},
   "source": [
    "### 2.3 load_data 함수 \n",
    "\n",
    "텍스트를 가공하여 숫자 인덱스로 변환된 텍스트와 word_to_index 딕셔너리 리턴하는 함수이다. \n",
    "\n",
    "- 데이터의 중복 제거\n",
    "\n",
    "- NaN 결측치 제거\n",
    "\n",
    "- 한국어 토크나이저로 토큰화\n",
    "\n",
    "- 불용어(Stopwords) 제거\n",
    " - 불용어 : 언어를 분석할 때 의미가 없는 단어나 조사 등을 말함.\n",
    " - Mecab.morphs() : 문장을 형태소 단위로 나누어줍니다\n",
    "\n",
    "- 사전word_to_index 구성 : 사용빈도수가 높은 최상위 1만개단어\n",
    "\n",
    "- 텍스트 스트링을 사전 인덱스 스트링으로 변환\n",
    "\n",
    "- X_train, y_train, X_test, y_test, word_to_index 리턴"
   ]
  },
  {
   "cell_type": "code",
   "execution_count": 11,
   "id": "0ad9fdde",
   "metadata": {},
   "outputs": [],
   "source": [
    "tokenizer = Mecab()\n",
    "stopwords = ['의','가','이','은','들','는','좀','잘','걍','과','도','를','으로','자','에','와','한','하다']\n",
    "\n",
    "def load_data(train_data, test_data, num_words=10000):\n",
    "    # 데이터의 중복 제거\n",
    "    train_data.drop_duplicates(subset=['document'], inplace=True)\n",
    "    test_data.drop_duplicates(subset=['document'], inplace=True)\n",
    "    \n",
    "    # NaN 결측치 제거\n",
    "    train_data = train_data.dropna(how = 'any') \n",
    "    test_data = test_data.dropna(how = 'any')     \n",
    "    \n",
    "    # 한국어 토크나이저로 토큰화 및 불용어(Stopwords) 제거\n",
    "    X_train = []\n",
    "    for sentence in train_data['document']:\n",
    "        temp_X = tokenizer.morphs(sentence) # 토큰화\n",
    "        temp_X = [word for word in temp_X if not word in stopwords] # 불용어 제거\n",
    "        X_train.append(temp_X)    \n",
    "    X_test = []\n",
    "    for sentence in test_data['document']:\n",
    "        temp_X = tokenizer.morphs(sentence) # 토큰화\n",
    "        temp_X = [word for word in temp_X if not word in stopwords] # 불용어 제거\n",
    "        X_test.append(temp_X)\n",
    "   \n",
    "    # 사전word_to_index 구성\n",
    "    words = np.concatenate(X_train).tolist()\n",
    "    counter = Counter(words)\n",
    "    counter = counter.most_common(10000-4)  #사용빈도수가 높은 최상위 1만개단어 - 4개는 특수토큰\n",
    "    vocab = ['<PAD>', '<BOS>', '<EOS>', '<UNK>'] + [key for key, _ in counter] #특수토큰\n",
    "    word_to_index = {word:index for index, word in enumerate(vocab)}\n",
    "    \n",
    "    # 텍스트 스트링을 사전 인덱스 스트링으로 변환\n",
    "    def wordlist_to_indexlist(wordlist):\n",
    "        return [word_to_index[word] if word in word_to_index else word_to_index['<UNK>'] for word in wordlist]\n",
    "        \n",
    "    X_train = list(map(wordlist_to_indexlist, X_train))\n",
    "    X_test = list(map(wordlist_to_indexlist, X_test))\n",
    "        \n",
    "    return X_train, np.array(list(train_data['label'])), X_test, np.array(list(test_data['label'])), word_to_index\n",
    "    \n",
    "X_train, y_train, X_test, y_test, word_to_index = load_data(train_data, test_data)"
   ]
  },
  {
   "cell_type": "code",
   "execution_count": 12,
   "id": "2e95ffc1",
   "metadata": {},
   "outputs": [
    {
     "data": {
      "text/plain": [
       "[[32, 74, 919, 4, 4, 39, 228, 20, 33, 748],\n",
       " [1028, 4, 11, 519, 549, 687, 5, 120, 4, 70, 1639, 52, 925, 1006, 15, 44, 391],\n",
       " [24, 205, 3]]"
      ]
     },
     "execution_count": 12,
     "metadata": {},
     "output_type": "execute_result"
    }
   ],
   "source": [
    "X_train[:3]"
   ]
  },
  {
   "cell_type": "markdown",
   "id": "e3870d8b",
   "metadata": {},
   "source": [
    "데이터 로더에 의해 불러온 훈련데이터셋중 3문장만 출력해보았다. 위 3 문장이 포함한 단어의 수가(아래에서 문장의 길이로 통칭) 모두 다르다. 이부분도 전처리가 필요하다."
   ]
  },
  {
   "cell_type": "markdown",
   "id": "3ef5a71d",
   "metadata": {},
   "source": [
    "### 2.4 모델 구성을 위한 데이터 분석 및 가공\n",
    "훈련 데이터 15만건, 테스트 데이터 5만건에 존재하는 문장의 길이가 다르다. 모델에 학습될 데이터는 같은 길이로 넣어주어야 하기때문에 전처리를 해주어야한다. 전체 데이터셋의 문장길이 분포를 알아보고 적절한 최대 문장길이를 설정해보겠다.\n",
    "\n",
    "- 데이터셋 내 문장 길이 분포\n",
    "- 적절한 최대 문장 길이 지정\n",
    "- keras.preprocessing.sequence.pad_sequences 을 활용한 패딩 추가"
   ]
  },
  {
   "cell_type": "code",
   "execution_count": 13,
   "id": "16527344",
   "metadata": {},
   "outputs": [],
   "source": [
    "index_to_word = {index:word for word, index in word_to_index.items()}"
   ]
  },
  {
   "cell_type": "markdown",
   "id": "14c19b2b",
   "metadata": {},
   "source": [
    "### 2.4 - 1 데이터셋 내 문장 길이 분포"
   ]
  },
  {
   "cell_type": "code",
   "execution_count": 14,
   "id": "234a8bce",
   "metadata": {},
   "outputs": [
    {
     "name": "stdout",
     "output_type": "stream",
     "text": [
      "가장 많은 단어를 포함한 문장의 길이: 116\n",
      "문장의 평균 단어수: 15.98170773419436\n"
     ]
    }
   ],
   "source": [
    "print(\"가장 많은 단어를 포함한 문장의 길이:\",  max(len(sentence) for sentence in X_train))\n",
    "print('문장의 평균 단어수:', sum(map(len, X_train))/len(X_train))"
   ]
  },
  {
   "cell_type": "markdown",
   "id": "329d377c",
   "metadata": {},
   "source": [
    "데이터셋 내에 존재하는 문장 길이에 대한 분포를 시각해보자. 리뷰의 평균길이는 16정도 되고 길이가 100이 넘는 경우도 있다.  "
   ]
  },
  {
   "cell_type": "code",
   "execution_count": 15,
   "id": "5c6ffee5",
   "metadata": {
    "scrolled": true
   },
   "outputs": [
    {
     "data": {
      "image/png": "[encoded data removed]",
      "text/plain": [
       "<Figure size 432x288 with 1 Axes>"
      ]
     },
     "metadata": {
      "needs_background": "light"
     },
     "output_type": "display_data"
    }
   ],
   "source": [
    "plt.hist([len(review) for review in X_train], bins=50)\n",
    "plt.xlabel('length of samples')\n",
    "plt.ylabel('number of samples')\n",
    "plt.show()"
   ]
  },
  {
   "cell_type": "markdown",
   "id": "61937463",
   "metadata": {},
   "source": [
    "시각화를 해서보니 문장의 길이가 60이상에 해당하는 리뷰 건수가 적은것같다. 전체에서 60이상인 샘플이 어느정보 인지 살펴보고 최대문장길이를 지정해보도록하겠다"
   ]
  },
  {
   "cell_type": "code",
   "execution_count": 16,
   "id": "37859f16",
   "metadata": {},
   "outputs": [],
   "source": [
    "def below_threshold_len(max_len, nested_list):\n",
    "  count = 0\n",
    "  for sentence in nested_list:\n",
    "    if(len(sentence) <= max_len):\n",
    "        count = count + 1\n",
    "  print('전체 샘플 중 길이가 %s 이하인 샘플의 비율: %s'%(max_len, (count / len(nested_list))*100))"
   ]
  },
  {
   "cell_type": "markdown",
   "id": "79b82bbc",
   "metadata": {},
   "source": [
    "### 2.4 - 2 적절한 최대 문장 길이 지정"
   ]
  },
  {
   "cell_type": "code",
   "execution_count": 17,
   "id": "c6714dd8",
   "metadata": {},
   "outputs": [
    {
     "name": "stdout",
     "output_type": "stream",
     "text": [
      "전체 샘플 중 길이가 60 이하인 샘플의 비율: 98.8343298080475\n",
      "전체 샘플 중 길이가 60 이하인 샘플의 비율: 98.78755823178794\n"
     ]
    }
   ],
   "source": [
    "max_len = 60 \n",
    "below_threshold_len(max_len, X_train)\n",
    "below_threshold_len(max_len, X_test)"
   ]
  },
  {
   "cell_type": "markdown",
   "id": "4c221294",
   "metadata": {},
   "source": [
    "리뷰의 길이가 60이하인 데이터셋의 비율이 98%이상이 되기때문에 훈련에 문제가 없을것 같다. 60을 최대문장 길이로 지정하고 60이하인 문장에 대해서는 앞쪽으로 패딩을 넣어주도록하겠다. "
   ]
  },
  {
   "cell_type": "markdown",
   "id": "7c42b318",
   "metadata": {},
   "source": [
    "### 2.4 - 3 keras.preprocessing.sequence.pad_sequences 을 활용한 패딩 추가\n",
    "\n",
    "Tensorflow의 pad_sequences \n",
    "- 문장 벡터에 패딩을 추가하여 길이를 일정하게 맞춰준다.\n",
    "- padding 방식 \n",
    " - post : 문장 뒤쪽에 패딩을 추가\n",
    " - pre : 문장 앞쪽에 패딩을 추가\n",
    " \n",
    "RNN의 학습구조상 입력데이터가 순차적으로 처리되어, 가장 마지막 입력이 최종 state 값에 가장 영향을 많이 미치므로 마지막 데이터가 유의미할수록 성능이 10% 이상 좋다고 한다. 따라서 pre옵션을 선택하는것이 좋을 것 같다."
   ]
  },
  {
   "cell_type": "code",
   "execution_count": 18,
   "id": "d281a4f1",
   "metadata": {},
   "outputs": [],
   "source": [
    "from tensorflow.keras.preprocessing.sequence import pad_sequences\n",
    "\n",
    "max_len = 60\n",
    "X_train = pad_sequences(X_train, padding='pre', maxlen=max_len)\n",
    "X_test = pad_sequences(X_test, padding='pre', maxlen=max_len)"
   ]
  },
  {
   "cell_type": "code",
   "execution_count": 40,
   "id": "a4c49395",
   "metadata": {
    "scrolled": true
   },
   "outputs": [
    {
     "data": {
      "text/plain": [
       "array([   0,    0,    0,    0,    0,    0,    0,    0,    0,    0,    0,\n",
       "          0,    0,    0,    0,    0,    0,    0,    0,    0,    0,    0,\n",
       "          0,    0,    0,    0,    0,    0,    0,    0,    0,    0,    0,\n",
       "          0,    0,    0,    0,    0,    0,    0,    0,    0,    0, 1028,\n",
       "          4,   11,  519,  549,  687,    5,  120,    4,   70, 1639,   52,\n",
       "        925, 1006,   15,   44,  391], dtype=int32)"
      ]
     },
     "execution_count": 40,
     "metadata": {},
     "output_type": "execute_result"
    }
   ],
   "source": [
    "X_train[1]"
   ]
  },
  {
   "cell_type": "code",
   "execution_count": 41,
   "id": "de440fd0",
   "metadata": {},
   "outputs": [
    {
     "data": {
      "text/plain": [
       "60"
      ]
     },
     "execution_count": 41,
     "metadata": {},
     "output_type": "execute_result"
    }
   ],
   "source": [
    "len(X_train[1])"
   ]
  },
  {
   "cell_type": "code",
   "execution_count": 19,
   "id": "b8ee415e",
   "metadata": {},
   "outputs": [
    {
     "data": {
      "text/plain": [
       "'<PAD> <PAD> <PAD> <PAD> <PAD> <PAD> <PAD> <PAD> <PAD> <PAD> <PAD> <PAD> <PAD> <PAD> <PAD> <PAD> <PAD> <PAD> <PAD> <PAD> <PAD> <PAD> <PAD> <PAD> <PAD> <PAD> <PAD> <PAD> <PAD> <PAD> <PAD> <PAD> <PAD> <PAD> <PAD> <PAD> <PAD> <PAD> <PAD> <PAD> <PAD> <PAD> 흠 . .. 포스터 보고 초딩 영화 줄 . ... 오버 연기 조차 가볍 지 않 구나'"
      ]
     },
     "execution_count": 19,
     "metadata": {},
     "output_type": "execute_result"
    }
   ],
   "source": [
    "get_decoded_sentence(X_train[1],  index_to_word)"
   ]
  },
  {
   "cell_type": "markdown",
   "id": "3dda4248",
   "metadata": {},
   "source": [
    "리뷰의 문장길이가 60이고 문장의 앞쪽에 패딩이 들어간것이 확인되었다. 인코딩 문장을 디코딩했을때 복원도 잘되는 모습이다. 이제 이 데이터로 모델학습을 시켜보겠다."
   ]
  },
  {
   "cell_type": "markdown",
   "id": "78c8bc07",
   "metadata": {},
   "source": [
    "# 3. 모델 구성 및 validation set 구성\n",
    "이번 프로젝트에서는 3가지 모델을 통해 리뷰를 분석하고 긍정부정을 분류하는 예측을 진행해보려한다.\n"
   ]
  },
  {
   "cell_type": "code",
   "execution_count": 20,
   "id": "530002c4",
   "metadata": {},
   "outputs": [
    {
     "data": {
      "text/plain": [
       "10000"
      ]
     },
     "execution_count": 20,
     "metadata": {},
     "output_type": "execute_result"
    }
   ],
   "source": [
    "import os \n",
    "import tensorflow as tf\n",
    "from tensorflow import keras\n",
    "\n",
    "embedding_dim = 200\n",
    "vocab_size = len(index_to_word)  # 어휘 사전의 크기입니다(10000개의 단어)\n",
    "vocab_size"
   ]
  },
  {
   "cell_type": "markdown",
   "id": "74fa8dda",
   "metadata": {},
   "source": [
    "### 3.1 SimpleRNN 모델\n",
    "RNN에 대한 기본적인 아이디어는 순차적인 정보를 처리한다는 데 있다.\n",
    "이론적으로 RNN은 임의의 길이의 시퀀스 정보를 처리할 수 있지만, 실제로는 비교적 짧은 시퀀스만 효과적으로 처리할 수 있다\n",
    "\n",
    "Embedding 레이어 \n",
    " - 의미 벡터 공간에서 단어의 추상적 표현하기위해 1차원입력정보를 2차원으로 변경한다.\n",
    " - vocab_size : 단어사전 사이즈\n",
    " - embedding_dim: 토큰화된 단어를 지정된 차원의 벡터로 표현\n",
    " \n",
    "SimpleRNN 레이어   \n",
    " - hidden_size : 128\n",
    " - 데이터를 이해하는 은닉층의 노드의 수\n",
    " \n",
    "Dense 레이어 \n",
    " - SimpleRNN 출력인 은닉상태 128개 값을 8개로 줄인다.\n",
    " - 최종 출력은 긍정/부정을 나타내는 1차원 값이다."
   ]
  },
  {
   "cell_type": "code",
   "execution_count": 89,
   "id": "e0bbf3f6",
   "metadata": {
    "scrolled": false
   },
   "outputs": [
    {
     "name": "stdout",
     "output_type": "stream",
     "text": [
      "Epoch 1/5\n",
      "3655/3655 [==============================] - 178s 49ms/step - loss: 0.4497 - accuracy: 0.7886 - val_loss: 0.3882 - val_accuracy: 0.8286\n",
      "Epoch 2/5\n",
      "3655/3655 [==============================] - 176s 48ms/step - loss: 0.4094 - accuracy: 0.8201 - val_loss: 0.4277 - val_accuracy: 0.8146\n",
      "Epoch 3/5\n",
      "3655/3655 [==============================] - 177s 48ms/step - loss: 0.3728 - accuracy: 0.8412 - val_loss: 0.4308 - val_accuracy: 0.8106\n",
      "Epoch 4/5\n",
      "3655/3655 [==============================] - 176s 48ms/step - loss: 0.3869 - accuracy: 0.8352 - val_loss: 0.3952 - val_accuracy: 0.8317\n",
      "Epoch 5/5\n",
      "3655/3655 [==============================] - 176s 48ms/step - loss: 0.3556 - accuracy: 0.8493 - val_loss: 0.3853 - val_accuracy: 0.8341\n"
     ]
    }
   ],
   "source": [
    "rnn_model = keras.Sequential()\n",
    "rnn_model.add(keras.layers.Embedding(vocab_size, embedding_dim)) #1만개의 단어에 대해 embedding_dim 벡터로 표현\n",
    "rnn_model.add(keras.layers.SimpleRNN(128))\n",
    "rnn_model.add(keras.layers.Dense(8, activation='relu'))\n",
    "rnn_model.add(keras.layers.Dense(1, activation='sigmoid'))\n",
    "\n",
    "rnn_model.compile(optimizer='adam', \n",
    "              loss='binary_crossentropy', #이전분류를 위한 손실함수\n",
    "              metrics=['accuracy'])\n",
    "rnn_history = rnn_model.fit(X_train, y_train, epochs=5,  validation_split=0.2)"
   ]
  },
  {
   "cell_type": "markdown",
   "id": "b3825fc1",
   "metadata": {},
   "source": [
    "### 3.2 LSTM 모델\n",
    "\n",
    "LSTM(Long Short-Term Memory, LSTM) : RNN 구조에 비해 더 긴 시퀀스를 효과적으로 잘 기억한다. LSTM에서는 RNN의 뉴런 대신에 메모리 셀이라고 불리는 구조를 사용해 긴 시퀀스를 기억하는데 매우 효과적이다.\n"
   ]
  },
  {
   "cell_type": "code",
   "execution_count": 91,
   "id": "0aedb508",
   "metadata": {},
   "outputs": [
    {
     "name": "stdout",
     "output_type": "stream",
     "text": [
      "Epoch 1/5\n",
      "3655/3655 [==============================] - 25s 7ms/step - loss: 0.3636 - accuracy: 0.8374 - val_loss: 0.3131 - val_accuracy: 0.8651\n",
      "Epoch 2/5\n",
      "3655/3655 [==============================] - 23s 6ms/step - loss: 0.2769 - accuracy: 0.8822 - val_loss: 0.3039 - val_accuracy: 0.8703\n",
      "Epoch 3/5\n",
      "3655/3655 [==============================] - 24s 6ms/step - loss: 0.2292 - accuracy: 0.9055 - val_loss: 0.3225 - val_accuracy: 0.8675\n",
      "Epoch 4/5\n",
      "3655/3655 [==============================] - 24s 6ms/step - loss: 0.1855 - accuracy: 0.9251 - val_loss: 0.3566 - val_accuracy: 0.8651\n",
      "Epoch 5/5\n",
      "3655/3655 [==============================] - 23s 6ms/step - loss: 0.1455 - accuracy: 0.9415 - val_loss: 0.3956 - val_accuracy: 0.8621\n"
     ]
    }
   ],
   "source": [
    "lstm_model = keras.Sequential()\n",
    "lstm_model.add(keras.layers.Embedding(vocab_size, embedding_dim))\n",
    "lstm_model.add(keras.layers.LSTM(128))\n",
    "lstm_model.add(keras.layers.Dense(8, activation='relu'))\n",
    "lstm_model.add(keras.layers.Dense(1, activation='sigmoid'))\n",
    "\n",
    "lstm_model.compile(optimizer='adam',\n",
    "              loss='binary_crossentropy',\n",
    "              metrics=['accuracy'])\n",
    "\n",
    "lstm_history = lstm_model.fit(X_train, y_train, epochs=5,  validation_split=0.2)"
   ]
  },
  {
   "cell_type": "markdown",
   "id": "8ac39608",
   "metadata": {},
   "source": [
    "### 3.3 Gru모델 \n",
    "GRU (Gated Recurrent Unit) : 대부분 LSTM과 비슷한 성질을 갖지만 더 간단한 구조를 갖고 있다.  파라미터 수가 적어서 학습 시간이 더 짧게 걸리고 보다 적은 데이터로도 학습이 가능하다."
   ]
  },
  {
   "cell_type": "code",
   "execution_count": 93,
   "id": "ae349542",
   "metadata": {},
   "outputs": [
    {
     "name": "stdout",
     "output_type": "stream",
     "text": [
      "Epoch 1/5\n",
      "3655/3655 [==============================] - 24s 6ms/step - loss: 0.3596 - accuracy: 0.8391 - val_loss: 0.3148 - val_accuracy: 0.8655\n",
      "Epoch 2/5\n",
      "3655/3655 [==============================] - 22s 6ms/step - loss: 0.2753 - accuracy: 0.8840 - val_loss: 0.3097 - val_accuracy: 0.8697\n",
      "Epoch 3/5\n",
      "3655/3655 [==============================] - 22s 6ms/step - loss: 0.2284 - accuracy: 0.9061 - val_loss: 0.3190 - val_accuracy: 0.8680\n",
      "Epoch 4/5\n",
      "3655/3655 [==============================] - 22s 6ms/step - loss: 0.1833 - accuracy: 0.9265 - val_loss: 0.3504 - val_accuracy: 0.8647\n",
      "Epoch 5/5\n",
      "3655/3655 [==============================] - 22s 6ms/step - loss: 0.1425 - accuracy: 0.9426 - val_loss: 0.4171 - val_accuracy: 0.8574\n"
     ]
    }
   ],
   "source": [
    "gru_model = keras.Sequential()\n",
    "gru_model.add(keras.layers.Embedding(vocab_size, embedding_dim))\n",
    "gru_model.add(keras.layers.GRU(128))\n",
    "gru_model.add(keras.layers.Dense(8, activation='relu'))\n",
    "gru_model.add(keras.layers.Dense(1, activation='sigmoid'))\n",
    "\n",
    "gru_model.compile(optimizer='adam',\n",
    "              loss='binary_crossentropy',\n",
    "              metrics=['accuracy'])\n",
    "\n",
    "gru_history = gru_model.fit(X_train, y_train, epochs=5,  validation_split=0.2)"
   ]
  },
  {
   "cell_type": "markdown",
   "id": "c1f45222",
   "metadata": {},
   "source": [
    "### 3.4 합성곱 모델\n",
    "RNN이 단어의 입력 순서를 중요하게 반영한다면 CNN은 문장의 지역정보를 보존하면서 각 문장 성분의 등장 정보를 학습에 반영하는 구조이다.\n",
    "\n",
    "\n",
    "Conv1D(16, 10, activation='relu') 레이어 \n",
    "- filter : 커널의 개수\n",
    "- kernel_size : 커널의 크기, 문장의 10개(0~9번째) 단어에 대해 합성곱 연산을하며 다음스탭에 10개단어(1~10번째)도 동일한 연산을 계속적으로 반복한다.\n",
    "- 1-D CNN은 문장 전체를 한꺼번에 한 방향으로 길이 10개로 필터로 스캐닝한다. \n",
    "- 10단어 이내에서 발견되는 특징을 추출하여 그것으로 문장을 분류하는 방식으로 사용된다.\n",
    "\n",
    "MaxPooling1D 레이어\n",
    "- 각 합성곱 연산으로부터 얻은 결과 벡터에서 가장 큰 값을 가진 스칼라 값을 빼내는 연산\n",
    "\n",
    "CNN 계열의 장점\n",
    "- RNN 계열보다 병렬처리가 효율적이기 때문에 학습 속도도 훨씬 빠르게 진행된다는 장점이 있다."
   ]
  },
  {
   "cell_type": "code",
   "execution_count": 21,
   "id": "ac9ccd62",
   "metadata": {},
   "outputs": [
    {
     "name": "stdout",
     "output_type": "stream",
     "text": [
      "Epoch 1/5\n",
      "3655/3655 [==============================] - 21s 5ms/step - loss: 0.3962 - accuracy: 0.8111 - val_loss: 0.3414 - val_accuracy: 0.8497\n",
      "Epoch 2/5\n",
      "3655/3655 [==============================] - 17s 5ms/step - loss: 0.2793 - accuracy: 0.8813 - val_loss: 0.3592 - val_accuracy: 0.8477\n",
      "Epoch 3/5\n",
      "3655/3655 [==============================] - 17s 5ms/step - loss: 0.1941 - accuracy: 0.9224 - val_loss: 0.3907 - val_accuracy: 0.8435\n",
      "Epoch 4/5\n",
      "3655/3655 [==============================] - 18s 5ms/step - loss: 0.1281 - accuracy: 0.9509 - val_loss: 0.4834 - val_accuracy: 0.8390\n",
      "Epoch 5/5\n",
      "3655/3655 [==============================] - 17s 5ms/step - loss: 0.0951 - accuracy: 0.9638 - val_loss: 0.5785 - val_accuracy: 0.8384\n"
     ]
    }
   ],
   "source": [
    "cnn_model = tf.keras.Sequential()\n",
    "cnn_model.add(tf.keras.layers.Embedding(vocab_size, embedding_dim, input_shape=(None,)))\n",
    "cnn_model.add(tf.keras.layers.Conv1D(16, 10, activation='relu'))\n",
    "cnn_model.add(tf.keras.layers.MaxPooling1D(5))\n",
    "cnn_model.add(tf.keras.layers.Conv1D(16, 10, activation='relu'))\n",
    "cnn_model.add(tf.keras.layers.GlobalMaxPooling1D())\n",
    "cnn_model.add(tf.keras.layers.Dense(8, activation='relu'))\n",
    "cnn_model.add(tf.keras.layers.Dense(1, activation='sigmoid')) \n",
    "\n",
    "cnn_model.compile(optimizer='adam',\n",
    "              loss='binary_crossentropy',\n",
    "              metrics=['accuracy'])\n",
    "\n",
    "cnn_history = cnn_model.fit(X_train, y_train, epochs=5,  validation_split=0.2)"
   ]
  },
  {
   "cell_type": "markdown",
   "id": "4e6568c2",
   "metadata": {},
   "source": [
    "# 4. Loss, Accuracy 그래프 시각화\n",
    "\n",
    "Loss, Accuracy 함께 출력하는 함수를 만들어보자."
   ]
  },
  {
   "cell_type": "code",
   "execution_count": 45,
   "id": "763c763e",
   "metadata": {},
   "outputs": [],
   "source": [
    "import matplotlib.pyplot as plt\n",
    "\n",
    "def show_history(history):\n",
    "    plt.figure(1, figsize=(10,4))\n",
    "    plt.subplots_adjust(wspace=0.5)\n",
    "    \n",
    "    #loss 그래프\n",
    "    plt.subplot(1,2,1)\n",
    "    plt.plot(history.history['loss'])\n",
    "    plt.plot(history.history['val_loss'])\n",
    "    plt.xlabel('epoch')\n",
    "    plt.ylabel('loss')\n",
    "    plt.legend(['train', 'val'])\n",
    "    \n",
    "    #accuracy 그래프\n",
    "    plt.subplot(1,2,2)\n",
    "    plt.plot(history.history['accuracy'])\n",
    "    plt.plot(history.history['val_accuracy'])\n",
    "    plt.xlabel('epoch')\n",
    "    plt.ylabel('accuracy')\n",
    "    plt.legend(['train', 'val'])\n",
    "\n",
    "    plt.show()\n",
    "    "
   ]
  },
  {
   "cell_type": "markdown",
   "id": "57a074fa",
   "metadata": {},
   "source": [
    "각 모델별 성능을 확인해보겠다."
   ]
  },
  {
   "cell_type": "code",
   "execution_count": 96,
   "id": "286d5be7",
   "metadata": {
    "scrolled": true
   },
   "outputs": [
    {
     "data": {
      "image/png": "[encoded data removed]",
      "text/plain": [
       "<Figure size 720x288 with 2 Axes>"
      ]
     },
     "metadata": {
      "needs_background": "light"
     },
     "output_type": "display_data"
    }
   ],
   "source": [
    "show_history(rnn_history)"
   ]
  },
  {
   "cell_type": "markdown",
   "id": "7878b56a",
   "metadata": {},
   "source": [
    "SimpleRNN만을 사용해서 검증점수가 83점정도로 괜찮은 성능이 나왔다. SimpleRNN의 경우  전체 시퀀스가 아니라 순서대로 입력된 단어만 사용해 학습을해서 긴 시퀀스를 학습하는것이 어렵다고 한다. 이론적으로 SimpleRNN셀은 이전의 모든 타임스텝의 정보를 유지할 수 있지만 그래디언트 소실 등의 문제로 피드포워드 네트워크에 층을 많이 추가할수록 훈련성과가 좋지않다고 한다. \n",
    "\n",
    "하지만 감정분류문제는 간단하게 어떤 단어가 자주등장하는지 확인하면되기때문인지  SimpleRNN 모델만으로도 분류가 잘되는것 같다. "
   ]
  },
  {
   "cell_type": "code",
   "execution_count": 97,
   "id": "24946088",
   "metadata": {
    "scrolled": false
   },
   "outputs": [
    {
     "data": {
      "image/png": "[encoded data removed]",
      "text/plain": [
       "<Figure size 720x288 with 2 Axes>"
      ]
     },
     "metadata": {
      "needs_background": "light"
     },
     "output_type": "display_data"
    }
   ],
   "source": [
    "show_history(lstm_history)"
   ]
  },
  {
   "cell_type": "markdown",
   "id": "ab2d263a",
   "metadata": {},
   "source": [
    "LSTM 모델의성능은 훈련이 될수록 과적합양상을 보이긴하지만 검증점수가 86점 이상으로 안정적이다. "
   ]
  },
  {
   "cell_type": "code",
   "execution_count": 99,
   "id": "67da9cb0",
   "metadata": {
    "scrolled": true
   },
   "outputs": [
    {
     "data": {
      "image/png": "[encoded data removed]",
      "text/plain": [
       "<Figure size 720x288 with 2 Axes>"
      ]
     },
     "metadata": {
      "needs_background": "light"
     },
     "output_type": "display_data"
    }
   ],
   "source": [
    "show_history(gru_history)"
   ]
  },
  {
   "cell_type": "markdown",
   "id": "7fc85316",
   "metadata": {},
   "source": [
    "GRU모델 역시 LSTM 모델과 비슷한 성능을 보여주고 있다."
   ]
  },
  {
   "cell_type": "code",
   "execution_count": 46,
   "id": "c4b5506c",
   "metadata": {
    "scrolled": true
   },
   "outputs": [
    {
     "data": {
      "image/png": "[encoded data removed]",
      "text/plain": [
       "<Figure size 720x288 with 2 Axes>"
      ]
     },
     "metadata": {
      "needs_background": "light"
     },
     "output_type": "display_data"
    }
   ],
   "source": [
    "show_history(cnn_history)"
   ]
  },
  {
   "cell_type": "markdown",
   "id": "071e0e72",
   "metadata": {},
   "source": [
    "합성곱 레이어를 결합한 모델의 경우 필터사이즈를 7개에서 10개로 늘리니 성능이 75%-> 83%로 향상되었다. "
   ]
  },
  {
   "cell_type": "markdown",
   "id": "aad2238a",
   "metadata": {},
   "source": [
    "# 5. 학습된 Embedding 레이어 분석\n",
    "\n",
    " 감성 분류 모델의 학습이 잘 되었다면, Embedding 레이어에 학습된 우리의 워드 벡터들도 의미 공간상에 유의미한 형태로 학습되었을 것 gensim 라이브러리를 이용하여 확인해보자\n",
    "\n",
    "- gensim : 자연어를 벡터로 변환하는데 필요한 기능을 제공하는 라이브러리\n",
    " - Word2Vec: 단어를 벡터로 변화는 기능으로 단어마다 차례대로 인덱싱을 하여 벡터화 하지 않고, 유사한 단어들을 비슷한 방향과 힘의 벡터를 갖도록 단어를 벡터화 시켜준다.\n",
    " - most_similar: 가장 유사한 단어들을 보여줌 (topn=10 : 비슷한단어 10개)\n",
    " \n",
    " \n",
    "### 위 모델들중  LSTM모델로 임베딩 레이어를 분석해보겠다.\n"
   ]
  },
  {
   "cell_type": "code",
   "execution_count": 129,
   "id": "c6f84002",
   "metadata": {},
   "outputs": [],
   "source": [
    "# 학습한 Embedding 파라미터를 파일에 써서 저장합니다. \n",
    "word2vec_file_path = os.getenv('HOME')+'/aiffel/project/exp06_Movie_Review/data/word2vec_naver.txt'\n",
    "f = open(word2vec_file_path, 'w')\n",
    "f.write('{} {}\\n'.format(vocab_size-4, embedding_dim))  # 몇개의 벡터를 얼마 사이즈로 기재할지 타이틀을 씁니다.\n",
    "\n",
    "# 단어 개수(에서 특수문자 4개는 제외하고)만큼의 워드 벡터를 파일에 기록합니다. \n",
    "vectors = lstm_model.get_weights()[0]\n",
    "for i in range(4,vocab_size):\n",
    "    f.write('{} {}\\n'.format(index_to_word[i], ' '.join(map(str, list(vectors[i, :])))))\n",
    "f.close()"
   ]
  },
  {
   "cell_type": "code",
   "execution_count": 141,
   "id": "e1697f67",
   "metadata": {},
   "outputs": [
    {
     "data": {
      "text/plain": [
       "[('강추', 0.9031942486763),\n",
       " ('완벽', 0.8860867023468018),\n",
       " ('담아낸', 0.8854650855064392),\n",
       " ('정점', 0.8684790730476379),\n",
       " ('재미있', 0.8683465719223022),\n",
       " ('재해석', 0.8670273423194885),\n",
       " ('곽', 0.8622673153877258),\n",
       " ('멋지', 0.8544442653656006),\n",
       " ('잼', 0.8535824418067932),\n",
       " ('걸작', 0.8524869680404663)]"
      ]
     },
     "execution_count": 141,
     "metadata": {},
     "output_type": "execute_result"
    }
   ],
   "source": [
    "from gensim.models.keyedvectors import Word2VecKeyedVectors\n",
    "\n",
    "word_vectors = Word2VecKeyedVectors.load_word2vec_format(word2vec_file_path, binary=False)\n",
    "\n",
    "vectors = word_vectors.similar_by_word('재밌')\n",
    "vectors"
   ]
  },
  {
   "cell_type": "code",
   "execution_count": 139,
   "id": "cfbf8d6e",
   "metadata": {
    "scrolled": false
   },
   "outputs": [
    {
     "data": {
      "text/plain": [
       "[('착오', 0.9292871952056885),\n",
       " ('조악', 0.9219530820846558),\n",
       " ('도자기', 0.9189692139625549),\n",
       " ('찌푸리', 0.9184261560440063),\n",
       " ('천박', 0.918212354183197),\n",
       " ('쪽팔리', 0.9167208075523376),\n",
       " ('사납', 0.9162719249725342),\n",
       " ('하품', 0.9129781723022461),\n",
       " ('후하', 0.9129486083984375),\n",
       " ('부조', 0.912632167339325)]"
      ]
     },
     "execution_count": 139,
     "metadata": {},
     "output_type": "execute_result"
    }
   ],
   "source": [
    "vectors = word_vectors.similar_by_word('지겨운')\n",
    "vectors"
   ]
  },
  {
   "cell_type": "markdown",
   "id": "b5657b33",
   "metadata": {},
   "source": [
    "리뷰에서 감정이 잘들어나는 단어 \"재밌, 지겨운\"으로 테스트를 해보니 비슷한 단어들 가까이에 각 단어벡터가 위치하는것으로 보인다. 학습은 여기에서 마무리하고 한국어 Word2Vec 임베딩 활용하여 성능 개선하는 작업을 진행해보겠다."
   ]
  },
  {
   "cell_type": "markdown",
   "id": "29ca40eb",
   "metadata": {},
   "source": [
    "# 6. 영화리뷰 감정분석 Word2Vec 적용\n",
    "\n",
    "- [한국어 Word2Vec : Pre-trained word vectors of 30+ languages](https://github.com/Kyubyong/wordvectors)\n",
    " - 위 링크에서 Korean (w) 메뉴의 압축파일 다운로드\n",
    " - ko.bin 파일 이용\n",
    " - pip freeze명령어로 gensim 버전을 확인해보니 4.1.2이였다. gensim 버전을 3.x.x로 다운그레이드해주었다.\n",
    " ```\n",
    " # pip install --upgrade gensim==3.8.3\n",
    " ```"
   ]
  },
  {
   "cell_type": "code",
   "execution_count": 22,
   "id": "c2685997",
   "metadata": {},
   "outputs": [],
   "source": [
    "import gensim\n",
    "\n",
    "pretrained_path = os.getenv('HOME')+'/aiffel/project/exp06_Movie_Review/data/ko.bin'\n",
    "ko_model = gensim.models.Word2Vec.load(pretrained_path) # gensim 버전 다운그레이드 후 로드가 된다."
   ]
  },
  {
   "cell_type": "markdown",
   "id": "84e9e98b",
   "metadata": {},
   "source": [
    "`similar_by_word`함수실행시 경고메세지가뜨며 self.wv.similar_by_word() 사용할것을 권장하였다. 관련함수 변경후 실행해보았다."
   ]
  },
  {
   "cell_type": "code",
   "execution_count": 24,
   "id": "cfd1c63b",
   "metadata": {
    "scrolled": true
   },
   "outputs": [
    {
     "data": {
      "text/plain": [
       "[('재미있', 0.7603887915611267),\n",
       " ('웃기', 0.7365726828575134),\n",
       " ('멋지', 0.657281756401062),\n",
       " ('슬프', 0.6381862163543701),\n",
       " ('안타깝', 0.6331009864807129),\n",
       " ('즐겁', 0.6227831840515137),\n",
       " ('맛있', 0.6146109104156494),\n",
       " ('우습', 0.6106981039047241),\n",
       " ('생각나', 0.6095916032791138),\n",
       " ('시끄럽', 0.6063516139984131)]"
      ]
     },
     "execution_count": 24,
     "metadata": {},
     "output_type": "execute_result"
    }
   ],
   "source": [
    "vectors = ko_model.wv.most_similar(\"재밌\")\n",
    "vectors"
   ]
  },
  {
   "cell_type": "code",
   "execution_count": 33,
   "id": "660bc252",
   "metadata": {
    "scrolled": true
   },
   "outputs": [
    {
     "data": {
      "text/plain": [
       "[('답답', 0.7367106676101685),\n",
       " ('편안', 0.7046725749969482),\n",
       " ('솔직', 0.689364492893219),\n",
       " ('쓸쓸', 0.6880695819854736),\n",
       " ('차분', 0.6868932247161865),\n",
       " ('조용', 0.6765609383583069),\n",
       " ('냉정', 0.6706622838973999),\n",
       " ('자유분방', 0.6680829524993896),\n",
       " ('피곤', 0.6597293019294739),\n",
       " ('느긋', 0.659047544002533)]"
      ]
     },
     "execution_count": 33,
     "metadata": {},
     "output_type": "execute_result"
    }
   ],
   "source": [
    "vectors = ko_model.wv.most_similar('지루')\n",
    "vectors"
   ]
  },
  {
   "cell_type": "markdown",
   "id": "54fee9a8",
   "metadata": {},
   "source": [
    "이제 이전 스텝에서 학습했던 모델의 임베딩 레이어를 Word2Vec의 Pre-train된 벡터로 교체하여 다시 학습시켜 보겠다."
   ]
  },
  {
   "cell_type": "code",
   "execution_count": 40,
   "id": "65a7225d",
   "metadata": {},
   "outputs": [],
   "source": [
    "word2vec = ko_model.wv\n",
    "\n",
    "vocab_size = 10000    # 어휘 사전의 크기입니다(10,000개의 단어)\n",
    "word_vector_dim = 200  # 워드 벡터의 차원수\n",
    "embedding_matrix = np.random.rand(vocab_size, word_vector_dim)\n",
    "\n",
    "# embedding_matrix에 Word2Vec 워드 벡터를 단어 하나씩마다 차례차례 카피한다.\n",
    "for i in range(4,vocab_size):\n",
    "    if index_to_word[i] in word2vec:\n",
    "        embedding_matrix[i] = word2vec[index_to_word[i]]"
   ]
  },
  {
   "cell_type": "code",
   "execution_count": 43,
   "id": "f3612dee",
   "metadata": {},
   "outputs": [
    {
     "name": "stdout",
     "output_type": "stream",
     "text": [
      "Epoch 1/5\n",
      "3655/3655 [==============================] - 25s 6ms/step - loss: 0.3810 - accuracy: 0.8258 - val_loss: 0.3192 - val_accuracy: 0.8646\n",
      "Epoch 2/5\n",
      "3655/3655 [==============================] - 24s 6ms/step - loss: 0.2845 - accuracy: 0.8790 - val_loss: 0.3072 - val_accuracy: 0.8717\n",
      "Epoch 3/5\n",
      "3655/3655 [==============================] - 23s 6ms/step - loss: 0.2415 - accuracy: 0.8995 - val_loss: 0.3122 - val_accuracy: 0.8695\n",
      "Epoch 4/5\n",
      "3655/3655 [==============================] - 23s 6ms/step - loss: 0.2012 - accuracy: 0.9178 - val_loss: 0.3344 - val_accuracy: 0.8706\n",
      "Epoch 5/5\n",
      "3655/3655 [==============================] - 24s 7ms/step - loss: 0.1614 - accuracy: 0.9349 - val_loss: 0.3656 - val_accuracy: 0.8658\n"
     ]
    }
   ],
   "source": [
    "from tensorflow.keras.initializers import Constant\n",
    "\n",
    "pt_model = keras.Sequential()\n",
    "pt_model.add(keras.layers.Embedding(vocab_size, embedding_dim,\n",
    "                                     embeddings_initializer=Constant(embedding_matrix),  # 카피한 임베딩을 여기서 활용\n",
    "                                     trainable=True)) # trainable을 True로 주면 Fine-tuning\n",
    "pt_model.add(keras.layers.LSTM(128))\n",
    "pt_model.add(keras.layers.Dense(8, activation='relu'))\n",
    "pt_model.add(keras.layers.Dense(1, activation='sigmoid'))\n",
    "\n",
    "pt_model.compile(optimizer='adam',\n",
    "              loss='binary_crossentropy',\n",
    "              metrics=['accuracy'])\n",
    "\n",
    "lstm_history = pt_model.fit(X_train, y_train, epochs=5,  validation_split=0.2)"
   ]
  },
  {
   "cell_type": "code",
   "execution_count": 47,
   "id": "468c2720",
   "metadata": {
    "scrolled": true
   },
   "outputs": [
    {
     "data": {
      "image/png": "[encoded data removed]",
      "text/plain": [
       "<Figure size 720x288 with 2 Axes>"
      ]
     },
     "metadata": {
      "needs_background": "light"
     },
     "output_type": "display_data"
    }
   ],
   "source": [
    "show_history(lstm_history)"
   ]
  },
  {
   "cell_type": "markdown",
   "id": "6ac31aa8",
   "metadata": {},
   "source": [
    "한국어 Word2Vec에서 학습된 임베딩 벡터로 기존의 LSTM 모델에 넣어준 결과 정확도면에서는 크게 향상되지 않았지만  loss값은 경우 유의미할 정도로 줄어든 것을 알수 있었다.  LSTM 모델이 학습이 될 수록 과적합되는반면에 한국어 Word2Vec를 사용한 모델은 loss가 크게 늘지 않아 안정적이였다."
   ]
  },
  {
   "cell_type": "markdown",
   "id": "c434e45f",
   "metadata": {},
   "source": [
    "---\n",
    "# 7. 정리\n",
    "\n",
    "이번프로젝트에서는 텍스트 분류 문제에 대하여 여러가지 모델을 적용해보았다. RNN계열에 모델에 원핫인코딩된 텍스트 데이터를 넣는것보다 임베딩으로 넣어주는 방법이 자연어에 의미를 효과적으로 표현하여 학습에 도움이 된다는것을 알았다. 여러 모델로 테스트를 해보긴했지만 임베딩레이어로 입력을 넣어준 부분때문인지 대부분 80%이상의 좋은 성능을 보여준것같다. 합성곱 레이어에 텍스트로 인코딩된 데이터를 접목시킨부분도 흥미로웠는데, 성능 또한 RNN계열모델에 뒤지지 않아 신기했다.  \n",
    "\n",
    "지난 4번째 Exploration에 이어 다시한번 텍스트에 대한 토큰화와 벡터화하는 과정을 가져 자연어에 대해 전처리 하는 부분이 좀더 익숙해진것 같다. 그리고 아직 자연어 처리 모델을 많이 겪어보지않아 잘모르겠지만 에폭 5회 안에서 과적합이 발생하고 있는것 같다.  이부분에 대한 연구는 다음 숙제로 남기고 프로젝트를 마치겠다."
   ]
  },
  {
   "cell_type": "markdown",
   "id": "09915e7a",
   "metadata": {},
   "source": [
    "---\n",
    "# Reference\n",
    "- 자연어처리 : [링크](https://aikorea.org/blog/rnn-tutorial-1/)\n",
    "- 자연어처리를 위한 1D CNN : [링크](https://wikidocs.net/80437)"
   ]
  }
 ],
 "metadata": {
  "kernelspec": {
   "display_name": "Python 3 (ipykernel)",
   "language": "python",
   "name": "python3"
  },
  "language_info": {
   "codemirror_mode": {
    "name": "ipython",
    "version": 3
   },
   "file_extension": ".py",
   "mimetype": "text/x-python",
   "name": "python",
   "nbconvert_exporter": "python",
   "pygments_lexer": "ipython3",
   "version": "3.9.7"
  }
 },
 "nbformat": 4,
 "nbformat_minor": 5
}
