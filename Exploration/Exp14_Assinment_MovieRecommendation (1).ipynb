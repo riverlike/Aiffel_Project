{
 "cells": [
  {
   "cell_type": "markdown",
   "id": "7481d0d2",
   "metadata": {},
   "source": [
    "##  Movielens 영화 추천 시스템 \n",
    "\n",
    "\n",
    "\n"
   ]
  },
  {
   "cell_type": "markdown",
   "id": "a9314ddd",
   "metadata": {},
   "source": [
    "### MovieLens 1M Dataset\n",
    "- ratings.dat\n",
    "    - 6,040 MovieLens users\n",
    "    - 3,900 movies \n",
    "    - 1,000,209 anonymous ratings : 평점(1~5)\n",
    "\n",
    "- movies.dat\n",
    " - 영화 제목\n",
    " - 영화 장르"
   ]
  },
  {
   "cell_type": "code",
   "execution_count": 1,
   "id": "91b1e7a5",
   "metadata": {},
   "outputs": [
    {
     "data": {
      "text/html": [
       "<div>\n",
       "<style scoped>\n",
       "    .dataframe tbody tr th:only-of-type {\n",
       "        vertical-align: middle;\n",
       "    }\n",
       "\n",
       "    .dataframe tbody tr th {\n",
       "        vertical-align: top;\n",
       "    }\n",
       "\n",
       "    .dataframe thead th {\n",
       "        text-align: right;\n",
       "    }\n",
       "</style>\n",
       "<table border=\"1\" class=\"dataframe\">\n",
       "  <thead>\n",
       "    <tr style=\"text-align: right;\">\n",
       "      <th></th>\n",
       "      <th>user_id</th>\n",
       "      <th>movie_id</th>\n",
       "      <th>ratings</th>\n",
       "      <th>timestamp</th>\n",
       "    </tr>\n",
       "  </thead>\n",
       "  <tbody>\n",
       "    <tr>\n",
       "      <th>0</th>\n",
       "      <td>1</td>\n",
       "      <td>1193</td>\n",
       "      <td>5</td>\n",
       "      <td>978300760</td>\n",
       "    </tr>\n",
       "    <tr>\n",
       "      <th>1</th>\n",
       "      <td>1</td>\n",
       "      <td>661</td>\n",
       "      <td>3</td>\n",
       "      <td>978302109</td>\n",
       "    </tr>\n",
       "    <tr>\n",
       "      <th>2</th>\n",
       "      <td>1</td>\n",
       "      <td>914</td>\n",
       "      <td>3</td>\n",
       "      <td>978301968</td>\n",
       "    </tr>\n",
       "    <tr>\n",
       "      <th>3</th>\n",
       "      <td>1</td>\n",
       "      <td>3408</td>\n",
       "      <td>4</td>\n",
       "      <td>978300275</td>\n",
       "    </tr>\n",
       "    <tr>\n",
       "      <th>4</th>\n",
       "      <td>1</td>\n",
       "      <td>2355</td>\n",
       "      <td>5</td>\n",
       "      <td>978824291</td>\n",
       "    </tr>\n",
       "  </tbody>\n",
       "</table>\n",
       "</div>"
      ],
      "text/plain": [
       "   user_id  movie_id  ratings  timestamp\n",
       "0        1      1193        5  978300760\n",
       "1        1       661        3  978302109\n",
       "2        1       914        3  978301968\n",
       "3        1      3408        4  978300275\n",
       "4        1      2355        5  978824291"
      ]
     },
     "execution_count": 1,
     "metadata": {},
     "output_type": "execute_result"
    }
   ],
   "source": [
    "import pandas as pd\n",
    "import os\n",
    "\n",
    "rating_file_path=os.getenv('HOME') + '/aiffel/project/exp14_RecommenderSystem/data2/ratings.dat'\n",
    "ratings_cols = ['user_id', 'movie_id', 'ratings', 'timestamp']\n",
    "ratings = pd.read_csv(rating_file_path, sep='::', names=ratings_cols, engine='python', encoding = \"ISO-8859-1\")\n",
    "orginal_data_size = len(ratings)\n",
    "ratings.head()"
   ]
  },
  {
   "cell_type": "markdown",
   "id": "e8244ff1",
   "metadata": {},
   "source": [
    "### MovieLens EDA 및 전처리"
   ]
  },
  {
   "cell_type": "code",
   "execution_count": 2,
   "id": "f6775727",
   "metadata": {},
   "outputs": [
    {
     "data": {
      "text/plain": [
       "(1000209, 4)"
      ]
     },
     "execution_count": 2,
     "metadata": {},
     "output_type": "execute_result"
    }
   ],
   "source": [
    "ratings.shape"
   ]
  },
  {
   "cell_type": "code",
   "execution_count": 3,
   "id": "0b409991",
   "metadata": {},
   "outputs": [
    {
     "data": {
      "text/plain": [
       "array([5, 3, 4, 2, 1])"
      ]
     },
     "execution_count": 3,
     "metadata": {},
     "output_type": "execute_result"
    }
   ],
   "source": [
    "ratings['ratings'].unique()"
   ]
  },
  {
   "cell_type": "code",
   "execution_count": 4,
   "id": "5ad27932",
   "metadata": {},
   "outputs": [
    {
     "data": {
      "text/plain": [
       "(array([   1,    2,    3, ..., 6038, 6039, 6040]), 6040)"
      ]
     },
     "execution_count": 4,
     "metadata": {},
     "output_type": "execute_result"
    }
   ],
   "source": [
    "ratings['user_id'].unique(), len(ratings['user_id'].unique())"
   ]
  },
  {
   "cell_type": "code",
   "execution_count": 5,
   "id": "8f58a2a2",
   "metadata": {},
   "outputs": [
    {
     "data": {
      "text/plain": [
       "(array([1193,  661,  914, ..., 2845, 3607, 2909]), 3706)"
      ]
     },
     "execution_count": 5,
     "metadata": {},
     "output_type": "execute_result"
    }
   ],
   "source": [
    "ratings['movie_id'].unique(), len(ratings['movie_id'].unique())"
   ]
  },
  {
   "cell_type": "markdown",
   "id": "51254c2f",
   "metadata": {},
   "source": [
    "6040명의 유저별, 3706개 영화에 대한 1,000,209건의 평점 정보(1점~5점)가 들어있다. \n",
    "\n",
    "ratings.dat 파일에는 영화제목에 관한 정보가 없어 추가가 필요하다. movies.dat 파일에서 읽어 merge해주겠다."
   ]
  },
  {
   "cell_type": "code",
   "execution_count": 2,
   "id": "906a9f54",
   "metadata": {
    "scrolled": true
   },
   "outputs": [
    {
     "data": {
      "text/html": [
       "<div>\n",
       "<style scoped>\n",
       "    .dataframe tbody tr th:only-of-type {\n",
       "        vertical-align: middle;\n",
       "    }\n",
       "\n",
       "    .dataframe tbody tr th {\n",
       "        vertical-align: top;\n",
       "    }\n",
       "\n",
       "    .dataframe thead th {\n",
       "        text-align: right;\n",
       "    }\n",
       "</style>\n",
       "<table border=\"1\" class=\"dataframe\">\n",
       "  <thead>\n",
       "    <tr style=\"text-align: right;\">\n",
       "      <th></th>\n",
       "      <th>movie_id</th>\n",
       "      <th>title</th>\n",
       "      <th>genre</th>\n",
       "    </tr>\n",
       "  </thead>\n",
       "  <tbody>\n",
       "    <tr>\n",
       "      <th>0</th>\n",
       "      <td>1</td>\n",
       "      <td>Toy Story (1995)</td>\n",
       "      <td>Animation|Children's|Comedy</td>\n",
       "    </tr>\n",
       "    <tr>\n",
       "      <th>1</th>\n",
       "      <td>2</td>\n",
       "      <td>Jumanji (1995)</td>\n",
       "      <td>Adventure|Children's|Fantasy</td>\n",
       "    </tr>\n",
       "    <tr>\n",
       "      <th>2</th>\n",
       "      <td>3</td>\n",
       "      <td>Grumpier Old Men (1995)</td>\n",
       "      <td>Comedy|Romance</td>\n",
       "    </tr>\n",
       "    <tr>\n",
       "      <th>3</th>\n",
       "      <td>4</td>\n",
       "      <td>Waiting to Exhale (1995)</td>\n",
       "      <td>Comedy|Drama</td>\n",
       "    </tr>\n",
       "    <tr>\n",
       "      <th>4</th>\n",
       "      <td>5</td>\n",
       "      <td>Father of the Bride Part II (1995)</td>\n",
       "      <td>Comedy</td>\n",
       "    </tr>\n",
       "  </tbody>\n",
       "</table>\n",
       "</div>"
      ],
      "text/plain": [
       "   movie_id                               title                         genre\n",
       "0         1                    Toy Story (1995)   Animation|Children's|Comedy\n",
       "1         2                      Jumanji (1995)  Adventure|Children's|Fantasy\n",
       "2         3             Grumpier Old Men (1995)                Comedy|Romance\n",
       "3         4            Waiting to Exhale (1995)                  Comedy|Drama\n",
       "4         5  Father of the Bride Part II (1995)                        Comedy"
      ]
     },
     "execution_count": 2,
     "metadata": {},
     "output_type": "execute_result"
    }
   ],
   "source": [
    "# 영화 제목을 보기 위해 메타 데이터를 읽어옵니다.\n",
    "movie_file_path=os.getenv('HOME') + '/aiffel/project/exp14_RecommenderSystem/data2/movies.dat'\n",
    "cols = ['movie_id', 'title', 'genre'] \n",
    "movies = pd.read_csv(movie_file_path, sep='::', names=cols, engine='python', encoding='ISO-8859-1')\n",
    "movies.head()"
   ]
  },
  {
   "cell_type": "markdown",
   "id": "a376650f",
   "metadata": {},
   "source": [
    "영화의 title 정보를 merge하기전에 검색을 쉽게하게위해 소문자로 바꾸겠다. \n",
    "- 영화 출시연도정보를 제외할 경우 다른해에 출시된 영화인데 동일한 제목의 영화로 인식되므로 삭제하지 않았다."
   ]
  },
  {
   "cell_type": "code",
   "execution_count": 3,
   "id": "986b804b",
   "metadata": {},
   "outputs": [
    {
     "data": {
      "text/html": [
       "<div>\n",
       "<style scoped>\n",
       "    .dataframe tbody tr th:only-of-type {\n",
       "        vertical-align: middle;\n",
       "    }\n",
       "\n",
       "    .dataframe tbody tr th {\n",
       "        vertical-align: top;\n",
       "    }\n",
       "\n",
       "    .dataframe thead th {\n",
       "        text-align: right;\n",
       "    }\n",
       "</style>\n",
       "<table border=\"1\" class=\"dataframe\">\n",
       "  <thead>\n",
       "    <tr style=\"text-align: right;\">\n",
       "      <th></th>\n",
       "      <th>movie_id</th>\n",
       "      <th>title</th>\n",
       "      <th>genre</th>\n",
       "    </tr>\n",
       "  </thead>\n",
       "  <tbody>\n",
       "    <tr>\n",
       "      <th>0</th>\n",
       "      <td>1</td>\n",
       "      <td>toy story (1995)</td>\n",
       "      <td>Animation|Children's|Comedy</td>\n",
       "    </tr>\n",
       "    <tr>\n",
       "      <th>1</th>\n",
       "      <td>2</td>\n",
       "      <td>jumanji (1995)</td>\n",
       "      <td>Adventure|Children's|Fantasy</td>\n",
       "    </tr>\n",
       "    <tr>\n",
       "      <th>2</th>\n",
       "      <td>3</td>\n",
       "      <td>grumpier old men (1995)</td>\n",
       "      <td>Comedy|Romance</td>\n",
       "    </tr>\n",
       "    <tr>\n",
       "      <th>3</th>\n",
       "      <td>4</td>\n",
       "      <td>waiting to exhale (1995)</td>\n",
       "      <td>Comedy|Drama</td>\n",
       "    </tr>\n",
       "    <tr>\n",
       "      <th>4</th>\n",
       "      <td>5</td>\n",
       "      <td>father of the bride part ii (1995)</td>\n",
       "      <td>Comedy</td>\n",
       "    </tr>\n",
       "  </tbody>\n",
       "</table>\n",
       "</div>"
      ],
      "text/plain": [
       "   movie_id                               title                         genre\n",
       "0         1                    toy story (1995)   Animation|Children's|Comedy\n",
       "1         2                      jumanji (1995)  Adventure|Children's|Fantasy\n",
       "2         3             grumpier old men (1995)                Comedy|Romance\n",
       "3         4            waiting to exhale (1995)                  Comedy|Drama\n",
       "4         5  father of the bride part ii (1995)                        Comedy"
      ]
     },
     "execution_count": 3,
     "metadata": {},
     "output_type": "execute_result"
    }
   ],
   "source": [
    "movies['title'] = movies['title'].str.lower() # 검색을 쉽게 하기 위해 아티스트 문자열을 소문자로 바꿔줍시다.\n",
    "#movies['title'] =movies['title'].str[:-6] # 고유 영화정보가 3883-> 3841건으로 줄어듬.\n",
    "movies.head()"
   ]
  },
  {
   "cell_type": "code",
   "execution_count": 4,
   "id": "f615a1e4",
   "metadata": {},
   "outputs": [
    {
     "data": {
      "text/html": [
       "<div>\n",
       "<style scoped>\n",
       "    .dataframe tbody tr th:only-of-type {\n",
       "        vertical-align: middle;\n",
       "    }\n",
       "\n",
       "    .dataframe tbody tr th {\n",
       "        vertical-align: top;\n",
       "    }\n",
       "\n",
       "    .dataframe thead th {\n",
       "        text-align: right;\n",
       "    }\n",
       "</style>\n",
       "<table border=\"1\" class=\"dataframe\">\n",
       "  <thead>\n",
       "    <tr style=\"text-align: right;\">\n",
       "      <th></th>\n",
       "      <th>user_id</th>\n",
       "      <th>movie_id</th>\n",
       "      <th>ratings</th>\n",
       "      <th>timestamp</th>\n",
       "      <th>title</th>\n",
       "    </tr>\n",
       "  </thead>\n",
       "  <tbody>\n",
       "    <tr>\n",
       "      <th>1000204</th>\n",
       "      <td>6040</td>\n",
       "      <td>1091</td>\n",
       "      <td>1</td>\n",
       "      <td>956716541</td>\n",
       "      <td>weekend at bernie's (1989)</td>\n",
       "    </tr>\n",
       "    <tr>\n",
       "      <th>1000205</th>\n",
       "      <td>6040</td>\n",
       "      <td>1094</td>\n",
       "      <td>5</td>\n",
       "      <td>956704887</td>\n",
       "      <td>crying game, the (1992)</td>\n",
       "    </tr>\n",
       "    <tr>\n",
       "      <th>1000206</th>\n",
       "      <td>6040</td>\n",
       "      <td>562</td>\n",
       "      <td>5</td>\n",
       "      <td>956704746</td>\n",
       "      <td>welcome to the dollhouse (1995)</td>\n",
       "    </tr>\n",
       "    <tr>\n",
       "      <th>1000207</th>\n",
       "      <td>6040</td>\n",
       "      <td>1096</td>\n",
       "      <td>4</td>\n",
       "      <td>956715648</td>\n",
       "      <td>sophie's choice (1982)</td>\n",
       "    </tr>\n",
       "    <tr>\n",
       "      <th>1000208</th>\n",
       "      <td>6040</td>\n",
       "      <td>1097</td>\n",
       "      <td>4</td>\n",
       "      <td>956715569</td>\n",
       "      <td>e.t. the extra-terrestrial (1982)</td>\n",
       "    </tr>\n",
       "  </tbody>\n",
       "</table>\n",
       "</div>"
      ],
      "text/plain": [
       "         user_id  movie_id  ratings  timestamp  \\\n",
       "1000204     6040      1091        1  956716541   \n",
       "1000205     6040      1094        5  956704887   \n",
       "1000206     6040       562        5  956704746   \n",
       "1000207     6040      1096        4  956715648   \n",
       "1000208     6040      1097        4  956715569   \n",
       "\n",
       "                                     title  \n",
       "1000204         weekend at bernie's (1989)  \n",
       "1000205            crying game, the (1992)  \n",
       "1000206    welcome to the dollhouse (1995)  \n",
       "1000207             sophie's choice (1982)  \n",
       "1000208  e.t. the extra-terrestrial (1982)  "
      ]
     },
     "execution_count": 4,
     "metadata": {},
     "output_type": "execute_result"
    }
   ],
   "source": [
    "ratings = pd.merge(ratings, movies[['title', 'movie_id']], on='movie_id', how='left')\n",
    "ratings.tail()"
   ]
  },
  {
   "cell_type": "code",
   "execution_count": 5,
   "id": "0cc2c5a6",
   "metadata": {
    "scrolled": true
   },
   "outputs": [
    {
     "data": {
      "text/plain": [
       "<AxesSubplot:>"
      ]
     },
     "execution_count": 5,
     "metadata": {},
     "output_type": "execute_result"
    },
    {
     "data": {
      "image/png": "[encoded data removed]",
      "text/plain": [
       "<Figure size 432x288 with 1 Axes>"
      ]
     },
     "metadata": {
      "needs_background": "light"
     },
     "output_type": "display_data"
    }
   ],
   "source": [
    "ratings['ratings'].hist()"
   ]
  },
  {
   "cell_type": "markdown",
   "id": "4e549a8f",
   "metadata": {},
   "source": [
    "많은경우 3점이상의 점수를 주고 있고 2,1점을 주는 경우도 적지 않게 나타나고 있다. **본 프로젝트에서는 명시적 평가정보인 평점을 재생횟수로 변경하여 암묵적 평가정보로 활용해보겠다. 그리고 암묵적 데이터의 해석시 한번이라도 들었다면 선호한다고 할 수 있으므로 평점이 1,2점인 경우의 데이터를 제외하였다.**\n",
    "- 재생횟수(평점) 데이터 제외 \n",
    "- 컬럼명 변경 : ratings -> counts\n",
    "- 쓰지않는 컬럼 삭제 : timestamp"
   ]
  },
  {
   "cell_type": "code",
   "execution_count": 6,
   "id": "dc2a440d",
   "metadata": {},
   "outputs": [
    {
     "name": "stdout",
     "output_type": "stream",
     "text": [
      "orginal_data_size: 1000209, filtered_data_size: 836478\n",
      "Ratio of Remaining Data is 83.63%\n"
     ]
    }
   ],
   "source": [
    "# 3점 이상만 남깁니다.\n",
    "ratings = ratings[ratings['ratings']>=3]\n",
    "filtered_data_size = len(ratings)\n",
    "\n",
    "print(f'orginal_data_size: {orginal_data_size}, filtered_data_size: {filtered_data_size}')\n",
    "print(f'Ratio of Remaining Data is {filtered_data_size / orginal_data_size:.2%}')"
   ]
  },
  {
   "cell_type": "code",
   "execution_count": 7,
   "id": "6120cee7",
   "metadata": {},
   "outputs": [
    {
     "data": {
      "text/plain": [
       "(6039, 3628)"
      ]
     },
     "execution_count": 7,
     "metadata": {},
     "output_type": "execute_result"
    }
   ],
   "source": [
    "len(ratings['user_id'].unique()), len(ratings['title'].unique())"
   ]
  },
  {
   "cell_type": "markdown",
   "id": "3fc82b2e",
   "metadata": {},
   "source": [
    "83.63% 의 데이터가 남았고, 사용자가 기존보다 1명 줄었으며, 영화데이터가 78개가 삭제되었다"
   ]
  },
  {
   "cell_type": "code",
   "execution_count": 8,
   "id": "cedf95d4",
   "metadata": {},
   "outputs": [
    {
     "data": {
      "text/plain": [
       "0          5\n",
       "1          3\n",
       "2          3\n",
       "3          4\n",
       "4          5\n",
       "          ..\n",
       "1000203    3\n",
       "1000205    5\n",
       "1000206    5\n",
       "1000207    4\n",
       "1000208    4\n",
       "Name: counts, Length: 836478, dtype: int64"
      ]
     },
     "execution_count": 8,
     "metadata": {},
     "output_type": "execute_result"
    }
   ],
   "source": [
    "# ratings 컬럼의 이름을 counts로 바꿉니다.\n",
    "ratings.rename(columns={'ratings':'counts'}, inplace=True)\n",
    "ratings['counts']"
   ]
  },
  {
   "cell_type": "code",
   "execution_count": 9,
   "id": "a0b6409e",
   "metadata": {},
   "outputs": [
    {
     "data": {
      "text/html": [
       "<div>\n",
       "<style scoped>\n",
       "    .dataframe tbody tr th:only-of-type {\n",
       "        vertical-align: middle;\n",
       "    }\n",
       "\n",
       "    .dataframe tbody tr th {\n",
       "        vertical-align: top;\n",
       "    }\n",
       "\n",
       "    .dataframe thead th {\n",
       "        text-align: right;\n",
       "    }\n",
       "</style>\n",
       "<table border=\"1\" class=\"dataframe\">\n",
       "  <thead>\n",
       "    <tr style=\"text-align: right;\">\n",
       "      <th></th>\n",
       "      <th>user_id</th>\n",
       "      <th>movie_id</th>\n",
       "      <th>counts</th>\n",
       "      <th>title</th>\n",
       "    </tr>\n",
       "  </thead>\n",
       "  <tbody>\n",
       "    <tr>\n",
       "      <th>0</th>\n",
       "      <td>1</td>\n",
       "      <td>1193</td>\n",
       "      <td>5</td>\n",
       "      <td>one flew over the cuckoo's nest (1975)</td>\n",
       "    </tr>\n",
       "  </tbody>\n",
       "</table>\n",
       "</div>"
      ],
      "text/plain": [
       "   user_id  movie_id  counts                                   title\n",
       "0        1      1193       5  one flew over the cuckoo's nest (1975)"
      ]
     },
     "execution_count": 9,
     "metadata": {},
     "output_type": "execute_result"
    }
   ],
   "source": [
    "#사용하는 컬럼만 남겨줍니다.\n",
    "using_cols = ['user_id', 'movie_id', 'counts', 'title']\n",
    "ratings = ratings[using_cols]\n",
    "ratings.head(1)"
   ]
  },
  {
   "cell_type": "code",
   "execution_count": 10,
   "id": "9d05008e",
   "metadata": {},
   "outputs": [
    {
     "data": {
      "text/html": [
       "<div>\n",
       "<style scoped>\n",
       "    .dataframe tbody tr th:only-of-type {\n",
       "        vertical-align: middle;\n",
       "    }\n",
       "\n",
       "    .dataframe tbody tr th {\n",
       "        vertical-align: top;\n",
       "    }\n",
       "\n",
       "    .dataframe thead th {\n",
       "        text-align: right;\n",
       "    }\n",
       "</style>\n",
       "<table border=\"1\" class=\"dataframe\">\n",
       "  <thead>\n",
       "    <tr style=\"text-align: right;\">\n",
       "      <th></th>\n",
       "      <th>movie_id</th>\n",
       "      <th>user_id</th>\n",
       "      <th>title</th>\n",
       "      <th>genre</th>\n",
       "    </tr>\n",
       "  </thead>\n",
       "  <tbody>\n",
       "    <tr>\n",
       "      <th>0</th>\n",
       "      <td>2858</td>\n",
       "      <td>3211</td>\n",
       "      <td>american beauty (1999)</td>\n",
       "      <td>Comedy|Drama</td>\n",
       "    </tr>\n",
       "    <tr>\n",
       "      <th>1</th>\n",
       "      <td>260</td>\n",
       "      <td>2910</td>\n",
       "      <td>star wars: episode iv - a new hope (1977)</td>\n",
       "      <td>Action|Adventure|Fantasy|Sci-Fi</td>\n",
       "    </tr>\n",
       "    <tr>\n",
       "      <th>2</th>\n",
       "      <td>1196</td>\n",
       "      <td>2885</td>\n",
       "      <td>star wars: episode v - the empire strikes back...</td>\n",
       "      <td>Action|Adventure|Drama|Sci-Fi|War</td>\n",
       "    </tr>\n",
       "    <tr>\n",
       "      <th>3</th>\n",
       "      <td>1210</td>\n",
       "      <td>2716</td>\n",
       "      <td>star wars: episode vi - return of the jedi (1983)</td>\n",
       "      <td>Action|Adventure|Romance|Sci-Fi|War</td>\n",
       "    </tr>\n",
       "    <tr>\n",
       "      <th>4</th>\n",
       "      <td>2028</td>\n",
       "      <td>2561</td>\n",
       "      <td>saving private ryan (1998)</td>\n",
       "      <td>Action|Drama|War</td>\n",
       "    </tr>\n",
       "    <tr>\n",
       "      <th>5</th>\n",
       "      <td>589</td>\n",
       "      <td>2509</td>\n",
       "      <td>terminator 2: judgment day (1991)</td>\n",
       "      <td>Action|Sci-Fi|Thriller</td>\n",
       "    </tr>\n",
       "    <tr>\n",
       "      <th>6</th>\n",
       "      <td>593</td>\n",
       "      <td>2498</td>\n",
       "      <td>silence of the lambs, the (1991)</td>\n",
       "      <td>Drama|Thriller</td>\n",
       "    </tr>\n",
       "    <tr>\n",
       "      <th>7</th>\n",
       "      <td>1198</td>\n",
       "      <td>2473</td>\n",
       "      <td>raiders of the lost ark (1981)</td>\n",
       "      <td>Action|Adventure</td>\n",
       "    </tr>\n",
       "    <tr>\n",
       "      <th>8</th>\n",
       "      <td>1270</td>\n",
       "      <td>2460</td>\n",
       "      <td>back to the future (1985)</td>\n",
       "      <td>Comedy|Sci-Fi</td>\n",
       "    </tr>\n",
       "    <tr>\n",
       "      <th>9</th>\n",
       "      <td>2571</td>\n",
       "      <td>2434</td>\n",
       "      <td>matrix, the (1999)</td>\n",
       "      <td>Action|Sci-Fi|Thriller</td>\n",
       "    </tr>\n",
       "    <tr>\n",
       "      <th>10</th>\n",
       "      <td>480</td>\n",
       "      <td>2413</td>\n",
       "      <td>jurassic park (1993)</td>\n",
       "      <td>Action|Adventure|Sci-Fi</td>\n",
       "    </tr>\n",
       "    <tr>\n",
       "      <th>11</th>\n",
       "      <td>2762</td>\n",
       "      <td>2385</td>\n",
       "      <td>sixth sense, the (1999)</td>\n",
       "      <td>Thriller</td>\n",
       "    </tr>\n",
       "    <tr>\n",
       "      <th>12</th>\n",
       "      <td>608</td>\n",
       "      <td>2371</td>\n",
       "      <td>fargo (1996)</td>\n",
       "      <td>Crime|Drama|Thriller</td>\n",
       "    </tr>\n",
       "    <tr>\n",
       "      <th>13</th>\n",
       "      <td>110</td>\n",
       "      <td>2314</td>\n",
       "      <td>braveheart (1995)</td>\n",
       "      <td>Action|Drama|War</td>\n",
       "    </tr>\n",
       "    <tr>\n",
       "      <th>14</th>\n",
       "      <td>1580</td>\n",
       "      <td>2297</td>\n",
       "      <td>men in black (1997)</td>\n",
       "      <td>Action|Adventure|Comedy|Sci-Fi</td>\n",
       "    </tr>\n",
       "    <tr>\n",
       "      <th>15</th>\n",
       "      <td>527</td>\n",
       "      <td>2257</td>\n",
       "      <td>schindler's list (1993)</td>\n",
       "      <td>Drama|War</td>\n",
       "    </tr>\n",
       "    <tr>\n",
       "      <th>16</th>\n",
       "      <td>1197</td>\n",
       "      <td>2252</td>\n",
       "      <td>princess bride, the (1987)</td>\n",
       "      <td>Action|Adventure|Comedy|Romance</td>\n",
       "    </tr>\n",
       "    <tr>\n",
       "      <th>17</th>\n",
       "      <td>2396</td>\n",
       "      <td>2213</td>\n",
       "      <td>shakespeare in love (1998)</td>\n",
       "      <td>Comedy|Romance</td>\n",
       "    </tr>\n",
       "    <tr>\n",
       "      <th>18</th>\n",
       "      <td>1617</td>\n",
       "      <td>2210</td>\n",
       "      <td>l.a. confidential (1997)</td>\n",
       "      <td>Crime|Film-Noir|Mystery|Thriller</td>\n",
       "    </tr>\n",
       "    <tr>\n",
       "      <th>19</th>\n",
       "      <td>318</td>\n",
       "      <td>2194</td>\n",
       "      <td>shawshank redemption, the (1994)</td>\n",
       "      <td>Drama</td>\n",
       "    </tr>\n",
       "    <tr>\n",
       "      <th>20</th>\n",
       "      <td>858</td>\n",
       "      <td>2167</td>\n",
       "      <td>godfather, the (1972)</td>\n",
       "      <td>Action|Crime|Drama</td>\n",
       "    </tr>\n",
       "    <tr>\n",
       "      <th>21</th>\n",
       "      <td>1265</td>\n",
       "      <td>2121</td>\n",
       "      <td>groundhog day (1993)</td>\n",
       "      <td>Comedy|Romance</td>\n",
       "    </tr>\n",
       "    <tr>\n",
       "      <th>22</th>\n",
       "      <td>1097</td>\n",
       "      <td>2102</td>\n",
       "      <td>e.t. the extra-terrestrial (1982)</td>\n",
       "      <td>Children's|Drama|Fantasy|Sci-Fi</td>\n",
       "    </tr>\n",
       "    <tr>\n",
       "      <th>23</th>\n",
       "      <td>2997</td>\n",
       "      <td>2066</td>\n",
       "      <td>being john malkovich (1999)</td>\n",
       "      <td>Comedy</td>\n",
       "    </tr>\n",
       "    <tr>\n",
       "      <th>24</th>\n",
       "      <td>2716</td>\n",
       "      <td>2051</td>\n",
       "      <td>ghostbusters (1984)</td>\n",
       "      <td>Comedy|Horror</td>\n",
       "    </tr>\n",
       "    <tr>\n",
       "      <th>25</th>\n",
       "      <td>296</td>\n",
       "      <td>2030</td>\n",
       "      <td>pulp fiction (1994)</td>\n",
       "      <td>Crime|Drama</td>\n",
       "    </tr>\n",
       "    <tr>\n",
       "      <th>26</th>\n",
       "      <td>356</td>\n",
       "      <td>2022</td>\n",
       "      <td>forrest gump (1994)</td>\n",
       "      <td>Comedy|Romance|War</td>\n",
       "    </tr>\n",
       "    <tr>\n",
       "      <th>27</th>\n",
       "      <td>1240</td>\n",
       "      <td>2019</td>\n",
       "      <td>terminator, the (1984)</td>\n",
       "      <td>Action|Sci-Fi|Thriller</td>\n",
       "    </tr>\n",
       "    <tr>\n",
       "      <th>28</th>\n",
       "      <td>1</td>\n",
       "      <td>2000</td>\n",
       "      <td>toy story (1995)</td>\n",
       "      <td>Animation|Children's|Comedy</td>\n",
       "    </tr>\n",
       "    <tr>\n",
       "      <th>29</th>\n",
       "      <td>457</td>\n",
       "      <td>1941</td>\n",
       "      <td>fugitive, the (1993)</td>\n",
       "      <td>Action|Thriller</td>\n",
       "    </tr>\n",
       "  </tbody>\n",
       "</table>\n",
       "</div>"
      ],
      "text/plain": [
       "    movie_id  user_id                                              title  \\\n",
       "0       2858     3211                             american beauty (1999)   \n",
       "1        260     2910          star wars: episode iv - a new hope (1977)   \n",
       "2       1196     2885  star wars: episode v - the empire strikes back...   \n",
       "3       1210     2716  star wars: episode vi - return of the jedi (1983)   \n",
       "4       2028     2561                         saving private ryan (1998)   \n",
       "5        589     2509                  terminator 2: judgment day (1991)   \n",
       "6        593     2498                   silence of the lambs, the (1991)   \n",
       "7       1198     2473                     raiders of the lost ark (1981)   \n",
       "8       1270     2460                          back to the future (1985)   \n",
       "9       2571     2434                                 matrix, the (1999)   \n",
       "10       480     2413                               jurassic park (1993)   \n",
       "11      2762     2385                            sixth sense, the (1999)   \n",
       "12       608     2371                                       fargo (1996)   \n",
       "13       110     2314                                  braveheart (1995)   \n",
       "14      1580     2297                                men in black (1997)   \n",
       "15       527     2257                            schindler's list (1993)   \n",
       "16      1197     2252                         princess bride, the (1987)   \n",
       "17      2396     2213                         shakespeare in love (1998)   \n",
       "18      1617     2210                           l.a. confidential (1997)   \n",
       "19       318     2194                   shawshank redemption, the (1994)   \n",
       "20       858     2167                              godfather, the (1972)   \n",
       "21      1265     2121                               groundhog day (1993)   \n",
       "22      1097     2102                  e.t. the extra-terrestrial (1982)   \n",
       "23      2997     2066                        being john malkovich (1999)   \n",
       "24      2716     2051                                ghostbusters (1984)   \n",
       "25       296     2030                                pulp fiction (1994)   \n",
       "26       356     2022                                forrest gump (1994)   \n",
       "27      1240     2019                             terminator, the (1984)   \n",
       "28         1     2000                                   toy story (1995)   \n",
       "29       457     1941                               fugitive, the (1993)   \n",
       "\n",
       "                                  genre  \n",
       "0                          Comedy|Drama  \n",
       "1       Action|Adventure|Fantasy|Sci-Fi  \n",
       "2     Action|Adventure|Drama|Sci-Fi|War  \n",
       "3   Action|Adventure|Romance|Sci-Fi|War  \n",
       "4                      Action|Drama|War  \n",
       "5                Action|Sci-Fi|Thriller  \n",
       "6                        Drama|Thriller  \n",
       "7                      Action|Adventure  \n",
       "8                         Comedy|Sci-Fi  \n",
       "9                Action|Sci-Fi|Thriller  \n",
       "10              Action|Adventure|Sci-Fi  \n",
       "11                             Thriller  \n",
       "12                 Crime|Drama|Thriller  \n",
       "13                     Action|Drama|War  \n",
       "14       Action|Adventure|Comedy|Sci-Fi  \n",
       "15                            Drama|War  \n",
       "16      Action|Adventure|Comedy|Romance  \n",
       "17                       Comedy|Romance  \n",
       "18     Crime|Film-Noir|Mystery|Thriller  \n",
       "19                                Drama  \n",
       "20                   Action|Crime|Drama  \n",
       "21                       Comedy|Romance  \n",
       "22      Children's|Drama|Fantasy|Sci-Fi  \n",
       "23                               Comedy  \n",
       "24                        Comedy|Horror  \n",
       "25                          Crime|Drama  \n",
       "26                   Comedy|Romance|War  \n",
       "27               Action|Sci-Fi|Thriller  \n",
       "28          Animation|Children's|Comedy  \n",
       "29                      Action|Thriller  "
      ]
     },
     "execution_count": 10,
     "metadata": {},
     "output_type": "execute_result"
    }
   ],
   "source": [
    "#인기 많은 영화(재생횟수가 많은 영화) 상위 30개\n",
    "movie_count = ratings.groupby('movie_id')['user_id'].count()\n",
    "movie_top30= movie_count.sort_values(ascending=False).head(30)\n",
    "movie_top30_info = pd.merge(movie_top30, movies, left_on='movie_id', right_on='movie_id', how='inner')\n",
    "movie_top30_info"
   ]
  },
  {
   "cell_type": "markdown",
   "id": "5a8b3200",
   "metadata": {},
   "source": [
    "유저들에게 American Beauty, Star Wars 시리즈 등이 가장 많이 선호되는 영화로 나왔다.\n"
   ]
  },
  {
   "cell_type": "code",
   "execution_count": 11,
   "id": "e040a229",
   "metadata": {},
   "outputs": [
    {
     "data": {
      "text/plain": [
       "count    6039.000000\n",
       "mean      138.512668\n",
       "std       156.241599\n",
       "min         1.000000\n",
       "25%        38.000000\n",
       "50%        81.000000\n",
       "75%       177.000000\n",
       "max      1968.000000\n",
       "Name: movie_id, dtype: float64"
      ]
     },
     "execution_count": 11,
     "metadata": {},
     "output_type": "execute_result"
    }
   ],
   "source": [
    "# 유저별 몇 개의 영화를 보았는지 대한 통계\n",
    "user_count = ratings.groupby('user_id')['movie_id'].count()\n",
    "user_count.describe()"
   ]
  },
  {
   "cell_type": "markdown",
   "id": "9ccce79c",
   "metadata": {},
   "source": [
    "사용자별로 평균 138개의 영화를 보았고 중앙값은 96개이다."
   ]
  },
  {
   "cell_type": "markdown",
   "id": "bb88a69e",
   "metadata": {},
   "source": [
    "### 내가 선호하는 영화를 5가지 골라서 ratings에 추가\n",
    "\n",
    "- 내가 좋아하는 영화 5가지를 추가해보자. 상위 top 200을 참고하여 추가하였다.\n",
    "- user_id = 6041 \n",
    "    - 2571 : Matrix, the (1977)\n",
    "    - 1270 : Back to the Future (1985)\n",
    "    - 1721 : Titanic (1997)\n",
    "    - 588 :\tAladdin (1992)\n",
    "    - 1 : Toy Story (1995)\t\n",
    "\n",
    "영화를 고르는 다른 취향을 가진 사람의 영화 5가지를 함께 추가해보도록하겠다.\n",
    "- user_id = 6042    \n",
    "    - 1097\t:e.t. the extra-terrestrial (1982)\n",
    "    - 1704 : good will hunting (1997)\n",
    "    - 588 :\taladdin (1992)\n",
    "    - 2355 : bug's life, a (1998)\n",
    "    - 364 : lion king, the (1994)\n",
    "    \t\t\t\n",
    "- user_id = 6043\n",
    "    - 2858 : american beauty (1999)\n",
    "    - 480\tjurassic park (1993)\n",
    "    - 356 : forrest gump (1994)\n",
    "    - 593 : silence of the lambs, the (1991)\n",
    "    - 1580 : men in black (1997)\n",
    "\t"
   ]
  },
  {
   "cell_type": "code",
   "execution_count": 12,
   "id": "291694b6",
   "metadata": {},
   "outputs": [
    {
     "data": {
      "text/html": [
       "<div>\n",
       "<style scoped>\n",
       "    .dataframe tbody tr th:only-of-type {\n",
       "        vertical-align: middle;\n",
       "    }\n",
       "\n",
       "    .dataframe tbody tr th {\n",
       "        vertical-align: top;\n",
       "    }\n",
       "\n",
       "    .dataframe thead th {\n",
       "        text-align: right;\n",
       "    }\n",
       "</style>\n",
       "<table border=\"1\" class=\"dataframe\">\n",
       "  <thead>\n",
       "    <tr style=\"text-align: right;\">\n",
       "      <th></th>\n",
       "      <th>user_id</th>\n",
       "      <th>movie_id</th>\n",
       "      <th>counts</th>\n",
       "      <th>title</th>\n",
       "    </tr>\n",
       "  </thead>\n",
       "  <tbody>\n",
       "    <tr>\n",
       "      <th>0</th>\n",
       "      <td>6041</td>\n",
       "      <td>2571</td>\n",
       "      <td>5</td>\n",
       "      <td>matrix, the (1999)</td>\n",
       "    </tr>\n",
       "    <tr>\n",
       "      <th>1</th>\n",
       "      <td>6041</td>\n",
       "      <td>1270</td>\n",
       "      <td>4</td>\n",
       "      <td>back to the future (1985)</td>\n",
       "    </tr>\n",
       "    <tr>\n",
       "      <th>2</th>\n",
       "      <td>6041</td>\n",
       "      <td>1721</td>\n",
       "      <td>5</td>\n",
       "      <td>titanic (1997)</td>\n",
       "    </tr>\n",
       "    <tr>\n",
       "      <th>3</th>\n",
       "      <td>6041</td>\n",
       "      <td>588</td>\n",
       "      <td>5</td>\n",
       "      <td>aladdin (1992)</td>\n",
       "    </tr>\n",
       "    <tr>\n",
       "      <th>4</th>\n",
       "      <td>6041</td>\n",
       "      <td>1</td>\n",
       "      <td>4</td>\n",
       "      <td>toy story (1995)</td>\n",
       "    </tr>\n",
       "    <tr>\n",
       "      <th>5</th>\n",
       "      <td>6042</td>\n",
       "      <td>1097</td>\n",
       "      <td>5</td>\n",
       "      <td>e.t. the extra-terrestrial (1982)</td>\n",
       "    </tr>\n",
       "    <tr>\n",
       "      <th>6</th>\n",
       "      <td>6042</td>\n",
       "      <td>1704</td>\n",
       "      <td>3</td>\n",
       "      <td>good will hunting (1997)</td>\n",
       "    </tr>\n",
       "    <tr>\n",
       "      <th>7</th>\n",
       "      <td>6042</td>\n",
       "      <td>588</td>\n",
       "      <td>5</td>\n",
       "      <td>aladdin (1992)</td>\n",
       "    </tr>\n",
       "    <tr>\n",
       "      <th>8</th>\n",
       "      <td>6042</td>\n",
       "      <td>2355</td>\n",
       "      <td>5</td>\n",
       "      <td>bug's life, a (1998)</td>\n",
       "    </tr>\n",
       "    <tr>\n",
       "      <th>9</th>\n",
       "      <td>6042</td>\n",
       "      <td>364</td>\n",
       "      <td>5</td>\n",
       "      <td>lion king, the (1994)</td>\n",
       "    </tr>\n",
       "    <tr>\n",
       "      <th>10</th>\n",
       "      <td>6043</td>\n",
       "      <td>2858</td>\n",
       "      <td>5</td>\n",
       "      <td>american beauty (1999)</td>\n",
       "    </tr>\n",
       "    <tr>\n",
       "      <th>11</th>\n",
       "      <td>6043</td>\n",
       "      <td>480</td>\n",
       "      <td>4</td>\n",
       "      <td>jurassic park (1993)</td>\n",
       "    </tr>\n",
       "    <tr>\n",
       "      <th>12</th>\n",
       "      <td>6043</td>\n",
       "      <td>356</td>\n",
       "      <td>4</td>\n",
       "      <td>forrest gump (1994)</td>\n",
       "    </tr>\n",
       "    <tr>\n",
       "      <th>13</th>\n",
       "      <td>6043</td>\n",
       "      <td>593</td>\n",
       "      <td>5</td>\n",
       "      <td>silence of the lambs, the (1991)</td>\n",
       "    </tr>\n",
       "    <tr>\n",
       "      <th>14</th>\n",
       "      <td>6043</td>\n",
       "      <td>1580</td>\n",
       "      <td>5</td>\n",
       "      <td>men in black (1997)</td>\n",
       "    </tr>\n",
       "  </tbody>\n",
       "</table>\n",
       "</div>"
      ],
      "text/plain": [
       "    user_id  movie_id  counts                              title\n",
       "0      6041      2571       5                 matrix, the (1999)\n",
       "1      6041      1270       4          back to the future (1985)\n",
       "2      6041      1721       5                     titanic (1997)\n",
       "3      6041       588       5                     aladdin (1992)\n",
       "4      6041         1       4                   toy story (1995)\n",
       "5      6042      1097       5  e.t. the extra-terrestrial (1982)\n",
       "6      6042      1704       3           good will hunting (1997)\n",
       "7      6042       588       5                     aladdin (1992)\n",
       "8      6042      2355       5               bug's life, a (1998)\n",
       "9      6042       364       5              lion king, the (1994)\n",
       "10     6043      2858       5             american beauty (1999)\n",
       "11     6043       480       4               jurassic park (1993)\n",
       "12     6043       356       4                forrest gump (1994)\n",
       "13     6043       593       5   silence of the lambs, the (1991)\n",
       "14     6043      1580       5                men in black (1997)"
      ]
     },
     "execution_count": 12,
     "metadata": {},
     "output_type": "execute_result"
    }
   ],
   "source": [
    "#user_id\tmovie_id\tcounts\ttitle\n",
    "new_data = [(6041, 2571, 5, 'matrix, the (1999)'),\n",
    "           (6041, 1270, 4, 'back to the future (1985)'),\n",
    "           (6041, 1721, 5, 'titanic (1997)'),\n",
    "           (6041, 588, 5, 'aladdin (1992)'),\n",
    "           (6041, 1, 4, 'toy story (1995)') ,\n",
    "            \n",
    "           (6042, 1097, 5, 'e.t. the extra-terrestrial (1982)'),\n",
    "           (6042, 1704, 3, 'good will hunting (1997)'),\n",
    "           (6042, 588, 5, 'aladdin (1992)'),\n",
    "           (6042, 2355, 5, \"bug's life, a (1998)\"),\n",
    "           (6042, 364, 5, 'lion king, the (1994)') ,\n",
    "            \n",
    "           (6043, 2858, 5, 'american beauty (1999)'),\n",
    "           (6043, 480, 4, 'jurassic park (1993)'),\n",
    "           (6043, 356, 4, 'forrest gump (1994)'),\n",
    "           (6043, 593, 5, 'silence of the lambs, the (1991)'),\n",
    "           (6043, 1580, 5, 'men in black (1997)') ,]\n",
    "\n",
    "new_data = pd.DataFrame(new_data, columns = ['user_id' , 'movie_id', 'counts', 'title'])\n",
    "new_data"
   ]
  },
  {
   "cell_type": "code",
   "execution_count": 13,
   "id": "2a37832d",
   "metadata": {
    "scrolled": true
   },
   "outputs": [
    {
     "data": {
      "text/html": [
       "<div>\n",
       "<style scoped>\n",
       "    .dataframe tbody tr th:only-of-type {\n",
       "        vertical-align: middle;\n",
       "    }\n",
       "\n",
       "    .dataframe tbody tr th {\n",
       "        vertical-align: top;\n",
       "    }\n",
       "\n",
       "    .dataframe thead th {\n",
       "        text-align: right;\n",
       "    }\n",
       "</style>\n",
       "<table border=\"1\" class=\"dataframe\">\n",
       "  <thead>\n",
       "    <tr style=\"text-align: right;\">\n",
       "      <th></th>\n",
       "      <th>user_id</th>\n",
       "      <th>movie_id</th>\n",
       "      <th>counts</th>\n",
       "      <th>title</th>\n",
       "    </tr>\n",
       "  </thead>\n",
       "  <tbody>\n",
       "    <tr>\n",
       "      <th>836473</th>\n",
       "      <td>6040</td>\n",
       "      <td>1090</td>\n",
       "      <td>3</td>\n",
       "      <td>platoon (1986)</td>\n",
       "    </tr>\n",
       "    <tr>\n",
       "      <th>836474</th>\n",
       "      <td>6040</td>\n",
       "      <td>1094</td>\n",
       "      <td>5</td>\n",
       "      <td>crying game, the (1992)</td>\n",
       "    </tr>\n",
       "    <tr>\n",
       "      <th>836475</th>\n",
       "      <td>6040</td>\n",
       "      <td>562</td>\n",
       "      <td>5</td>\n",
       "      <td>welcome to the dollhouse (1995)</td>\n",
       "    </tr>\n",
       "    <tr>\n",
       "      <th>836476</th>\n",
       "      <td>6040</td>\n",
       "      <td>1096</td>\n",
       "      <td>4</td>\n",
       "      <td>sophie's choice (1982)</td>\n",
       "    </tr>\n",
       "    <tr>\n",
       "      <th>836477</th>\n",
       "      <td>6040</td>\n",
       "      <td>1097</td>\n",
       "      <td>4</td>\n",
       "      <td>e.t. the extra-terrestrial (1982)</td>\n",
       "    </tr>\n",
       "    <tr>\n",
       "      <th>836478</th>\n",
       "      <td>6041</td>\n",
       "      <td>2571</td>\n",
       "      <td>5</td>\n",
       "      <td>matrix, the (1999)</td>\n",
       "    </tr>\n",
       "    <tr>\n",
       "      <th>836479</th>\n",
       "      <td>6041</td>\n",
       "      <td>1270</td>\n",
       "      <td>4</td>\n",
       "      <td>back to the future (1985)</td>\n",
       "    </tr>\n",
       "    <tr>\n",
       "      <th>836480</th>\n",
       "      <td>6041</td>\n",
       "      <td>1721</td>\n",
       "      <td>5</td>\n",
       "      <td>titanic (1997)</td>\n",
       "    </tr>\n",
       "    <tr>\n",
       "      <th>836481</th>\n",
       "      <td>6041</td>\n",
       "      <td>588</td>\n",
       "      <td>5</td>\n",
       "      <td>aladdin (1992)</td>\n",
       "    </tr>\n",
       "    <tr>\n",
       "      <th>836482</th>\n",
       "      <td>6041</td>\n",
       "      <td>1</td>\n",
       "      <td>4</td>\n",
       "      <td>toy story (1995)</td>\n",
       "    </tr>\n",
       "    <tr>\n",
       "      <th>836483</th>\n",
       "      <td>6042</td>\n",
       "      <td>1097</td>\n",
       "      <td>5</td>\n",
       "      <td>e.t. the extra-terrestrial (1982)</td>\n",
       "    </tr>\n",
       "    <tr>\n",
       "      <th>836484</th>\n",
       "      <td>6042</td>\n",
       "      <td>1704</td>\n",
       "      <td>3</td>\n",
       "      <td>good will hunting (1997)</td>\n",
       "    </tr>\n",
       "    <tr>\n",
       "      <th>836485</th>\n",
       "      <td>6042</td>\n",
       "      <td>588</td>\n",
       "      <td>5</td>\n",
       "      <td>aladdin (1992)</td>\n",
       "    </tr>\n",
       "    <tr>\n",
       "      <th>836486</th>\n",
       "      <td>6042</td>\n",
       "      <td>2355</td>\n",
       "      <td>5</td>\n",
       "      <td>bug's life, a (1998)</td>\n",
       "    </tr>\n",
       "    <tr>\n",
       "      <th>836487</th>\n",
       "      <td>6042</td>\n",
       "      <td>364</td>\n",
       "      <td>5</td>\n",
       "      <td>lion king, the (1994)</td>\n",
       "    </tr>\n",
       "    <tr>\n",
       "      <th>836488</th>\n",
       "      <td>6043</td>\n",
       "      <td>2858</td>\n",
       "      <td>5</td>\n",
       "      <td>american beauty (1999)</td>\n",
       "    </tr>\n",
       "    <tr>\n",
       "      <th>836489</th>\n",
       "      <td>6043</td>\n",
       "      <td>480</td>\n",
       "      <td>4</td>\n",
       "      <td>jurassic park (1993)</td>\n",
       "    </tr>\n",
       "    <tr>\n",
       "      <th>836490</th>\n",
       "      <td>6043</td>\n",
       "      <td>356</td>\n",
       "      <td>4</td>\n",
       "      <td>forrest gump (1994)</td>\n",
       "    </tr>\n",
       "    <tr>\n",
       "      <th>836491</th>\n",
       "      <td>6043</td>\n",
       "      <td>593</td>\n",
       "      <td>5</td>\n",
       "      <td>silence of the lambs, the (1991)</td>\n",
       "    </tr>\n",
       "    <tr>\n",
       "      <th>836492</th>\n",
       "      <td>6043</td>\n",
       "      <td>1580</td>\n",
       "      <td>5</td>\n",
       "      <td>men in black (1997)</td>\n",
       "    </tr>\n",
       "  </tbody>\n",
       "</table>\n",
       "</div>"
      ],
      "text/plain": [
       "        user_id  movie_id  counts                              title\n",
       "836473     6040      1090       3                     platoon (1986)\n",
       "836474     6040      1094       5            crying game, the (1992)\n",
       "836475     6040       562       5    welcome to the dollhouse (1995)\n",
       "836476     6040      1096       4             sophie's choice (1982)\n",
       "836477     6040      1097       4  e.t. the extra-terrestrial (1982)\n",
       "836478     6041      2571       5                 matrix, the (1999)\n",
       "836479     6041      1270       4          back to the future (1985)\n",
       "836480     6041      1721       5                     titanic (1997)\n",
       "836481     6041       588       5                     aladdin (1992)\n",
       "836482     6041         1       4                   toy story (1995)\n",
       "836483     6042      1097       5  e.t. the extra-terrestrial (1982)\n",
       "836484     6042      1704       3           good will hunting (1997)\n",
       "836485     6042       588       5                     aladdin (1992)\n",
       "836486     6042      2355       5               bug's life, a (1998)\n",
       "836487     6042       364       5              lion king, the (1994)\n",
       "836488     6043      2858       5             american beauty (1999)\n",
       "836489     6043       480       4               jurassic park (1993)\n",
       "836490     6043       356       4                forrest gump (1994)\n",
       "836491     6043       593       5   silence of the lambs, the (1991)\n",
       "836492     6043      1580       5                men in black (1997)"
      ]
     },
     "execution_count": 13,
     "metadata": {},
     "output_type": "execute_result"
    }
   ],
   "source": [
    "ratings=ratings.append(new_data,ignore_index=True)\n",
    "ratings.tail(20)       # 잘 추가되었는지 확인해 봅시다."
   ]
  },
  {
   "cell_type": "code",
   "execution_count": 14,
   "id": "7ffe0374",
   "metadata": {},
   "outputs": [
    {
     "data": {
      "text/plain": [
       "(6042, 3628)"
      ]
     },
     "execution_count": 14,
     "metadata": {},
     "output_type": "execute_result"
    }
   ],
   "source": [
    "ratings['user_id'].nunique(), ratings['title'].nunique()"
   ]
  },
  {
   "cell_type": "markdown",
   "id": "3b508bd6",
   "metadata": {},
   "source": [
    "6042명의 user와, 3628개의 movie 데이터를 관리하기 쉽도록 각각 인덱싱작업을 해준다. "
   ]
  },
  {
   "cell_type": "code",
   "execution_count": 15,
   "id": "ec9a9b83",
   "metadata": {},
   "outputs": [
    {
     "data": {
      "text/plain": [
       "(6042, 3628)"
      ]
     },
     "execution_count": 15,
     "metadata": {},
     "output_type": "execute_result"
    }
   ],
   "source": [
    "# 고유한 유저, 영화를 찾아내는 코드\n",
    "user_unique = ratings.user_id.unique()\n",
    "movie_unique = ratings.title.unique()\n",
    "\n",
    "# 유저, 영화 데이터에 indexing \n",
    "user_to_idx = {v:k for k,v in enumerate(user_unique)}\n",
    "movie_to_idx = {v:k for k,v in enumerate(movie_unique)}\n",
    "len(user_to_idx), len(movie_to_idx)"
   ]
  },
  {
   "cell_type": "code",
   "execution_count": 16,
   "id": "41388c42",
   "metadata": {},
   "outputs": [
    {
     "name": "stdout",
     "output_type": "stream",
     "text": [
      "6041\n",
      "33\n"
     ]
    }
   ],
   "source": [
    "# 인덱싱이 잘 되었는지 확인해 봅니다. \n",
    "print(user_to_idx[6043])    #마지막에 추가한 user_id 6043에 대해 마지막인덱스로 60341 나왔다. (기존에 6039명이 있었음.)\n",
    "print(movie_to_idx['aladdin (1992)'])"
   ]
  },
  {
   "cell_type": "markdown",
   "id": "71f9e60e",
   "metadata": {},
   "source": [
    "ratings dataFrame안의 user_id, movie_id정보를 위에서 생성한 인덱스 값으로 변경하겠다."
   ]
  },
  {
   "cell_type": "code",
   "execution_count": 17,
   "id": "f5aac1c0",
   "metadata": {},
   "outputs": [
    {
     "name": "stdout",
     "output_type": "stream",
     "text": [
      "user_id column indexing OK!!\n"
     ]
    }
   ],
   "source": [
    "# user_to_idx.get을 통해 user_id 컬럼의 모든 값을 인덱싱한 Series를 구해 봅시다. \n",
    "# 혹시 정상적으로 인덱싱되지 않은 row가 있다면 인덱스가 NaN이 될 테니 dropna()로 제거합니다. \n",
    "temp_user_data = ratings['user_id'].map(user_to_idx.get).dropna()\n",
    "if len(temp_user_data) == len(ratings):   # 모든 row가 정상적으로 인덱싱되었다면\n",
    "    print('user_id column indexing OK!!')\n",
    "    ratings['user_id'] = temp_user_data   # data['user_id']을 인덱싱된 Series로 교체해 줍니다. \n",
    "else:\n",
    "    print('user_id column indexing Fail!!')"
   ]
  },
  {
   "cell_type": "code",
   "execution_count": 18,
   "id": "c47fdf1d",
   "metadata": {},
   "outputs": [
    {
     "name": "stdout",
     "output_type": "stream",
     "text": [
      "title column indexing OK!!\n"
     ]
    }
   ],
   "source": [
    "# movie_to_idx.get을 통해 artist 컬럼도 동일한 방식으로 인덱싱해 줍니다. \n",
    "temp_movie_data = ratings['title'].map(movie_to_idx.get).dropna()\n",
    "if len(temp_movie_data) == len(ratings):\n",
    "    print('title column indexing OK!!')\n",
    "    ratings['title'] = temp_movie_data\n",
    "else:\n",
    "    print('title column indexing Fail!!')"
   ]
  },
  {
   "cell_type": "code",
   "execution_count": 19,
   "id": "45f19360",
   "metadata": {
    "scrolled": true
   },
   "outputs": [
    {
     "data": {
      "text/html": [
       "<div>\n",
       "<style scoped>\n",
       "    .dataframe tbody tr th:only-of-type {\n",
       "        vertical-align: middle;\n",
       "    }\n",
       "\n",
       "    .dataframe tbody tr th {\n",
       "        vertical-align: top;\n",
       "    }\n",
       "\n",
       "    .dataframe thead th {\n",
       "        text-align: right;\n",
       "    }\n",
       "</style>\n",
       "<table border=\"1\" class=\"dataframe\">\n",
       "  <thead>\n",
       "    <tr style=\"text-align: right;\">\n",
       "      <th></th>\n",
       "      <th>user_id</th>\n",
       "      <th>movie_id</th>\n",
       "      <th>counts</th>\n",
       "      <th>title</th>\n",
       "    </tr>\n",
       "  </thead>\n",
       "  <tbody>\n",
       "    <tr>\n",
       "      <th>0</th>\n",
       "      <td>0</td>\n",
       "      <td>1193</td>\n",
       "      <td>5</td>\n",
       "      <td>0</td>\n",
       "    </tr>\n",
       "    <tr>\n",
       "      <th>1</th>\n",
       "      <td>0</td>\n",
       "      <td>661</td>\n",
       "      <td>3</td>\n",
       "      <td>1</td>\n",
       "    </tr>\n",
       "    <tr>\n",
       "      <th>2</th>\n",
       "      <td>0</td>\n",
       "      <td>914</td>\n",
       "      <td>3</td>\n",
       "      <td>2</td>\n",
       "    </tr>\n",
       "    <tr>\n",
       "      <th>3</th>\n",
       "      <td>0</td>\n",
       "      <td>3408</td>\n",
       "      <td>4</td>\n",
       "      <td>3</td>\n",
       "    </tr>\n",
       "    <tr>\n",
       "      <th>4</th>\n",
       "      <td>0</td>\n",
       "      <td>2355</td>\n",
       "      <td>5</td>\n",
       "      <td>4</td>\n",
       "    </tr>\n",
       "  </tbody>\n",
       "</table>\n",
       "</div>"
      ],
      "text/plain": [
       "   user_id  movie_id  counts  title\n",
       "0        0      1193       5      0\n",
       "1        0       661       3      1\n",
       "2        0       914       3      2\n",
       "3        0      3408       4      3\n",
       "4        0      2355       5      4"
      ]
     },
     "execution_count": 19,
     "metadata": {},
     "output_type": "execute_result"
    }
   ],
   "source": [
    "ratings.head()"
   ]
  },
  {
   "cell_type": "code",
   "execution_count": 20,
   "id": "09239e29",
   "metadata": {
    "scrolled": false
   },
   "outputs": [
    {
     "data": {
      "text/html": [
       "<div>\n",
       "<style scoped>\n",
       "    .dataframe tbody tr th:only-of-type {\n",
       "        vertical-align: middle;\n",
       "    }\n",
       "\n",
       "    .dataframe tbody tr th {\n",
       "        vertical-align: top;\n",
       "    }\n",
       "\n",
       "    .dataframe thead th {\n",
       "        text-align: right;\n",
       "    }\n",
       "</style>\n",
       "<table border=\"1\" class=\"dataframe\">\n",
       "  <thead>\n",
       "    <tr style=\"text-align: right;\">\n",
       "      <th></th>\n",
       "      <th>user_id</th>\n",
       "      <th>movie_id</th>\n",
       "      <th>counts</th>\n",
       "      <th>title</th>\n",
       "    </tr>\n",
       "  </thead>\n",
       "  <tbody>\n",
       "    <tr>\n",
       "      <th>836488</th>\n",
       "      <td>6041</td>\n",
       "      <td>2858</td>\n",
       "      <td>5</td>\n",
       "      <td>99</td>\n",
       "    </tr>\n",
       "    <tr>\n",
       "      <th>836489</th>\n",
       "      <td>6041</td>\n",
       "      <td>480</td>\n",
       "      <td>4</td>\n",
       "      <td>107</td>\n",
       "    </tr>\n",
       "    <tr>\n",
       "      <th>836490</th>\n",
       "      <td>6041</td>\n",
       "      <td>356</td>\n",
       "      <td>4</td>\n",
       "      <td>160</td>\n",
       "    </tr>\n",
       "    <tr>\n",
       "      <th>836491</th>\n",
       "      <td>6041</td>\n",
       "      <td>593</td>\n",
       "      <td>5</td>\n",
       "      <td>121</td>\n",
       "    </tr>\n",
       "    <tr>\n",
       "      <th>836492</th>\n",
       "      <td>6041</td>\n",
       "      <td>1580</td>\n",
       "      <td>5</td>\n",
       "      <td>175</td>\n",
       "    </tr>\n",
       "  </tbody>\n",
       "</table>\n",
       "</div>"
      ],
      "text/plain": [
       "        user_id  movie_id  counts  title\n",
       "836488     6041      2858       5     99\n",
       "836489     6041       480       4    107\n",
       "836490     6041       356       4    160\n",
       "836491     6041       593       5    121\n",
       "836492     6041      1580       5    175"
      ]
     },
     "execution_count": 20,
     "metadata": {},
     "output_type": "execute_result"
    }
   ],
   "source": [
    "ratings.tail()"
   ]
  },
  {
   "cell_type": "markdown",
   "id": "0590c774",
   "metadata": {},
   "source": [
    "---\n",
    "### CSR matrix\n",
    "\n",
    "평가행렬의 용량을 줄여 CSR(Compressed Sparse Row) Matrix로 표현해보겠다.\n"
   ]
  },
  {
   "cell_type": "code",
   "execution_count": 21,
   "id": "58148da2",
   "metadata": {},
   "outputs": [
    {
     "data": {
      "text/plain": [
       "(6042, 3628)"
      ]
     },
     "execution_count": 21,
     "metadata": {},
     "output_type": "execute_result"
    }
   ],
   "source": [
    "from scipy.sparse import csr_matrix\n",
    "\n",
    "num_user = ratings['user_id'].nunique()\n",
    "num_movie = ratings['title'].nunique()\n",
    "\n",
    "num_user, num_movie "
   ]
  },
  {
   "cell_type": "code",
   "execution_count": 22,
   "id": "f427b3ad",
   "metadata": {},
   "outputs": [
    {
     "data": {
      "text/plain": [
       "<6042x3628 sparse matrix of type '<class 'numpy.int64'>'\n",
       "\twith 836493 stored elements in Compressed Sparse Row format>"
      ]
     },
     "execution_count": 22,
     "metadata": {},
     "output_type": "execute_result"
    }
   ],
   "source": [
    "csr_data = csr_matrix((ratings.counts, (ratings.user_id, ratings.title)), shape= (num_user, num_movie))\n",
    "csr_data"
   ]
  },
  {
   "cell_type": "markdown",
   "id": "bacfb8d9",
   "metadata": {},
   "source": [
    "### 모델 학습"
   ]
  },
  {
   "cell_type": "code",
   "execution_count": 23,
   "id": "d13601d6",
   "metadata": {},
   "outputs": [
    {
     "data": {
      "text/plain": [
       "<3628x6042 sparse matrix of type '<class 'numpy.int64'>'\n",
       "\twith 836493 stored elements in Compressed Sparse Column format>"
      ]
     },
     "execution_count": 23,
     "metadata": {},
     "output_type": "execute_result"
    }
   ],
   "source": [
    "from implicit.als import AlternatingLeastSquares\n",
    "import numpy as np\n",
    "\n",
    "# implicit 라이브러리에서 권장하고 있는 부분입니다. 학습 내용과는 무관합니다.\n",
    "os.environ['OPENBLAS_NUM_THREADS']='1'\n",
    "os.environ['KMP_DUPLICATE_LIB_OK']='True'\n",
    "os.environ['MKL_NUM_THREADS']='1'\n",
    "\n",
    "# als 모델은 input으로 (item X user 꼴의 matrix를 받기 때문에 Transpose해줍니다.)\n",
    "csr_data_transpose = csr_data.T\n",
    "csr_data_transpose"
   ]
  },
  {
   "cell_type": "code",
   "execution_count": 24,
   "id": "978da8f9",
   "metadata": {},
   "outputs": [
    {
     "data": {
      "application/vnd.jupyter.widget-view+json": {
       "model_id": "82d0a266b5e4452ea84177212d9e1dc1",
       "version_major": 2,
       "version_minor": 0
      },
      "text/plain": [
       "  0%|          | 0/15 [00:00<?, ?it/s]"
      ]
     },
     "metadata": {},
     "output_type": "display_data"
    }
   ],
   "source": [
    "# Implicit AlternatingLeastSquares 모델의 선언\n",
    "als_model = AlternatingLeastSquares(factors=100, regularization=0.01, use_gpu=False, iterations=15, dtype=np.float32)\n",
    "\n",
    "# 모델 훈련\n",
    "als_model.fit(csr_data_transpose)"
   ]
  },
  {
   "cell_type": "markdown",
   "id": "b74dc54b",
   "metadata": {},
   "source": [
    "### 내가 선호하는 영화와 그 외의 영화에 대한 나의 선호도"
   ]
  },
  {
   "cell_type": "markdown",
   "id": "8c19ccf6",
   "metadata": {},
   "source": [
    "마지막에 추가한 user_id [6041], 영화 titanic (1997)에 대한 벡터값들을 확인해보자"
   ]
  },
  {
   "cell_type": "code",
   "execution_count": 25,
   "id": "47faa117",
   "metadata": {},
   "outputs": [],
   "source": [
    "last_user, last_movie = user_to_idx[6041], movie_to_idx['titanic (1997)']\n",
    "last_user_vector, last_movie_vector = als_model.user_factors[last_user], als_model.item_factors[last_movie]"
   ]
  },
  {
   "cell_type": "code",
   "execution_count": 26,
   "id": "fa664883",
   "metadata": {},
   "outputs": [
    {
     "data": {
      "text/plain": [
       "array([-0.3446502 ,  1.1026223 ,  0.17376597,  0.3440775 ,  0.80332905,\n",
       "       -0.47096732, -0.65227026,  0.20853305, -0.714974  ,  0.29433164,\n",
       "        0.21164024,  0.15444186,  0.5455576 ,  0.11387154, -0.13939147,\n",
       "       -0.13651806,  0.07362977, -0.88124055,  0.841511  , -0.9277234 ,\n",
       "        0.15856582,  0.47199938, -1.0519017 ,  0.3041424 ,  0.43585628,\n",
       "        0.3796697 ,  0.16313912, -0.07512835,  0.24821253, -1.5467007 ,\n",
       "        0.34449133, -0.4487754 ,  0.03319362,  0.02590734,  0.04301481,\n",
       "        0.26584026, -0.35555062,  0.39351353,  0.49657917,  0.2017085 ,\n",
       "        0.1130068 ,  0.88431656, -0.32501358, -0.64924616,  0.20857474,\n",
       "       -0.33494684,  0.01197236,  0.49250042, -0.00843072,  0.6446664 ,\n",
       "       -0.58950174,  0.8764874 ,  0.17487301,  1.0510213 , -0.1626911 ,\n",
       "       -0.45757362, -0.21124314, -0.9943692 , -0.4754723 , -0.316567  ,\n",
       "       -0.00205546,  0.21558306,  0.2685231 ,  0.7698924 ,  0.2354974 ,\n",
       "       -0.7059234 ,  0.96514064,  0.5830335 ,  0.48800236, -0.5619166 ,\n",
       "        0.04625222,  0.460358  ,  0.64445794, -0.15090671,  0.10987191,\n",
       "       -0.30909964, -0.30337483, -0.7997813 , -0.11787873,  0.35958907,\n",
       "       -0.366559  ,  0.1649099 , -0.33530924,  0.7614098 , -0.5771045 ,\n",
       "       -0.10283031, -0.41711172,  0.11765797, -0.96612227,  0.2270436 ,\n",
       "        0.2444538 , -0.15110824,  0.63361764, -0.07740615, -0.61363864,\n",
       "        0.39634892,  0.03751961, -0.11965556, -0.0311553 , -0.21770415],\n",
       "      dtype=float32)"
      ]
     },
     "execution_count": 26,
     "metadata": {},
     "output_type": "execute_result"
    }
   ],
   "source": [
    "last_user_vector"
   ]
  },
  {
   "cell_type": "code",
   "execution_count": 27,
   "id": "d0dd1e88",
   "metadata": {},
   "outputs": [
    {
     "data": {
      "text/plain": [
       "array([ 0.0158046 ,  0.02675433, -0.00407512, -0.0029323 ,  0.02107136,\n",
       "       -0.01680096,  0.01457413,  0.02039789,  0.00091514, -0.00619166,\n",
       "        0.0307459 , -0.00077351,  0.00643643,  0.01738283, -0.00954245,\n",
       "        0.02608388,  0.0159146 , -0.04024112,  0.0451123 ,  0.01428115,\n",
       "       -0.02046717,  0.02959254, -0.00175053, -0.01422487,  0.03202573,\n",
       "       -0.01340403,  0.01421292,  0.00537834,  0.02446434, -0.03248436,\n",
       "        0.00981927,  0.02086072,  0.01846663,  0.02979247, -0.01710826,\n",
       "        0.01005177,  0.01056275,  0.03613987,  0.02202214, -0.0004554 ,\n",
       "        0.04721832,  0.03390191,  0.00558758, -0.05700228, -0.02038109,\n",
       "       -0.01692988,  0.003636  ,  0.0271568 , -0.02581342,  0.03404456,\n",
       "       -0.00305533,  0.04523449, -0.00263496,  0.00385368,  0.00490917,\n",
       "       -0.01891116, -0.01410659, -0.01257554,  0.0154302 , -0.01530947,\n",
       "       -0.01542309, -0.02458785,  0.00056657,  0.04935461,  0.03442408,\n",
       "       -0.00478082,  0.0080528 , -0.02844953,  0.04451954, -0.00973686,\n",
       "        0.00615459, -0.00400779,  0.03460421,  0.03093621, -0.00870643,\n",
       "       -0.00774807,  0.01757729, -0.02471949,  0.01364535,  0.00382295,\n",
       "        0.01329754, -0.00529655, -0.0349077 ,  0.00493557, -0.00411903,\n",
       "       -0.00033419, -0.01502201,  0.02101556, -0.01554402, -0.00080044,\n",
       "        0.01534951, -0.02611825,  0.02736927,  0.01920255, -0.02125583,\n",
       "        0.02803702,  0.00370875,  0.00133583, -0.00033035,  0.02960466],\n",
       "      dtype=float32)"
      ]
     },
     "execution_count": 27,
     "metadata": {},
     "output_type": "execute_result"
    }
   ],
   "source": [
    "last_movie_vector"
   ]
  },
  {
   "cell_type": "code",
   "execution_count": 28,
   "id": "3c3f1ca8",
   "metadata": {},
   "outputs": [
    {
     "data": {
      "text/plain": [
       "0.54924333"
      ]
     },
     "execution_count": 28,
     "metadata": {},
     "output_type": "execute_result"
    }
   ],
   "source": [
    "# last_user_vector과 last_movie_vector를 내적하는 코드\n",
    "np.dot(last_user_vector, last_movie_vector)"
   ]
  },
  {
   "cell_type": "markdown",
   "id": "becacdc6",
   "metadata": {},
   "source": [
    "0.54점이 나왔다. 0.5 이상의 값이므로 약간 선호하는 것으로 판단할수 있겠다.\n",
    "\n",
    "user_id [6041] 가 재생해보지 않은 영화로 sophie's choice (1982)에 대한 벡터값도 확인해보자  "
   ]
  },
  {
   "cell_type": "code",
   "execution_count": 29,
   "id": "3c34a632",
   "metadata": {},
   "outputs": [
    {
     "data": {
      "text/plain": [
       "-0.024477204"
      ]
     },
     "execution_count": 29,
     "metadata": {},
     "output_type": "execute_result"
    }
   ],
   "source": [
    "last_user, last_movie = user_to_idx[6041], movie_to_idx['crying game, the (1992)']\n",
    "last_user_vector, last_movie_vector = als_model.user_factors[last_user], als_model.item_factors[last_movie]\n",
    "# last_user_vector과 last_movie_vector를 내적하는 코드\n",
    "np.dot(last_user_vector, last_movie_vector)"
   ]
  },
  {
   "cell_type": "markdown",
   "id": "0c24dbd4",
   "metadata": {},
   "source": [
    "-0.02 로 의 아주 음수 값이 나왔다. 짧은 훈련으로 선호도를 잘파악하고있는 것 같다."
   ]
  },
  {
   "cell_type": "markdown",
   "id": "85048de6",
   "metadata": {},
   "source": [
    "### 내가 좋아하는 영화와 비슷한 영화 추천\n",
    "\n",
    "- similar_items : 비슷한 취향의 영화 추천됨."
   ]
  },
  {
   "cell_type": "code",
   "execution_count": 30,
   "id": "d1dd3d59",
   "metadata": {
    "scrolled": false
   },
   "outputs": [
    {
     "data": {
      "text/plain": [
       "[(33, 1.0000001),\n",
       " (10, 0.8620963),\n",
       " (330, 0.8041576),\n",
       " (191, 0.61239696),\n",
       " (40, 0.6056191),\n",
       " (32, 0.58851725),\n",
       " (35, 0.5854044),\n",
       " (34, 0.5622651),\n",
       " (16, 0.5602789),\n",
       " (329, 0.54050756)]"
      ]
     },
     "execution_count": 30,
     "metadata": {},
     "output_type": "execute_result"
    }
   ],
   "source": [
    "favorite_movie = 'aladdin (1992)' # 영화 Titanic\n",
    "movie_id = movie_to_idx[favorite_movie]\n",
    "similar_movie = als_model.similar_items(movie_id, N=10) #top 10\n",
    "similar_movie"
   ]
  },
  {
   "cell_type": "markdown",
   "id": "91fd584b",
   "metadata": {},
   "source": [
    "유사도가 높은 상위 10개의 영화 인덱스가 반환되었다. 인덱스를 영화제목으로 다시 맴핑시켜서 출력해보자."
   ]
  },
  {
   "cell_type": "code",
   "execution_count": 31,
   "id": "85170e16",
   "metadata": {
    "scrolled": false
   },
   "outputs": [
    {
     "data": {
      "text/plain": [
       "['aladdin (1992)',\n",
       " 'beauty and the beast (1991)',\n",
       " 'lion king, the (1994)',\n",
       " 'little mermaid, the (1989)',\n",
       " 'toy story (1995)',\n",
       " 'hercules (1997)',\n",
       " 'hunchback of notre dame, the (1996)',\n",
       " 'mulan (1998)',\n",
       " 'tarzan (1999)',\n",
       " 'anastasia (1997)']"
      ]
     },
     "execution_count": 31,
     "metadata": {},
     "output_type": "execute_result"
    }
   ],
   "source": [
    "#movie_to_idx 를 뒤집어, index로부터  영화 이름을 얻는 dict를 생성합니다. \n",
    "idx_to_movie = {v:k for k,v in movie_to_idx.items()}\n",
    "[idx_to_movie[i[0]] for i in similar_movie]"
   ]
  },
  {
   "cell_type": "markdown",
   "id": "c263ecc7",
   "metadata": {},
   "source": [
    "유사도가 비슷한 애니메이션 장르의 영화들이 추천되었다.\n",
    "```\n",
    " 'aladdin (1992)',\n",
    " 'beauty and the beast (1991)',\n",
    " 'lion king, the (1994)',\n",
    " 'little mermaid, the (1989)',\n",
    " 'toy story (1995)',\n",
    " 'hercules (1997)',\n",
    "```"
   ]
  },
  {
   "cell_type": "code",
   "execution_count": 32,
   "id": "ec217626",
   "metadata": {},
   "outputs": [],
   "source": [
    "def get_similar_movie(movie_name: str, n_rank=10):\n",
    "    movie_id = movie_to_idx[movie_name]\n",
    "    similar_movie= als_model.similar_items(movie_id, N=n_rank)\n",
    "    similar_movie = [idx_to_movie[i[0]] for i in similar_movie]\n",
    "    return similar_movie"
   ]
  },
  {
   "cell_type": "code",
   "execution_count": 33,
   "id": "a48d4dc7",
   "metadata": {},
   "outputs": [
    {
     "data": {
      "text/plain": [
       "['matrix, the (1999)',\n",
       " 'terminator 2: judgment day (1991)',\n",
       " 'total recall (1990)',\n",
       " 'fugitive, the (1993)',\n",
       " 'terminator, the (1984)']"
      ]
     },
     "execution_count": 33,
     "metadata": {},
     "output_type": "execute_result"
    }
   ],
   "source": [
    "get_similar_movie('matrix, the (1999)', 5)"
   ]
  },
  {
   "cell_type": "markdown",
   "id": "cd02281d",
   "metadata": {},
   "source": [
    "매트릭스에 대해서는 SF 영화들이 추천되었다. "
   ]
  },
  {
   "cell_type": "markdown",
   "id": "5a757d0a",
   "metadata": {},
   "source": [
    "### 내가 가장 좋아할 만한 영화 추천"
   ]
  },
  {
   "cell_type": "code",
   "execution_count": 34,
   "id": "91912955",
   "metadata": {},
   "outputs": [
    {
     "data": {
      "text/plain": [
       "[(10, 0.38076442),\n",
       " (50, 0.3803394),\n",
       " (330, 0.3675252),\n",
       " (26, 0.3630542),\n",
       " (92, 0.3400054),\n",
       " (160, 0.3086535),\n",
       " (126, 0.2786925),\n",
       " (44, 0.27498),\n",
       " (107, 0.25512207),\n",
       " (141, 0.24848299)]"
      ]
     },
     "execution_count": 34,
     "metadata": {},
     "output_type": "execute_result"
    }
   ],
   "source": [
    "user = user_to_idx[6041]\n",
    "# recommend에서는 user*item CSR Matrix를 받습니다.\n",
    "movie_recommended = als_model.recommend(user, csr_data, N=10, filter_already_liked_items=True)\n",
    "movie_recommended"
   ]
  },
  {
   "cell_type": "code",
   "execution_count": 35,
   "id": "d0d8302e",
   "metadata": {
    "scrolled": true
   },
   "outputs": [
    {
     "data": {
      "text/plain": [
       "['beauty and the beast (1991)',\n",
       " 'toy story 2 (1999)',\n",
       " 'lion king, the (1994)',\n",
       " 'e.t. the extra-terrestrial (1982)',\n",
       " 'terminator 2: judgment day (1991)',\n",
       " 'forrest gump (1994)',\n",
       " 'shakespeare in love (1998)',\n",
       " 'star wars: episode iv - a new hope (1977)',\n",
       " 'jurassic park (1993)',\n",
       " 'fugitive, the (1993)']"
      ]
     },
     "execution_count": 35,
     "metadata": {},
     "output_type": "execute_result"
    }
   ],
   "source": [
    "[idx_to_movie[i[0]] for i in movie_recommended]"
   ]
  },
  {
   "cell_type": "markdown",
   "id": "e0269d1d",
   "metadata": {},
   "source": [
    "beauty and the beast (1991) 가 추천되었다. 애니메이션이외에 Back to the Future (1985) 나, Matrix, the (1977)가 나의 선호영화에 있어서 비슷한 장르의  terminator 2: judgment day (1991), star wars: episode iv - a new hope (1977)등도 추천되는것을 확인할수 있다.\n",
    "\n",
    "explain함수를 이용해 나의 데이터가 이 추천에 기여한 정도를 확인해보자."
   ]
  },
  {
   "cell_type": "code",
   "execution_count": 36,
   "id": "d98f2bac",
   "metadata": {
    "scrolled": true
   },
   "outputs": [
    {
     "data": {
      "text/plain": [
       "[('aladdin (1992)', 0.27111244145490165),\n",
       " ('toy story (1995)', 0.07836678642515933),\n",
       " ('matrix, the (1999)', 0.012663017833168552),\n",
       " ('back to the future (1985)', 0.010773633010281782),\n",
       " ('titanic (1997)', 0.002166587806446161)]"
      ]
     },
     "execution_count": 36,
     "metadata": {},
     "output_type": "execute_result"
    }
   ],
   "source": [
    "recommended_movie = movie_to_idx['beauty and the beast (1991)']\n",
    "explain = als_model.explain(user, csr_data, itemid=recommended_movie)\n",
    "[(idx_to_movie[i[0]], i[1]) for i in explain[1]]"
   ]
  },
  {
   "cell_type": "markdown",
   "id": "c82b2a97",
   "metadata": {},
   "source": [
    "데이터의 기여도를 볼때 beauty and the beast (1991)가 왜 추천된것을 이해할 수있다.  같은 애니메이션 장르이고 디즈니 공주의 이야기가 나오기 때문이 아닌가 싶다. \n",
    "- aladdin (1992)', 0.27\n",
    "\n",
    "---\n",
    "애니메이션만 좋아했던 user (user_id = 6042)에 대한 추천영화도 함께 확인해보자."
   ]
  },
  {
   "cell_type": "code",
   "execution_count": 37,
   "id": "b3d4c1f8",
   "metadata": {},
   "outputs": [
    {
     "data": {
      "text/plain": [
       "['beauty and the beast (1991)',\n",
       " 'toy story (1995)',\n",
       " 'toy story 2 (1999)',\n",
       " 'little mermaid, the (1989)',\n",
       " 'erin brockovich (2000)',\n",
       " 'iron giant, the (1999)',\n",
       " 'antz (1998)',\n",
       " 'apollo 13 (1995)',\n",
       " 'tarzan (1999)',\n",
       " 'mulan (1998)']"
      ]
     },
     "execution_count": 37,
     "metadata": {},
     "output_type": "execute_result"
    }
   ],
   "source": [
    "user = user_to_idx[6042]\n",
    "movie_recommended = als_model.recommend(user, csr_data, N=10, filter_already_liked_items=True)\n",
    "[idx_to_movie[i[0]] for i in movie_recommended]"
   ]
  },
  {
   "cell_type": "markdown",
   "id": "1c467e5e",
   "metadata": {},
   "source": [
    "역시 사용자 선호도에 맞게 애니메이션이 추천되고있다. "
   ]
  },
  {
   "cell_type": "code",
   "execution_count": 38,
   "id": "727a373b",
   "metadata": {},
   "outputs": [
    {
     "data": {
      "text/plain": [
       "[('aladdin (1992)', 0.22869711977810417),\n",
       " ('lion king, the (1994)', 0.21902787241764649),\n",
       " (\"bug's life, a (1998)\", 0.06773604231814634),\n",
       " ('good will hunting (1997)', 0.014316386784832163),\n",
       " ('e.t. the extra-terrestrial (1982)', 0.010113652367040624)]"
      ]
     },
     "execution_count": 38,
     "metadata": {},
     "output_type": "execute_result"
    }
   ],
   "source": [
    "recommended_movie = movie_to_idx['beauty and the beast (1991)']\n",
    "explain = als_model.explain(user, csr_data, itemid=recommended_movie)\n",
    "[(idx_to_movie[i[0]], i[1]) for i in explain[1]]"
   ]
  },
  {
   "cell_type": "markdown",
   "id": "e622e920",
   "metadata": {},
   "source": [
    "---\n",
    "여러 장르를 좋아 하는  user (user_id = 6043)에 대한 추천영화도 함께 확인해보자."
   ]
  },
  {
   "cell_type": "code",
   "execution_count": 39,
   "id": "95fd6bd3",
   "metadata": {
    "scrolled": false
   },
   "outputs": [
    {
     "data": {
      "text/plain": [
       "['terminator 2: judgment day (1991)',\n",
       " \"schindler's list (1993)\",\n",
       " 'fargo (1996)',\n",
       " 'shawshank redemption, the (1994)',\n",
       " 'sixth sense, the (1999)',\n",
       " 'star wars: episode vi - return of the jedi (1983)',\n",
       " 'matrix, the (1999)',\n",
       " 'saving private ryan (1998)',\n",
       " 'braveheart (1995)',\n",
       " 'total recall (1990)']"
      ]
     },
     "execution_count": 39,
     "metadata": {},
     "output_type": "execute_result"
    }
   ],
   "source": [
    "user = user_to_idx[6043]\n",
    "movie_recommended = als_model.recommend(user, csr_data, N=10, filter_already_liked_items=True)\n",
    "[idx_to_movie[i[0]] for i in movie_recommended]"
   ]
  },
  {
   "cell_type": "code",
   "execution_count": 40,
   "id": "df081195",
   "metadata": {},
   "outputs": [
    {
     "data": {
      "text/plain": [
       "[('jurassic park (1993)', 0.20291584004109398),\n",
       " ('men in black (1997)', 0.16980815382116013),\n",
       " ('silence of the lambs, the (1991)', 0.06962650084713326),\n",
       " ('american beauty (1999)', 0.026330029373039167),\n",
       " ('forrest gump (1994)', -0.02685415913167214)]"
      ]
     },
     "execution_count": 40,
     "metadata": {},
     "output_type": "execute_result"
    }
   ],
   "source": [
    "recommended_movie = movie_to_idx['terminator 2: judgment day (1991)']\n",
    "explain = als_model.explain(user, csr_data, itemid=recommended_movie)\n",
    "[(idx_to_movie[i[0]], i[1]) for i in explain[1]]"
   ]
  },
  {
   "cell_type": "markdown",
   "id": "4864790b",
   "metadata": {},
   "source": [
    "여러 장르를 좋아하는 사용자에게 여러장르의 영화가 추천되는 것을 확인할수 있다."
   ]
  }
 ],
 "metadata": {
  "kernelspec": {
   "display_name": "Python 3 (ipykernel)",
   "language": "python",
   "name": "python3"
  },
  "language_info": {
   "codemirror_mode": {
    "name": "ipython",
    "version": 3
   },
   "file_extension": ".py",
   "mimetype": "text/x-python",
   "name": "python",
   "nbconvert_exporter": "python",
   "pygments_lexer": "ipython3",
   "version": "3.9.7"
  }
 },
 "nbformat": 4,
 "nbformat_minor": 5
}
