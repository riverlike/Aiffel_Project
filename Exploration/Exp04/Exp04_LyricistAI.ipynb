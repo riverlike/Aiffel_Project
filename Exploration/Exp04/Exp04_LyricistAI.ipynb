{
 "cells": [
  {
   "cell_type": "markdown",
   "id": "2014325a",
   "metadata": {},
   "source": [
    "# 작사가 인공지능 만들기\n",
    "\n",
    "---\n",
    "프로젝트에 들어가기전에 GPT-2 모델로 구현된 인공지능 작문가의 수준을 체험해보도록하자\n",
    "- 요리 레시피나 SF 소설도 써주는 인공지능 작문가 : https://talktotransformer.com/\n",
    "\n",
    "이번프로젝트를 통해 위의 사례처럼  인공지능이 문장을 이해하는 방식을 알아보고 작문을 학습시켜 작사가 인공지능을 만들어보자\n",
    "\n",
    "프로젝트 목차 \n",
    "\n",
    "1. 시퀀스? 스퀀스!\n",
    "2. I 다음 am을 쓰면 반 이상은 맞더라\n",
    "3. 실습\n",
    " - 데이터 다듬기\n",
    " - 인공지능 학습시키기\n",
    " - 잘 만들어졌는지 평가하기\n",
    "4. 프로젝트 : 멋진 작사가 만들기"
   ]
  },
  {
   "cell_type": "markdown",
   "id": "df16dce1",
   "metadata": {},
   "source": [
    "# 시퀀스 데이터란?\n",
    "- 시퀀스 데이터는 나열된 데이터를 의미한다\n",
    "- 사례\n",
    " - 텍스트데이터 : 신문기사, 시, 소설\n",
    " - 시계열 수치 데이터 : 월별 상품 판매량 변화, 일별 주식 시황 데이터\n",
    "- 각 요소들이 동일한 속성을 띌 필요는 없지만 **통계에 기반하여** 추측이 가능할 정도의 연관성은 있어야한다.\n"
   ]
  },
  {
   "cell_type": "markdown",
   "id": "855dadfe",
   "metadata": {},
   "source": [
    "## RNN(Recurrent Neural Network)이란?\n",
    "![이미지](https://stanford.edu/~shervine/teaching/cs-230/illustrations/architecture-rnn-ltr.png?9ea4417fc145b9346a3e288801dbdfdc)\n",
    "\n",
    "좌측에서 우측으로 문장의 입력을  x<1> 부터 신경망에 입력해준다. 그러면 신경망에서 출력y<1>을 예측한다. 그리고 문장의 두번째 단어 x<2> 를 읽고 이번에는 첫번재 단어에서 연산한 정보(활성화되어 나온값)를 사용하여 출력y<2>를 예측한다. 이렇게 이전셀의 정보가 순환적으로 연결되어 마지막 출력값을 도출하는 구조가 RNN모델이다. 즉 x<1>, x<2> ..x<n-1>이 주어졌을때 n번째 단어 y<n>을 확률적으로예측하는 구조이다.\n",
    "\n",
    "신경망 학습을 시작하기 전에 a<0>가 사용되는 것을 볼 수 있는데, 이것은 보통 무작위로 초기화하거나, 0으로 초기화한다\n"
   ]
  },
  {
   "cell_type": "markdown",
   "id": "430e939e",
   "metadata": {},
   "source": [
    "# 데이터셋 준비\n",
    "이번 프로젝트에서는 연극대사를 만들어내는 모델 구현할 것이므로 연극대본 파일을 준비한 후 모델의 입력으로 사용할수 있도록 전처리까지 해보자\n"
   ]
  },
  {
   "cell_type": "markdown",
   "id": "3f2a43e1",
   "metadata": {},
   "source": [
    "### 파일 읽기"
   ]
  },
  {
   "cell_type": "code",
   "execution_count": 51,
   "id": "e2fe7aea",
   "metadata": {},
   "outputs": [
    {
     "name": "stdout",
     "output_type": "stream",
     "text": [
      "['First Citizen:', 'Before we proceed any further, hear me speak.', '', 'All:', 'Speak, speak.', '', 'First Citizen:', 'You are all resolved rather to die than to famish?', '', 'All:', 'Resolved. resolved.']\n"
     ]
    }
   ],
   "source": [
    "import os, re \n",
    "import numpy as np\n",
    "import tensorflow as tf\n",
    "\n",
    "# 파일을 읽기모드로 열고\n",
    "# 라인 단위로 끊어서 list 형태로 읽어옵니다.\n",
    "file_path = os.getenv('HOME') + '/aiffel/project/exp04_LyricistAI/data/shakespeare.txt'\n",
    "with open(file_path, \"r\") as f:\n",
    "    raw_corpus = f.read().splitlines()\n",
    "\n",
    "# 앞에서부터 10라인만 화면에 출력해 볼까요?\n",
    "print(raw_corpus[:11])"
   ]
  },
  {
   "cell_type": "markdown",
   "id": "90d35f36",
   "metadata": {},
   "source": [
    "### 데이터 전처리1\n",
    "연극대사를 만들기위한 데이터가 필요하므로 읽어드린 파일 내용에 전처리가 필요하다.\n",
    "필터링할 데이터\n",
    "- 화자이름\n",
    "- 공백대사\n",
    "- 문장끝에 : 기호 제외\n"
   ]
  },
  {
   "cell_type": "code",
   "execution_count": 52,
   "id": "61748ad9",
   "metadata": {
    "scrolled": true
   },
   "outputs": [
    {
     "name": "stdout",
     "output_type": "stream",
     "text": [
      "Before we proceed any further, hear me speak.\n",
      "Speak, speak.\n",
      "You are all resolved rather to die than to famish?\n"
     ]
    }
   ],
   "source": [
    "for idx, sentence in enumerate(raw_corpus):\n",
    "    if len(sentence) == 0: continue   # 길이가 0인 문장은 건너뜁니다.\n",
    "    if sentence[-1] == \":\": continue  # 문장의 끝이 : 인 문장은 건너뜁니다.\n",
    "\n",
    "    if idx > 9: break   # 일단 문장 10개만 확인해 볼 겁니다.\n",
    "        \n",
    "    print(sentence)"
   ]
  },
  {
   "cell_type": "markdown",
   "id": "b19b6eed",
   "metadata": {},
   "source": [
    "### 데이터 전처리2\n",
    "필터링하여 깔끔한 문장이 출력되었다. 이제부터 우리가 구현할 모델에게 학습시킬 단어사전을 준비해야한다. 전처리한 문장을 학습에 맞게 쪼개는 토큰화작업이 필요하다\n",
    "\n",
    "토큰화는 보통 띄어쓰기, 즉, 문장을 공백을 기준으로 나누는데 그렇게 했을경우 생기는 예외적인 단어들을 처리해줄 필요가 있다\n",
    "\n",
    "\n",
    "- Hi, my name is John. *(\"Hi,\" \"my\", ..., \"john.\" 으로 분리됨) - 문장부호\n",
    "- First, open the first chapter. *(First와 first를 다른 단어로 인식) - 대소문자\n",
    "- He is a ten-year-old boy. *(ten-year-old를 한 단어로 인식) - 특수문자\n",
    "\n",
    "\n",
    "문장의 토큰화\n",
    " 1. 소문자로 바꾸고, 양쪽 공백을 지운다\n",
    " 2. 특수문자 양쪽에 공백을 넣는다\n",
    " 3. 여러개의 공백은 하나의 공백으로 바꾼다\n",
    " 4. a-zA-Z?.!,¿가 아닌 모든 문자를 하나의 공백으로 바꾼다\n",
    " 5. 다시 양쪽 공백을 지운다\n",
    " 6. 문장 시작에는 <start>, 끝에는 <end>를 추가"
   ]
  },
  {
   "cell_type": "code",
   "execution_count": 53,
   "id": "dcc653ba",
   "metadata": {},
   "outputs": [
    {
     "name": "stdout",
     "output_type": "stream",
     "text": [
      "<start> this is sample sentence . <end>\n"
     ]
    }
   ],
   "source": [
    "# 입력된 문장을\n",
    "#     1. 소문자로 바꾸고, 양쪽 공백을 지웁니다\n",
    "#     2. 특수문자 양쪽에 공백을 넣고\n",
    "#     3. 여러개의 공백은 하나의 공백으로 바꿉니다\n",
    "#     4. a-zA-Z?.!,¿가 아닌 모든 문자를 하나의 공백으로 바꿉니다\n",
    "#     5. 다시 양쪽 공백을 지웁니다\n",
    "#     6. 문장 시작에는 <start>, 끝에는 <end>를 추가합니다\n",
    "# 이 순서로 처리해주면 문제가 되는 상황을 방지할 수 있겠네요!\n",
    "def preprocess_sentence(sentence):\n",
    "    sentence = sentence.lower().strip() # 1\n",
    "    sentence = re.sub(r\"([?.!,¿])\", r\" \\1 \", sentence) # 2\n",
    "    sentence = re.sub(r'[\" \"]+', \" \", sentence) # 3\n",
    "    sentence = re.sub(r\"[^a-zA-Z?.!,¿]+\", \" \", sentence) # 4\n",
    "    sentence = sentence.strip() # 5\n",
    "    sentence = '<start> ' + sentence + ' <end>' # 6\n",
    "    return sentence\n",
    "\n",
    "# 이 문장이 어떻게 필터링되는지 확인해 보세요.\n",
    "print(preprocess_sentence(\"This @_is ;;;sample        sentence.\"))"
   ]
  },
  {
   "cell_type": "markdown",
   "id": "3121714f",
   "metadata": {},
   "source": [
    "### 데이터셋 만들기\n",
    "\n",
    "소스 문장(Source Sentence) : 자연어 처리에서 모델의 입력이 되는 문장\n",
    " - <start> this is sample sentence . \n",
    " -  X_train\n",
    "    \n",
    "타겟 문장(Target Sentence) : 정답 역할을 하게 될 모델의 출력 문장\n",
    " - this is sample sentence . <end>\n",
    " - y_train"
   ]
  },
  {
   "cell_type": "code",
   "execution_count": 54,
   "id": "239e66b9",
   "metadata": {},
   "outputs": [
    {
     "data": {
      "text/plain": [
       "['<start> before we proceed any further , hear me speak . <end>',\n",
       " '<start> speak , speak . <end>',\n",
       " '<start> you are all resolved rather to die than to famish ? <end>',\n",
       " '<start> resolved . resolved . <end>',\n",
       " '<start> first , you know caius marcius is chief enemy to the people . <end>',\n",
       " '<start> we know t , we know t . <end>',\n",
       " '<start> let us kill him , and we ll have corn at our own price . <end>',\n",
       " '<start> is t a verdict ? <end>',\n",
       " '<start> no more talking on t let it be done away , away ! <end>',\n",
       " '<start> one word , good citizens . <end>']"
      ]
     },
     "execution_count": 54,
     "metadata": {},
     "output_type": "execute_result"
    }
   ],
   "source": [
    "corpus = []\n",
    "\n",
    "for sentence in raw_corpus:\n",
    "    # 우리가 원하지 않는 문장은 건너뜁니다\n",
    "    if len(sentence)==0 : continue\n",
    "    if sentence[-1]==':':continue\n",
    "    \n",
    "    preprocessed_sentence = preprocess_sentence(sentence)\n",
    "    corpus.append(preprocessed_sentence)\n",
    "\n",
    "# 정제된 결과를 10개만 확인해보죠\n",
    "corpus[:10]"
   ]
  },
  {
   "cell_type": "markdown",
   "id": "a9652001",
   "metadata": {},
   "source": [
    "### 데이터의 벡터화\n",
    "이미지를 학습시킬때 픽셀정보가 수치화되어 있듯이 우리가 준비한 데이터셋도 수치화해주는 작업이 필요하다. 여기서는 텐서플로우의 tf.keras.preprocessing.text.Tokenizer 라이브러리를 사용하여 데이터를 토큰화하여 단어사전을 만들고 데이터를 숫자로 변경해주는 벡터화를 진행할 것이다. 숫자로 변환된 데이터를 텐서(tensor) 라고 칭한다고 한다.\n",
    "\n",
    "- [텐서플로우](https://www.tensorflow.org/api_docs/python/tf/keras/preprocessing/text/Tokenizer)\n",
    "- 텐서 개념 : [참고](https://rekt77.tistory.com/102)"
   ]
  },
  {
   "cell_type": "code",
   "execution_count": 55,
   "id": "7c2efc3a",
   "metadata": {},
   "outputs": [
    {
     "name": "stdout",
     "output_type": "stream",
     "text": [
      "[[   2  143   40 ...    0    0    0]\n",
      " [   2  110    4 ...    0    0    0]\n",
      " [   2   11   50 ...    0    0    0]\n",
      " ...\n",
      " [   2  149 4553 ...    0    0    0]\n",
      " [   2   34   71 ...    0    0    0]\n",
      " [   2  945   34 ...    0    0    0]] <keras_preprocessing.text.Tokenizer object at 0x7f60f66fd640>\n"
     ]
    }
   ],
   "source": [
    "# 토큰화 할 때 텐서플로우의 Tokenizer와 pad_sequences를 사용합니다\n",
    "def tokenize(corpus):\n",
    "    # 7000단어를 기억할 수 있는 tokenizer를 만들겁니다\n",
    "    # 우리는 이미 문장을 정제했으니 filters가 필요없어요\n",
    "    # 7000단어에 포함되지 못한 단어는 '<unk>'로 바꿀거에요\n",
    "    tokenizer = tf.keras.preprocessing.text.Tokenizer(\n",
    "        num_words=7000, \n",
    "        filters=' ',\n",
    "        oov_token=\"<unk>\"\n",
    "    )\n",
    "    # corpus를 이용해 tokenizer 내부의 단어장을 완성합니다\n",
    "    tokenizer.fit_on_texts(corpus)\n",
    "    # 준비한 tokenizer를 이용해 corpus를 Tensor로 변환합니다\n",
    "    tensor = tokenizer.texts_to_sequences(corpus)   \n",
    "    # 입력 데이터의 시퀀스 길이를 일정하게 맞춰줍니다\n",
    "    # 만약 시퀀스가 짧다면 문장 뒤에 패딩을 붙여 길이를 맞춰줍니다.\n",
    "    # 문장 앞에 패딩을 붙여 길이를 맞추고 싶다면 padding='pre'를 사용합니다\n",
    "    tensor = tf.keras.preprocessing.sequence.pad_sequences(tensor, padding='post')  \n",
    "    \n",
    "    print(tensor,tokenizer)\n",
    "    return tensor, tokenizer\n",
    "\n",
    "\n",
    "tensor, tokenizer = tokenize(corpus)"
   ]
  },
  {
   "cell_type": "markdown",
   "id": "55cc1059",
   "metadata": {},
   "source": [
    "텐서 데이터로 변환되었다. 이숫자들은  tokenizer에 구축된 단어 사전의 인덱스이다."
   ]
  },
  {
   "cell_type": "code",
   "execution_count": 24,
   "id": "719ea8d3",
   "metadata": {},
   "outputs": [
    {
     "data": {
      "text/plain": [
       "(24015,\n",
       " array([  2, 143,  40, 933, 140, 591,   4, 124,  24, 110,   5,   3,   0,\n",
       "          0,   0,   0,   0,   0,   0,   0,   0], dtype=int32),\n",
       " array([  2, 110,   4, 110,   5,   3,   0,   0,   0,   0,   0,   0,   0,\n",
       "          0,   0,   0,   0,   0,   0,   0,   0], dtype=int32))"
      ]
     },
     "execution_count": 24,
     "metadata": {},
     "output_type": "execute_result"
    }
   ],
   "source": [
    "len(tensor), tensor[0], tensor[1]"
   ]
  },
  {
   "cell_type": "markdown",
   "id": "d0188de9",
   "metadata": {},
   "source": [
    "24015의 문장이 텐서로 변환되었다. tensor[0]를 보면 첫번째 문장 \\<start> before we proceed any further , hear me speak . \\<end> 의 각 단어가 숫자로 어떻게 매칭되어있는지 확인 할 수 있다\n",
    "    \n",
    "텐서 출력부에서 행 뒤쪽에 0이 많이 나온 부분은 정해진 입력 시퀀스 길이보다 문장이 짧을 경우 0으로 패딩(padding)을 채워 넣은 것이다. 0은 <pad> 문자가 된다\n",
    "    \n",
    "tokenizer에 구축된 단어 사전의 인덱스를 통해 단어 사전이 어떻게 구축되었는지 확인해보자"
   ]
  },
  {
   "cell_type": "code",
   "execution_count": 17,
   "id": "eb0257b0",
   "metadata": {},
   "outputs": [
    {
     "name": "stdout",
     "output_type": "stream",
     "text": [
      "1 : <unk>\n",
      "2 : <start>\n",
      "3 : <end>\n",
      "4 : ,\n",
      "5 : .\n",
      "6 : the\n",
      "7 : and\n",
      "8 : i\n",
      "9 : to\n",
      "10 : of\n"
     ]
    }
   ],
   "source": [
    "for idx in tokenizer.index_word:\n",
    "    print(idx, ':', tokenizer.index_word[idx])\n",
    "    if idx>=10:break"
   ]
  },
  {
   "cell_type": "markdown",
   "id": "0f334029",
   "metadata": {},
   "source": [
    "2번 인덱스가 바로 <start>이다. tensor[0], tensor[1] 문자 모두 2로 시작하는 이유가 바로 이때문이다"
   ]
  },
  {
   "cell_type": "markdown",
   "id": "fc474095",
   "metadata": {},
   "source": [
    "### 텐서를 소스와 타겟으로 분리"
   ]
  },
  {
   "cell_type": "code",
   "execution_count": 25,
   "id": "af3a8e12",
   "metadata": {},
   "outputs": [
    {
     "name": "stdout",
     "output_type": "stream",
     "text": [
      "[  2 143  40 933 140 591   4 124  24 110   5   3   0   0   0   0   0   0\n",
      "   0   0]\n",
      "[143  40 933 140 591   4 124  24 110   5   3   0   0   0   0   0   0   0\n",
      "   0   0]\n"
     ]
    }
   ],
   "source": [
    "# tensor에서 마지막 토큰을 잘라내서 소스 문장을 생성합니다\n",
    "# 마지막 토큰은 <end>가 아니라 <pad>일 가능성이 높습니다.\n",
    "src_input = tensor[:, :-1]  \n",
    "# tensor에서 <start>를 잘라내서 타겟 문장을 생성합니다.\n",
    "tgt_input = tensor[:, 1:]    \n",
    "\n",
    "print(src_input[0])\n",
    "print(tgt_input[0])"
   ]
  },
  {
   "cell_type": "markdown",
   "id": "1816e525",
   "metadata": {},
   "source": [
    "소스는 2(<start>)에서 시작해서 3(<end>)으로 끝난 후 0(<pad>)로 채워져 있다. 하지만 타겟은 2로 시작하지 않고 소스를 왼쪽으로 한 칸 시프트 한 형태를 가지고 있다.\n",
    "    \n",
    "텐서플로우의 입력 데이터는 [tf.data.Dataset]( https://www.tensorflow.org/api_docs/python/tf/data/Dataset)객체가 필요하다. 이미 텐서형태로 만들어두었으므로 입력으로 설정해보자"
   ]
  },
  {
   "cell_type": "code",
   "execution_count": 26,
   "id": "8d9b0b4f",
   "metadata": {},
   "outputs": [
    {
     "data": {
      "text/plain": [
       "<BatchDataset shapes: ((256, 20), (256, 20)), types: (tf.int32, tf.int32)>"
      ]
     },
     "execution_count": 26,
     "metadata": {},
     "output_type": "execute_result"
    }
   ],
   "source": [
    "BUFFER_SIZE = len(src_input)\n",
    "BATCH_SIZE = 256\n",
    "steps_per_epoch = len(src_input) // BATCH_SIZE\n",
    "\n",
    " # tokenizer가 구축한 단어사전 내 7000개와, 여기 포함되지 않은 0:<pad>를 포함하여 7001개\n",
    "VOCAB_SIZE = tokenizer.num_words + 1   \n",
    "\n",
    "# 준비한 데이터 소스로부터 데이터셋을 만듭니다\n",
    "dataset = tf.data.Dataset.from_tensor_slices((src_input, tgt_input))\n",
    "dataset = dataset.shuffle(BUFFER_SIZE)\n",
    "dataset = dataset.batch(BATCH_SIZE, drop_remainder=True)\n",
    "dataset\n"
   ]
  },
  {
   "cell_type": "markdown",
   "id": "2b354367",
   "metadata": {},
   "source": [
    "데이터 전처리 과정이 아주 길었는데 정리해보면 다음과 같다\n",
    "\n",
    "- 정규표현식을 이용한 corpus 생성\n",
    "- tf.keras.preprocessing.text.Tokenizer를 이용해 corpus를 텐서로 변환\n",
    "- tf.data.Dataset.from_tensor_slices()를 이용해 corpus 텐서를 tf.data.Dataset객체로 변환\n",
    "---"
   ]
  },
  {
   "cell_type": "markdown",
   "id": "aeb93795",
   "metadata": {},
   "source": [
    "# 모델 학습\n",
    "\n",
    "이프로젝트에서 만들어볼 모델의 구조는 대략적으로 아래와 같다\n",
    "1개의 Embedding 레이어, 2개의 LSTM 레이어, 1개의 Dense 레이어로 구성된다\n",
    "![이미지](https://d3s0tskafalll9.cloudfront.net/media/images/E-12-4.max-800x600.png)"
   ]
  },
  {
   "cell_type": "code",
   "execution_count": 28,
   "id": "9b0f5c53",
   "metadata": {},
   "outputs": [],
   "source": [
    "class TextGenerator(tf.keras.Model):\n",
    "    def __init__(self, vocab_size, embedding_size, hidden_size):\n",
    "        super().__init__()\n",
    "        \n",
    "        self.embedding = tf.keras.layers.Embedding(vocab_size, embedding_size)\n",
    "        self.rnn_1 = tf.keras.layers.LSTM(hidden_size, return_sequences=True)\n",
    "        self.rnn_2 = tf.keras.layers.LSTM(hidden_size, return_sequences=True)\n",
    "        self.linear = tf.keras.layers.Dense(vocab_size)\n",
    "        \n",
    "    def call(self, x):\n",
    "        out = self.embedding(x)\n",
    "        out = self.rnn_1(out)\n",
    "        out = self.rnn_2(out)\n",
    "        out = self.linear(out)\n",
    "        \n",
    "        return out\n",
    "    \n",
    "embedding_size = 256\n",
    "hidden_size = 1024\n",
    "model = TextGenerator(tokenizer.num_words + 1, embedding_size , hidden_size)"
   ]
  },
  {
   "cell_type": "markdown",
   "id": "c60e12dd",
   "metadata": {},
   "source": [
    "### 모델에 대한 간략한 이해\n",
    "입력 데이터\n",
    "- 단어 사전의 인덱스\n",
    "\n",
    "Embedding 레이어\n",
    "- 인덱스 값을 해당 인덱스 번째의 워드 벡터로 바꿔준다\n",
    "- 워드 벡터는 의미 벡터 공간에서 단어의 추상적 표현(representation)으로 사용된다\n",
    "- embedding_size : 256, 워드 벡터의 차원수, 즉 단어가 추상적으로 표현되는 크기\n",
    " -  크기가 2라면 차갑다: [0.0, 1.0], 뜨겁다: [1.0, 0.0], 미지근하다: [0.5, 0.5] 이렇게 단어의 추상적 특징을 수치로 벡터공간에서 표현한다.\n",
    "\n",
    "LSTM 레이어\n",
    "- hidden_size : 1024, hidden state 의 차원수\n",
    "- 데이터를 이해하는 신경망 노드의 수\n",
    "- return_sequences=True : 자신에게 입력된 시퀀스 길이만큼 동일한 시퀀스를 출력\n",
    "- return_sequences=False : 1개의 벡터만 출력\n",
    "\n",
    "Dense 레이어\n",
    " - 출력값"
   ]
  },
  {
   "cell_type": "markdown",
   "id": "c014f9b3",
   "metadata": {},
   "source": [
    "### 하나의 배치를 모델에 넣어보기"
   ]
  },
  {
   "cell_type": "code",
   "execution_count": 29,
   "id": "4a06ef54",
   "metadata": {},
   "outputs": [
    {
     "data": {
      "text/plain": [
       "<tf.Tensor: shape=(256, 20, 7001), dtype=float32, numpy=\n",
       "array([[[ 1.86885634e-04, -1.48957100e-04, -5.80529049e-05, ...,\n",
       "          1.01569116e-04, -4.68944882e-06,  2.13540683e-04],\n",
       "        [ 4.98897971e-05, -9.70240653e-05,  3.48296780e-05, ...,\n",
       "          3.05136182e-05, -6.40581493e-05,  7.12505600e-04],\n",
       "        [-2.40737674e-04, -1.07917454e-04, -1.71810665e-04, ...,\n",
       "          2.24614254e-04, -2.09224963e-04,  1.09316793e-03],\n",
       "        ...,\n",
       "        [ 1.50357140e-03, -9.37929610e-04, -1.79155776e-03, ...,\n",
       "          9.64677543e-04, -1.74297439e-03, -7.50154897e-04],\n",
       "        [ 1.80603168e-03, -1.02920923e-03, -1.98678765e-03, ...,\n",
       "          1.01376523e-03, -1.68514310e-03, -9.61459649e-04],\n",
       "        [ 2.12527975e-03, -1.10701856e-03, -2.16958974e-03, ...,\n",
       "          1.05384516e-03, -1.57800457e-03, -1.12249458e-03]],\n",
       "\n",
       "       [[ 1.86885634e-04, -1.48957100e-04, -5.80529049e-05, ...,\n",
       "          1.01569116e-04, -4.68944882e-06,  2.13540683e-04],\n",
       "        [ 1.40491786e-04, -3.93041933e-04, -1.55347021e-04, ...,\n",
       "          5.44745562e-05,  2.10320824e-04,  2.62143061e-04],\n",
       "        [ 1.95604720e-04, -7.33884750e-04, -3.61902523e-04, ...,\n",
       "         -2.68133357e-04,  4.88811638e-04, -3.35887053e-05],\n",
       "        ...,\n",
       "        [ 1.39605987e-03, -1.35348376e-03, -2.23893556e-03, ...,\n",
       "          8.40843015e-04, -2.56148772e-03, -8.63080088e-04],\n",
       "        [ 1.71524531e-03, -1.49212976e-03, -2.38610664e-03, ...,\n",
       "          8.53247067e-04, -2.35750573e-03, -1.03113195e-03],\n",
       "        [ 2.04817043e-03, -1.59246742e-03, -2.51655863e-03, ...,\n",
       "          8.60368775e-04, -2.12972029e-03, -1.15724141e-03]],\n",
       "\n",
       "       [[ 1.86885634e-04, -1.48957100e-04, -5.80529049e-05, ...,\n",
       "          1.01569116e-04, -4.68944882e-06,  2.13540683e-04],\n",
       "        [ 8.88647482e-05, -5.00900147e-04, -2.55784573e-04, ...,\n",
       "          1.69023522e-04, -3.16507183e-04,  2.90817552e-04],\n",
       "        [ 2.22882343e-04, -5.74608101e-04, -2.66139046e-04, ...,\n",
       "          1.07463093e-04, -5.21028764e-04, -2.33733608e-05],\n",
       "        ...,\n",
       "        [ 2.92319478e-03, -1.34594401e-03, -2.77806073e-03, ...,\n",
       "          1.07291562e-03, -1.18053972e-03, -1.17027096e-03],\n",
       "        [ 3.24571203e-03, -1.36669015e-03, -2.88092927e-03, ...,\n",
       "          1.05712085e-03, -1.04111014e-03, -1.20755949e-03],\n",
       "        [ 3.55225662e-03, -1.37396331e-03, -2.97544547e-03, ...,\n",
       "          1.03352906e-03, -9.16970486e-04, -1.23013381e-03]],\n",
       "\n",
       "       ...,\n",
       "\n",
       "       [[ 1.86885634e-04, -1.48957100e-04, -5.80529049e-05, ...,\n",
       "          1.01569116e-04, -4.68944882e-06,  2.13540683e-04],\n",
       "        [ 1.74174311e-05,  9.13997792e-05, -1.67811086e-04, ...,\n",
       "         -5.83299334e-06, -4.04477585e-04,  6.25262852e-04],\n",
       "        [ 8.61264562e-05,  2.89987685e-04, -3.41874023e-04, ...,\n",
       "          2.53739767e-04, -4.55279747e-04,  9.16745921e-04],\n",
       "        ...,\n",
       "        [ 1.58980186e-03, -1.52946508e-03, -2.29623402e-03, ...,\n",
       "          7.43448152e-04, -1.51612493e-03, -5.83572953e-04],\n",
       "        [ 2.00003455e-03, -1.60642574e-03, -2.43915059e-03, ...,\n",
       "          7.75277964e-04, -1.36760168e-03, -7.39708834e-04],\n",
       "        [ 2.40212423e-03, -1.64982385e-03, -2.56972713e-03, ...,\n",
       "          7.98243156e-04, -1.21946167e-03, -8.63505935e-04]],\n",
       "\n",
       "       [[ 1.86885634e-04, -1.48957100e-04, -5.80529049e-05, ...,\n",
       "          1.01569116e-04, -4.68944882e-06,  2.13540683e-04],\n",
       "        [ 3.37710895e-04, -7.13431946e-05, -6.63760657e-05, ...,\n",
       "          2.72716308e-04, -5.73757643e-05,  3.42493819e-04],\n",
       "        [ 1.01246202e-04, -1.74570072e-04, -3.93479306e-04, ...,\n",
       "         -9.77169184e-05, -3.35649791e-04,  4.49492254e-05],\n",
       "        ...,\n",
       "        [ 1.84146839e-03, -1.64312264e-03, -2.87188659e-03, ...,\n",
       "          6.38532743e-04, -1.86340127e-03, -9.44841362e-04],\n",
       "        [ 2.20300909e-03, -1.67183694e-03, -2.93973438e-03, ...,\n",
       "          7.54935434e-04, -1.67227222e-03, -9.78567405e-04],\n",
       "        [ 2.56024534e-03, -1.68272376e-03, -2.99796485e-03, ...,\n",
       "          8.38984386e-04, -1.48665532e-03, -1.00023393e-03]],\n",
       "\n",
       "       [[ 1.86885634e-04, -1.48957100e-04, -5.80529049e-05, ...,\n",
       "          1.01569116e-04, -4.68944882e-06,  2.13540683e-04],\n",
       "        [ 2.99569452e-04, -3.90137720e-04, -4.75006054e-05, ...,\n",
       "         -1.09294306e-04,  5.29319223e-04,  5.43771836e-04],\n",
       "        [ 2.33921717e-04, -5.89844654e-04,  1.11513560e-04, ...,\n",
       "         -4.30558808e-04,  8.29149387e-04,  9.43989318e-04],\n",
       "        ...,\n",
       "        [ 1.12889055e-03, -5.68299612e-04, -2.04947125e-03, ...,\n",
       "          5.75282553e-04, -2.46572448e-03,  3.63609470e-05],\n",
       "        [ 1.45790621e-03, -7.54453300e-04, -2.19613314e-03, ...,\n",
       "          7.05358747e-04, -2.32448359e-03, -2.16531917e-04],\n",
       "        [ 1.80222641e-03, -9.05019639e-04, -2.32950645e-03, ...,\n",
       "          8.04926036e-04, -2.14195834e-03, -4.28604108e-04]]],\n",
       "      dtype=float32)>"
      ]
     },
     "execution_count": 29,
     "metadata": {},
     "output_type": "execute_result"
    }
   ],
   "source": [
    "# 데이터셋에서 데이터 한 배치만 불러오는 방법입니다.\n",
    "# 지금은 동작 원리에 너무 빠져들지 마세요~\n",
    "for src_sample, tgt_sample in dataset.take(1): break\n",
    "\n",
    "# 한 배치만 불러온 데이터를 모델에 넣어봅니다\n",
    "model(src_sample)"
   ]
  },
  {
   "cell_type": "markdown",
   "id": "4442d402",
   "metadata": {},
   "source": [
    "최종 출력텐서shape이  tf.Tensor: shape=(256, 20, 7001) 으로 확인된다.\n",
    "- 256 : 배치사이즈 , 문장 개수\n",
    "- 20 : 한 문장의 길이\n",
    "- 7001 : Dense 레이어의 출력 차원수, 단어사전의 총단어수\n"
   ]
  },
  {
   "cell_type": "code",
   "execution_count": 30,
   "id": "2a910d66",
   "metadata": {},
   "outputs": [
    {
     "name": "stdout",
     "output_type": "stream",
     "text": [
      "Model: \"text_generator\"\n",
      "_________________________________________________________________\n",
      "Layer (type)                 Output Shape              Param #   \n",
      "=================================================================\n",
      "embedding (Embedding)        multiple                  1792256   \n",
      "_________________________________________________________________\n",
      "lstm (LSTM)                  multiple                  5246976   \n",
      "_________________________________________________________________\n",
      "lstm_1 (LSTM)                multiple                  8392704   \n",
      "_________________________________________________________________\n",
      "dense (Dense)                multiple                  7176025   \n",
      "=================================================================\n",
      "Total params: 22,607,961\n",
      "Trainable params: 22,607,961\n",
      "Non-trainable params: 0\n",
      "_________________________________________________________________\n"
     ]
    }
   ],
   "source": [
    "model.summary()"
   ]
  },
  {
   "cell_type": "markdown",
   "id": "398656bb",
   "metadata": {},
   "source": [
    "모델이 빌드되는 시점에서는 입력 데이터의 시퀀스 길이가 얼마인지 모르기때문에 Output Shape 의 값이 multiple 로 표시되었다\n",
    "모델의 파라미터 사이즈는 대략 22million이다. 보통 GPT-2의 파라미터 사이즈는, 1.5billion이다.\n",
    "\n",
    "이제 모델을 학습시켜보자~ (GPU기준 15분정도 소요 예정)"
   ]
  },
  {
   "cell_type": "code",
   "execution_count": 31,
   "id": "932e84b1",
   "metadata": {},
   "outputs": [
    {
     "name": "stdout",
     "output_type": "stream",
     "text": [
      "Epoch 1/30\n",
      "93/93 [==============================] - 37s 374ms/step - loss: 3.4880\n",
      "Epoch 2/30\n",
      "93/93 [==============================] - 29s 309ms/step - loss: 2.8047\n",
      "Epoch 3/30\n",
      "93/93 [==============================] - 36s 386ms/step - loss: 2.7013\n",
      "Epoch 4/30\n",
      "93/93 [==============================] - 36s 386ms/step - loss: 2.6018\n",
      "Epoch 5/30\n",
      "93/93 [==============================] - 37s 394ms/step - loss: 2.5327\n",
      "Epoch 6/30\n",
      "93/93 [==============================] - 37s 395ms/step - loss: 2.4741\n",
      "Epoch 7/30\n",
      "93/93 [==============================] - 37s 393ms/step - loss: 2.4153\n",
      "Epoch 8/30\n",
      "93/93 [==============================] - 37s 396ms/step - loss: 2.3602\n",
      "Epoch 9/30\n",
      "93/93 [==============================] - 36s 391ms/step - loss: 2.3093\n",
      "Epoch 10/30\n",
      "93/93 [==============================] - 33s 357ms/step - loss: 2.2583\n",
      "Epoch 11/30\n",
      "93/93 [==============================] - 37s 396ms/step - loss: 2.2082\n",
      "Epoch 12/30\n",
      "93/93 [==============================] - 37s 396ms/step - loss: 2.1606\n",
      "Epoch 13/30\n",
      "93/93 [==============================] - 37s 397ms/step - loss: 2.1132\n",
      "Epoch 14/30\n",
      "93/93 [==============================] - 37s 399ms/step - loss: 2.0665\n",
      "Epoch 15/30\n",
      "93/93 [==============================] - 37s 400ms/step - loss: 2.0195\n",
      "Epoch 16/30\n",
      "93/93 [==============================] - 37s 399ms/step - loss: 1.9719\n",
      "Epoch 17/30\n",
      "93/93 [==============================] - 37s 397ms/step - loss: 1.9232\n",
      "Epoch 18/30\n",
      "93/93 [==============================] - 37s 397ms/step - loss: 1.8750\n",
      "Epoch 19/30\n",
      "93/93 [==============================] - 37s 396ms/step - loss: 1.8242\n",
      "Epoch 20/30\n",
      "93/93 [==============================] - 37s 397ms/step - loss: 1.7744\n",
      "Epoch 21/30\n",
      "93/93 [==============================] - 37s 396ms/step - loss: 1.7241\n",
      "Epoch 22/30\n",
      "93/93 [==============================] - 37s 397ms/step - loss: 1.6742\n",
      "Epoch 23/30\n",
      "93/93 [==============================] - 37s 397ms/step - loss: 1.6250\n",
      "Epoch 24/30\n",
      "93/93 [==============================] - 37s 398ms/step - loss: 1.5736\n",
      "Epoch 25/30\n",
      "93/93 [==============================] - 37s 397ms/step - loss: 1.5240\n",
      "Epoch 26/30\n",
      "93/93 [==============================] - 37s 398ms/step - loss: 1.4719\n",
      "Epoch 27/30\n",
      "93/93 [==============================] - 37s 392ms/step - loss: 1.4202\n",
      "Epoch 28/30\n",
      "93/93 [==============================] - 17s 187ms/step - loss: 1.3685\n",
      "Epoch 29/30\n",
      "93/93 [==============================] - 17s 188ms/step - loss: 1.3164\n",
      "Epoch 30/30\n",
      "93/93 [==============================] - 17s 188ms/step - loss: 1.2644\n"
     ]
    },
    {
     "data": {
      "text/plain": [
       "<keras.callbacks.History at 0x7f60f6331430>"
      ]
     },
     "execution_count": 31,
     "metadata": {},
     "output_type": "execute_result"
    }
   ],
   "source": [
    "# optimizer와 loss등은 차차 배웁니다\n",
    "# 혹시 미리 알고 싶다면 아래 문서를 참고하세요\n",
    "# https://www.tensorflow.org/api_docs/python/tf/keras/optimizers\n",
    "# https://www.tensorflow.org/api_docs/python/tf/keras/losses\n",
    "# 양이 상당히 많은 편이니 지금 보는 것은 추천하지 않습니다\n",
    "optimizer = tf.keras.optimizers.Adam()\n",
    "loss = tf.keras.losses.SparseCategoricalCrossentropy(\n",
    "    from_logits=True,\n",
    "    reduction='none'\n",
    ")\n",
    "\n",
    "model.compile(loss=loss, optimizer=optimizer)\n",
    "model.fit(dataset, epochs=30)"
   ]
  },
  {
   "cell_type": "markdown",
   "id": "0b5b62ee",
   "metadata": {},
   "source": [
    "### Loss는... \n",
    "모델이 오답을 만들고 있는 정도, 어떤 학습된 모델을 실제 데이터에 적용했을 때 모델의 추정 오차로 인해 발생하는 손실값이다, 이번 학습에서 30epochs에 1.2644까지 안정적으로 주는 모습을 보여주고있다"
   ]
  },
  {
   "cell_type": "markdown",
   "id": "aacc460b",
   "metadata": {},
   "source": [
    "---\n",
    "\n",
    "# 모델 평가\n",
    "학습한 모델이 어느정도 작문실력을 보여주는지 알아보는 함수를 만들어보자"
   ]
  },
  {
   "cell_type": "code",
   "execution_count": 32,
   "id": "b1284da4",
   "metadata": {},
   "outputs": [],
   "source": [
    "def generate_text(model, tokenizer, init_sentence=\"<start>\", max_len=20):\n",
    "    # 테스트를 위해서 입력받은 init_sentence도 텐서로 변환합니다\n",
    "    test_input = tokenizer.texts_to_sequences([init_sentence])\n",
    "    test_tensor = tf.convert_to_tensor(test_input, dtype=tf.int64)\n",
    "    end_token = tokenizer.word_index[\"<end>\"]\n",
    "\n",
    "    # 단어 하나씩 예측해 문장을 만듭니다\n",
    "    #    1. 입력받은 문장의 텐서를 입력합니다\n",
    "    #    2. 예측된 값 중 가장 높은 확률인 word index를 뽑아냅니다\n",
    "    #    3. 2에서 예측된 word index를 문장 뒤에 붙입니다\n",
    "    #    4. 모델이 <end>를 예측했거나, max_len에 도달했다면 문장 생성을 마칩니다\n",
    "    while True:\n",
    "        # 1\n",
    "        predict = model(test_tensor) \n",
    "        # 2\n",
    "        predict_word = tf.argmax(tf.nn.softmax(predict, axis=-1), axis=-1)[:, -1] \n",
    "        # 3 \n",
    "        test_tensor = tf.concat([test_tensor, tf.expand_dims(predict_word, axis=0)], axis=-1)\n",
    "        # 4\n",
    "        if predict_word.numpy()[0] == end_token: break\n",
    "        if test_tensor.shape[1] >= max_len: break\n",
    "\n",
    "    generated = \"\"\n",
    "    # tokenizer를 이용해 word index를 단어로 하나씩 변환합니다 \n",
    "    for word_index in test_tensor[0].numpy():\n",
    "        generated += tokenizer.index_word[word_index] + \" \"\n",
    "\n",
    "    return generated"
   ]
  },
  {
   "cell_type": "markdown",
   "id": "f745ada8",
   "metadata": {},
   "source": [
    "테스트 단계에서 이전 프로젝트에서 진행했던 테스트셋이 따로 없다. \\<start> 와 시작 단어 하나만 넣어주면된다. 그러면 모델이 while문을 돌면서 순차적으로 그 다음 단어를 만들어내는 것이다.\n",
    "\n",
    "- while의 첫 번째 루프에서 test_tensor에 \\<start> 하나만 들어갔다고 합시다. 우리의 모델이 출력으로 7001개의 단어 중 A를 고른다\n",
    "- while의 두 번째 루프에서 test_tensor에는 \\<start> A가 들어갑니다. 그래서 우리의 모델이 그다음 B를 고른다\n",
    "- while의 세 번째 루프에서 test_tensor에는 \\<start> A B가 들어가고 계속 이렇게 이어진다"
   ]
  },
  {
   "cell_type": "code",
   "execution_count": 50,
   "id": "ed470a48",
   "metadata": {},
   "outputs": [
    {
     "data": {
      "text/plain": [
       "'<start> she is not fourteen . <end> '"
      ]
     },
     "execution_count": 50,
     "metadata": {},
     "output_type": "execute_result"
    }
   ],
   "source": [
    "generate_text(model, tokenizer, init_sentence=\"<start> she \")"
   ]
  },
  {
   "cell_type": "markdown",
   "id": "8a763f08",
   "metadata": {},
   "source": [
    "제법 멋진 문장을 만들어 내고있다. GPT-2, GPT-3모델을 쓴다면 더 똑똑한 문장을 만들어낼 것이다."
   ]
  }
 ],
 "metadata": {
  "kernelspec": {
   "display_name": "Python 3 (ipykernel)",
   "language": "python",
   "name": "python3"
  },
  "language_info": {
   "codemirror_mode": {
    "name": "ipython",
    "version": 3
   },
   "file_extension": ".py",
   "mimetype": "text/x-python",
   "name": "python",
   "nbconvert_exporter": "python",
   "pygments_lexer": "ipython3",
   "version": "3.9.7"
  }
 },
 "nbformat": 4,
 "nbformat_minor": 5
}
