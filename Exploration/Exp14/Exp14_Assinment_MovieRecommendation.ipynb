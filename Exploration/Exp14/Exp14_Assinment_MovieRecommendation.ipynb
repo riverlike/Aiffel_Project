{
 "cells": [
  {
   "cell_type": "markdown",
   "id": "8709577e",
   "metadata": {},
   "source": [
    "##  Movielens 영화 추천 시스템 \n",
    "\n",
    "\n",
    "\n"
   ]
  },
  {
   "cell_type": "markdown",
   "id": "bf0aca2f",
   "metadata": {},
   "source": [
    "### MovieLens 1M Dataset\n",
    "- ratings.dat\n",
    "    - 6,040 MovieLens users\n",
    "    - 3,900 movies \n",
    "    - 1,000,209 anonymous ratings : 평점(1~5)\n",
    "\n",
    "- movies.dat\n",
    " - 영화 제목\n",
    " - 영화 장르"
   ]
  },
  {
   "cell_type": "code",
   "execution_count": 1,
   "id": "6655109e",
   "metadata": {},
   "outputs": [
    {
     "data": {
      "text/html": [
       "<div>\n",
       "<style scoped>\n",
       "    .dataframe tbody tr th:only-of-type {\n",
       "        vertical-align: middle;\n",
       "    }\n",
       "\n",
       "    .dataframe tbody tr th {\n",
       "        vertical-align: top;\n",
       "    }\n",
       "\n",
       "    .dataframe thead th {\n",
       "        text-align: right;\n",
       "    }\n",
       "</style>\n",
       "<table border=\"1\" class=\"dataframe\">\n",
       "  <thead>\n",
       "    <tr style=\"text-align: right;\">\n",
       "      <th></th>\n",
       "      <th>user_id</th>\n",
       "      <th>movie_id</th>\n",
       "      <th>ratings</th>\n",
       "      <th>timestamp</th>\n",
       "    </tr>\n",
       "  </thead>\n",
       "  <tbody>\n",
       "    <tr>\n",
       "      <th>0</th>\n",
       "      <td>1</td>\n",
       "      <td>1193</td>\n",
       "      <td>5</td>\n",
       "      <td>978300760</td>\n",
       "    </tr>\n",
       "    <tr>\n",
       "      <th>1</th>\n",
       "      <td>1</td>\n",
       "      <td>661</td>\n",
       "      <td>3</td>\n",
       "      <td>978302109</td>\n",
       "    </tr>\n",
       "    <tr>\n",
       "      <th>2</th>\n",
       "      <td>1</td>\n",
       "      <td>914</td>\n",
       "      <td>3</td>\n",
       "      <td>978301968</td>\n",
       "    </tr>\n",
       "    <tr>\n",
       "      <th>3</th>\n",
       "      <td>1</td>\n",
       "      <td>3408</td>\n",
       "      <td>4</td>\n",
       "      <td>978300275</td>\n",
       "    </tr>\n",
       "    <tr>\n",
       "      <th>4</th>\n",
       "      <td>1</td>\n",
       "      <td>2355</td>\n",
       "      <td>5</td>\n",
       "      <td>978824291</td>\n",
       "    </tr>\n",
       "  </tbody>\n",
       "</table>\n",
       "</div>"
      ],
      "text/plain": [
       "   user_id  movie_id  ratings  timestamp\n",
       "0        1      1193        5  978300760\n",
       "1        1       661        3  978302109\n",
       "2        1       914        3  978301968\n",
       "3        1      3408        4  978300275\n",
       "4        1      2355        5  978824291"
      ]
     },
     "execution_count": 1,
     "metadata": {},
     "output_type": "execute_result"
    }
   ],
   "source": [
    "import pandas as pd\n",
    "import os\n",
    "\n",
    "rating_file_path=os.getenv('HOME') + '/aiffel/project/exp14_RecommenderSystem/data2/ratings.dat'\n",
    "ratings_cols = ['user_id', 'movie_id', 'ratings', 'timestamp']\n",
    "ratings = pd.read_csv(rating_file_path, sep='::', names=ratings_cols, engine='python', encoding = \"ISO-8859-1\")\n",
    "orginal_data_size = len(ratings)\n",
    "ratings.head()"
   ]
  },
  {
   "cell_type": "markdown",
   "id": "011aef6d",
   "metadata": {},
   "source": [
    "### MovieLens EDA 및 전처리"
   ]
  },
  {
   "cell_type": "code",
   "execution_count": 2,
   "id": "ef319453",
   "metadata": {},
   "outputs": [
    {
     "data": {
      "text/plain": [
       "(1000209, 4)"
      ]
     },
     "execution_count": 2,
     "metadata": {},
     "output_type": "execute_result"
    }
   ],
   "source": [
    "ratings.shape"
   ]
  },
  {
   "cell_type": "code",
   "execution_count": 3,
   "id": "3462d5c5",
   "metadata": {},
   "outputs": [
    {
     "data": {
      "text/plain": [
       "array([5, 3, 4, 2, 1])"
      ]
     },
     "execution_count": 3,
     "metadata": {},
     "output_type": "execute_result"
    }
   ],
   "source": [
    "ratings['ratings'].unique()"
   ]
  },
  {
   "cell_type": "code",
   "execution_count": 4,
   "id": "2c4f97eb",
   "metadata": {},
   "outputs": [
    {
     "data": {
      "text/plain": [
       "(array([   1,    2,    3, ..., 6038, 6039, 6040]), 6040)"
      ]
     },
     "execution_count": 4,
     "metadata": {},
     "output_type": "execute_result"
    }
   ],
   "source": [
    "ratings['user_id'].unique(), len(ratings['user_id'].unique())"
   ]
  },
  {
   "cell_type": "code",
   "execution_count": 5,
   "id": "850b9c4b",
   "metadata": {},
   "outputs": [
    {
     "data": {
      "text/plain": [
       "(array([1193,  661,  914, ..., 2845, 3607, 2909]), 3706)"
      ]
     },
     "execution_count": 5,
     "metadata": {},
     "output_type": "execute_result"
    }
   ],
   "source": [
    "ratings['movie_id'].unique(), len(ratings['movie_id'].unique())"
   ]
  },
  {
   "cell_type": "markdown",
   "id": "19b0ecc5",
   "metadata": {},
   "source": [
    "6040명의 유저별, 3706개 영화에 대한 1,000,209건의 평점 정보(1점~5점)가 들어있다. \n",
    "\n",
    "ratings.dat 파일에는 영화제목에 관한 정보가 없어 추가가 필요하다. movies.dat 파일에서 읽어 merge해주겠다."
   ]
  },
  {
   "cell_type": "code",
   "execution_count": 6,
   "id": "6b9df268",
   "metadata": {
    "scrolled": true
   },
   "outputs": [
    {
     "data": {
      "text/html": [
       "<div>\n",
       "<style scoped>\n",
       "    .dataframe tbody tr th:only-of-type {\n",
       "        vertical-align: middle;\n",
       "    }\n",
       "\n",
       "    .dataframe tbody tr th {\n",
       "        vertical-align: top;\n",
       "    }\n",
       "\n",
       "    .dataframe thead th {\n",
       "        text-align: right;\n",
       "    }\n",
       "</style>\n",
       "<table border=\"1\" class=\"dataframe\">\n",
       "  <thead>\n",
       "    <tr style=\"text-align: right;\">\n",
       "      <th></th>\n",
       "      <th>movie_id</th>\n",
       "      <th>title</th>\n",
       "      <th>genre</th>\n",
       "    </tr>\n",
       "  </thead>\n",
       "  <tbody>\n",
       "    <tr>\n",
       "      <th>0</th>\n",
       "      <td>1</td>\n",
       "      <td>Toy Story (1995)</td>\n",
       "      <td>Animation|Children's|Comedy</td>\n",
       "    </tr>\n",
       "    <tr>\n",
       "      <th>1</th>\n",
       "      <td>2</td>\n",
       "      <td>Jumanji (1995)</td>\n",
       "      <td>Adventure|Children's|Fantasy</td>\n",
       "    </tr>\n",
       "    <tr>\n",
       "      <th>2</th>\n",
       "      <td>3</td>\n",
       "      <td>Grumpier Old Men (1995)</td>\n",
       "      <td>Comedy|Romance</td>\n",
       "    </tr>\n",
       "    <tr>\n",
       "      <th>3</th>\n",
       "      <td>4</td>\n",
       "      <td>Waiting to Exhale (1995)</td>\n",
       "      <td>Comedy|Drama</td>\n",
       "    </tr>\n",
       "    <tr>\n",
       "      <th>4</th>\n",
       "      <td>5</td>\n",
       "      <td>Father of the Bride Part II (1995)</td>\n",
       "      <td>Comedy</td>\n",
       "    </tr>\n",
       "  </tbody>\n",
       "</table>\n",
       "</div>"
      ],
      "text/plain": [
       "   movie_id                               title                         genre\n",
       "0         1                    Toy Story (1995)   Animation|Children's|Comedy\n",
       "1         2                      Jumanji (1995)  Adventure|Children's|Fantasy\n",
       "2         3             Grumpier Old Men (1995)                Comedy|Romance\n",
       "3         4            Waiting to Exhale (1995)                  Comedy|Drama\n",
       "4         5  Father of the Bride Part II (1995)                        Comedy"
      ]
     },
     "execution_count": 6,
     "metadata": {},
     "output_type": "execute_result"
    }
   ],
   "source": [
    "# 영화 제목을 보기 위해 메타 데이터를 읽어옵니다.\n",
    "movie_file_path=os.getenv('HOME') + '/aiffel/project/exp14_RecommenderSystem/data2/movies.dat'\n",
    "cols = ['movie_id', 'title', 'genre'] \n",
    "movies = pd.read_csv(movie_file_path, sep='::', names=cols, engine='python', encoding='ISO-8859-1')\n",
    "movies.head()"
   ]
  },
  {
   "cell_type": "markdown",
   "id": "09b7030c",
   "metadata": {},
   "source": [
    "영화의 title 정보를 merge하기전에 검색을 쉽게하게위해 소문자로 바꾸겠다. \n",
    "- 영화 출시연도정보를 제외할 경우 다른해에 출시된 영화인데 동일한 제목의 영화로 인식되므로 삭제하지 않았다."
   ]
  },
  {
   "cell_type": "code",
   "execution_count": 7,
   "id": "b67f77a8",
   "metadata": {},
   "outputs": [
    {
     "data": {
      "text/html": [
       "<div>\n",
       "<style scoped>\n",
       "    .dataframe tbody tr th:only-of-type {\n",
       "        vertical-align: middle;\n",
       "    }\n",
       "\n",
       "    .dataframe tbody tr th {\n",
       "        vertical-align: top;\n",
       "    }\n",
       "\n",
       "    .dataframe thead th {\n",
       "        text-align: right;\n",
       "    }\n",
       "</style>\n",
       "<table border=\"1\" class=\"dataframe\">\n",
       "  <thead>\n",
       "    <tr style=\"text-align: right;\">\n",
       "      <th></th>\n",
       "      <th>movie_id</th>\n",
       "      <th>title</th>\n",
       "      <th>genre</th>\n",
       "    </tr>\n",
       "  </thead>\n",
       "  <tbody>\n",
       "    <tr>\n",
       "      <th>0</th>\n",
       "      <td>1</td>\n",
       "      <td>toy story (1995)</td>\n",
       "      <td>Animation|Children's|Comedy</td>\n",
       "    </tr>\n",
       "    <tr>\n",
       "      <th>1</th>\n",
       "      <td>2</td>\n",
       "      <td>jumanji (1995)</td>\n",
       "      <td>Adventure|Children's|Fantasy</td>\n",
       "    </tr>\n",
       "    <tr>\n",
       "      <th>2</th>\n",
       "      <td>3</td>\n",
       "      <td>grumpier old men (1995)</td>\n",
       "      <td>Comedy|Romance</td>\n",
       "    </tr>\n",
       "    <tr>\n",
       "      <th>3</th>\n",
       "      <td>4</td>\n",
       "      <td>waiting to exhale (1995)</td>\n",
       "      <td>Comedy|Drama</td>\n",
       "    </tr>\n",
       "    <tr>\n",
       "      <th>4</th>\n",
       "      <td>5</td>\n",
       "      <td>father of the bride part ii (1995)</td>\n",
       "      <td>Comedy</td>\n",
       "    </tr>\n",
       "  </tbody>\n",
       "</table>\n",
       "</div>"
      ],
      "text/plain": [
       "   movie_id                               title                         genre\n",
       "0         1                    toy story (1995)   Animation|Children's|Comedy\n",
       "1         2                      jumanji (1995)  Adventure|Children's|Fantasy\n",
       "2         3             grumpier old men (1995)                Comedy|Romance\n",
       "3         4            waiting to exhale (1995)                  Comedy|Drama\n",
       "4         5  father of the bride part ii (1995)                        Comedy"
      ]
     },
     "execution_count": 7,
     "metadata": {},
     "output_type": "execute_result"
    }
   ],
   "source": [
    "movies['title'] = movies['title'].str.lower() # 검색을 쉽게 하기 위해 아티스트 문자열을 소문자로 바꿔줍시다.\n",
    "#movies['title'] =movies['title'].str[:-6] # 고유 영화정보가 3883-> 3841건으로 줄어듬.\n",
    "movies.head()"
   ]
  },
  {
   "cell_type": "code",
   "execution_count": 8,
   "id": "d6eb6ef9",
   "metadata": {},
   "outputs": [
    {
     "data": {
      "text/html": [
       "<div>\n",
       "<style scoped>\n",
       "    .dataframe tbody tr th:only-of-type {\n",
       "        vertical-align: middle;\n",
       "    }\n",
       "\n",
       "    .dataframe tbody tr th {\n",
       "        vertical-align: top;\n",
       "    }\n",
       "\n",
       "    .dataframe thead th {\n",
       "        text-align: right;\n",
       "    }\n",
       "</style>\n",
       "<table border=\"1\" class=\"dataframe\">\n",
       "  <thead>\n",
       "    <tr style=\"text-align: right;\">\n",
       "      <th></th>\n",
       "      <th>user_id</th>\n",
       "      <th>movie_id</th>\n",
       "      <th>ratings</th>\n",
       "      <th>timestamp</th>\n",
       "      <th>title</th>\n",
       "    </tr>\n",
       "  </thead>\n",
       "  <tbody>\n",
       "    <tr>\n",
       "      <th>1000204</th>\n",
       "      <td>6040</td>\n",
       "      <td>1091</td>\n",
       "      <td>1</td>\n",
       "      <td>956716541</td>\n",
       "      <td>weekend at bernie's (1989)</td>\n",
       "    </tr>\n",
       "    <tr>\n",
       "      <th>1000205</th>\n",
       "      <td>6040</td>\n",
       "      <td>1094</td>\n",
       "      <td>5</td>\n",
       "      <td>956704887</td>\n",
       "      <td>crying game, the (1992)</td>\n",
       "    </tr>\n",
       "    <tr>\n",
       "      <th>1000206</th>\n",
       "      <td>6040</td>\n",
       "      <td>562</td>\n",
       "      <td>5</td>\n",
       "      <td>956704746</td>\n",
       "      <td>welcome to the dollhouse (1995)</td>\n",
       "    </tr>\n",
       "    <tr>\n",
       "      <th>1000207</th>\n",
       "      <td>6040</td>\n",
       "      <td>1096</td>\n",
       "      <td>4</td>\n",
       "      <td>956715648</td>\n",
       "      <td>sophie's choice (1982)</td>\n",
       "    </tr>\n",
       "    <tr>\n",
       "      <th>1000208</th>\n",
       "      <td>6040</td>\n",
       "      <td>1097</td>\n",
       "      <td>4</td>\n",
       "      <td>956715569</td>\n",
       "      <td>e.t. the extra-terrestrial (1982)</td>\n",
       "    </tr>\n",
       "  </tbody>\n",
       "</table>\n",
       "</div>"
      ],
      "text/plain": [
       "         user_id  movie_id  ratings  timestamp  \\\n",
       "1000204     6040      1091        1  956716541   \n",
       "1000205     6040      1094        5  956704887   \n",
       "1000206     6040       562        5  956704746   \n",
       "1000207     6040      1096        4  956715648   \n",
       "1000208     6040      1097        4  956715569   \n",
       "\n",
       "                                     title  \n",
       "1000204         weekend at bernie's (1989)  \n",
       "1000205            crying game, the (1992)  \n",
       "1000206    welcome to the dollhouse (1995)  \n",
       "1000207             sophie's choice (1982)  \n",
       "1000208  e.t. the extra-terrestrial (1982)  "
      ]
     },
     "execution_count": 8,
     "metadata": {},
     "output_type": "execute_result"
    }
   ],
   "source": [
    "ratings = pd.merge(ratings, movies[['title', 'movie_id']], on='movie_id', how='left')\n",
    "ratings.tail()"
   ]
  },
  {
   "cell_type": "code",
   "execution_count": 9,
   "id": "3bff0b1d",
   "metadata": {
    "scrolled": true
   },
   "outputs": [
    {
     "data": {
      "text/plain": [
       "<AxesSubplot:>"
      ]
     },
     "execution_count": 9,
     "metadata": {},
     "output_type": "execute_result"
    },
    {
     "data": {
      "image/png": "[encoded data removed]",
      "text/plain": [
       "<Figure size 432x288 with 1 Axes>"
      ]
     },
     "metadata": {
      "needs_background": "light"
     },
     "output_type": "display_data"
    }
   ],
   "source": [
    "ratings['ratings'].hist()"
   ]
  },
  {
   "cell_type": "markdown",
   "id": "782f0b6d",
   "metadata": {},
   "source": [
    "많은경우 3점이상의 점수를 주고 있고 2,1점을 주는 경우도 적지 않게 나타나고 있다. **본 프로젝트에서는 명시적 평가정보인 평점을 재생횟수로 변경하여 암묵적 평가정보로 활용해보겠다. 그리고 암묵적 데이터의 해석시 한번이라도 들었다면 선호한다고 할 수 있으므로 평점이 1,2점인 경우의 데이터를 제외하였다.**\n",
    "- 재생횟수(평점) 데이터 제외 \n",
    "- 컬럼명 변경 : ratings -> counts\n",
    "- 쓰지않는 컬럼 삭제 : timestamp"
   ]
  },
  {
   "cell_type": "code",
   "execution_count": 10,
   "id": "d8828c95",
   "metadata": {},
   "outputs": [
    {
     "name": "stdout",
     "output_type": "stream",
     "text": [
      "orginal_data_size: 1000209, filtered_data_size: 836478\n",
      "Ratio of Remaining Data is 83.63%\n"
     ]
    }
   ],
   "source": [
    "# 3점 이상만 남깁니다.\n",
    "ratings = ratings[ratings['ratings']>=3]\n",
    "filtered_data_size = len(ratings)\n",
    "\n",
    "print(f'orginal_data_size: {orginal_data_size}, filtered_data_size: {filtered_data_size}')\n",
    "print(f'Ratio of Remaining Data is {filtered_data_size / orginal_data_size:.2%}')"
   ]
  },
  {
   "cell_type": "code",
   "execution_count": 11,
   "id": "f4b81666",
   "metadata": {},
   "outputs": [
    {
     "data": {
      "text/plain": [
       "(6039, 3628)"
      ]
     },
     "execution_count": 11,
     "metadata": {},
     "output_type": "execute_result"
    }
   ],
   "source": [
    "len(ratings['user_id'].unique()), len(ratings['title'].unique())"
   ]
  },
  {
   "cell_type": "markdown",
   "id": "8ee05891",
   "metadata": {},
   "source": [
    "83.63% 의 데이터가 남았고, 사용자가 기존보다 1명으며, 영화데이터가 78개가 삭제되었다"
   ]
  },
  {
   "cell_type": "code",
   "execution_count": 12,
   "id": "c02dc248",
   "metadata": {},
   "outputs": [
    {
     "data": {
      "text/plain": [
       "0          5\n",
       "1          3\n",
       "2          3\n",
       "3          4\n",
       "4          5\n",
       "          ..\n",
       "1000203    3\n",
       "1000205    5\n",
       "1000206    5\n",
       "1000207    4\n",
       "1000208    4\n",
       "Name: counts, Length: 836478, dtype: int64"
      ]
     },
     "execution_count": 12,
     "metadata": {},
     "output_type": "execute_result"
    }
   ],
   "source": [
    "# ratings 컬럼의 이름을 counts로 바꿉니다.\n",
    "ratings.rename(columns={'ratings':'counts'}, inplace=True)\n",
    "ratings['counts']"
   ]
  },
  {
   "cell_type": "code",
   "execution_count": 13,
   "id": "1ad39731",
   "metadata": {},
   "outputs": [
    {
     "data": {
      "text/html": [
       "<div>\n",
       "<style scoped>\n",
       "    .dataframe tbody tr th:only-of-type {\n",
       "        vertical-align: middle;\n",
       "    }\n",
       "\n",
       "    .dataframe tbody tr th {\n",
       "        vertical-align: top;\n",
       "    }\n",
       "\n",
       "    .dataframe thead th {\n",
       "        text-align: right;\n",
       "    }\n",
       "</style>\n",
       "<table border=\"1\" class=\"dataframe\">\n",
       "  <thead>\n",
       "    <tr style=\"text-align: right;\">\n",
       "      <th></th>\n",
       "      <th>user_id</th>\n",
       "      <th>movie_id</th>\n",
       "      <th>counts</th>\n",
       "      <th>title</th>\n",
       "    </tr>\n",
       "  </thead>\n",
       "  <tbody>\n",
       "    <tr>\n",
       "      <th>0</th>\n",
       "      <td>1</td>\n",
       "      <td>1193</td>\n",
       "      <td>5</td>\n",
       "      <td>one flew over the cuckoo's nest (1975)</td>\n",
       "    </tr>\n",
       "  </tbody>\n",
       "</table>\n",
       "</div>"
      ],
      "text/plain": [
       "   user_id  movie_id  counts                                   title\n",
       "0        1      1193       5  one flew over the cuckoo's nest (1975)"
      ]
     },
     "execution_count": 13,
     "metadata": {},
     "output_type": "execute_result"
    }
   ],
   "source": [
    "#사용하는 컬럼만 남겨줍니다.\n",
    "using_cols = ['user_id', 'movie_id', 'counts', 'title']\n",
    "ratings = ratings[using_cols]\n",
    "ratings.head(1)"
   ]
  },
  {
   "cell_type": "code",
   "execution_count": 14,
   "id": "9b4b1dcf",
   "metadata": {},
   "outputs": [
    {
     "data": {
      "text/html": [
       "<div>\n",
       "<style scoped>\n",
       "    .dataframe tbody tr th:only-of-type {\n",
       "        vertical-align: middle;\n",
       "    }\n",
       "\n",
       "    .dataframe tbody tr th {\n",
       "        vertical-align: top;\n",
       "    }\n",
       "\n",
       "    .dataframe thead th {\n",
       "        text-align: right;\n",
       "    }\n",
       "</style>\n",
       "<table border=\"1\" class=\"dataframe\">\n",
       "  <thead>\n",
       "    <tr style=\"text-align: right;\">\n",
       "      <th></th>\n",
       "      <th>movie_id</th>\n",
       "      <th>user_id</th>\n",
       "      <th>title</th>\n",
       "      <th>genre</th>\n",
       "    </tr>\n",
       "  </thead>\n",
       "  <tbody>\n",
       "    <tr>\n",
       "      <th>0</th>\n",
       "      <td>2858</td>\n",
       "      <td>3211</td>\n",
       "      <td>american beauty (1999)</td>\n",
       "      <td>Comedy|Drama</td>\n",
       "    </tr>\n",
       "    <tr>\n",
       "      <th>1</th>\n",
       "      <td>260</td>\n",
       "      <td>2910</td>\n",
       "      <td>star wars: episode iv - a new hope (1977)</td>\n",
       "      <td>Action|Adventure|Fantasy|Sci-Fi</td>\n",
       "    </tr>\n",
       "    <tr>\n",
       "      <th>2</th>\n",
       "      <td>1196</td>\n",
       "      <td>2885</td>\n",
       "      <td>star wars: episode v - the empire strikes back...</td>\n",
       "      <td>Action|Adventure|Drama|Sci-Fi|War</td>\n",
       "    </tr>\n",
       "    <tr>\n",
       "      <th>3</th>\n",
       "      <td>1210</td>\n",
       "      <td>2716</td>\n",
       "      <td>star wars: episode vi - return of the jedi (1983)</td>\n",
       "      <td>Action|Adventure|Romance|Sci-Fi|War</td>\n",
       "    </tr>\n",
       "    <tr>\n",
       "      <th>4</th>\n",
       "      <td>2028</td>\n",
       "      <td>2561</td>\n",
       "      <td>saving private ryan (1998)</td>\n",
       "      <td>Action|Drama|War</td>\n",
       "    </tr>\n",
       "    <tr>\n",
       "      <th>5</th>\n",
       "      <td>589</td>\n",
       "      <td>2509</td>\n",
       "      <td>terminator 2: judgment day (1991)</td>\n",
       "      <td>Action|Sci-Fi|Thriller</td>\n",
       "    </tr>\n",
       "    <tr>\n",
       "      <th>6</th>\n",
       "      <td>593</td>\n",
       "      <td>2498</td>\n",
       "      <td>silence of the lambs, the (1991)</td>\n",
       "      <td>Drama|Thriller</td>\n",
       "    </tr>\n",
       "    <tr>\n",
       "      <th>7</th>\n",
       "      <td>1198</td>\n",
       "      <td>2473</td>\n",
       "      <td>raiders of the lost ark (1981)</td>\n",
       "      <td>Action|Adventure</td>\n",
       "    </tr>\n",
       "    <tr>\n",
       "      <th>8</th>\n",
       "      <td>1270</td>\n",
       "      <td>2460</td>\n",
       "      <td>back to the future (1985)</td>\n",
       "      <td>Comedy|Sci-Fi</td>\n",
       "    </tr>\n",
       "    <tr>\n",
       "      <th>9</th>\n",
       "      <td>2571</td>\n",
       "      <td>2434</td>\n",
       "      <td>matrix, the (1999)</td>\n",
       "      <td>Action|Sci-Fi|Thriller</td>\n",
       "    </tr>\n",
       "    <tr>\n",
       "      <th>10</th>\n",
       "      <td>480</td>\n",
       "      <td>2413</td>\n",
       "      <td>jurassic park (1993)</td>\n",
       "      <td>Action|Adventure|Sci-Fi</td>\n",
       "    </tr>\n",
       "    <tr>\n",
       "      <th>11</th>\n",
       "      <td>2762</td>\n",
       "      <td>2385</td>\n",
       "      <td>sixth sense, the (1999)</td>\n",
       "      <td>Thriller</td>\n",
       "    </tr>\n",
       "    <tr>\n",
       "      <th>12</th>\n",
       "      <td>608</td>\n",
       "      <td>2371</td>\n",
       "      <td>fargo (1996)</td>\n",
       "      <td>Crime|Drama|Thriller</td>\n",
       "    </tr>\n",
       "    <tr>\n",
       "      <th>13</th>\n",
       "      <td>110</td>\n",
       "      <td>2314</td>\n",
       "      <td>braveheart (1995)</td>\n",
       "      <td>Action|Drama|War</td>\n",
       "    </tr>\n",
       "    <tr>\n",
       "      <th>14</th>\n",
       "      <td>1580</td>\n",
       "      <td>2297</td>\n",
       "      <td>men in black (1997)</td>\n",
       "      <td>Action|Adventure|Comedy|Sci-Fi</td>\n",
       "    </tr>\n",
       "    <tr>\n",
       "      <th>15</th>\n",
       "      <td>527</td>\n",
       "      <td>2257</td>\n",
       "      <td>schindler's list (1993)</td>\n",
       "      <td>Drama|War</td>\n",
       "    </tr>\n",
       "    <tr>\n",
       "      <th>16</th>\n",
       "      <td>1197</td>\n",
       "      <td>2252</td>\n",
       "      <td>princess bride, the (1987)</td>\n",
       "      <td>Action|Adventure|Comedy|Romance</td>\n",
       "    </tr>\n",
       "    <tr>\n",
       "      <th>17</th>\n",
       "      <td>2396</td>\n",
       "      <td>2213</td>\n",
       "      <td>shakespeare in love (1998)</td>\n",
       "      <td>Comedy|Romance</td>\n",
       "    </tr>\n",
       "    <tr>\n",
       "      <th>18</th>\n",
       "      <td>1617</td>\n",
       "      <td>2210</td>\n",
       "      <td>l.a. confidential (1997)</td>\n",
       "      <td>Crime|Film-Noir|Mystery|Thriller</td>\n",
       "    </tr>\n",
       "    <tr>\n",
       "      <th>19</th>\n",
       "      <td>318</td>\n",
       "      <td>2194</td>\n",
       "      <td>shawshank redemption, the (1994)</td>\n",
       "      <td>Drama</td>\n",
       "    </tr>\n",
       "    <tr>\n",
       "      <th>20</th>\n",
       "      <td>858</td>\n",
       "      <td>2167</td>\n",
       "      <td>godfather, the (1972)</td>\n",
       "      <td>Action|Crime|Drama</td>\n",
       "    </tr>\n",
       "    <tr>\n",
       "      <th>21</th>\n",
       "      <td>1265</td>\n",
       "      <td>2121</td>\n",
       "      <td>groundhog day (1993)</td>\n",
       "      <td>Comedy|Romance</td>\n",
       "    </tr>\n",
       "    <tr>\n",
       "      <th>22</th>\n",
       "      <td>1097</td>\n",
       "      <td>2102</td>\n",
       "      <td>e.t. the extra-terrestrial (1982)</td>\n",
       "      <td>Children's|Drama|Fantasy|Sci-Fi</td>\n",
       "    </tr>\n",
       "    <tr>\n",
       "      <th>23</th>\n",
       "      <td>2997</td>\n",
       "      <td>2066</td>\n",
       "      <td>being john malkovich (1999)</td>\n",
       "      <td>Comedy</td>\n",
       "    </tr>\n",
       "    <tr>\n",
       "      <th>24</th>\n",
       "      <td>2716</td>\n",
       "      <td>2051</td>\n",
       "      <td>ghostbusters (1984)</td>\n",
       "      <td>Comedy|Horror</td>\n",
       "    </tr>\n",
       "    <tr>\n",
       "      <th>25</th>\n",
       "      <td>296</td>\n",
       "      <td>2030</td>\n",
       "      <td>pulp fiction (1994)</td>\n",
       "      <td>Crime|Drama</td>\n",
       "    </tr>\n",
       "    <tr>\n",
       "      <th>26</th>\n",
       "      <td>356</td>\n",
       "      <td>2022</td>\n",
       "      <td>forrest gump (1994)</td>\n",
       "      <td>Comedy|Romance|War</td>\n",
       "    </tr>\n",
       "    <tr>\n",
       "      <th>27</th>\n",
       "      <td>1240</td>\n",
       "      <td>2019</td>\n",
       "      <td>terminator, the (1984)</td>\n",
       "      <td>Action|Sci-Fi|Thriller</td>\n",
       "    </tr>\n",
       "    <tr>\n",
       "      <th>28</th>\n",
       "      <td>1</td>\n",
       "      <td>2000</td>\n",
       "      <td>toy story (1995)</td>\n",
       "      <td>Animation|Children's|Comedy</td>\n",
       "    </tr>\n",
       "    <tr>\n",
       "      <th>29</th>\n",
       "      <td>457</td>\n",
       "      <td>1941</td>\n",
       "      <td>fugitive, the (1993)</td>\n",
       "      <td>Action|Thriller</td>\n",
       "    </tr>\n",
       "  </tbody>\n",
       "</table>\n",
       "</div>"
      ],
      "text/plain": [
       "    movie_id  user_id                                              title  \\\n",
       "0       2858     3211                             american beauty (1999)   \n",
       "1        260     2910          star wars: episode iv - a new hope (1977)   \n",
       "2       1196     2885  star wars: episode v - the empire strikes back...   \n",
       "3       1210     2716  star wars: episode vi - return of the jedi (1983)   \n",
       "4       2028     2561                         saving private ryan (1998)   \n",
       "5        589     2509                  terminator 2: judgment day (1991)   \n",
       "6        593     2498                   silence of the lambs, the (1991)   \n",
       "7       1198     2473                     raiders of the lost ark (1981)   \n",
       "8       1270     2460                          back to the future (1985)   \n",
       "9       2571     2434                                 matrix, the (1999)   \n",
       "10       480     2413                               jurassic park (1993)   \n",
       "11      2762     2385                            sixth sense, the (1999)   \n",
       "12       608     2371                                       fargo (1996)   \n",
       "13       110     2314                                  braveheart (1995)   \n",
       "14      1580     2297                                men in black (1997)   \n",
       "15       527     2257                            schindler's list (1993)   \n",
       "16      1197     2252                         princess bride, the (1987)   \n",
       "17      2396     2213                         shakespeare in love (1998)   \n",
       "18      1617     2210                           l.a. confidential (1997)   \n",
       "19       318     2194                   shawshank redemption, the (1994)   \n",
       "20       858     2167                              godfather, the (1972)   \n",
       "21      1265     2121                               groundhog day (1993)   \n",
       "22      1097     2102                  e.t. the extra-terrestrial (1982)   \n",
       "23      2997     2066                        being john malkovich (1999)   \n",
       "24      2716     2051                                ghostbusters (1984)   \n",
       "25       296     2030                                pulp fiction (1994)   \n",
       "26       356     2022                                forrest gump (1994)   \n",
       "27      1240     2019                             terminator, the (1984)   \n",
       "28         1     2000                                   toy story (1995)   \n",
       "29       457     1941                               fugitive, the (1993)   \n",
       "\n",
       "                                  genre  \n",
       "0                          Comedy|Drama  \n",
       "1       Action|Adventure|Fantasy|Sci-Fi  \n",
       "2     Action|Adventure|Drama|Sci-Fi|War  \n",
       "3   Action|Adventure|Romance|Sci-Fi|War  \n",
       "4                      Action|Drama|War  \n",
       "5                Action|Sci-Fi|Thriller  \n",
       "6                        Drama|Thriller  \n",
       "7                      Action|Adventure  \n",
       "8                         Comedy|Sci-Fi  \n",
       "9                Action|Sci-Fi|Thriller  \n",
       "10              Action|Adventure|Sci-Fi  \n",
       "11                             Thriller  \n",
       "12                 Crime|Drama|Thriller  \n",
       "13                     Action|Drama|War  \n",
       "14       Action|Adventure|Comedy|Sci-Fi  \n",
       "15                            Drama|War  \n",
       "16      Action|Adventure|Comedy|Romance  \n",
       "17                       Comedy|Romance  \n",
       "18     Crime|Film-Noir|Mystery|Thriller  \n",
       "19                                Drama  \n",
       "20                   Action|Crime|Drama  \n",
       "21                       Comedy|Romance  \n",
       "22      Children's|Drama|Fantasy|Sci-Fi  \n",
       "23                               Comedy  \n",
       "24                        Comedy|Horror  \n",
       "25                          Crime|Drama  \n",
       "26                   Comedy|Romance|War  \n",
       "27               Action|Sci-Fi|Thriller  \n",
       "28          Animation|Children's|Comedy  \n",
       "29                      Action|Thriller  "
      ]
     },
     "execution_count": 14,
     "metadata": {},
     "output_type": "execute_result"
    }
   ],
   "source": [
    "#인기 많은 영화(재생횟수가 많은 영화) 상위 30개\n",
    "movie_count = ratings.groupby('movie_id')['user_id'].count()\n",
    "movie_top30= movie_count.sort_values(ascending=False).head(30)\n",
    "movie_top30_info = pd.merge(movie_top30, movies, left_on='movie_id', right_on='movie_id', how='inner')\n",
    "movie_top30_info"
   ]
  },
  {
   "cell_type": "markdown",
   "id": "463c9050",
   "metadata": {},
   "source": [
    "유저들에게 American Beauty, Star Wars 시리즈 등이 가장 많이 선호되는 영화로 나왔다.\n"
   ]
  },
  {
   "cell_type": "code",
   "execution_count": 15,
   "id": "264656c5",
   "metadata": {},
   "outputs": [
    {
     "data": {
      "text/plain": [
       "count    6039.000000\n",
       "mean      138.512668\n",
       "std       156.241599\n",
       "min         1.000000\n",
       "25%        38.000000\n",
       "50%        81.000000\n",
       "75%       177.000000\n",
       "max      1968.000000\n",
       "Name: movie_id, dtype: float64"
      ]
     },
     "execution_count": 15,
     "metadata": {},
     "output_type": "execute_result"
    }
   ],
   "source": [
    "# 유저별 몇 개의 영화를 보았는지 대한 통계\n",
    "user_count = ratings.groupby('user_id')['movie_id'].count()\n",
    "user_count.describe()"
   ]
  },
  {
   "cell_type": "markdown",
   "id": "1f7f278e",
   "metadata": {},
   "source": [
    "사용자별로 평균 138개의 영화를 보았고 중앙값은 96개이다."
   ]
  },
  {
   "cell_type": "markdown",
   "id": "4be06fdc",
   "metadata": {},
   "source": [
    "### 내가 선호하는 영화를 5가지 골라서 ratings에 추가\n",
    "\n",
    "좋아하는 영화 5가지를 추가해보자. (상위 top 200을 참고하여 추가하였다)\n",
    "\n",
    "- 2571 : Matrix, the (1977)\n",
    "- 1270\tBack to the Future (1985)\n",
    "- 1721 : Titanic (1997)\n",
    "- 588 :\tAladdin (1992)\n",
    "- 1 : Toy Story (1995)\t"
   ]
  },
  {
   "cell_type": "code",
   "execution_count": 16,
   "id": "5892c041",
   "metadata": {},
   "outputs": [
    {
     "data": {
      "text/html": [
       "<div>\n",
       "<style scoped>\n",
       "    .dataframe tbody tr th:only-of-type {\n",
       "        vertical-align: middle;\n",
       "    }\n",
       "\n",
       "    .dataframe tbody tr th {\n",
       "        vertical-align: top;\n",
       "    }\n",
       "\n",
       "    .dataframe thead th {\n",
       "        text-align: right;\n",
       "    }\n",
       "</style>\n",
       "<table border=\"1\" class=\"dataframe\">\n",
       "  <thead>\n",
       "    <tr style=\"text-align: right;\">\n",
       "      <th></th>\n",
       "      <th>user_id</th>\n",
       "      <th>movie_id</th>\n",
       "      <th>counts</th>\n",
       "      <th>title</th>\n",
       "    </tr>\n",
       "  </thead>\n",
       "  <tbody>\n",
       "    <tr>\n",
       "      <th>0</th>\n",
       "      <td>6041</td>\n",
       "      <td>2571</td>\n",
       "      <td>5</td>\n",
       "      <td>matrix, the (1999)</td>\n",
       "    </tr>\n",
       "    <tr>\n",
       "      <th>1</th>\n",
       "      <td>6041</td>\n",
       "      <td>1270</td>\n",
       "      <td>4</td>\n",
       "      <td>back to the future (1985)</td>\n",
       "    </tr>\n",
       "    <tr>\n",
       "      <th>2</th>\n",
       "      <td>6041</td>\n",
       "      <td>1721</td>\n",
       "      <td>5</td>\n",
       "      <td>titanic (1997)</td>\n",
       "    </tr>\n",
       "    <tr>\n",
       "      <th>3</th>\n",
       "      <td>6041</td>\n",
       "      <td>588</td>\n",
       "      <td>5</td>\n",
       "      <td>aladdin (1992)</td>\n",
       "    </tr>\n",
       "    <tr>\n",
       "      <th>4</th>\n",
       "      <td>6041</td>\n",
       "      <td>1</td>\n",
       "      <td>4</td>\n",
       "      <td>toy story (1995)</td>\n",
       "    </tr>\n",
       "  </tbody>\n",
       "</table>\n",
       "</div>"
      ],
      "text/plain": [
       "   user_id  movie_id  counts                      title\n",
       "0     6041      2571       5         matrix, the (1999)\n",
       "1     6041      1270       4  back to the future (1985)\n",
       "2     6041      1721       5             titanic (1997)\n",
       "3     6041       588       5             aladdin (1992)\n",
       "4     6041         1       4           toy story (1995)"
      ]
     },
     "execution_count": 16,
     "metadata": {},
     "output_type": "execute_result"
    }
   ],
   "source": [
    "my_data = [(6041, 2571, 5, 'matrix, the (1999)'),\n",
    "           (6041, 1270, 4, 'back to the future (1985)'),\n",
    "           (6041, 1721, 5, 'titanic (1997)'),\n",
    "           (6041, 588, 5, 'aladdin (1992)'),\n",
    "           (6041, 1, 4, 'toy story (1995)') ]\n",
    "\n",
    "df_my_data = pd.DataFrame(my_data, columns = ['user_id' , 'movie_id', 'counts', 'title'])\n",
    "df_my_data"
   ]
  },
  {
   "cell_type": "code",
   "execution_count": 17,
   "id": "4096fc94",
   "metadata": {
    "scrolled": true
   },
   "outputs": [
    {
     "data": {
      "text/html": [
       "<div>\n",
       "<style scoped>\n",
       "    .dataframe tbody tr th:only-of-type {\n",
       "        vertical-align: middle;\n",
       "    }\n",
       "\n",
       "    .dataframe tbody tr th {\n",
       "        vertical-align: top;\n",
       "    }\n",
       "\n",
       "    .dataframe thead th {\n",
       "        text-align: right;\n",
       "    }\n",
       "</style>\n",
       "<table border=\"1\" class=\"dataframe\">\n",
       "  <thead>\n",
       "    <tr style=\"text-align: right;\">\n",
       "      <th></th>\n",
       "      <th>user_id</th>\n",
       "      <th>movie_id</th>\n",
       "      <th>counts</th>\n",
       "      <th>title</th>\n",
       "    </tr>\n",
       "  </thead>\n",
       "  <tbody>\n",
       "    <tr>\n",
       "      <th>836473</th>\n",
       "      <td>6040</td>\n",
       "      <td>1090</td>\n",
       "      <td>3</td>\n",
       "      <td>platoon (1986)</td>\n",
       "    </tr>\n",
       "    <tr>\n",
       "      <th>836474</th>\n",
       "      <td>6040</td>\n",
       "      <td>1094</td>\n",
       "      <td>5</td>\n",
       "      <td>crying game, the (1992)</td>\n",
       "    </tr>\n",
       "    <tr>\n",
       "      <th>836475</th>\n",
       "      <td>6040</td>\n",
       "      <td>562</td>\n",
       "      <td>5</td>\n",
       "      <td>welcome to the dollhouse (1995)</td>\n",
       "    </tr>\n",
       "    <tr>\n",
       "      <th>836476</th>\n",
       "      <td>6040</td>\n",
       "      <td>1096</td>\n",
       "      <td>4</td>\n",
       "      <td>sophie's choice (1982)</td>\n",
       "    </tr>\n",
       "    <tr>\n",
       "      <th>836477</th>\n",
       "      <td>6040</td>\n",
       "      <td>1097</td>\n",
       "      <td>4</td>\n",
       "      <td>e.t. the extra-terrestrial (1982)</td>\n",
       "    </tr>\n",
       "    <tr>\n",
       "      <th>836478</th>\n",
       "      <td>6041</td>\n",
       "      <td>2571</td>\n",
       "      <td>5</td>\n",
       "      <td>matrix, the (1999)</td>\n",
       "    </tr>\n",
       "    <tr>\n",
       "      <th>836479</th>\n",
       "      <td>6041</td>\n",
       "      <td>1270</td>\n",
       "      <td>4</td>\n",
       "      <td>back to the future (1985)</td>\n",
       "    </tr>\n",
       "    <tr>\n",
       "      <th>836480</th>\n",
       "      <td>6041</td>\n",
       "      <td>1721</td>\n",
       "      <td>5</td>\n",
       "      <td>titanic (1997)</td>\n",
       "    </tr>\n",
       "    <tr>\n",
       "      <th>836481</th>\n",
       "      <td>6041</td>\n",
       "      <td>588</td>\n",
       "      <td>5</td>\n",
       "      <td>aladdin (1992)</td>\n",
       "    </tr>\n",
       "    <tr>\n",
       "      <th>836482</th>\n",
       "      <td>6041</td>\n",
       "      <td>1</td>\n",
       "      <td>4</td>\n",
       "      <td>toy story (1995)</td>\n",
       "    </tr>\n",
       "  </tbody>\n",
       "</table>\n",
       "</div>"
      ],
      "text/plain": [
       "        user_id  movie_id  counts                              title\n",
       "836473     6040      1090       3                     platoon (1986)\n",
       "836474     6040      1094       5            crying game, the (1992)\n",
       "836475     6040       562       5    welcome to the dollhouse (1995)\n",
       "836476     6040      1096       4             sophie's choice (1982)\n",
       "836477     6040      1097       4  e.t. the extra-terrestrial (1982)\n",
       "836478     6041      2571       5                 matrix, the (1999)\n",
       "836479     6041      1270       4          back to the future (1985)\n",
       "836480     6041      1721       5                     titanic (1997)\n",
       "836481     6041       588       5                     aladdin (1992)\n",
       "836482     6041         1       4                   toy story (1995)"
      ]
     },
     "execution_count": 17,
     "metadata": {},
     "output_type": "execute_result"
    }
   ],
   "source": [
    "ratings=ratings.append(df_my_data,ignore_index=True)\n",
    "ratings.tail(10)       # 잘 추가되었는지 확인해 봅시다."
   ]
  },
  {
   "cell_type": "code",
   "execution_count": 19,
   "id": "8fcdf9cf",
   "metadata": {},
   "outputs": [
    {
     "data": {
      "text/plain": [
       "(6040, 3628)"
      ]
     },
     "execution_count": 19,
     "metadata": {},
     "output_type": "execute_result"
    }
   ],
   "source": [
    "ratings['user_id'].nunique(), ratings['title'].nunique()"
   ]
  },
  {
   "cell_type": "markdown",
   "id": "550a3a53",
   "metadata": {},
   "source": [
    "6040명의 user와, 3628개의 movie 데이터를 관리하기 쉽도록 각각 인덱싱작업을 해준다. "
   ]
  },
  {
   "cell_type": "code",
   "execution_count": 20,
   "id": "7fd145e9",
   "metadata": {},
   "outputs": [
    {
     "data": {
      "text/plain": [
       "(6040, 3628)"
      ]
     },
     "execution_count": 20,
     "metadata": {},
     "output_type": "execute_result"
    }
   ],
   "source": [
    "# 고유한 유저, 영화를 찾아내는 코드\n",
    "user_unique = ratings.user_id.unique()\n",
    "movie_unique = ratings.title.unique()\n",
    "\n",
    "# 유저, 영화 데이터에 indexing \n",
    "user_to_idx = {v:k for k,v in enumerate(user_unique)}\n",
    "movie_to_idx = {v:k for k,v in enumerate(movie_unique)}\n",
    "len(user_to_idx), len(movie_to_idx)"
   ]
  },
  {
   "cell_type": "code",
   "execution_count": 21,
   "id": "bc08e326",
   "metadata": {},
   "outputs": [
    {
     "name": "stdout",
     "output_type": "stream",
     "text": [
      "6039\n",
      "33\n"
     ]
    }
   ],
   "source": [
    "# 인덱싱이 잘 되었는지 확인해 봅니다. \n",
    "print(user_to_idx[6041])    #마지막에 추가한 user_id 6041에 대해 마지막인덱스로 6039가 나왔다. (기존에 6039명이 있었음.)\n",
    "print(movie_to_idx['aladdin (1992)'])"
   ]
  },
  {
   "cell_type": "markdown",
   "id": "16ce254e",
   "metadata": {},
   "source": [
    "ratings dataFrame안의 user_id, movie_id정보를 위에서 생성한 인덱스 값으로 변경하겠다."
   ]
  },
  {
   "cell_type": "code",
   "execution_count": 22,
   "id": "cab0a8b3",
   "metadata": {},
   "outputs": [
    {
     "name": "stdout",
     "output_type": "stream",
     "text": [
      "user_id column indexing OK!!\n"
     ]
    }
   ],
   "source": [
    "# user_to_idx.get을 통해 user_id 컬럼의 모든 값을 인덱싱한 Series를 구해 봅시다. \n",
    "# 혹시 정상적으로 인덱싱되지 않은 row가 있다면 인덱스가 NaN이 될 테니 dropna()로 제거합니다. \n",
    "temp_user_data = ratings['user_id'].map(user_to_idx.get).dropna()\n",
    "if len(temp_user_data) == len(ratings):   # 모든 row가 정상적으로 인덱싱되었다면\n",
    "    print('user_id column indexing OK!!')\n",
    "    ratings['user_id'] = temp_user_data   # data['user_id']을 인덱싱된 Series로 교체해 줍니다. \n",
    "else:\n",
    "    print('user_id column indexing Fail!!')"
   ]
  },
  {
   "cell_type": "code",
   "execution_count": 23,
   "id": "b90a5f73",
   "metadata": {},
   "outputs": [
    {
     "name": "stdout",
     "output_type": "stream",
     "text": [
      "title column indexing OK!!\n"
     ]
    }
   ],
   "source": [
    "# movie_to_idx.get을 통해 artist 컬럼도 동일한 방식으로 인덱싱해 줍니다. \n",
    "temp_movie_data = ratings['title'].map(movie_to_idx.get).dropna()\n",
    "if len(temp_movie_data) == len(ratings):\n",
    "    print('title column indexing OK!!')\n",
    "    ratings['title'] = temp_movie_data\n",
    "else:\n",
    "    print('title column indexing Fail!!')"
   ]
  },
  {
   "cell_type": "code",
   "execution_count": 24,
   "id": "0f524a02",
   "metadata": {
    "scrolled": true
   },
   "outputs": [
    {
     "data": {
      "text/html": [
       "<div>\n",
       "<style scoped>\n",
       "    .dataframe tbody tr th:only-of-type {\n",
       "        vertical-align: middle;\n",
       "    }\n",
       "\n",
       "    .dataframe tbody tr th {\n",
       "        vertical-align: top;\n",
       "    }\n",
       "\n",
       "    .dataframe thead th {\n",
       "        text-align: right;\n",
       "    }\n",
       "</style>\n",
       "<table border=\"1\" class=\"dataframe\">\n",
       "  <thead>\n",
       "    <tr style=\"text-align: right;\">\n",
       "      <th></th>\n",
       "      <th>user_id</th>\n",
       "      <th>movie_id</th>\n",
       "      <th>counts</th>\n",
       "      <th>title</th>\n",
       "    </tr>\n",
       "  </thead>\n",
       "  <tbody>\n",
       "    <tr>\n",
       "      <th>0</th>\n",
       "      <td>0</td>\n",
       "      <td>1193</td>\n",
       "      <td>5</td>\n",
       "      <td>0</td>\n",
       "    </tr>\n",
       "    <tr>\n",
       "      <th>1</th>\n",
       "      <td>0</td>\n",
       "      <td>661</td>\n",
       "      <td>3</td>\n",
       "      <td>1</td>\n",
       "    </tr>\n",
       "    <tr>\n",
       "      <th>2</th>\n",
       "      <td>0</td>\n",
       "      <td>914</td>\n",
       "      <td>3</td>\n",
       "      <td>2</td>\n",
       "    </tr>\n",
       "    <tr>\n",
       "      <th>3</th>\n",
       "      <td>0</td>\n",
       "      <td>3408</td>\n",
       "      <td>4</td>\n",
       "      <td>3</td>\n",
       "    </tr>\n",
       "    <tr>\n",
       "      <th>4</th>\n",
       "      <td>0</td>\n",
       "      <td>2355</td>\n",
       "      <td>5</td>\n",
       "      <td>4</td>\n",
       "    </tr>\n",
       "  </tbody>\n",
       "</table>\n",
       "</div>"
      ],
      "text/plain": [
       "   user_id  movie_id  counts  title\n",
       "0        0      1193       5      0\n",
       "1        0       661       3      1\n",
       "2        0       914       3      2\n",
       "3        0      3408       4      3\n",
       "4        0      2355       5      4"
      ]
     },
     "execution_count": 24,
     "metadata": {},
     "output_type": "execute_result"
    }
   ],
   "source": [
    "ratings.head()"
   ]
  },
  {
   "cell_type": "code",
   "execution_count": 25,
   "id": "6b6d6800",
   "metadata": {
    "scrolled": false
   },
   "outputs": [
    {
     "data": {
      "text/html": [
       "<div>\n",
       "<style scoped>\n",
       "    .dataframe tbody tr th:only-of-type {\n",
       "        vertical-align: middle;\n",
       "    }\n",
       "\n",
       "    .dataframe tbody tr th {\n",
       "        vertical-align: top;\n",
       "    }\n",
       "\n",
       "    .dataframe thead th {\n",
       "        text-align: right;\n",
       "    }\n",
       "</style>\n",
       "<table border=\"1\" class=\"dataframe\">\n",
       "  <thead>\n",
       "    <tr style=\"text-align: right;\">\n",
       "      <th></th>\n",
       "      <th>user_id</th>\n",
       "      <th>movie_id</th>\n",
       "      <th>counts</th>\n",
       "      <th>title</th>\n",
       "    </tr>\n",
       "  </thead>\n",
       "  <tbody>\n",
       "    <tr>\n",
       "      <th>836478</th>\n",
       "      <td>6039</td>\n",
       "      <td>2571</td>\n",
       "      <td>5</td>\n",
       "      <td>124</td>\n",
       "    </tr>\n",
       "    <tr>\n",
       "      <th>836479</th>\n",
       "      <td>6039</td>\n",
       "      <td>1270</td>\n",
       "      <td>4</td>\n",
       "      <td>22</td>\n",
       "    </tr>\n",
       "    <tr>\n",
       "      <th>836480</th>\n",
       "      <td>6039</td>\n",
       "      <td>1721</td>\n",
       "      <td>5</td>\n",
       "      <td>27</td>\n",
       "    </tr>\n",
       "    <tr>\n",
       "      <th>836481</th>\n",
       "      <td>6039</td>\n",
       "      <td>588</td>\n",
       "      <td>5</td>\n",
       "      <td>33</td>\n",
       "    </tr>\n",
       "    <tr>\n",
       "      <th>836482</th>\n",
       "      <td>6039</td>\n",
       "      <td>1</td>\n",
       "      <td>4</td>\n",
       "      <td>40</td>\n",
       "    </tr>\n",
       "  </tbody>\n",
       "</table>\n",
       "</div>"
      ],
      "text/plain": [
       "        user_id  movie_id  counts  title\n",
       "836478     6039      2571       5    124\n",
       "836479     6039      1270       4     22\n",
       "836480     6039      1721       5     27\n",
       "836481     6039       588       5     33\n",
       "836482     6039         1       4     40"
      ]
     },
     "execution_count": 25,
     "metadata": {},
     "output_type": "execute_result"
    }
   ],
   "source": [
    "ratings.tail()"
   ]
  },
  {
   "cell_type": "markdown",
   "id": "f9e959a7",
   "metadata": {},
   "source": [
    "---\n",
    "### CSR matrix\n",
    "\n",
    "평가행렬의 용량을 줄여 CSR(Compressed Sparse Row) Matrix로 표현해보겠다.\n"
   ]
  },
  {
   "cell_type": "code",
   "execution_count": 26,
   "id": "987f3433",
   "metadata": {},
   "outputs": [
    {
     "data": {
      "text/plain": [
       "(6040, 3628)"
      ]
     },
     "execution_count": 26,
     "metadata": {},
     "output_type": "execute_result"
    }
   ],
   "source": [
    "from scipy.sparse import csr_matrix\n",
    "\n",
    "num_user = ratings['user_id'].nunique()\n",
    "num_movie = ratings['title'].nunique()\n",
    "\n",
    "num_user, num_movie "
   ]
  },
  {
   "cell_type": "code",
   "execution_count": 27,
   "id": "34e5f1ca",
   "metadata": {},
   "outputs": [
    {
     "data": {
      "text/plain": [
       "<6040x3628 sparse matrix of type '<class 'numpy.int64'>'\n",
       "\twith 836483 stored elements in Compressed Sparse Row format>"
      ]
     },
     "execution_count": 27,
     "metadata": {},
     "output_type": "execute_result"
    }
   ],
   "source": [
    "csr_data = csr_matrix((ratings.counts, (ratings.user_id, ratings.title)), shape= (num_user, num_movie))\n",
    "csr_data"
   ]
  },
  {
   "cell_type": "markdown",
   "id": "8d07d433",
   "metadata": {},
   "source": [
    "### 모델 학습"
   ]
  },
  {
   "cell_type": "code",
   "execution_count": 28,
   "id": "460924bd",
   "metadata": {},
   "outputs": [
    {
     "data": {
      "text/plain": [
       "<3628x6040 sparse matrix of type '<class 'numpy.int64'>'\n",
       "\twith 836483 stored elements in Compressed Sparse Column format>"
      ]
     },
     "execution_count": 28,
     "metadata": {},
     "output_type": "execute_result"
    }
   ],
   "source": [
    "from implicit.als import AlternatingLeastSquares\n",
    "import numpy as np\n",
    "\n",
    "# implicit 라이브러리에서 권장하고 있는 부분입니다. 학습 내용과는 무관합니다.\n",
    "os.environ['OPENBLAS_NUM_THREADS']='1'\n",
    "os.environ['KMP_DUPLICATE_LIB_OK']='True'\n",
    "os.environ['MKL_NUM_THREADS']='1'\n",
    "\n",
    "# als 모델은 input으로 (item X user 꼴의 matrix를 받기 때문에 Transpose해줍니다.)\n",
    "csr_data_transpose = csr_data.T\n",
    "csr_data_transpose"
   ]
  },
  {
   "cell_type": "code",
   "execution_count": 29,
   "id": "e69bde35",
   "metadata": {},
   "outputs": [
    {
     "data": {
      "application/vnd.jupyter.widget-view+json": {
       "model_id": "8be5a225023d4d0696a5a1b97b169ad7",
       "version_major": 2,
       "version_minor": 0
      },
      "text/plain": [
       "  0%|          | 0/15 [00:00<?, ?it/s]"
      ]
     },
     "metadata": {},
     "output_type": "display_data"
    }
   ],
   "source": [
    "# Implicit AlternatingLeastSquares 모델의 선언\n",
    "als_model = AlternatingLeastSquares(factors=100, regularization=0.01, use_gpu=False, iterations=15, dtype=np.float32)\n",
    "\n",
    "# 모델 훈련\n",
    "als_model.fit(csr_data_transpose)"
   ]
  },
  {
   "cell_type": "markdown",
   "id": "02327ba6",
   "metadata": {},
   "source": [
    "### 내가 선호하는 영화와 그 외의 영화에 대한 나의 선호도"
   ]
  },
  {
   "cell_type": "markdown",
   "id": "1f9d1ec0",
   "metadata": {},
   "source": [
    "마지막에 추가한 user_id [6041], 영화 titanic (1997)에 대한 벡터값들을 확인해보자"
   ]
  },
  {
   "cell_type": "code",
   "execution_count": 30,
   "id": "7d6acd54",
   "metadata": {},
   "outputs": [],
   "source": [
    "last_user, last_movie = user_to_idx[6041], movie_to_idx['titanic (1997)']\n",
    "last_user_vector, last_movie_vector = als_model.user_factors[last_user], als_model.item_factors[last_movie]"
   ]
  },
  {
   "cell_type": "code",
   "execution_count": 31,
   "id": "aa2f0c99",
   "metadata": {},
   "outputs": [
    {
     "data": {
      "text/plain": [
       "array([ 0.24484397,  0.46249685,  1.1468915 , -0.29134485,  1.1742817 ,\n",
       "        0.03438601, -0.1972549 , -0.07161164,  0.6185903 , -0.35005775,\n",
       "       -0.38343674,  0.30315423,  0.7004424 , -0.20887037, -0.3909374 ,\n",
       "       -0.46960068,  0.02499114, -1.0345329 ,  0.03395557,  0.5584285 ,\n",
       "        0.11065578, -0.07267834,  0.01613028, -0.82419544, -0.21520334,\n",
       "        0.5606965 ,  0.6962814 ,  0.33633432, -0.06738675,  0.04557437,\n",
       "        0.8387089 , -0.48120478,  0.71796805, -0.20671532, -0.05931826,\n",
       "        0.81947905,  0.6903318 ,  0.39598072, -0.7235702 ,  0.39808714,\n",
       "        0.12558448,  0.84872055,  0.05605939, -0.59351134, -0.5132527 ,\n",
       "       -0.07196011, -0.0809556 , -0.39677054, -0.13564119, -0.0426334 ,\n",
       "        0.38894355, -0.29168135,  0.60409606,  0.6589619 ,  0.2966559 ,\n",
       "        0.19747998, -0.28901032,  0.3676154 ,  0.09649532, -1.1960807 ,\n",
       "       -0.33140612,  0.70290196, -0.31153178, -0.23877503,  0.31911436,\n",
       "        0.11632042,  0.30128935,  0.26464808, -0.33675924, -0.10087533,\n",
       "       -0.14661956,  1.1506795 ,  0.55391735, -0.16077805, -0.620007  ,\n",
       "       -0.25952718, -0.48283553, -0.57425827, -0.00534703,  0.16609931,\n",
       "       -0.30225965, -0.03534177, -0.35485396,  0.60159534, -0.6681615 ,\n",
       "       -0.11152078,  0.44537333,  0.5253061 ,  0.33240357,  0.45766264,\n",
       "       -0.8855386 , -0.14849311, -0.37927282, -0.5849867 , -0.84699064,\n",
       "        0.12807943, -0.7401291 ,  0.90431535, -0.6761153 , -0.5329273 ],\n",
       "      dtype=float32)"
      ]
     },
     "execution_count": 31,
     "metadata": {},
     "output_type": "execute_result"
    }
   ],
   "source": [
    "last_user_vector"
   ]
  },
  {
   "cell_type": "code",
   "execution_count": 32,
   "id": "32187135",
   "metadata": {},
   "outputs": [
    {
     "data": {
      "text/plain": [
       "array([-0.00511587,  0.00359681,  0.01735852,  0.02585074,  0.01750193,\n",
       "       -0.00813538, -0.00460418, -0.01585675,  0.02826433,  0.00443425,\n",
       "       -0.00524436,  0.00372854,  0.02653545,  0.03402574,  0.01427155,\n",
       "       -0.02261803,  0.02559358, -0.00858785,  0.01151203,  0.04279863,\n",
       "        0.01359248,  0.004963  , -0.01246416,  0.0038523 , -0.0115181 ,\n",
       "        0.01445648, -0.02124107,  0.03110626, -0.03498765,  0.02130003,\n",
       "        0.01974922, -0.02370538,  0.06068388, -0.01026758, -0.04149495,\n",
       "        0.00799552,  0.02562861,  0.02159866, -0.01246288, -0.00049357,\n",
       "        0.04133328,  0.0411631 , -0.01441712, -0.02307348,  0.01061425,\n",
       "        0.01346766,  0.02231609,  0.00785527, -0.01916212, -0.0071184 ,\n",
       "        0.02426795, -0.02916369, -0.00902927,  0.02421284,  0.02317657,\n",
       "        0.00593532,  0.02108337,  0.02145636,  0.02688476, -0.01697322,\n",
       "        0.00880989,  0.03293643, -0.01172875, -0.02505477,  0.00930512,\n",
       "       -0.00387406,  0.0089567 , -0.00260393,  0.00721485, -0.00430338,\n",
       "        0.00549925,  0.02125057,  0.00802553, -0.0110746 , -0.03602119,\n",
       "        0.01425748, -0.00552026, -0.04547596,  0.0377255 ,  0.00796958,\n",
       "       -0.01826616,  0.00758318, -0.00858057,  0.02145336, -0.02428615,\n",
       "        0.00901884, -0.01012185,  0.04145003,  0.01648184,  0.02856351,\n",
       "       -0.05157021, -0.00477911, -0.01761346,  0.01667698, -0.01070584,\n",
       "        0.04257376, -0.0073746 ,  0.00712884, -0.00950185,  0.02984691],\n",
       "      dtype=float32)"
      ]
     },
     "execution_count": 32,
     "metadata": {},
     "output_type": "execute_result"
    }
   ],
   "source": [
    "last_movie_vector"
   ]
  },
  {
   "cell_type": "code",
   "execution_count": 33,
   "id": "ebc75bbf",
   "metadata": {},
   "outputs": [
    {
     "data": {
      "text/plain": [
       "0.5786633"
      ]
     },
     "execution_count": 33,
     "metadata": {},
     "output_type": "execute_result"
    }
   ],
   "source": [
    "# last_user_vector과 last_movie_vector를 내적하는 코드\n",
    "np.dot(last_user_vector, last_movie_vector)"
   ]
  },
  {
   "cell_type": "markdown",
   "id": "1685ca36",
   "metadata": {},
   "source": [
    "0.57점이 나왔다. 0.5 이상의 값이므로 약간 선호하는 것으로 판단할수 있겠다.\n",
    "\n",
    "user_id [6041] 가 재생해보지 않은 영화로 sophie's choice (1982)에 대한 벡터값도 확인해보자  "
   ]
  },
  {
   "cell_type": "code",
   "execution_count": 34,
   "id": "02cc802a",
   "metadata": {},
   "outputs": [
    {
     "data": {
      "text/plain": [
       "0.012965114"
      ]
     },
     "execution_count": 34,
     "metadata": {},
     "output_type": "execute_result"
    }
   ],
   "source": [
    "last_user, last_movie = user_to_idx[6041], movie_to_idx['crying game, the (1992)']\n",
    "last_user_vector, last_movie_vector = als_model.user_factors[last_user], als_model.item_factors[last_movie]\n",
    "# last_user_vector과 last_movie_vector를 내적하는 코드\n",
    "np.dot(last_user_vector, last_movie_vector)"
   ]
  },
  {
   "cell_type": "markdown",
   "id": "4b85f2d1",
   "metadata": {},
   "source": [
    "0.01 로 아주 낮은 값이 나왔다. 짧은 훈련으로 선호도를 잘파악하고있는 것 같다."
   ]
  },
  {
   "cell_type": "markdown",
   "id": "3c0bcf4a",
   "metadata": {},
   "source": [
    "### 내가 좋아하는 영화와 비슷한 영화 추천\n",
    "\n",
    "- similar_items : 비슷한 취향의 영화 추천됨."
   ]
  },
  {
   "cell_type": "code",
   "execution_count": 35,
   "id": "ae9b926c",
   "metadata": {
    "scrolled": false
   },
   "outputs": [
    {
     "data": {
      "text/plain": [
       "[(33, 0.9999999),\n",
       " (10, 0.85068816),\n",
       " (330, 0.782581),\n",
       " (40, 0.5809658),\n",
       " (191, 0.5730937),\n",
       " (35, 0.5703993),\n",
       " (32, 0.5422972),\n",
       " (34, 0.54016155),\n",
       " (329, 0.5137606),\n",
       " (16, 0.5136503)]"
      ]
     },
     "execution_count": 35,
     "metadata": {},
     "output_type": "execute_result"
    }
   ],
   "source": [
    "favorite_movie = 'aladdin (1992)' # 영화 Titanic\n",
    "movie_id = movie_to_idx[favorite_movie]\n",
    "similar_movie = als_model.similar_items(movie_id, N=10) #top 10\n",
    "similar_movie"
   ]
  },
  {
   "cell_type": "markdown",
   "id": "9df08ec3",
   "metadata": {},
   "source": [
    "유사도가 높은 상위 10개의 영화 인덱스가 반환되었다. 인덱스를 영화제목으로 다시 맴핑시켜서 출력해보자."
   ]
  },
  {
   "cell_type": "code",
   "execution_count": 36,
   "id": "47d9fe0d",
   "metadata": {
    "scrolled": false
   },
   "outputs": [
    {
     "data": {
      "text/plain": [
       "['aladdin (1992)',\n",
       " 'beauty and the beast (1991)',\n",
       " 'lion king, the (1994)',\n",
       " 'toy story (1995)',\n",
       " 'little mermaid, the (1989)',\n",
       " 'hunchback of notre dame, the (1996)',\n",
       " 'hercules (1997)',\n",
       " 'mulan (1998)',\n",
       " 'anastasia (1997)',\n",
       " 'tarzan (1999)']"
      ]
     },
     "execution_count": 36,
     "metadata": {},
     "output_type": "execute_result"
    }
   ],
   "source": [
    "#movie_to_idx 를 뒤집어, index로부터  영화 이름을 얻는 dict를 생성합니다. \n",
    "idx_to_movie = {v:k for k,v in movie_to_idx.items()}\n",
    "[idx_to_movie[i[0]] for i in similar_movie]"
   ]
  },
  {
   "cell_type": "markdown",
   "id": "84b05c71",
   "metadata": {},
   "source": [
    "유사도가 비슷한 애니메이션 장르의 영화들이 추천되었다."
   ]
  },
  {
   "cell_type": "code",
   "execution_count": 38,
   "id": "ca8623dc",
   "metadata": {},
   "outputs": [],
   "source": [
    "def get_similar_movie(movie_name: str, n_rank=10):\n",
    "    movie_id = movie_to_idx[movie_name]\n",
    "    similar_movie= als_model.similar_items(movie_id, N=n_rank)\n",
    "    similar_movie = [idx_to_movie[i[0]] for i in similar_movie]\n",
    "    return similar_movie"
   ]
  },
  {
   "cell_type": "code",
   "execution_count": 39,
   "id": "4f867e7d",
   "metadata": {},
   "outputs": [
    {
     "data": {
      "text/plain": [
       "['matrix, the (1999)',\n",
       " 'terminator 2: judgment day (1991)',\n",
       " 'total recall (1990)',\n",
       " 'fugitive, the (1993)',\n",
       " 'terminator, the (1984)']"
      ]
     },
     "execution_count": 39,
     "metadata": {},
     "output_type": "execute_result"
    }
   ],
   "source": [
    "get_similar_movie('matrix, the (1999)', 5)"
   ]
  },
  {
   "cell_type": "markdown",
   "id": "c4d29580",
   "metadata": {},
   "source": [
    "매트릭스에 대해서는 SF 영화들이 추천되었다. "
   ]
  },
  {
   "cell_type": "markdown",
   "id": "e9104039",
   "metadata": {},
   "source": [
    "### 내가 가장 좋아할 만한 영화 추천"
   ]
  },
  {
   "cell_type": "code",
   "execution_count": 42,
   "id": "879694df",
   "metadata": {},
   "outputs": [
    {
     "data": {
      "text/plain": [
       "[(50, 0.42061862),\n",
       " (10, 0.3992937),\n",
       " (330, 0.3887612),\n",
       " (92, 0.38033873),\n",
       " (26, 0.34800157),\n",
       " (322, 0.3153975),\n",
       " (44, 0.28108203),\n",
       " (154, 0.2779503),\n",
       " (117, 0.26549453),\n",
       " (126, 0.26437065)]"
      ]
     },
     "execution_count": 42,
     "metadata": {},
     "output_type": "execute_result"
    }
   ],
   "source": [
    "user = user_to_idx[6041]\n",
    "# recommend에서는 user*item CSR Matrix를 받습니다.\n",
    "movie_recommended = als_model.recommend(user, csr_data, N=10, filter_already_liked_items=True)\n",
    "movie_recommended"
   ]
  },
  {
   "cell_type": "code",
   "execution_count": 43,
   "id": "0b125e49",
   "metadata": {
    "scrolled": true
   },
   "outputs": [
    {
     "data": {
      "text/plain": [
       "['toy story 2 (1999)',\n",
       " 'beauty and the beast (1991)',\n",
       " 'lion king, the (1994)',\n",
       " 'terminator 2: judgment day (1991)',\n",
       " 'e.t. the extra-terrestrial (1982)',\n",
       " 'babe (1995)',\n",
       " 'star wars: episode iv - a new hope (1977)',\n",
       " 'as good as it gets (1997)',\n",
       " 'star wars: episode v - the empire strikes back (1980)',\n",
       " 'shakespeare in love (1998)']"
      ]
     },
     "execution_count": 43,
     "metadata": {},
     "output_type": "execute_result"
    }
   ],
   "source": [
    "[idx_to_movie[i[0]] for i in movie_recommended]"
   ]
  },
  {
   "cell_type": "markdown",
   "id": "7a9dfda4",
   "metadata": {},
   "source": [
    "toystory2가 추천되었다. explain함수를 이용해 나의 데이터가 이추천에 기여한 정도를 확인해보자."
   ]
  },
  {
   "cell_type": "code",
   "execution_count": 44,
   "id": "14bcf67f",
   "metadata": {
    "scrolled": true
   },
   "outputs": [
    {
     "data": {
      "text/plain": [
       "[('toy story (1995)', 0.35551162835199007),\n",
       " ('aladdin (1992)', 0.11322711914832724),\n",
       " ('back to the future (1985)', 0.010992513281940756),\n",
       " ('matrix, the (1999)', -0.024051996735718447),\n",
       " ('titanic (1997)', -0.04329900055251397)]"
      ]
     },
     "execution_count": 44,
     "metadata": {},
     "output_type": "execute_result"
    }
   ],
   "source": [
    "toystory2 = movie_to_idx['toy story 2 (1999)']\n",
    "explain = als_model.explain(user, csr_data, itemid=toystory2)\n",
    "[(idx_to_movie[i[0]], i[1]) for i in explain[1]]"
   ]
  }
 ],
 "metadata": {
  "kernelspec": {
   "display_name": "Python 3 (ipykernel)",
   "language": "python",
   "name": "python3"
  },
  "language_info": {
   "codemirror_mode": {
    "name": "ipython",
    "version": 3
   },
   "file_extension": ".py",
   "mimetype": "text/x-python",
   "name": "python",
   "nbconvert_exporter": "python",
   "pygments_lexer": "ipython3",
   "version": "3.9.7"
  }
 },
 "nbformat": 4,
 "nbformat_minor": 5
}
